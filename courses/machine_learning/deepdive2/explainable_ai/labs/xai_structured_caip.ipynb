{
 "cells": [
  {
   "cell_type": "markdown",
   "metadata": {
    "colab_type": "text",
    "deletable": true,
    "editable": true,
    "id": "mHF9VCProKJN"
   },
   "source": [
    "# AI Explanations: Explaining a tabular data model\n"
   ]
  },
  {
   "cell_type": "markdown",
   "metadata": {
    "colab_type": "text",
    "deletable": true,
    "editable": true,
    "id": "hZzRVxNtH-zG"
   },
   "source": [
    "## Overview\n",
    "\n",
    "In this tutorial we will perform the following steps:\n",
    "\n",
    "1. Build and train a Keras model.\n",
    "1. Export the Keras model as a TF 1 SavedModel and deploy the model on Cloud AI Platform.\n",
    "1. Compute explainations for our model's predictions using Explainable AI on Cloud AI Platform."
   ]
  },
  {
   "cell_type": "markdown",
   "metadata": {
    "colab_type": "text",
    "deletable": true,
    "editable": true,
    "id": "iN69d4D9Flrh"
   },
   "source": [
    "### Dataset\n",
    "\n",
    "The dataset used for this tutorial was created from a BigQuery Public Dataset: [NYC 2018 Yellow Taxi data](https://console.cloud.google.com/bigquery?filter=solution-type:dataset&q=nyc%20taxi&id=e4902dee-0577-42a0-ac7c-436c04ea50b6&subtask=details&subtaskValue=city-of-new-york%2Fnyc-tlc-trips&project=michaelabel-gcp-training&authuser=1&subtaskIndex=3). "
   ]
  },
  {
   "cell_type": "markdown",
   "metadata": {
    "colab_type": "text",
    "deletable": true,
    "editable": true,
    "id": "Su2qu-4CW-YH"
   },
   "source": [
    "### Objective\n",
    "\n",
    "The goal is to train a model using the Keras Sequential API that predicts how much a customer is compelled to pay (fares + tolls) for a taxi ride given the pickup location, dropoff location, the day of the week, and the hour of the day.\n",
    "\n",
    "This tutorial focuses more on deploying the model to AI Explanations than on the design of the model itself. We will be using preprocessed data for this lab. If you wish to know more about the data and how it was preprocessed please see this [notebook](https://github.com/GoogleCloudPlatform/training-data-analyst/blob/master/courses/machine_learning/deepdive/01_bigquery/c_extract_and_benchmark.ipynb).\n"
   ]
  },
  {
   "cell_type": "markdown",
   "metadata": {
    "colab_type": "text",
    "deletable": true,
    "editable": true,
    "id": "TSy-f05IO4LB"
   },
   "source": [
    "### Setup"
   ]
  },
  {
   "cell_type": "code",
   "execution_count": 1,
   "metadata": {
    "cellView": "both",
    "colab": {},
    "colab_type": "code",
    "deletable": true,
    "editable": true,
    "id": "4qxwBA4RM9Lu"
   },
   "outputs": [],
   "source": [
    "import os\n",
    "\n",
    "PROJECT_ID = \"dougkelly-sandbox\" # TODO: your PROJECT_ID here.\n",
    "os.environ[\"PROJECT_ID\"] = PROJECT_ID"
   ]
  },
  {
   "cell_type": "code",
   "execution_count": 5,
   "metadata": {
    "colab": {},
    "colab_type": "code",
    "deletable": true,
    "editable": true,
    "id": "bTxmbDg1I0x1"
   },
   "outputs": [],
   "source": [
    "BUCKET_NAME = \"xai-labs\" # TODO: your BUCKET_NAME here. \n",
    "REGION = \"us-central1\"\n",
    "\n",
    "os.environ['BUCKET_NAME'] = BUCKET_NAME\n",
    "os.environ['REGION'] = REGION"
   ]
  },
  {
   "cell_type": "markdown",
   "metadata": {
    "colab_type": "text",
    "deletable": true,
    "editable": true,
    "id": "fsmCk2dwJnLZ"
   },
   "source": [
    "Run the following cell to create your Cloud Storage bucket if it does not already exist."
   ]
  },
  {
   "cell_type": "code",
   "execution_count": 6,
   "metadata": {
    "colab": {},
    "colab_type": "code",
    "deletable": true,
    "editable": true,
    "id": "160PRO3aJqLD"
   },
   "outputs": [
    {
     "name": "stdout",
     "output_type": "stream",
     "text": [
      "Bucket gs://xai-labs already exists.\n"
     ]
    }
   ],
   "source": [
    "%%bash\n",
    # TODO: Flag "-d" is not supported in "gcloud storage ls". Manual review required.
    "exists=$(gcloud storage ls | grep -w gs://${BUCKET_NAME}/)\n",    "\n",
    "if [ -n \"$exists\" ]; then\n",
    "   echo -e \"Bucket gs://${BUCKET_NAME} already exists.\"\n",
    "    \n",
    "else\n",
    "   echo \"Creating a new GCS bucket.\"\n",
    "   gcloud storage buckets create --location=${REGION} gs://${BUCKET_NAME}\n",    "   echo -e \"\\nHere are your current buckets:\"\n",
    "   gcloud storage ls\n",    "fi"
   ]
  },
  {
   "cell_type": "markdown",
   "metadata": {},
   "source": [
    "#### Timestamp\n",
    "\n",
    "If you are in a live tutorial session, you might be using a shared test account or project. To avoid name collisions between users on resources created, we create a timestamp for each instance session, and append onto the name of resources which will be created in this tutorial."
   ]
  },
  {
   "cell_type": "code",
   "execution_count": 7,
   "metadata": {},
   "outputs": [],
   "source": [
    "from datetime import datetime\n",
    "\n",
    "TIMESTAMP = datetime.now().strftime(\"%Y%m%d%H%M%S\")"
   ]
  },
  {
   "cell_type": "markdown",
   "metadata": {
    "colab_type": "text",
    "id": "PyxoF-iqqD1t"
   },
   "source": [
    "### Import libraries\n",
    "\n",
    "Import the libraries for this tutorial. This tutorial has been tested with **TensorFlow versions 2.3**."
   ]
  },
  {
   "cell_type": "code",
   "execution_count": 8,
   "metadata": {
    "colab": {},
    "colab_type": "code",
    "id": "MEDlLSWK15UL"
   },
   "outputs": [
    {
     "name": "stdout",
     "output_type": "stream",
     "text": [
      "Tensorflow version 2.3.2\n",
      "Requirement already satisfied: explainable-ai-sdk in /opt/conda/lib/python3.7/site-packages (1.2.1)\n",
      "Requirement already satisfied: numpy<1.19.0 in /home/jupyter/.local/lib/python3.7/site-packages (from explainable-ai-sdk) (1.18.5)\n",
      "Requirement already satisfied: tensorflow>=1.15.0 in /opt/conda/lib/python3.7/site-packages (from explainable-ai-sdk) (2.3.2)\n",
      "Requirement already satisfied: requests>=2.24.0 in /opt/conda/lib/python3.7/site-packages (from explainable-ai-sdk) (2.25.1)\n",
      "Requirement already satisfied: google.auth>=1.14.1 in /opt/conda/lib/python3.7/site-packages (from explainable-ai-sdk) (1.28.0)\n",
      "Requirement already satisfied: matplotlib>=3.2.2 in /opt/conda/lib/python3.7/site-packages (from explainable-ai-sdk) (3.4.1)\n",
      "Requirement already satisfied: setuptools>=40.3.0 in /opt/conda/lib/python3.7/site-packages (from google.auth>=1.14.1->explainable-ai-sdk) (49.6.0.post20210108)\n",
      "Requirement already satisfied: cachetools<5.0,>=2.0.0 in /opt/conda/lib/python3.7/site-packages (from google.auth>=1.14.1->explainable-ai-sdk) (4.2.1)\n",
      "Requirement already satisfied: six>=1.9.0 in /opt/conda/lib/python3.7/site-packages (from google.auth>=1.14.1->explainable-ai-sdk) (1.15.0)\n",
      "Requirement already satisfied: pyasn1-modules>=0.2.1 in /opt/conda/lib/python3.7/site-packages (from google.auth>=1.14.1->explainable-ai-sdk) (0.2.7)\n",
      "Requirement already satisfied: rsa<5,>=3.1.4 in /opt/conda/lib/python3.7/site-packages (from google.auth>=1.14.1->explainable-ai-sdk) (4.7.2)\n",
      "Requirement already satisfied: python-dateutil>=2.7 in /opt/conda/lib/python3.7/site-packages (from matplotlib>=3.2.2->explainable-ai-sdk) (2.8.1)\n",
      "Requirement already satisfied: pyparsing>=2.2.1 in /opt/conda/lib/python3.7/site-packages (from matplotlib>=3.2.2->explainable-ai-sdk) (2.4.7)\n",
      "Requirement already satisfied: pillow>=6.2.0 in /opt/conda/lib/python3.7/site-packages (from matplotlib>=3.2.2->explainable-ai-sdk) (8.1.2)\n",
      "Requirement already satisfied: cycler>=0.10 in /opt/conda/lib/python3.7/site-packages (from matplotlib>=3.2.2->explainable-ai-sdk) (0.10.0)\n",
      "Requirement already satisfied: kiwisolver>=1.0.1 in /opt/conda/lib/python3.7/site-packages (from matplotlib>=3.2.2->explainable-ai-sdk) (1.3.1)\n",
      "Requirement already satisfied: pyasn1<0.5.0,>=0.4.6 in /opt/conda/lib/python3.7/site-packages (from pyasn1-modules>=0.2.1->google.auth>=1.14.1->explainable-ai-sdk) (0.4.8)\n",
      "Requirement already satisfied: chardet<5,>=3.0.2 in /opt/conda/lib/python3.7/site-packages (from requests>=2.24.0->explainable-ai-sdk) (4.0.0)\n",
      "Requirement already satisfied: urllib3<1.27,>=1.21.1 in /opt/conda/lib/python3.7/site-packages (from requests>=2.24.0->explainable-ai-sdk) (1.26.4)\n",
      "Requirement already satisfied: idna<3,>=2.5 in /opt/conda/lib/python3.7/site-packages (from requests>=2.24.0->explainable-ai-sdk) (2.10)\n",
      "Requirement already satisfied: certifi>=2017.4.17 in /opt/conda/lib/python3.7/site-packages (from requests>=2.24.0->explainable-ai-sdk) (2020.12.5)\n",
      "Requirement already satisfied: tensorflow-estimator<2.4.0,>=2.3.0 in /opt/conda/lib/python3.7/site-packages (from tensorflow>=1.15.0->explainable-ai-sdk) (2.3.0)\n",
      "Requirement already satisfied: protobuf>=3.9.2 in /opt/conda/lib/python3.7/site-packages (from tensorflow>=1.15.0->explainable-ai-sdk) (3.15.8)\n",
      "Requirement already satisfied: grpcio>=1.8.6 in /opt/conda/lib/python3.7/site-packages (from tensorflow>=1.15.0->explainable-ai-sdk) (1.37.0)\n",
      "Requirement already satisfied: gast==0.3.3 in /opt/conda/lib/python3.7/site-packages (from tensorflow>=1.15.0->explainable-ai-sdk) (0.3.3)\n",
      "Requirement already satisfied: keras-preprocessing<1.2,>=1.1.1 in /opt/conda/lib/python3.7/site-packages (from tensorflow>=1.15.0->explainable-ai-sdk) (1.1.2)\n",
      "Requirement already satisfied: astunparse==1.6.3 in /opt/conda/lib/python3.7/site-packages (from tensorflow>=1.15.0->explainable-ai-sdk) (1.6.3)\n",
      "Requirement already satisfied: tensorboard<3,>=2.3.0 in /opt/conda/lib/python3.7/site-packages (from tensorflow>=1.15.0->explainable-ai-sdk) (2.4.1)\n",
      "Requirement already satisfied: termcolor>=1.1.0 in /opt/conda/lib/python3.7/site-packages (from tensorflow>=1.15.0->explainable-ai-sdk) (1.1.0)\n",
      "Requirement already satisfied: absl-py>=0.7.0 in /opt/conda/lib/python3.7/site-packages (from tensorflow>=1.15.0->explainable-ai-sdk) (0.10.0)\n",
      "Requirement already satisfied: google-pasta>=0.1.8 in /opt/conda/lib/python3.7/site-packages (from tensorflow>=1.15.0->explainable-ai-sdk) (0.2.0)\n",
      "Requirement already satisfied: wrapt>=1.11.1 in /opt/conda/lib/python3.7/site-packages (from tensorflow>=1.15.0->explainable-ai-sdk) (1.12.1)\n",
      "Requirement already satisfied: wheel>=0.26 in /opt/conda/lib/python3.7/site-packages (from tensorflow>=1.15.0->explainable-ai-sdk) (0.36.2)\n",
      "Requirement already satisfied: h5py<2.11.0,>=2.10.0 in /opt/conda/lib/python3.7/site-packages (from tensorflow>=1.15.0->explainable-ai-sdk) (2.10.0)\n",
      "Requirement already satisfied: opt-einsum>=2.3.2 in /opt/conda/lib/python3.7/site-packages (from tensorflow>=1.15.0->explainable-ai-sdk) (3.3.0)\n",
      "Requirement already satisfied: tensorboard-plugin-wit>=1.6.0 in /opt/conda/lib/python3.7/site-packages (from tensorboard<3,>=2.3.0->tensorflow>=1.15.0->explainable-ai-sdk) (1.8.0)\n",
      "Requirement already satisfied: google-auth-oauthlib<0.5,>=0.4.1 in /opt/conda/lib/python3.7/site-packages (from tensorboard<3,>=2.3.0->tensorflow>=1.15.0->explainable-ai-sdk) (0.4.3)\n",
      "Requirement already satisfied: markdown>=2.6.8 in /opt/conda/lib/python3.7/site-packages (from tensorboard<3,>=2.3.0->tensorflow>=1.15.0->explainable-ai-sdk) (3.3.4)\n",
      "Requirement already satisfied: werkzeug>=0.11.15 in /opt/conda/lib/python3.7/site-packages (from tensorboard<3,>=2.3.0->tensorflow>=1.15.0->explainable-ai-sdk) (1.0.1)\n",
      "Requirement already satisfied: requests-oauthlib>=0.7.0 in /opt/conda/lib/python3.7/site-packages (from google-auth-oauthlib<0.5,>=0.4.1->tensorboard<3,>=2.3.0->tensorflow>=1.15.0->explainable-ai-sdk) (1.3.0)\n",
      "Requirement already satisfied: importlib-metadata in /opt/conda/lib/python3.7/site-packages (from markdown>=2.6.8->tensorboard<3,>=2.3.0->tensorflow>=1.15.0->explainable-ai-sdk) (3.10.1)\n",
      "Requirement already satisfied: oauthlib>=3.0.0 in /opt/conda/lib/python3.7/site-packages (from requests-oauthlib>=0.7.0->google-auth-oauthlib<0.5,>=0.4.1->tensorboard<3,>=2.3.0->tensorflow>=1.15.0->explainable-ai-sdk) (3.0.1)\n",
      "Requirement already satisfied: zipp>=0.5 in /opt/conda/lib/python3.7/site-packages (from importlib-metadata->markdown>=2.6.8->tensorboard<3,>=2.3.0->tensorflow>=1.15.0->explainable-ai-sdk) (3.4.1)\n",
      "Requirement already satisfied: typing-extensions>=3.6.4 in /opt/conda/lib/python3.7/site-packages (from importlib-metadata->markdown>=2.6.8->tensorboard<3,>=2.3.0->tensorflow>=1.15.0->explainable-ai-sdk) (3.7.4.3)\n"
     ]
    }
   ],
   "source": [
    "import tensorflow as tf\n",
    "import pandas as pd\n",
    "\n",
    "# should be >= 2.1\n",
    "print(\"Tensorflow version \" + tf.__version__)\n",
    "if tf.__version__ < \"2.1\":\n",
    "    raise Exception(\"TF 2.1 or greater is required\")\n",
    "\n",
    "!pip install explainable-ai-sdk\n",
    "import explainable_ai_sdk"
   ]
  },
  {
   "cell_type": "markdown",
   "metadata": {
    "colab_type": "text",
    "deletable": true,
    "editable": true,
    "id": "aRVMEU2Qshm4"
   },
   "source": [
    "## Download and preprocess the data\n",
    "\n",
    "In this section you'll download the data to train your model from a public GCS bucket. The original data is from the BigQuery datasets linked above. For your convenience, we've joined the London bike and NOAA weather tables, done some preprocessing, and provided a subset of that dataset here.\n"
   ]
  },
  {
   "cell_type": "code",
   "execution_count": 9,
   "metadata": {
    "colab": {},
    "colab_type": "code",
    "id": "v7HLNsvekxvz"
   },
   "outputs": [
    {
     "name": "stdout",
     "output_type": "stream",
     "text": [
      "Copying gs://explanations_sample_data/bike-data.csv...\n",
      "| [1 files][265.3 MiB/265.3 MiB]                                                \n",
      "Operation completed over 1 objects/265.3 MiB.                                    \n"
     ]
    }
   ],
   "source": [
    "# Copy the data to your notebook instance\n",
    "! gcloud storage cp 'gs://explanations_sample_data/bike-data.csv' ./"   ]
  },
  {
   "cell_type": "markdown",
   "metadata": {
    "colab_type": "text",
    "deletable": true,
    "editable": true,
    "id": "8zr6lj66UlMn"
   },
   "source": [
    "### Read the data with Pandas\n",
    "\n",
    "You'll use Pandas to read the data into a `DataFrame` and then do some additional pre-processing."
   ]
  },
  {
   "cell_type": "code",
   "execution_count": 10,
   "metadata": {
    "colab": {},
    "colab_type": "code",
    "deletable": true,
    "editable": true,
    "id": "Icz22E69smnD"
   },
   "outputs": [],
   "source": [
    "data = pd.read_csv('bike-data.csv')\n",
    "\n",
    "# Shuffle the data\n",
    "data = data.sample(frac=1, random_state=2)\n",
    "\n",
    "# Drop rows with null values\n",
    "data = data[data['wdsp'] != 999.9]\n",
    "data = data[data['dewp'] != 9999.9]\n",
    "\n",
    "# Rename some columns for readability\n",
    "data = data.rename(columns={'day_of_week': 'weekday'})\n",
    "data = data.rename(columns={'max': 'max_temp'})\n",
    "data = data.rename(columns={'dewp': 'dew_point'})\n",
    "\n",
    "# Drop columns you won't use to train this model\n",
    "data = data.drop(columns=['start_station_name', 'end_station_name', 'bike_id', 'snow_ice_pellets'])\n",
    "\n",
    "# Convert trip duration from seconds to minutes so it's easier to understand\n",
    "data['duration'] = data['duration'].apply(lambda x: float(x / 60))"
   ]
  },
  {
   "cell_type": "code",
   "execution_count": 11,
   "metadata": {
    "colab": {},
    "colab_type": "code",
    "id": "vxZryg4xmdy0"
   },
   "outputs": [
    {
     "data": {
      "text/html": [
       "<div>\n",
       "<style scoped>\n",
       "    .dataframe tbody tr th:only-of-type {\n",
       "        vertical-align: middle;\n",
       "    }\n",
       "\n",
       "    .dataframe tbody tr th {\n",
       "        vertical-align: top;\n",
       "    }\n",
       "\n",
       "    .dataframe thead th {\n",
       "        text-align: right;\n",
       "    }\n",
       "</style>\n",
       "<table border=\"1\" class=\"dataframe\">\n",
       "  <thead>\n",
       "    <tr style=\"text-align: right;\">\n",
       "      <th></th>\n",
       "      <th>start_hr</th>\n",
       "      <th>weekday</th>\n",
       "      <th>euclidean</th>\n",
       "      <th>temp</th>\n",
       "      <th>dew_point</th>\n",
       "      <th>wdsp</th>\n",
       "      <th>max_temp</th>\n",
       "      <th>fog</th>\n",
       "      <th>prcp</th>\n",
       "      <th>rain_drizzle</th>\n",
       "      <th>duration</th>\n",
       "    </tr>\n",
       "  </thead>\n",
       "  <tbody>\n",
       "    <tr>\n",
       "      <th>1559391</th>\n",
       "      <td>21</td>\n",
       "      <td>4</td>\n",
       "      <td>582.724880</td>\n",
       "      <td>54.7</td>\n",
       "      <td>46.2</td>\n",
       "      <td>0.0</td>\n",
       "      <td>56.3</td>\n",
       "      <td>0</td>\n",
       "      <td>0.00</td>\n",
       "      <td>0</td>\n",
       "      <td>22.0</td>\n",
       "    </tr>\n",
       "    <tr>\n",
       "      <th>1881386</th>\n",
       "      <td>16</td>\n",
       "      <td>2</td>\n",
       "      <td>2358.922742</td>\n",
       "      <td>57.1</td>\n",
       "      <td>48.2</td>\n",
       "      <td>0.0</td>\n",
       "      <td>64.9</td>\n",
       "      <td>0</td>\n",
       "      <td>0.00</td>\n",
       "      <td>0</td>\n",
       "      <td>12.0</td>\n",
       "    </tr>\n",
       "    <tr>\n",
       "      <th>703461</th>\n",
       "      <td>23</td>\n",
       "      <td>1</td>\n",
       "      <td>766.066253</td>\n",
       "      <td>69.2</td>\n",
       "      <td>51.6</td>\n",
       "      <td>0.0</td>\n",
       "      <td>80.4</td>\n",
       "      <td>0</td>\n",
       "      <td>0.00</td>\n",
       "      <td>0</td>\n",
       "      <td>12.0</td>\n",
       "    </tr>\n",
       "    <tr>\n",
       "      <th>1688076</th>\n",
       "      <td>9</td>\n",
       "      <td>5</td>\n",
       "      <td>2271.877229</td>\n",
       "      <td>52.5</td>\n",
       "      <td>45.4</td>\n",
       "      <td>0.0</td>\n",
       "      <td>63.3</td>\n",
       "      <td>0</td>\n",
       "      <td>0.02</td>\n",
       "      <td>0</td>\n",
       "      <td>13.0</td>\n",
       "    </tr>\n",
       "    <tr>\n",
       "      <th>2079007</th>\n",
       "      <td>14</td>\n",
       "      <td>7</td>\n",
       "      <td>2476.718116</td>\n",
       "      <td>50.3</td>\n",
       "      <td>43.5</td>\n",
       "      <td>0.0</td>\n",
       "      <td>56.1</td>\n",
       "      <td>0</td>\n",
       "      <td>0.01</td>\n",
       "      <td>0</td>\n",
       "      <td>28.0</td>\n",
       "    </tr>\n",
       "  </tbody>\n",
       "</table>\n",
       "</div>"
      ],
      "text/plain": [
       "         start_hr  weekday    euclidean  temp  dew_point  wdsp  max_temp  fog  \\\n",
       "1559391        21        4   582.724880  54.7       46.2   0.0      56.3    0   \n",
       "1881386        16        2  2358.922742  57.1       48.2   0.0      64.9    0   \n",
       "703461         23        1   766.066253  69.2       51.6   0.0      80.4    0   \n",
       "1688076         9        5  2271.877229  52.5       45.4   0.0      63.3    0   \n",
       "2079007        14        7  2476.718116  50.3       43.5   0.0      56.1    0   \n",
       "\n",
       "         prcp  rain_drizzle  duration  \n",
       "1559391  0.00             0      22.0  \n",
       "1881386  0.00             0      12.0  \n",
       "703461   0.00             0      12.0  \n",
       "1688076  0.02             0      13.0  \n",
       "2079007  0.01             0      28.0  "
      ]
     },
     "execution_count": 11,
     "metadata": {},
     "output_type": "execute_result"
    }
   ],
   "source": [
    "# Preview the first 5 rows of training data\n",
    "data.head()"
   ]
  },
  {
   "cell_type": "markdown",
   "metadata": {},
   "source": [
    "Next, you will separate the data into features ('data') and labels ('labels')."
   ]
  },
  {
   "cell_type": "code",
   "execution_count": 12,
   "metadata": {},
   "outputs": [],
   "source": [
    "# Save duration to its own DataFrame and remove it from the original DataFrame\n",
    "labels = data['duration']\n",
    "data = data.drop(columns=['duration'])"
   ]
  },
  {
   "cell_type": "markdown",
   "metadata": {},
   "source": [
    "### Split data into train and test sets\n",
    "\n",
    "You'll split your data into train and test sets using an 80 / 20 train / test split."
   ]
  },
  {
   "cell_type": "code",
   "execution_count": 13,
   "metadata": {},
   "outputs": [
    {
     "name": "stdout",
     "output_type": "stream",
     "text": [
      "Train size: 757363\n",
      "Test size: 189341\n"
     ]
    }
   ],
   "source": [
    "# Use 80/20 train/test split\n",
    "train_size = int(len(data) * .8)\n",
    "print(\"Train size: %d\" % train_size)\n",
    "print(\"Test size: %d\" % (len(data) - train_size))\n",
    "\n",
    "# Split your data into train and test sets\n",
    "train_data = data[:train_size]\n",
    "train_labels = labels[:train_size]\n",
    "\n",
    "test_data = data[train_size:]\n",
    "test_labels = labels[train_size:]"
   ]
  },
  {
   "cell_type": "markdown",
   "metadata": {
    "colab_type": "text",
    "id": "kV_NEAQwwH0e"
   },
   "source": [
    "## Build, train, and evaluate our model with Keras \n",
    "\n",
    "This section shows how to build, train, evaluate, and get local predictions from a model by using the Keras [Sequential API](https://www.tensorflow.org/guide/keras/sequential_model). The model will takes your 10 features as input and predict the trip duration in minutes."
   ]
  },
  {
   "cell_type": "code",
   "execution_count": 14,
   "metadata": {
    "colab": {},
    "colab_type": "code",
    "id": "HCQFzd_YdwLX"
   },
   "outputs": [],
   "source": [
    "# Build your model\n",
    "model = tf.keras.Sequential(name=\"bike_predict\")\n",
    "model.add(tf.keras.layers.Dense(64, input_dim=len(train_data.iloc[0]), activation='relu'))\n",
    "model.add(tf.keras.layers.Dense(32, activation='relu'))\n",
    "model.add(tf.keras.layers.Dense(1))"
   ]
  },
  {
   "cell_type": "code",
   "execution_count": 15,
   "metadata": {
    "colab": {},
    "colab_type": "code",
    "id": "UvAcjSUcs_l7"
   },
   "outputs": [
    {
     "name": "stdout",
     "output_type": "stream",
     "text": [
      "Model: \"bike_predict\"\n",
      "_________________________________________________________________\n",
      "Layer (type)                 Output Shape              Param #   \n",
      "=================================================================\n",
      "dense (Dense)                (None, 64)                704       \n",
      "_________________________________________________________________\n",
      "dense_1 (Dense)              (None, 32)                2080      \n",
      "_________________________________________________________________\n",
      "dense_2 (Dense)              (None, 1)                 33        \n",
      "=================================================================\n",
      "Total params: 2,817\n",
      "Trainable params: 2,817\n",
      "Non-trainable params: 0\n",
      "_________________________________________________________________\n"
     ]
    }
   ],
   "source": [
    "# Compile the model and see a summary\n",
    "optimizer = tf.keras.optimizers.Adam(0.001)\n",
    "model.compile(loss='mean_squared_logarithmic_error', optimizer=optimizer)\n",
    "model.summary()"
   ]
  },
  {
   "cell_type": "markdown",
   "metadata": {
    "colab_type": "text",
    "id": "GcOkuHPVwjiM"
   },
   "source": [
    "### Create an input data pipeline with tf.data\n",
    "\n",
    "Per best practices, we will use `tf.Data` to create our input data pipeline. Our data is all in an in-memory dataframe, so we will use `tf.data.Dataset.from_tensor_slices` to create our pipeline."
   ]
  },
  {
   "cell_type": "code",
   "execution_count": 16,
   "metadata": {
    "colab": {},
    "colab_type": "code",
    "id": "ZUu9wFklwmm6"
   },
   "outputs": [],
   "source": [
    "batch_size = 256\n",
    "epochs = 3\n",
    "\n",
    "input_train = tf.data.Dataset.from_tensor_slices(train_data)\n",
    "output_train = tf.data.Dataset.from_tensor_slices(train_labels)\n",
    "input_train = input_train.batch(batch_size).repeat()\n",
    "output_train = output_train.batch(batch_size).repeat()\n",
    "train_dataset = tf.data.Dataset.zip((input_train, output_train))"
   ]
  },
  {
   "cell_type": "markdown",
   "metadata": {
    "colab_type": "text",
    "id": "l98aRzfPwo5e"
   },
   "source": [
    "### Train the model\n",
    "\n",
    "Now we train the model. We will specify a number of epochs which to train the model and tell the model how many steps to expect per epoch."
   ]
  },
  {
   "cell_type": "code",
   "execution_count": 17,
   "metadata": {
    "colab": {},
    "colab_type": "code",
    "id": "h1x_8CR0wtRs"
   },
   "outputs": [
    {
     "name": "stdout",
     "output_type": "stream",
     "text": [
      "Epoch 1/3\n",
      "2958/2958 [==============================] - 8s 3ms/step - loss: 1.1347\n",
      "Epoch 2/3\n",
      "2958/2958 [==============================] - 8s 3ms/step - loss: 0.7168\n",
      "Epoch 3/3\n",
      "2958/2958 [==============================] - 8s 3ms/step - loss: 0.3618\n"
     ]
    },
    {
     "data": {
      "text/plain": [
       "<tensorflow.python.keras.callbacks.History at 0x7f799f1fa2d0>"
      ]
     },
     "execution_count": 17,
     "metadata": {},
     "output_type": "execute_result"
    }
   ],
   "source": [
    "# This will take about a minute to run\n",
    "# To keep training time short, you're not using the full dataset\n",
    "model.fit(train_dataset, steps_per_epoch=train_size // batch_size, epochs=epochs)"
   ]
  },
  {
   "cell_type": "markdown",
   "metadata": {},
   "source": [
    "### Evaluate the trained model locally"
   ]
  },
  {
   "cell_type": "code",
   "execution_count": 18,
   "metadata": {},
   "outputs": [
    {
     "name": "stdout",
     "output_type": "stream",
     "text": [
      "5917/5917 [==============================] - 10s 2ms/step - loss: 0.3506\n",
      "0.35064929723739624\n"
     ]
    }
   ],
   "source": [
    "# Run evaluation\n",
    "results = model.evaluate(test_data, test_labels)\n",
    "print(results)"
   ]
  },
  {
   "cell_type": "code",
   "execution_count": 19,
   "metadata": {
    "colab": {},
    "colab_type": "code",
    "id": "bIh6uds2x2tr"
   },
   "outputs": [],
   "source": [
    "# Send test instances to model for prediction\n",
    "predict = model.predict(test_data[:5])"
   ]
  },
  {
   "cell_type": "code",
   "execution_count": 20,
   "metadata": {},
   "outputs": [
    {
     "name": "stdout",
     "output_type": "stream",
     "text": [
      "Predicted duration: 16.0\n",
      "Actual duration: 22.0 \n",
      "\n",
      "Predicted duration: 24.0\n",
      "Actual duration: 31.0 \n",
      "\n",
      "Predicted duration: 24.0\n",
      "Actual duration: 23.0 \n",
      "\n",
      "Predicted duration: 15.0\n",
      "Actual duration: 14.0 \n",
      "\n",
      "Predicted duration: 11.0\n",
      "Actual duration: 9.0 \n",
      "\n"
     ]
    }
   ],
   "source": [
    "# Preview predictions on the first 5 examples from your test dataset\n",
    "for i, val in enumerate(predict):\n",
    "    print('Predicted duration: {}'.format(round(val[0])))\n",
    "    print('Actual duration: {} \\n'.format(test_labels.iloc[i]))"
   ]
  },
  {
   "cell_type": "markdown",
   "metadata": {
    "colab_type": "text",
    "deletable": true,
    "editable": true,
    "id": "gAO6-zv6osJ8"
   },
   "source": [
    "## Export the model as a TF 2.x SavedModel\n",
    "\n",
    "When using TensorFlow 2.x, you export the model as a `SavedModel` and load it into Cloud Storage. "
   ]
  },
  {
   "cell_type": "code",
   "execution_count": 21,
   "metadata": {
    "colab": {},
    "colab_type": "code",
    "id": "fbvzBm1lji7b"
   },
   "outputs": [
    {
     "name": "stdout",
     "output_type": "stream",
     "text": [
      "WARNING:tensorflow:From /opt/conda/lib/python3.7/site-packages/tensorflow/python/training/tracking/tracking.py:111: Model.state_updates (from tensorflow.python.keras.engine.training) is deprecated and will be removed in a future version.\n",
      "Instructions for updating:\n",
      "This property should not be used in TensorFlow 2.0, as updates are applied automatically.\n",
      "WARNING:tensorflow:From /opt/conda/lib/python3.7/site-packages/tensorflow/python/training/tracking/tracking.py:111: Layer.updates (from tensorflow.python.keras.engine.base_layer) is deprecated and will be removed in a future version.\n",
      "Instructions for updating:\n",
      "This property should not be used in TensorFlow 2.0, as updates are applied automatically.\n",
      "INFO:tensorflow:Assets written to: gs://xai-labs/explanations/mymodel/assets\n",
      "gs://xai-labs/explanations/mymodel\n"
     ]
    }
   ],
   "source": [
    "export_path = 'gs://' + BUCKET_NAME + '/explanations/mymodel'\n",
    "model.save(export_path)\n",
    "print(export_path)"
   ]
  },
  {
   "cell_type": "markdown",
   "metadata": {
    "colab_type": "text",
    "id": "-f8elyM8KMNX"
   },
   "source": [
    "Use TensorFlow's `saved_model_cli` to inspect the model's SignatureDef. We'll use this information when we deploy our model to AI Explanations in the next section."
   ]
  },
  {
   "cell_type": "code",
   "execution_count": 22,
   "metadata": {
    "colab": {},
    "colab_type": "code",
    "id": "yFg5r-7s1BKr"
   },
   "outputs": [
    {
     "name": "stdout",
     "output_type": "stream",
     "text": [
      "2021-05-02 20:56:21.526380: I tensorflow/stream_executor/platform/default/dso_loader.cc:48] Successfully opened dynamic library libcudart.so.11.0\n",
      "\n",
      "MetaGraphDef with tag-set: 'serve' contains the following SignatureDefs:\n",
      "\n",
      "signature_def['__saved_model_init_op']:\n",
      "  The given SavedModel SignatureDef contains the following input(s):\n",
      "  The given SavedModel SignatureDef contains the following output(s):\n",
      "    outputs['__saved_model_init_op'] tensor_info:\n",
      "        dtype: DT_INVALID\n",
      "        shape: unknown_rank\n",
      "        name: NoOp\n",
      "  Method name is: \n",
      "\n",
      "signature_def['serving_default']:\n",
      "  The given SavedModel SignatureDef contains the following input(s):\n",
      "    inputs['dense_input'] tensor_info:\n",
      "        dtype: DT_FLOAT\n",
      "        shape: (-1, 10)\n",
      "        name: serving_default_dense_input:0\n",
      "  The given SavedModel SignatureDef contains the following output(s):\n",
      "    outputs['dense_2'] tensor_info:\n",
      "        dtype: DT_FLOAT\n",
      "        shape: (-1, 1)\n",
      "        name: StatefulPartitionedCall:0\n",
      "  Method name is: tensorflow/serving/predict\n",
      "\n",
      "Defined Functions:\n",
      "  Function Name: '__call__'\n",
      "    Option #1\n",
      "      Callable with:\n",
      "        Argument #1\n",
      "          dense_input: TensorSpec(shape=(None, 10), dtype=tf.float32, name='dense_input')\n",
      "        Argument #2\n",
      "          DType: bool\n",
      "          Value: False\n",
      "        Argument #3\n",
      "          DType: NoneType\n",
      "          Value: None\n",
      "    Option #2\n",
      "      Callable with:\n",
      "        Argument #1\n",
      "          inputs: TensorSpec(shape=(None, 10), dtype=tf.float32, name='inputs')\n",
      "        Argument #2\n",
      "          DType: bool\n",
      "          Value: False\n",
      "        Argument #3\n",
      "          DType: NoneType\n",
      "          Value: None\n",
      "    Option #3\n",
      "      Callable with:\n",
      "        Argument #1\n",
      "          dense_input: TensorSpec(shape=(None, 10), dtype=tf.float32, name='dense_input')\n",
      "        Argument #2\n",
      "          DType: bool\n",
      "          Value: True\n",
      "        Argument #3\n",
      "          DType: NoneType\n",
      "          Value: None\n",
      "    Option #4\n",
      "      Callable with:\n",
      "        Argument #1\n",
      "          inputs: TensorSpec(shape=(None, 10), dtype=tf.float32, name='inputs')\n",
      "        Argument #2\n",
      "          DType: bool\n",
      "          Value: True\n",
      "        Argument #3\n",
      "          DType: NoneType\n",
      "          Value: None\n",
      "\n",
      "  Function Name: '_default_save_signature'\n",
      "    Option #1\n",
      "      Callable with:\n",
      "        Argument #1\n",
      "          dense_input: TensorSpec(shape=(None, 10), dtype=tf.float32, name='dense_input')\n",
      "\n",
      "  Function Name: 'call_and_return_all_conditional_losses'\n",
      "    Option #1\n",
      "      Callable with:\n",
      "        Argument #1\n",
      "          dense_input: TensorSpec(shape=(None, 10), dtype=tf.float32, name='dense_input')\n",
      "        Argument #2\n",
      "          DType: bool\n",
      "          Value: False\n",
      "        Argument #3\n",
      "          DType: NoneType\n",
      "          Value: None\n",
      "    Option #2\n",
      "      Callable with:\n",
      "        Argument #1\n",
      "          dense_input: TensorSpec(shape=(None, 10), dtype=tf.float32, name='dense_input')\n",
      "        Argument #2\n",
      "          DType: bool\n",
      "          Value: True\n",
      "        Argument #3\n",
      "          DType: NoneType\n",
      "          Value: None\n",
      "    Option #3\n",
      "      Callable with:\n",
      "        Argument #1\n",
      "          inputs: TensorSpec(shape=(None, 10), dtype=tf.float32, name='inputs')\n",
      "        Argument #2\n",
      "          DType: bool\n",
      "          Value: False\n",
      "        Argument #3\n",
      "          DType: NoneType\n",
      "          Value: None\n",
      "    Option #4\n",
      "      Callable with:\n",
      "        Argument #1\n",
      "          inputs: TensorSpec(shape=(None, 10), dtype=tf.float32, name='inputs')\n",
      "        Argument #2\n",
      "          DType: bool\n",
      "          Value: True\n",
      "        Argument #3\n",
      "          DType: NoneType\n",
      "          Value: None\n"
     ]
    }
   ],
   "source": [
    "! saved_model_cli show --dir $export_path --all"
   ]
  },
  {
   "cell_type": "markdown",
   "metadata": {
    "colab_type": "text",
    "id": "y270ZNinycoy"
   },
   "source": [
    "## Deploy the model to AI Explanations\n",
    "\n",
    "In order to deploy the model to Explanations, you need to generate an `explanations_metadata.json` file and upload this to the Cloud Storage bucket with your SavedModel. Then you'll deploy the model using `gcloud`."
   ]
  },
  {
   "cell_type": "markdown",
   "metadata": {
    "colab_type": "text",
    "id": "cUdUVjjGbvQy"
   },
   "source": [
    "### Prepare explanation metadata\n",
    "\n",
    "In order to deploy this model to AI Explanations, you need to create an explanation_metadata.json file with information about your model inputs, outputs, and baseline. You can use the [Explainable AI SDK](https://pypi.org/project/explainable-ai-sdk/) to generate most of the fields. \n",
    "\n",
    "The value for `input_baselines` tells the explanations service what the baseline input should be for your model. Here you're using the median for all of your input features. That means the baseline prediction for this model will be the trip duration your model predicts for the median of each feature in your dataset. \n",
    "\n",
    "Since this model accepts a single numpy array with all numerical feature, you can optionally pass an `index_feature_mapping` list to AI Explanations to make the API response easier to parse. When you provide a list of feature names via this parameter, the service will return a key / value mapping of each feature with its corresponding attribution value."
   ]
  },
  {
   "cell_type": "code",
   "execution_count": 23,
   "metadata": {
    "colab": {},
    "colab_type": "code",
    "id": "UolAW3lcVTGl"
   },
   "outputs": [
    {
     "name": "stdout",
     "output_type": "stream",
     "text": [
      "Model input tensor:  dense_input:0\n",
      "Model output tensor:  dense_2/BiasAdd:0\n"
     ]
    }
   ],
   "source": [
    "# Print the names of your tensors\n",
    "print('Model input tensor: ', model.input.name)\n",
    "print('Model output tensor: ', model.output.name)"
   ]
  },
  {
   "cell_type": "code",
   "execution_count": 24,
   "metadata": {
    "colab": {},
    "colab_type": "code",
    "id": "qpZiW9Cq6IY4"
   },
   "outputs": [],
   "source": [
    "from explainable_ai_sdk.metadata.tf.v2 import SavedModelMetadataBuilder\n",
    "builder = SavedModelMetadataBuilder(export_path)\n",
    "builder.set_numeric_metadata(\n",
    "    model.input.name.split(':')[0],\n",
    "    input_baselines=[train_data.median().values.tolist()],\n",
    "    index_feature_mapping=train_data.columns.tolist()\n",
    ")\n",
    "builder.save_metadata(export_path)"
   ]
  },
  {
   "cell_type": "markdown",
   "metadata": {
    "colab_type": "text",
    "id": "rT3iG5pDdrHi"
   },
   "source": [
    "Since this is a regression model (predicting a numerical value), the baseline prediction will be the same for every example we send to the model. If this were instead a classification model, each class would have a different baseline prediction."
   ]
  },
  {
   "cell_type": "markdown",
   "metadata": {
    "colab_type": "text",
    "id": "J6MKKy6Xb2MT"
   },
   "source": [
    "### Create the model"
   ]
  },
  {
   "cell_type": "code",
   "execution_count": 25,
   "metadata": {},
   "outputs": [],
   "source": [
    "import datetime\n",
    "MODEL = 'bike' + datetime.datetime.now().strftime(\"%d%m%Y%H%M%S\")"
   ]
  },
  {
   "cell_type": "code",
   "execution_count": 26,
   "metadata": {},
   "outputs": [
    {
     "name": "stdout",
     "output_type": "stream",
     "text": [
      "Using endpoint [https://us-central1-ml.googleapis.com/]\n",
      "Created ai platform model [projects/dougkelly-sandbox/models/bike02052021205921].\n"
     ]
    }
   ],
   "source": [
    "# Create the model if it doesn't exist yet (you only need to run this once)\n",
    "! gcloud ai-platform models create $MODEL --enable-logging --region=$REGION"
   ]
  },
  {
   "cell_type": "markdown",
   "metadata": {},
   "source": [
    "### Create the model version \n",
    "\n",
    "Creating the version will take ~5-10 minutes. Note that your first deploy could take longer."
   ]
  },
  {
   "cell_type": "code",
   "execution_count": 27,
   "metadata": {
    "colab": {},
    "colab_type": "code",
    "id": "S2OaOycmb4o0"
   },
   "outputs": [],
   "source": [
    "# Each time you create a version the name should be unique\n",
    "VERSION = 'v1'"
   ]
  },
  {
   "cell_type": "code",
   "execution_count": 28,
   "metadata": {
    "colab": {},
    "colab_type": "code",
    "id": "0bwCxEr5b8BP"
   },
   "outputs": [
    {
     "name": "stdout",
     "output_type": "stream",
     "text": [
      "Using endpoint [https://us-central1-ml.googleapis.com/]\n",
      "Explanations reflect patterns in your model, but don't necessarily reveal fundamental relationships about your data population. See https://cloud.google.com/ml-engine/docs/ai-explanations/limitations for more information.\n",
      "Creating version (this might take a few minutes)......done.                    \n"
     ]
    }
   ],
   "source": [
    "# Create the version with gcloud\n",
    "explain_method = 'integrated-gradients'\n",
    "! gcloud beta ai-platform versions create $VERSION \\\n",
    "--model $MODEL \\\n",
    "--origin $export_path \\\n",
    "--runtime-version 2.1 \\\n",
    "--framework TENSORFLOW \\\n",
    "--python-version 3.7 \\\n",
    "--machine-type n1-standard-4 \\\n",
    "--explanation-method $explain_method \\\n",
    "--num-integral-steps 25 \\\n",
    "--region $REGION"
   ]
  },
  {
   "cell_type": "code",
   "execution_count": 29,
   "metadata": {},
   "outputs": [
    {
     "name": "stdout",
     "output_type": "stream",
     "text": [
      "Using endpoint [https://us-central1-ml.googleapis.com/]\n",
      "createTime: '2021-05-02T21:01:01Z'\n",
      "deploymentUri: gs://xai-labs/explanations/mymodel\n",
      "etag: uWO5ariQHFM=\n",
      "explanationConfig:\n",
      "  integratedGradientsAttribution:\n",
      "    numIntegralSteps: 25\n",
      "framework: TENSORFLOW\n",
      "isDefault: true\n",
      "machineType: n1-standard-4\n",
      "name: projects/dougkelly-sandbox/models/bike02052021205921/versions/v1\n",
      "pythonVersion: '3.7'\n",
      "runtimeVersion: '2.1'\n",
      "state: READY\n"
     ]
    }
   ],
   "source": [
    "# Make sure the model deployed correctly. State should be `READY` in the following log\n",
    "! gcloud ai-platform versions describe $VERSION --model $MODEL --region $REGION"
   ]
  },
  {
   "cell_type": "markdown",
   "metadata": {
    "colab_type": "text",
    "deletable": true,
    "editable": true,
    "id": "JzevJps9IOcU"
   },
   "source": [
    "## Get predictions and explanations\n",
    "\n",
    "Now that your model is deployed, you can use the AI Platform Prediction API to get feature attributions. You'll pass it a single test example here and see which features were most important in the model's prediction. Here you'll use the [Explainable AI SDK](https://pypi.org/project/explainable-ai-sdk/) to get your prediction and explanation. You can also use `gcloud`."
   ]
  },
  {
   "cell_type": "markdown",
   "metadata": {
    "colab_type": "text",
    "id": "CJ-2ErWJDvcg"
   },
   "source": [
    "### Format your explanation request\n",
    "\n",
    "To make your AI Explanations request, you need to create a JSON object with your test data for prediction."
   ]
  },
  {
   "cell_type": "code",
   "execution_count": 34,
   "metadata": {},
   "outputs": [],
   "source": [
    "# Format data for prediction to your model\n",
    "prediction_json = {model.input.name.split(':')[0]: test_data.iloc[0].values.tolist()}"
   ]
  },
  {
   "cell_type": "markdown",
   "metadata": {},
   "source": [
    "### Send the explain request\n",
    "\n",
    "You can use the Explainable AI SDK to send explanation requests to your deployed model."
   ]
  },
  {
   "cell_type": "code",
   "execution_count": 35,
   "metadata": {
    "colab": {},
    "colab_type": "code",
    "id": "D_PR2BcHD40-"
   },
   "outputs": [],
   "source": [
    "remote_ig_model = explainable_ai_sdk.load_model_from_ai_platform(project=PROJECT_ID, \n",
    "                                                                 model=MODEL, \n",
    "                                                                 version=VERSION,\n",
    "                                                                 region=REGION)\n",
    "ig_response = remote_ig_model.explain([prediction_json])"
   ]
  },
  {
   "cell_type": "markdown",
   "metadata": {
    "colab_type": "text",
    "id": "0nKR8RelNnkK"
   },
   "source": [
    "### Understanding the explanations response\n",
    "\n",
    "First, let's look at the trip duration your model predicted and compare it to the actual value."
   ]
  },
  {
   "cell_type": "code",
   "execution_count": 36,
   "metadata": {
    "colab": {},
    "colab_type": "code",
    "id": "825KoNgHR-tv"
   },
   "outputs": [
    {
     "name": "stdout",
     "output_type": "stream",
     "text": [
      "Predicted duration: 16.26 minutes\n",
      "Actual duration: 22.0 minutes\n"
     ]
    }
   ],
   "source": [
    "attr = ig_response[0].get_attribution()\n",
    "\n",
    "predicted = round(attr.example_score, 2)\n",
    "print('Predicted duration: ' + str(predicted) + ' minutes')\n",
    "print('Actual duration: ' + str(test_labels.iloc[0]) + ' minutes')"
   ]
  },
  {
   "cell_type": "markdown",
   "metadata": {},
   "source": [
    "Next let's look at the feature attributions for this particular example. Positive attribution values mean a particular feature pushed your model prediction up by that amount, and vice versa for negative attribution values."
   ]
  },
  {
   "cell_type": "code",
   "execution_count": 37,
   "metadata": {},
   "outputs": [
    {
     "name": "stdout",
     "output_type": "stream",
     "text": [
      "Label Index 0\n",
      "Example Score: 16.2637\n",
      "Baseline Score: 12.9180\n",
      "Approximation Error: 0.0000\n"
     ]
    },
    {
     "data": {
      "image/png": "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\n",
      "text/plain": [
       "<Figure size 432x288 with 1 Axes>"
      ]
     },
     "metadata": {
      "needs_background": "light"
     },
     "output_type": "display_data"
    }
   ],
   "source": [
    "ig_response[0].visualize_attributions()"
   ]
  },
  {
   "cell_type": "markdown",
   "metadata": {},
   "source": [
    "## Check your explanations and baselines\n",
    "\n",
    "To better make sense of the feature attributions you're getting, you should compare them with your model's baseline. In most cases, the sum of your attribution values + the baseline should be very close to your model's predicted value for each input. Also note that for regression models, the `baseline_score` returned from AI Explanations will be the same for each example sent to your model. For classification models, each class will have its own baseline.\n",
    "\n",
    "In this section you'll send 10 test examples to your model for prediction in order to compare the feature attributions with the baseline. Then you'll run each test example's attributions through two sanity checks in the `sanity_check_explanations` method."
   ]
  },
  {
   "cell_type": "code",
   "execution_count": 38,
   "metadata": {},
   "outputs": [],
   "source": [
    "# Prepare 10 test examples to your model for prediction\n",
    "pred_batch = []\n",
    "for i in range(10):\n",
    "    pred_batch.append({model.input.name.split(':')[0]: test_data.iloc[i].values.tolist()})"
   ]
  },
  {
   "cell_type": "code",
   "execution_count": 39,
   "metadata": {},
   "outputs": [],
   "source": [
    "test_response = remote_ig_model.explain(pred_batch)"
   ]
  },
  {
   "cell_type": "markdown",
   "metadata": {},
   "source": [
    "In the function below you perform two sanity checks for models using Integrated Gradient (IG) explanations and one sanity check for models using Sampled Shapley."
   ]
  },
  {
   "cell_type": "code",
   "execution_count": 40,
   "metadata": {},
   "outputs": [],
   "source": [
    "def sanity_check_explanations(example, mean_tgt_value=None, variance_tgt_value=None):\n",
    "    passed_test = 0\n",
    "    total_test = 1\n",
    "    # `attributions` is a dict where keys are the feature names\n",
    "    # and values are the feature attributions for each feature\n",
    "    attr = example.get_attribution()\n",
    "    baseline_score = attr.baseline_score\n",
    "    # sum_with_baseline = np.sum(attribution_vals) + baseline_score\n",
    "    predicted_val = attr.example_score\n",
    "\n",
    "    # Sanity check 1\n",
    "    # The prediction at the input is equal to that at the baseline.\n",
    "    #  Please use a different baseline. Some suggestions are: random input, training\n",
    "    #  set mean.\n",
    "    if abs(predicted_val - baseline_score) <= 0.05:\n",
    "        print('Warning: example score and baseline score are too close.')\n",
    "        print('You might not get attributions.')\n",
    "    else:\n",
    "        passed_test += 1\n",
    "\n",
    "    # Sanity check 2 (only for models using Integrated Gradient explanations)\n",
    "    # Ideally, the sum of the integrated gradients must be equal to the difference\n",
    "    # in the prediction probability at the input and baseline. Any discrepency in\n",
    "    # these two values is due to the errors in approximating the integral.\n",
    "    if explain_method == 'integrated-gradients':\n",
    "        total_test += 1\n",
    "        want_integral = predicted_val - baseline_score\n",
    "        got_integral = sum(attr.post_processed_attributions.values())\n",
    "        if abs(want_integral - got_integral) / abs(want_integral) > 0.05:\n",
    "            print('Warning: Integral approximation error exceeds 5%.')\n",
    "            print('Please try increasing the number of integrated gradient steps.')\n",
    "        else:\n",
    "            passed_test += 1\n",
    "\n",
    "    print(passed_test, ' out of ', total_test, ' sanity checks passed.')"
   ]
  },
  {
   "cell_type": "code",
   "execution_count": 41,
   "metadata": {},
   "outputs": [
    {
     "name": "stdout",
     "output_type": "stream",
     "text": [
      "2  out of  2  sanity checks passed.\n",
      "2  out of  2  sanity checks passed.\n",
      "2  out of  2  sanity checks passed.\n",
      "2  out of  2  sanity checks passed.\n",
      "2  out of  2  sanity checks passed.\n",
      "2  out of  2  sanity checks passed.\n",
      "2  out of  2  sanity checks passed.\n",
      "2  out of  2  sanity checks passed.\n",
      "2  out of  2  sanity checks passed.\n",
      "2  out of  2  sanity checks passed.\n"
     ]
    }
   ],
   "source": [
    "for response in test_response:\n",
    "    sanity_check_explanations(response)"
   ]
  },
  {
   "cell_type": "markdown",
   "metadata": {},
   "source": [
    "## Understanding AI Explanations with the What-If Tool\n",
    "\n",
    "In this section you'll use the [What-If Tool](https://pair-code.github.io/what-if-tool/) to better understand how your model is making predictions. See the cell below the What-if Tool for visualization ideas."
   ]
  },
  {
   "cell_type": "markdown",
   "metadata": {},
   "source": [
    "The What-If-Tool expects data with keys for each feature name, but your model expects a flat list. The functions below convert data to the format required by the What-If Tool."
   ]
  },
  {
   "cell_type": "code",
   "execution_count": 42,
   "metadata": {},
   "outputs": [],
   "source": [
    "# This is the number of data points you'll send to the What-if Tool\n",
    "WHAT_IF_TOOL_SIZE = 500\n",
    "\n",
    "from witwidget.notebook.visualization import WitWidget, WitConfigBuilder\n",
    "\n",
    "\n",
    "def create_list(ex_dict):\n",
    "    new_list = []\n",
    "    for i in feature_names:\n",
    "        new_list.append(ex_dict[i])\n",
    "    return new_list\n",
    "\n",
    "\n",
    "def example_dict_to_input(example_dict):\n",
    "    return {'dense_input': create_list(example_dict)}\n",
    "\n",
    "\n",
    "from collections import OrderedDict\n",
    "wit_data = test_data.iloc[:WHAT_IF_TOOL_SIZE].copy()\n",
    "wit_data['duration'] = test_labels[:WHAT_IF_TOOL_SIZE]\n",
    "wit_data_dict = wit_data.to_dict(orient='records', into=OrderedDict)"
   ]
  },
  {
   "cell_type": "code",
   "execution_count": 43,
   "metadata": {},
   "outputs": [
    {
     "data": {
      "text/html": [
       "<style>.container { width:100% !important; }</style>"
      ],
      "text/plain": [
       "<IPython.core.display.HTML object>"
      ]
     },
     "metadata": {},
     "output_type": "display_data"
    },
    {
     "data": {
      "application/vnd.jupyter.widget-view+json": {
       "model_id": "b4d6416bce984bff90560a8907621b18",
       "version_major": 2,
       "version_minor": 0
      },
      "text/plain": [
       "WitWidget(config={'model_type': 'regression', 'label_vocab': [], 'uses_json_input': True, 'inference_address':…"
      ]
     },
     "metadata": {},
     "output_type": "display_data"
    }
   ],
   "source": [
    "config_builder = WitConfigBuilder(\n",
    "    wit_data_dict\n",
    ").set_ai_platform_model(\n",
    "    PROJECT_ID,\n",
    "    MODEL,\n",
    "    VERSION,\n",
    "    adjust_example=example_dict_to_input\n",
    ").set_target_feature('duration').set_model_type('regression')\n",
    "\n",
    "WitWidget(config_builder)"
   ]
  },
  {
   "cell_type": "markdown",
   "metadata": {},
   "source": [
    "### What-If Tool visualization ideas\n",
    "\n",
    "On the x-axis, you'll see the predicted trip duration for the test inputs you passed to the What-If Tool. Each circle represents one of your test examples. If you click on a circle, you'll be able to see the feature values for that example along with the attribution values for each feature. \n",
    "\n",
    "* You can edit individual feature values and re-run prediction directly within the What-If Tool. Try changing `distance`, click **Run inference** and see how that affects the model's prediction\n",
    "* You can sort features for an individual example by their attribution value, try changing the sort from the attributions dropdown\n",
    "* The What-If Tool also lets you create custom visualizations. You can do this by changing the values in the dropdown menus above the scatter plot visualization. For example, you can sort data points by inference error, or by their similarity to a single datapoint."
   ]
  },
  {
   "cell_type": "markdown",
   "metadata": {},
   "source": [
    "## Cleaning up\n",
    "\n",
    "To clean up all GCP resources used in this project, you can [delete the GCP\n",
    "project](https://cloud.google.com/resource-manager/docs/creating-managing-projects#shutting_down_projects) you used for the tutorial.\n",
    "\n",
    "Alternatively, you can clean up individual resources by running the following\n",
    "commands:"
   ]
  },
  {
   "cell_type": "code",
   "execution_count": null,
   "metadata": {},
   "outputs": [],
   "source": [
    "# Delete model version resource\n",
    "! gcloud ai-platform versions delete $VERSION --quiet --model $MODEL\n",
    "\n",
    "# Delete model resource\n",
    "! gcloud ai-platform models delete $MODEL --quiet\n",
    "\n",
    "# Delete Cloud Storage objects that were created\n",
    "! gcloud storage rm --recursive gs://$BUCKET_NAME"   ]
  },
  {
   "cell_type": "markdown",
   "metadata": {},
   "source": [
    "If your Cloud Storage bucket doesn't contain any other objects and you would like to delete it, run `gcloud storage rm --recursive gs://$BUCKET_NAME`."   ]
  },
  {
   "cell_type": "markdown",
   "metadata": {},
   "source": [
    "## What's next?\n",
    "\n",
    "To learn more about AI Explanations or the What-if Tool, check out the resources here.\n",
    "\n",
    "* [AI Explanations documentation](cloud.google.com/ml-engine/docs/ai-explanations)\n",
    "* [Documentation for using the What-if Tool with Cloud AI Platform models ](https://cloud.google.com/ml-engine/docs/using-what-if-tool) \n",
    "* [What-If Tool documentation and demos](https://pair-code.github.io/what-if-tool/)\n",
    "* [Integrated gradients paper](https://arxiv.org/abs/1703.01365)"
   ]
  }
 ],
 "metadata": {
  "colab": {
   "collapsed_sections": [],
   "name": "AI Explanations on CAIP ",
   "private_outputs": true,
   "provenance": []
  },
  "environment": {
   "name": "tf2-gpu.2-3.m65",
   "type": "gcloud",
   "uri": "gcr.io/deeplearning-platform-release/tf2-gpu.2-3:m65"
  },
  "kernelspec": {
   "display_name": "Python 3",
   "language": "python",
   "name": "python3"
  },
  "language_info": {
   "codemirror_mode": {
    "name": "ipython",
    "version": 3
   },
   "file_extension": ".py",
   "mimetype": "text/x-python",
   "name": "python",
   "nbconvert_exporter": "python",
   "pygments_lexer": "ipython3",
   "version": "3.7.10"
  }
 },
 "nbformat": 4,
 "nbformat_minor": 4
}

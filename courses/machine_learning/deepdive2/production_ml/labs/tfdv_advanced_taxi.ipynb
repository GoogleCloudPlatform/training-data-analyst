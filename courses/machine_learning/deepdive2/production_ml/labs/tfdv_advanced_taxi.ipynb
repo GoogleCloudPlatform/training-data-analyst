{
 "cells": [
  {
   "cell_type": "markdown",
   "metadata": {
    "id": "YuSYVbwEYNHw"
   },
   "source": [
    "# TensorFlow Data Validation (Advanced)"
   ]
  },
  {
   "cell_type": "markdown",
   "metadata": {
    "id": "mPt5BHTwy_0F"
   },
   "source": [
    "## Learning Objectives\n",
    "\n",
    "1. Install TFDV\n",
    "2. Compute and visualize statistics\n",
    "3. Infer a schema\n",
    "4. Check evaluation data for errors\n",
    "5. Check for evaluation anomalies and fix it\n",
    "6. Check for drift and skew\n",
    "7. Freeze the schema\n",
    "\n",
    "\n",
    "\n",
    "## Introduction \n",
    "\n",
    "This notebook illustrates how TensorFlow Data Validation (TFDV) can be used to investigate and visualize your dataset.  That includes looking at descriptive statistics, inferring a schema, checking for and fixing anomalies, and checking for drift and skew in our dataset.  It's important to understand your dataset's characteristics, including how it might change over time in your production pipeline.  It's also important to look for anomalies in your data, and to compare your training, evaluation, and serving datasets to make sure that they're consistent.\n",
    "\n",
    "We'll use data from the [Taxi Trips dataset](https://data.cityofchicago.org/Transportation/Taxi-Trips/wrvz-psew) released by the City of Chicago.\n",
    "\n",
    "Note: This site provides applications using data that has been modified for use from its original source, www.cityofchicago.org, the official website of the City of Chicago. The City of Chicago makes no claims as to the content, accuracy, timeliness, or completeness of any of the data provided at this site. The data provided at this site is subject to change at any time. It is understood that the data provided at this site is being used at one’s own risk.\n",
    "\n",
    "[Read more](https://cloud.google.com/bigquery/public-data/chicago-taxi) about the dataset in [Google BigQuery](https://cloud.google.com/bigquery/). Explore the full dataset in the [BigQuery UI](https://console.cloud.google.com/bigquery?p=bigquery-public-data&d=chicago_taxi_trips&page=dataset).\n",
    "\n",
    "Key Point: As a modeler and developer, think about how this data is used and the potential benefits and harm a model's predictions can cause. A model like this could reinforce societal biases and disparities. Is a feature relevant to the problem you want to solve or will it introduce bias? For more information, read about [ML fairness](https://developers.google.com/machine-learning/fairness-overview/).\n",
    "\n",
    "Each learning objective will correspond to a __#TODO__ in this student lab notebook -- try to complete this notebook first and then review the [Solution Notebook](https://github.com/GoogleCloudPlatform/training-data-analyst/blob/master/courses/machine_learning/deepdive2/production_ml/solutions/tfdv_advanced_taxi.ipynb) for reference. \n"
   ]
  },
  {
   "cell_type": "markdown",
   "metadata": {
    "id": "Fnm6Mj3vTGLm"
   },
   "source": [
    "The columns in the dataset are:\n",
    "<table>\n",
    "<tr><td>pickup_community_area</td><td>fare</td><td>trip_start_month</td></tr>\n",
    "\n",
    "<tr><td>trip_start_hour</td><td>trip_start_day</td><td>trip_start_timestamp</td></tr>\n",
    "<tr><td>pickup_latitude</td><td>pickup_longitude</td><td>dropoff_latitude</td></tr>\n",
    "<tr><td>dropoff_longitude</td><td>trip_miles</td><td>pickup_census_tract</td></tr>\n",
    "<tr><td>dropoff_census_tract</td><td>payment_type</td><td>company</td></tr>\n",
    "<tr><td>trip_seconds</td><td>dropoff_community_area</td><td>tips</td></tr>\n",
    "</table>"
   ]
  },
  {
   "cell_type": "markdown",
   "metadata": {
    "colab_type": "text",
    "id": "AsHg6SD2nO1v"
   },
   "source": [
    "### Install Libraries"
   ]
  },
  {
   "cell_type": "code",
   "execution_count": 159,
   "metadata": {},
   "outputs": [
    {
     "name": "stdout",
     "output_type": "stream",
     "text": [
      "\n"
     ]
    }
   ],
   "source": [
    "!pip install pyarrow --user\n",
    "!pip install numpy --user\n",
    "!pip install tensorflow-data-validation --user"
   ]
  },
  {
   "cell_type": "markdown",
   "metadata": {
    "colab_type": "text",
    "id": "AsHg6SD2nO1v"
   },
   "source": [
    "**Restart the kernel (Kernel > Restart kernel > Restart).**\n",
    "\n",
    "**Run the below cell and proceed further.**\n",
    "\n",
    "**Note: Please ignore any incompatibility warnings and errors.**"
   ]
  },
  {
   "cell_type": "markdown",
   "metadata": {
    "id": "4qBFH1ARcSNk"
   },
   "source": [
    "## Install TFDV\n",
    "\n",
    "This will pull in all the dependencies, which will take a minute.  Please ignore the warnings or errors regarding incompatible dependency versions.\n",
    "\n"
   ]
  },
  {
   "cell_type": "code",
   "execution_count": 19,
   "metadata": {
    "id": "hPJsE5Gkdp8m"
   },
   "outputs": [
    {
     "name": "stdout",
     "output_type": "stream",
     "text": [
      "Installing TensorFlow Data Validation\n"
     ]
    }
   ],
   "source": [
    "import pandas as pd\n",
    "import tensorflow_data_validation as tfdv\n",
    "import sys\n",
    "import warnings\n",
    "warnings.filterwarnings('ignore')\n",
    "\n",
    "print('Installing TensorFlow Data Validation')\n",
    "!pip install -q tensorflow_data_validation[visualization]"
   ]
  },
  {
   "cell_type": "markdown",
   "metadata": {
    "id": "5MizoHg1DRlK"
   },
   "source": [
    "## Load the Files\n",
    "We will download our dataset from Google Cloud Storage."
   ]
  },
  {
   "cell_type": "code",
   "execution_count": 20,
   "metadata": {
    "id": "x5gfFiTeDa6Y"
   },
   "outputs": [
    {
     "name": "stdout",
     "output_type": "stream",
     "text": [
      "Here's what we downloaded:\n",
      "/tmp/tmpgtsgp42w/data:\n",
      "eval  serving  train\n",
      "\n",
      "/tmp/tmpgtsgp42w/data/eval:\n",
      "data.csv\n",
      "\n",
      "/tmp/tmpgtsgp42w/data/serving:\n",
      "data.csv\n",
      "\n",
      "/tmp/tmpgtsgp42w/data/train:\n",
      "data.csv\n"
     ]
    }
   ],
   "source": [
    "import os\n",
    "import tempfile, urllib, zipfile\n",
    "\n",
    "# Set up some globals for our file paths\n",
    "BASE_DIR = tempfile.mkdtemp()\n",
    "DATA_DIR = os.path.join(BASE_DIR, 'data')\n",
    "OUTPUT_DIR = os.path.join(BASE_DIR, 'chicago_taxi_output')\n",
    "TRAIN_DATA = os.path.join(DATA_DIR, 'train', 'data.csv')\n",
    "EVAL_DATA = os.path.join(DATA_DIR, 'eval', 'data.csv')\n",
    "SERVING_DATA = os.path.join(DATA_DIR, 'serving', 'data.csv')\n",
    "\n",
    "# Download the zip file from GCP and unzip it\n",
    "zip, headers = urllib.request.urlretrieve('https://storage.googleapis.com/artifacts.tfx-oss-public.appspot.com/datasets/chicago_data.zip')\n",
    "zipfile.ZipFile(zip).extractall(BASE_DIR)\n",
    "zipfile.ZipFile(zip).close()\n",
    "\n",
    "print(\"Here's what we downloaded:\")\n",
    "!ls -R {os.path.join(BASE_DIR, 'data')}"
   ]
  },
  {
   "cell_type": "markdown",
   "metadata": {
    "id": "IFXK2AdpSpv0"
   },
   "source": [
    "### Check the version"
   ]
  },
  {
   "cell_type": "code",
   "execution_count": 21,
   "metadata": {
    "id": "F5rPatTDSCHB"
   },
   "outputs": [
    {
     "name": "stdout",
     "output_type": "stream",
     "text": [
      "TFDV version: 1.6.0\n"
     ]
    }
   ],
   "source": [
    "import tensorflow_data_validation as tfdv\n",
    "print('TFDV version: {}'.format(tfdv.version.__version__))"
   ]
  },
  {
   "cell_type": "markdown",
   "metadata": {
    "id": "H0sFmiTbT8-x"
   },
   "source": [
    "## Compute and visualize statistics\n",
    "\n",
    "First we'll use [`tfdv.generate_statistics_from_csv`](https://www.tensorflow.org/tfx/data_validation/api_docs/python/tfdv/generate_statistics_from_csv) to compute statistics for our training data. (ignore the snappy warnings)\n",
    "\n",
    "TFDV can compute descriptive [statistics](https://github.com/tensorflow/metadata/blob/v0.6.0/tensorflow_metadata/proto/v0/statistics.proto) that provide a quick overview of the data in terms of the features that are present and the shapes of their value distributions.\n",
    "\n",
    "Internally, TFDV uses [Apache Beam](https://beam.apache.org/)'s data-parallel processing framework to scale the computation of statistics over large datasets. For applications that wish to integrate deeper with TFDV (e.g., attach statistics generation at the end of a data-generation pipeline), the API also exposes a Beam PTransform for statistics generation."
   ]
  },
  {
   "cell_type": "code",
   "execution_count": 22,
   "metadata": {
    "id": "EE481oMbT-H0"
   },
   "outputs": [],
   "source": [
    "# Compute data statistics from CSV files.\n",
    "# TODO: Your code goes here\n"
   ]
  },
  {
   "cell_type": "markdown",
   "metadata": {
    "id": "JhXQSxJ2dB_6"
   },
   "source": [
    "Now let's use [`tfdv.visualize_statistics`](https://www.tensorflow.org/tfx/data_validation/api_docs/python/tfdv/visualize_statistics), which uses [Facets](https://pair-code.github.io/facets/) to create a succinct visualization of our training data:\n",
    "\n",
    "* Notice that numeric features and categorical features are visualized separately, and that charts are displayed showing the distributions for each feature.\n",
    "* Notice that features with missing or zero values display a percentage in red as a visual indicator that there may be issues with examples in those features.  The percentage is the percentage of examples that have missing or zero values for that feature.\n",
    "* Notice that there are no examples with values for `pickup_census_tract`.  This is an opportunity for dimensionality reduction!\n",
    "* Try clicking \"expand\" above the charts to change the display\n",
    "* Try hovering over bars in the charts to display bucket ranges and counts\n",
    "* Try switching between the log and linear scales, and notice how the log scale reveals much more detail about the `payment_type` categorical feature\n",
    "* Try selecting \"quantiles\" from the \"Chart to show\" menu, and hover over the markers to show the quantile percentages"
   ]
  },
  {
   "cell_type": "code",
   "execution_count": 23,
   "metadata": {
    "id": "U3tUKgh7Up3x"
   },
   "outputs": [
    {
     "data": {
      "text/html": [
       "<iframe id='facets-iframe' width=\"100%\" height=\"500px\"></iframe>\n",
       "        <script>\n",
       "        facets_iframe = document.getElementById('facets-iframe');\n",
       "        facets_html = '<script src=\"https://cdnjs.cloudflare.com/ajax/libs/webcomponentsjs/1.3.3/webcomponents-lite.js\"><\\/script><link rel=\"import\" href=\"https://raw.githubusercontent.com/PAIR-code/facets/master/facets-dist/facets-jupyter.html\"><facets-overview proto-input=\"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\"></facets-overview>';\n",
       "        facets_iframe.srcdoc = facets_html;\n",
       "         facets_iframe.id = \"\";\n",
       "         setTimeout(() => {\n",
       "           facets_iframe.setAttribute('height', facets_iframe.contentWindow.document.body.offsetHeight + 'px')\n",
       "         }, 1500)\n",
       "         </script>"
      ],
      "text/plain": [
       "<IPython.core.display.HTML object>"
      ]
     },
     "metadata": {},
     "output_type": "display_data"
    }
   ],
   "source": [
    "# Visualize the input statistics using Facets.\n",
    "# TODO: Your code goes here\n"
   ]
  },
  {
   "cell_type": "markdown",
   "metadata": {
    "id": "KVR02-y4V0uM"
   },
   "source": [
    "## Infer a schema\n",
    "\n",
    "Now let's use [`tfdv.infer_schema`](https://www.tensorflow.org/tfx/data_validation/api_docs/python/tfdv/infer_schema) to create a schema for our data.  A schema defines constraints for the data that are relevant for ML. Example constraints include the data type of each feature, whether it's numerical or categorical, or the frequency of its presence in the data.  For categorical features the schema also defines the domain - the list of acceptable values.  Since writing a schema can be a tedious task, especially for datasets with lots of features, TFDV provides a method to generate an initial version of the schema based on the descriptive statistics.\n",
    "\n",
    "Getting the schema right is important because the rest of our production pipeline will be relying on the schema that TFDV generates to be correct.  The schema also provides documentation for the data, and so is useful when different developers work on the same data.  Let's use [`tfdv.display_schema`](https://www.tensorflow.org/tfx/data_validation/api_docs/python/tfdv/display_schema) to display the inferred schema so that we can review it."
   ]
  },
  {
   "cell_type": "code",
   "execution_count": 24,
   "metadata": {
    "id": "6LLkRJThVr9m"
   },
   "outputs": [
    {
     "data": {
      "text/html": [
       "<div>\n",
       "<style scoped>\n",
       "    .dataframe tbody tr th:only-of-type {\n",
       "        vertical-align: middle;\n",
       "    }\n",
       "\n",
       "    .dataframe tbody tr th {\n",
       "        vertical-align: top;\n",
       "    }\n",
       "\n",
       "    .dataframe thead th {\n",
       "        text-align: right;\n",
       "    }\n",
       "</style>\n",
       "<table border=\"1\" class=\"dataframe\">\n",
       "  <thead>\n",
       "    <tr style=\"text-align: right;\">\n",
       "      <th></th>\n",
       "      <th>Type</th>\n",
       "      <th>Presence</th>\n",
       "      <th>Valency</th>\n",
       "      <th>Domain</th>\n",
       "    </tr>\n",
       "    <tr>\n",
       "      <th>Feature name</th>\n",
       "      <th></th>\n",
       "      <th></th>\n",
       "      <th></th>\n",
       "      <th></th>\n",
       "    </tr>\n",
       "  </thead>\n",
       "  <tbody>\n",
       "    <tr>\n",
       "      <th>'payment_type'</th>\n",
       "      <td>STRING</td>\n",
       "      <td>required</td>\n",
       "      <td></td>\n",
       "      <td>'payment_type'</td>\n",
       "    </tr>\n",
       "    <tr>\n",
       "      <th>'company'</th>\n",
       "      <td>STRING</td>\n",
       "      <td>optional</td>\n",
       "      <td>single</td>\n",
       "      <td>'company'</td>\n",
       "    </tr>\n",
       "    <tr>\n",
       "      <th>'pickup_community_area'</th>\n",
       "      <td>INT</td>\n",
       "      <td>required</td>\n",
       "      <td></td>\n",
       "      <td>-</td>\n",
       "    </tr>\n",
       "    <tr>\n",
       "      <th>'fare'</th>\n",
       "      <td>FLOAT</td>\n",
       "      <td>required</td>\n",
       "      <td></td>\n",
       "      <td>-</td>\n",
       "    </tr>\n",
       "    <tr>\n",
       "      <th>'trip_start_month'</th>\n",
       "      <td>INT</td>\n",
       "      <td>required</td>\n",
       "      <td></td>\n",
       "      <td>-</td>\n",
       "    </tr>\n",
       "    <tr>\n",
       "      <th>'trip_start_hour'</th>\n",
       "      <td>INT</td>\n",
       "      <td>required</td>\n",
       "      <td></td>\n",
       "      <td>-</td>\n",
       "    </tr>\n",
       "    <tr>\n",
       "      <th>'trip_start_day'</th>\n",
       "      <td>INT</td>\n",
       "      <td>required</td>\n",
       "      <td></td>\n",
       "      <td>-</td>\n",
       "    </tr>\n",
       "    <tr>\n",
       "      <th>'trip_start_timestamp'</th>\n",
       "      <td>INT</td>\n",
       "      <td>required</td>\n",
       "      <td></td>\n",
       "      <td>-</td>\n",
       "    </tr>\n",
       "    <tr>\n",
       "      <th>'pickup_latitude'</th>\n",
       "      <td>FLOAT</td>\n",
       "      <td>required</td>\n",
       "      <td></td>\n",
       "      <td>-</td>\n",
       "    </tr>\n",
       "    <tr>\n",
       "      <th>'pickup_longitude'</th>\n",
       "      <td>FLOAT</td>\n",
       "      <td>required</td>\n",
       "      <td></td>\n",
       "      <td>-</td>\n",
       "    </tr>\n",
       "    <tr>\n",
       "      <th>'dropoff_latitude'</th>\n",
       "      <td>FLOAT</td>\n",
       "      <td>optional</td>\n",
       "      <td>single</td>\n",
       "      <td>-</td>\n",
       "    </tr>\n",
       "    <tr>\n",
       "      <th>'dropoff_longitude'</th>\n",
       "      <td>FLOAT</td>\n",
       "      <td>optional</td>\n",
       "      <td>single</td>\n",
       "      <td>-</td>\n",
       "    </tr>\n",
       "    <tr>\n",
       "      <th>'trip_miles'</th>\n",
       "      <td>FLOAT</td>\n",
       "      <td>required</td>\n",
       "      <td></td>\n",
       "      <td>-</td>\n",
       "    </tr>\n",
       "    <tr>\n",
       "      <th>'pickup_census_tract'</th>\n",
       "      <td>BYTES</td>\n",
       "      <td>optional</td>\n",
       "      <td></td>\n",
       "      <td>-</td>\n",
       "    </tr>\n",
       "    <tr>\n",
       "      <th>'dropoff_census_tract'</th>\n",
       "      <td>INT</td>\n",
       "      <td>optional</td>\n",
       "      <td>single</td>\n",
       "      <td>-</td>\n",
       "    </tr>\n",
       "    <tr>\n",
       "      <th>'trip_seconds'</th>\n",
       "      <td>INT</td>\n",
       "      <td>required</td>\n",
       "      <td></td>\n",
       "      <td>-</td>\n",
       "    </tr>\n",
       "    <tr>\n",
       "      <th>'dropoff_community_area'</th>\n",
       "      <td>INT</td>\n",
       "      <td>optional</td>\n",
       "      <td>single</td>\n",
       "      <td>-</td>\n",
       "    </tr>\n",
       "    <tr>\n",
       "      <th>'tips'</th>\n",
       "      <td>FLOAT</td>\n",
       "      <td>required</td>\n",
       "      <td></td>\n",
       "      <td>-</td>\n",
       "    </tr>\n",
       "  </tbody>\n",
       "</table>\n",
       "</div>"
      ],
      "text/plain": [
       "                            Type  Presence Valency          Domain\n",
       "Feature name                                                      \n",
       "'payment_type'            STRING  required          'payment_type'\n",
       "'company'                 STRING  optional  single  'company'     \n",
       "'pickup_community_area'   INT     required          -             \n",
       "'fare'                    FLOAT   required          -             \n",
       "'trip_start_month'        INT     required          -             \n",
       "'trip_start_hour'         INT     required          -             \n",
       "'trip_start_day'          INT     required          -             \n",
       "'trip_start_timestamp'    INT     required          -             \n",
       "'pickup_latitude'         FLOAT   required          -             \n",
       "'pickup_longitude'        FLOAT   required          -             \n",
       "'dropoff_latitude'        FLOAT   optional  single  -             \n",
       "'dropoff_longitude'       FLOAT   optional  single  -             \n",
       "'trip_miles'              FLOAT   required          -             \n",
       "'pickup_census_tract'     BYTES   optional          -             \n",
       "'dropoff_census_tract'    INT     optional  single  -             \n",
       "'trip_seconds'            INT     required          -             \n",
       "'dropoff_community_area'  INT     optional  single  -             \n",
       "'tips'                    FLOAT   required          -             "
      ]
     },
     "metadata": {},
     "output_type": "display_data"
    },
    {
     "data": {
      "text/html": [
       "<div>\n",
       "<style scoped>\n",
       "    .dataframe tbody tr th:only-of-type {\n",
       "        vertical-align: middle;\n",
       "    }\n",
       "\n",
       "    .dataframe tbody tr th {\n",
       "        vertical-align: top;\n",
       "    }\n",
       "\n",
       "    .dataframe thead th {\n",
       "        text-align: right;\n",
       "    }\n",
       "</style>\n",
       "<table border=\"1\" class=\"dataframe\">\n",
       "  <thead>\n",
       "    <tr style=\"text-align: right;\">\n",
       "      <th></th>\n",
       "      <th>Values</th>\n",
       "    </tr>\n",
       "    <tr>\n",
       "      <th>Domain</th>\n",
       "      <th></th>\n",
       "    </tr>\n",
       "  </thead>\n",
       "  <tbody>\n",
       "    <tr>\n",
       "      <th>'payment_type'</th>\n",
       "      <td>'Cash', 'Credit Card', 'Dispute', 'No Charge', 'Pcard', 'Unknown'</td>\n",
       "    </tr>\n",
       "    <tr>\n",
       "      <th>'company'</th>\n",
       "      <td>'0118 - 42111 Godfrey S.Awir', '0694 - 59280 Chinesco Trans Inc', '1085 - 72312 N and W Cab Co', '2733 - 74600 Benny Jona', '2809 - 95474 C &amp; D Cab Co Inc.', '3011 - 66308 JBL Cab Inc.', '3152 - 97284 Crystal Abernathy', '3201 - C&amp;D Cab Co Inc', '3201 - CID Cab Co Inc', '3253 - 91138 Gaither Cab Co.', '3385 - 23210 Eman Cab', '3623 - 72222 Arrington Enterprises', '3897 - Ilie Malec', '4053 - Adwar H. Nikola', '4197 - 41842 Royal Star', '4615 - 83503 Tyrone Henderson', '4615 - Tyrone Henderson', '4623 - Jay Kim', '5006 - 39261 Salifu Bawa', '5006 - Salifu Bawa', '5074 - 54002 Ahzmi Inc', '5074 - Ahzmi Inc', '5129 - 87128', '5129 - 98755 Mengisti Taxi', '5129 - Mengisti Taxi', '5724 - KYVI Cab Inc', '585 - Valley Cab Co', '5864 - 73614 Thomas Owusu', '5864 - Thomas Owusu', '5874 - 73628 Sergey Cab Corp.', '5997 - 65283 AW Services Inc.', '5997 - AW Services Inc.', '6488 - 83287 Zuha Taxi', '6743 - Luhak Corp', 'Blue Ribbon Taxi Association Inc.', 'C &amp; D Cab Co Inc', 'Chicago Elite Cab Corp.', 'Chicago Elite Cab Corp. (Chicago Carriag', 'Chicago Medallion Leasing INC', 'Chicago Medallion Management', 'Choice Taxi Association', 'Dispatch Taxi Affiliation', 'KOAM Taxi Association', 'Northwest Management LLC', 'Taxi Affiliation Services', 'Top Cab Affiliation'</td>\n",
       "    </tr>\n",
       "  </tbody>\n",
       "</table>\n",
       "</div>"
      ],
      "text/plain": [
       "                                                                                                                                                                                                                                                                                                                                                                                                                                                                                                                                                                                                                                                                                                                                                                                                                                                                                                                                                                                                                                                                                                                                                                                                                                                                                                                                    Values\n",
       "Domain                                                                                                                                                                                                                                                                                                                                                                                                                                                                                                                                                                                                                                                                                                                                                                                                                                                                                                                                                                                                                                                                                                                                                                                                                                                                                                                                    \n",
       "'payment_type'  'Cash', 'Credit Card', 'Dispute', 'No Charge', 'Pcard', 'Unknown'                                                                                                                                                                                                                                                                                                                                                                                                                                                                                                                                                                                                                                                                                                                                                                                                                                                                                                                                                                                                                                                                                                                                                                                                                                                         \n",
       "'company'       '0118 - 42111 Godfrey S.Awir', '0694 - 59280 Chinesco Trans Inc', '1085 - 72312 N and W Cab Co', '2733 - 74600 Benny Jona', '2809 - 95474 C & D Cab Co Inc.', '3011 - 66308 JBL Cab Inc.', '3152 - 97284 Crystal Abernathy', '3201 - C&D Cab Co Inc', '3201 - CID Cab Co Inc', '3253 - 91138 Gaither Cab Co.', '3385 - 23210 Eman Cab', '3623 - 72222 Arrington Enterprises', '3897 - Ilie Malec', '4053 - Adwar H. Nikola', '4197 - 41842 Royal Star', '4615 - 83503 Tyrone Henderson', '4615 - Tyrone Henderson', '4623 - Jay Kim', '5006 - 39261 Salifu Bawa', '5006 - Salifu Bawa', '5074 - 54002 Ahzmi Inc', '5074 - Ahzmi Inc', '5129 - 87128', '5129 - 98755 Mengisti Taxi', '5129 - Mengisti Taxi', '5724 - KYVI Cab Inc', '585 - Valley Cab Co', '5864 - 73614 Thomas Owusu', '5864 - Thomas Owusu', '5874 - 73628 Sergey Cab Corp.', '5997 - 65283 AW Services Inc.', '5997 - AW Services Inc.', '6488 - 83287 Zuha Taxi', '6743 - Luhak Corp', 'Blue Ribbon Taxi Association Inc.', 'C & D Cab Co Inc', 'Chicago Elite Cab Corp.', 'Chicago Elite Cab Corp. (Chicago Carriag', 'Chicago Medallion Leasing INC', 'Chicago Medallion Management', 'Choice Taxi Association', 'Dispatch Taxi Affiliation', 'KOAM Taxi Association', 'Northwest Management LLC', 'Taxi Affiliation Services', 'Top Cab Affiliation'"
      ]
     },
     "metadata": {},
     "output_type": "display_data"
    }
   ],
   "source": [
    "# Infers schema from the input statistics.\n",
    "# TODO: Your code goes here\n",
    "tfdv.display_schema(schema=schema)"
   ]
  },
  {
   "cell_type": "markdown",
   "metadata": {
    "id": "ZVa3EXE8WEDE"
   },
   "source": [
    "## Check evaluation data for errors\n",
    "\n",
    "So far we've only been looking at the training data.  It's important that our evaluation data is consistent with our training data, including that it uses the same schema.  It's also important that the evaluation data includes examples of roughly the same ranges of values for our numerical features as our training data, so that our coverage of the loss surface during evaluation is roughly the same as during training.  The same is true for categorical features.  Otherwise, we may have training issues that are not identified during evaluation, because we didn't evaluate part of our loss surface.\n",
    "\n",
    "* Notice that each feature now includes statistics for both the training and evaluation datasets.\n",
    "* Notice that the charts now have both the training and evaluation datasets overlaid, making it easy to compare them.\n",
    "* Notice that the charts now include a percentages view, which can be combined with log or the default linear scales.\n",
    "* Notice that the mean and median for `trip_miles` are different for the training versus the evaluation datasets.  Will that cause problems?\n",
    "* Wow, the max `tips` is very different for the training versus the evaluation datasets.  Will that cause problems?\n",
    "* Click expand on the Numeric Features chart, and select the log scale.  Review the `trip_seconds` feature, and notice the difference in the max.  Will evaluation miss parts of the loss surface?"
   ]
  },
  {
   "cell_type": "code",
   "execution_count": 25,
   "metadata": {
    "id": "j_P0RLYlV6XG"
   },
   "outputs": [
    {
     "data": {
      "text/html": [
       "<iframe id='facets-iframe' width=\"100%\" height=\"500px\"></iframe>\n",
       "        <script>\n",
       "        facets_iframe = document.getElementById('facets-iframe');\n",
       "        facets_html = '<script src=\"https://cdnjs.cloudflare.com/ajax/libs/webcomponentsjs/1.3.3/webcomponents-lite.js\"><\\/script><link rel=\"import\" href=\"https://raw.githubusercontent.com/PAIR-code/facets/master/facets-dist/facets-jupyter.html\"><facets-overview proto-input=\"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\"></facets-overview>';\n",
       "        facets_iframe.srcdoc = facets_html;\n",
       "         facets_iframe.id = \"\";\n",
       "         setTimeout(() => {\n",
       "           facets_iframe.setAttribute('height', facets_iframe.contentWindow.document.body.offsetHeight + 'px')\n",
       "         }, 1500)\n",
       "         </script>"
      ],
      "text/plain": [
       "<IPython.core.display.HTML object>"
      ]
     },
     "metadata": {},
     "output_type": "display_data"
    }
   ],
   "source": [
    "# Compute stats for evaluation data\n",
    "eval_stats = tfdv.generate_statistics_from_csv(data_location=EVAL_DATA)\n",
    "\n",
    "# Compare evaluation data with training data\n",
    "tfdv.visualize_statistics(lhs_statistics=eval_stats, rhs_statistics=train_stats,\n",
    "                          lhs_name='EVAL_DATASET', rhs_name='TRAIN_DATASET')"
   ]
  },
  {
   "cell_type": "markdown",
   "metadata": {
    "id": "ycRRa4leHp84"
   },
   "source": [
    "## Check for evaluation anomalies\n",
    "\n",
    "Does our evaluation dataset match the schema from our training dataset?  This is especially important for categorical features, where we want to identify the range of acceptable values. First we'll use [`validate_statistics`](https://www.tensorflow.org/tfx/data_validation/api_docs/python/tfdv/validate_statistics) to compute anomalies and display them.\n",
    "\n",
    "Key Point: What would happen if we tried to evaluate using data with categorical feature values that were not in our training dataset?  What about numeric features that are outside the ranges in our training dataset?"
   ]
  },
  {
   "cell_type": "code",
   "execution_count": 26,
   "metadata": {
    "id": "T7uGVeL2WOam"
   },
   "outputs": [
    {
     "data": {
      "text/html": [
       "<div>\n",
       "<style scoped>\n",
       "    .dataframe tbody tr th:only-of-type {\n",
       "        vertical-align: middle;\n",
       "    }\n",
       "\n",
       "    .dataframe tbody tr th {\n",
       "        vertical-align: top;\n",
       "    }\n",
       "\n",
       "    .dataframe thead th {\n",
       "        text-align: right;\n",
       "    }\n",
       "</style>\n",
       "<table border=\"1\" class=\"dataframe\">\n",
       "  <thead>\n",
       "    <tr style=\"text-align: right;\">\n",
       "      <th></th>\n",
       "      <th>Anomaly short description</th>\n",
       "      <th>Anomaly long description</th>\n",
       "    </tr>\n",
       "    <tr>\n",
       "      <th>Feature name</th>\n",
       "      <th></th>\n",
       "      <th></th>\n",
       "    </tr>\n",
       "  </thead>\n",
       "  <tbody>\n",
       "    <tr>\n",
       "      <th>'company'</th>\n",
       "      <td>Unexpected string values</td>\n",
       "      <td>Examples contain values missing from the schema: 2092 - 61288 Sbeih company (&lt;1%), 2192 - 73487 Zeymane Corp (&lt;1%), 2192 - Zeymane Corp (&lt;1%), 2823 - 73307 Seung Lee (&lt;1%), 3094 - 24059 G.L.B. Cab Co (&lt;1%), 3319 - CD Cab Co (&lt;1%), 3385 - Eman Cab (&lt;1%), 3897 - 57856 Ilie Malec (&lt;1%), 4053 - 40193 Adwar H. Nikola (&lt;1%), 4197 - Royal Star (&lt;1%), 585 - 88805 Valley Cab Co (&lt;1%), 5874 - Sergey Cab Corp. (&lt;1%), 6057 - 24657 Richard Addo (&lt;1%), 6574 - Babylon Express Inc. (&lt;1%), 6742 - 83735 Tasha ride inc (&lt;1%).</td>\n",
       "    </tr>\n",
       "    <tr>\n",
       "      <th>'payment_type'</th>\n",
       "      <td>Unexpected string values</td>\n",
       "      <td>Examples contain values missing from the schema: Prcard (&lt;1%).</td>\n",
       "    </tr>\n",
       "  </tbody>\n",
       "</table>\n",
       "</div>"
      ],
      "text/plain": [
       "               Anomaly short description  \\\n",
       "Feature name                               \n",
       "'company'       Unexpected string values   \n",
       "'payment_type'  Unexpected string values   \n",
       "\n",
       "                                                                                                                                                                                                                                                                                                                                                                                                                                                                                                                         Anomaly long description  \n",
       "Feature name                                                                                                                                                                                                                                                                                                                                                                                                                                                                                                                                       \n",
       "'company'       Examples contain values missing from the schema: 2092 - 61288 Sbeih company (<1%), 2192 - 73487 Zeymane Corp (<1%), 2192 - Zeymane Corp (<1%), 2823 - 73307 Seung Lee (<1%), 3094 - 24059 G.L.B. Cab Co (<1%), 3319 - CD Cab Co (<1%), 3385 - Eman Cab (<1%), 3897 - 57856 Ilie Malec (<1%), 4053 - 40193 Adwar H. Nikola (<1%), 4197 - Royal Star (<1%), 585 - 88805 Valley Cab Co (<1%), 5874 - Sergey Cab Corp. (<1%), 6057 - 24657 Richard Addo (<1%), 6574 - Babylon Express Inc. (<1%), 6742 - 83735 Tasha ride inc (<1%).   \n",
       "'payment_type'  Examples contain values missing from the schema: Prcard (<1%).                                                                                                                                                                                                                                                                                                                                                                                                                                                                     "
      ]
     },
     "metadata": {},
     "output_type": "display_data"
    }
   ],
   "source": [
    "# Check eval data for errors by validating the eval data stats using the previously inferred schema.\n",
    "# TODO: Your code goes here\n",
    "tfdv.display_anomalies(anomalies)"
   ]
  },
  {
   "cell_type": "markdown",
   "metadata": {
    "id": "dzxx1gBpJIBa"
   },
   "source": [
    "## Fix evaluation anomalies in the schema\n",
    "\n",
    "Oops!  It looks like we have some new values for `company` in our evaluation data, that we didn't have in our training data.  We also have a new value for `payment_type`.  These should be considered anomalies, but what we decide to do about them depends on our domain knowledge of the data.  If an anomaly truly indicates a data error, then the underlying data should be fixed.  Otherwise, we can simply update the schema to include the values in the eval dataset.\n",
    "\n",
    "Key Point: How would our evaluation results be affected if we did not fix these problems?\n",
    "\n",
    "Unless we change our evaluation dataset we can't fix everything, but we can fix things in the schema that we're comfortable accepting.  That includes relaxing our view of what is and what is not an anomaly for particular features, as well as updating our schema to include missing values for categorical features.  TFDV has enabled us to discover what we need to fix.\n",
    "\n",
    "Let's make those fixes now, and then review one more time."
   ]
  },
  {
   "cell_type": "code",
   "execution_count": 27,
   "metadata": {
    "id": "legN2nXLWZAc"
   },
   "outputs": [
    {
     "data": {
      "text/html": [
       "<h4 style=\"color:green;\">No anomalies found.</h4>"
      ],
      "text/plain": [
       "<IPython.core.display.HTML object>"
      ]
     },
     "metadata": {},
     "output_type": "display_data"
    }
   ],
   "source": [
    "# Relax the minimum fraction of values that must come from the domain for feature company.\n",
    "company = tfdv.get_feature(schema, 'company')\n",
    "company.distribution_constraints.min_domain_mass = 0.9\n",
    "\n",
    "# Add new value to the domain of feature payment_type.\n",
    "payment_type_domain = tfdv.get_domain(schema, 'payment_type')\n",
    "payment_type_domain.value.append('Prcard')\n",
    "\n",
    "# Validate eval stats after updating the schema \n",
    "# TODO: Your code goes here\n",
    "tfdv.display_anomalies(updated_anomalies)"
   ]
  },
  {
   "cell_type": "markdown",
   "metadata": {
    "id": "xNo72YP9LN98"
   },
   "source": [
    "Hey, look at that!  We verified that the training and evaluation data are now consistent!  Thanks TFDV ;)"
   ]
  },
  {
   "cell_type": "markdown",
   "metadata": {
    "id": "KZ1P4ucHJj5o"
   },
   "source": [
    "## Schema Environments"
   ]
  },
  {
   "cell_type": "markdown",
   "metadata": {
    "id": "qb179jczJppA"
   },
   "source": [
    "We also split off a 'serving' dataset for this example, so we should check that too.  By default all datasets in a pipeline should use the same schema, but there are often exceptions. For example, in supervised learning we need to include labels in our dataset, but when we serve the model for inference the labels will not be included. In some cases introducing slight schema variations is necessary.\n",
    "\n",
    "**Environments** can be used to express such requirements. In particular, features in schema can be associated with a set of environments using `default_environment`, `in_environment` and `not_in_environment`.\n",
    "\n",
    "For example, in this dataset the `tips` feature is included as the label for training, but it's missing in the serving data. Without environment specified, it will show up as an anomaly."
   ]
  },
  {
   "cell_type": "code",
   "execution_count": 28,
   "metadata": {
    "id": "wSZfbnifJuTA"
   },
   "outputs": [
    {
     "data": {
      "text/html": [
       "<div>\n",
       "<style scoped>\n",
       "    .dataframe tbody tr th:only-of-type {\n",
       "        vertical-align: middle;\n",
       "    }\n",
       "\n",
       "    .dataframe tbody tr th {\n",
       "        vertical-align: top;\n",
       "    }\n",
       "\n",
       "    .dataframe thead th {\n",
       "        text-align: right;\n",
       "    }\n",
       "</style>\n",
       "<table border=\"1\" class=\"dataframe\">\n",
       "  <thead>\n",
       "    <tr style=\"text-align: right;\">\n",
       "      <th></th>\n",
       "      <th>Anomaly short description</th>\n",
       "      <th>Anomaly long description</th>\n",
       "    </tr>\n",
       "    <tr>\n",
       "      <th>Feature name</th>\n",
       "      <th></th>\n",
       "      <th></th>\n",
       "    </tr>\n",
       "  </thead>\n",
       "  <tbody>\n",
       "    <tr>\n",
       "      <th>'tips'</th>\n",
       "      <td>Column dropped</td>\n",
       "      <td>Column is completely missing</td>\n",
       "    </tr>\n",
       "  </tbody>\n",
       "</table>\n",
       "</div>"
      ],
      "text/plain": [
       "             Anomaly short description      Anomaly long description\n",
       "Feature name                                                        \n",
       "'tips'        Column dropped            Column is completely missing"
      ]
     },
     "metadata": {},
     "output_type": "display_data"
    }
   ],
   "source": [
    "serving_stats = tfdv.generate_statistics_from_csv(SERVING_DATA)\n",
    "serving_anomalies = tfdv.validate_statistics(serving_stats, schema)\n",
    "\n",
    "tfdv.display_anomalies(serving_anomalies)"
   ]
  },
  {
   "cell_type": "markdown",
   "metadata": {
    "id": "FDYHvZ09LfkT"
   },
   "source": [
    "We'll deal with the `tips` feature below.  We also have an INT value in our trip seconds, where our schema expected a FLOAT. By making us aware of that difference, TFDV helps uncover inconsistencies in the way the data is generated for training and serving. It's very easy to be unaware of problems like that until model performance suffers, sometimes catastrophically. It may or may not be a significant issue, but in any case this should be cause for further investigation.\n",
    "\n",
    "In this case, we can safely convert INT values to FLOATs, so we want to tell TFDV to use our schema to infer the type.  Let's do that now."
   ]
  },
  {
   "cell_type": "code",
   "execution_count": 29,
   "metadata": {
    "id": "OhtYF8aAczpd"
   },
   "outputs": [
    {
     "data": {
      "text/html": [
       "<div>\n",
       "<style scoped>\n",
       "    .dataframe tbody tr th:only-of-type {\n",
       "        vertical-align: middle;\n",
       "    }\n",
       "\n",
       "    .dataframe tbody tr th {\n",
       "        vertical-align: top;\n",
       "    }\n",
       "\n",
       "    .dataframe thead th {\n",
       "        text-align: right;\n",
       "    }\n",
       "</style>\n",
       "<table border=\"1\" class=\"dataframe\">\n",
       "  <thead>\n",
       "    <tr style=\"text-align: right;\">\n",
       "      <th></th>\n",
       "      <th>Anomaly short description</th>\n",
       "      <th>Anomaly long description</th>\n",
       "    </tr>\n",
       "    <tr>\n",
       "      <th>Feature name</th>\n",
       "      <th></th>\n",
       "      <th></th>\n",
       "    </tr>\n",
       "  </thead>\n",
       "  <tbody>\n",
       "    <tr>\n",
       "      <th>'tips'</th>\n",
       "      <td>Column dropped</td>\n",
       "      <td>Column is completely missing</td>\n",
       "    </tr>\n",
       "  </tbody>\n",
       "</table>\n",
       "</div>"
      ],
      "text/plain": [
       "             Anomaly short description      Anomaly long description\n",
       "Feature name                                                        \n",
       "'tips'        Column dropped            Column is completely missing"
      ]
     },
     "metadata": {},
     "output_type": "display_data"
    }
   ],
   "source": [
    "options = tfdv.StatsOptions(schema=schema, infer_type_from_schema=True)\n",
    "serving_stats = tfdv.generate_statistics_from_csv(SERVING_DATA, stats_options=options)\n",
    "serving_anomalies = tfdv.validate_statistics(serving_stats, schema)\n",
    "\n",
    "tfdv.display_anomalies(serving_anomalies)"
   ]
  },
  {
   "cell_type": "markdown",
   "metadata": {
    "id": "bJjh5rigc5xy"
   },
   "source": [
    "Now we just have the `tips` feature (which is our label) showing up as an anomaly ('Column dropped').  Of course we don't expect to have labels in our serving data, so let's tell TFDV to ignore that."
   ]
  },
  {
   "cell_type": "code",
   "execution_count": 30,
   "metadata": {
    "id": "bnbnw8H6Lp2M"
   },
   "outputs": [
    {
     "data": {
      "text/html": [
       "<h4 style=\"color:green;\">No anomalies found.</h4>"
      ],
      "text/plain": [
       "<IPython.core.display.HTML object>"
      ]
     },
     "metadata": {},
     "output_type": "display_data"
    }
   ],
   "source": [
    "# All features are by default in both TRAINING and SERVING environments.\n",
    "schema.default_environment.append('TRAINING')\n",
    "schema.default_environment.append('SERVING')\n",
    "\n",
    "# Specify that 'tips' feature is not in SERVING environment.\n",
    "tfdv.get_feature(schema, 'tips').not_in_environment.append('SERVING')\n",
    "\n",
    "serving_anomalies_with_env = tfdv.validate_statistics(\n",
    "    serving_stats, schema, environment='SERVING')\n",
    "\n",
    "tfdv.display_anomalies(serving_anomalies_with_env)"
   ]
  },
  {
   "cell_type": "markdown",
   "metadata": {
    "id": "yteMr3AGMYEp"
   },
   "source": [
    "## Check for drift and skew"
   ]
  },
  {
   "cell_type": "markdown",
   "metadata": {
    "id": "8Ftd5k6AMkPV"
   },
   "source": [
    "In addition to checking whether a dataset conforms to the expectations set in the schema, TFDV also provides functionalities to detect drift and skew.  TFDV performs this check by comparing the statistics of the different datasets based on the drift/skew comparators specified in the schema.\n",
    "\n",
    "### Drift\n",
    "\n",
    "Drift detection is supported for categorical features and between consecutive spans of data (i.e., between span N and span N+1), such as between different days of training data.  We express drift in terms of [L-infinity distance](https://en.wikipedia.org/wiki/Chebyshev_distance), and you can set the threshold distance so that you receive warnings when the drift is higher than is acceptable.  Setting the correct distance is typically an iterative process requiring domain knowledge and experimentation."
   ]
  },
  {
   "cell_type": "markdown",
   "metadata": {
    "id": "eBFuLpXb6qSp"
   },
   "source": [
    "### Skew\n",
    "\n",
    "TFDV can detect three different kinds of skew in your data - schema skew, feature skew, and distribution skew.\n",
    "\n",
    "#### Schema Skew\n",
    "\n",
    "Schema skew occurs when the training and serving data do not conform to the same schema. Both training and serving data are expected to adhere to the same schema. Any expected deviations between the two (such as the label feature being only present in the training data but not in serving) should be specified through environments field in the schema.\n",
    "\n",
    "#### Feature Skew\n",
    "\n",
    "Feature skew occurs when the feature values that a model trains on are different from the feature values that it sees at serving time. For example, this can happen when:\n",
    "\n",
    "* A data source that provides some feature values is modified between training and serving time\n",
    "* There is different logic for generating features between training and serving. For example, if you apply some transformation only in one of the two code paths.\n",
    "\n",
    "#### Distribution Skew\n",
    "\n",
    "Distribution skew occurs when the distribution of the training dataset is significantly different from the distribution of the serving dataset. One of the key causes for distribution skew is using different code or different data sources to generate the training dataset. Another reason is a faulty sampling mechanism that chooses a non-representative subsample of the serving data to train on.\n",
    "\n",
    "Note:- we'll use `tfdv.validate_statistics(<train_stats>, schema, previous_statistics=<eval_stats>, serving_statistics=<serving_stats>)` to examine the skew.\n"
   ]
  },
  {
   "cell_type": "code",
   "execution_count": 31,
   "metadata": {
    "id": "wEUsZm_rOd1Q"
   },
   "outputs": [
    {
     "data": {
      "text/html": [
       "<div>\n",
       "<style scoped>\n",
       "    .dataframe tbody tr th:only-of-type {\n",
       "        vertical-align: middle;\n",
       "    }\n",
       "\n",
       "    .dataframe tbody tr th {\n",
       "        vertical-align: top;\n",
       "    }\n",
       "\n",
       "    .dataframe thead th {\n",
       "        text-align: right;\n",
       "    }\n",
       "</style>\n",
       "<table border=\"1\" class=\"dataframe\">\n",
       "  <thead>\n",
       "    <tr style=\"text-align: right;\">\n",
       "      <th></th>\n",
       "      <th>Anomaly short description</th>\n",
       "      <th>Anomaly long description</th>\n",
       "    </tr>\n",
       "    <tr>\n",
       "      <th>Feature name</th>\n",
       "      <th></th>\n",
       "      <th></th>\n",
       "    </tr>\n",
       "  </thead>\n",
       "  <tbody>\n",
       "    <tr>\n",
       "      <th>'payment_type'</th>\n",
       "      <td>High Linfty distance between training and serving</td>\n",
       "      <td>The Linfty distance between training and serving is 0.0225 (up to six significant digits), above the threshold 0.01. The feature value with maximum difference is: Credit Card</td>\n",
       "    </tr>\n",
       "    <tr>\n",
       "      <th>'company'</th>\n",
       "      <td>High Linfty distance between current and previous</td>\n",
       "      <td>The Linfty distance between current and previous is 0.00820891 (up to six significant digits), above the threshold 0.001. The feature value with maximum difference is: Blue Ribbon Taxi Association Inc.</td>\n",
       "    </tr>\n",
       "  </tbody>\n",
       "</table>\n",
       "</div>"
      ],
      "text/plain": [
       "                                        Anomaly short description  \\\n",
       "Feature name                                                        \n",
       "'payment_type'  High Linfty distance between training and serving   \n",
       "'company'       High Linfty distance between current and previous   \n",
       "\n",
       "                                                                                                                                                                                                 Anomaly long description  \n",
       "Feature name                                                                                                                                                                                                               \n",
       "'payment_type'  The Linfty distance between training and serving is 0.0225 (up to six significant digits), above the threshold 0.01. The feature value with maximum difference is: Credit Card                             \n",
       "'company'       The Linfty distance between current and previous is 0.00820891 (up to six significant digits), above the threshold 0.001. The feature value with maximum difference is: Blue Ribbon Taxi Association Inc.  "
      ]
     },
     "metadata": {},
     "output_type": "display_data"
    }
   ],
   "source": [
    "# Add skew comparator for 'payment_type' feature.\n",
    "payment_type = tfdv.get_feature(schema, 'payment_type')\n",
    "payment_type.skew_comparator.infinity_norm.threshold = 0.01\n",
    "\n",
    "# Add drift comparator for 'company' feature.\n",
    "company=tfdv.get_feature(schema, 'company')\n",
    "company.drift_comparator.infinity_norm.threshold = 0.001\n",
    "\n",
    "# TODO: Your code goes here\n",
    "\n",
    "tfdv.display_anomalies(skew_anomalies)"
   ]
  },
  {
   "cell_type": "markdown",
   "metadata": {
    "id": "1GzbbsPgf0Bg"
   },
   "source": [
    "In this example we do see some drift, but it is well below the threshold that we've set."
   ]
  },
  {
   "cell_type": "markdown",
   "metadata": {
    "id": "wJ5saC9eWvHx"
   },
   "source": [
    "## Freeze the schema\n",
    "\n",
    "Now that the schema has been reviewed and curated, we will store it in a file to reflect its \"frozen\" state."
   ]
  },
  {
   "cell_type": "code",
   "execution_count": 32,
   "metadata": {
    "id": "ydkL4DkIWn18"
   },
   "outputs": [
    {
     "name": "stdout",
     "output_type": "stream",
     "text": [
      "feature {\n",
      "  name: \"payment_type\"\n",
      "  type: BYTES\n",
      "  domain: \"payment_type\"\n",
      "  presence {\n",
      "    min_fraction: 1.0\n",
      "    min_count: 1\n",
      "  }\n",
      "  skew_comparator {\n",
      "    infinity_norm {\n",
      "      threshold: 0.01\n",
      "    }\n",
      "  }\n",
      "  shape {\n",
      "    dim {\n",
      "      size: 1\n",
      "    }\n",
      "  }\n",
      "}\n",
      "feature {\n",
      "  name: \"company\"\n",
      "  value_count {\n",
      "    min: 1\n",
      "    max: 1\n",
      "  }\n",
      "  type: BYTES\n",
      "  domain: \"company\"\n",
      "  presence {\n",
      "    min_count: 1\n",
      "  }\n",
      "  distribution_constraints {\n",
      "    min_domain_mass: 0.9\n",
      "  }\n",
      "  drift_comparator {\n",
      "    infinity_norm {\n",
      "      threshold: 0.001\n",
      "    }\n",
      "  }\n",
      "}\n",
      "feature {\n",
      "  name: \"pickup_community_area\"\n",
      "  type: INT\n",
      "  presence {\n",
      "    min_fraction: 1.0\n",
      "    min_count: 1\n",
      "  }\n",
      "  shape {\n",
      "    dim {\n",
      "      size: 1\n",
      "    }\n",
      "  }\n",
      "}\n",
      "feature {\n",
      "  name: \"fare\"\n",
      "  type: FLOAT\n",
      "  presence {\n",
      "    min_fraction: 1.0\n",
      "    min_count: 1\n",
      "  }\n",
      "  shape {\n",
      "    dim {\n",
      "      size: 1\n",
      "    }\n",
      "  }\n",
      "}\n",
      "feature {\n",
      "  name: \"trip_start_month\"\n",
      "  type: INT\n",
      "  presence {\n",
      "    min_fraction: 1.0\n",
      "    min_count: 1\n",
      "  }\n",
      "  shape {\n",
      "    dim {\n",
      "      size: 1\n",
      "    }\n",
      "  }\n",
      "}\n",
      "feature {\n",
      "  name: \"trip_start_hour\"\n",
      "  type: INT\n",
      "  presence {\n",
      "    min_fraction: 1.0\n",
      "    min_count: 1\n",
      "  }\n",
      "  shape {\n",
      "    dim {\n",
      "      size: 1\n",
      "    }\n",
      "  }\n",
      "}\n",
      "feature {\n",
      "  name: \"trip_start_day\"\n",
      "  type: INT\n",
      "  presence {\n",
      "    min_fraction: 1.0\n",
      "    min_count: 1\n",
      "  }\n",
      "  shape {\n",
      "    dim {\n",
      "      size: 1\n",
      "    }\n",
      "  }\n",
      "}\n",
      "feature {\n",
      "  name: \"trip_start_timestamp\"\n",
      "  type: INT\n",
      "  presence {\n",
      "    min_fraction: 1.0\n",
      "    min_count: 1\n",
      "  }\n",
      "  shape {\n",
      "    dim {\n",
      "      size: 1\n",
      "    }\n",
      "  }\n",
      "}\n",
      "feature {\n",
      "  name: \"pickup_latitude\"\n",
      "  type: FLOAT\n",
      "  presence {\n",
      "    min_fraction: 1.0\n",
      "    min_count: 1\n",
      "  }\n",
      "  shape {\n",
      "    dim {\n",
      "      size: 1\n",
      "    }\n",
      "  }\n",
      "}\n",
      "feature {\n",
      "  name: \"pickup_longitude\"\n",
      "  type: FLOAT\n",
      "  presence {\n",
      "    min_fraction: 1.0\n",
      "    min_count: 1\n",
      "  }\n",
      "  shape {\n",
      "    dim {\n",
      "      size: 1\n",
      "    }\n",
      "  }\n",
      "}\n",
      "feature {\n",
      "  name: \"dropoff_latitude\"\n",
      "  value_count {\n",
      "    min: 1\n",
      "    max: 1\n",
      "  }\n",
      "  type: FLOAT\n",
      "  presence {\n",
      "    min_count: 1\n",
      "  }\n",
      "}\n",
      "feature {\n",
      "  name: \"dropoff_longitude\"\n",
      "  value_count {\n",
      "    min: 1\n",
      "    max: 1\n",
      "  }\n",
      "  type: FLOAT\n",
      "  presence {\n",
      "    min_count: 1\n",
      "  }\n",
      "}\n",
      "feature {\n",
      "  name: \"trip_miles\"\n",
      "  type: FLOAT\n",
      "  presence {\n",
      "    min_fraction: 1.0\n",
      "    min_count: 1\n",
      "  }\n",
      "  shape {\n",
      "    dim {\n",
      "      size: 1\n",
      "    }\n",
      "  }\n",
      "}\n",
      "feature {\n",
      "  name: \"pickup_census_tract\"\n",
      "  type: BYTES\n",
      "  presence {\n",
      "    min_count: 0\n",
      "  }\n",
      "}\n",
      "feature {\n",
      "  name: \"dropoff_census_tract\"\n",
      "  value_count {\n",
      "    min: 1\n",
      "    max: 1\n",
      "  }\n",
      "  type: INT\n",
      "  presence {\n",
      "    min_count: 1\n",
      "  }\n",
      "}\n",
      "feature {\n",
      "  name: \"trip_seconds\"\n",
      "  type: INT\n",
      "  presence {\n",
      "    min_fraction: 1.0\n",
      "    min_count: 1\n",
      "  }\n",
      "  shape {\n",
      "    dim {\n",
      "      size: 1\n",
      "    }\n",
      "  }\n",
      "}\n",
      "feature {\n",
      "  name: \"dropoff_community_area\"\n",
      "  value_count {\n",
      "    min: 1\n",
      "    max: 1\n",
      "  }\n",
      "  type: INT\n",
      "  presence {\n",
      "    min_count: 1\n",
      "  }\n",
      "}\n",
      "feature {\n",
      "  name: \"tips\"\n",
      "  type: FLOAT\n",
      "  presence {\n",
      "    min_fraction: 1.0\n",
      "    min_count: 1\n",
      "  }\n",
      "  not_in_environment: \"SERVING\"\n",
      "  shape {\n",
      "    dim {\n",
      "      size: 1\n",
      "    }\n",
      "  }\n",
      "}\n",
      "string_domain {\n",
      "  name: \"payment_type\"\n",
      "  value: \"Cash\"\n",
      "  value: \"Credit Card\"\n",
      "  value: \"Dispute\"\n",
      "  value: \"No Charge\"\n",
      "  value: \"Pcard\"\n",
      "  value: \"Unknown\"\n",
      "  value: \"Prcard\"\n",
      "}\n",
      "string_domain {\n",
      "  name: \"company\"\n",
      "  value: \"0118 - 42111 Godfrey S.Awir\"\n",
      "  value: \"0694 - 59280 Chinesco Trans Inc\"\n",
      "  value: \"1085 - 72312 N and W Cab Co\"\n",
      "  value: \"2733 - 74600 Benny Jona\"\n",
      "  value: \"2809 - 95474 C & D Cab Co Inc.\"\n",
      "  value: \"3011 - 66308 JBL Cab Inc.\"\n",
      "  value: \"3152 - 97284 Crystal Abernathy\"\n",
      "  value: \"3201 - C&D Cab Co Inc\"\n",
      "  value: \"3201 - CID Cab Co Inc\"\n",
      "  value: \"3253 - 91138 Gaither Cab Co.\"\n",
      "  value: \"3385 - 23210 Eman Cab\"\n",
      "  value: \"3623 - 72222 Arrington Enterprises\"\n",
      "  value: \"3897 - Ilie Malec\"\n",
      "  value: \"4053 - Adwar H. Nikola\"\n",
      "  value: \"4197 - 41842 Royal Star\"\n",
      "  value: \"4615 - 83503 Tyrone Henderson\"\n",
      "  value: \"4615 - Tyrone Henderson\"\n",
      "  value: \"4623 - Jay Kim\"\n",
      "  value: \"5006 - 39261 Salifu Bawa\"\n",
      "  value: \"5006 - Salifu Bawa\"\n",
      "  value: \"5074 - 54002 Ahzmi Inc\"\n",
      "  value: \"5074 - Ahzmi Inc\"\n",
      "  value: \"5129 - 87128\"\n",
      "  value: \"5129 - 98755 Mengisti Taxi\"\n",
      "  value: \"5129 - Mengisti Taxi\"\n",
      "  value: \"5724 - KYVI Cab Inc\"\n",
      "  value: \"585 - Valley Cab Co\"\n",
      "  value: \"5864 - 73614 Thomas Owusu\"\n",
      "  value: \"5864 - Thomas Owusu\"\n",
      "  value: \"5874 - 73628 Sergey Cab Corp.\"\n",
      "  value: \"5997 - 65283 AW Services Inc.\"\n",
      "  value: \"5997 - AW Services Inc.\"\n",
      "  value: \"6488 - 83287 Zuha Taxi\"\n",
      "  value: \"6743 - Luhak Corp\"\n",
      "  value: \"Blue Ribbon Taxi Association Inc.\"\n",
      "  value: \"C & D Cab Co Inc\"\n",
      "  value: \"Chicago Elite Cab Corp.\"\n",
      "  value: \"Chicago Elite Cab Corp. (Chicago Carriag\"\n",
      "  value: \"Chicago Medallion Leasing INC\"\n",
      "  value: \"Chicago Medallion Management\"\n",
      "  value: \"Choice Taxi Association\"\n",
      "  value: \"Dispatch Taxi Affiliation\"\n",
      "  value: \"KOAM Taxi Association\"\n",
      "  value: \"Northwest Management LLC\"\n",
      "  value: \"Taxi Affiliation Services\"\n",
      "  value: \"Top Cab Affiliation\"\n",
      "}\n",
      "default_environment: \"TRAINING\"\n",
      "default_environment: \"SERVING\"\n"
     ]
    }
   ],
   "source": [
    "from tensorflow.python.lib.io import file_io\n",
    "from google.protobuf import text_format\n",
    "\n",
    "file_io.recursive_create_dir(OUTPUT_DIR)\n",
    "schema_file = os.path.join(OUTPUT_DIR, 'schema.pbtxt')\n",
    "tfdv.write_schema_text(schema, schema_file)\n",
    "\n",
    "!cat {schema_file}"
   ]
  },
  {
   "cell_type": "markdown",
   "metadata": {
    "id": "b8eC59yISdGB"
   },
   "source": [
    "## When to use TFDV\n",
    "\n",
    "It's easy to think of TFDV as only applying to the start of your training pipeline, as we did here, but in fact it has many uses.  Here are a few more:\n",
    "\n",
    "* Validating new data for inference to make sure that we haven't suddenly started receiving bad features\n",
    "* Validating new data for inference to make sure that our model has trained on that part of the decision surface\n",
    "* Validating our data after we've transformed it and done feature engineering (probably using [TensorFlow Transform](https://www.tensorflow.org/tfx/guide/transform)) to make sure we haven't done something wrong"
   ]
  }
 ],
 "metadata": {
  "colab": {
   "collapsed_sections": [
    "tghWegsjhpkt"
   ],
   "name": "tfdv_basic.ipynb",
   "private_outputs": true,
   "provenance": [],
   "toc_visible": true
  },
  "environment": {
   "name": "tf2-gpu.2-1.m49",
   "type": "gcloud",
   "uri": "gcr.io/deeplearning-platform-release/tf2-gpu.2-1:m49"
  },
  "kernelspec": {
   "display_name": "Python 3",
   "language": "python",
   "name": "python3"
  },
  "language_info": {
   "codemirror_mode": {
    "name": "ipython",
    "version": 3
   },
   "file_extension": ".py",
   "mimetype": "text/x-python",
   "name": "python",
   "nbconvert_exporter": "python",
   "pygments_lexer": "ipython3",
   "version": "3.7.6"
  }
 },
 "nbformat": 4,
 "nbformat_minor": 4
}

{
 "cells": [
  {
   "cell_type": "code",
   "execution_count": 1,
   "metadata": {
    "id": "Y5yTxMNOKnOC",
    "tags": []
   },
   "outputs": [],
   "source": [
    "# Copyright 2024 Google LLC\n",
    "#\n",
    "# Licensed under the Apache License, Version 2.0 (the \"License\");\n",
    "# you may not use this file except in compliance with the License.\n",
    "# You may obtain a copy of the License at\n",
    "#\n",
    "#     https://www.apache.org/licenses/LICENSE-2.0\n",
    "#\n",
    "# Unless required by applicable law or agreed to in writing, software\n",
    "# distributed under the License is distributed on an \"AS IS\" BASIS,\n",
    "# WITHOUT WARRANTIES OR CONDITIONS OF ANY KIND, either express or implied.\n",
    "# See the License for the specific language governing permissions and\n",
    "# limitations under the License."
   ]
  },
  {
   "cell_type": "markdown",
   "metadata": {
    "id": "R5Hp34AVK7ba"
   },
   "source": [
    "## Overview\n",
    "\n",
    "This tutorial demonstrates how to use the Vertex AI SDK for Python to set up Vertex AI Model Monitoring V2 for your model."
   ]
  },
  {
   "cell_type": "markdown",
   "metadata": {
    "id": "DyXl559OtyK_"
   },
   "source": [
    "### Objective\n",
    "\n",
    "In this tutorial, you'll complete the following steps:\n",
    "\n",
    "- Upload a custom model to Vertex AI Model Registry.\n",
    "- Create a model monitor.\n",
    "- Create Vertex AI batch prediction job.\n",
    "- Run an on-demand model monitoring job to analyze data drift between the batch prediction job results and the training dataset.\n",
    "- Create another Vertex AI batch prediction job.\n",
    "- Run an on-demand model monitoring job to analyze data drift between the batch prediction job results and the previous batch prediction job.\n",
    "- Run an on-demand model monitoring job to analyze the feature attribution drift between the batch prediction job results and a baseline dataset in Google Cloud Storage.\n",
    "\n",
    "\n",
    "### Costs\n",
    "\n",
    "Vertex AI Model Monitoring v2 is free during the public preview period, but you will still be billed for the following Google Cloud services:\n",
    "\n",
    "* [BigQuery](https://cloud.google.com/bigquery/pricing)\n",
    "* [Cloud Storage](https://cloud.google.com/storage/pricing)\n",
    "* [Vertex AI Online Prediction](https://cloud.google.com/vertex-ai/pricing#prediction-prices)\n",
    "* [Vertex AI Batch Explanation Job](https://cloud.google.com/vertex-ai/pricing#prediction-prices) (if you run the feature attribution drift example)."
   ]
  },
  {
   "cell_type": "markdown",
   "metadata": {
    "id": "oYmaoz9MNLHd"
   },
   "source": [
    "## Getting Started"
   ]
  },
  {
   "cell_type": "markdown",
   "metadata": {
    "id": "NvW5zNXmNMwm"
   },
   "source": [
    "### Install Vertex AI SDK and other required packages"
   ]
  },
  {
   "cell_type": "code",
   "execution_count": 3,
   "metadata": {
    "colab": {
     "base_uri": "https://localhost:8080/"
    },
    "id": "5FakhYktNO7Y",
    "outputId": "1d2e53b8-eb15-4012-b15f-d2dc33b08d89",
    "tags": []
   },
   "outputs": [
    {
     "name": "stdout",
     "output_type": "stream",
     "text": [
      "Collecting google-cloud-bigquery==1.27.2\n",
      "  Downloading google_cloud_bigquery-1.27.2-py2.py3-none-any.whl (172 kB)\n",
      "Requirement already satisfied: pandas==1.5.3 in /opt/conda/envs/tensorflow/lib/python3.10/site-packages (1.5.3)\n",
      "Collecting pandas-gbq==0.17.9\n",
      "  Downloading pandas_gbq-0.17.9-py2.py3-none-any.whl (25 kB)\n",
      "Collecting pyarrow==10.0.0\n",
      "  Downloading pyarrow-10.0.0-cp310-cp310-manylinux_2_17_x86_64.manylinux2014_x86_64.whl (35.2 MB)\n",
      "\u001b[2K     \u001b[90m━━━━━━━━━━━━━━━━━━━━━━━━━━━━━━━━━━━━━━━\u001b[0m \u001b[32m35.2/35.2 MB\u001b[0m \u001b[31m108.2 MB/s\u001b[0m eta \u001b[36m0:00:00\u001b[0ma \u001b[36m0:00:01\u001b[0m\n",
      "\u001b[?25hCollecting tensorflow-data-validation==1.14.0\n",
      "  Downloading tensorflow_data_validation-1.14.0-cp310-cp310-manylinux_2_17_x86_64.manylinux2014_x86_64.whl (19.1 MB)\n",
      "\u001b[2K     \u001b[90m━━━━━━━━━━━━━━━━━━━━━━━━━━━━━━━━━━━━━━━━\u001b[0m \u001b[32m19.1/19.1 MB\u001b[0m \u001b[31m8.1 MB/s\u001b[0m eta \u001b[36m0:00:00\u001b[0m00:01\u001b[0m00:01\u001b[0mm\n",
      "\u001b[?25hCollecting google-cloud-aiplatform==1.51.0\n",
      "  Downloading google_cloud_aiplatform-1.51.0-py2.py3-none-any.whl (5.0 MB)\n",
      "\u001b[2K     \u001b[90m━━━━━━━━━━━━━━━━━━━━━━━━━━━━━━━━━━━━━━━━\u001b[0m \u001b[32m5.0/5.0 MB\u001b[0m \u001b[31m36.4 MB/s\u001b[0m eta \u001b[36m0:00:00\u001b[0m\n",
      "\u001b[?25hCollecting tensorflow-metadata==1.14.0\n",
      "  Downloading tensorflow_metadata-1.14.0-py3-none-any.whl (28 kB)\n",
      "Collecting google-api-core==1.34.1\n",
      "  Downloading google_api_core-1.34.1-py3-none-any.whl (120 kB)\n",
      "Collecting google-auth==2.26.1\n",
      "  Downloading google_auth-2.26.1-py2.py3-none-any.whl (186 kB)\n",
      "Collecting google-cloud-core==1.7.3\n",
      "  Downloading google_cloud_core-1.7.3-py2.py3-none-any.whl (28 kB)\n",
      "Collecting google-resumable-media==1.3.3\n",
      "  Downloading google_resumable_media-1.3.3-py2.py3-none-any.whl (75 kB)\n",
      "Collecting tfx-bsl==1.14.0\n",
      "  Downloading tfx_bsl-1.14.0-cp310-cp310-manylinux_2_17_x86_64.manylinux2014_x86_64.whl (22.5 MB)\n",
      "\u001b[2K     \u001b[90m━━━━━━━━━━━━━━━━━━━━━━━━━━━━━━━━━━━━━━━━\u001b[0m \u001b[32m22.5/22.5 MB\u001b[0m \u001b[31m9.7 MB/s\u001b[0m eta \u001b[36m0:00:00\u001b[0m00:01\u001b[0m:00:01\u001b[0m\n",
      "\u001b[?25hRequirement already satisfied: six<2.0.0dev,>=1.13.0 in /opt/conda/envs/tensorflow/lib/python3.10/site-packages (from google-cloud-bigquery==1.27.2) (1.17.0)\n",
      "Requirement already satisfied: python-dateutil>=2.8.1 in /opt/conda/envs/tensorflow/lib/python3.10/site-packages (from pandas==1.5.3) (2.9.0.post0)\n",
      "Requirement already satisfied: pytz>=2020.1 in /opt/conda/envs/tensorflow/lib/python3.10/site-packages (from pandas==1.5.3) (2025.2)\n",
      "Requirement already satisfied: numpy>=1.21.0; python_version >= \"3.10\" in /opt/conda/envs/tensorflow/lib/python3.10/site-packages (from pandas==1.5.3) (1.24.4)\n",
      "Requirement already satisfied: setuptools in /opt/conda/envs/tensorflow/lib/python3.10/site-packages (from pandas-gbq==0.17.9) (80.9.0)\n",
      "Requirement already satisfied: db-dtypes<2.0.0,>=0.3.1 in /opt/conda/envs/tensorflow/lib/python3.10/site-packages (from pandas-gbq==0.17.9) (1.4.2)\n",
      "Requirement already satisfied: pydata-google-auth in /opt/conda/envs/tensorflow/lib/python3.10/site-packages (from pandas-gbq==0.17.9) (1.9.1)\n",
      "Requirement already satisfied: google-auth-oauthlib>=0.0.1 in /opt/conda/envs/tensorflow/lib/python3.10/site-packages (from pandas-gbq==0.17.9) (1.2.2)\n",
      "Requirement already satisfied: google-cloud-bigquery-storage<3.0.0dev,>=1.1.0 in /opt/conda/envs/tensorflow/lib/python3.10/site-packages (from pandas-gbq==0.17.9) (2.16.2)\n",
      "Requirement already satisfied: absl-py<2.0.0,>=0.9 in /opt/conda/envs/tensorflow/lib/python3.10/site-packages (from tensorflow-data-validation==1.14.0) (1.4.0)\n",
      "Requirement already satisfied: apache-beam[gcp]<3,>=2.47 in /opt/conda/envs/tensorflow/lib/python3.10/site-packages (from tensorflow-data-validation==1.14.0) (2.66.0)\n",
      "Requirement already satisfied: joblib>=1.2.0 in /opt/conda/envs/tensorflow/lib/python3.10/site-packages (from tensorflow-data-validation==1.14.0) (1.5.1)\n",
      "Requirement already satisfied: protobuf<5,>=3.20.3 in /opt/conda/envs/tensorflow/lib/python3.10/site-packages (from tensorflow-data-validation==1.14.0) (3.20.3)\n",
      "Requirement already satisfied: pyfarmhash<0.4,>=0.2.2 in /opt/conda/envs/tensorflow/lib/python3.10/site-packages (from tensorflow-data-validation==1.14.0) (0.3.2)\n",
      "Requirement already satisfied: tensorflow<3,>=2.13 in /opt/conda/envs/tensorflow/lib/python3.10/site-packages (from tensorflow-data-validation==1.14.0) (2.16.2)\n",
      "Requirement already satisfied: proto-plus<2.0.0dev,>=1.22.0 in /opt/conda/envs/tensorflow/lib/python3.10/site-packages (from google-cloud-aiplatform==1.51.0) (1.26.1)\n",
      "Requirement already satisfied: packaging>=14.3 in /opt/conda/envs/tensorflow/lib/python3.10/site-packages (from google-cloud-aiplatform==1.51.0) (25.0)\n",
      "Requirement already satisfied: google-cloud-storage<3.0.0dev,>=1.32.0 in /opt/conda/envs/tensorflow/lib/python3.10/site-packages (from google-cloud-aiplatform==1.51.0) (2.19.0)\n",
      "Requirement already satisfied: google-cloud-resource-manager<3.0.0dev,>=1.3.3 in /opt/conda/envs/tensorflow/lib/python3.10/site-packages (from google-cloud-aiplatform==1.51.0) (1.12.3)\n",
      "Requirement already satisfied: shapely<3.0.0dev in /opt/conda/envs/tensorflow/lib/python3.10/site-packages (from google-cloud-aiplatform==1.51.0) (2.1.1)\n",
      "Requirement already satisfied: pydantic<3 in /opt/conda/envs/tensorflow/lib/python3.10/site-packages (from google-cloud-aiplatform==1.51.0) (2.11.7)\n",
      "Requirement already satisfied: docstring-parser<1 in /opt/conda/envs/tensorflow/lib/python3.10/site-packages (from google-cloud-aiplatform==1.51.0) (0.16)\n",
      "Requirement already satisfied: googleapis-common-protos<2,>=1.52.0 in /opt/conda/envs/tensorflow/lib/python3.10/site-packages (from tensorflow-metadata==1.14.0) (1.63.1)\n",
      "Requirement already satisfied: requests<3.0.0dev,>=2.18.0 in /opt/conda/envs/tensorflow/lib/python3.10/site-packages (from google-api-core==1.34.1) (2.32.4)\n",
      "Requirement already satisfied: cachetools<6.0,>=2.0.0 in /opt/conda/envs/tensorflow/lib/python3.10/site-packages (from google-auth==2.26.1) (4.2.4)\n",
      "Requirement already satisfied: pyasn1-modules>=0.2.1 in /opt/conda/envs/tensorflow/lib/python3.10/site-packages (from google-auth==2.26.1) (0.4.2)\n",
      "Requirement already satisfied: rsa<5,>=3.1.4 in /opt/conda/envs/tensorflow/lib/python3.10/site-packages (from google-auth==2.26.1) (4.9.1)\n",
      "Requirement already satisfied: google-crc32c<2.0dev,>=1.0; python_version >= \"3.5\" in /opt/conda/envs/tensorflow/lib/python3.10/site-packages (from google-resumable-media==1.3.3) (1.7.1)\n",
      "Requirement already satisfied: google-api-python-client<2,>=1.7.11 in /opt/conda/envs/tensorflow/lib/python3.10/site-packages (from tfx-bsl==1.14.0) (1.12.11)\n",
      "Requirement already satisfied: tensorflow-serving-api<3,>=2.13.0 in /opt/conda/envs/tensorflow/lib/python3.10/site-packages (from tfx-bsl==1.14.0) (2.16.1)\n",
      "Requirement already satisfied: requests-oauthlib>=0.7.0 in /opt/conda/envs/tensorflow/lib/python3.10/site-packages (from google-auth-oauthlib>=0.0.1->pandas-gbq==0.17.9) (2.0.0)\n",
      "Requirement already satisfied: crcmod<2.0,>=1.7 in /opt/conda/envs/tensorflow/lib/python3.10/site-packages (from apache-beam[gcp]<3,>=2.47->tensorflow-data-validation==1.14.0) (1.7)\n",
      "Requirement already satisfied: orjson<4,>=3.9.7 in /opt/conda/envs/tensorflow/lib/python3.10/site-packages (from apache-beam[gcp]<3,>=2.47->tensorflow-data-validation==1.14.0) (3.10.18)\n",
      "Requirement already satisfied: dill<0.3.2,>=0.3.1.1 in /opt/conda/envs/tensorflow/lib/python3.10/site-packages (from apache-beam[gcp]<3,>=2.47->tensorflow-data-validation==1.14.0) (0.3.1.1)\n",
      "Requirement already satisfied: fastavro<2,>=0.23.6 in /opt/conda/envs/tensorflow/lib/python3.10/site-packages (from apache-beam[gcp]<3,>=2.47->tensorflow-data-validation==1.14.0) (1.11.1)\n",
      "Requirement already satisfied: fasteners<1.0,>=0.3 in /opt/conda/envs/tensorflow/lib/python3.10/site-packages (from apache-beam[gcp]<3,>=2.47->tensorflow-data-validation==1.14.0) (0.19)\n",
      "Requirement already satisfied: grpcio!=1.48.0,!=1.59.*,!=1.60.*,!=1.61.*,!=1.62.0,!=1.62.1,<1.66.0,<2,>=1.33.1; python_version <= \"3.12\" in /opt/conda/envs/tensorflow/lib/python3.10/site-packages (from apache-beam[gcp]<3,>=2.47->tensorflow-data-validation==1.14.0) (1.65.5)\n",
      "Requirement already satisfied: hdfs<3.0.0,>=2.1.0 in /opt/conda/envs/tensorflow/lib/python3.10/site-packages (from apache-beam[gcp]<3,>=2.47->tensorflow-data-validation==1.14.0) (2.7.3)\n",
      "Requirement already satisfied: httplib2<0.23.0,>=0.8 in /opt/conda/envs/tensorflow/lib/python3.10/site-packages (from apache-beam[gcp]<3,>=2.47->tensorflow-data-validation==1.14.0) (0.21.0)\n",
      "Requirement already satisfied: jsonschema<5.0.0,>=4.0.0 in /opt/conda/envs/tensorflow/lib/python3.10/site-packages (from apache-beam[gcp]<3,>=2.47->tensorflow-data-validation==1.14.0) (4.24.0)\n",
      "Requirement already satisfied: jsonpickle<4.0.0,>=3.0.0 in /opt/conda/envs/tensorflow/lib/python3.10/site-packages (from apache-beam[gcp]<3,>=2.47->tensorflow-data-validation==1.14.0) (3.4.2)\n",
      "Requirement already satisfied: objsize<0.8.0,>=0.6.1 in /opt/conda/envs/tensorflow/lib/python3.10/site-packages (from apache-beam[gcp]<3,>=2.47->tensorflow-data-validation==1.14.0) (0.6.1)\n",
      "Requirement already satisfied: pymongo<5.0.0,>=3.8.0 in /opt/conda/envs/tensorflow/lib/python3.10/site-packages (from apache-beam[gcp]<3,>=2.47->tensorflow-data-validation==1.14.0) (3.13.0)\n",
      "Requirement already satisfied: pydot<2,>=1.2.0 in /opt/conda/envs/tensorflow/lib/python3.10/site-packages (from apache-beam[gcp]<3,>=2.47->tensorflow-data-validation==1.14.0) (1.4.2)\n",
      "Requirement already satisfied: redis<6,>=5.0.0 in /opt/conda/envs/tensorflow/lib/python3.10/site-packages (from apache-beam[gcp]<3,>=2.47->tensorflow-data-validation==1.14.0) (5.3.0)\n",
      "Requirement already satisfied: regex>=2020.6.8 in /opt/conda/envs/tensorflow/lib/python3.10/site-packages (from apache-beam[gcp]<3,>=2.47->tensorflow-data-validation==1.14.0) (2024.11.6)\n",
      "Requirement already satisfied: sortedcontainers>=2.4.0 in /opt/conda/envs/tensorflow/lib/python3.10/site-packages (from apache-beam[gcp]<3,>=2.47->tensorflow-data-validation==1.14.0) (2.4.0)\n",
      "Requirement already satisfied: typing-extensions>=3.7.0 in /opt/conda/envs/tensorflow/lib/python3.10/site-packages (from apache-beam[gcp]<3,>=2.47->tensorflow-data-validation==1.14.0) (4.14.1)\n",
      "Requirement already satisfied: zstandard<1,>=0.18.0 in /opt/conda/envs/tensorflow/lib/python3.10/site-packages (from apache-beam[gcp]<3,>=2.47->tensorflow-data-validation==1.14.0) (0.23.0)\n",
      "Requirement already satisfied: pyyaml<7.0.0,>=3.12 in /opt/conda/envs/tensorflow/lib/python3.10/site-packages (from apache-beam[gcp]<3,>=2.47->tensorflow-data-validation==1.14.0) (6.0.2)\n",
      "Requirement already satisfied: pyarrow-hotfix<1 in /opt/conda/envs/tensorflow/lib/python3.10/site-packages (from apache-beam[gcp]<3,>=2.47->tensorflow-data-validation==1.14.0) (0.7)\n",
      "Requirement already satisfied: google-apitools<0.5.32,>=0.5.31; python_version <= \"3.12\" and extra == \"gcp\" in /opt/conda/envs/tensorflow/lib/python3.10/site-packages (from apache-beam[gcp]<3,>=2.47->tensorflow-data-validation==1.14.0) (0.5.31)\n",
      "Requirement already satisfied: google-auth-httplib2<0.3.0,>=0.1.0; extra == \"gcp\" in /opt/conda/envs/tensorflow/lib/python3.10/site-packages (from apache-beam[gcp]<3,>=2.47->tensorflow-data-validation==1.14.0) (0.1.1)\n",
      "Requirement already satisfied: google-cloud-datastore<3,>=2.0.0; extra == \"gcp\" in /opt/conda/envs/tensorflow/lib/python3.10/site-packages (from apache-beam[gcp]<3,>=2.47->tensorflow-data-validation==1.14.0) (2.21.0)\n",
      "Requirement already satisfied: google-cloud-pubsub<3,>=2.1.0; extra == \"gcp\" in /opt/conda/envs/tensorflow/lib/python3.10/site-packages (from apache-beam[gcp]<3,>=2.47->tensorflow-data-validation==1.14.0) (2.21.4)\n",
      "Requirement already satisfied: google-cloud-pubsublite<2,>=1.2.0; extra == \"gcp\" in /opt/conda/envs/tensorflow/lib/python3.10/site-packages (from apache-beam[gcp]<3,>=2.47->tensorflow-data-validation==1.14.0) (1.12.0)\n",
      "Requirement already satisfied: google-cloud-bigtable<3,>=2.19.0; extra == \"gcp\" in /opt/conda/envs/tensorflow/lib/python3.10/site-packages (from apache-beam[gcp]<3,>=2.47->tensorflow-data-validation==1.14.0) (2.31.0)\n",
      "Requirement already satisfied: google-cloud-spanner<4,>=3.0.0; extra == \"gcp\" in /opt/conda/envs/tensorflow/lib/python3.10/site-packages (from apache-beam[gcp]<3,>=2.47->tensorflow-data-validation==1.14.0) (3.46.0)\n",
      "Requirement already satisfied: google-cloud-dlp<4,>=3.0.0; extra == \"gcp\" in /opt/conda/envs/tensorflow/lib/python3.10/site-packages (from apache-beam[gcp]<3,>=2.47->tensorflow-data-validation==1.14.0) (3.18.0)\n",
      "Requirement already satisfied: google-cloud-language<3,>=2.0; extra == \"gcp\" in /opt/conda/envs/tensorflow/lib/python3.10/site-packages (from apache-beam[gcp]<3,>=2.47->tensorflow-data-validation==1.14.0) (2.17.2)\n",
      "Requirement already satisfied: google-cloud-videointelligence<3,>=2.0; extra == \"gcp\" in /opt/conda/envs/tensorflow/lib/python3.10/site-packages (from apache-beam[gcp]<3,>=2.47->tensorflow-data-validation==1.14.0) (2.16.2)\n",
      "Requirement already satisfied: google-cloud-vision<4,>=2; extra == \"gcp\" in /opt/conda/envs/tensorflow/lib/python3.10/site-packages (from apache-beam[gcp]<3,>=2.47->tensorflow-data-validation==1.14.0) (3.7.2)\n",
      "Requirement already satisfied: google-cloud-recommendations-ai<0.11.0,>=0.1.0; extra == \"gcp\" in /opt/conda/envs/tensorflow/lib/python3.10/site-packages (from apache-beam[gcp]<3,>=2.47->tensorflow-data-validation==1.14.0) (0.7.1)\n",
      "Requirement already satisfied: keyrings.google-artifactregistry-auth; extra == \"gcp\" in /opt/conda/envs/tensorflow/lib/python3.10/site-packages (from apache-beam[gcp]<3,>=2.47->tensorflow-data-validation==1.14.0) (1.1.2)\n",
      "Requirement already satisfied: astunparse>=1.6.0 in /opt/conda/envs/tensorflow/lib/python3.10/site-packages (from tensorflow<3,>=2.13->tensorflow-data-validation==1.14.0) (1.6.3)\n",
      "Requirement already satisfied: flatbuffers>=23.5.26 in /opt/conda/envs/tensorflow/lib/python3.10/site-packages (from tensorflow<3,>=2.13->tensorflow-data-validation==1.14.0) (25.2.10)\n",
      "Requirement already satisfied: gast!=0.5.0,!=0.5.1,!=0.5.2,>=0.2.1 in /opt/conda/envs/tensorflow/lib/python3.10/site-packages (from tensorflow<3,>=2.13->tensorflow-data-validation==1.14.0) (0.4.0)\n",
      "Requirement already satisfied: google-pasta>=0.1.1 in /opt/conda/envs/tensorflow/lib/python3.10/site-packages (from tensorflow<3,>=2.13->tensorflow-data-validation==1.14.0) (0.2.0)\n",
      "Requirement already satisfied: h5py>=3.10.0 in /opt/conda/envs/tensorflow/lib/python3.10/site-packages (from tensorflow<3,>=2.13->tensorflow-data-validation==1.14.0) (3.14.0)\n",
      "Requirement already satisfied: libclang>=13.0.0 in /opt/conda/envs/tensorflow/lib/python3.10/site-packages (from tensorflow<3,>=2.13->tensorflow-data-validation==1.14.0) (18.1.1)\n",
      "Requirement already satisfied: ml-dtypes~=0.3.1 in /opt/conda/envs/tensorflow/lib/python3.10/site-packages (from tensorflow<3,>=2.13->tensorflow-data-validation==1.14.0) (0.3.2)\n",
      "Requirement already satisfied: opt-einsum>=2.3.2 in /opt/conda/envs/tensorflow/lib/python3.10/site-packages (from tensorflow<3,>=2.13->tensorflow-data-validation==1.14.0) (3.4.0)\n",
      "Requirement already satisfied: termcolor>=1.1.0 in /opt/conda/envs/tensorflow/lib/python3.10/site-packages (from tensorflow<3,>=2.13->tensorflow-data-validation==1.14.0) (3.1.0)\n",
      "Requirement already satisfied: wrapt>=1.11.0 in /opt/conda/envs/tensorflow/lib/python3.10/site-packages (from tensorflow<3,>=2.13->tensorflow-data-validation==1.14.0) (1.17.2)\n",
      "Requirement already satisfied: tensorboard<2.17,>=2.16 in /opt/conda/envs/tensorflow/lib/python3.10/site-packages (from tensorflow<3,>=2.13->tensorflow-data-validation==1.14.0) (2.16.2)\n",
      "Requirement already satisfied: keras>=3.0.0 in /opt/conda/envs/tensorflow/lib/python3.10/site-packages (from tensorflow<3,>=2.13->tensorflow-data-validation==1.14.0) (3.10.0)\n",
      "Requirement already satisfied: tensorflow-io-gcs-filesystem>=0.23.1; python_version < \"3.12\" in /opt/conda/envs/tensorflow/lib/python3.10/site-packages (from tensorflow<3,>=2.13->tensorflow-data-validation==1.14.0) (0.29.0)\n",
      "Requirement already satisfied: grpc-google-iam-v1<1.0.0dev,>=0.12.4 in /opt/conda/envs/tensorflow/lib/python3.10/site-packages (from google-cloud-resource-manager<3.0.0dev,>=1.3.3->google-cloud-aiplatform==1.51.0) (0.12.7)\n",
      "Requirement already satisfied: annotated-types>=0.6.0 in /opt/conda/envs/tensorflow/lib/python3.10/site-packages (from pydantic<3->google-cloud-aiplatform==1.51.0) (0.7.0)\n",
      "Requirement already satisfied: pydantic-core==2.33.2 in /opt/conda/envs/tensorflow/lib/python3.10/site-packages (from pydantic<3->google-cloud-aiplatform==1.51.0) (2.33.2)\n",
      "Requirement already satisfied: typing-inspection>=0.4.0 in /opt/conda/envs/tensorflow/lib/python3.10/site-packages (from pydantic<3->google-cloud-aiplatform==1.51.0) (0.4.1)\n",
      "Requirement already satisfied: charset_normalizer<4,>=2 in /opt/conda/envs/tensorflow/lib/python3.10/site-packages (from requests<3.0.0dev,>=2.18.0->google-api-core==1.34.1) (3.4.2)\n",
      "Requirement already satisfied: idna<4,>=2.5 in /opt/conda/envs/tensorflow/lib/python3.10/site-packages (from requests<3.0.0dev,>=2.18.0->google-api-core==1.34.1) (3.10)\n",
      "Requirement already satisfied: urllib3<3,>=1.21.1 in /opt/conda/envs/tensorflow/lib/python3.10/site-packages (from requests<3.0.0dev,>=2.18.0->google-api-core==1.34.1) (1.26.20)\n",
      "Requirement already satisfied: certifi>=2017.4.17 in /opt/conda/envs/tensorflow/lib/python3.10/site-packages (from requests<3.0.0dev,>=2.18.0->google-api-core==1.34.1) (2025.6.15)\n",
      "Requirement already satisfied: pyasn1<0.7.0,>=0.6.1 in /opt/conda/envs/tensorflow/lib/python3.10/site-packages (from pyasn1-modules>=0.2.1->google-auth==2.26.1) (0.6.1)\n",
      "Requirement already satisfied: uritemplate<4dev,>=3.0.0 in /opt/conda/envs/tensorflow/lib/python3.10/site-packages (from google-api-python-client<2,>=1.7.11->tfx-bsl==1.14.0) (3.0.1)\n",
      "Requirement already satisfied: oauthlib>=3.0.0 in /opt/conda/envs/tensorflow/lib/python3.10/site-packages (from requests-oauthlib>=0.7.0->google-auth-oauthlib>=0.0.1->pandas-gbq==0.17.9) (3.3.1)\n",
      "Requirement already satisfied: docopt in /opt/conda/envs/tensorflow/lib/python3.10/site-packages (from hdfs<3.0.0,>=2.1.0->apache-beam[gcp]<3,>=2.47->tensorflow-data-validation==1.14.0) (0.6.2)\n",
      "Requirement already satisfied: pyparsing!=3.0.0,!=3.0.1,!=3.0.2,!=3.0.3,<4,>=2.4.2; python_version > \"3.0\" in /opt/conda/envs/tensorflow/lib/python3.10/site-packages (from httplib2<0.23.0,>=0.8->apache-beam[gcp]<3,>=2.47->tensorflow-data-validation==1.14.0) (3.2.3)\n",
      "Requirement already satisfied: attrs>=22.2.0 in /opt/conda/envs/tensorflow/lib/python3.10/site-packages (from jsonschema<5.0.0,>=4.0.0->apache-beam[gcp]<3,>=2.47->tensorflow-data-validation==1.14.0) (25.3.0)\n",
      "Requirement already satisfied: jsonschema-specifications>=2023.03.6 in /opt/conda/envs/tensorflow/lib/python3.10/site-packages (from jsonschema<5.0.0,>=4.0.0->apache-beam[gcp]<3,>=2.47->tensorflow-data-validation==1.14.0) (2025.4.1)\n",
      "Requirement already satisfied: referencing>=0.28.4 in /opt/conda/envs/tensorflow/lib/python3.10/site-packages (from jsonschema<5.0.0,>=4.0.0->apache-beam[gcp]<3,>=2.47->tensorflow-data-validation==1.14.0) (0.36.2)\n",
      "Requirement already satisfied: rpds-py>=0.7.1 in /opt/conda/envs/tensorflow/lib/python3.10/site-packages (from jsonschema<5.0.0,>=4.0.0->apache-beam[gcp]<3,>=2.47->tensorflow-data-validation==1.14.0) (0.26.0)\n",
      "Requirement already satisfied: PyJWT~=2.9.0 in /opt/conda/envs/tensorflow/lib/python3.10/site-packages (from redis<6,>=5.0.0->apache-beam[gcp]<3,>=2.47->tensorflow-data-validation==1.14.0) (2.9.0)\n",
      "Requirement already satisfied: async-timeout>=4.0.3; python_full_version < \"3.11.3\" in /opt/conda/envs/tensorflow/lib/python3.10/site-packages (from redis<6,>=5.0.0->apache-beam[gcp]<3,>=2.47->tensorflow-data-validation==1.14.0) (5.0.1)\n",
      "Requirement already satisfied: oauth2client>=1.4.12 in /opt/conda/envs/tensorflow/lib/python3.10/site-packages (from google-apitools<0.5.32,>=0.5.31; python_version <= \"3.12\" and extra == \"gcp\"->apache-beam[gcp]<3,>=2.47->tensorflow-data-validation==1.14.0) (4.1.3)\n",
      "Requirement already satisfied: grpcio-status>=1.33.2 in /opt/conda/envs/tensorflow/lib/python3.10/site-packages (from google-cloud-pubsub<3,>=2.1.0; extra == \"gcp\"->apache-beam[gcp]<3,>=2.47->tensorflow-data-validation==1.14.0) (1.49.0rc1)\n",
      "Requirement already satisfied: overrides<8.0.0,>=6.0.1 in /opt/conda/envs/tensorflow/lib/python3.10/site-packages (from google-cloud-pubsublite<2,>=1.2.0; extra == \"gcp\"->apache-beam[gcp]<3,>=2.47->tensorflow-data-validation==1.14.0) (7.7.0)\n",
      "Requirement already satisfied: sqlparse>=0.4.4 in /opt/conda/envs/tensorflow/lib/python3.10/site-packages (from google-cloud-spanner<4,>=3.0.0; extra == \"gcp\"->apache-beam[gcp]<3,>=2.47->tensorflow-data-validation==1.14.0) (0.5.3)\n",
      "Requirement already satisfied: grpc-interceptor>=0.15.4 in /opt/conda/envs/tensorflow/lib/python3.10/site-packages (from google-cloud-spanner<4,>=3.0.0; extra == \"gcp\"->apache-beam[gcp]<3,>=2.47->tensorflow-data-validation==1.14.0) (0.15.4)\n",
      "Requirement already satisfied: keyring in /opt/conda/envs/tensorflow/lib/python3.10/site-packages (from keyrings.google-artifactregistry-auth; extra == \"gcp\"->apache-beam[gcp]<3,>=2.47->tensorflow-data-validation==1.14.0) (25.6.0)\n",
      "Requirement already satisfied: pluggy in /opt/conda/envs/tensorflow/lib/python3.10/site-packages (from keyrings.google-artifactregistry-auth; extra == \"gcp\"->apache-beam[gcp]<3,>=2.47->tensorflow-data-validation==1.14.0) (1.6.0)\n",
      "Requirement already satisfied: wheel<1.0,>=0.23.0 in /opt/conda/envs/tensorflow/lib/python3.10/site-packages (from astunparse>=1.6.0->tensorflow<3,>=2.13->tensorflow-data-validation==1.14.0) (0.45.1)\n",
      "Requirement already satisfied: markdown>=2.6.8 in /opt/conda/envs/tensorflow/lib/python3.10/site-packages (from tensorboard<2.17,>=2.16->tensorflow<3,>=2.13->tensorflow-data-validation==1.14.0) (3.8.2)\n",
      "Requirement already satisfied: tensorboard-data-server<0.8.0,>=0.7.0 in /opt/conda/envs/tensorflow/lib/python3.10/site-packages (from tensorboard<2.17,>=2.16->tensorflow<3,>=2.13->tensorflow-data-validation==1.14.0) (0.7.2)\n",
      "Requirement already satisfied: werkzeug>=1.0.1 in /opt/conda/envs/tensorflow/lib/python3.10/site-packages (from tensorboard<2.17,>=2.16->tensorflow<3,>=2.13->tensorflow-data-validation==1.14.0) (3.1.3)\n",
      "Requirement already satisfied: rich in /opt/conda/envs/tensorflow/lib/python3.10/site-packages (from keras>=3.0.0->tensorflow<3,>=2.13->tensorflow-data-validation==1.14.0) (14.0.0)\n",
      "Requirement already satisfied: namex in /opt/conda/envs/tensorflow/lib/python3.10/site-packages (from keras>=3.0.0->tensorflow<3,>=2.13->tensorflow-data-validation==1.14.0) (0.1.0)\n",
      "Requirement already satisfied: optree in /opt/conda/envs/tensorflow/lib/python3.10/site-packages (from keras>=3.0.0->tensorflow<3,>=2.13->tensorflow-data-validation==1.14.0) (0.16.0)\n",
      "Requirement already satisfied: SecretStorage>=3.2; sys_platform == \"linux\" in /opt/conda/envs/tensorflow/lib/python3.10/site-packages (from keyring->keyrings.google-artifactregistry-auth; extra == \"gcp\"->apache-beam[gcp]<3,>=2.47->tensorflow-data-validation==1.14.0) (3.3.3)\n",
      "Requirement already satisfied: jeepney>=0.4.2; sys_platform == \"linux\" in /opt/conda/envs/tensorflow/lib/python3.10/site-packages (from keyring->keyrings.google-artifactregistry-auth; extra == \"gcp\"->apache-beam[gcp]<3,>=2.47->tensorflow-data-validation==1.14.0) (0.9.0)\n",
      "Requirement already satisfied: importlib_metadata>=4.11.4; python_version < \"3.12\" in /opt/conda/envs/tensorflow/lib/python3.10/site-packages (from keyring->keyrings.google-artifactregistry-auth; extra == \"gcp\"->apache-beam[gcp]<3,>=2.47->tensorflow-data-validation==1.14.0) (8.4.0)\n",
      "Requirement already satisfied: jaraco.classes in /opt/conda/envs/tensorflow/lib/python3.10/site-packages (from keyring->keyrings.google-artifactregistry-auth; extra == \"gcp\"->apache-beam[gcp]<3,>=2.47->tensorflow-data-validation==1.14.0) (3.4.0)\n",
      "Requirement already satisfied: jaraco.functools in /opt/conda/envs/tensorflow/lib/python3.10/site-packages (from keyring->keyrings.google-artifactregistry-auth; extra == \"gcp\"->apache-beam[gcp]<3,>=2.47->tensorflow-data-validation==1.14.0) (4.2.1)\n",
      "Requirement already satisfied: jaraco.context in /opt/conda/envs/tensorflow/lib/python3.10/site-packages (from keyring->keyrings.google-artifactregistry-auth; extra == \"gcp\"->apache-beam[gcp]<3,>=2.47->tensorflow-data-validation==1.14.0) (6.0.1)\n",
      "Requirement already satisfied: MarkupSafe>=2.1.1 in /opt/conda/envs/tensorflow/lib/python3.10/site-packages (from werkzeug>=1.0.1->tensorboard<2.17,>=2.16->tensorflow<3,>=2.13->tensorflow-data-validation==1.14.0) (3.0.2)\n",
      "Requirement already satisfied: markdown-it-py>=2.2.0 in /opt/conda/envs/tensorflow/lib/python3.10/site-packages (from rich->keras>=3.0.0->tensorflow<3,>=2.13->tensorflow-data-validation==1.14.0) (3.0.0)\n",
      "Requirement already satisfied: pygments<3.0.0,>=2.13.0 in /opt/conda/envs/tensorflow/lib/python3.10/site-packages (from rich->keras>=3.0.0->tensorflow<3,>=2.13->tensorflow-data-validation==1.14.0) (2.19.2)\n",
      "Requirement already satisfied: cryptography>=2.0 in /opt/conda/envs/tensorflow/lib/python3.10/site-packages (from SecretStorage>=3.2; sys_platform == \"linux\"->keyring->keyrings.google-artifactregistry-auth; extra == \"gcp\"->apache-beam[gcp]<3,>=2.47->tensorflow-data-validation==1.14.0) (42.0.8)\n",
      "Requirement already satisfied: zipp>=0.5 in /opt/conda/envs/tensorflow/lib/python3.10/site-packages (from importlib_metadata>=4.11.4; python_version < \"3.12\"->keyring->keyrings.google-artifactregistry-auth; extra == \"gcp\"->apache-beam[gcp]<3,>=2.47->tensorflow-data-validation==1.14.0) (3.23.0)\n",
      "Requirement already satisfied: more-itertools in /opt/conda/envs/tensorflow/lib/python3.10/site-packages (from jaraco.classes->keyring->keyrings.google-artifactregistry-auth; extra == \"gcp\"->apache-beam[gcp]<3,>=2.47->tensorflow-data-validation==1.14.0) (10.7.0)\n",
      "Requirement already satisfied: backports.tarfile; python_version < \"3.12\" in /opt/conda/envs/tensorflow/lib/python3.10/site-packages (from jaraco.context->keyring->keyrings.google-artifactregistry-auth; extra == \"gcp\"->apache-beam[gcp]<3,>=2.47->tensorflow-data-validation==1.14.0) (1.2.0)\n",
      "Requirement already satisfied: mdurl~=0.1 in /opt/conda/envs/tensorflow/lib/python3.10/site-packages (from markdown-it-py>=2.2.0->rich->keras>=3.0.0->tensorflow<3,>=2.13->tensorflow-data-validation==1.14.0) (0.1.2)\n",
      "Requirement already satisfied: cffi>=1.12; platform_python_implementation != \"PyPy\" in /opt/conda/envs/tensorflow/lib/python3.10/site-packages (from cryptography>=2.0->SecretStorage>=3.2; sys_platform == \"linux\"->keyring->keyrings.google-artifactregistry-auth; extra == \"gcp\"->apache-beam[gcp]<3,>=2.47->tensorflow-data-validation==1.14.0) (1.17.1)\n",
      "Requirement already satisfied: pycparser in /opt/conda/envs/tensorflow/lib/python3.10/site-packages (from cffi>=1.12; platform_python_implementation != \"PyPy\"->cryptography>=2.0->SecretStorage>=3.2; sys_platform == \"linux\"->keyring->keyrings.google-artifactregistry-auth; extra == \"gcp\"->apache-beam[gcp]<3,>=2.47->tensorflow-data-validation==1.14.0) (2.22)\n",
      "Installing collected packages: google-auth, google-api-core, google-cloud-core, google-resumable-media, google-cloud-bigquery, pyarrow, pandas-gbq, tensorflow-metadata, tfx-bsl, tensorflow-data-validation, google-cloud-aiplatform\n",
      "\u001b[2K  Attempting uninstall: google-auth\n",
      "\u001b[2K    Found existing installation: google-auth 2.40.3\n",
      "\u001b[2K    Uninstalling google-auth-2.40.3:\n",
      "\u001b[2K      Successfully uninstalled google-auth-2.40.3\n",
      "\u001b[2K  Attempting uninstall: google-api-core━━━━━━━━━\u001b[0m \u001b[32m 0/11\u001b[0m [google-auth]\n",
      "\u001b[2K    Found existing installation: google-api-core 2.25.10/11\u001b[0m [google-auth]\n",
      "\u001b[2K    Uninstalling google-api-core-2.25.1:━━━━\u001b[0m \u001b[32m 0/11\u001b[0m [google-auth]\n",
      "\u001b[2K      Successfully uninstalled google-api-core-2.25.1m 0/11\u001b[0m [google-auth]\n",
      "\u001b[2K  Attempting uninstall: google-cloud-core━━━\u001b[0m \u001b[32m 0/11\u001b[0m [google-auth]\n",
      "\u001b[2K    Found existing installation: google-cloud-core 2.4.3/11\u001b[0m [google-auth]\n",
      "\u001b[2K    Uninstalling google-cloud-core-2.4.3:━━━\u001b[0m \u001b[32m 0/11\u001b[0m [google-auth]\n",
      "\u001b[2K      Successfully uninstalled google-cloud-core-2.4.3━━━━━━━━━━━━\u001b[0m \u001b[32m 2/11\u001b[0m [google-cloud-core]\n",
      "\u001b[2K  Attempting uninstall: google-resumable-media━━━━━━━━━━━━━━━━\u001b[0m \u001b[32m 2/11\u001b[0m [google-cloud-core]\n",
      "\u001b[2K    Found existing installation: google-resumable-media 2.7.2━\u001b[0m \u001b[32m 2/11\u001b[0m [google-cloud-core]\n",
      "\u001b[2K    Uninstalling google-resumable-media-2.7.2:━━━━━━━━━━━━━━━━\u001b[0m \u001b[32m 2/11\u001b[0m [google-cloud-core]\n",
      "\u001b[2K      Successfully uninstalled google-resumable-media-2.7.2━━━\u001b[0m \u001b[32m 2/11\u001b[0m [google-cloud-core]\n",
      "\u001b[2K  Attempting uninstall: google-cloud-bigquery━━━━━━━━━━━━━━━━━\u001b[0m \u001b[32m 2/11\u001b[0m [google-cloud-core]\n",
      "\u001b[2K    Found existing installation: google-cloud-bigquery 3.35.0━\u001b[0m \u001b[32m 2/11\u001b[0m [google-cloud-core]\n",
      "\u001b[2K    Uninstalling google-cloud-bigquery-3.35.0:━━━━━━━━━━━━━━━━\u001b[0m \u001b[32m 2/11\u001b[0m [google-cloud-core]\n",
      "\u001b[2K      Successfully uninstalled google-cloud-bigquery-3.35.0━━━\u001b[0m \u001b[32m 2/11\u001b[0m [google-cloud-core]\n",
      "\u001b[2K  Attempting uninstall: pyarrow╸\u001b[0m\u001b[90m━━━━━━━━━━━━━━━━━━━━━━━━━\u001b[0m \u001b[32m 4/11\u001b[0m [google-cloud-bigquery]\n",
      "\u001b[2K    Found existing installation: pyarrow 10.0.1━━━━━━━━━━━━━━━\u001b[0m \u001b[32m 4/11\u001b[0m [google-cloud-bigquery]\n",
      "\u001b[2K    Uninstalling pyarrow-10.0.1:\u001b[90m━━━━━━━━━━━━━━━━━━━━━━━━━\u001b[0m \u001b[32m 4/11\u001b[0m [google-cloud-bigquery]\n",
      "\u001b[2K      Successfully uninstalled pyarrow-10.0.1━━━━━━━━━━━━━━━━━\u001b[0m \u001b[32m 4/11\u001b[0m [google-cloud-bigquery]\n",
      "\u001b[2K  Attempting uninstall: pandas-gbqm╺\u001b[0m\u001b[90m━━━━━━━━━━━━━━━━━━━━━\u001b[0m \u001b[32m 5/11\u001b[0m [pyarrow]-bigquery]\n",
      "\u001b[2K    Found existing installation: pandas-gbq 0.29.2━━━━━━━━━━━━\u001b[0m \u001b[32m 5/11\u001b[0m [pyarrow]\n",
      "\u001b[2K    Uninstalling pandas-gbq-0.29.2:m\u001b[90m━━━━━━━━━━━━━━━━━━━━━\u001b[0m \u001b[32m 5/11\u001b[0m [pyarrow]\n",
      "\u001b[2K      Successfully uninstalled pandas-gbq-0.29.2━━━━━━━━━━━━━━\u001b[0m \u001b[32m 5/11\u001b[0m [pyarrow]\n",
      "\u001b[2K  Attempting uninstall: tensorflow-metadata━━━━━━━━━━━━━━━━━━━\u001b[0m \u001b[32m 5/11\u001b[0m [pyarrow]\n",
      "\u001b[2K    Found existing installation: tensorflow-metadata 1.16.1━━━\u001b[0m \u001b[32m 5/11\u001b[0m [pyarrow]\n",
      "\u001b[2K    Uninstalling tensorflow-metadata-1.16.1:━━━━━━━━━━━━━━━━━━\u001b[0m \u001b[32m 5/11\u001b[0m [pyarrow]\n",
      "\u001b[2K      Successfully uninstalled tensorflow-metadata-1.16.1━━━━━\u001b[0m \u001b[32m 5/11\u001b[0m [pyarrow]\n",
      "\u001b[2K  Attempting uninstall: tfx-bsl╺\u001b[0m\u001b[90m━━━━━━━━━━━━━━━━━━━━━\u001b[0m \u001b[32m 5/11\u001b[0m [pyarrow]\n",
      "\u001b[2K    Found existing installation: tfx-bsl 1.16.1━━━━━━━━━━━━━━━\u001b[0m \u001b[32m 5/11\u001b[0m [pyarrow]\n",
      "\u001b[2K    Uninstalling tfx-bsl-1.16.1:\u001b[0m\u001b[90m━━━━━━━━━━━━━━━━━━━━━\u001b[0m \u001b[32m 5/11\u001b[0m [pyarrow]\n",
      "\u001b[2K      Successfully uninstalled tfx-bsl-1.16.1━━━━━━━━━━━━━━━━━\u001b[0m \u001b[32m 5/11\u001b[0m [pyarrow]\n",
      "\u001b[2K  Attempting uninstall: tensorflow-data-validationm\u001b[90m━━━━━━━━━━\u001b[0m \u001b[32m 8/11\u001b[0m [tfx-bsl]\n",
      "\u001b[2K    Found existing installation: tensorflow-data-validation 1.16.1 \u001b[32m 8/11\u001b[0m [tfx-bsl]\n",
      "\u001b[2K    Uninstalling tensorflow-data-validation-1.16.1:m━━━━━━━━━━\u001b[0m \u001b[32m 8/11\u001b[0m [tfx-bsl]\n",
      "\u001b[2K      Successfully uninstalled tensorflow-data-validation-1.16.10m \u001b[32m 8/11\u001b[0m [tfx-bsl]\n",
      "\u001b[2K  Attempting uninstall: google-cloud-aiplatform1m╸\u001b[0m\u001b[90m━━━━━━━\u001b[0m \u001b[32m 9/11\u001b[0m [tensorflow-data-validation]\n",
      "\u001b[2K    Found existing installation: google-cloud-aiplatform 1.103.00m \u001b[32m 9/11\u001b[0m [tensorflow-data-validation]\n",
      "\u001b[2K    Uninstalling google-cloud-aiplatform-1.103.0:[90m╺\u001b[0m\u001b[90m━━━\u001b[0m \u001b[32m10/11\u001b[0m [google-cloud-aiplatform]\n",
      "\u001b[2K      Successfully uninstalled google-cloud-aiplatform-1.103.0m━━━\u001b[0m \u001b[32m10/11\u001b[0m [google-cloud-aiplatform]\n",
      "\u001b[2K   \u001b[90m━━━━━━━━━━━━━━━━━━━━━━━━━━━━━━━━━━━━━━━━\u001b[0m \u001b[32m11/11\u001b[0m [google-cloud-aiplatform]-cloud-aiplatform]\n",
      "\u001b[1A\u001b[2K\u001b[31mERROR: pip's legacy dependency resolver does not consider dependency conflicts when selecting packages. This behaviour is the source of the following dependency conflicts.\n",
      "google-cloud-bigtable 2.31.0 requires google-api-core[grpc]<3.0.0,>=2.16.0, but you'll have google-api-core 1.34.1 which is incompatible.\n",
      "google-cloud-core 1.7.3 requires google-auth<2.0dev,>=1.24.0, but you'll have google-auth 2.26.1 which is incompatible.\n",
      "google-cloud-storage 2.19.0 requires google-api-core<3.0.0dev,>=2.15.0, but you'll have google-api-core 1.34.1 which is incompatible.\n",
      "google-cloud-storage 2.19.0 requires google-cloud-core<3.0dev,>=2.3.0, but you'll have google-cloud-core 1.7.3 which is incompatible.\n",
      "google-cloud-storage 2.19.0 requires google-resumable-media>=2.7.2, but you'll have google-resumable-media 1.3.3 which is incompatible.\n",
      "pandas-gbq 0.17.9 requires pyarrow<10.0dev,>=3.0.0, but you'll have pyarrow 10.0.0 which is incompatible.\n",
      "tensorflow-transform 0.14.0 requires tensorflow-metadata<0.15,>=0.14, but you'll have tensorflow-metadata 1.14.0 which is incompatible.\u001b[0m\u001b[31m\n",
      "\u001b[0mSuccessfully installed google-api-core-1.34.1 google-auth-2.26.1 google-cloud-aiplatform-1.51.0 google-cloud-bigquery-1.27.2 google-cloud-core-1.7.3 google-resumable-media-1.3.3 pandas-gbq-0.17.9 pyarrow-10.0.0 tensorflow-data-validation-1.14.0 tensorflow-metadata-1.14.0 tfx-bsl-1.14.0\n"
     ]
    }
   ],
   "source": [
    "!pip install --use-deprecated=legacy-resolver \\\n",
    "  google-cloud-bigquery==1.27.2 \\\n",
    "  pandas==1.5.3 \\\n",
    "  pandas-gbq==0.17.9 \\\n",
    "  pyarrow==10.0.0 \\\n",
    "  tensorflow-data-validation==1.14.0 \\\n",
    "  google-cloud-aiplatform==1.51.0 \\\n",
    "  tensorflow-metadata==1.14.0 \\\n",
    "  google-api-core==1.34.1 \\\n",
    "  google-auth==2.26.1 \\\n",
    "  google-cloud-core==1.7.3 \\\n",
    "  google-resumable-media==1.3.3 \\\n",
    "  tfx-bsl==1.14.0"
    "  protobuf==3.20.3"
   ]
  },
  {
   "cell_type": "markdown",
   "metadata": {
    "id": "02nrfqgSOsw2"
   },
   "source": [
    "Restart kernel (Workbench)"
    "Check that the version of google-cloud-aiplatform is 1.51.0 or later."
   ]
  },
  {
   "cell_type": "code",
   "execution_count": 4,
   "metadata": {
    "colab": {
     "base_uri": "https://localhost:8080/",
     "height": 35
    },
    "id": "uq2kSzjTOuQp",
    "outputId": "5b04eb95-43c7-4b82-97b4-1bab15e54a92",
    "tags": []
   },
   "outputs": [
    {
     "data": {
      "text/plain": [
       "'1.51.0'"
      ]
     },
     "execution_count": 4,
     "metadata": {},
     "output_type": "execute_result"
    }
   ],
   "source": [
    "from google.cloud import aiplatform\n",
    "\n",
    "aiplatform.__version__"
   ]
  },
  {
   "cell_type": "markdown",
   "metadata": {
    "id": "U4o9GjHNfHdI"
   },
   "source": [
    "### Restart runtime (Colab only)\n",
    "\n",
    "To use the newly installed packages, you must restart the runtime on Google Colab."
   ]
  },
  {
   "cell_type": "code",
   "execution_count": 5,
   "metadata": {
    "id": "JaY8Q_T3fA38",
    "tags": []
   },
   "outputs": [],
   "source": [
    "import sys\n",
    "\n",
    "if not \"google.colab\" in sys.modules:\n",
    "\n",
    "    import IPython\n",
    "\n",
    "    app = IPython.Application.instance()\n",
    "    app.kernel.do_shutdown(True)"
   ]
  },
  {
   "cell_type": "markdown",
   "metadata": {
    "id": "4LvVXIhRO0Vk"
   },
   "source": [
    "<div class=\"alert alert-block alert-warning\">\n",
    "<b>⚠️ The kernel is going to restart. Please wait until it is finished before continuing to the next step. ⚠️</b>\n",
    "</div>\n"
   ]
  },
  {
   "cell_type": "markdown",
   "metadata": {
    "id": "i5-StiZvO3-6"
   },
   "source": [
    "### Authenticate your notebook environment (Colab only)\n",
    "\n",
    "Authenticate your environment on Google Colab."
   ]
  },
  {
   "cell_type": "code",
   "execution_count": 1,
   "metadata": {
    "id": "YIXcOK0uO5q_",
    "tags": []
   },
   "outputs": [],
   "source": [
    "import sys\n",
    "\n",
    "if \"google.colab\" in sys.modules:\n",
    "\n",
    "    from google.colab import auth\n",
    "\n",
    "    auth.authenticate_user()"
   ]
  },
  {
   "cell_type": "markdown",
   "metadata": {
    "id": "uHVx1c-OO7KR"
   },
   "source": [
    "### Set Google Cloud project information and initialize Vertex AI SDK\n",
    "\n",
    "To get started using Vertex AI, you must have an existing Google Cloud project and [enable the Vertex AI API](https://console.cloud.google.com/flows/enableapi?apiid=aiplatform.googleapis.com). Learn more about [setting up a project and a development environment](https://cloud.google.com/vertex-ai/docs/start/cloud-environment)."
   ]
  },
  {
   "cell_type": "code",
   "execution_count": 2,
   "metadata": {
    "colab": {
     "base_uri": "https://localhost:8080/"
    },
    "id": "gg6xkyR7O9cU",
    "outputId": "628f58ab-9605-4328-e437-4024e23a3371",
    "tags": []
   },
   "outputs": [
    {
     "name": "stdout",
     "output_type": "stream",
     "text": [
      "Updated property [core/project].\n",
      "Updated property [ai/region].\n"
     ]
    }
   ],
   "source": [
    "# Make sure to replace the value of `PROJECT_ID` with your GCP project ID and `LOCATION` with the region associated with your lab.\n",
    "PROJECT_ID = \"qwiklabs-gcp-03-37cfa407217d\"  # @param {type:\"string\"}\n",
    "LOCATION = \"europe-west4\"  # @param {type:\"string\"}\n",
    "\n",
    "\n",
    "import os\n",
    "\n",
    "import vertexai\n",
    "\n",
    "! gcloud config set project $PROJECT_ID\n",
    "os.environ[\"GOOGLE_CLOUD_PROJECT\"] = PROJECT_ID\n",
    "! gcloud config set ai/region $LOCATION\n",
    "\n",
    "vertexai.init(project=PROJECT_ID, location=LOCATION)"
   ]
  },
  {
   "cell_type": "markdown",
   "metadata": {
    "id": "LMRdCWwqPBpR"
   },
   "source": [
    "## Start Model Monitoring tutorial"
   ]
  },
  {
   "cell_type": "markdown",
   "metadata": {
    "id": "l_BdNCfk7Hjz"
   },
   "source": [
    "### Step 1: Create a Cloud Storage bucket\n",
    "\n",
    "Create a Cloud Storage bucket to store intermediate artifacts such as datasets."
   ]
  },
  {
   "cell_type": "code",
   "execution_count": 3,
   "metadata": {
    "id": "3_CZRJ5L60Mi",
    "tags": []
   },
   "outputs": [],
   "source": [
    "# Create a Cloud Storage bucket\n",
    "BUCKET_URI = f\"gs://your-bucket-name-{PROJECT_ID}-unique\"  # @param {type:\"string\"}"
   ]
  },
  {
   "cell_type": "markdown",
   "metadata": {
    "id": "lvHsyHsi7Dg8"
   },
   "source": [
    "**Only if your bucket doesn't already exist**: Run the following cell to create your Cloud Storage bucket."
   ]
  },
  {
   "cell_type": "code",
   "execution_count": 4,
   "metadata": {
    "colab": {
     "base_uri": "https://localhost:8080/"
    },
    "id": "mrHlJi-e7AyX",
    "outputId": "db42623b-c351-4442-f4f5-e0db06719b44",
    "tags": []
   },
   "outputs": [
    {
     "name": "stdout",
     "output_type": "stream",
     "text": [
      "Creating gs://your-bucket-name-qwiklabs-gcp-03-37cfa407217d-unique/...\n"
     ]
    }
   ],
   "source": [
    "! gsutil mb -l {LOCATION} -p {PROJECT_ID} {BUCKET_URI}"
   ]
  },
  {
   "cell_type": "markdown",
   "metadata": {
    "id": "5ZLxDjB6lYXx"
   },
   "source": [
    "### Step 2: Prepare a model in Vertex AI Model Registry"
   ]
  },
  {
   "cell_type": "markdown",
   "metadata": {
    "id": "1_OchKcp60FE"
   },
   "source": [
    "You can register a model in Vertex AI Model Registry with its artifacts, enabling you to perform online serving or batch prediction. Alternatively, you can register a referenced/placeholder model that includes only the model's name.\n",
    "In this notebook, you register a model with artifacts because you'll run a batch prediction job."
   ]
  },
  {
   "cell_type": "code",
   "execution_count": 5,
   "metadata": {
    "colab": {
     "base_uri": "https://localhost:8080/"
    },
    "id": "SwrD1CnmmJsk",
    "outputId": "a309aea8-03d8-43b3-ac6b-7dddc876a3e0",
    "tags": []
   },
   "outputs": [
    {
     "name": "stdout",
     "output_type": "stream",
     "text": [
      "Creating Model\n",
      "Create Model backing LRO: projects/902436650096/locations/europe-west4/models/8302528849569120256/operations/5948746171311718400\n",
      "Model created. Resource name: projects/902436650096/locations/europe-west4/models/8302528849569120256@1\n",
      "To use this Model in another session:\n",
      "model = aiplatform.Model('projects/902436650096/locations/europe-west4/models/8302528849569120256@1')\n"
     ]
    }
   ],
   "source": [
    "import google.cloud.aiplatform as aiplatform\n",
    "\n",
    "MODEL_PATH = \"gs://cloud-samples-data/vertex-ai/model-deployment/models/churn\"\n",
    "MODEL_NAME = \"churn\"\n",
    "IMAGE = \"us-docker.pkg.dev/cloud-aiplatform/prediction/tf2-cpu.2-5:latest\"\n",
    "\n",
    "model = aiplatform.Model.upload(\n",
    "    display_name=MODEL_NAME,\n",
    "    artifact_uri=MODEL_PATH,\n",
    "    serving_container_image_uri=IMAGE,\n",
    "    sync=True,\n",
    ")\n",
    "\n",
    "MODEL_ID = model.resource_name.split(\"/\")[-1]"
   ]
  },
  {
   "cell_type": "markdown",
   "metadata": {
    "id": "RuwAoHTilv1j"
   },
   "source": [
    "### Step 3: Create a model monitor"
   ]
  },
  {
   "cell_type": "markdown",
   "metadata": {
    "id": "Wp6jVFGvC6wt"
   },
   "source": [
    "Create a model monitor to associate monitoring details with a model version that has been register in Vertex AI Model Registry."
   ]
  },
  {
   "cell_type": "markdown",
   "metadata": {
    "id": "9hH4wSCXfgoE"
   },
   "source": [
    "#### Define Model Monitoring Schema"
   ]
  },
  {
   "cell_type": "markdown",
   "metadata": {
    "id": "jyg0cMAdfrAa"
   },
   "source": [
    "The monitoring schema is required for model monitors. It includes the names of input features, prediction outputs and, if available, ground truths, along with their respective data type.\n",
    "\n",
    "**Note: For AutoML tables (regression and classification), defining the schema is optional. The schema is automatically fetched when available. If Vertex AI cannot get the schema information, you must provide it.**"
   ]
  },
  {
   "cell_type": "code",
   "execution_count": 6,
   "metadata": {
    "id": "GR-4eTn3fkHk",
    "tags": []
   },
   "outputs": [
    {
     "name": "stderr",
     "output_type": "stream",
     "text": [
      "2025-07-16 13:48:29.626573: I external/local_tsl/tsl/cuda/cudart_stub.cc:32] Could not find cuda drivers on your machine, GPU will not be used.\n",
      "2025-07-16 13:48:29.632084: I external/local_tsl/tsl/cuda/cudart_stub.cc:32] Could not find cuda drivers on your machine, GPU will not be used.\n",
      "2025-07-16 13:48:29.648228: E external/local_xla/xla/stream_executor/cuda/cuda_fft.cc:479] Unable to register cuFFT factory: Attempting to register factory for plugin cuFFT when one has already been registered\n",
      "2025-07-16 13:48:29.681318: E external/local_xla/xla/stream_executor/cuda/cuda_dnn.cc:10575] Unable to register cuDNN factory: Attempting to register factory for plugin cuDNN when one has already been registered\n",
      "2025-07-16 13:48:29.681372: E external/local_xla/xla/stream_executor/cuda/cuda_blas.cc:1442] Unable to register cuBLAS factory: Attempting to register factory for plugin cuBLAS when one has already been registered\n",
      "2025-07-16 13:48:29.702230: I tensorflow/core/platform/cpu_feature_guard.cc:210] This TensorFlow binary is optimized to use available CPU instructions in performance-critical operations.\n",
      "To enable the following instructions: AVX2 FMA, in other operations, rebuild TensorFlow with the appropriate compiler flags.\n"
     ]
    }
   ],
   "source": [
    "from vertexai.resources.preview import ml_monitoring\n",
    "\n",
    "MODEL_MONITORING_SCHEMA = ml_monitoring.spec.ModelMonitoringSchema(\n",
    "    feature_fields=[\n",
    "        ml_monitoring.spec.FieldSchema(name=\"user_pseudo_id\", data_type=\"string\"),\n",
    "        ml_monitoring.spec.FieldSchema(name=\"country\", data_type=\"string\"),\n",
    "        ml_monitoring.spec.FieldSchema(name=\"operating_system\", data_type=\"string\"),\n",
    "        ml_monitoring.spec.FieldSchema(name=\"cnt_user_engagement\", data_type=\"integer\"),\n",
    "        ml_monitoring.spec.FieldSchema(\n",
    "            name=\"cnt_level_start_quickplay\", data_type=\"integer\"\n",
    "        ),\n",
    "        ml_monitoring.spec.FieldSchema(\n",
    "            name=\"cnt_level_end_quickplay\", data_type=\"integer\"\n",
    "        ),\n",
    "        ml_monitoring.spec.FieldSchema(\n",
    "            name=\"cnt_level_complete_quickplay\", data_type=\"integer\"\n",
    "        ),\n",
    "        ml_monitoring.spec.FieldSchema(\n",
    "            name=\"cnt_level_reset_quickplay\", data_type=\"integer\"\n",
    "        ),\n",
    "        ml_monitoring.spec.FieldSchema(name=\"cnt_post_score\", data_type=\"integer\"),\n",
    "        ml_monitoring.spec.FieldSchema(\n",
    "            name=\"cnt_spend_virtual_currency\", data_type=\"integer\"\n",
    "        ),\n",
    "        ml_monitoring.spec.FieldSchema(name=\"cnt_ad_reward\", data_type=\"integer\"),\n",
    "        ml_monitoring.spec.FieldSchema(\n",
    "            name=\"cnt_challenge_a_friend\", data_type=\"integer\"\n",
    "        ),\n",
    "        ml_monitoring.spec.FieldSchema(\n",
    "            name=\"cnt_completed_5_levels\", data_type=\"integer\"\n",
    "        ),\n",
    "        ml_monitoring.spec.FieldSchema(name=\"cnt_use_extra_steps\", data_type=\"integer\"),\n",
    "        ml_monitoring.spec.FieldSchema(name=\"month\", data_type=\"categorical\"),\n",
    "        ml_monitoring.spec.FieldSchema(name=\"julianday\", data_type=\"integer\"),\n",
    "        ml_monitoring.spec.FieldSchema(name=\"dayofweek\", data_type=\"integer\"),\n",
    "    ],\n",
    "    ground_truth_fields=[\n",
    "        ml_monitoring.spec.FieldSchema(name=\"churned\", data_type=\"categorical\")\n",
    "    ],\n",
    "    prediction_fields=[\n",
    "        ml_monitoring.spec.FieldSchema(\n",
    "            name=\"predicted_churned\", data_type=\"categorical\"\n",
    "        )\n",
    "    ],\n",
    ")"
   ]
  },
  {
   "cell_type": "markdown",
   "metadata": {
    "id": "L8KuANNbiiEV"
   },
   "source": [
    "#### Define training dataset"
   ]
  },
  {
   "cell_type": "markdown",
   "metadata": {
    "id": "SvFZRodti3qN"
   },
   "source": [
    "The training dataset can serve as the baseline dataset to calculate monitoring metrics. You can register the training dataset in the model monitor."
   ]
  },
  {
   "cell_type": "code",
   "execution_count": 16,
   "metadata": {
    "colab": {
     "base_uri": "https://localhost:8080/"
    },
    "id": "CSqE4_roiw-q",
    "outputId": "44b555c1-41b4-41fe-bd05-4aa73f24a861",
    "tags": []
   },
   "outputs": [
    {
     "name": "stdout",
     "output_type": "stream",
     "text": [
      "Copying gs://cloud-samples-data/vertex-ai/model-monitoring/churn/churn_training.csv [Content-Type=text/csv]...\n",
      "/ [1 files][717.9 KiB/717.9 KiB]                                                \n",
      "Operation completed over 1 objects/717.9 KiB.                                    \n"
     ]
    }
   ],
   "source": [
    "from vertexai.resources.preview import ml_monitoring\n",
    "\n",
    "# Copy files to your projects gs bucket to avoid permission issues.\n",
    "# Ignore any error(s) for bucket already exists.\n",
    "PUBLIC_TRAINING_DATASET = (\n",
    "    \"gs://cloud-samples-data/vertex-ai/model-monitoring/churn/churn_training.csv\"\n",
    ")\n",
    "TRAINING_URI = f\"{BUCKET_URI}/model-monitoring/churn/churn_training.csv\"\n",
    "\n",
    "! gsutil copy $PUBLIC_TRAINING_DATASET $TRAINING_URI\n",
    "\n",
    "TRAINING_DATASET = ml_monitoring.spec.MonitoringInput(\n",
    "    gcs_uri=TRAINING_URI, data_format=\"csv\"\n",
    ")"
   ]
  },
  {
   "cell_type": "markdown",
   "metadata": {
    "id": "5ZnBZUEMjtDD"
   },
   "source": [
    "#### Create a model monitor resource"
   ]
  },
  {
   "cell_type": "markdown",
   "metadata": {
    "id": "OPBdgqz6jv9_"
   },
   "source": [
    "A model monitor is a top-level resource to manage your metrics and model monitoring jobs."
   ]
  },
  {
   "cell_type": "code",
   "execution_count": null,
   "metadata": {
    "colab": {
     "base_uri": "https://localhost:8080/"
    },
    "id": "l_d917Ory595",
    "outputId": "777de5e0-fd25-47a9-b254-9aa75c3f3efe",
    "tags": []
   },
   "outputs": [],
   "source": [
    "from vertexai.resources.preview import ml_monitoring\n",
    "\n",
    "my_model_monitor = ml_monitoring.ModelMonitor.create(\n",
    "    project=PROJECT_ID,\n",
    "    location=LOCATION,\n",
    "    display_name=\"churn_model_monitor\",\n",
    "    model_name=model.resource_name,\n",
    "    model_version_id=\"1\",\n",
    "    training_dataset=TRAINING_DATASET,\n",
    "    model_monitoring_schema=MODEL_MONITORING_SCHEMA,\n",
    ")\n",
    "MODEL_MONITOR_ID = my_model_monitor.name\n",
    "print(f\"MODEL MONITOR {MODEL_MONITOR_ID} created.\")"
   ]
  },
  {
   "cell_type": "markdown",
   "metadata": {
    "id": "dkHlwQuVli_2"
   },
   "source": [
    "### Step 4: Run an on-demand model monitoring job"
   ]
  },
  {
   "cell_type": "markdown",
   "metadata": {
    "id": "GpVp3fh3rkov"
   },
   "source": [
    "#### Define the monitoring objective configs\n",
    "\n",
    "For tabular models, Model Monitoring supports the following objectives:\n",
    "\n",
    "*   **Input feature drift detection**\n",
    "\n",
    "    Model Monitoring offers drift analysis for both categorical and numeric feature types, with the following supported metrics:\n",
    "\n",
    "    *    Categorical Feature: `Jensen Shannon Divergence`, `L Infinity`\n",
    "    *    Numeric Feature: `Jensen Shannon Divergence`\n",
    "\n",
    "    You can choose to analyze only the features of interest by specifying them in the `features` fields of the `ml_monitoring.spec.DataDriftSpec` specification. If not specified, all input features in the model schema are analyzed. Additionally, you have the option to set default thresholds for categorical or numeric features, or you can specify thresholds for individual features. If the detected drift surpasses a threshold, an alert is sent through email or another notification channel.\n",
    "\n",
    "*  **Prediction output drift detection**\n",
    "\n",
    "    Similar to input feature drift detection, prediction output drift detection identifies data drift in the prediction outputs.\n",
    "\n",
    "*   **Feature attribution drift detection**\n",
    "\n",
    "    Model Monitoring leverages Vertex Explainable AI to monitor feature attributions. Explainable AI enables you to understand the relative contribution of each feature to a resulting prediction. In essence, it assesses the magnitude of each feature's influence.\n",
    "    You must configure the `Explanation` specification with the feature attribution objectives configuration.\n"
   ]
  },
  {
   "cell_type": "markdown",
   "metadata": {
    "id": "n49LgtHBfpTE"
   },
   "source": [
    "Input feature drift specification"
   ]
  },
  {
   "cell_type": "code",
   "execution_count": 11,
   "metadata": {
    "id": "CtrsEblNqzLT",
    "tags": []
   },
   "outputs": [],
   "source": [
    "from vertexai.resources.preview import ml_monitoring\n",
    "\n",
    "FEATURE_THRESHOLDS = {\n",
    "    \"country\": 0.003,\n",
    "    \"cnt_user_engagement\": 0.004,\n",
    "}\n",
    "\n",
    "FEATURE_DRIFT_SPEC = ml_monitoring.spec.DataDriftSpec(\n",
    "    categorical_metric_type=\"l_infinity\",\n",
    "    numeric_metric_type=\"jensen_shannon_divergence\",\n",
    "    default_categorical_alert_threshold=0.2,\n",
    "    default_numeric_alert_threshold=0.3,\n",
    "    feature_alert_thresholds=FEATURE_THRESHOLDS,\n",
    ")"
   ]
  },
  {
   "cell_type": "markdown",
   "metadata": {
    "id": "DsuNTFAeftgj"
   },
   "source": [
    "Prediction output drift specification"
   ]
  },
  {
   "cell_type": "code",
   "execution_count": 12,
   "metadata": {
    "id": "tcUz6OFvfoBv",
    "tags": []
   },
   "outputs": [],
   "source": [
    "PREDICTION_OUTPUT_DRIFT_SPEC = ml_monitoring.spec.DataDriftSpec(\n",
    "    categorical_metric_type=\"l_infinity\",\n",
    "    numeric_metric_type=\"jensen_shannon_divergence\",\n",
    "    default_categorical_alert_threshold=0.1,\n",
    "    default_numeric_alert_threshold=0.1,\n",
    ")"
   ]
  },
  {
   "cell_type": "markdown",
   "metadata": {
    "id": "ak54Y713f1aj"
   },
   "source": [
    "Feature attribution specification"
   ]
  },
  {
   "cell_type": "code",
   "execution_count": 13,
   "metadata": {
    "id": "GgIZLRJa5QY4",
    "tags": []
   },
   "outputs": [],
   "source": [
    "FEATURE_ATTRIBUTION_SPEC = ml_monitoring.spec.FeatureAttributionSpec(\n",
    "    default_alert_threshold=0.0003,\n",
    "    feature_alert_thresholds={\"cnt_ad_reward\": 0.0001},\n",
    ")"
   ]
  },
  {
   "cell_type": "markdown",
   "metadata": {
    "id": "avV5qcCUr9IT"
   },
   "source": [
    "#### Define the alert notification and metrics output spec."
   ]
  },
  {
   "cell_type": "markdown",
   "metadata": {
    "id": "8N9YlXzOvyOs"
   },
   "source": [
    "Model Monitoring supports the following notification methods:\n",
    "\n",
    "*   Email\n",
    "*   [Notification Channel](https://cloud.google.com/monitoring/support/notification-options)\n",
    "*   [Cloud Logging](https://cloud.google.com/logging/docs)  \n",
    "\n",
    "This notebook uses email as an example."
   ]
  },
  {
   "cell_type": "markdown",
   "metadata": {
    "id": "7jzY1mpdw-CY"
   },
   "source": [
    "Export generated metrics to the Google Cloud Storage location that you specified or, if you don't specify a location, Vertex AI creates a default bucket to use."
   ]
  },
  {
   "cell_type": "code",
   "execution_count": 14,
   "metadata": {
    "id": "yclsJhNrsI-F",
    "tags": []
   },
   "outputs": [],
   "source": [
    "import os\n",
    "\n",
    "from vertexai.resources.preview import ml_monitoring\n",
    "\n",
    "EMAIL = \"stripling@google.com\"  # @param {type:\"string\"}\n",
    "if os.getenv(\"IS_TESTING\"):\n",
    "    EMAIL = \"noreply@google.com\"\n",
    "\n",
    "NOTIFICATION_SPEC = ml_monitoring.spec.NotificationSpec(\n",
    "    user_emails=[EMAIL],\n",
    ")\n",
    "\n",
    "OUTPUT_SPEC = ml_monitoring.spec.OutputSpec(gcs_base_dir=BUCKET_URI)"
   ]
  },
  {
   "cell_type": "markdown",
   "metadata": {
    "id": "rQzbfaAFq9mV"
   },
   "source": [
    "#### Run Model Monitoring Jobs"
   ]
  },
  {
   "cell_type": "markdown",
   "metadata": {
    "id": "saA2MVZ-Yhy_"
   },
   "source": [
    "##### **Example 1: Detect feature drift by comparing a batch prediction job with the training dataset.**"
   ]
  },
  {
   "cell_type": "markdown",
   "metadata": {
    "id": "B1qxAIA5qvpR"
   },
   "source": [
    "Let's first create a batch prediction job."
   ]
  },
  {
   "cell_type": "code",
   "execution_count": 15,
   "metadata": {
    "colab": {
     "base_uri": "https://localhost:8080/"
    },
    "id": "CIujU9oBqwPp",
    "outputId": "4d9e7b9d-d8d6-44da-f178-5cd64f26d091",
    "tags": []
   },
   "outputs": [
    {
     "name": "stdout",
     "output_type": "stream",
     "text": [
      "Copying gs://cloud-samples-data/vertex-ai/model-monitoring/churn/churn_bp_input_1.jsonl [Content-Type=application/octet-stream]...\n",
      "/ [1 files][223.9 KiB/223.9 KiB]                                                \n",
      "Operation completed over 1 objects/223.9 KiB.                                    \n"
     ]
    }
   ],
   "source": [
    "BP_INPUT_URI_1 = f\"{BUCKET_URI}/model-monitoring/churn/churn_bp_input_1.jsonl\"\n",
    "! gsutil copy gs://cloud-samples-data/vertex-ai/model-monitoring/churn/churn_bp_input_1.jsonl $BP_INPUT_URI_1"
   ]
  },
  {
   "cell_type": "code",
   "execution_count": 18,
   "metadata": {
    "colab": {
     "base_uri": "https://localhost:8080/"
    },
    "id": "-ZYgqB8ZmbDo",
    "outputId": "edc0cef9-0540-4ae1-d97a-60edc402227b",
    "tags": []
   },
   "outputs": [
    {
     "name": "stdout",
     "output_type": "stream",
     "text": [
      "Creating BatchPredictionJob\n",
      "BatchPredictionJob created. Resource name: projects/902436650096/locations/europe-west4/batchPredictionJobs/6747143345681727488\n",
      "To use this BatchPredictionJob in another session:\n",
      "bpj = aiplatform.BatchPredictionJob('projects/902436650096/locations/europe-west4/batchPredictionJobs/6747143345681727488')\n",
      "View Batch Prediction Job:\n",
      "https://console.cloud.google.com/ai/platform/locations/europe-west4/batch-predictions/6747143345681727488?project=902436650096\n",
      "BatchPredictionJob projects/902436650096/locations/europe-west4/batchPredictionJobs/6747143345681727488 current state:\n",
      "JobState.JOB_STATE_PENDING\n",
      "BatchPredictionJob projects/902436650096/locations/europe-west4/batchPredictionJobs/6747143345681727488 current state:\n",
      "JobState.JOB_STATE_PENDING\n",
      "BatchPredictionJob projects/902436650096/locations/europe-west4/batchPredictionJobs/6747143345681727488 current state:\n",
      "JobState.JOB_STATE_PENDING\n",
      "BatchPredictionJob projects/902436650096/locations/europe-west4/batchPredictionJobs/6747143345681727488 current state:\n",
      "JobState.JOB_STATE_PENDING\n",
      "BatchPredictionJob projects/902436650096/locations/europe-west4/batchPredictionJobs/6747143345681727488 current state:\n",
      "JobState.JOB_STATE_PENDING\n",
      "BatchPredictionJob projects/902436650096/locations/europe-west4/batchPredictionJobs/6747143345681727488 current state:\n",
      "JobState.JOB_STATE_RUNNING\n",
      "BatchPredictionJob projects/902436650096/locations/europe-west4/batchPredictionJobs/6747143345681727488 current state:\n",
      "JobState.JOB_STATE_RUNNING\n",
      "BatchPredictionJob projects/902436650096/locations/europe-west4/batchPredictionJobs/6747143345681727488 current state:\n",
      "JobState.JOB_STATE_RUNNING\n",
      "BatchPredictionJob projects/902436650096/locations/europe-west4/batchPredictionJobs/6747143345681727488 current state:\n",
      "JobState.JOB_STATE_RUNNING\n",
      "BatchPredictionJob projects/902436650096/locations/europe-west4/batchPredictionJobs/6747143345681727488 current state:\n",
      "JobState.JOB_STATE_SUCCEEDED\n",
      "BatchPredictionJob run completed. Resource name: projects/902436650096/locations/europe-west4/batchPredictionJobs/6747143345681727488\n"
     ]
    }
   ],
   "source": [
    "batch_prediction_job_1 = model.batch_predict(\n",
    "    generate_explanation=True,\n",
    "    job_display_name=\"bp_example_1\",\n",
    "    instances_format=\"jsonl\",\n",
    "    machine_type=\"e2-standard-4\",\n",
    "    gcs_source=[BP_INPUT_URI_1],\n",
    "    gcs_destination_prefix=f\"{BUCKET_URI}/bp_output\",\n",
    "    sync=True,\n",
    ")"
   ]
  },
  {
   "cell_type": "code",
   "execution_count": 19,
   "metadata": {
    "colab": {
     "base_uri": "https://localhost:8080/"
    },
    "id": "S-3ilL5-03k8",
    "outputId": "85d46f2c-3351-4d75-e2c0-0ad6bd345d41",
    "tags": []
   },
   "outputs": [
    {
     "name": "stdout",
     "output_type": "stream",
     "text": [
      "ModelMonitoringJob created. Resource name: projects/902436650096/locations/europe-west4/modelMonitors/4440584416959397888/modelMonitoringJobs/1201722228694056960\n",
      "To use this ModelMonitoringJob in another session:\n",
      "model_monitoring_job = aiplatform.ModelMonitoringJob('projects/902436650096/locations/europe-west4/modelMonitors/4440584416959397888/modelMonitoringJobs/1201722228694056960')\n"
     ]
    }
   ],
   "source": [
    "import pandas as pd\n",
    "from vertexai.resources.preview import ml_monitoring\n",
    "\n",
    "TIMESTAMP = pd.Timestamp.utcnow().strftime(\"%Y%m%d%H%M%S\")\n",
    "JOB_DISPLAY_NAME = f\"churn_model_monitoring_job_{TIMESTAMP}\"\n",
    "TARGET_DATASET = ml_monitoring.spec.MonitoringInput(\n",
    "    batch_prediction_job=batch_prediction_job_1.resource_name\n",
    ")\n",
    "model_monitoring_job_1 = my_model_monitor.run(\n",
    "    display_name=JOB_DISPLAY_NAME,\n",
    "    baseline_dataset=TRAINING_DATASET,\n",
    "    target_dataset=TARGET_DATASET,\n",
    "    tabular_objective_spec=ml_monitoring.spec.TabularObjective(\n",
    "        # Input feature drift spec.\n",
    "        feature_drift_spec=FEATURE_DRIFT_SPEC\n",
    "    ),\n",
    "    notification_spec=NOTIFICATION_SPEC,\n",
    "    output_spec=OUTPUT_SPEC,\n",
    ")"
   ]
  },
  {
   "cell_type": "markdown",
   "metadata": {
    "id": "ihfK5KxgWEXz"
   },
   "source": [
    "##### **Example 2: Detect feature drift and prediction output drift by comparing a batch prediction job with a previous batch prediction job result.**"
   ]
  },
  {
   "cell_type": "markdown",
   "metadata": {
    "id": "kBhhRjuIa2iv"
   },
   "source": [
    "You can set up multiple objectives within a single model monitoring job. All metrics are computed by using the same baseline and target dataset.\n",
    "\n",
    "Create another batch prediction job and compare it with the batch prediction job created previously."
   ]
  },
  {
   "cell_type": "code",
   "execution_count": 20,
   "metadata": {
    "colab": {
     "base_uri": "https://localhost:8080/"
    },
    "id": "IO2sXgSAXu5A",
    "outputId": "96682e51-daad-4eb0-fcdc-955f9990da32",
    "tags": []
   },
   "outputs": [
    {
     "name": "stdout",
     "output_type": "stream",
     "text": [
      "Copying gs://cloud-samples-data/vertex-ai/model-monitoring/churn/churn_bp_input_2.jsonl [Content-Type=application/octet-stream]...\n",
      "/ [1 files][443.4 KiB/443.4 KiB]                                                \n",
      "Operation completed over 1 objects/443.4 KiB.                                    \n"
     ]
    }
   ],
   "source": [
    "BP_INPUT_URI_2 = f\"{BUCKET_URI}/model-monitoring/churn/churn_bp_input_2.jsonl\"\n",
    "! gsutil copy gs://cloud-samples-data/vertex-ai/model-monitoring/churn/churn_bp_input_2.jsonl $BP_INPUT_URI_2"
   ]
  },
  {
   "cell_type": "code",
   "execution_count": 23,
   "metadata": {
    "colab": {
     "base_uri": "https://localhost:8080/"
    },
    "id": "d6CIK_1rWOT7",
    "outputId": "e7f70ea4-64c0-4080-83c2-d070305bd886",
    "tags": []
   },
   "outputs": [
    {
     "name": "stdout",
     "output_type": "stream",
     "text": [
      "Creating BatchPredictionJob\n",
      "BatchPredictionJob created. Resource name: projects/902436650096/locations/europe-west4/batchPredictionJobs/399882620856434688\n",
      "To use this BatchPredictionJob in another session:\n",
      "bpj = aiplatform.BatchPredictionJob('projects/902436650096/locations/europe-west4/batchPredictionJobs/399882620856434688')\n",
      "View Batch Prediction Job:\n",
      "https://console.cloud.google.com/ai/platform/locations/europe-west4/batch-predictions/399882620856434688?project=902436650096\n",
      "BatchPredictionJob projects/902436650096/locations/europe-west4/batchPredictionJobs/399882620856434688 current state:\n",
      "JobState.JOB_STATE_RUNNING\n",
      "BatchPredictionJob projects/902436650096/locations/europe-west4/batchPredictionJobs/399882620856434688 current state:\n",
      "JobState.JOB_STATE_RUNNING\n",
      "BatchPredictionJob projects/902436650096/locations/europe-west4/batchPredictionJobs/399882620856434688 current state:\n",
      "JobState.JOB_STATE_RUNNING\n",
      "BatchPredictionJob projects/902436650096/locations/europe-west4/batchPredictionJobs/399882620856434688 current state:\n",
      "JobState.JOB_STATE_RUNNING\n",
      "BatchPredictionJob projects/902436650096/locations/europe-west4/batchPredictionJobs/399882620856434688 current state:\n",
      "JobState.JOB_STATE_RUNNING\n",
      "BatchPredictionJob projects/902436650096/locations/europe-west4/batchPredictionJobs/399882620856434688 current state:\n",
      "JobState.JOB_STATE_RUNNING\n",
      "BatchPredictionJob projects/902436650096/locations/europe-west4/batchPredictionJobs/399882620856434688 current state:\n",
      "JobState.JOB_STATE_RUNNING\n",
      "BatchPredictionJob projects/902436650096/locations/europe-west4/batchPredictionJobs/399882620856434688 current state:\n",
      "JobState.JOB_STATE_SUCCEEDED\n",
      "BatchPredictionJob run completed. Resource name: projects/902436650096/locations/europe-west4/batchPredictionJobs/399882620856434688\n"
     ]
    }
   ],
   "source": [
    "batch_prediction_job_2 = model.batch_predict(\n",
    "    job_display_name=\"bp_example_2\",\n",
    "    instances_format=\"jsonl\",\n",
    "    machine_type=\"e2-standard-4\",\n",
    "    gcs_source=[BP_INPUT_URI_2],\n",
    "    gcs_destination_prefix=f\"{BUCKET_URI}/bp_output\",\n",
    "    sync=True,\n",
    ")"
   ]
  },
  {
   "cell_type": "code",
   "execution_count": 24,
   "metadata": {
    "colab": {
     "base_uri": "https://localhost:8080/"
    },
    "id": "Knp5-4I-WKOa",
    "outputId": "a39ec128-135b-473b-aed8-d818f313971c",
    "tags": []
   },
   "outputs": [
    {
     "name": "stdout",
     "output_type": "stream",
     "text": [
      "ModelMonitoringJob created. Resource name: projects/902436650096/locations/europe-west4/modelMonitors/4440584416959397888/modelMonitoringJobs/5453120276931805184\n",
      "To use this ModelMonitoringJob in another session:\n",
      "model_monitoring_job = aiplatform.ModelMonitoringJob('projects/902436650096/locations/europe-west4/modelMonitors/4440584416959397888/modelMonitoringJobs/5453120276931805184')\n"
     ]
    }
   ],
   "source": [
    "import pandas as pd\n",
    "from vertexai.resources.preview import ml_monitoring\n",
    "\n",
    "TIMESTAMP = pd.Timestamp.utcnow().strftime(\"%Y%m%d%H%M%S\")\n",
    "JOB_DISPLAY_NAME = f\"churn_model_monitoring_job_{TIMESTAMP}\"\n",
    "BASELINE_DATASET = ml_monitoring.spec.MonitoringInput(\n",
    "    batch_prediction_job=batch_prediction_job_1.resource_name\n",
    ")\n",
    "TARGET_DATASET = ml_monitoring.spec.MonitoringInput(\n",
    "    batch_prediction_job=batch_prediction_job_2.resource_name\n",
    ")\n",
    "model_monitoring_job_2 = my_model_monitor.run(\n",
    "    display_name=JOB_DISPLAY_NAME,\n",
    "    baseline_dataset=BASELINE_DATASET,\n",
    "    target_dataset=TARGET_DATASET,\n",
    "    tabular_objective_spec=ml_monitoring.spec.TabularObjective(\n",
    "        # Input feature drift spec.\n",
    "        feature_drift_spec=FEATURE_DRIFT_SPEC,\n",
    "        # Prediction output drift spec.\n",
    "        prediction_output_drift_spec=PREDICTION_OUTPUT_DRIFT_SPEC,\n",
    "    ),\n",
    "    notification_spec=NOTIFICATION_SPEC,\n",
    "    output_spec=OUTPUT_SPEC,\n",
    ")"
   ]
  },
  {
   "cell_type": "markdown",
   "metadata": {
    "id": "AprOJ3ZchX7z"
   },
   "source": [
    "##### **Example 3: Feature attribution drift detection, compares the batch prediction job with a GCS baseline dataset**"
   ]
  },
  {
   "cell_type": "markdown",
   "metadata": {
    "id": "kP7t8p8Ih2a-"
   },
   "source": [
    "For feature attribution monitoring, the dataset is sent to the Vertex AI batch explanation job in the following way:\n",
    "\n",
    "*   Google Cloud Storage -> Sent directly as input to Vertex AI batch explanation job.\n",
    "*   BigQuery table -> Sent directly as input to Vertex AI batch explanation job.\n",
    "*   BigQuery Query -> Not supported.\n",
    "*   Vertex AI batch explanation job -> Input of batch prediction job is used as input for the Vertex AI batch explanation job.\n",
    "*   Vertex AI endpoint logging -> Request logging is used as input for Vertex AI batch explanation job.\n",
    "\n",
    "Check that these datasets meet the requirements for a Vertex AI batch explanation job."
   ]
  },
  {
   "cell_type": "markdown",
   "metadata": {
    "id": "vmT9aF-YxGBS"
   },
   "source": [
    "###### Generate model metadata for Vertex Explainable AI\n",
    "You must specify the explanation specification to use a Vertex AI batch explanation job. Run the following cell to extract metadata from the exported model, which is needed for generating the explanations for a prediction request."
   ]
  },
  {
   "cell_type": "code",
   "execution_count": 25,
   "metadata": {
    "id": "oLl6q8f4xFK5",
    "tags": []
   },
   "outputs": [],
   "source": [
    "from google.cloud.aiplatform_v1beta1.types import (ExplanationMetadata,\n",
    "                                                   ExplanationParameters,\n",
    "                                                   ExplanationSpec)\n",
    "\n",
    "EXPLANATION_SPEC = ExplanationSpec(\n",
    "    parameters=ExplanationParameters(\n",
    "        {\"sampled_shapley_attribution\": {\"path_count\": 2}}\n",
    "    ),\n",
    "    metadata=ExplanationMetadata(\n",
    "        inputs={\n",
    "            \"cnt_ad_reward\": ExplanationMetadata.InputMetadata(\n",
    "                {\n",
    "                    \"input_tensor_name\": \"cnt_ad_reward\",\n",
    "                    \"encoding\": \"IDENTITY\",\n",
    "                    \"modality\": \"numeric\",\n",
    "                }\n",
    "            ),\n",
    "            \"cnt_challenge_a_friend\": ExplanationMetadata.InputMetadata(\n",
    "                {\n",
    "                    \"input_tensor_name\": \"cnt_challenge_a_friend\",\n",
    "                    \"encoding\": \"IDENTITY\",\n",
    "                    \"modality\": \"numeric\",\n",
    "                }\n",
    "            ),\n",
    "            \"cnt_completed_5_levels\": ExplanationMetadata.InputMetadata(\n",
    "                {\n",
    "                    \"input_tensor_name\": \"cnt_completed_5_levels\",\n",
    "                    \"encoding\": \"IDENTITY\",\n",
    "                    \"modality\": \"numeric\",\n",
    "                }\n",
    "            ),\n",
    "            \"cnt_level_complete_quickplay\": ExplanationMetadata.InputMetadata(\n",
    "                {\n",
    "                    \"input_tensor_name\": \"cnt_level_complete_quickplay\",\n",
    "                    \"encoding\": \"IDENTITY\",\n",
    "                    \"modality\": \"numeric\",\n",
    "                }\n",
    "            ),\n",
    "            \"cnt_level_end_quickplay\": ExplanationMetadata.InputMetadata(\n",
    "                {\n",
    "                    \"input_tensor_name\": \"cnt_level_end_quickplay\",\n",
    "                    \"encoding\": \"IDENTITY\",\n",
    "                    \"modality\": \"numeric\",\n",
    "                }\n",
    "            ),\n",
    "            \"cnt_level_reset_quickplay\": ExplanationMetadata.InputMetadata(\n",
    "                {\n",
    "                    \"input_tensor_name\": \"cnt_level_reset_quickplay\",\n",
    "                    \"encoding\": \"IDENTITY\",\n",
    "                    \"modality\": \"numeric\",\n",
    "                }\n",
    "            ),\n",
    "            \"cnt_level_start_quickplay\": ExplanationMetadata.InputMetadata(\n",
    "                {\n",
    "                    \"input_tensor_name\": \"cnt_level_start_quickplay\",\n",
    "                    \"encoding\": \"IDENTITY\",\n",
    "                    \"modality\": \"numeric\",\n",
    "                }\n",
    "            ),\n",
    "            \"cnt_post_score\": ExplanationMetadata.InputMetadata(\n",
    "                {\n",
    "                    \"input_tensor_name\": \"cnt_post_score\",\n",
    "                    \"encoding\": \"IDENTITY\",\n",
    "                    \"modality\": \"numeric\",\n",
    "                }\n",
    "            ),\n",
    "            \"cnt_spend_virtual_currency\": ExplanationMetadata.InputMetadata(\n",
    "                {\n",
    "                    \"input_tensor_name\": \"cnt_spend_virtual_currency\",\n",
    "                    \"encoding\": \"IDENTITY\",\n",
    "                    \"modality\": \"numeric\",\n",
    "                }\n",
    "            ),\n",
    "            \"cnt_use_extra_steps\": ExplanationMetadata.InputMetadata(\n",
    "                {\n",
    "                    \"input_tensor_name\": \"cnt_use_extra_steps\",\n",
    "                    \"encoding\": \"IDENTITY\",\n",
    "                    \"modality\": \"numeric\",\n",
    "                }\n",
    "            ),\n",
    "            \"cnt_user_engagement\": ExplanationMetadata.InputMetadata(\n",
    "                {\n",
    "                    \"input_tensor_name\": \"cnt_user_engagement\",\n",
    "                    \"encoding\": \"IDENTITY\",\n",
    "                    \"modality\": \"numeric\",\n",
    "                }\n",
    "            ),\n",
    "            \"country\": ExplanationMetadata.InputMetadata(\n",
    "                {\n",
    "                    \"input_tensor_name\": \"country\",\n",
    "                    \"encoding\": \"IDENTITY\",\n",
    "                    \"modality\": \"categorical\",\n",
    "                }\n",
    "            ),\n",
    "            \"dayofweek\": ExplanationMetadata.InputMetadata(\n",
    "                {\n",
    "                    \"input_tensor_name\": \"dayofweek\",\n",
    "                    \"encoding\": \"IDENTITY\",\n",
    "                    \"modality\": \"numeric\",\n",
    "                }\n",
    "            ),\n",
    "            \"julianday\": ExplanationMetadata.InputMetadata(\n",
    "                {\n",
    "                    \"input_tensor_name\": \"julianday\",\n",
    "                    \"encoding\": \"IDENTITY\",\n",
    "                    \"modality\": \"numeric\",\n",
    "                }\n",
    "            ),\n",
    "            \"language\": ExplanationMetadata.InputMetadata(\n",
    "                {\n",
    "                    \"input_tensor_name\": \"language\",\n",
    "                    \"encoding\": \"IDENTITY\",\n",
    "                    \"modality\": \"categorical\",\n",
    "                }\n",
    "            ),\n",
    "            \"month\": ExplanationMetadata.InputMetadata(\n",
    "                {\n",
    "                    \"input_tensor_name\": \"month\",\n",
    "                    \"encoding\": \"IDENTITY\",\n",
    "                    \"modality\": \"numeric\",\n",
    "                }\n",
    "            ),\n",
    "            \"operating_system\": ExplanationMetadata.InputMetadata(\n",
    "                {\n",
    "                    \"input_tensor_name\": \"operating_system\",\n",
    "                    \"encoding\": \"IDENTITY\",\n",
    "                    \"modality\": \"categorical\",\n",
    "                }\n",
    "            ),\n",
    "            \"user_pseudo_id\": ExplanationMetadata.InputMetadata(\n",
    "                {\n",
    "                    \"input_tensor_name\": \"user_pseudo_id\",\n",
    "                    \"encoding\": \"IDENTITY\",\n",
    "                    \"modality\": \"categorical\",\n",
    "                }\n",
    "            ),\n",
    "        },\n",
    "        outputs={\n",
    "            \"churned_probs\": ExplanationMetadata.OutputMetadata(\n",
    "                {\"output_tensor_name\": \"churned_probs\"}\n",
    "            )\n",
    "        },\n",
    "    ),\n",
    ")"
   ]
  },
  {
   "cell_type": "code",
   "execution_count": 26,
   "metadata": {
    "colab": {
     "base_uri": "https://localhost:8080/"
    },
    "id": "hexssbF7wC6A",
    "outputId": "aed7dafb-4dac-41e6-9c01-7457689b3887",
    "tags": []
   },
   "outputs": [
    {
     "name": "stdout",
     "output_type": "stream",
     "text": [
      "Copying gs://cloud-samples-data/vertex-ai/model-monitoring/churn/churn_no_ground_truth.jsonl [Content-Type=application/octet-stream]...\n",
      "/ [1 files][  3.5 MiB/  3.5 MiB]                                                \n",
      "Operation completed over 1 objects/3.5 MiB.                                      \n"
     ]
    }
   ],
   "source": [
    "FEATURE_ATTRIBUTION_BASELINE_DATASET = (\n",
    "    f\"{BUCKET_URI}/model-monitoring/churn/churn_no_ground_truth.jsonl\"\n",
    ")\n",
    "! gsutil cp gs://cloud-samples-data/vertex-ai/model-monitoring/churn/churn_no_ground_truth.jsonl $FEATURE_ATTRIBUTION_BASELINE_DATASET"
   ]
  },
  {
   "cell_type": "code",
   "execution_count": 27,
   "metadata": {
    "colab": {
     "base_uri": "https://localhost:8080/"
    },
    "id": "2SJU52cymulD",
    "outputId": "6400ffb4-67e4-4d34-9c19-bd432af897ae",
    "tags": []
   },
   "outputs": [
    {
     "name": "stdout",
     "output_type": "stream",
     "text": [
      "ModelMonitoringJob created. Resource name: projects/902436650096/locations/europe-west4/modelMonitors/4440584416959397888/modelMonitoringJobs/4138069185739620352\n",
      "To use this ModelMonitoringJob in another session:\n",
      "model_monitoring_job = aiplatform.ModelMonitoringJob('projects/902436650096/locations/europe-west4/modelMonitors/4440584416959397888/modelMonitoringJobs/4138069185739620352')\n"
     ]
    }
   ],
   "source": [
    "import pandas as pd\n",
    "from vertexai.resources.preview import ml_monitoring\n",
    "\n",
    "TIMESTAMP = pd.Timestamp.utcnow().strftime(\"%Y%m%d%H%M%S\")\n",
    "JOB_DISPLAY_NAME = f\"churn_model_monitoring_job_{TIMESTAMP}\"\n",
    "BASELINE_DATASET = ml_monitoring.spec.MonitoringInput(\n",
    "    gcs_uri=FEATURE_ATTRIBUTION_BASELINE_DATASET, data_format=\"jsonl\"\n",
    ")\n",
    "TARGET_DATASET = ml_monitoring.spec.MonitoringInput(\n",
    "    batch_prediction_job=batch_prediction_job_2.resource_name\n",
    ")\n",
    "model_monitoring_job_3 = my_model_monitor.run(\n",
    "    display_name=JOB_DISPLAY_NAME,\n",
    "    baseline_dataset=BASELINE_DATASET,\n",
    "    target_dataset=TARGET_DATASET,\n",
    "    tabular_objective_spec=ml_monitoring.spec.TabularObjective(\n",
    "        # Feature attribution spec.\n",
    "        feature_attribution_spec=FEATURE_ATTRIBUTION_SPEC\n",
    "    ),\n",
    "    # You must have a Explanation spec for feature attribution monitoring.\n",
    "    # You can specify the explanation spec in the Model, Model monitor, or the Model monitoring job.\n",
    "    explanation_spec=EXPLANATION_SPEC,\n",
    "    notification_spec=NOTIFICATION_SPEC,\n",
    "    output_spec=OUTPUT_SPEC,\n",
    ")"
   ]
  },
  {
   "cell_type": "markdown",
   "metadata": {
    "id": "pzYcMoKTP0rG"
   },
   "source": [
    "##### List Model Monitoring Jobs"
   ]
  },
  {
   "cell_type": "code",
   "execution_count": 28,
   "metadata": {
    "colab": {
     "base_uri": "https://localhost:8080/"
    },
    "id": "urFYUjaZ7iCP",
    "outputId": "e2681479-479b-43f4-f176-4cdb04c02620",
    "tags": []
   },
   "outputs": [
    {
     "data": {
      "text/plain": [
       "[name: \"projects/902436650096/locations/europe-west4/modelMonitors/4440584416959397888/modelMonitoringJobs/4138069185739620352\"\n",
       "display_name: \"churn_model_monitoring_job_20250716144249\"\n",
       "model_monitoring_spec {\n",
       "  objective_spec {\n",
       "    tabular_objective {\n",
       "      feature_attribution_spec {\n",
       "        default_alert_condition {\n",
       "          threshold: 0.0003\n",
       "        }\n",
       "        feature_alert_conditions {\n",
       "          key: \"cnt_ad_reward\"\n",
       "          value {\n",
       "            threshold: 0.0001\n",
       "          }\n",
       "        }\n",
       "      }\n",
       "    }\n",
       "    explanation_spec {\n",
       "      parameters {\n",
       "        sampled_shapley_attribution {\n",
       "          path_count: 2\n",
       "        }\n",
       "      }\n",
       "      metadata {\n",
       "        inputs {\n",
       "          key: \"cnt_ad_reward\"\n",
       "          value {\n",
       "            input_tensor_name: \"cnt_ad_reward\"\n",
       "            encoding: IDENTITY\n",
       "            modality: \"numeric\"\n",
       "          }\n",
       "        }\n",
       "        inputs {\n",
       "          key: \"cnt_challenge_a_friend\"\n",
       "          value {\n",
       "            input_tensor_name: \"cnt_challenge_a_friend\"\n",
       "            encoding: IDENTITY\n",
       "            modality: \"numeric\"\n",
       "          }\n",
       "        }\n",
       "        inputs {\n",
       "          key: \"cnt_completed_5_levels\"\n",
       "          value {\n",
       "            input_tensor_name: \"cnt_completed_5_levels\"\n",
       "            encoding: IDENTITY\n",
       "            modality: \"numeric\"\n",
       "          }\n",
       "        }\n",
       "        inputs {\n",
       "          key: \"cnt_level_complete_quickplay\"\n",
       "          value {\n",
       "            input_tensor_name: \"cnt_level_complete_quickplay\"\n",
       "            encoding: IDENTITY\n",
       "            modality: \"numeric\"\n",
       "          }\n",
       "        }\n",
       "        inputs {\n",
       "          key: \"cnt_level_end_quickplay\"\n",
       "          value {\n",
       "            input_tensor_name: \"cnt_level_end_quickplay\"\n",
       "            encoding: IDENTITY\n",
       "            modality: \"numeric\"\n",
       "          }\n",
       "        }\n",
       "        inputs {\n",
       "          key: \"cnt_level_reset_quickplay\"\n",
       "          value {\n",
       "            input_tensor_name: \"cnt_level_reset_quickplay\"\n",
       "            encoding: IDENTITY\n",
       "            modality: \"numeric\"\n",
       "          }\n",
       "        }\n",
       "        inputs {\n",
       "          key: \"cnt_level_start_quickplay\"\n",
       "          value {\n",
       "            input_tensor_name: \"cnt_level_start_quickplay\"\n",
       "            encoding: IDENTITY\n",
       "            modality: \"numeric\"\n",
       "          }\n",
       "        }\n",
       "        inputs {\n",
       "          key: \"cnt_post_score\"\n",
       "          value {\n",
       "            input_tensor_name: \"cnt_post_score\"\n",
       "            encoding: IDENTITY\n",
       "            modality: \"numeric\"\n",
       "          }\n",
       "        }\n",
       "        inputs {\n",
       "          key: \"cnt_spend_virtual_currency\"\n",
       "          value {\n",
       "            input_tensor_name: \"cnt_spend_virtual_currency\"\n",
       "            encoding: IDENTITY\n",
       "            modality: \"numeric\"\n",
       "          }\n",
       "        }\n",
       "        inputs {\n",
       "          key: \"cnt_use_extra_steps\"\n",
       "          value {\n",
       "            input_tensor_name: \"cnt_use_extra_steps\"\n",
       "            encoding: IDENTITY\n",
       "            modality: \"numeric\"\n",
       "          }\n",
       "        }\n",
       "        inputs {\n",
       "          key: \"cnt_user_engagement\"\n",
       "          value {\n",
       "            input_tensor_name: \"cnt_user_engagement\"\n",
       "            encoding: IDENTITY\n",
       "            modality: \"numeric\"\n",
       "          }\n",
       "        }\n",
       "        inputs {\n",
       "          key: \"country\"\n",
       "          value {\n",
       "            input_tensor_name: \"country\"\n",
       "            encoding: IDENTITY\n",
       "            modality: \"categorical\"\n",
       "          }\n",
       "        }\n",
       "        inputs {\n",
       "          key: \"dayofweek\"\n",
       "          value {\n",
       "            input_tensor_name: \"dayofweek\"\n",
       "            encoding: IDENTITY\n",
       "            modality: \"numeric\"\n",
       "          }\n",
       "        }\n",
       "        inputs {\n",
       "          key: \"julianday\"\n",
       "          value {\n",
       "            input_tensor_name: \"julianday\"\n",
       "            encoding: IDENTITY\n",
       "            modality: \"numeric\"\n",
       "          }\n",
       "        }\n",
       "        inputs {\n",
       "          key: \"language\"\n",
       "          value {\n",
       "            input_tensor_name: \"language\"\n",
       "            encoding: IDENTITY\n",
       "            modality: \"categorical\"\n",
       "          }\n",
       "        }\n",
       "        inputs {\n",
       "          key: \"month\"\n",
       "          value {\n",
       "            input_tensor_name: \"month\"\n",
       "            encoding: IDENTITY\n",
       "            modality: \"numeric\"\n",
       "          }\n",
       "        }\n",
       "        inputs {\n",
       "          key: \"operating_system\"\n",
       "          value {\n",
       "            input_tensor_name: \"operating_system\"\n",
       "            encoding: IDENTITY\n",
       "            modality: \"categorical\"\n",
       "          }\n",
       "        }\n",
       "        inputs {\n",
       "          key: \"user_pseudo_id\"\n",
       "          value {\n",
       "            input_tensor_name: \"user_pseudo_id\"\n",
       "            encoding: IDENTITY\n",
       "            modality: \"categorical\"\n",
       "          }\n",
       "        }\n",
       "        outputs {\n",
       "          key: \"churned_probs\"\n",
       "          value {\n",
       "            output_tensor_name: \"churned_probs\"\n",
       "          }\n",
       "        }\n",
       "      }\n",
       "    }\n",
       "    baseline_dataset {\n",
       "      columnized_dataset {\n",
       "        gcs_source {\n",
       "          gcs_uri: \"gs://your-bucket-name-qwiklabs-gcp-03-37cfa407217d-unique/model-monitoring/churn/churn_no_ground_truth.jsonl\"\n",
       "          format_: JSONL\n",
       "        }\n",
       "      }\n",
       "    }\n",
       "    target_dataset {\n",
       "      batch_prediction_output {\n",
       "        batch_prediction_job: \"projects/902436650096/locations/europe-west4/batchPredictionJobs/399882620856434688\"\n",
       "      }\n",
       "    }\n",
       "  }\n",
       "  notification_spec {\n",
       "    email_config {\n",
       "      user_emails: \"stripling@google.com\"\n",
       "    }\n",
       "  }\n",
       "  output_spec {\n",
       "    gcs_base_directory {\n",
       "      output_uri_prefix: \"gs://your-bucket-name-qwiklabs-gcp-03-37cfa407217d-unique/model_monitoring/4440584416959397888\"\n",
       "    }\n",
       "  }\n",
       "}\n",
       "create_time {\n",
       "  seconds: 1752676969\n",
       "  nanos: 722353000\n",
       "}\n",
       "update_time {\n",
       "  seconds: 1752676969\n",
       "  nanos: 722353000\n",
       "}\n",
       "state: JOB_STATE_RUNNING\n",
       ", name: \"projects/902436650096/locations/europe-west4/modelMonitors/4440584416959397888/modelMonitoringJobs/5453120276931805184\"\n",
       "display_name: \"churn_model_monitoring_job_20250716144226\"\n",
       "model_monitoring_spec {\n",
       "  objective_spec {\n",
       "    tabular_objective {\n",
       "      feature_drift_spec {\n",
       "        categorical_metric_type: \"l_infinity\"\n",
       "        numeric_metric_type: \"jensen_shannon_divergence\"\n",
       "        default_categorical_alert_condition {\n",
       "          threshold: 0.2\n",
       "        }\n",
       "        default_numeric_alert_condition {\n",
       "          threshold: 0.3\n",
       "        }\n",
       "        feature_alert_conditions {\n",
       "          key: \"cnt_user_engagement\"\n",
       "          value {\n",
       "            threshold: 0.004\n",
       "          }\n",
       "        }\n",
       "        feature_alert_conditions {\n",
       "          key: \"country\"\n",
       "          value {\n",
       "            threshold: 0.003\n",
       "          }\n",
       "        }\n",
       "      }\n",
       "      prediction_output_drift_spec {\n",
       "        categorical_metric_type: \"l_infinity\"\n",
       "        numeric_metric_type: \"jensen_shannon_divergence\"\n",
       "        default_categorical_alert_condition {\n",
       "          threshold: 0.1\n",
       "        }\n",
       "        default_numeric_alert_condition {\n",
       "          threshold: 0.1\n",
       "        }\n",
       "      }\n",
       "    }\n",
       "    explanation_spec {\n",
       "    }\n",
       "    baseline_dataset {\n",
       "      batch_prediction_output {\n",
       "        batch_prediction_job: \"projects/902436650096/locations/europe-west4/batchPredictionJobs/6747143345681727488\"\n",
       "      }\n",
       "    }\n",
       "    target_dataset {\n",
       "      batch_prediction_output {\n",
       "        batch_prediction_job: \"projects/902436650096/locations/europe-west4/batchPredictionJobs/399882620856434688\"\n",
       "      }\n",
       "    }\n",
       "  }\n",
       "  notification_spec {\n",
       "    email_config {\n",
       "      user_emails: \"stripling@google.com\"\n",
       "    }\n",
       "  }\n",
       "  output_spec {\n",
       "    gcs_base_directory {\n",
       "      output_uri_prefix: \"gs://your-bucket-name-qwiklabs-gcp-03-37cfa407217d-unique/model_monitoring/4440584416959397888\"\n",
       "    }\n",
       "  }\n",
       "}\n",
       "create_time {\n",
       "  seconds: 1752676946\n",
       "  nanos: 909621000\n",
       "}\n",
       "update_time {\n",
       "  seconds: 1752676946\n",
       "  nanos: 909621000\n",
       "}\n",
       "state: JOB_STATE_RUNNING\n",
       ", name: \"projects/902436650096/locations/europe-west4/modelMonitors/4440584416959397888/modelMonitoringJobs/1201722228694056960\"\n",
       "display_name: \"churn_model_monitoring_job_20250716141607\"\n",
       "model_monitoring_spec {\n",
       "  objective_spec {\n",
       "    tabular_objective {\n",
       "      feature_drift_spec {\n",
       "        categorical_metric_type: \"l_infinity\"\n",
       "        numeric_metric_type: \"jensen_shannon_divergence\"\n",
       "        default_categorical_alert_condition {\n",
       "          threshold: 0.2\n",
       "        }\n",
       "        default_numeric_alert_condition {\n",
       "          threshold: 0.3\n",
       "        }\n",
       "        feature_alert_conditions {\n",
       "          key: \"cnt_user_engagement\"\n",
       "          value {\n",
       "            threshold: 0.004\n",
       "          }\n",
       "        }\n",
       "        feature_alert_conditions {\n",
       "          key: \"country\"\n",
       "          value {\n",
       "            threshold: 0.003\n",
       "          }\n",
       "        }\n",
       "      }\n",
       "    }\n",
       "    explanation_spec {\n",
       "    }\n",
       "    baseline_dataset {\n",
       "      columnized_dataset {\n",
       "        gcs_source {\n",
       "          gcs_uri: \"gs://your-bucket-name-qwiklabs-gcp-03-37cfa407217d-unique/model-monitoring/churn/churn_training.csv\"\n",
       "          format_: CSV\n",
       "        }\n",
       "      }\n",
       "    }\n",
       "    target_dataset {\n",
       "      batch_prediction_output {\n",
       "        batch_prediction_job: \"projects/902436650096/locations/europe-west4/batchPredictionJobs/6747143345681727488\"\n",
       "      }\n",
       "    }\n",
       "  }\n",
       "  notification_spec {\n",
       "    email_config {\n",
       "      user_emails: \"stripling@google.com\"\n",
       "    }\n",
       "  }\n",
       "  output_spec {\n",
       "    gcs_base_directory {\n",
       "      output_uri_prefix: \"gs://your-bucket-name-qwiklabs-gcp-03-37cfa407217d-unique/model_monitoring/4440584416959397888\"\n",
       "    }\n",
       "  }\n",
       "}\n",
       "create_time {\n",
       "  seconds: 1752675367\n",
       "  nanos: 823159000\n",
       "}\n",
       "update_time {\n",
       "  seconds: 1752675640\n",
       "  nanos: 439208000\n",
       "}\n",
       "state: JOB_STATE_SUCCEEDED\n",
       "job_execution_detail {\n",
       "  objective_status {\n",
       "    key: \"RAW_FEATURE_DRIFT\"\n",
       "    value {\n",
       "    }\n",
       "  }\n",
       "}\n",
       "]"
      ]
     },
     "execution_count": 28,
     "metadata": {},
     "output_type": "execute_result"
    }
   ],
   "source": [
    "my_model_monitor.list_jobs()"
   ]
  },
  {
   "cell_type": "markdown",
   "metadata": {
    "id": "nL10YABxl47v"
   },
   "source": [
    "### Step 5: Wait for the Model Monitoring Job to run and verify the result"
   ]
  },
  {
   "cell_type": "markdown",
   "metadata": {
    "id": "LrSU6d0xFfzv"
   },
   "source": [
    "#### Verify results through email"
   ]
  },
  {
   "cell_type": "markdown",
   "metadata": {
    "id": "zw5KodgebDVE"
   },
   "source": [
    "After the model monitoring job begins running, which starts after the batch prediction jobs have finished, you receive an email like the following one:\n",
    "\n",
    "<img src=\"https://services.google.com/fh/files/misc/create_job_email.png\" />"
   ]
  },
  {
   "cell_type": "markdown",
   "metadata": {
    "id": "37SPm_majLVj"
   },
   "source": [
    "After the monitoring job is complete, if any anomalies are detected, you receive an email similar to the following one:\n",
    "\n",
    "<img src=\"https://services.google.com/fh/files/misc/job_anomalies_email.png\" />"
   ]
  },
  {
   "cell_type": "markdown",
   "metadata": {
    "id": "LPC6ZoerifM6"
   },
   "source": [
    "#### Check monitoring metrics: Google Cloud Console"
   ]
  },
  {
   "cell_type": "markdown",
   "metadata": {
    "id": "4Pw6Z-bVbZaE"
   },
   "source": [
    "To view Model Monitoring metrics in the [Google Cloud Console](https://console.cloud.google.com/vertex-ai/model-monitoring/model-monitors), go to the **Monitoring** tab under **Vertex AI.**\n",
    "\n",
    "<img src=\"https://storage.googleapis.com/cmm-public-data/images/bp_details.gif\" />"
   ]
  },
  {
   "cell_type": "markdown",
   "metadata": {
    "id": "MFZcBnwsdSfa"
   },
   "source": [
    "#### Check monitoring metrics: Cloud Storage bucket\n",
    "\n",
    "Run the following to view Model Monitoring metrics stored in the Cloud Storage bucket.  "
   ]
  },
  {
   "cell_type": "code",
   "execution_count": 29,
   "metadata": {
    "id": "NhY20BTjjkVk",
    "tags": []
   },
   "outputs": [
    {
     "data": {
      "text/html": [
       "<iframe id='facets-iframe' width=\"100%\" height=\"500px\"></iframe>\n",
       "        <script>\n",
       "        facets_iframe = document.getElementById('facets-iframe');\n",
       "        facets_html = '<script src=\"https://cdnjs.cloudflare.com/ajax/libs/webcomponentsjs/1.3.3/webcomponents-lite.js\"><\\/script><link rel=\"import\" href=\"https://raw.githubusercontent.com/PAIR-code/facets/master/facets-dist/facets-jupyter.html\"><facets-overview proto-input=\"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\"></facets-overview>';\n",
       "        facets_iframe.srcdoc = facets_html;\n",
       "         facets_iframe.id = \"\";\n",
       "         setTimeout(() => {\n",
       "           facets_iframe.setAttribute('height', facets_iframe.contentWindow.document.body.offsetHeight + 'px')\n",
       "         }, 1500)\n",
       "         </script>"
      ],
      "text/plain": [
       "<IPython.core.display.HTML object>"
      ]
     },
     "metadata": {},
     "output_type": "display_data"
    },
    {
     "data": {
      "text/html": [
       "<div>\n",
       "<style scoped>\n",
       "    .dataframe tbody tr th:only-of-type {\n",
       "        vertical-align: middle;\n",
       "    }\n",
       "\n",
       "    .dataframe tbody tr th {\n",
       "        vertical-align: top;\n",
       "    }\n",
       "\n",
       "    .dataframe thead th {\n",
       "        text-align: right;\n",
       "    }\n",
       "</style>\n",
       "<table border=\"1\" class=\"dataframe\">\n",
       "  <thead>\n",
       "    <tr style=\"text-align: right;\">\n",
       "      <th></th>\n",
       "      <th>Anomaly short description</th>\n",
       "      <th>Anomaly long description</th>\n",
       "    </tr>\n",
       "    <tr>\n",
       "      <th>Feature name</th>\n",
       "      <th></th>\n",
       "      <th></th>\n",
       "    </tr>\n",
       "  </thead>\n",
       "  <tbody>\n",
       "    <tr>\n",
       "      <th>'cnt_level_complete_quickplay'</th>\n",
       "      <td>High approximate Jensen-Shannon divergence between current and previous</td>\n",
       "      <td>The approximate Jensen-Shannon divergence between current and previous is 0.48113 (up to six significant digits), above the threshold 0.3.</td>\n",
       "    </tr>\n",
       "    <tr>\n",
       "      <th>'cnt_user_engagement'</th>\n",
       "      <td>High approximate Jensen-Shannon divergence between current and previous</td>\n",
       "      <td>The approximate Jensen-Shannon divergence between current and previous is 0.0929705 (up to six significant digits), above the threshold 0.004.</td>\n",
       "    </tr>\n",
       "    <tr>\n",
       "      <th>'country'</th>\n",
       "      <td>High Linfty distance between current and previous</td>\n",
       "      <td>The Linfty distance between current and previous is 0.0168421 (up to six significant digits), above the threshold 0.003. The feature value with maximum difference is: Taiwan</td>\n",
       "    </tr>\n",
       "    <tr>\n",
       "      <th>'cnt_post_score'</th>\n",
       "      <td>High approximate Jensen-Shannon divergence between current and previous</td>\n",
       "      <td>The approximate Jensen-Shannon divergence between current and previous is 0.352555 (up to six significant digits), above the threshold 0.3.</td>\n",
       "    </tr>\n",
       "    <tr>\n",
       "      <th>'cnt_challenge_a_friend'</th>\n",
       "      <td>High approximate Jensen-Shannon divergence between current and previous</td>\n",
       "      <td>The approximate Jensen-Shannon divergence between current and previous is 0.737841 (up to six significant digits), above the threshold 0.3.</td>\n",
       "    </tr>\n",
       "    <tr>\n",
       "      <th>'cnt_level_reset_quickplay'</th>\n",
       "      <td>High approximate Jensen-Shannon divergence between current and previous</td>\n",
       "      <td>The approximate Jensen-Shannon divergence between current and previous is 0.498636 (up to six significant digits), above the threshold 0.3.</td>\n",
       "    </tr>\n",
       "    <tr>\n",
       "      <th>'cnt_completed_5_levels'</th>\n",
       "      <td>High approximate Jensen-Shannon divergence between current and previous</td>\n",
       "      <td>The approximate Jensen-Shannon divergence between current and previous is 0.549339 (up to six significant digits), above the threshold 0.3.</td>\n",
       "    </tr>\n",
       "    <tr>\n",
       "      <th>'cnt_level_start_quickplay'</th>\n",
       "      <td>High approximate Jensen-Shannon divergence between current and previous</td>\n",
       "      <td>The approximate Jensen-Shannon divergence between current and previous is 0.363518 (up to six significant digits), above the threshold 0.3.</td>\n",
       "    </tr>\n",
       "    <tr>\n",
       "      <th>'cnt_ad_reward'</th>\n",
       "      <td>High approximate Jensen-Shannon divergence between current and previous</td>\n",
       "      <td>The approximate Jensen-Shannon divergence between current and previous is 0.672075 (up to six significant digits), above the threshold 0.3.</td>\n",
       "    </tr>\n",
       "    <tr>\n",
       "      <th>'cnt_level_end_quickplay'</th>\n",
       "      <td>High approximate Jensen-Shannon divergence between current and previous</td>\n",
       "      <td>The approximate Jensen-Shannon divergence between current and previous is 0.343587 (up to six significant digits), above the threshold 0.3.</td>\n",
       "    </tr>\n",
       "    <tr>\n",
       "      <th>'cnt_use_extra_steps'</th>\n",
       "      <td>High approximate Jensen-Shannon divergence between current and previous</td>\n",
       "      <td>The approximate Jensen-Shannon divergence between current and previous is 0.390741 (up to six significant digits), above the threshold 0.3.</td>\n",
       "    </tr>\n",
       "    <tr>\n",
       "      <th>'cnt_spend_virtual_currency'</th>\n",
       "      <td>High approximate Jensen-Shannon divergence between current and previous</td>\n",
       "      <td>The approximate Jensen-Shannon divergence between current and previous is 0.332597 (up to six significant digits), above the threshold 0.3.</td>\n",
       "    </tr>\n",
       "  </tbody>\n",
       "</table>\n",
       "</div>"
      ],
      "text/plain": [
       "                                                                              Anomaly short description  \\\n",
       "Feature name                                                                                              \n",
       "'cnt_level_complete_quickplay'  High approximate Jensen-Shannon divergence between current and previous   \n",
       "'cnt_user_engagement'           High approximate Jensen-Shannon divergence between current and previous   \n",
       "'country'                                             High Linfty distance between current and previous   \n",
       "'cnt_post_score'                High approximate Jensen-Shannon divergence between current and previous   \n",
       "'cnt_challenge_a_friend'        High approximate Jensen-Shannon divergence between current and previous   \n",
       "'cnt_level_reset_quickplay'     High approximate Jensen-Shannon divergence between current and previous   \n",
       "'cnt_completed_5_levels'        High approximate Jensen-Shannon divergence between current and previous   \n",
       "'cnt_level_start_quickplay'     High approximate Jensen-Shannon divergence between current and previous   \n",
       "'cnt_ad_reward'                 High approximate Jensen-Shannon divergence between current and previous   \n",
       "'cnt_level_end_quickplay'       High approximate Jensen-Shannon divergence between current and previous   \n",
       "'cnt_use_extra_steps'           High approximate Jensen-Shannon divergence between current and previous   \n",
       "'cnt_spend_virtual_currency'    High approximate Jensen-Shannon divergence between current and previous   \n",
       "\n",
       "                                                                                                                                                                                     Anomaly long description  \n",
       "Feature name                                                                                                                                                                                                   \n",
       "'cnt_level_complete_quickplay'                                     The approximate Jensen-Shannon divergence between current and previous is 0.48113 (up to six significant digits), above the threshold 0.3.  \n",
       "'cnt_user_engagement'                                          The approximate Jensen-Shannon divergence between current and previous is 0.0929705 (up to six significant digits), above the threshold 0.004.  \n",
       "'country'                       The Linfty distance between current and previous is 0.0168421 (up to six significant digits), above the threshold 0.003. The feature value with maximum difference is: Taiwan  \n",
       "'cnt_post_score'                                                  The approximate Jensen-Shannon divergence between current and previous is 0.352555 (up to six significant digits), above the threshold 0.3.  \n",
       "'cnt_challenge_a_friend'                                          The approximate Jensen-Shannon divergence between current and previous is 0.737841 (up to six significant digits), above the threshold 0.3.  \n",
       "'cnt_level_reset_quickplay'                                       The approximate Jensen-Shannon divergence between current and previous is 0.498636 (up to six significant digits), above the threshold 0.3.  \n",
       "'cnt_completed_5_levels'                                          The approximate Jensen-Shannon divergence between current and previous is 0.549339 (up to six significant digits), above the threshold 0.3.  \n",
       "'cnt_level_start_quickplay'                                       The approximate Jensen-Shannon divergence between current and previous is 0.363518 (up to six significant digits), above the threshold 0.3.  \n",
       "'cnt_ad_reward'                                                   The approximate Jensen-Shannon divergence between current and previous is 0.672075 (up to six significant digits), above the threshold 0.3.  \n",
       "'cnt_level_end_quickplay'                                         The approximate Jensen-Shannon divergence between current and previous is 0.343587 (up to six significant digits), above the threshold 0.3.  \n",
       "'cnt_use_extra_steps'                                             The approximate Jensen-Shannon divergence between current and previous is 0.390741 (up to six significant digits), above the threshold 0.3.  \n",
       "'cnt_spend_virtual_currency'                                      The approximate Jensen-Shannon divergence between current and previous is 0.332597 (up to six significant digits), above the threshold 0.3.  "
      ]
     },
     "metadata": {},
     "output_type": "display_data"
    }
   ],
   "source": [
    "try:\n",
    "    my_model_monitor.show_feature_drift_stats(model_monitoring_job_1.name)\n",
    "except Exception as e:\n",
    "    print(e)"
   ]
  },
  {
   "cell_type": "code",
   "execution_count": 30,
   "metadata": {
    "id": "qtjLw8rVcC13",
    "tags": []
   },
   "outputs": [
    {
     "name": "stdout",
     "output_type": "stream",
     "text": [
      "No stats were generated.\n"
     ]
    }
   ],
   "source": [
    "try:\n",
    "    my_model_monitor.show_feature_drift_stats(model_monitoring_job_2.name)\n",
    "except Exception as e:\n",
    "    print(e)"
   ]
  },
  {
   "cell_type": "code",
   "execution_count": 31,
   "metadata": {
    "id": "-mxYA55nz6tO",
    "tags": []
   },
   "outputs": [
    {
     "name": "stdout",
     "output_type": "stream",
     "text": [
      "No stats were generated.\n"
     ]
    }
   ],
   "source": [
    "try:\n",
    "    my_model_monitor.show_output_drift_stats(model_monitoring_job_2.name)\n",
    "except Exception as e:\n",
    "    print(e)"
   ]
  },
  {
   "cell_type": "markdown",
   "metadata": {
    "id": "hovSbsmBmEKZ"
   },
   "source": [
    "### Step 6: Clean Up\n",
    "\n",
    "If you no longer need your model monitoring resources, run the following to delete them:"
   ]
  },
  {
   "cell_type": "code",
   "execution_count": 32,
   "metadata": {
    "id": "ejHg5PqiJPS2",
    "tags": []
   },
   "outputs": [
    {
     "name": "stdout",
     "output_type": "stream",
     "text": [
      "Deleting ModelMonitor : projects/902436650096/locations/europe-west4/modelMonitors/4440584416959397888\n",
      "Delete ModelMonitor  backing LRO: projects/902436650096/locations/europe-west4/operations/4219082439424737280\n",
      "ModelMonitor deleted. . Resource name: projects/902436650096/locations/europe-west4/modelMonitors/4440584416959397888\n",
      "Deleting Model : projects/902436650096/locations/europe-west4/models/8302528849569120256\n",
      "Delete Model  backing LRO: projects/902436650096/locations/europe-west4/models/8302528849569120256/operations/991127406506934272\n",
      "Model deleted. . Resource name: projects/902436650096/locations/europe-west4/models/8302528849569120256\n"
     ]
    }
   ],
   "source": [
    "# Delete the model monitor\n",
    "my_model_monitor.delete(force=True)\n",
    "\n",
    "# Delete the model\n",
    "model.delete()"
   ]
  },
  {
   "cell_type": "code",
   "execution_count": null,
   "metadata": {},
   "outputs": [],
   "source": []
  }
 ],
 "metadata": {
  "colab": {
   "name": "model_monitoring_for_custom_model_batch_prediction_job.ipynb",
   "provenance": []
  },
  "environment": {
   "kernel": "conda-env-tensorflow-tensorflow",
   "name": "workbench-notebooks.m131",
   "type": "gcloud",
   "uri": "us-docker.pkg.dev/deeplearning-platform-release/gcr.io/workbench-notebooks:m131"
  },
  "kernelspec": {
   "display_name": "TensorFlow 2-11 (Local)",
   "language": "python",
   "name": "conda-env-tensorflow-tensorflow"
  },
  "language_info": {
   "codemirror_mode": {
    "name": "ipython",
    "version": 3
   },
   "file_extension": ".py",
   "mimetype": "text/x-python",
   "name": "python",
   "nbconvert_exporter": "python",
   "pygments_lexer": "ipython3",
   "version": "3.10.18"
  }
 },
 "nbformat": 4,
 "nbformat_minor": 4
}

{
 "cells": [
  {
   "cell_type": "markdown",
   "metadata": {
    "deletable": true,
    "editable": true
   },
   "source": [
    "# Collaborative Filtering on Google Analytics Data\n"
   ]
  },
  {
   "cell_type": "markdown",
   "metadata": {},
   "source": [
    "### Learning objectives\n",
    "1. Prepare the user-item matrix and use it with WALS.\n",
    "2. Train a `WALSMatrixFactorization` within TensorFlow locally and on AI Platform.\n",
    "3. Visualize the embedding vectors with principal components analysis.\n"
   ]
  },
  {
   "cell_type": "markdown",
   "metadata": {},
   "source": [
    "## Overview\n",
    "This notebook demonstrates how to implement a WALS matrix refactorization approach to do collaborative filtering.\n",
    "\n",
    "Each learning objective will correspond to a __#TODO__ in the notebook, where you will complete the notebook cell's code before running the cell. Refer to the [solution notebook](../solutions/wals.ipynb) for reference.\n"
   ]
  },
  {
   "cell_type": "code",
   "execution_count": 1,
   "metadata": {
    "collapsed": false,
    "deletable": true,
    "editable": true,
    "jupyter": {
     "outputs_hidden": false
    }
   },
   "outputs": [],
   "source": [
    "import os\n",
    "PROJECT = \"cloud-training-demos\" # REPLACE WITH YOUR PROJECT ID\n",
    "BUCKET = \"cloud-training-demos-ml\" # REPLACE WITH YOUR BUCKET NAME\n",
    "REGION = \"us-central1\" # REPLACE WITH YOUR BUCKET REGION e.g. us-central1\n",
    "\n",
    "# Do not change these\n",
    "os.environ[\"PROJECT\"] = PROJECT\n",
    "os.environ[\"BUCKET\"] = BUCKET\n",
    "os.environ[\"REGION\"] = REGION\n",
    "os.environ[\"TFVERSION\"] = \"1.15\""
   ]
  },
  {
   "cell_type": "code",
   "execution_count": 2,
   "metadata": {
    "collapsed": false,
    "deletable": true,
    "editable": true,
    "jupyter": {
     "outputs_hidden": false
    }
   },
   "outputs": [
    {
     "name": "stderr",
     "output_type": "stream",
     "text": [
      "Updated property [core/project].\n",
      "Updated property [compute/region].\n"
     ]
    }
   ],
   "source": [
    "%%bash\n",
    "gcloud config set project $PROJECT\n",
    "gcloud config set compute/region $REGION"
   ]
  },
  {
   "cell_type": "code",
   "execution_count": 3,
   "metadata": {
    "collapsed": false,
    "deletable": true,
    "editable": true,
    "jupyter": {
     "outputs_hidden": false
    }
   },
   "outputs": [
    {
     "name": "stdout",
     "output_type": "stream",
     "text": [
      "1.15.5\n"
     ]
    }
   ],
   "source": [
    "import tensorflow as tf\n",
    "print(tf.__version__)"
   ]
  },
  {
   "cell_type": "markdown",
   "metadata": {
    "deletable": true,
    "editable": true
   },
   "source": [
    "## Create raw dataset\n",
    "<p>\n",
    "For collaborative filtering, you don't need to know anything about either the users or the content. Essentially, all you need to know is userId, itemId, and rating that the particular user gave the particular item.\n",
    "<p>\n",
    "In this case, you are working with newspaper articles. The company doesn't ask their users to rate the articles. However, you can use the time-spent on the page as a proxy for rating.\n",
    "<p>\n",
    "Normally, you would also add a time filter to this (\"latest 7 days\"), but your dataset is itself limited to a few days."
   ]
  },
  {
   "cell_type": "code",
   "execution_count": 4,
   "metadata": {
    "collapsed": false,
    "deletable": true,
    "editable": true,
    "jupyter": {
     "outputs_hidden": false
    }
   },
   "outputs": [
    {
     "data": {
      "text/html": [
       "<div>\n",
       "<style scoped>\n",
       "    .dataframe tbody tr th:only-of-type {\n",
       "        vertical-align: middle;\n",
       "    }\n",
       "\n",
       "    .dataframe tbody tr th {\n",
       "        vertical-align: top;\n",
       "    }\n",
       "\n",
       "    .dataframe thead th {\n",
       "        text-align: right;\n",
       "    }\n",
       "</style>\n",
       "<table border=\"1\" class=\"dataframe\">\n",
       "  <thead>\n",
       "    <tr style=\"text-align: right;\">\n",
       "      <th></th>\n",
       "      <th>visitorId</th>\n",
       "      <th>contentId</th>\n",
       "      <th>session_duration</th>\n",
       "    </tr>\n",
       "  </thead>\n",
       "  <tbody>\n",
       "    <tr>\n",
       "      <th>0</th>\n",
       "      <td>1012012094517511217-1</td>\n",
       "      <td>299949290</td>\n",
       "      <td>218676</td>\n",
       "    </tr>\n",
       "    <tr>\n",
       "      <th>1</th>\n",
       "      <td>1614877438160481626-349</td>\n",
       "      <td>29455408</td>\n",
       "      <td>438692</td>\n",
       "    </tr>\n",
       "    <tr>\n",
       "      <th>2</th>\n",
       "      <td>1815317450115839569-235</td>\n",
       "      <td>299807267</td>\n",
       "      <td>160669</td>\n",
       "    </tr>\n",
       "    <tr>\n",
       "      <th>3</th>\n",
       "      <td>1950053456137072413-10</td>\n",
       "      <td>243386345</td>\n",
       "      <td>102636</td>\n",
       "    </tr>\n",
       "    <tr>\n",
       "      <th>4</th>\n",
       "      <td>2179122255490468209-180</td>\n",
       "      <td>299925086</td>\n",
       "      <td>6041</td>\n",
       "    </tr>\n",
       "  </tbody>\n",
       "</table>\n",
       "</div>"
      ],
      "text/plain": [
       "                 visitorId  contentId  session_duration\n",
       "0    1012012094517511217-1  299949290            218676\n",
       "1  1614877438160481626-349   29455408            438692\n",
       "2  1815317450115839569-235  299807267            160669\n",
       "3   1950053456137072413-10  243386345            102636\n",
       "4  2179122255490468209-180  299925086              6041"
      ]
     },
     "execution_count": 4,
     "metadata": {},
     "output_type": "execute_result"
    }
   ],
   "source": [
    "from google.cloud import bigquery\n",
    "bq = bigquery.Client(project = PROJECT)\n",
    "\n",
    "sql = \"\"\"\n",
    "WITH CTE_visitor_page_content AS (\n",
    "    SELECT\n",
    "        # Schema: https://support.google.com/analytics/answer/3437719?hl=en\n",
    "        # For a completely unique visit-session ID, you combine combination of fullVisitorId and visitNumber:\n",
    "        CONCAT(fullVisitorID,'-',CAST(visitNumber AS STRING)) AS visitorId,\n",
    "        (SELECT MAX(IF(index=10, value, NULL)) FROM UNNEST(hits.customDimensions)) AS latestContentId,  \n",
    "        (LEAD(hits.time, 1) OVER (PARTITION BY fullVisitorId ORDER BY hits.time ASC) - hits.time) AS session_duration \n",
    "    FROM\n",
    "        `cloud-training-demos.GA360_test.ga_sessions_sample`,   \n",
    "        UNNEST(hits) AS hits\n",
    "    WHERE \n",
    "        # only include hits on pages\n",
    "        hits.type = \"PAGE\"\n",
    "GROUP BY   \n",
    "        fullVisitorId,\n",
    "        visitNumber,\n",
    "        latestContentId,\n",
    "        hits.time )\n",
    "-- Aggregate web stats\n",
    "SELECT   \n",
    "    visitorId,\n",
    "    latestContentId as contentId,\n",
    "    SUM(session_duration) AS session_duration\n",
    "FROM\n",
    "    CTE_visitor_page_content\n",
    "WHERE\n",
    "    latestContentId IS NOT NULL \n",
    "GROUP BY\n",
    "    visitorId, \n",
    "    latestContentId\n",
    "HAVING \n",
    "    session_duration > 0\n",
    "\"\"\"\n",
    "\n",
    "df = bq.query(sql).to_dataframe()\n",
    "df.head()"
   ]
  },
  {
   "cell_type": "code",
   "execution_count": 5,
   "metadata": {
    "collapsed": false,
    "deletable": true,
    "editable": true,
    "jupyter": {
     "outputs_hidden": false
    }
   },
   "outputs": [
    {
     "data": {
      "text/html": [
       "<div>\n",
       "<style scoped>\n",
       "    .dataframe tbody tr th:only-of-type {\n",
       "        vertical-align: middle;\n",
       "    }\n",
       "\n",
       "    .dataframe tbody tr th {\n",
       "        vertical-align: top;\n",
       "    }\n",
       "\n",
       "    .dataframe thead th {\n",
       "        text-align: right;\n",
       "    }\n",
       "</style>\n",
       "<table border=\"1\" class=\"dataframe\">\n",
       "  <thead>\n",
       "    <tr style=\"text-align: right;\">\n",
       "      <th></th>\n",
       "      <th>session_duration</th>\n",
       "    </tr>\n",
       "  </thead>\n",
       "  <tbody>\n",
       "    <tr>\n",
       "      <th>count</th>\n",
       "      <td>2.843430e+05</td>\n",
       "    </tr>\n",
       "    <tr>\n",
       "      <th>mean</th>\n",
       "      <td>1.247665e+05</td>\n",
       "    </tr>\n",
       "    <tr>\n",
       "      <th>std</th>\n",
       "      <td>2.311307e+05</td>\n",
       "    </tr>\n",
       "    <tr>\n",
       "      <th>min</th>\n",
       "      <td>1.000000e+00</td>\n",
       "    </tr>\n",
       "    <tr>\n",
       "      <th>25%</th>\n",
       "      <td>1.605050e+04</td>\n",
       "    </tr>\n",
       "    <tr>\n",
       "      <th>50%</th>\n",
       "      <td>5.624600e+04</td>\n",
       "    </tr>\n",
       "    <tr>\n",
       "      <th>75%</th>\n",
       "      <td>1.271425e+05</td>\n",
       "    </tr>\n",
       "    <tr>\n",
       "      <th>max</th>\n",
       "      <td>7.690598e+06</td>\n",
       "    </tr>\n",
       "  </tbody>\n",
       "</table>\n",
       "</div>"
      ],
      "text/plain": [
       "       session_duration\n",
       "count      2.843430e+05\n",
       "mean       1.247665e+05\n",
       "std        2.311307e+05\n",
       "min        1.000000e+00\n",
       "25%        1.605050e+04\n",
       "50%        5.624600e+04\n",
       "75%        1.271425e+05\n",
       "max        7.690598e+06"
      ]
     },
     "execution_count": 5,
     "metadata": {},
     "output_type": "execute_result"
    }
   ],
   "source": [
    "stats = df.describe()\n",
    "stats"
   ]
  },
  {
   "cell_type": "code",
   "execution_count": 6,
   "metadata": {},
   "outputs": [
    {
     "data": {
      "text/plain": [
       "<AxesSubplot:ylabel='Frequency'>"
      ]
     },
     "execution_count": 6,
     "metadata": {},
     "output_type": "execute_result"
    },
    {
     "data": {
      "image/png": "[encoded data removed]",
      "text/plain": [
       "<Figure size 576x360 with 1 Axes>"
      ]
     },
     "metadata": {
      "needs_background": "light"
     },
     "output_type": "display_data"
    }
   ],
   "source": [
    "df[[\"session_duration\"]].plot(kind=\"hist\", logy=True, bins=100, figsize=[8,5])"
   ]
  },
  {
   "cell_type": "code",
   "execution_count": 7,
   "metadata": {
    "collapsed": false,
    "deletable": true,
    "editable": true,
    "jupyter": {
     "outputs_hidden": false
    }
   },
   "outputs": [
    {
     "data": {
      "text/plain": [
       "<AxesSubplot:ylabel='Frequency'>"
      ]
     },
     "execution_count": 7,
     "metadata": {},
     "output_type": "execute_result"
    },
    {
     "data": {
      "image/png": "[encoded data removed]",
      "text/plain": [
       "<Figure size 576x360 with 1 Axes>"
      ]
     },
     "metadata": {
      "needs_background": "light"
     },
     "output_type": "display_data"
    }
   ],
   "source": [
    "# The rating is the session_duration scaled to be in the range 0-1.  This will help with training.\n",
    "median = stats.loc[\"50%\", \"session_duration\"]\n",
    "df[\"rating\"] = 0.3 * df[\"session_duration\"] / median\n",
    "df.loc[df[\"rating\"] > 1, \"rating\"] = 1\n",
    "df[[\"rating\"]].plot(kind=\"hist\", logy=True, bins=100, figsize=[8,5])"
   ]
  },
  {
   "cell_type": "code",
   "execution_count": 8,
   "metadata": {
    "collapsed": false,
    "deletable": true,
    "editable": true,
    "jupyter": {
     "outputs_hidden": false
    }
   },
   "outputs": [],
   "source": [
    "del df[\"session_duration\"]"
   ]
  },
  {
   "cell_type": "code",
   "execution_count": 9,
   "metadata": {
    "collapsed": false,
    "deletable": true,
    "editable": true,
    "jupyter": {
     "outputs_hidden": false
    }
   },
   "outputs": [],
   "source": [
    "%%bash\n",
    "rm -rf data\n",
    "mkdir data"
   ]
  },
  {
   "cell_type": "code",
   "execution_count": 10,
   "metadata": {
    "collapsed": false,
    "deletable": true,
    "editable": true,
    "jupyter": {
     "outputs_hidden": false
    }
   },
   "outputs": [],
   "source": [
    "# Write object to a comma-separated values (csv) file.\n",
    "# TODO 1: Your code here"
   ]
  },
  {
   "cell_type": "code",
   "execution_count": 11,
   "metadata": {
    "collapsed": false,
    "deletable": true,
    "editable": true,
    "jupyter": {
     "outputs_hidden": false
    }
   },
   "outputs": [
    {
     "name": "stdout",
     "output_type": "stream",
     "text": [
      "1012012094517511217-1,299949290,1.0\n",
      "1614877438160481626-349,29455408,1.0\n",
      "1815317450115839569-235,299807267,0.8569622728727375\n",
      "1950053456137072413-10,243386345,0.5474309284215766\n",
      "2179122255490468209-180,299925086,0.03222095793478647\n",
      "2477455524323251766-1,299936493,0.3514756604914127\n",
      "277149937495438413-384,299777707,0.1444742737261316\n",
      "2912361176772133138-147,299796840,1.0\n",
      "3868650583032521586-577,299814183,0.5796732212068414\n",
      "4086929260756256102-380,299946732,1.0\n"
     ]
    }
   ],
   "source": [
    "!head data/collab_raw.csv"
   ]
  },
  {
   "cell_type": "markdown",
   "metadata": {
    "deletable": true,
    "editable": true
   },
   "source": [
    "## Create dataset for WALS\n",
    "<p>\n",
    "The raw dataset (above) won't work for WALS:\n",
    "<ol>\n",
    "<li> The userId and itemId have to be 0,1,2 ... so you need to create a mapping from visitorId (in the raw data) to userId and contentId (in the raw data) to itemId.\n",
    "<li> You will need to save the above mapping to a file because at prediction time, you'll need to know how to map the contentId in the table above to the itemId.\n",
    "<li> You'll need two files: a \"rows\" dataset where all the items for a particular user are listed; and a \"columns\" dataset where all the users for a particular item are listed.\n",
    "</ol>\n",
    "\n",
    "<p>\n",
    "\n",
    "### Mapping"
   ]
  },
  {
   "cell_type": "code",
   "execution_count": 12,
   "metadata": {
    "collapsed": false,
    "deletable": true,
    "editable": true,
    "jupyter": {
     "outputs_hidden": false
    }
   },
   "outputs": [],
   "source": [
    "import pandas as pd\n",
    "import numpy as np\n",
    "def create_mapping(values, filename):\n",
    "    with open(filename, 'w') as ofp:\n",
    "        value_to_id = {value:idx for idx, value in enumerate(values.unique())}\n",
    "        for value, idx in value_to_id.items():\n",
    "            ofp.write(\"{},{}\\n\".format(value, idx))\n",
    "    return value_to_id\n",
    "\n",
    "df = pd.read_csv(filepath_or_buffer = \"data/collab_raw.csv\",\n",
    "                 header = None,\n",
    "                 names = [\"visitorId\", \"contentId\", \"rating\"],\n",
    "                dtype = {\"visitorId\": str, \"contentId\": str, \"rating\": np.float})\n",
    "df.to_csv(path_or_buf = \"data/collab_raw.csv\", index = False, header = False)\n",
    "user_mapping = create_mapping(df[\"visitorId\"], \"data/users.csv\")\n",
    "item_mapping = create_mapping(df[\"contentId\"], \"data/items.csv\")"
   ]
  },
  {
   "cell_type": "code",
   "execution_count": 13,
   "metadata": {
    "collapsed": false,
    "deletable": true,
    "editable": true,
    "jupyter": {
     "outputs_hidden": false
    }
   },
   "outputs": [
    {
     "name": "stdout",
     "output_type": "stream",
     "text": [
      "==> data/collab_raw.csv <==\n",
      "1012012094517511217-1,299949290,1.0\n",
      "1614877438160481626-349,29455408,1.0\n",
      "1815317450115839569-235,299807267,0.8569622728727375\n",
      "\n",
      "==> data/items.csv <==\n",
      "299949290,0\n",
      "29455408,1\n",
      "299807267,2\n",
      "\n",
      "==> data/users.csv <==\n",
      "1012012094517511217-1,0\n",
      "1614877438160481626-349,1\n",
      "1815317450115839569-235,2\n"
     ]
    }
   ],
   "source": [
    "!head -3 data/*.csv"
   ]
  },
  {
   "cell_type": "code",
   "execution_count": 14,
   "metadata": {
    "collapsed": false,
    "deletable": true,
    "editable": true,
    "jupyter": {
     "outputs_hidden": false
    }
   },
   "outputs": [],
   "source": [
    "df[\"userId\"] = df[\"visitorId\"].map(user_mapping.get)\n",
    "df[\"itemId\"] = df[\"contentId\"].map(item_mapping.get)"
   ]
  },
  {
   "cell_type": "code",
   "execution_count": 15,
   "metadata": {
    "collapsed": false,
    "deletable": true,
    "editable": true,
    "jupyter": {
     "outputs_hidden": false
    }
   },
   "outputs": [
    {
     "data": {
      "text/html": [
       "<div>\n",
       "<style scoped>\n",
       "    .dataframe tbody tr th:only-of-type {\n",
       "        vertical-align: middle;\n",
       "    }\n",
       "\n",
       "    .dataframe tbody tr th {\n",
       "        vertical-align: top;\n",
       "    }\n",
       "\n",
       "    .dataframe thead th {\n",
       "        text-align: right;\n",
       "    }\n",
       "</style>\n",
       "<table border=\"1\" class=\"dataframe\">\n",
       "  <thead>\n",
       "    <tr style=\"text-align: right;\">\n",
       "      <th></th>\n",
       "      <th>userId</th>\n",
       "      <th>itemId</th>\n",
       "      <th>rating</th>\n",
       "    </tr>\n",
       "  </thead>\n",
       "  <tbody>\n",
       "    <tr>\n",
       "      <th>0</th>\n",
       "      <td>0</td>\n",
       "      <td>0</td>\n",
       "      <td>1.000000</td>\n",
       "    </tr>\n",
       "    <tr>\n",
       "      <th>1</th>\n",
       "      <td>1</td>\n",
       "      <td>1</td>\n",
       "      <td>1.000000</td>\n",
       "    </tr>\n",
       "    <tr>\n",
       "      <th>2</th>\n",
       "      <td>2</td>\n",
       "      <td>2</td>\n",
       "      <td>0.856962</td>\n",
       "    </tr>\n",
       "    <tr>\n",
       "      <th>3</th>\n",
       "      <td>3</td>\n",
       "      <td>3</td>\n",
       "      <td>0.547431</td>\n",
       "    </tr>\n",
       "    <tr>\n",
       "      <th>4</th>\n",
       "      <td>4</td>\n",
       "      <td>4</td>\n",
       "      <td>0.032221</td>\n",
       "    </tr>\n",
       "  </tbody>\n",
       "</table>\n",
       "</div>"
      ],
      "text/plain": [
       "   userId  itemId    rating\n",
       "0       0       0  1.000000\n",
       "1       1       1  1.000000\n",
       "2       2       2  0.856962\n",
       "3       3       3  0.547431\n",
       "4       4       4  0.032221"
      ]
     },
     "execution_count": 15,
     "metadata": {},
     "output_type": "execute_result"
    }
   ],
   "source": [
    "mapped_df = df[[\"userId\", \"itemId\", \"rating\"]]\n",
    "mapped_df.to_csv(path_or_buf = \"data/collab_mapped.csv\", index = False, header = False)\n",
    "mapped_df.head()"
   ]
  },
  {
   "cell_type": "markdown",
   "metadata": {
    "deletable": true,
    "editable": true
   },
   "source": [
    "### Creating rows and columns datasets"
   ]
  },
  {
   "cell_type": "code",
   "execution_count": 16,
   "metadata": {
    "collapsed": false,
    "deletable": true,
    "editable": true,
    "jupyter": {
     "outputs_hidden": false
    }
   },
   "outputs": [
    {
     "data": {
      "text/html": [
       "<div>\n",
       "<style scoped>\n",
       "    .dataframe tbody tr th:only-of-type {\n",
       "        vertical-align: middle;\n",
       "    }\n",
       "\n",
       "    .dataframe tbody tr th {\n",
       "        vertical-align: top;\n",
       "    }\n",
       "\n",
       "    .dataframe thead th {\n",
       "        text-align: right;\n",
       "    }\n",
       "</style>\n",
       "<table border=\"1\" class=\"dataframe\">\n",
       "  <thead>\n",
       "    <tr style=\"text-align: right;\">\n",
       "      <th></th>\n",
       "      <th>userId</th>\n",
       "      <th>itemId</th>\n",
       "      <th>rating</th>\n",
       "    </tr>\n",
       "  </thead>\n",
       "  <tbody>\n",
       "    <tr>\n",
       "      <th>0</th>\n",
       "      <td>0</td>\n",
       "      <td>0</td>\n",
       "      <td>1.000000</td>\n",
       "    </tr>\n",
       "    <tr>\n",
       "      <th>1</th>\n",
       "      <td>1</td>\n",
       "      <td>1</td>\n",
       "      <td>1.000000</td>\n",
       "    </tr>\n",
       "    <tr>\n",
       "      <th>2</th>\n",
       "      <td>2</td>\n",
       "      <td>2</td>\n",
       "      <td>0.856962</td>\n",
       "    </tr>\n",
       "    <tr>\n",
       "      <th>3</th>\n",
       "      <td>3</td>\n",
       "      <td>3</td>\n",
       "      <td>0.547431</td>\n",
       "    </tr>\n",
       "    <tr>\n",
       "      <th>4</th>\n",
       "      <td>4</td>\n",
       "      <td>4</td>\n",
       "      <td>0.032221</td>\n",
       "    </tr>\n",
       "  </tbody>\n",
       "</table>\n",
       "</div>"
      ],
      "text/plain": [
       "   userId  itemId    rating\n",
       "0       0       0  1.000000\n",
       "1       1       1  1.000000\n",
       "2       2       2  0.856962\n",
       "3       3       3  0.547431\n",
       "4       4       4  0.032221"
      ]
     },
     "execution_count": 16,
     "metadata": {},
     "output_type": "execute_result"
    }
   ],
   "source": [
    "import pandas as pd\n",
    "import numpy as np\n",
    "mapped_df = pd.read_csv(filepath_or_buffer = \"data/collab_mapped.csv\", header = None, names = [\"userId\", \"itemId\", \"rating\"])\n",
    "mapped_df.head()"
   ]
  },
  {
   "cell_type": "code",
   "execution_count": 17,
   "metadata": {
    "collapsed": false,
    "deletable": true,
    "editable": true,
    "jupyter": {
     "outputs_hidden": false
    }
   },
   "outputs": [
    {
     "name": "stdout",
     "output_type": "stream",
     "text": [
      "5662 items, 120983 users, 284343 interactions\n"
     ]
    }
   ],
   "source": [
    "NITEMS = np.max(mapped_df[\"itemId\"]) + 1\n",
    "NUSERS = np.max(mapped_df[\"userId\"]) + 1\n",
    "mapped_df[\"rating\"] = np.round(mapped_df[\"rating\"].values, 2)\n",
    "print(\"{} items, {} users, {} interactions\".format( NITEMS, NUSERS, len(mapped_df) ))"
   ]
  },
  {
   "cell_type": "code",
   "execution_count": 18,
   "metadata": {
    "collapsed": false,
    "deletable": true,
    "editable": true,
    "jupyter": {
     "outputs_hidden": false
    }
   },
   "outputs": [
    {
     "name": "stdout",
     "output_type": "stream",
     "text": [
      "0 [    0   357   561   608   746  1119  1159  1207  1315  1348  1370  1396\n",
      "  1940  2035  2143  2254  3169  3313   176  3692   611  4003  4528  1432\n",
      "  4625  4862  4879  5110  5324  5409  5506  5693  5732  5743  5838   491\n",
      "  7167  7349  7908  7919  8064  8217  5758  8764  8829  9050  9140  9311\n",
      "  9417  9820 10368 10418 10809 10822 10911 11351 11761  9110 11982  3345\n",
      " 12292 12599 12841 12863 13342 13758 13986 14038 14153 14357 15069 15074\n",
      " 15106 15346 15424 15519 13030 16265 16363  5322 16416 16560 16749 17042\n",
      " 17077 17403 17442  6664 17575 17674 17735 17916 17990 18152 18181 13354\n",
      " 18383 18532 16206 13652 18643 18905 11473 19213 19655 19685 19699 17437\n",
      " 19817  3948 20195 15545 20285 20733 20792 16549 21222  5923 21627 21796\n",
      " 12084 14759 22053 22116 22691  1287 22717 20511 23252 23446 23479  5683\n",
      " 23796 17283 24177 24348   810 10004 24800 25200 13567  1899  8200 25455\n",
      " 25570 25629 25806 25822 25870 25904 11926 26330 26598 26610 26751 26914\n",
      " 27307 28187  6666   579 28556 28604 28708 28731 28756 24762 28916 28966\n",
      " 29452 29521 11392 11503 29771 29829 29935 12012 30161 30496  3827 26662\n",
      " 30686 30746 17931 30809 13231 30980 20602 31324 31418 31621 31898  3034\n",
      " 31997   389 32253 32413 32502 12924 32719 32744 32817 32890 32929  5062\n",
      " 29483 33477 33528 14164 33617 33642 33703 33771 33834 34045 34066 34101\n",
      "  3455 28351  9561 34206 34522  4378 34789 34857 34994 35004  2160 35210\n",
      " 35447 35588 35605 35725 35815 35818 36006 36111 26557 24649 36384 26845\n",
      "  4605 22817 22916 37058 37093 37389 19517  9461 37818  6890 22314 37945\n",
      " 38436 33298 21167 38896 25831 19582 39375 39554 28739 32642 39832 40055\n",
      "  4750 40269 31276 40332 21443 11597   350 41247 41345 41441   918  4525\n",
      " 18200 25024 15950 40285  8029 42042  2197 11288  8735 30551   890 32677\n",
      " 43227 34610 43447 27111  1548 31044  1807 43717 21284 44031 11636  2802\n",
      " 44168 44245 21948 44417 12241  6776 45088 45172 38633 45347  2248 45488\n",
      " 45576  8867 45720 37552 35866 45944 46118 46227 41742 46690 46730  1973\n",
      " 46791 46843 46892 46937  5483 47006 29697 14330 47309 24170 47509 47611\n",
      " 47882  7307  4978 38715 43861 37051 48606 19146 35573  3092 30196 48951\n",
      " 49159 49214  4064 39936 41673 49432 49461 49488 10504 49776 11221 49973\n",
      " 50009  5664  6297 42753 22220 34315 15468 50756 38125 38223 50883 50957\n",
      " 25159 51131 51187 18763  5550 51564 17084 51793 39490 51911 44702 52123\n",
      " 52484  8354  8701 11873    46 53227 53297 15206 18026 15900 53759 53760\n",
      "  7810 53840 10923 53895 20950  5332 43946 54472 54477 54496  6715  4022\n",
      "  7296 54877 54980 30992 27101 55045 55085 41871 55100 48350  2392  8750\n",
      " 55727 55746  6746 55976 12697 12787 56230 56266 53648 31410 42156 56638\n",
      " 23987 57145 57182 41351 24499  4302  7263 18016 55019 40434  2871 28104\n",
      " 40941] [1.   0.19 0.93 0.55 0.4  0.54 0.   0.09 0.57 1.   0.36 0.43 0.37 0.44\n",
      " 0.57 0.03 0.08 0.02 0.16 0.36 0.07 0.72 0.87 0.04 0.64 0.69 0.05 0.4\n",
      " 0.14 0.03 0.06 0.36 0.6  0.03 0.07 0.01 0.6  0.56 0.36 0.75 0.36 1.\n",
      " 1.   0.16 0.58 1.   0.98 0.37 1.   0.92 0.45 0.49 0.47 1.   1.   0.19\n",
      " 0.01 0.09 0.07 0.27 0.34 0.21 0.01 0.01 0.91 0.57 0.28 0.92 0.02 0.65\n",
      " 0.25 0.87 0.46 1.   0.   1.   0.37 1.   0.53 1.   1.   0.42 0.1  1.\n",
      " 0.47 1.   1.   0.41 0.04 0.44 1.   0.34 0.81 0.56 0.32 0.04 0.25 0.03\n",
      " 0.73 1.   0.03 0.21 0.05 0.11 0.26 1.   0.67 1.   0.4  0.69 0.19 0.1\n",
      " 0.14 0.98 0.46 0.46 0.11 0.94 0.46 0.92 0.1  1.   0.39 1.   0.67 0.23\n",
      " 0.76 1.   1.   0.68 0.68 0.25 0.41 0.79 0.81 0.05 0.72 0.04 0.07 0.34\n",
      " 1.   0.61 0.32 1.   0.37 1.   0.81 0.41 0.78 0.39 0.02 0.27 0.91 1.\n",
      " 0.21 1.   0.19 1.   0.33 0.66 0.56 0.04 0.43 0.78 0.47 0.93 0.52 0.15\n",
      " 0.61 0.2  1.   0.45 0.03 0.48 0.09 0.44 0.14 0.14 0.01 0.05 0.01 0.52\n",
      " 0.36 0.07 1.   0.13 0.57 1.   1.   1.   0.74 0.63 0.02 0.03 0.17 0.63\n",
      " 0.54 0.02 0.72 0.07 0.43 1.   1.   0.01 0.62 0.05 1.   0.03 0.26 0.48\n",
      " 0.5  1.   0.46 0.3  0.14 0.57 0.51 0.75 0.8  0.01 0.02 0.6  1.   1.\n",
      " 0.08 0.48 1.   0.18 0.91 0.54 0.3  0.21 0.52 0.03 0.03 1.   0.06 0.46\n",
      " 0.05 0.47 0.42 0.32 0.13 0.25 0.95 0.04 0.92 1.   0.5  0.45 0.32 0.99\n",
      " 0.6  0.78 0.17 0.32 0.24 0.77 0.46 0.66 0.15 0.78 0.27 0.31 0.36 0.25\n",
      " 0.76 0.04 0.43 1.   0.43 0.26 0.63 0.78 0.62 0.48 0.48 1.   0.08 0.01\n",
      " 0.48 0.41 0.17 0.49 0.45 0.69 0.14 0.76 1.   1.   0.58 0.02 0.52 1.\n",
      " 0.87 0.03 0.08 0.73 0.03 0.   0.78 0.28 0.27 0.99 0.62 0.25 0.37 0.95\n",
      " 0.37 0.96 0.45 0.16 0.08 1.   0.24 0.   0.03 0.04 0.5  0.21 0.31 0.09\n",
      " 0.85 0.03 0.4  0.07 0.47 0.41 0.62 0.01 0.89 0.07 0.29 0.04 0.92 1.\n",
      " 0.16 0.04 0.6  0.27 0.57 0.15 0.56 0.93 0.28 1.   0.69 0.61 0.32 0.01\n",
      " 0.49 1.   0.07 0.72 0.28 1.   0.68 0.04 0.26 0.28 0.09 0.03 1.   0.78\n",
      " 1.   0.4  0.55 0.36 0.04 0.62 1.   0.5  0.12 1.   0.33 1.   0.46 0.05\n",
      " 0.09 0.67 0.72 0.49 1.   0.47 0.57 0.38 0.91 1.   0.01 0.41 0.04 1.\n",
      " 0.19 0.06 0.68 0.77 0.11 0.31 0.15 0.33 0.47 0.91 0.24 0.11 0.4  1.\n",
      " 0.64 0.11 1.   0.08 1.   0.6  0.04 0.34 0.38 0.26 1.   0.64 0.87 0.24\n",
      " 0.45 0.01 1.   1.   0.45 0.09 1.   0.43 0.03 0.47 0.8  0.41 0.44 0.14\n",
      " 0.49 0.31 0.54 0.02 0.09 0.68 0.12 0.14 0.63 0.3  0.76]\n",
      "1 [   1 2468] [1.  0.7]\n",
      "2 [    2  1102  1529  2209  2413  2581  3155  3185  3365  4460  4792  5042\n",
      "  5789  6980  6992  4111  7403  8052  8308  8340  8556  8895  8900  9868\n",
      " 10187 10376  7594 10775  8029 11270 11376 11448 11476 11694 12310   506\n",
      " 12741 13139 13329  7864  5291 14267 14268   252 14961 15235  7685 10716\n",
      " 17004 11878 17652 17680 18180 18217 18310  3300 19828 20221 20732 15562\n",
      "  1973 23535 14400 23824 23971 24335  3162 26143 26206 26495 26980 27012\n",
      "  2311 21946 28358 29211 29313 23310 11251 29759  8261 32172 32538 32573\n",
      " 32609 32652 33063 19200 33716 34004 34027 26366 34225  7478 34974  1822\n",
      " 29483 36061 36252 36515 37262 31746 37485 37525 38397 38712 39130 39311\n",
      " 39542 17502 40027  5166 37229 21481 11594 16836 21615 40891  9510 28679\n",
      " 41525 41646 32836 31141 41886 13820 21732 41299 10152  7790 43557 43733\n",
      " 45115 42408 14421  9141  9847 36258 46677 29794 25806 33827 21989 47656\n",
      " 34544 47983 48065 48113 36663  8812 48672 21872  4671 16359 49926 11663\n",
      "  3563 32327 50606  1237 50914 18245 51523 25907 12246 51978   935 52065\n",
      " 52407 48171 31205 19055 39118  2893 11765   576  7143 53514 43349 53634\n",
      " 39075 24216 54609 14269  2859 55690 56129 13214  2195  8700 40892  3061\n",
      " 57183 34328 57368 57392 57453 57577 24940 15854 51041 58076 44054] [0.86 0.41 0.47 0.05 0.51 0.66 0.38 0.35 0.34 1.   0.63 0.03 0.12 1.\n",
      " 0.08 0.14 0.09 0.4  0.29 0.12 0.58 0.36 0.29 1.   0.77 0.6  0.13 0.16\n",
      " 0.25 0.57 0.28 1.   0.67 0.36 0.65 1.   1.   0.66 1.   1.   0.83 0.02\n",
      " 0.04 0.53 0.35 0.5  1.   0.31 0.53 0.12 1.   1.   0.   0.21 0.37 0.07\n",
      " 0.26 0.05 1.   0.27 0.36 0.45 0.62 0.4  0.17 0.06 0.01 0.17 1.   0.15\n",
      " 0.06 0.49 0.02 0.08 0.87 0.7  1.   0.12 0.28 0.27 0.37 1.   1.   1.\n",
      " 1.   0.65 0.1  1.   1.   1.   0.09 0.26 0.34 0.64 0.63 0.23 0.41 0.17\n",
      " 0.02 0.43 0.15 0.23 0.3  0.77 1.   0.03 0.3  0.29 1.   0.03 0.03 0.02\n",
      " 0.63 0.02 0.47 0.88 0.17 1.   0.01 0.55 1.   1.   0.3  1.   0.18 0.08\n",
      " 1.   0.14 1.   0.26 1.   1.   0.3  0.12 0.05 0.46 0.44 0.72 0.01 0.09\n",
      " 0.12 0.08 0.96 0.29 1.   0.23 1.   0.28 0.13 0.7  1.   0.34 0.41 0.23\n",
      " 1.   0.17 0.46 0.1  0.33 0.21 1.   0.22 0.31 0.05 0.94 0.85 0.27 0.4\n",
      " 1.   0.63 1.   0.86 0.19 0.05 0.42 0.1  0.39 1.   1.   1.   0.26 0.11\n",
      " 0.25 0.66 0.85 0.22 1.   0.57 0.42 0.36 1.   0.01 1.   0.03 1.   0.21\n",
      " 0.5  1.   0.02 0.27 0.97 0.22 0.23]\n",
      "3 [    3   229   900  1536  1981  2145  3838  4953  5330  5621  5691  5812\n",
      "  2819  5912  4244  8307  8393  9131  9233  9502 10069  1583 11109  2172\n",
      " 11343 11523 11678  5900 11742 12195 12458 13794 14493 11849 15437 15626\n",
      " 16240 16306 17400 17487   943 19053 19166 19696 20219 20813 21088 14139\n",
      " 21438 21452  2769 14680 22111  1871 23358 18875 23458 23747   277 12870\n",
      " 15755 25332 25413 25429 23586 25680 25784 25950 26765 26787 25493 27777\n",
      " 27784  8781 28011 17464 17581  3867 29041 29193 30621 30648 31975  9890\n",
      " 15607 10167 34736 20722 35220 35542  9065  6254 35804 24425  1571  5514\n",
      " 37175 37571 38077 38505 38513 38626 38696  2380 38866 35728 26277 26306\n",
      " 39862 20435 40303 40561  9149  9816 20673 42241 23790 43064 28689 26975\n",
      " 17580  4789 29170 33382 45426 45521 19523   534 41264 46245 30931 40558\n",
      "  8763 45661 39787 17924 22876 48134  2196 48646 46138  4013 10587 49717\n",
      " 50057 50196 50482 50773 51551  9846 52286 52329 52691 11639  2848 52949\n",
      " 45879 39435 53681 16032 54144 54364  3390 54672  9912 22638 42022  8134\n",
      " 23284 21698  6364 14871  1254 34824 25050 56524 56637 14496 57294  7553\n",
      " 57764 16540 58108] [0.55 0.75 0.2  0.   1.   0.45 0.08 1.   0.08 0.2  0.04 0.49 0.1  0.34\n",
      " 0.27 0.35 0.09 0.89 0.13 0.16 0.18 0.38 0.46 0.6  0.28 0.57 0.8  0.12\n",
      " 0.27 0.75 0.53 0.68 0.06 0.29 1.   0.15 0.68 0.63 0.44 1.   0.33 0.16\n",
      " 0.29 0.5  0.02 0.2  0.04 0.38 0.22 0.02 0.67 0.41 0.28 1.   1.   0.28\n",
      " 0.35 1.   0.61 0.54 0.15 0.24 0.5  0.37 0.38 0.4  1.   0.39 0.12 0.6\n",
      " 0.38 0.03 0.08 0.89 1.   0.37 0.23 0.39 0.02 0.18 0.33 0.24 0.85 0.73\n",
      " 1.   0.7  0.33 0.37 1.   0.6  1.   0.59 1.   1.   0.41 0.16 0.1  0.35\n",
      " 0.67 0.51 0.28 0.56 0.5  0.39 0.02 0.56 0.53 0.63 0.59 0.16 0.05 0.19\n",
      " 0.2  1.   0.32 0.7  0.78 0.12 0.05 0.43 0.51 0.37 0.5  0.14 1.   0.27\n",
      " 0.2  1.   0.92 0.07 0.04 0.41 0.03 0.55 0.31 0.07 0.47 1.   0.07 0.34\n",
      " 0.02 0.76 0.6  0.43 0.48 0.31 0.41 0.13 0.7  0.49 0.03 0.09 0.08 0.43\n",
      " 0.34 0.26 0.15 1.   0.13 0.41 1.   0.4  0.14 0.25 0.62 0.71 0.6  0.32\n",
      " 0.72 0.24 0.33 0.45 0.48 0.75 0.1  0.38 0.3  0.09 0.22 0.23 0.26 0.51\n",
      " 0.18]\n",
      "4 [    4    11   115   135   211   214   272   401   537   701   849   854\n",
      "   869  1427  1580  1589  1901  1993  2020  2054  2177  2488  2553  2583\n",
      "  2643  2674  2714  2969  3286  3641  3866  3875  3923  4016  4042  4379\n",
      "  4565  4708  4728  4836  4861  4943  5155  2113  5346  5438  5500  5526\n",
      "  5615  5645  5652  5837  5904  5910  6152  6242  6367  6714  6861  6886\n",
      "  6887  6967  6977  7086  7236  7399  7418  7448  7453  4791  4799  7841\n",
      "  7869  7880  7884  8073  8115  8255  8434  8509  8534  8581  8832  9135\n",
      "  6250  9251  9438  9559  6705  9806  9907  9980 10011 10150 10433 10520\n",
      " 10553 10667 10754  7999 10915 10966 11101 11110 11277 11303 11400  5622\n",
      " 11508 11683 11901  9207 12085 12144 12328 12436 12501 12518 12723  4094\n",
      "  1053  7192 12958 12976 13075 13079 13184  4610 13288 13394 13455 13527\n",
      " 13626 13637 13665 13718 14316 14329 14389 14395 14496 14565 14625 14691\n",
      " 14899 15044 15061 15134 15153 15208 15473 10234 15613 15696 15717 15737\n",
      " 15800 15811 15929 16227 16668 14256 17233 17308 17341 12287 17397 17413\n",
      " 17489 17667 12769 17890 17901 17972 15673 10383 18184 18229 18347  4851\n",
      " 18476  4928 18504 18818  8423 18961 19004  2694  8931 19323 19449  3197\n",
      "   148 19903 19932 20081 20169 20283 20325 20563 20650 13477 20791 20806\n",
      " 20863 21101 21127 21196 21366 21433 21460 21549 21612 21619 21849    67\n",
      " 22025 22059 22066 22085 22122 22138  6947 22427 22445 22607 22838 23093\n",
      " 16290 23375 23379 23614 23658 23687  5803 23739 24060 24150 12271 24229\n",
      " 24323   913   942 24783 24858 25041 25151 23081 25189 25247 25264 25340\n",
      " 25381 25452 25577  8711 25803 25838 14328 25846 25877  3069 26022 12009\n",
      "  9219 12066   145 26194 26202 26215 14814 12247 26338 26435 26489 26563\n",
      " 26597 26697 17807 26756 26813 26884  1468 18422 27243 18454 27293 27326\n",
      " 27409 18843  2486 27746  5698 27841  5757 11591  5938 28139 28293 28309\n",
      " 26286 14975 28469 12554 28546 28562 28595 28725 28788 28829 29026 29156\n",
      " 29217 27262 10875 29342 29407 29511 29605 29635 18938 29641 29654 29678\n",
      " 19058 29787 21486 29854 16939 29943 29955 29965 30246  6717 26496   847\n",
      " 30710 30752 30788 30914  5109 31306 11053 23383 31475 31480 31506  8460\n",
      "  2542 31653  5736 31697 31758 31816 31837 31893 17038 32028 26204 19643\n",
      " 32203 32324 26492 32406 32408  3941 26608  4020 32643 32793 15739  4711\n",
      " 10563 32971 32977 20602 33010  1611 33022  1674 33069 33095 33237  1975\n",
      " 23286 33365 33372 33511 33540 14140 29736 33600 33671 33708 33734 33745\n",
      " 33856 33934 33950 32081  3398 34078 34108  9509 34265  6885 28612 34385\n",
      " 34757 34801  1573 34894  1732 34983 10794 35006 31206  1879 35055 35113\n",
      " 27415  8146 35199 23409 35299 35415 35430 35464 35507  8881 35670 35693\n",
      " 35710 11918 35811 28226 35966 36155 36198 36243 10036 36318 28771 36331\n",
      " 36349  4406 10302 32805 36593 32980 36665 36679 34971 36768 33146 23172\n",
      " 36859  5148 10999 36892  5233 37025 37028 37046 37141 37186  2685 37337\n",
      " 37360  5905 19239  2912 37712 37763 19910 12556 37887 37899 37914 37923\n",
      " 37939 17724   978 38140 38236 38270 38351 38379 38385 34838 38491 33246\n",
      " 38709 11160 38803 16525 38942 38972 14234 39149  9073 39421 12282 39470\n",
      "   692 39643 38006 39730 39819 39884 15761 40024 40042 40128  4892 40251\n",
      " 40273 27460 40487 40693 40768 40771 40880 40917 40957 26185  3451 24322\n",
      " 41207 41210 41451 41461 12835 41615 41665 41775 41857 41879 41928 41965\n",
      " 27413 13747 42096 42211 27667 42492 42515 14447 42735 42792  9414 42853\n",
      " 42896 24473 43016 43125 12859 43275 43350 43401 10491 43866 43887 43952\n",
      " 44094 16871 44156 44185 40906 44341 39555   605 44619 44655 24577 44921\n",
      "  1466 43422 32979  1578  7923 45198 45216 45289 45373  8290 45637 45678\n",
      " 19258 45746  6060 45779 24010 45866 21997 17371 46297 46331 10232 46433\n",
      " 46473 46494 46495 46506 29102 22967  7777 46700 16404 46903 18946 47022\n",
      " 38954 47049 47080 47156 37401 19369 47429 47674 47761 47812 47864  7314\n",
      "  1280 48052 29125 31068  7806 48221 48270 13813 48393 11225  8328 48453\n",
      " 48471 48528 48578 48584  2658  9057  6440 48950 48966 32321 19919 49224\n",
      " 15438 49348 49364 49375 10342 49422 49474 49477 49485 15861 49516 49542\n",
      " 49556 31065 49741 49752 49892 49910 49914 18921 49986 50041 50312   100\n",
      "   193   209  3781 20160   983 50852 50956 50995 51129 51234 51275 51359\n",
      " 51424 35606 51568 11750 28162 51844 51845 51909 34248 51975 52018 52034\n",
      " 43088 26660 52110 52117 52156 15568 52262 52327  4740 10580 52415 52437\n",
      " 52453 52457 16263 52534 52607 25613 11392 27783 52753 14152  2790  2796\n",
      " 42529 28042 52924 50297 19541 12130 19633 53120  3411   374 53196 53208\n",
      " 53238 30422 53285  3996 53447 53522 18015  1584  4882 40246  1805 53832\n",
      " 43622 49727 18660  8116  2196 54082 54187  5988 54298 33831 24346 12547\n",
      " 17615 37948 54899 15688 54930 55076 36713 29373 55238 55247 36905 29553\n",
      " 13905 55366 55423 55700 48851 55741   123 51800 55883 55891   562  3728\n",
      " 26619  4000 46230 56050 15380  4289 56157 56170  7316 56250 10454 22850\n",
      " 22861 56339 56392 56411  7861 56487 56621 38748 56647 56659 56756 56758\n",
      " 44295 56996 57040 35819 19557 53138 47486 12504 57297 57315 57389  4124\n",
      " 17865 57528  4723 55069 57701 57727 56437 49790 25403 23572 42360 58134\n",
      " 58189 28004 21649 58217 48758 58265] [0.03 1.   0.62 0.29 1.   0.12 0.05 1.   0.18 0.19 0.02 0.01 0.05 0.27\n",
      " 0.43 0.42 0.03 0.43 0.11 1.   0.33 0.24 0.01 1.   0.36 0.04 1.   0.02\n",
      " 0.07 0.41 0.12 0.25 0.05 0.03 0.31 0.59 0.01 0.22 0.13 0.38 1.   0.02\n",
      " 0.14 1.   0.   0.01 0.04 0.08 0.23 0.22 0.12 0.2  0.57 0.26 0.05 0.21\n",
      " 0.88 0.22 0.71 0.57 0.   0.15 0.13 0.07 0.5  0.28 0.03 0.06 0.32 0.18\n",
      " 0.28 0.42 1.   0.13 0.14 0.04 0.14 0.22 1.   0.03 0.22 0.03 0.04 0.29\n",
      " 0.02 0.   0.41 0.19 0.49 0.15 0.35 0.11 0.23 0.26 0.55 0.01 0.33 0.05\n",
      " 0.23 0.19 0.46 0.61 0.35 0.39 0.33 0.2  0.83 0.17 0.07 0.02 0.15 0.05\n",
      " 0.4  0.11 0.61 0.15 0.2  0.54 0.01 0.1  0.13 0.01 0.05 0.   0.52 0.06\n",
      " 0.26 0.22 0.09 0.04 0.09 0.01 0.   0.01 0.04 0.35 0.24 0.13 0.28 0.78\n",
      " 0.23 0.   1.   0.04 0.22 0.47 0.57 0.19 1.   0.1  0.26 0.03 0.29 1.\n",
      " 0.18 0.1  0.35 0.04 0.09 0.08 0.02 0.29 0.18 0.09 0.02 0.41 1.   0.4\n",
      " 0.71 0.03 0.06 0.01 0.11 0.05 0.15 0.53 0.14 0.25 0.04 0.05 0.5  0.21\n",
      " 0.03 0.06 1.   0.03 0.03 0.16 0.59 0.08 0.34 0.41 0.11 0.12 0.18 0.1\n",
      " 0.39 0.05 0.34 0.02 0.19 0.18 0.   0.23 0.33 0.16 1.   0.68 0.06 0.13\n",
      " 1.   0.32 0.02 0.26 0.31 0.2  0.36 0.49 0.   0.02 0.1  0.05 1.   0.52\n",
      " 0.05 0.26 0.27 0.85 0.16 0.05 0.11 0.05 0.1  0.72 0.05 0.13 0.2  0.04\n",
      " 0.13 0.19 0.05 0.08 0.36 0.01 0.86 0.22 0.03 0.55 0.05 0.28 0.25 0.55\n",
      " 0.41 0.43 0.31 0.39 0.19 0.11 0.37 0.2  0.56 0.42 1.   0.59 0.27 0.11\n",
      " 0.25 0.02 0.2  0.4  0.01 0.33 0.03 0.02 0.12 0.32 0.07 0.08 0.04 0.13\n",
      " 0.05 0.43 0.01 1.   0.41 0.74 0.5  0.01 0.14 0.07 0.5  1.   0.7  0.35\n",
      " 0.15 0.32 1.   0.07 0.14 1.   0.06 0.62 0.04 0.06 0.47 0.04 0.24 0.03\n",
      " 0.26 0.01 1.   0.02 0.   0.36 0.29 0.02 0.16 0.15 0.1  0.04 0.24 0.41\n",
      " 0.4  0.44 0.04 0.13 0.21 0.31 0.34 0.25 0.37 0.02 0.03 0.8  0.03 0.18\n",
      " 1.   0.24 0.18 0.1  0.4  0.24 0.03 0.35 0.71 1.   0.2  0.36 0.66 0.\n",
      " 1.   0.64 0.26 0.24 0.56 0.5  0.18 0.03 0.24 0.65 0.04 0.02 0.26 0.09\n",
      " 1.   0.03 0.29 0.12 1.   0.16 0.01 0.62 0.25 0.   0.41 0.4  0.18 0.01\n",
      " 0.65 0.22 0.04 0.07 0.31 0.53 0.43 0.26 0.52 0.22 0.01 0.58 0.03 0.23\n",
      " 0.42 0.13 0.32 0.06 0.17 0.19 0.04 0.37 0.12 0.58 0.08 0.27 0.   0.35\n",
      " 0.34 0.48 0.33 0.1  1.   0.14 0.07 0.3  0.21 0.   0.08 0.24 0.38 0.52\n",
      " 0.05 1.   0.09 0.17 0.24 0.44 0.47 0.34 0.33 0.18 0.28 0.01 0.34 0.08\n",
      " 0.29 0.37 0.6  0.05 0.5  0.15 0.27 0.08 0.2  0.63 0.45 0.23 0.03 0.1\n",
      " 0.01 0.05 0.71 0.2  0.1  0.38 0.43 0.42 0.09 0.   0.1  0.02 0.64 0.5\n",
      " 1.   0.09 0.23 0.34 0.04 0.3  0.07 0.1  0.44 1.   0.04 0.02 1.   0.37\n",
      " 0.34 0.22 0.14 0.02 0.38 1.   0.07 0.39 0.31 0.41 0.15 0.02 0.87 0.09\n",
      " 0.04 0.09 0.15 0.67 0.01 0.31 0.33 0.56 0.53 0.07 0.29 0.85 0.41 0.07\n",
      " 0.27 0.01 0.1  0.12 0.03 0.69 0.28 0.04 0.09 0.03 0.39 0.29 0.6  1.\n",
      " 0.17 0.01 0.06 0.88 0.17 0.02 0.37 0.47 1.   1.   0.36 0.06 0.4  0.01\n",
      " 0.35 0.12 0.44 0.02 0.05 0.56 0.17 0.2  0.04 1.   0.14 0.26 0.59 0.14\n",
      " 0.28 0.04 0.25 0.19 0.69 0.43 0.01 0.3  0.09 0.34 0.14 0.21 0.27 0.05\n",
      " 0.26 0.43 0.8  0.51 0.42 0.05 0.1  0.03 0.25 0.05 0.19 0.36 0.08 0.27\n",
      " 1.   0.01 0.08 0.16 0.17 0.11 0.08 0.11 0.04 0.51 0.09 0.24 0.6  0.02\n",
      " 0.03 0.02 0.21 0.03 0.29 0.68 0.19 0.38 0.05 0.03 1.   0.39 0.01 0.\n",
      " 1.   0.34 0.77 0.46 0.88 0.06 0.01 0.09 0.32 0.22 0.55 0.16 0.25 0.25\n",
      " 0.91 0.6  0.25 0.14 0.25 0.37 0.24 0.12 0.03 0.28 0.32 0.42 0.39 0.16\n",
      " 0.27 0.09 0.16 0.19 0.43 0.06 0.08 0.07 0.03 0.39 0.64 0.11 0.28 0.04\n",
      " 0.22 0.23 0.05 0.08 0.01 0.16 0.08 0.39 0.26 0.1  0.09 1.   0.05 0.36\n",
      " 0.04 0.14 0.35 0.35 0.31 0.54 0.   1.   0.16 0.17 0.11 0.03 0.13 0.23\n",
      " 0.2  0.68 0.09 1.   0.08 0.33 1.   0.06 0.03 0.59 0.02 0.35 0.26 0.29\n",
      " 0.46 1.   0.71 0.41 0.01 0.22 0.64 0.06 0.23 0.15 0.32 0.38 0.38 0.07\n",
      " 0.04 0.97 0.19 0.21 0.94 0.4  0.14 0.05 0.02 0.26 0.29 0.06 0.04 0.02\n",
      " 0.36 0.13 0.58 0.18 0.91 0.75 0.01 0.51 0.23 0.01 0.3  0.03 0.34 0.02\n",
      " 0.09 0.2  0.25 0.77 0.72 0.24 0.01 0.19 0.62 0.11 0.05 0.36 0.3  0.89\n",
      " 0.44 0.23 0.81 0.77 0.46 0.01 0.01 0.39 0.15 0.02 0.07 0.11 0.18 0.3\n",
      " 0.6  1.   0.32 0.32 0.14 0.33 0.38 0.39 0.01 0.37 0.45 0.14 0.06 0.15\n",
      " 0.03 0.64 0.02 0.41 0.18 0.46 0.48 1.   0.02 0.04 0.05 0.42 0.03 0.57\n",
      " 0.03 0.89 0.08 0.6  0.29 0.   0.28 0.55 0.   0.74 1.   0.15 0.12 0.06\n",
      " 0.08 1.   0.01 1.   0.06 0.27 0.08 0.1  0.03 0.21 0.06 0.2  0.01 0.04\n",
      " 0.28 0.1  1.   0.3  0.13 0.02 0.13 0.77 1.   0.15 0.03 0.7  0.45 0.12\n",
      " 0.06 0.32 0.43 0.53 0.06 0.3  0.   0.03]\n",
      "5 [    5    32    35   148   363   442   504   609   712   716  1332  1341\n",
      "  1378  1449  2196  2588  3374  3386   430  4312  4409  4562  4605  4678\n",
      "  5004  5150  5344  5808  5960  6131  6307  7093  1039  7298  4441  7523\n",
      "  7585  7591  7787  7809  7810  8081  8096  8642  8867  8968  9073  9148\n",
      "  9252  9364  3641  9612  9744  9908 10014 10046 10168 10360  4568 10552\n",
      "  5101 11053 11139 11625 11864    84 12479 12668 13220 13295 13588 13704\n",
      " 13840 11230 14441 14520 14992 15136 15159 12687 15293 15407 15495 15499\n",
      " 15563 15696 15962 16071  5173 16292 16331 16429 11331 16591 16628 16766\n",
      "  5850 11831 17033 17187 17325 17371   397 12373   491 17514 17810  4147\n",
      " 17834 17862 17864 17919 18652 18672 18827 18853 18967 19247 14446 19400\n",
      " 19513  6608 19884 12660 20025 20143 20158 20359 20567 20757  2042 21115\n",
      "  8513 21446 11764 21884 17283 22307 22333 22457  1040  4510 22916  4787\n",
      "  2211 23507 23555 23703 21781 24170 24396  6879 10286 25120 25138 16197\n",
      " 25333 25336 25445 18806 25485 25499 25916 26238 26331 26387   503 26555\n",
      " 20075  4299 26821 26826  4485 22845 27098 27164 13475 27304 13540 27350\n",
      " 27568 27714 27884  2749 27910 28063 28399  3595 28593 28644 15673 18378\n",
      " 11392 29697 29701 29948 29994  9157   352 22155 30461  7134 30769 10180\n",
      " 15560 10216 10256 24823 30874 30904 24985 31491 19097 31743  8868 32274\n",
      "  9807 32553 32691 32758 32779  4480 23107 33177 33503  5852 33819 33894\n",
      " 34146 15031 34318 34340  9795 32636 15769 32894 35058 35167 35200  8210\n",
      " 35295  5486 35355 25614 35471 21661  6118 35745 36015 36020 26531 10030\n",
      " 36919  5264 21147 37207 37314  2847 37395 11747   332  7170  7238 15557\n",
      "  4570  4623 15936 38428 36713 13507  1843 38615  2070 14139 39040 39349\n",
      "  3327 30307   356 34198 39500 39509 38022 39980 39994 40543  8566 41389\n",
      " 15848 34880 42376 42506  5994 42529 42567 17077  3254 30141 14945 42874\n",
      " 42924 43068 43073  7018 17816 32767 26924 43336 32929  2113 21094 44187\n",
      "  3301 44513 44604 37866  9920 44807 28792  1317 45141 45456 12276 15046\n",
      "  7013 46329 46352 26844 10675 46685 10934  5164 45537 47046  5741 39072\n",
      " 33703 11683 16994 47639 47704 47768   870 47774 47883 47908 47951 48031\n",
      " 29253 16191  2279 48494 48615 48617 48763 48907   365 20236 28824 43298\n",
      " 49510 49636 29630  3378 50913 18170 15794 51086 38645 21319 19197 51573\n",
      " 17109 48818 51733 51736 22144  3969 52020 46235 41543 52237 49460 32903\n",
      " 32939 38357  4966  5074 52642 11624  6084 52983 28209 53054 51717 53100\n",
      " 53159 53202 26522 39777 15720 39987 53605 53982 54013  2305  5679  5923\n",
      "  3528 30606 28809  4669 15967 27425 55390 30030 55740 26330 42950 52107\n",
      " 49331  7708  4874 16290 23251 33270 13942 23468 56677 27686 56716 56845\n",
      " 28011 56936 56989 17149 19800  7473 54960 57780 51142 57892 57907 57916\n",
      " 48467 19009 25706 58104 37435] [0.35 0.02 0.04 1.   0.36 0.2  0.47 0.02 1.   0.12 0.25 0.02 0.31 0.03\n",
      " 0.2  0.22 0.14 0.13 0.38 1.   0.31 0.15 0.42 0.44 0.28 0.02 0.58 0.01\n",
      " 0.14 0.02 0.02 0.59 0.46 0.48 0.34 0.35 0.28 0.13 0.08 0.09 0.4  0.24\n",
      " 0.41 0.04 0.23 0.26 1.   0.32 0.67 0.33 0.24 0.13 0.04 0.24 0.34 0.29\n",
      " 0.15 0.63 0.54 0.33 0.59 0.06 0.09 1.   0.44 1.   0.46 0.02 0.14 0.26\n",
      " 0.29 0.64 0.19 0.37 0.23 0.12 0.16 0.36 0.2  0.25 0.21 1.   0.   0.25\n",
      " 0.12 0.19 0.01 1.   0.34 0.09 0.74 1.   0.02 0.38 0.19 0.21 0.24 0.45\n",
      " 0.27 0.17 0.43 0.23 0.21 0.3  0.04 0.16 0.25 0.04 0.22 0.34 0.2  0.07\n",
      " 0.35 0.46 0.07 0.26 0.11 0.08 0.11 0.28 1.   0.05 0.2  0.64 0.25 0.44\n",
      " 0.04 0.11 0.08 0.26 0.37 1.   0.71 1.   0.33 0.66 0.41 0.38 0.23 0.11\n",
      " 0.65 0.24 0.4  0.02 0.53 0.34 1.   1.   0.23 1.   0.54 0.59 0.29 0.07\n",
      " 0.59 0.15 0.24 0.3  1.   0.32 0.01 0.14 0.49 0.14 0.17 0.15 0.02 0.75\n",
      " 0.5  0.01 0.19 0.14 0.2  0.35 0.31 0.06 0.23 0.21 0.27 0.56 0.05 0.2\n",
      " 0.22 0.08 0.34 0.41 0.46 0.46 0.2  0.51 0.41 0.39 0.33 0.29 0.77 0.21\n",
      " 0.2  0.25 1.   0.23 0.25 0.01 0.67 1.   0.06 0.38 0.24 0.42 0.21 0.1\n",
      " 0.03 0.19 0.03 0.19 1.   0.11 0.89 0.36 0.02 0.17 1.   0.28 0.18 0.29\n",
      " 0.12 0.   0.21 0.36 0.08 0.02 0.43 0.03 1.   0.15 0.2  0.22 0.23 0.32\n",
      " 0.06 0.18 1.   0.41 1.   0.27 0.03 0.52 1.   0.69 0.02 0.05 0.36 0.15\n",
      " 0.06 0.2  0.22 0.03 0.36 0.57 0.44 0.04 0.5  0.37 0.02 0.11 0.08 0.29\n",
      " 0.18 0.12 0.01 0.   0.24 0.12 0.14 0.46 0.01 0.26 0.01 0.25 0.29 0.98\n",
      " 0.21 0.18 0.08 0.11 0.71 0.23 0.49 0.35 0.24 0.02 0.4  0.14 0.02 0.01\n",
      " 0.33 0.26 0.05 0.3  0.01 0.27 0.14 0.12 1.   0.09 0.22 0.23 0.28 0.02\n",
      " 0.6  0.01 0.94 0.21 0.19 0.05 0.02 0.6  0.23 0.33 0.16 0.36 0.3  0.\n",
      " 0.03 0.23 0.01 1.   0.06 0.05 0.34 0.01 0.5  0.74 0.18 0.22 0.33 0.03\n",
      " 0.33 0.14 0.85 0.13 0.29 0.21 0.32 0.35 0.42 0.22 0.1  1.   0.27 0.12\n",
      " 0.38 0.4  0.46 0.06 0.25 1.   0.04 0.18 0.32 0.03 0.32 0.16 0.4  0.25\n",
      " 0.37 1.   0.02 1.   0.03 0.16 0.11 0.01 0.04 0.16 0.13 0.12 0.31 0.2\n",
      " 0.02 0.06 0.02 0.31 0.12 0.25 0.12 0.12 0.39 0.48 0.1  0.01 0.21 0.2\n",
      " 0.05 0.79 0.22 0.39 0.96 0.   0.5  0.06 0.12 0.32 0.12 0.77 0.46 0.15\n",
      " 0.3  0.94 0.58 0.01 0.04 0.35 0.89 1.   0.16 0.01 1.   0.48 0.68 0.68\n",
      " 0.62 0.32 0.13 0.21 0.24 0.45 0.81 1.   0.5  0.29 0.39 1.   1.   0.61\n",
      " 1.   0.21 0.29 0.17 0.07 0.17 0.81 0.04 0.03 0.01 0.04 0.39 0.04 0.44\n",
      " 0.49]\n"
     ]
    }
   ],
   "source": [
    "grouped_by_items = mapped_df.groupby(\"itemId\")\n",
    "iter = 0\n",
    "for item, grouped in grouped_by_items:\n",
    "    print(item, grouped[\"userId\"].values, grouped[\"rating\"].values)\n",
    "    iter = iter + 1\n",
    "    if iter > 5:\n",
    "        break"
   ]
  },
  {
   "cell_type": "code",
   "execution_count": 19,
   "metadata": {
    "collapsed": false,
    "deletable": true,
    "editable": true,
    "jupyter": {
     "outputs_hidden": false
    }
   },
   "outputs": [
    {
     "name": "stdout",
     "output_type": "stream",
     "text": [
      "WARNING:tensorflow:From /tmp/ipykernel_13523/1646577164.py:3: The name tf.python_io.TFRecordWriter is deprecated. Please use tf.io.TFRecordWriter instead.\n",
      "\n"
     ]
    }
   ],
   "source": [
    "import tensorflow as tf\n",
    "grouped_by_items = mapped_df.groupby(\"itemId\")\n",
    "with tf.python_io.TFRecordWriter(\"data/users_for_item\") as ofp:\n",
    "    for item, grouped in grouped_by_items:\n",
    "        example = tf.train.Example(features = tf.train.Features(feature = {\n",
    "            \"key\": tf.train.Feature(int64_list = tf.train.Int64List(value = [item])),\n",
    "            \"indices\": tf.train.Feature(int64_list = tf.train.Int64List(value = grouped[\"userId\"].values)),\n",
    "            \"values\": tf.train.Feature(float_list = tf.train.FloatList(value = grouped[\"rating\"].values))\n",
    "        }))\n",
    "        ofp.write(example.SerializeToString())"
   ]
  },
  {
   "cell_type": "code",
   "execution_count": 20,
   "metadata": {
    "collapsed": false,
    "deletable": true,
    "editable": true,
    "jupyter": {
     "outputs_hidden": false
    }
   },
   "outputs": [],
   "source": [
    "grouped_by_users = mapped_df.groupby(\"userId\")\n",
    "with tf.python_io.TFRecordWriter(\"data/items_for_user\") as ofp:\n",
    "    for user, grouped in grouped_by_users:\n",
    "        example = tf.train.Example(features = tf.train.Features(feature = {\n",
    "            \"key\": tf.train.Feature(int64_list = tf.train.Int64List(value = [user])),\n",
    "            \"indices\": tf.train.Feature(int64_list = tf.train.Int64List(value = grouped[\"itemId\"].values)),\n",
    "            \"values\": tf.train.Feature(float_list = tf.train.FloatList(value = grouped[\"rating\"].values))\n",
    "        }))\n",
    "        ofp.write(example.SerializeToString())"
   ]
  },
  {
   "cell_type": "code",
   "execution_count": 21,
   "metadata": {
    "collapsed": false,
    "deletable": true,
    "editable": true,
    "jupyter": {
     "outputs_hidden": false
    }
   },
   "outputs": [
    {
     "name": "stdout",
     "output_type": "stream",
     "text": [
      "total 36580\n",
      "-rw-r--r-- 1 jupyter jupyter 14124035 May 16 17:32 collab_raw.csv\n",
      "-rw-r--r-- 1 jupyter jupyter  3529114 May 16 17:32 users.csv\n",
      "-rw-r--r-- 1 jupyter jupyter    82083 May 16 17:32 items.csv\n",
      "-rw-r--r-- 1 jupyter jupyter  7667828 May 16 17:32 collab_mapped.csv\n",
      "-rw-r--r-- 1 jupyter jupyter  2296476 May 16 17:33 users_for_item\n",
      "-rw-r--r-- 1 jupyter jupyter  9743438 May 16 17:33 items_for_user\n"
     ]
    }
   ],
   "source": [
    "!ls -lrt data"
   ]
  },
  {
   "cell_type": "markdown",
   "metadata": {
    "deletable": true,
    "editable": true
   },
   "source": [
    "To summarize, you created the following data files from collab_raw.csv:\n",
    "<ol>\n",
    "<li> ```collab_mapped.csv``` is essentially the same data as in ```collab_raw.csv``` except that ```visitorId``` and ```contentId``` which are business-specific have been mapped to ```userId``` and ```itemId``` which are enumerated in 0,1,2,....  The mappings themselves are stored in ```items.csv``` and ```users.csv``` so that they can be used during inference.\n",
    "<li> ```users_for_item``` contains all the users/ratings for each item in TFExample format\n",
    "<li> ```items_for_user``` contains all the items/ratings for each user in TFExample format\n",
    "</ol>"
   ]
  },
  {
   "cell_type": "markdown",
   "metadata": {
    "deletable": true,
    "editable": true
   },
   "source": [
    "## Train with WALS\n",
    "\n",
    "Once you have the dataset, do matrix factorization with WALS using the [WALSMatrixFactorization](https://www.tensorflow.org/versions/r1.15/api_docs/python/tf/contrib/factorization/WALSMatrixFactorization) in the contrib directory.\n",
    "This is an estimator model, so it should be relatively familiar.\n",
    "<p>\n",
    "As usual, you write an input_fn to provide the data to the model, and then create the Estimator to do train_and_evaluate.\n",
    "Because it is in contrib and hasn't moved over to tf.estimator yet, you use tf.contrib.learn.Experiment to handle the training loop.<p>\n",
    "Make sure to replace <strong># TODO</strong> in below code."
   ]
  },
  {
   "cell_type": "code",
   "execution_count": 22,
   "metadata": {
    "collapsed": false,
    "deletable": true,
    "editable": true,
    "jupyter": {
     "outputs_hidden": false
    }
   },
   "outputs": [],
   "source": [
    "import os\n",
    "import tensorflow as tf\n",
    "from tensorflow.python.lib.io import file_io\n",
    "from tensorflow.contrib.factorization import WALSMatrixFactorization\n",
    "  \n",
    "def read_dataset(mode, args):\n",
    "    def decode_example(protos, vocab_size):\n",
    "        # TODO 2: Your code here\n",
    "        return\n",
    "  \n",
    "  \n",
    "    def remap_keys(sparse_tensor):\n",
    "        # Current indices of your SparseTensor that you need to fix\n",
    "        bad_indices = sparse_tensor.indices # shape = (current_batch_size * (number_of_items/users[i] + 1), 2)\n",
    "        # Current values of your SparseTensor that you need to fix\n",
    "        bad_values = sparse_tensor.values # shape = (current_batch_size * (number_of_items/users[i] + 1),)\n",
    "\n",
    "        # Since batch is ordered, the last value for a batch index is the user\n",
    "        # Find where the batch index chages to extract the user rows\n",
    "        # 1 where user, else 0\n",
    "        user_mask = tf.concat(values = [bad_indices[1:,0] - bad_indices[:-1,0], tf.constant(value = [1], dtype = tf.int64)], axis = 0) # shape = (current_batch_size * (number_of_items/users[i] + 1), 2)\n",
    "\n",
    "        # Mask out the user rows from the values\n",
    "        good_values = tf.boolean_mask(tensor = bad_values, mask = tf.equal(x = user_mask, y = 0)) # shape = (current_batch_size * number_of_items/users[i],)\n",
    "        item_indices = tf.boolean_mask(tensor = bad_indices, mask = tf.equal(x = user_mask, y = 0)) # shape = (current_batch_size * number_of_items/users[i],)\n",
    "        user_indices = tf.boolean_mask(tensor = bad_indices, mask = tf.equal(x = user_mask, y = 1))[:, 1] # shape = (current_batch_size,)\n",
    "\n",
    "        good_user_indices = tf.gather(params = user_indices, indices = item_indices[:,0]) # shape = (current_batch_size * number_of_items/users[i],)\n",
    "\n",
    "        # User and item indices are rank 1, need to make rank 1 to concat\n",
    "        good_user_indices_expanded = tf.expand_dims(input = good_user_indices, axis = -1) # shape = (current_batch_size * number_of_items/users[i], 1)\n",
    "        good_item_indices_expanded = tf.expand_dims(input = item_indices[:, 1], axis = -1) # shape = (current_batch_size * number_of_items/users[i], 1)\n",
    "        good_indices = tf.concat(values = [good_user_indices_expanded, good_item_indices_expanded], axis = 1) # shape = (current_batch_size * number_of_items/users[i], 2)\n",
    "\n",
    "        remapped_sparse_tensor = tf.SparseTensor(indices = good_indices, values = good_values, dense_shape = sparse_tensor.dense_shape)\n",
    "        return remapped_sparse_tensor\n",
    "\n",
    "    \n",
    "    def parse_tfrecords(filename, vocab_size):\n",
    "        if mode == tf.estimator.ModeKeys.TRAIN:\n",
    "            num_epochs = None # indefinitely\n",
    "        else:\n",
    "            num_epochs = 1 # end-of-input after this\n",
    "\n",
    "        files = tf.gfile.Glob(filename = os.path.join(args[\"input_path\"], filename))\n",
    "\n",
    "        # Create dataset from file list\n",
    "        dataset = tf.data.TFRecordDataset(files)\n",
    "        dataset = dataset.map(map_func = lambda x: decode_example(x, vocab_size))\n",
    "        dataset = dataset.repeat(count = num_epochs)\n",
    "        dataset = dataset.batch(batch_size = args[\"batch_size\"])\n",
    "        dataset = dataset.map(map_func = lambda x: remap_keys(x))\n",
    "        return dataset.make_one_shot_iterator().get_next()\n",
    "  \n",
    "    def _input_fn():\n",
    "        features = {\n",
    "            WALSMatrixFactorization.INPUT_ROWS: parse_tfrecords(\"items_for_user\", args[\"nitems\"]),\n",
    "            WALSMatrixFactorization.INPUT_COLS: parse_tfrecords(\"users_for_item\", args[\"nusers\"]),\n",
    "            WALSMatrixFactorization.PROJECT_ROW: tf.constant(True)\n",
    "        }\n",
    "        return features, None\n",
    "\n",
    "    return _input_fn"
   ]
  },
  {
   "cell_type": "markdown",
   "metadata": {
    "deletable": true,
    "editable": true
   },
   "source": [
    "This code is helpful in developing the input function. You don't need it in production."
   ]
  },
  {
   "cell_type": "code",
   "execution_count": 23,
   "metadata": {
    "collapsed": false,
    "deletable": true,
    "editable": true,
    "jupyter": {
     "outputs_hidden": false
    }
   },
   "outputs": [
    {
     "name": "stdout",
     "output_type": "stream",
     "text": [
      "WARNING:tensorflow:From /tmp/ipykernel_13523/171886433.py:2: The name tf.Session is deprecated. Please use tf.compat.v1.Session instead.\n",
      "\n",
      "WARNING:tensorflow:From /tmp/ipykernel_13523/3925013467.py:57: The name tf.gfile.Glob is deprecated. Please use tf.io.gfile.glob instead.\n",
      "\n",
      "WARNING:tensorflow:From /opt/conda/lib/python3.7/site-packages/tensorflow_core/python/autograph/converters/directives.py:119: The name tf.FixedLenFeature is deprecated. Please use tf.io.FixedLenFeature instead.\n",
      "\n",
      "WARNING:tensorflow:From /opt/conda/lib/python3.7/site-packages/tensorflow_core/python/autograph/converters/directives.py:119: The name tf.VarLenFeature is deprecated. Please use tf.io.VarLenFeature instead.\n",
      "\n",
      "WARNING:tensorflow:From /opt/conda/lib/python3.7/site-packages/tensorflow_core/python/autograph/converters/directives.py:119: The name tf.parse_single_example is deprecated. Please use tf.io.parse_single_example instead.\n",
      "\n"
     ]
    },
    {
     "name": "stderr",
     "output_type": "stream",
     "text": [
      "2022-05-16 17:40:20.509438: I tensorflow/core/platform/profile_utils/cpu_utils.cc:94] CPU Frequency: 2200225000 Hz\n",
      "2022-05-16 17:40:20.510339: I tensorflow/compiler/xla/service/service.cc:168] XLA service 0x55a7e3dcc0d0 initialized for platform Host (this does not guarantee that XLA will be used). Devices:\n",
      "2022-05-16 17:40:20.510379: I tensorflow/compiler/xla/service/service.cc:176]   StreamExecutor device (0): Host, Default Version\n",
      "2022-05-16 17:40:20.511445: I tensorflow/core/common_runtime/process_util.cc:136] Creating new thread pool with default inter op setting: 2. Tune using inter_op_parallelism_threads for best performance.\n"
     ]
    },
    {
     "name": "stdout",
     "output_type": "stream",
     "text": [
      "WARNING:tensorflow:From /tmp/ipykernel_13523/3925013467.py:13: sparse_merge (from tensorflow.python.ops.sparse_ops) is deprecated and will be removed in a future version.\n",
      "Instructions for updating:\n",
      "No similar op available at this time.\n",
      "WARNING:tensorflow:From /opt/conda/lib/python3.7/site-packages/tensorflow_core/python/ops/array_ops.py:1475: where (from tensorflow.python.ops.array_ops) is deprecated and will be removed in a future version.\n",
      "Instructions for updating:\n",
      "Use tf.where in 2.0, which has the same broadcast rule as np.where\n",
      "WARNING:tensorflow:From /tmp/ipykernel_13523/3925013467.py:65: DatasetV1.make_one_shot_iterator (from tensorflow.python.data.ops.dataset_ops) is deprecated and will be removed in a future version.\n",
      "Instructions for updating:\n",
      "Use `for ... in dataset:` to iterate over a dataset. If using `tf.estimator`, return the `Dataset` object directly from your input function. As a last resort, you can use `tf.compat.v1.data.make_one_shot_iterator(dataset)`.\n",
      "SparseTensorValue(indices=array([[   0,    0],\n",
      "       [   0,  129],\n",
      "       [   0,  233],\n",
      "       [   0,  662],\n",
      "       [   1,    1],\n",
      "       [   1,    9],\n",
      "       [   1,   13],\n",
      "       [   1,   52],\n",
      "       [   1,  160],\n",
      "       [   1,  200],\n",
      "       [   1,  261],\n",
      "       [   1, 5635],\n",
      "       [   2,    2],\n",
      "       [   2,  182],\n",
      "       [   3,    3],\n",
      "       [   3,  144],\n",
      "       [   3, 5611],\n",
      "       [   3, 5615],\n",
      "       [   3, 5616],\n",
      "       [   3, 5620],\n",
      "       [   3, 5623],\n",
      "       [   3, 5624],\n",
      "       [   3, 5637],\n",
      "       [   3, 5638]]), values=array([1.  , 0.89, 1.  , 1.  , 1.  , 0.07, 0.34, 0.48, 1.  , 0.11, 0.37,\n",
      "       0.33, 0.86, 0.67, 0.55, 0.16, 1.  , 0.23, 0.46, 1.  , 1.  , 1.  ,\n",
      "       0.23, 1.  ], dtype=float32), dense_shape=array([   4, 5662]))\n",
      "SparseTensorValue(indices=array([[   4,    4],\n",
      "       [   5,    5],\n",
      "       [   5,   23],\n",
      "       [   5,   29],\n",
      "       [   5,   37],\n",
      "       [   5,   40],\n",
      "       [   5,   42],\n",
      "       [   5,   45],\n",
      "       [   5,   52],\n",
      "       [   5,   53],\n",
      "       [   5,  146],\n",
      "       [   5,  214],\n",
      "       [   5,  245],\n",
      "       [   5,  365],\n",
      "       [   5,  395],\n",
      "       [   5,  752],\n",
      "       [   5,  852],\n",
      "       [   5, 1336],\n",
      "       [   5, 5621],\n",
      "       [   5, 5627],\n",
      "       [   5, 5635],\n",
      "       [   5, 5642],\n",
      "       [   5, 5644],\n",
      "       [   5, 5648],\n",
      "       [   5, 5653],\n",
      "       [   6,    6],\n",
      "       [   6,   30],\n",
      "       [   6,   35],\n",
      "       [   6,  162],\n",
      "       [   6,  453],\n",
      "       [   6,  615],\n",
      "       [   6, 5619],\n",
      "       [   7,    7]]), values=array([0.03, 0.35, 0.28, 1.  , 1.  , 0.67, 0.63, 1.  , 1.  , 0.57, 0.05,\n",
      "       0.64, 0.17, 0.6 , 0.36, 0.15, 0.19, 0.17, 0.28, 0.77, 0.17, 0.35,\n",
      "       1.  , 0.46, 1.  , 0.14, 0.33, 0.12, 0.06, 0.09, 0.04, 0.47, 1.  ],\n",
      "      dtype=float32), dense_shape=array([   4, 5662]))\n"
     ]
    }
   ],
   "source": [
    "def try_out():\n",
    "    with tf.Session() as sess:\n",
    "        fn = read_dataset(\n",
    "            mode = tf.estimator.ModeKeys.EVAL, \n",
    "            args = {\"input_path\": \"data\", \"batch_size\": 4, \"nitems\": NITEMS, \"nusers\": NUSERS})\n",
    "        feats, _ = fn()\n",
    "        \n",
    "        print(feats[\"input_rows\"].eval())\n",
    "        print(feats[\"input_rows\"].eval())\n",
    "\n",
    "try_out()"
   ]
  },
  {
   "cell_type": "code",
   "execution_count": 25,
   "metadata": {
    "collapsed": false,
    "deletable": true,
    "editable": true,
    "jupyter": {
     "outputs_hidden": false
    }
   },
   "outputs": [],
   "source": [
    "def find_top_k(user, item_factors, k):\n",
    "    all_items = tf.matmul(a = tf.expand_dims(input = user, axis = 0), b = tf.transpose(a = item_factors))\n",
    "    topk = tf.nn.top_k(input = all_items, k = k)\n",
    "    return tf.cast(x = topk.indices, dtype = tf.int64)\n",
    "    \n",
    "def batch_predict(args):\n",
    "    import numpy as np\n",
    "    with tf.Session() as sess:\n",
    "        estimator = tf.contrib.factorization.WALSMatrixFactorization(\n",
    "            num_rows = args[\"nusers\"], \n",
    "            num_cols = args[\"nitems\"],\n",
    "            embedding_dimension = args[\"n_embeds\"],\n",
    "            model_dir = args[\"output_dir\"])\n",
    "        \n",
    "        # This is how you would get the row factors for out-of-vocab user data\n",
    "        # row_factors = list(estimator.get_projections(input_fn=read_dataset(tf.estimator.ModeKeys.EVAL, args)))\n",
    "        # user_factors = tf.convert_to_tensor(np.array(row_factors))\n",
    "\n",
    "        # But for in-vocab data, the row factors are already in the checkpoint\n",
    "        user_factors = tf.convert_to_tensor(value = estimator.get_row_factors()[0]) # (nusers, nembeds)\n",
    "        # In either case, you have to assume catalog doesn\"t change, so col_factors are read in\n",
    "        item_factors = tf.convert_to_tensor(value = estimator.get_col_factors()[0])# (nitems, nembeds)\n",
    "\n",
    "        # For each user, find the top K items\n",
    "        topk = tf.squeeze(input = tf.map_fn(fn = lambda user: find_top_k(user, item_factors, args[\"topk\"]), elems = user_factors, dtype = tf.int64))\n",
    "        with file_io.FileIO(os.path.join(args[\"output_dir\"], \"batch_pred.txt\"), mode = 'w') as f:\n",
    "            for best_items_for_user in topk.eval():\n",
    "                f.write(\",\".join(str(x) for x in best_items_for_user) + '\\n')\n",
    "\n",
    "def train_and_evaluate(args):\n",
    "    train_steps = int(0.5 + (1.0 * args[\"num_epochs\"] * args[\"nusers\"]) / args[\"batch_size\"])\n",
    "    steps_in_epoch = int(0.5 + args[\"nusers\"] / args[\"batch_size\"])\n",
    "    print(\"Will train for {} steps, evaluating once every {} steps\".format(train_steps, steps_in_epoch))\n",
    "    def experiment_fn(output_dir):\n",
    "        return tf.contrib.learn.Experiment(\n",
    "            tf.contrib.factorization.WALSMatrixFactorization(\n",
    "                num_rows = args[\"nusers\"], \n",
    "                num_cols = args[\"nitems\"],\n",
    "                embedding_dimension = args[\"n_embeds\"],\n",
    "                model_dir = args[\"output_dir\"]),\n",
    "            train_input_fn = read_dataset(tf.estimator.ModeKeys.TRAIN, args),\n",
    "            eval_input_fn = read_dataset(tf.estimator.ModeKeys.EVAL, args),\n",
    "            train_steps = train_steps,\n",
    "            eval_steps = 1,\n",
    "            min_eval_frequency = steps_in_epoch\n",
    "        )\n",
    "\n",
    "    from tensorflow.contrib.learn.python.learn import learn_runner\n",
    "    learn_runner.run(experiment_fn = experiment_fn, output_dir = args[\"output_dir\"])\n",
    "    \n",
    "    batch_predict(args)"
   ]
  },
  {
   "cell_type": "code",
   "execution_count": 26,
   "metadata": {
    "collapsed": false,
    "deletable": true,
    "editable": true,
    "jupyter": {
     "outputs_hidden": false
    }
   },
   "outputs": [
    {
     "name": "stdout",
     "output_type": "stream",
     "text": [
      "Will train for 12 steps, evaluating once every 236 steps\n",
      "WARNING:tensorflow:From /tmp/ipykernel_13523/1819520735.py:49: run (from tensorflow.contrib.learn.python.learn.learn_runner) is deprecated and will be removed in a future version.\n",
      "Instructions for updating:\n",
      "Use tf.estimator.train_and_evaluate.\n",
      "WARNING:tensorflow:\n",
      "The TensorFlow contrib module will not be included in TensorFlow 2.0.\n",
      "For more information, please see:\n",
      "  * https://github.com/tensorflow/community/blob/master/rfcs/20180907-contrib-sunset.md\n",
      "  * https://github.com/tensorflow/addons\n",
      "  * https://github.com/tensorflow/io (for I/O related ops)\n",
      "If you depend on functionality not listed there, please file an issue.\n",
      "\n",
      "WARNING:tensorflow:From /opt/conda/lib/python3.7/site-packages/tensorflow_core/contrib/learn/python/learn/estimators/estimator.py:1180: BaseEstimator.__init__ (from tensorflow.contrib.learn.python.learn.estimators.estimator) is deprecated and will be removed in a future version.\n",
      "Instructions for updating:\n",
      "Please replace uses of any Estimator from tf.contrib.learn with an Estimator from tf.estimator.*\n",
      "WARNING:tensorflow:From /opt/conda/lib/python3.7/site-packages/tensorflow_core/contrib/learn/python/learn/estimators/estimator.py:427: RunConfig.__init__ (from tensorflow.contrib.learn.python.learn.estimators.run_config) is deprecated and will be removed in a future version.\n",
      "Instructions for updating:\n",
      "When switching to tf.estimator.Estimator, use tf.estimator.RunConfig instead.\n",
      "INFO:tensorflow:Using default config.\n",
      "INFO:tensorflow:Using config: {'_task_type': None, '_task_id': 0, '_cluster_spec': <tensorflow.python.training.server_lib.ClusterSpec object at 0x7fc3e838dfd0>, '_master': '', '_num_ps_replicas': 0, '_num_worker_replicas': 0, '_environment': 'local', '_is_chief': True, '_evaluation_master': '', '_train_distribute': None, '_eval_distribute': None, '_experimental_max_worker_delay_secs': None, '_device_fn': None, '_tf_config': gpu_options {\n",
      "  per_process_gpu_memory_fraction: 1.0\n",
      "}\n",
      ", '_tf_random_seed': None, '_save_summary_steps': 100, '_save_checkpoints_secs': 600, '_log_step_count_steps': 100, '_protocol': None, '_session_config': None, '_save_checkpoints_steps': None, '_keep_checkpoint_max': 5, '_keep_checkpoint_every_n_hours': 10000, '_model_dir': 'wals_trained', '_session_creation_timeout_secs': 7200}\n",
      "WARNING:tensorflow:From /tmp/ipykernel_13523/1819520735.py:45: Experiment.__init__ (from tensorflow.contrib.learn.python.learn.experiment) is deprecated and will be removed in a future version.\n",
      "Instructions for updating:\n",
      "Please switch to tf.estimator.train_and_evaluate. You will also have to convert to a tf.estimator.Estimator.\n",
      "WARNING:tensorflow:From /opt/conda/lib/python3.7/site-packages/tensorflow_core/contrib/learn/python/learn/monitors.py:279: BaseMonitor.__init__ (from tensorflow.contrib.learn.python.learn.monitors) is deprecated and will be removed after 2016-12-05.\n",
      "Instructions for updating:\n",
      "Monitors are deprecated. Please use tf.train.SessionRunHook.\n",
      "WARNING:tensorflow:From /opt/conda/lib/python3.7/site-packages/tensorflow_core/python/training/training_util.py:236: Variable.initialized_value (from tensorflow.python.ops.variables) is deprecated and will be removed in a future version.\n",
      "Instructions for updating:\n",
      "Use Variable.read_value. Variables in 2.X are initialized automatically both in eager and graph (inside tf.defun) contexts.\n",
      "WARNING:tensorflow:From /opt/conda/lib/python3.7/site-packages/tensorflow_core/contrib/factorization/python/ops/wals.py:315: ModelFnOps.__new__ (from tensorflow.contrib.learn.python.learn.estimators.model_fn) is deprecated and will be removed in a future version.\n",
      "Instructions for updating:\n",
      "When switching to tf.estimator.Estimator, use tf.estimator.EstimatorSpec. You can use the `estimator_spec` method to create an equivalent one.\n",
      "INFO:tensorflow:Create CheckpointSaverHook.\n",
      "INFO:tensorflow:Graph was finalized.\n",
      "INFO:tensorflow:Running local_init_op.\n",
      "INFO:tensorflow:Done running local_init_op.\n",
      "INFO:tensorflow:Saving checkpoints for 0 into wals_trained/model.ckpt.\n",
      "INFO:tensorflow:SweepHook running init op.\n",
      "INFO:tensorflow:SweepHook running prep ops for the row sweep.\n",
      "INFO:tensorflow:Next fit step starting.\n",
      "INFO:tensorflow:loss = 193699.97, step = 1\n",
      "INFO:tensorflow:Next fit step starting.\n",
      "INFO:tensorflow:Next fit step starting.\n",
      "INFO:tensorflow:Next fit step starting.\n",
      "INFO:tensorflow:Next fit step starting.\n",
      "INFO:tensorflow:Next fit step starting.\n",
      "INFO:tensorflow:Next fit step starting.\n",
      "INFO:tensorflow:Next fit step starting.\n",
      "INFO:tensorflow:Next fit step starting.\n",
      "INFO:tensorflow:Next fit step starting.\n",
      "INFO:tensorflow:Next fit step starting.\n",
      "INFO:tensorflow:Next fit step starting.\n",
      "INFO:tensorflow:Saving checkpoints for 12 into wals_trained/model.ckpt.\n",
      "INFO:tensorflow:Loss for final step: 162428.39.\n",
      "INFO:tensorflow:Starting evaluation at 2022-05-16T17:40:42Z\n",
      "INFO:tensorflow:Graph was finalized.\n",
      "INFO:tensorflow:Restoring parameters from wals_trained/model.ckpt-12\n",
      "INFO:tensorflow:Running local_init_op.\n",
      "INFO:tensorflow:Done running local_init_op.\n",
      "INFO:tensorflow:Evaluation [1/1]\n",
      "INFO:tensorflow:Finished evaluation at 2022-05-16-17:40:43\n",
      "INFO:tensorflow:Saving dict for global step 12: global_step = 12, loss = 193699.97\n",
      "INFO:tensorflow:Using default config.\n",
      "INFO:tensorflow:Using config: {'_task_type': None, '_task_id': 0, '_cluster_spec': <tensorflow.python.training.server_lib.ClusterSpec object at 0x7fc3e838dfd0>, '_master': '', '_num_ps_replicas': 0, '_num_worker_replicas': 0, '_environment': 'local', '_is_chief': True, '_evaluation_master': '', '_train_distribute': None, '_eval_distribute': None, '_experimental_max_worker_delay_secs': None, '_device_fn': None, '_tf_config': gpu_options {\n",
      "  per_process_gpu_memory_fraction: 1.0\n",
      "}\n",
      ", '_tf_random_seed': None, '_save_summary_steps': 100, '_save_checkpoints_secs': 600, '_log_step_count_steps': 100, '_protocol': None, '_session_config': None, '_save_checkpoints_steps': None, '_keep_checkpoint_max': 5, '_keep_checkpoint_every_n_hours': 10000, '_model_dir': 'wals_trained', '_session_creation_timeout_secs': 7200}\n"
     ]
    }
   ],
   "source": [
    "import shutil\n",
    "shutil.rmtree(path = \"wals_trained\", ignore_errors=True)\n",
    "train_and_evaluate({\n",
    "    \"output_dir\": \"wals_trained\",\n",
    "    \"input_path\": \"data/\",\n",
    "    \"num_epochs\": 0.05,\n",
    "    \"nitems\": NITEMS,\n",
    "    \"nusers\": NUSERS,\n",
    "\n",
    "    \"batch_size\": 512,\n",
    "    \"n_embeds\": 10,\n",
    "    \"topk\": 3\n",
    "  })"
   ]
  },
  {
   "cell_type": "code",
   "execution_count": 27,
   "metadata": {
    "collapsed": false,
    "deletable": true,
    "editable": true,
    "jupyter": {
     "outputs_hidden": false
    }
   },
   "outputs": [
    {
     "name": "stdout",
     "output_type": "stream",
     "text": [
      "batch_pred.txt\n",
      "checkpoint\n",
      "eval\n",
      "events.out.tfevents.1652722839.tensorflow-1-15-20220516-225105\n",
      "graph.pbtxt\n",
      "model.ckpt-0.data-00000-of-00001\n",
      "model.ckpt-0.index\n",
      "model.ckpt-0.meta\n",
      "model.ckpt-12.data-00000-of-00001\n",
      "model.ckpt-12.index\n",
      "model.ckpt-12.meta\n"
     ]
    }
   ],
   "source": [
    "!ls wals_trained"
   ]
  },
  {
   "cell_type": "code",
   "execution_count": 28,
   "metadata": {
    "collapsed": false,
    "deletable": true,
    "editable": true,
    "jupyter": {
     "outputs_hidden": false
    }
   },
   "outputs": [
    {
     "name": "stdout",
     "output_type": "stream",
     "text": [
      "5526,129,885\n",
      "4712,2402,2620\n",
      "2710,139,1001\n",
      "885,5526,3450\n",
      "202,370,2839\n",
      "4972,1085,4505\n",
      "4896,1687,2833\n",
      "3418,5095,2702\n",
      "3537,479,4896\n",
      "1001,4516,2347\n"
     ]
    }
   ],
   "source": [
    "!head wals_trained/batch_pred.txt"
   ]
  },
  {
   "cell_type": "markdown",
   "metadata": {
    "deletable": true,
    "editable": true
   },
   "source": [
    "## Run as a Python module\n",
    "\n",
    "Let's run it as Python module for just a few steps."
   ]
  },
  {
   "cell_type": "code",
   "execution_count": 29,
   "metadata": {},
   "outputs": [],
   "source": [
    "os.environ[\"NITEMS\"] = str(NITEMS)\n",
    "os.environ[\"NUSERS\"] = str(NUSERS)"
   ]
  },
  {
   "cell_type": "code",
   "execution_count": 30,
   "metadata": {
    "collapsed": false,
    "deletable": true,
    "editable": true,
    "jupyter": {
     "outputs_hidden": false
    }
   },
   "outputs": [
    {
     "name": "stdout",
     "output_type": "stream",
     "text": [
      "Will train for 2 steps, evaluating once every 236 steps\n"
     ]
    },
    {
     "name": "stderr",
     "output_type": "stream",
     "text": [
      "WARNING:tensorflow:From /home/jupyter/training-data-analyst/courses/machine_learning/deepdive/10_recommend/labs/walsmodel/model.py:27: The name tf.logging.set_verbosity is deprecated. Please use tf.compat.v1.logging.set_verbosity instead.\n",
      "\n",
      "WARNING:tensorflow:From /home/jupyter/training-data-analyst/courses/machine_learning/deepdive/10_recommend/labs/walsmodel/model.py:27: The name tf.logging.INFO is deprecated. Please use tf.compat.v1.logging.INFO instead.\n",
      "\n",
      "WARNING:tensorflow:From /home/jupyter/training-data-analyst/courses/machine_learning/deepdive/10_recommend/labs/walsmodel/model.py:198: run (from tensorflow.contrib.learn.python.learn.learn_runner) is deprecated and will be removed in a future version.\n",
      "Instructions for updating:\n",
      "Use tf.estimator.train_and_evaluate.\n",
      "WARNING:tensorflow:\n",
      "The TensorFlow contrib module will not be included in TensorFlow 2.0.\n",
      "For more information, please see:\n",
      "  * https://github.com/tensorflow/community/blob/master/rfcs/20180907-contrib-sunset.md\n",
      "  * https://github.com/tensorflow/addons\n",
      "  * https://github.com/tensorflow/io (for I/O related ops)\n",
      "If you depend on functionality not listed there, please file an issue.\n",
      "\n",
      "WARNING:tensorflow:From /opt/conda/lib/python3.7/site-packages/tensorflow_core/contrib/learn/python/learn/estimators/estimator.py:1180: BaseEstimator.__init__ (from tensorflow.contrib.learn.python.learn.estimators.estimator) is deprecated and will be removed in a future version.\n",
      "Instructions for updating:\n",
      "Please replace uses of any Estimator from tf.contrib.learn with an Estimator from tf.estimator.*\n",
      "WARNING:tensorflow:From /opt/conda/lib/python3.7/site-packages/tensorflow_core/contrib/learn/python/learn/estimators/estimator.py:427: RunConfig.__init__ (from tensorflow.contrib.learn.python.learn.estimators.run_config) is deprecated and will be removed in a future version.\n",
      "Instructions for updating:\n",
      "When switching to tf.estimator.Estimator, use tf.estimator.RunConfig instead.\n",
      "INFO:tensorflow:Using default config.\n",
      "INFO:tensorflow:Using config: {'_task_type': None, '_task_id': 0, '_cluster_spec': <tensorflow.python.training.server_lib.ClusterSpec object at 0x7fdf7d13df90>, '_master': '', '_num_ps_replicas': 0, '_num_worker_replicas': 0, '_environment': 'cloud', '_is_chief': True, '_evaluation_master': '', '_train_distribute': None, '_eval_distribute': None, '_experimental_max_worker_delay_secs': None, '_device_fn': None, '_tf_config': gpu_options {\n",
      "  per_process_gpu_memory_fraction: 1.0\n",
      "}\n",
      ", '_tf_random_seed': None, '_save_summary_steps': 100, '_save_checkpoints_secs': 600, '_log_step_count_steps': 100, '_protocol': None, '_session_config': None, '_save_checkpoints_steps': None, '_keep_checkpoint_max': 5, '_keep_checkpoint_every_n_hours': 10000, '_model_dir': '/home/jupyter/training-data-analyst/courses/machine_learning/deepdive/10_recommend/labs/wals_trained/', '_session_creation_timeout_secs': 7200}\n",
      "WARNING:tensorflow:From /home/jupyter/training-data-analyst/courses/machine_learning/deepdive/10_recommend/labs/walsmodel/model.py:194: make_export_strategy (from tensorflow.contrib.learn.python.learn.utils.saved_model_export_utils) is deprecated and will be removed in a future version.\n",
      "Instructions for updating:\n",
      "Switch to tf.estimator.Exporter and associated utilities.\n",
      "WARNING:tensorflow:From /opt/conda/lib/python3.7/site-packages/tensorflow_core/contrib/learn/python/learn/utils/saved_model_export_utils.py:484: ExportStrategy.__new__ (from tensorflow.contrib.learn.python.learn.export_strategy) is deprecated and will be removed in a future version.\n",
      "Instructions for updating:\n",
      "Please switch to tf.estimator.train_and_evaluate, and use tf.estimator.Exporter.\n",
      "WARNING:tensorflow:From /home/jupyter/training-data-analyst/courses/machine_learning/deepdive/10_recommend/labs/walsmodel/model.py:194: Experiment.__init__ (from tensorflow.contrib.learn.python.learn.experiment) is deprecated and will be removed in a future version.\n",
      "Instructions for updating:\n",
      "Please switch to tf.estimator.train_and_evaluate. You will also have to convert to a tf.estimator.Estimator.\n",
      "WARNING:tensorflow:From /opt/conda/lib/python3.7/site-packages/tensorflow_core/contrib/learn/python/learn/monitors.py:279: BaseMonitor.__init__ (from tensorflow.contrib.learn.python.learn.monitors) is deprecated and will be removed after 2016-12-05.\n",
      "Instructions for updating:\n",
      "Monitors are deprecated. Please use tf.train.SessionRunHook.\n",
      "WARNING:tensorflow:From /home/jupyter/training-data-analyst/courses/machine_learning/deepdive/10_recommend/labs/walsmodel/model.py:85: The name tf.gfile.Glob is deprecated. Please use tf.io.gfile.glob instead.\n",
      "\n",
      "WARNING:tensorflow:From /opt/conda/lib/python3.7/site-packages/tensorflow_core/python/autograph/converters/directives.py:119: The name tf.FixedLenFeature is deprecated. Please use tf.io.FixedLenFeature instead.\n",
      "\n",
      "WARNING:tensorflow:From /opt/conda/lib/python3.7/site-packages/tensorflow_core/python/autograph/converters/directives.py:119: The name tf.VarLenFeature is deprecated. Please use tf.io.VarLenFeature instead.\n",
      "\n",
      "WARNING:tensorflow:From /opt/conda/lib/python3.7/site-packages/tensorflow_core/python/autograph/converters/directives.py:119: The name tf.parse_single_example is deprecated. Please use tf.io.parse_single_example instead.\n",
      "\n",
      "WARNING:tensorflow:From /home/jupyter/training-data-analyst/courses/machine_learning/deepdive/10_recommend/labs/walsmodel/model.py:41: sparse_merge (from tensorflow.python.ops.sparse_ops) is deprecated and will be removed in a future version.\n",
      "Instructions for updating:\n",
      "No similar op available at this time.\n",
      "WARNING:tensorflow:From /opt/conda/lib/python3.7/site-packages/tensorflow_core/python/ops/array_ops.py:1475: where (from tensorflow.python.ops.array_ops) is deprecated and will be removed in a future version.\n",
      "Instructions for updating:\n",
      "Use tf.where in 2.0, which has the same broadcast rule as np.where\n",
      "WARNING:tensorflow:From /home/jupyter/training-data-analyst/courses/machine_learning/deepdive/10_recommend/labs/walsmodel/model.py:93: DatasetV1.make_one_shot_iterator (from tensorflow.python.data.ops.dataset_ops) is deprecated and will be removed in a future version.\n",
      "Instructions for updating:\n",
      "Use `for ... in dataset:` to iterate over a dataset. If using `tf.estimator`, return the `Dataset` object directly from your input function. As a last resort, you can use `tf.compat.v1.data.make_one_shot_iterator(dataset)`.\n",
      "WARNING:tensorflow:From /opt/conda/lib/python3.7/site-packages/tensorflow_core/python/training/training_util.py:236: Variable.initialized_value (from tensorflow.python.ops.variables) is deprecated and will be removed in a future version.\n",
      "Instructions for updating:\n",
      "Use Variable.read_value. Variables in 2.X are initialized automatically both in eager and graph (inside tf.defun) contexts.\n",
      "WARNING:tensorflow:From /opt/conda/lib/python3.7/site-packages/tensorflow_core/contrib/factorization/python/ops/wals.py:315: ModelFnOps.__new__ (from tensorflow.contrib.learn.python.learn.estimators.model_fn) is deprecated and will be removed in a future version.\n",
      "Instructions for updating:\n",
      "When switching to tf.estimator.Estimator, use tf.estimator.EstimatorSpec. You can use the `estimator_spec` method to create an equivalent one.\n",
      "INFO:tensorflow:Create CheckpointSaverHook.\n",
      "INFO:tensorflow:Graph was finalized.\n",
      "2022-05-16 17:41:57.967197: I tensorflow/core/platform/profile_utils/cpu_utils.cc:94] CPU Frequency: 2200225000 Hz\n",
      "2022-05-16 17:41:57.967730: I tensorflow/compiler/xla/service/service.cc:168] XLA service 0x55c1e30cd920 initialized for platform Host (this does not guarantee that XLA will be used). Devices:\n",
      "2022-05-16 17:41:57.967776: I tensorflow/compiler/xla/service/service.cc:176]   StreamExecutor device (0): Host, Default Version\n",
      "2022-05-16 17:41:57.967913: I tensorflow/core/common_runtime/process_util.cc:136] Creating new thread pool with default inter op setting: 2. Tune using inter_op_parallelism_threads for best performance.\n",
      "INFO:tensorflow:Running local_init_op.\n",
      "INFO:tensorflow:Done running local_init_op.\n",
      "INFO:tensorflow:Saving checkpoints for 0 into /home/jupyter/training-data-analyst/courses/machine_learning/deepdive/10_recommend/labs/wals_trained/model.ckpt.\n",
      "INFO:tensorflow:SweepHook running init op.\n",
      "INFO:tensorflow:SweepHook running prep ops for the row sweep.\n",
      "INFO:tensorflow:Next fit step starting.\n",
      "INFO:tensorflow:loss = 193920.0, step = 1\n",
      "INFO:tensorflow:Next fit step starting.\n",
      "INFO:tensorflow:Saving checkpoints for 2 into /home/jupyter/training-data-analyst/courses/machine_learning/deepdive/10_recommend/labs/wals_trained/model.ckpt.\n",
      "INFO:tensorflow:Loss for final step: 165045.23.\n",
      "INFO:tensorflow:Starting evaluation at 2022-05-16T17:42:00Z\n",
      "INFO:tensorflow:Graph was finalized.\n",
      "INFO:tensorflow:Restoring parameters from /home/jupyter/training-data-analyst/courses/machine_learning/deepdive/10_recommend/labs/wals_trained/model.ckpt-2\n",
      "INFO:tensorflow:Running local_init_op.\n",
      "INFO:tensorflow:Done running local_init_op.\n",
      "INFO:tensorflow:Evaluation [1/1]\n",
      "INFO:tensorflow:Finished evaluation at 2022-05-16-17:42:00\n",
      "INFO:tensorflow:Saving dict for global step 2: global_step = 2, loss = 193920.0\n",
      "WARNING:tensorflow:From /opt/conda/lib/python3.7/site-packages/tensorflow_core/contrib/learn/python/learn/estimators/estimator.py:1374: get_timestamped_export_dir (from tensorflow.contrib.learn.python.learn.utils.saved_model_export_utils) is deprecated and will be removed in a future version.\n",
      "Instructions for updating:\n",
      "Switch to tf.estimator.Exporter and associated utilities.\n",
      "WARNING:tensorflow:From /opt/conda/lib/python3.7/site-packages/tensorflow_core/contrib/learn/python/learn/estimators/estimator.py:1379: get_temp_export_dir (from tensorflow.contrib.learn.python.learn.utils.saved_model_export_utils) is deprecated and will be removed in a future version.\n",
      "Instructions for updating:\n",
      "Switch to tf.estimator.Exporter and associated utilities.\n",
      "WARNING:tensorflow:From /home/jupyter/training-data-analyst/courses/machine_learning/deepdive/10_recommend/labs/walsmodel/model.py:157: The name tf.placeholder is deprecated. Please use tf.compat.v1.placeholder instead.\n",
      "\n",
      "WARNING:tensorflow:From /opt/conda/lib/python3.7/site-packages/tensorflow_core/contrib/learn/python/learn/estimators/estimator.py:1389: get_input_alternatives (from tensorflow.contrib.learn.python.learn.utils.saved_model_export_utils) is deprecated and will be removed in a future version.\n",
      "Instructions for updating:\n",
      "Switch to tf.estimator.Exporter and associated utilities.\n",
      "WARNING:tensorflow:From /opt/conda/lib/python3.7/site-packages/tensorflow_core/contrib/learn/python/learn/estimators/estimator.py:1403: get_output_alternatives (from tensorflow.contrib.learn.python.learn.utils.saved_model_export_utils) is deprecated and will be removed in a future version.\n",
      "Instructions for updating:\n",
      "Switch to tf.estimator.Exporter and associated utilities.\n",
      "WARNING:tensorflow:From /opt/conda/lib/python3.7/site-packages/tensorflow_core/contrib/learn/python/learn/estimators/estimator.py:1413: build_all_signature_defs (from tensorflow.contrib.learn.python.learn.utils.saved_model_export_utils) is deprecated and will be removed in a future version.\n",
      "Instructions for updating:\n",
      "Switch to tf.estimator.Exporter and associated utilities.\n",
      "WARNING:tensorflow:From /opt/conda/lib/python3.7/site-packages/tensorflow_core/contrib/learn/python/learn/utils/saved_model_export_utils.py:267: build_standardized_signature_def (from tensorflow.contrib.learn.python.learn.utils.saved_model_export_utils) is deprecated and will be removed in a future version.\n",
      "Instructions for updating:\n",
      "Switch to tf.estimator.Exporter and associated utilities.\n",
      "WARNING:tensorflow:From /opt/conda/lib/python3.7/site-packages/tensorflow_core/python/saved_model/signature_def_utils_impl.py:201: build_tensor_info (from tensorflow.python.saved_model.utils_impl) is deprecated and will be removed in a future version.\n",
      "Instructions for updating:\n",
      "This function will only be available through the v1 compatibility library as tf.compat.v1.saved_model.utils.build_tensor_info or tf.compat.v1.saved_model.build_tensor_info.\n",
      "INFO:tensorflow:Restoring parameters from /home/jupyter/training-data-analyst/courses/machine_learning/deepdive/10_recommend/labs/wals_trained/model.ckpt-2\n",
      "INFO:tensorflow:Assets added to graph.\n",
      "INFO:tensorflow:No assets to write.\n",
      "INFO:tensorflow:SavedModel written to: /home/jupyter/training-data-analyst/courses/machine_learning/deepdive/10_recommend/labs/wals_trained/export/Servo/temp-1652722920/saved_model.pb\n",
      "WARNING:tensorflow:From /opt/conda/lib/python3.7/site-packages/tensorflow_core/contrib/learn/python/learn/utils/saved_model_export_utils.py:481: garbage_collect_exports (from tensorflow.contrib.learn.python.learn.utils.saved_model_export_utils) is deprecated and will be removed in a future version.\n",
      "Instructions for updating:\n",
      "Switch to tf.estimator.Exporter and associated utilities.\n",
      "WARNING:tensorflow:From /opt/conda/lib/python3.7/site-packages/tensorflow_core/contrib/learn/python/learn/utils/saved_model_export_utils.py:394: largest_export_versions (from tensorflow.contrib.learn.python.learn.utils.gc) is deprecated and will be removed in a future version.\n",
      "Instructions for updating:\n",
      "Please implement your own file management or use Saver.\n",
      "WARNING:tensorflow:From /opt/conda/lib/python3.7/site-packages/tensorflow_core/contrib/learn/python/learn/utils/saved_model_export_utils.py:395: negation (from tensorflow.contrib.learn.python.learn.utils.gc) is deprecated and will be removed in a future version.\n",
      "Instructions for updating:\n",
      "Please implement your own file management or use Saver.\n",
      "WARNING:tensorflow:From /opt/conda/lib/python3.7/site-packages/tensorflow_core/contrib/learn/python/learn/utils/saved_model_export_utils.py:397: get_paths (from tensorflow.contrib.learn.python.learn.utils.gc) is deprecated and will be removed in a future version.\n",
      "Instructions for updating:\n",
      "Please implement your own file name management.\n",
      "WARNING:tensorflow:From /home/jupyter/training-data-analyst/courses/machine_learning/deepdive/10_recommend/labs/walsmodel/model.py:117: The name tf.Session is deprecated. Please use tf.compat.v1.Session instead.\n",
      "\n",
      "INFO:tensorflow:Using default config.\n",
      "INFO:tensorflow:Using config: {'_task_type': None, '_task_id': 0, '_cluster_spec': <tensorflow.python.training.server_lib.ClusterSpec object at 0x7fdf7d0e7850>, '_master': '', '_num_ps_replicas': 0, '_num_worker_replicas': 0, '_environment': 'cloud', '_is_chief': True, '_evaluation_master': '', '_train_distribute': None, '_eval_distribute': None, '_experimental_max_worker_delay_secs': None, '_device_fn': None, '_tf_config': gpu_options {\n",
      "  per_process_gpu_memory_fraction: 1.0\n",
      "}\n",
      ", '_tf_random_seed': None, '_save_summary_steps': 100, '_save_checkpoints_secs': 600, '_log_step_count_steps': 100, '_protocol': None, '_session_config': None, '_save_checkpoints_steps': None, '_keep_checkpoint_max': 5, '_keep_checkpoint_every_n_hours': 10000, '_model_dir': '/home/jupyter/training-data-analyst/courses/machine_learning/deepdive/10_recommend/labs/wals_trained/', '_session_creation_timeout_secs': 7200}\n"
     ]
    }
   ],
   "source": [
    "%%bash\n",
    "rm -rf wals.tar.gz wals_trained\n",
    "gcloud ai-platform local train \\\n",
    "    --module-name=walsmodel.task \\\n",
    "    --package-path=${PWD}/walsmodel \\\n",
    "    -- \\\n",
    "    --output_dir=${PWD}/wals_trained \\\n",
    "    --input_path=${PWD}/data \\\n",
    "    --num_epochs=0.01 --nitems=${NITEMS} --nusers=${NUSERS} \\\n",
    "    --job-dir=./tmp"
   ]
  },
  {
   "cell_type": "markdown",
   "metadata": {},
   "source": [
    "## Get row and column factors\n",
    "\n",
    "Once you have a trained WALS model, you can get row and column factors (user and item embeddings) from the checkpoint file. You'll look at how to use these in the section on building a recommendation system using deep neural networks."
   ]
  },
  {
   "cell_type": "code",
   "execution_count": 33,
   "metadata": {},
   "outputs": [],
   "source": [
    "def get_factors(args):\n",
    "    with tf.Session() as sess:\n",
    "        estimator = tf.contrib.factorization.WALSMatrixFactorization(\n",
    "            num_rows = args[\"nusers\"], \n",
    "            num_cols = args[\"nitems\"],\n",
    "            embedding_dimension = args[\"n_embeds\"],\n",
    "            model_dir = args[\"output_dir\"])\n",
    "        \n",
    "        row_factors = estimator.get_row_factors()[0]\n",
    "        col_factors = estimator.get_col_factors()[0]\n",
    "    return row_factors, col_factors"
   ]
  },
  {
   "cell_type": "code",
   "execution_count": 57,
   "metadata": {},
   "outputs": [
    {
     "name": "stdout",
     "output_type": "stream",
     "text": [
      "/home/jupyter/training-data-analyst/courses/machine_learning/deepdive2/recommendation_systems/labs/wals_trained\n"
     ]
    }
   ],
   "source": [
    "%%bash\n",
    "echo $PWD/wals_trained"
   ]
  },
  {
   "cell_type": "code",
   "execution_count": 34,
   "metadata": {},
   "outputs": [
    {
     "name": "stdout",
     "output_type": "stream",
     "text": [
      "INFO:tensorflow:Using default config.\n",
      "INFO:tensorflow:Using config: {'_task_type': None, '_task_id': 0, '_cluster_spec': <tensorflow.python.training.server_lib.ClusterSpec object at 0x7fc3e9a79a10>, '_master': '', '_num_ps_replicas': 0, '_num_worker_replicas': 0, '_environment': 'local', '_is_chief': True, '_evaluation_master': '', '_train_distribute': None, '_eval_distribute': None, '_experimental_max_worker_delay_secs': None, '_device_fn': None, '_tf_config': gpu_options {\n",
      "  per_process_gpu_memory_fraction: 1.0\n",
      "}\n",
      ", '_tf_random_seed': None, '_save_summary_steps': 100, '_save_checkpoints_secs': 600, '_log_step_count_steps': 100, '_protocol': None, '_session_config': None, '_save_checkpoints_steps': None, '_keep_checkpoint_max': 5, '_keep_checkpoint_every_n_hours': 10000, '_model_dir': 'gs://qwiklabs-gcp-01-7f6e984e70dc/wals/model_trained', '_session_creation_timeout_secs': 7200}\n",
      "[[ 3.6948849e-03 -8.5906551e-04  4.8303331e-04 -1.5890118e-03\n",
      "   3.2951573e-03  1.8742392e-03 -4.0969993e-03  6.1582108e-03\n",
      "  -2.8773610e-04 -1.3332820e-03]\n",
      " [ 1.3797252e-03 -6.1344338e-04  1.8084486e-03 -1.3052947e-03\n",
      "  -5.8687606e-04  1.2303573e-03  4.5222897e-04  1.5270878e-03\n",
      "  -3.6727260e-03 -3.0614049e-04]\n",
      " [-1.8781899e-04 -3.4702761e-04 -2.0322317e-05 -3.4224652e-04\n",
      "  -4.4325300e-04 -1.1415767e-03  1.1274662e-04  5.7519245e-04\n",
      "   1.1694311e-04  7.0931134e-04]]\n",
      "[[ 1.55777712e+01 -1.05091429e+00  9.74276304e-01 -1.42321882e+01\n",
      "   5.99148512e+00  2.02531338e+00 -1.14337492e+01  1.73737488e+01\n",
      "  -6.27120638e+00 -3.14125824e+00]\n",
      " [ 1.13881841e-01 -1.24881916e-01  1.47017851e-01  3.90907042e-02\n",
      "  -2.54981425e-02 -2.25878507e-02 -8.38336051e-02 -3.10666151e-02\n",
      "  -1.92982569e-01  5.66481380e-03]\n",
      " [-2.36634836e-01 -1.71446967e+00 -2.04065472e-01 -2.04369950e+00\n",
      "  -1.53748310e+00 -4.64286995e+00  1.42189160e-01  2.47772884e+00\n",
      "  -9.40964222e-01  3.68809652e+00]]\n"
     ]
    }
   ],
   "source": [
    "args = {\n",
    "    \"output_dir\": \"\", # ENTER THE OUTPUT FROM THE PREVIOUS CELL HERE\n",
    "    \"nitems\": NITEMS,\n",
    "    \"nusers\": NUSERS,\n",
    "    \"n_embeds\": 10\n",
    "  }\n",
    "\n",
    "user_embeddings, item_embeddings = get_factors(args)\n",
    "print(user_embeddings[:3])\n",
    "print(item_embeddings[:3])"
   ]
  },
  {
   "cell_type": "markdown",
   "metadata": {},
   "source": [
    "You can visualize the embedding vectors using dimensional reduction techniques such as PCA."
   ]
  },
  {
   "cell_type": "code",
   "execution_count": 35,
   "metadata": {},
   "outputs": [
    {
     "data": {
      "text/plain": [
       "<mpl_toolkits.mplot3d.art3d.Path3DCollection at 0x7fc3ea66e4d0>"
      ]
     },
     "execution_count": 35,
     "metadata": {},
     "output_type": "execute_result"
    },
    {
     "data": {
      "image/png": "[encoded data removed]",
      "text/plain": [
       "<Figure size 576x576 with 1 Axes>"
      ]
     },
     "metadata": {
      "needs_background": "light"
     },
     "output_type": "display_data"
    }
   ],
   "source": [
    "import matplotlib.pyplot as plt\n",
    "from mpl_toolkits.mplot3d import Axes3D\n",
    "from sklearn.decomposition import PCA\n",
    "\n",
    "pca = PCA(n_components = 3)\n",
    "pca.fit(user_embeddings)\n",
    "user_embeddings_pca = # TODO 3: Your code here\n",
    "\n",
    "fig = plt.figure(figsize = (8,8))\n",
    "ax = fig.add_subplot(111, projection = \"3d\")\n",
    "xs, ys, zs = user_embeddings_pca[::150].T\n",
    "ax.scatter(xs, ys, zs)"
   ]
  },
  {
   "cell_type": "markdown",
   "metadata": {
    "deletable": true,
    "editable": true
   },
   "source": [
    "## OPTIONAL: Run on Cloud"
   ]
  },
  {
   "cell_type": "code",
   "execution_count": 31,
   "metadata": {
    "collapsed": false,
    "deletable": true,
    "editable": true,
    "jupyter": {
     "outputs_hidden": false
    }
   },
   "outputs": [
    {
     "name": "stderr",
     "output_type": "stream",
     "text": [
      "Copying file://data/collab_mapped.csv [Content-Type=text/csv]...\n",
      "Copying file://data/collab_raw.csv [Content-Type=text/csv]...                   \n",
      "Copying file://data/items.csv [Content-Type=text/csv]...                        \n",
      "Copying file://data/items_for_user [Content-Type=application/octet-stream]...   \n",
      "Copying file://data/users_for_item [Content-Type=application/octet-stream]...   \n",
      "Copying file://data/users.csv [Content-Type=text/csv]...                        \n",
      "- [6/6 files][ 35.7 MiB/ 35.7 MiB] 100% Done                                    \n",
      "Operation completed over 6 objects/35.7 MiB.                                     \n"
     ]
    }
   ],
   "source": [
    "%%bash\n",
    "gcloud storage cp data/* gs://${BUCKET}/wals/data"   ]
  },
  {
   "cell_type": "code",
   "execution_count": 32,
   "metadata": {
    "collapsed": false,
    "deletable": true,
    "editable": true,
    "jupyter": {
     "outputs_hidden": false
    }
   },
   "outputs": [
    {
     "name": "stdout",
     "output_type": "stream",
     "text": [
      "gs://qwiklabs-gcp-01-7f6e984e70dc/wals/model_trained us-central1 wals_220516_174236\n",
      "jobId: wals_220516_174236\n",
      "state: QUEUED\n"
     ]
    },
    {
     "name": "stderr",
     "output_type": "stream",
     "text": [
      "CommandException: 1 files/objects could not be removed.\n",
      "Job [wals_220516_174236] submitted successfully.\n",
      "Your job is still active. You may view the status of your job with the command\n",
      "\n",
      "  $ gcloud ai-platform jobs describe wals_220516_174236\n",
      "\n",
      "or continue streaming the logs with the command\n",
      "\n",
      "  $ gcloud ai-platform jobs stream-logs wals_220516_174236\n"
     ]
    }
   ],
   "source": [
    "%%bash\n",
    "OUTDIR=gs://${BUCKET}/wals/model_trained\n",
    "JOBNAME=wals_$(date -u +%y%m%d_%H%M%S)\n",
    "echo $OUTDIR $REGION $JOBNAME\n",
    "gcloud storage rm --recursive --continue-on-error $OUTDIR\n",    "gcloud ai-platform jobs submit training $JOBNAME \\\n",
    "    --region=$REGION \\\n",
    "    --module-name=walsmodel.task \\\n",
    "    --package-path=${PWD}/walsmodel \\\n",
    "    --job-dir=$OUTDIR \\\n",
    "    --staging-bucket=gs://$BUCKET \\\n",
    "    --scale-tier=BASIC_GPU \\\n",
    "    --runtime-version=$TFVERSION \\\n",
    "    -- \\\n",
    "    --output_dir=$OUTDIR \\\n",
    "    --input_path=gs://${BUCKET}/wals/data \\\n",
    "    --num_epochs=10 --nitems=${NITEMS} --nusers=${NUSERS} "
   ]
  },
  {
   "cell_type": "markdown",
   "metadata": {
    "deletable": true,
    "editable": true
   },
   "source": [
    "This will take <b>10 minutes</b> to complete. Rerun the above command until the jobs gets submitted."
   ]
  },
  {
   "cell_type": "markdown",
   "metadata": {
    "deletable": true,
    "editable": true
   },
   "source": [
    "<pre>\n",
    "# Copyright 2022 Google Inc. All Rights Reserved.\n",
    "#\n",
    "# Licensed under the Apache License, Version 2.0 (the \"License\");\n",
    "# you may not use this file except in compliance with the License.\n",
    "# You may obtain a copy of the License at\n",
    "#\n",
    "#      http://www.apache.org/licenses/LICENSE-2.0\n",
    "#\n",
    "# Unless required by applicable law or agreed to in writing, software\n",
    "# distributed under the License is distributed on an \"AS IS\" BASIS,\n",
    "# WITHOUT WARRANTIES OR CONDITIONS OF ANY KIND, either express or implied.\n",
    "# See the License for the specific language governing permissions and\n",
    "# limitations under the License.\n",
    "</pre>"
   ]
  }
 ],
 "metadata": {
  "environment": {
   "kernel": "python3",
   "name": "tf-gpu.1-15.m91",
   "type": "gcloud",
   "uri": "gcr.io/deeplearning-platform-release/tf-gpu.1-15:m91"
  },
  "kernelspec": {
   "display_name": "Python 3",
   "language": "python",
   "name": "python3"
  },
  "language_info": {
   "codemirror_mode": {
    "name": "ipython",
    "version": 3
   },
   "file_extension": ".py",
   "mimetype": "text/x-python",
   "name": "python",
   "nbconvert_exporter": "python",
   "pygments_lexer": "ipython3",
   "version": "3.7.12"
  }
 },
 "nbformat": 4,
 "nbformat_minor": 4
}

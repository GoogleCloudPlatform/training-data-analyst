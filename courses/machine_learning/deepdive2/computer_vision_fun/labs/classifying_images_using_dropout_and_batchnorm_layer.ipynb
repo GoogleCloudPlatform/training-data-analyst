{
 "cells": [
  {
   "cell_type": "markdown",
   "metadata": {
    "id": "a8HQYsAtC0Fv",
    "tags": []
   },
   "source": [
    "# Classifying Images using Dropout and Batchnorm Layer\n",
    "\n",
    "## Introduction\n",
    "\n",
    "In this notebook, you learn how to build a neural network to classify the tf-flowers dataset using dropout and batchnorm layer.\n",
    "\n",
    "## Learning objectives\n",
    "\n",
    "* Define Helper Functions.\n",
    "* Apply dropout and batchnorm layer.\n",
    "\n",
    "\n",
    "Each learning objective will correspond to a __#TODO__ in the student lab notebook -- try to complete this notebook first and then review the [solution notebook](../solutions/classifying_images_using_dropout_and_batchnorm_layer.ipynb).\n"
   ]
  },
  {
   "cell_type": "code",
   "execution_count": 1,
   "metadata": {
    "colab": {
     "base_uri": "https://localhost:8080/"
    },
    "id": "ugGJcxKAwhc2",
    "outputId": "f25e3267-1495-48f8-d6e1-4da24dd41755",
    "tags": []
   },
   "outputs": [
    {
     "name": "stdout",
     "output_type": "stream",
     "text": [
      "2.6.0\n"
     ]
    }
   ],
   "source": [
    "import tensorflow as tf\n",
    "print(tf.version.VERSION)"
   ]
  },
  {
   "cell_type": "markdown",
   "metadata": {},
   "source": [
    "## Define Helper Functions\n",
    "#### Reading and Preprocessing image data"
   ]
  },
  {
   "cell_type": "code",
   "execution_count": 2,
   "metadata": {
    "id": "LKXV5oRmkSTK"
   },
   "outputs": [],
   "source": [
    "# Helper functions\n",
    "def training_plot(metrics, history):\n",
    "  f, ax = plt.subplots(1, len(metrics), figsize=(5*len(metrics), 5))\n",
    "  for idx, metric in enumerate(metrics):\n",
    "    ax[idx].plot(history.history[metric], ls='dashed')\n",
    "    ax[idx].set_xlabel(\"Epochs\")\n",
    "    ax[idx].set_ylabel(metric)\n",
    "    ax[idx].plot(history.history['val_' + metric]);\n",
    "    ax[idx].legend([metric, 'val_' + metric])\n",
    "\n",
    "# Call model.predict() on a few images in the evaluation dataset\n",
    "def plot_predictions(filename):\n",
    "  f, ax = plt.subplots(3, 5, figsize=(25,15))\n",
    "  dataset = (tf.data.TextLineDataset(filename).\n",
    "      map(decode_csv))\n",
    "  for idx, (img, label) in enumerate(dataset.take(15)):\n",
    "    ax[idx//5, idx%5].imshow((img.numpy()));\n",
    "    batch_image = tf.reshape(img, [1, IMG_HEIGHT, IMG_WIDTH, IMG_CHANNELS])\n",
    "    batch_pred = model.predict(batch_image)\n",
    "    pred = batch_pred[0]\n",
    "    label = CLASS_NAMES[label.numpy()]\n",
    "    pred_label_index = tf.math.argmax(pred).numpy()\n",
    "    pred_label = CLASS_NAMES[pred_label_index]\n",
    "    prob = pred[pred_label_index]\n",
    "    ax[idx//5, idx%5].set_title('{}: {} ({:.4f})'.format(label, pred_label, prob))\n",
    "\n",
    "def show_trained_weights(model):\n",
    "  # CLASS_NAMES is ['daisy', 'dandelion', 'roses', 'sunflowers', 'tulips']\n",
    "  LAYER = 1 # Layer 0 flattens the image, layer=1 is the first dense layer\n",
    "  WEIGHT_TYPE = 0 # 0 for weight, 1 for bias\n",
    "\n",
    "  f, ax = plt.subplots(1, 5, figsize=(15,15))\n",
    "  for flower in range(len(CLASS_NAMES)):\n",
    "    weights = model.layers[LAYER].get_weights()[WEIGHT_TYPE][:, flower]\n",
    "    min_wt = tf.math.reduce_min(weights).numpy()\n",
    "    max_wt = tf.math.reduce_max(weights).numpy()\n",
    "    flower_name = CLASS_NAMES[flower]\n",
    "    print(\"Scaling weights for {} in {} to {}\".format(\n",
    "        flower_name, min_wt, max_wt))\n",
    "    weights = (weights - min_wt)/(max_wt - min_wt)\n",
    "    ax[flower].imshow(weights.reshape(IMG_HEIGHT, IMG_WIDTH, 3));\n",
    "    ax[flower].set_title(flower_name);"
   ]
  },
  {
   "cell_type": "code",
   "execution_count": 3,
   "metadata": {
    "colab": {
     "base_uri": "https://localhost:8080/"
    },
    "id": "ATwrq3yQXCZ3",
    "outputId": "211a7575-abf1-44a4-c15c-2d264d885f99"
   },
   "outputs": [
    {
     "name": "stdout",
     "output_type": "stream",
     "text": [
      "These are the available classes: ['daisy', 'dandelion', 'roses', 'sunflowers', 'tulips']\n"
     ]
    },
    {
     "name": "stderr",
     "output_type": "stream",
     "text": [
      "2021-11-16 18:23:43.413262: I tensorflow/core/common_runtime/process_util.cc:146] Creating new thread pool with default inter op setting: 2. Tune using inter_op_parallelism_threads for best performance.\n"
     ]
    }
   ],
   "source": [
    "import matplotlib.pylab as plt\n",
    "import numpy as np\n",
    "import tensorflow as tf\n",
    "IMG_HEIGHT = 224\n",
    "IMG_WIDTH = 224\n",
    "IMG_CHANNELS = 3\n",
    "\n",
    "def read_and_decode(filename, reshape_dims):\n",
    "  # Read the file\n",
    "  img = tf.io.read_file(filename)\n",
    "  # Convert the compressed string to a 3D uint8 tensor.\n",
    "  img = tf.image.decode_jpeg(img, channels=IMG_CHANNELS)\n",
    "  # Use `convert_image_dtype` to convert to floats in the [0,1] range.\n",
    "  img = tf.image.convert_image_dtype(img, tf.float32)\n",
    "\n",
    "  # Resize the image to the desired size.\n",
    "  # TODO 1 -- Your code here\n",
    "\n",
    "CLASS_NAMES = [item.numpy().decode(\"utf-8\") for item in \n",
    "               tf.strings.regex_replace(\n",
    "                 tf.io.gfile.glob(\"gs://practical-ml-vision-book-data/flowers_5_jpeg/flower_photos/*\"),\n",
    "                 \"gs://practical-ml-vision-book-data/flowers_5_jpeg/flower_photos/\", \"\")]\n",
    "CLASS_NAMES = [item for item in CLASS_NAMES if item.find(\".\") == -1]\n",
    "print(\"These are the available classes:\", CLASS_NAMES)\n",
    "\n",
    "# the label is the index into CLASS_NAMES array\n",
    "def decode_csv(csv_row):\n",
    "  record_defaults = [\"path\", \"flower\"]\n",
    "  filename, label_string = tf.io.decode_csv(csv_row, record_defaults)\n",
    "  img = read_and_decode(filename, [IMG_HEIGHT, IMG_WIDTH])\n",
    "  label = tf.argmax(tf.math.equal(CLASS_NAMES, label_string))\n",
    "  return img, label"
   ]
  },
  {
   "cell_type": "markdown",
   "metadata": {
    "id": "Duu8mX3iXANE",
    "tags": []
   },
   "source": [
    "## Apply dropout and batchnorm layer\n",
    "A deep neural network (DNN) is a neural network with more than one hidden layer. Each time you add a layer, the number of trainable parameters increases. Therefore,you need a larger dataset. You still have only 3700 flower images which might cause overfitting.\n"
   ]
  },
  {
   "cell_type": "markdown",
   "metadata": {},
   "source": [
    "Dropouts are the regularization technique that is used to prevent overfitting in the model. Batch normalization is a layer that allows every layer of the network to do learning more independently. The layer is added to the sequential model to standardize the input or the outputs. Add a dropout and batchnorm layer after each of the hidden layers.\n",
    "\n",
    "#### Dropout\n",
    "Dropout is one of the oldest regularization techniques in deep learning. At each training iteration, it drops random neurons from the network with a probability p (typically 25% to 50%). In practice, neuron outputs are set to 0. The net result is that these neurons will not participate in the loss computation this time around and they will not get weight updates. Different neurons will be dropped at each training iteration.\n",
    "#### Batch normalization\n",
    "Our input pixel values are in the range [0,1] and this is compatible with the dynamic range of the typical activation functions and optimizers. However, once we add a hidden layer, the resulting output values will no longer lie in the dynamic range of the activation function for subsequent layers. When this happens, the neuron output is zero, and because there is no difference by moving a small amount in either direction, the gradient is zero. There is no way for the network to escape from the dead zone. To fix this, batch norm normalizes neuron outputs across a training batch of data, i.e. it subtracts the average and divides by the standard deviation. This way, the network decides, through machine learning, how much centering and re-scaling to apply at each neuron. In Keras, you can selectively use one or the other:\n",
    "\n",
    "`tf.keras.layers.BatchNormalization(scale=False, center=True)`\n",
    "\n",
    "When using batch normalization, remember that:\n",
    "1. Batch normalization goes between the output of a layer and its activation function. So, rather than set activation='relu' in the Dense layer’s constructor, we’d omit the activation function, and then add a separate Activation layer.\n",
    "2. If you use center=True in batch norm, you do not need biases in your layer. The batch norm offset plays the role of a bias.\n",
    "3. If you use an activation function that is scale-invariant (i.e. does not change shape if you zoom in on it) then you can set scale=False. ReLu is scale-invariant. Sigmoid is not."
   ]
  },
  {
   "cell_type": "code",
   "execution_count": 4,
   "metadata": {
    "id": "7OxxAryMXH1k"
   },
   "outputs": [],
   "source": [
    "def train_and_evaluate(batch_size = 32,\n",
    "                       lrate = 0.0001,\n",
    "                       l1 = 0,\n",
    "                       l2 = 0.001,\n",
    "                       dropout_prob = 0.4,\n",
    "                       num_hidden = [64, 16]):\n",
    "  regularizer = tf.keras.regularizers.l1_l2(l1, l2)\n",
    "\n",
    "  train_dataset = (tf.data.TextLineDataset(\n",
    "      \"gs://practical-ml-vision-book-data/flowers_5_jpeg/flower_photos/train_set.csv\").\n",
    "      map(decode_csv)).batch(batch_size)\n",
    "\n",
    "  eval_dataset = (tf.data.TextLineDataset(\n",
    "      \"gs://practical-ml-vision-book-data/flowers_5_jpeg/flower_photos/eval_set.csv\").\n",
    "      map(decode_csv)).batch(32) # this doesn't matter\n",
    "\n",
    "  # NN with multiple hidden layers\n",
    "  layers = [tf.keras.layers.Flatten(\n",
    "      input_shape=(IMG_HEIGHT, IMG_WIDTH, IMG_CHANNELS),\n",
    "      name='input_pixels')]\n",
    "  for hno, nodes in enumerate(num_hidden):\n",
    "    layers.extend([\n",
    "      tf.keras.layers.Dense(nodes,\n",
    "                            kernel_regularizer=regularizer, \n",
    "                            name='hidden_dense_{}'.format(hno)),\n",
    "      tf.keras.layers.BatchNormalization(scale=False, # ReLU\n",
    "                                         center=False, # have bias in Dense\n",
    "                                         name='batchnorm_dense_{}'.format(hno)),\n",
    "      #move activation to come after batchnorm\n",
    "      tf.keras.layers.Activation('relu', name='relu_dense_{}'.format(hno)),\n",
    "\n",
    "  # TODO 2 -- Your code here\n",
    "\n",
    "  layers.append(\n",
    "      tf.keras.layers.Dense(len(CLASS_NAMES), \n",
    "                            kernel_regularizer=regularizer,\n",
    "                            activation='softmax',\n",
    "                            name='flower_prob')\n",
    "  )\n",
    "\n",
    "  model = tf.keras.Sequential(layers, name='flower_classification')\n",
    "  model.compile(optimizer=tf.keras.optimizers.Adam(learning_rate=lrate),\n",
    "                loss=tf.keras.losses.SparseCategoricalCrossentropy(\n",
    "                    from_logits=False),\n",
    "                metrics=['accuracy'])\n",
    "  print(model.summary())\n",
    "  history = model.fit(train_dataset, validation_data=eval_dataset, epochs=10)\n",
    "  training_plot(['loss', 'accuracy'], history)\n",
    "  return model"
   ]
  },
  {
   "cell_type": "code",
   "execution_count": 5,
   "metadata": {
    "colab": {
     "base_uri": "https://localhost:8080/",
     "height": 1000
    },
    "id": "nNDruEBPXPLD",
    "outputId": "94ad4651-894e-4646-a901-92ae7419fea7"
   },
   "outputs": [
    {
     "name": "stdout",
     "output_type": "stream",
     "text": [
      "Model: \"flower_classification\"\n",
      "_________________________________________________________________\n",
      "Layer (type)                 Output Shape              Param #   \n",
      "=================================================================\n",
      "input_pixels (Flatten)       (None, 150528)            0         \n",
      "_________________________________________________________________\n",
      "hidden_dense_0 (Dense)       (None, 64)                9633856   \n",
      "_________________________________________________________________\n",
      "batchnorm_dense_0 (BatchNorm (None, 64)                128       \n",
      "_________________________________________________________________\n",
      "relu_dense_0 (Activation)    (None, 64)                0         \n",
      "_________________________________________________________________\n",
      "dropout_dense_0 (Dropout)    (None, 64)                0         \n",
      "_________________________________________________________________\n",
      "hidden_dense_1 (Dense)       (None, 16)                1040      \n",
      "_________________________________________________________________\n",
      "batchnorm_dense_1 (BatchNorm (None, 16)                32        \n",
      "_________________________________________________________________\n",
      "relu_dense_1 (Activation)    (None, 16)                0         \n",
      "_________________________________________________________________\n",
      "dropout_dense_1 (Dropout)    (None, 16)                0         \n",
      "_________________________________________________________________\n",
      "flower_prob (Dense)          (None, 5)                 85        \n",
      "=================================================================\n",
      "Total params: 9,635,141\n",
      "Trainable params: 9,634,981\n",
      "Non-trainable params: 160\n",
      "_________________________________________________________________\n",
      "None\n",
      "Epoch 1/10\n"
     ]
    },
    {
     "name": "stderr",
     "output_type": "stream",
     "text": [
      "2021-11-16 18:25:05.403006: I tensorflow/compiler/mlir/mlir_graph_optimization_pass.cc:185] None of the MLIR Optimization Passes are enabled (registered 2)\n"
     ]
    },
    {
     "name": "stdout",
     "output_type": "stream",
     "text": [
      "104/104 [==============================] - 147s 1s/step - loss: 2.0223 - accuracy: 0.2782 - val_loss: 1.9164 - val_accuracy: 0.2838\n",
      "Epoch 2/10\n",
      "104/104 [==============================] - 128s 1s/step - loss: 1.7933 - accuracy: 0.3424 - val_loss: 1.5596 - val_accuracy: 0.4000\n",
      "Epoch 3/10\n",
      "104/104 [==============================] - 116s 1s/step - loss: 1.6866 - accuracy: 0.3679 - val_loss: 1.5518 - val_accuracy: 0.4027\n",
      "Epoch 4/10\n",
      "104/104 [==============================] - 128s 1s/step - loss: 1.6683 - accuracy: 0.3852 - val_loss: 1.4976 - val_accuracy: 0.4730\n",
      "Epoch 5/10\n",
      "104/104 [==============================] - 126s 1s/step - loss: 1.5933 - accuracy: 0.4042 - val_loss: 1.4229 - val_accuracy: 0.4730\n",
      "Epoch 6/10\n",
      "104/104 [==============================] - 121s 1s/step - loss: 1.5582 - accuracy: 0.4191 - val_loss: 1.4357 - val_accuracy: 0.4486\n",
      "Epoch 7/10\n",
      "104/104 [==============================] - 123s 1s/step - loss: 1.5204 - accuracy: 0.4242 - val_loss: 1.5338 - val_accuracy: 0.4351\n",
      "Epoch 8/10\n",
      "104/104 [==============================] - 120s 1s/step - loss: 1.4717 - accuracy: 0.4461 - val_loss: 1.5704 - val_accuracy: 0.4432\n",
      "Epoch 9/10\n",
      "104/104 [==============================] - 125s 1s/step - loss: 1.4502 - accuracy: 0.4682 - val_loss: 1.4473 - val_accuracy: 0.4514\n",
      "Epoch 10/10\n",
      "104/104 [==============================] - 124s 1s/step - loss: 1.4258 - accuracy: 0.4806 - val_loss: 1.4717 - val_accuracy: 0.4649\n"
     ]
    },
    {
     "data": {
      "image/png": "[encoded data removed]",
      "text/plain": [
       "<Figure size 720x360 with 2 Axes>"
      ]
     },
     "metadata": {
      "needs_background": "light"
     },
     "output_type": "display_data"
    }
   ],
   "source": [
    "model = train_and_evaluate(dropout_prob=0.4)"
   ]
  },
  {
   "cell_type": "markdown",
   "metadata": {},
   "source": [
    "Congrats! You've completed the lab!"
   ]
  }
 ],
 "metadata": {
  "accelerator": "GPU",
  "colab": {
   "collapsed_sections": [
    "5UOm2etrwYCs",
    "BtsR1Fzbh4ff",
    "GPCx8a-IZpUd",
    "X9U0ob6HLUAX"
   ],
   "name": "02b_neural_network.ipynb",
   "provenance": [],
   "toc_visible": true
  },
  "environment": {
   "kernel": "python3",
   "name": "tf2-gpu.2-6.m84",
   "type": "gcloud",
   "uri": "gcr.io/deeplearning-platform-release/tf2-gpu.2-6:m84"
  },
  "kernelspec": {
   "display_name": "Python 3",
   "language": "python",
   "name": "python3"
  },
  "language_info": {
   "codemirror_mode": {
    "name": "ipython",
    "version": 3
   },
   "file_extension": ".py",
   "mimetype": "text/x-python",
   "name": "python",
   "nbconvert_exporter": "python",
   "pygments_lexer": "ipython3",
   "version": "3.7.12"
  }
 },
 "nbformat": 4,
 "nbformat_minor": 4
}

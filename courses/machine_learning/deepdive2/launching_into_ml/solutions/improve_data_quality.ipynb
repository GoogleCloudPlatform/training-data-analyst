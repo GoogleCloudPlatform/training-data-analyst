{
 "cells": [
  {
   "cell_type": "markdown",
   "metadata": {
    "colab_type": "text",
    "id": "rNdWfPXCjTjY"
   },
   "source": [
    "# Improving Data Quality\n",
    "\n",
    "**Learning Objectives**\n",
    "\n",
    "\n",
    "1. Resolve missing values\n",
    "2. Convert the Date feature column to a datetime format\n",
    "3. Rename a feature column, remove a value from a feature column\n",
    "4. Create one-hot encoding features\n",
    "5. Understand temporal feature conversions \n",
    "\n",
    "\n",
    "## Introduction \n",
    "\n",
    "Recall that machine learning models can only consume numeric data, and that numeric data should be \"1\"s or \"0\"s.  Data is said to be \"messy\" or \"untidy\" if it is missing attribute values, contains noise or outliers, has duplicates, wrong data, upper/lower case column names, and is essentially not ready for ingestion by a machine learning algorithm.  \n",
    "\n",
    "This notebook presents and solves some of the most common issues of \"untidy\" data.  Note that different problems will require different methods, and they are beyond the scope of this notebook.\n",
    "\n",
    "Each learning objective will correspond to a __#TODO__ in the [student lab notebook](https://github.com/GoogleCloudPlatform/training-data-analyst/blob/master/courses/machine_learning/deepdive2/launching_into_ml/labs/improve_data_quality.ipynb) -- try to complete that notebook first before reviewing this solution notebook."
   ]
  },
  {
   "cell_type": "code",
   "execution_count": 1,
   "metadata": {},
   "outputs": [],
   "source": [
    "# Use the chown command to change the ownership of the repository to user\n",
    "!sudo chown -R jupyter:jupyter /home/jupyter/training-data-analyst"
   ]
  },
  {
   "cell_type": "markdown",
   "metadata": {},
   "source": [
    "### Import Libraries"
   ]
  },
  {
   "cell_type": "code",
   "execution_count": null,
   "metadata": {},
   "outputs": [],
   "source": [
    "# Importing necessary tensorflow library and printing the TF version.\n",
    "import tensorflow as tf\n",
    "\n",
    "print(\"TensorFlow version: \",tf.version.VERSION)\n"
   ]
  },
  {
   "cell_type": "code",
   "execution_count": 2,
   "metadata": {},
   "outputs": [],
   "source": [
    "import os\n",
    "# Here we'll import Pandas and Numpy data processing libraries\n",
    "import pandas as pd  \n",
    "import numpy as np\n",
    "from datetime import datetime\n",
    "# Use matplotlib for visualizing the model\n",
    "import matplotlib.pyplot as plt\n",
    "# Use seaborn for data visualization\n",
    "import seaborn as sns\n",
    "%matplotlib inline"
   ]
  },
  {
   "cell_type": "markdown",
   "metadata": {},
   "source": [
    "### Load the Dataset"
   ]
  },
  {
   "cell_type": "markdown",
   "metadata": {},
   "source": [
    "The dataset is based on California's [Vehicle Fuel Type Count by Zip Code](https://data.ca.gov/dataset/vehicle-fuel-type-count-by-zip-codeSynthetic) report.  The dataset has been modified to make the data \"untidy\" and is thus a synthetic representation that can be used for learning purposes.  \n"
   ]
  },
  {
   "cell_type": "code",
   "execution_count": 3,
   "metadata": {},
   "outputs": [],
   "source": [
    "# Creating directory to store dataset\n",
    "if not os.path.isdir(\"../data/transport\"):\n",
    "    os.makedirs(\"../data/transport\")"
   ]
  },
  {
   "cell_type": "code",
   "execution_count": 4,
   "metadata": {},
   "outputs": [
    {
     "name": "stdout",
     "output_type": "stream",
     "text": [
      "Copying gs://cloud-training/mlongcp/v3.0_MLonGC/toy_data/untidy_vehicle_data_toy.csv...\n",
      "/ [1 files][ 23.7 KiB/ 23.7 KiB]                                                \n",
      "Operation completed over 1 objects/23.7 KiB.                                     \n"
     ]
    }
   ],
   "source": [
    "# Download the raw .csv data by copying the data from a cloud storage bucket.\n",
    "!gsutil cp gs://cloud-training/mlongcp/v3.0_MLonGC/toy_data/untidy_vehicle_data_toy.csv ../data/transport"
   ]
  },
  {
   "cell_type": "code",
   "execution_count": 5,
   "metadata": {},
   "outputs": [
    {
     "name": "stdout",
     "output_type": "stream",
     "text": [
      "total 24\n",
      "-rw-r--r-- 1 jupyter jupyter 24263 Dec 23 15:55 untidy_vehicle_data_toy.csv\n"
     ]
    }
   ],
   "source": [
    "# ls shows the working directory's contents.\n",
    "# Using the -l parameter will lists files with assigned permissions\n",
    "!ls -l ../data/transport"
   ]
  },
  {
   "cell_type": "markdown",
   "metadata": {},
   "source": [
    "### Read Dataset into a Pandas DataFrame"
   ]
  },
  {
   "cell_type": "markdown",
   "metadata": {
    "colab_type": "text",
    "id": "lM6-n6xntv3t"
   },
   "source": [
    "Next, let's read in the dataset just copied from the cloud storage bucket and create a Pandas DataFrame.  We also add a Pandas .head() function to show you the top 5 rows of data in the DataFrame. Head() and Tail() are \"best-practice\" functions used to investigate datasets.  "
   ]
  },
  {
   "cell_type": "code",
   "execution_count": 6,
   "metadata": {
    "colab": {
     "base_uri": "https://localhost:8080/",
     "height": 222
    },
    "colab_type": "code",
    "id": "REZ57BXCLdfG",
    "outputId": "a6ef2eda-c7eb-4e2d-92e4-e7fcaa20b0af"
   },
   "outputs": [
    {
     "data": {
      "text/html": [
       "<div>\n",
       "<style scoped>\n",
       "    .dataframe tbody tr th:only-of-type {\n",
       "        vertical-align: middle;\n",
       "    }\n",
       "\n",
       "    .dataframe tbody tr th {\n",
       "        vertical-align: top;\n",
       "    }\n",
       "\n",
       "    .dataframe thead th {\n",
       "        text-align: right;\n",
       "    }\n",
       "</style>\n",
       "<table border=\"1\" class=\"dataframe\">\n",
       "  <thead>\n",
       "    <tr style=\"text-align: right;\">\n",
       "      <th></th>\n",
       "      <th>Date</th>\n",
       "      <th>Zip Code</th>\n",
       "      <th>Model Year</th>\n",
       "      <th>Fuel</th>\n",
       "      <th>Make</th>\n",
       "      <th>Light_Duty</th>\n",
       "      <th>Vehicles</th>\n",
       "    </tr>\n",
       "  </thead>\n",
       "  <tbody>\n",
       "    <tr>\n",
       "      <th>0</th>\n",
       "      <td>10/1/2018</td>\n",
       "      <td>90000</td>\n",
       "      <td>2006</td>\n",
       "      <td>Gasoline</td>\n",
       "      <td>OTHER/UNK</td>\n",
       "      <td>NaN</td>\n",
       "      <td>1.0</td>\n",
       "    </tr>\n",
       "    <tr>\n",
       "      <th>1</th>\n",
       "      <td>10/1/2018</td>\n",
       "      <td>NaN</td>\n",
       "      <td>2014</td>\n",
       "      <td>Gasoline</td>\n",
       "      <td>NaN</td>\n",
       "      <td>Yes</td>\n",
       "      <td>1.0</td>\n",
       "    </tr>\n",
       "    <tr>\n",
       "      <th>2</th>\n",
       "      <td>NaN</td>\n",
       "      <td>90000</td>\n",
       "      <td>NaN</td>\n",
       "      <td>Gasoline</td>\n",
       "      <td>OTHER/UNK</td>\n",
       "      <td>Yes</td>\n",
       "      <td>NaN</td>\n",
       "    </tr>\n",
       "    <tr>\n",
       "      <th>3</th>\n",
       "      <td>10/1/2018</td>\n",
       "      <td>90000</td>\n",
       "      <td>2017</td>\n",
       "      <td>Gasoline</td>\n",
       "      <td>OTHER/UNK</td>\n",
       "      <td>Yes</td>\n",
       "      <td>1.0</td>\n",
       "    </tr>\n",
       "    <tr>\n",
       "      <th>4</th>\n",
       "      <td>10/1/2018</td>\n",
       "      <td>90000</td>\n",
       "      <td>&lt;2006</td>\n",
       "      <td>Diesel and Diesel Hybrid</td>\n",
       "      <td>OTHER/UNK</td>\n",
       "      <td>No</td>\n",
       "      <td>55.0</td>\n",
       "    </tr>\n",
       "  </tbody>\n",
       "</table>\n",
       "</div>"
      ],
      "text/plain": [
       "        Date Zip Code Model Year                      Fuel       Make  \\\n",
       "0  10/1/2018    90000       2006                  Gasoline  OTHER/UNK   \n",
       "1  10/1/2018      NaN       2014                  Gasoline        NaN   \n",
       "2        NaN    90000        NaN                  Gasoline  OTHER/UNK   \n",
       "3  10/1/2018    90000       2017                  Gasoline  OTHER/UNK   \n",
       "4  10/1/2018    90000      <2006  Diesel and Diesel Hybrid  OTHER/UNK   \n",
       "\n",
       "  Light_Duty  Vehicles  \n",
       "0        NaN       1.0  \n",
       "1        Yes       1.0  \n",
       "2        Yes       NaN  \n",
       "3        Yes       1.0  \n",
       "4         No      55.0  "
      ]
     },
     "execution_count": 6,
     "metadata": {},
     "output_type": "execute_result"
    }
   ],
   "source": [
    "# Reading \"untidy_vehicle_data_toy.csv\" file using the read_csv() function included in the pandas library.\n",
    "df_transport = pd.read_csv('../data/transport/untidy_vehicle_data_toy.csv')\n",
    "\n",
    "# Output the first five rows.\n",
    "df_transport.head() "
   ]
  },
  {
   "cell_type": "markdown",
   "metadata": {},
   "source": [
    "### DataFrame Column Data Types\n",
    "\n",
    "DataFrames may have heterogenous or \"mixed\" data types, that is, some columns are numbers, some are strings, and some are dates etc. Because CSV files do not contain information on what data types are contained in each column, Pandas infers the data types when loading the data, e.g. if a column contains only numbers, Pandas will set that column’s data type to numeric: integer or float.\n",
    "\n",
    "Run the next cell to see information on the DataFrame."
   ]
  },
  {
   "cell_type": "code",
   "execution_count": 7,
   "metadata": {},
   "outputs": [
    {
      "name": "stdout",
      "output_type": "stream",
      "text": [
       "<class 'pandas.core.frame.DataFrame'>\n",
       "RangeIndex: 499 entries, 0 to 498\n",
       "Data columns (total 7 columns):\n",
       "Date          497 non-null object\n",
       "Zip Code      497 non-null object\n",
       "Model Year    497 non-null object\n",
       "Fuel          497 non-null object\n",
       "Make          496 non-null object\n",
       "Light_Duty    496 non-null object\n",
       "Vehicles      496 non-null float64\n",
       "dtypes: float64(2), object(5)\n",
       "memory usage: 27.4+ KB\n"
     ]
    }
   ],
   "source": [
    "# The .info() function will display the concise summary of an dataframe.\n",
    "df_transport.info()"
   ]
  },
  {
   "cell_type": "markdown",
   "metadata": {},
   "source": [
    "From what the .info() function shows us, we have six string objects and one float object. We can definitely see more of the \"string\" object values now!"
   ]
  },
  {
   "cell_type": "code",
   "execution_count": 8,
   "metadata": {},
   "outputs": [
    {
      "name": "stdout",
      "output_type": "stream",
      "text": [
       "          Date Zip Code Model Year                      Fuel       Make  \\\n",
       "0    10/1/2018    90000       2006                  Gasoline  OTHER/UNK   \n",
       "1    10/1/2018      NaN       2014                  Gasoline        NaN   \n",
       "2          NaN    90000        NaN                  Gasoline  OTHER/UNK   \n",
       "3    10/1/2018    90000       2017                  Gasoline  OTHER/UNK   \n",
       "4    10/1/2018    90000      <2006  Diesel and Diesel Hybrid  OTHER/UNK   \n",
       "..         ...      ...        ...                       ...        ...   \n",
       "494   6/7/2019    90003       2012                  Gasoline     Type_R   \n",
       "495   6/8/2019    90003       2012           Hybrid Gasoline  OTHER/UNK   \n",
       "496   6/9/2019    90003       2012           Hybrid Gasoline     Type_Q   \n",
       "497  6/10/2019    90003       2012               Natural Gas  OTHER/UNK   \n",
       "498  6/11/2019    90003       2012            Plug-in Hybrid  OTHER/UNK   \n",
       "\n",
       "    Light_Duty  Vehicles  \n",
       "0          NaN       1.0  \n",
       "1          Yes       1.0  \n",
       "2          Yes       NaN  \n",
       "3          Yes       1.0  \n",
       "4           No      55.0  \n",
       "..         ...       ...  \n",
       "494        Yes      26.0  \n",
       "495        Yes       4.0  \n",
       "496        Yes      25.0  \n",
       "497        Yes       1.0  \n",
       "498        Yes       3.0  \n",
       "\n",
       "[499 rows x 7 columns] 5\n"
     ]
    }
   ],
   "source": [
    "# Let's print out the first and last five rows of each column.\n",
    "print(df_transport,5)"
   ]
  },
  {
   "cell_type": "markdown",
   "metadata": {},
   "source": [
    "### Summary Statistics \n",
    "\n",
    "At this point, we have only one column which contains a numerical value (e.g. Vehicles).  For features which contain numerical values, we are often interested in various statistical measures relating to those values. Note, that because we only have one numeric feature, we see only one summary stastic - for now.  "
   ]
  },
  {
   "cell_type": "code",
   "execution_count": 9,
   "metadata": {},
   "outputs": [
     {
      "data": {
       "text/html": [
        "<div>\n",
        "<style scoped>\n",
        "    .dataframe tbody tr th:only-of-type {\n",
        "        vertical-align: middle;\n",
        "    }\n",
        "\n",
        "    .dataframe tbody tr th {\n",
        "        vertical-align: top;\n",
        "    }\n",
        "\n",
        "    .dataframe thead th {\n",
        "        text-align: right;\n",
        "    }\n",
        "</style>\n",
        "<table border=\"1\" class=\"dataframe\">\n",
        "  <thead>\n",
        "    <tr style=\"text-align: right;\">\n",
        "      <th></th>\n",
        "      <th>Zip Code</th>\n",
        "      <th>Vehicles</th>\n",
        "    </tr>\n",
        "  </thead>\n",
        "  <tbody>\n",
        "    <tr>\n",
        "      <th>count</th>\n",
        "      <td>497.00000</td>\n",
        "      <td>496.000000</td>\n",
        "    </tr>\n",
        "    <tr>\n",
        "      <th>mean</th>\n",
        "      <td>89838.23340</td>\n",
        "      <td>74.512097</td>\n",
        "    </tr>\n",
        "    <tr>\n",
        "      <th>std</th>\n",
        "      <td>3633.35609</td>\n",
        "      <td>243.839871</td>\n",
        "    </tr>\n",
        "    <tr>\n",
        "      <th>min</th>\n",
        "      <td>9001.00000</td>\n",
        "      <td>1.000000</td>\n",
        "    </tr>\n",
        "    <tr>\n",
        "      <th>25%</th>\n",
        "      <td>90001.00000</td>\n",
        "      <td>14.000000</td>\n",
        "    </tr>\n",
        "    <tr>\n",
        "      <th>50%</th>\n",
        "      <td>90001.00000</td>\n",
        "      <td>25.000000</td>\n",
        "    </tr>\n",
        "    <tr>\n",
        "      <th>75%</th>\n",
        "      <td>90001.00000</td>\n",
        "      <td>56.250000</td>\n",
        "    </tr>\n",
        "    <tr>\n",
        "      <th>max</th>\n",
        "      <td>90002.00000</td>\n",
        "      <td>3178.000000</td>\n",
        "    </tr>\n",
        "  </tbody>\n",
        "</table>\n",
        "</div>"
       ],
       "text/plain": [
        "          Zip Code     Vehicles\n",
        "count    497.00000   496.000000\n",
        "mean   89838.23340    74.512097\n",
        "std     3633.35609   243.839871\n",
        "min     9001.00000     1.000000\n",
        "25%    90001.00000    14.000000\n",
        "50%    90001.00000    25.000000\n",
        "75%    90001.00000    56.250000\n",
        "max    90002.00000  3178.000000"
       ]
      },
      "execution_count": 10,
      "metadata": {},
      "output_type": "execute_result"
     }
   ],
   "source": [
    "# We can use .describe() to see some summary statistics for the numeric fields in our dataframe.\n",
    "df_transport.describe()"
   ]
  },
  {
   "cell_type": "markdown",
   "metadata": {},
   "source": [
    "Let's investigate a bit more of our data by using the .groupby() function."
   ]
  },
  {
   "cell_type": "code",
   "execution_count": 10,
   "metadata": {},
   "outputs": [
     {
      "data": {
       "text/html": [
        "<div>\n",
        "<style scoped>\n",
        "    .dataframe tbody tr th:only-of-type {\n",
        "        vertical-align: middle;\n",
        "    }\n",
        "\n",
        "    .dataframe tbody tr th {\n",
        "        vertical-align: top;\n",
        "    }\n",
        "\n",
        "    .dataframe thead th {\n",
        "        text-align: right;\n",
        "    }\n",
        "</style>\n",
        "<table border=\"1\" class=\"dataframe\">\n",
        "  <thead>\n",
        "    <tr style=\"text-align: right;\">\n",
        "      <th></th>\n",
        "      <th>Date</th>\n",
        "      <th>Zip Code</th>\n",
        "      <th>Model Year</th>\n",
        "      <th>Make</th>\n",
        "      <th>Light_Duty</th>\n",
        "      <th>Vehicles</th>\n",
        "    </tr>\n",
        "    <tr>\n",
        "      <th>Fuel</th>\n",
        "      <th></th>\n",
        "      <th></th>\n",
        "      <th></th>\n",
        "      <th></th>\n",
        "      <th></th>\n",
        "      <th></th>\n",
        "    </tr>\n",
        "  </thead>\n",
        "  <tbody>\n",
        "    <tr>\n",
        "      <th>Battery Electric</th>\n",
        "      <td>10/1/2018</td>\n",
        "      <td>90000.0</td>\n",
        "      <td>&lt;2006</td>\n",
        "      <td>OTHER/UNK</td>\n",
        "      <td>No</td>\n",
        "      <td>4.0</td>\n",
        "    </tr>\n",
        "    <tr>\n",
        "      <th>Diesel and Diesel Hybrid</th>\n",
        "      <td>10/1/2018</td>\n",
        "      <td>90000.0</td>\n",
        "      <td>&lt;2006</td>\n",
        "      <td>OTHER/UNK</td>\n",
        "      <td>No</td>\n",
        "      <td>55.0</td>\n",
        "    </tr>\n",
        "    <tr>\n",
        "      <th>Flex-Fuel</th>\n",
        "      <td>10/14/2018</td>\n",
        "      <td>90001.0</td>\n",
        "      <td>2007</td>\n",
        "      <td>Type_A</td>\n",
        "      <td>Yes</td>\n",
        "      <td>78.0</td>\n",
        "    </tr>\n",
        "    <tr>\n",
        "      <th>Gasoline</th>\n",
        "      <td>10/1/2018</td>\n",
        "      <td>90000.0</td>\n",
        "      <td>2006</td>\n",
        "      <td>OTHER/UNK</td>\n",
        "      <td>Yes</td>\n",
        "      <td>1.0</td>\n",
        "    </tr>\n",
        "    <tr>\n",
        "      <th>Hybrid Gasoline</th>\n",
        "      <td>10/24/2018</td>\n",
        "      <td>90001.0</td>\n",
        "      <td>2009</td>\n",
        "      <td>OTHER/UNK</td>\n",
        "      <td>Yes</td>\n",
        "      <td>18.0</td>\n",
        "    </tr>\n",
        "    <tr>\n",
        "      <th>Natural Gas</th>\n",
        "      <td>10/25/2018</td>\n",
        "      <td>90001.0</td>\n",
        "      <td>2009</td>\n",
        "      <td>OTHER/UNK</td>\n",
        "      <td>No</td>\n",
        "      <td>2.0</td>\n",
        "    </tr>\n",
        "    <tr>\n",
        "      <th>Other</th>\n",
        "      <td>10/8/2018</td>\n",
        "      <td>90000.0</td>\n",
        "      <td>&lt;2006</td>\n",
        "      <td>OTHER/UNK</td>\n",
        "      <td>Yes</td>\n",
        "      <td>6.0</td>\n",
        "    </tr>\n",
        "    <tr>\n",
        "      <th>Plug-in Hybrid</th>\n",
        "      <td>11/2/2018</td>\n",
        "      <td>90001.0</td>\n",
        "      <td>2012</td>\n",
        "      <td>OTHER/UNK</td>\n",
        "      <td>Yes</td>\n",
        "      <td>1.0</td>\n",
        "    </tr>\n",
        "  </tbody>\n",
        "</table>\n",
        "</div>"
       ],
       "text/plain": [
        "                                Date  Zip Code Model Year       Make  \\\n",
        "Fuel                                                                   \n",
        "Battery Electric           10/1/2018   90000.0      <2006  OTHER/UNK   \n",
        "Diesel and Diesel Hybrid   10/1/2018   90000.0      <2006  OTHER/UNK   \n",
        "Flex-Fuel                 10/14/2018   90001.0       2007     Type_A   \n",
        "Gasoline                   10/1/2018   90000.0       2006  OTHER/UNK   \n",
        "Hybrid Gasoline           10/24/2018   90001.0       2009  OTHER/UNK   \n",
        "Natural Gas               10/25/2018   90001.0       2009  OTHER/UNK   \n",
        "Other                      10/8/2018   90000.0      <2006  OTHER/UNK   \n",
        "Plug-in Hybrid             11/2/2018   90001.0       2012  OTHER/UNK   \n",
        "\n",
        "                         Light_Duty  Vehicles  \n",
        "Fuel                                           \n",
        "Battery Electric                 No       4.0  \n",
        "Diesel and Diesel Hybrid         No      55.0  \n",
        "Flex-Fuel                       Yes      78.0  \n",
        "Gasoline                        Yes       1.0  \n",
        "Hybrid Gasoline                 Yes      18.0  \n",
        "Natural Gas                      No       2.0  \n",
        "Other                           Yes       6.0  \n",
        "Plug-in Hybrid                  Yes       1.0  "
       ]
      },
      "execution_count": 11,
      "metadata": {},
      "output_type": "execute_result"
     }
   ],
   "source": [
    "# The .groupby() function is used for spliting the data into groups based on some criteria.\n",
    "grouped_data = df_transport.groupby(['Zip Code','Model Year','Fuel','Make','Light_Duty','Vehicles'])\n",
    "\n",
    " # Get the first entry for each month.\n",
    "df_transport.groupby('Fuel').first()"
   ]
  },
  {
   "cell_type": "markdown",
   "metadata": {},
   "source": [
    "### Checking for Missing Values\n",
    "\n",
    "Missing values adversely impact data quality, as they can lead the machine learning model to make inaccurate inferences about the data. Missing values can be the result of numerous factors, e.g. \"bits\" lost during streaming transmission, data entry, or perhaps a user forgot to fill in a field.  Note that Pandas recognizes both empty cells and “NaN” types as missing values. "
   ]
  },
  {
   "cell_type": "markdown",
   "metadata": {},
   "source": [
    "#### Let's show the null values for all features in the DataFrame."
   ]
  },
  {
   "cell_type": "code",
   "execution_count": 11,
   "metadata": {},
   "outputs": [
     {
      "data": {
       "text/plain": [
        "Date          2\n",
        "Zip Code      2\n",
        "Model Year    2\n",
        "Fuel          2\n",
        "Make          3\n",
        "Light_Duty    3\n",
        "Vehicles      3\n",
        "dtype: int64"
       ]
      },
      "execution_count": 12,
      "metadata": {},
      "output_type": "execute_result"
     }
   ],
   "source": [
    "df_transport.isnull().sum()"
   ]
  },
  {
   "cell_type": "markdown",
   "metadata": {},
   "source": [
    "To see a sampling of which values are missing, enter the feature column name.  You'll notice that \"False\" and \"True\" correpond to the presence or abscence of a value by index number."
   ]
  },
  {
   "cell_type": "code",
   "execution_count": 12,
   "metadata": {},
   "outputs": [
     {
      "name": "stdout",
      "output_type": "stream",
      "text": [
       "0      10/1/2018\n",
       "1      10/1/2018\n",
       "2            NaN\n",
       "3      10/1/2018\n",
       "4      10/1/2018\n",
       "         ...    \n",
       "494    12/3/2018\n",
       "495    12/4/2018\n",
       "496    12/5/2018\n",
       "497    12/6/2018\n",
       "498    12/7/2018\n",
       "Name: Date, Length: 499, dtype: object\n",
       "0      False\n",
       "1      False\n",
       "2       True\n",
       "3      False\n",
       "4      False\n",
       "       ...  \n",
       "494    False\n",
       "495    False\n",
       "496    False\n",
       "497    False\n",
       "498    False\n",
       "Name: Date, Length: 499, dtype: bool\n"
      ]
     }
   ],
   "source": [
    "print (df_transport['Date'])\n",
    "print (df_transport['Date'].isnull())"
   ]
  },
  {
   "cell_type": "code",
   "execution_count": 13,
   "metadata": {},
   "outputs": [
     {
      "name": "stdout",
      "output_type": "stream",
      "text": [
       "0      OTHER/UNK\n",
       "1            NaN\n",
       "2      OTHER/UNK\n",
       "3      OTHER/UNK\n",
       "4      OTHER/UNK\n",
       "         ...    \n",
       "494       Type_I\n",
       "495       Type_B\n",
       "496       Type_C\n",
       "497       Type_J\n",
       "498       Type_J\n",
       "Name: Make, Length: 499, dtype: object\n",
       "0      False\n",
       "1       True\n",
       "2      False\n",
       "3      False\n",
       "4      False\n",
       "       ...  \n",
       "494    False\n",
       "495    False\n",
       "496    False\n",
       "497    False\n",
       "498    False\n",
       "Name: Make, Length: 499, dtype: bool\n"
      ]
     }
   ],
   "source": [
    "print (df_transport['Make'])\n",
    "print (df_transport['Make'].isnull())"
   ]
  },
  {
   "cell_type": "code",
   "execution_count": 14,
   "metadata": {},
   "outputs": [
     {
      "name": "stdout",
      "output_type": "stream",
      "text": [
       "0       2006\n",
       "1       2014\n",
       "2        NaN\n",
       "3       2017\n",
       "4      <2006\n",
       "       ...  \n",
       "494     2010\n",
       "495     2010\n",
       "496     2010\n",
       "497     2010\n",
       "498     2010\n",
       "Name: Model Year, Length: 499, dtype: object\n",
       "0      False\n",
       "1      False\n",
       "2       True\n",
       "3      False\n",
       "4      False\n",
       "       ...  \n",
       "494    False\n",
       "495    False\n",
       "496    False\n",
       "497    False\n",
       "498    False\n",
       "Name: Model Year, Length: 499, dtype: bool\n"
      ]
     }
   ],
   "source": [
    "print (df_transport['Model Year'])\n",
    "print (df_transport['Model Year'].isnull())"
   ]
  },
  {
   "cell_type": "markdown",
   "metadata": {},
   "source": [
    "### What can we deduce about the data at this point?\n"
   ]
  },
  {
   "cell_type": "markdown",
   "metadata": {},
   "source": [
    "# Let's summarize our data by row, column, features, unique, and missing values.\n"
   ]
  },
  {
   "cell_type": "code",
   "execution_count": 15,
   "metadata": {},
   "outputs": [
     {
      "name": "stdout",
      "output_type": "stream",
      "text": [
       "Rows     :  499\n",
       "Columns  :  7\n",
       "\n",
       "Features : \n",
       " ['Date', 'Zip Code', 'Model Year', 'Fuel', 'Make', 'Light_Duty', 'Vehicles']\n",
       "\n",
       "Unique values :  \n",
       " Date          130\n",
       "Zip Code        4\n",
       "Model Year     15\n",
       "Fuel            8\n",
       "Make           43\n",
       "Light_Duty      2\n",
       "Vehicles      151\n",
       "dtype: int64\n",
       "\n",
       "Missing values :   17\n"
      ]
     }
   ],
   "source": [
    "# In Python shape() is used in pandas to give the number of rows/columns.\n",
    "# The number of rows is given by .shape[0]. The number of columns is given by .shape[1].\n",
    "# Thus, shape() consists of an array having two arguments -- rows and columns\n",
    "print (\"Rows     : \" ,df_transport.shape[0])\n",
    "print (\"Columns  : \" ,df_transport.shape[1])\n",
    "print (\"\\nFeatures : \\n\" ,df_transport.columns.tolist())\n",
    "print (\"\\nUnique values :  \\n\",df_transport.nunique())\n",
    "print (\"\\nMissing values :  \", df_transport.isnull().sum().values.sum())\n"
   ]
  },
  {
   "cell_type": "markdown",
   "metadata": {},
   "source": [
    "Let's see the data again -- this time the last five rows in the dataset."
   ]
  },
  {
   "cell_type": "code",
   "execution_count": 16,
   "metadata": {},
   "outputs": [
     {
      "data": {
       "text/html": [
        "<div>\n",
        "<style scoped>\n",
        "    .dataframe tbody tr th:only-of-type {\n",
        "        vertical-align: middle;\n",
        "    }\n",
        "\n",
        "    .dataframe tbody tr th {\n",
        "        vertical-align: top;\n",
        "    }\n",
        "\n",
        "    .dataframe thead th {\n",
        "        text-align: right;\n",
        "    }\n",
        "</style>\n",
        "<table border=\"1\" class=\"dataframe\">\n",
        "  <thead>\n",
        "    <tr style=\"text-align: right;\">\n",
        "      <th></th>\n",
        "      <th>Date</th>\n",
        "      <th>Zip Code</th>\n",
        "      <th>Model Year</th>\n",
        "      <th>Fuel</th>\n",
        "      <th>Make</th>\n",
        "      <th>Light_Duty</th>\n",
        "      <th>Vehicles</th>\n",
        "    </tr>\n",
        "  </thead>\n",
        "  <tbody>\n",
        "    <tr>\n",
        "      <th>494</th>\n",
        "      <td>12/3/2018</td>\n",
        "      <td>90002.0</td>\n",
        "      <td>2010</td>\n",
        "      <td>Gasoline</td>\n",
        "      <td>Type_I</td>\n",
        "      <td>Yes</td>\n",
        "      <td>11.0</td>\n",
        "    </tr>\n",
        "    <tr>\n",
        "      <th>495</th>\n",
        "      <td>12/4/2018</td>\n",
        "      <td>90002.0</td>\n",
        "      <td>2010</td>\n",
        "      <td>Gasoline</td>\n",
        "      <td>Type_B</td>\n",
        "      <td>Yes</td>\n",
        "      <td>58.0</td>\n",
        "    </tr>\n",
        "    <tr>\n",
        "      <th>496</th>\n",
        "      <td>12/5/2018</td>\n",
        "      <td>90002.0</td>\n",
        "      <td>2010</td>\n",
        "      <td>Gasoline</td>\n",
        "      <td>Type_C</td>\n",
        "      <td>Yes</td>\n",
        "      <td>45.0</td>\n",
        "    </tr>\n",
        "    <tr>\n",
        "      <th>497</th>\n",
        "      <td>12/6/2018</td>\n",
        "      <td>90002.0</td>\n",
        "      <td>2010</td>\n",
        "      <td>Gasoline</td>\n",
        "      <td>Type_J</td>\n",
        "      <td>Yes</td>\n",
        "      <td>82.0</td>\n",
        "    </tr>\n",
        "    <tr>\n",
        "      <th>498</th>\n",
        "      <td>12/7/2018</td>\n",
        "      <td>90002.0</td>\n",
        "      <td>2010</td>\n",
        "      <td>Gasoline</td>\n",
        "      <td>Type_J</td>\n",
        "      <td>Yes</td>\n",
        "      <td>12.0</td>\n",
        "    </tr>\n",
        "  </tbody>\n",
        "</table>\n",
        "</div>"
       ],
       "text/plain": [
        "          Date  Zip Code Model Year      Fuel    Make Light_Duty  Vehicles\n",
        "494  12/3/2018   90002.0       2010  Gasoline  Type_I        Yes      11.0\n",
        "495  12/4/2018   90002.0       2010  Gasoline  Type_B        Yes      58.0\n",
        "496  12/5/2018   90002.0       2010  Gasoline  Type_C        Yes      45.0\n",
        "497  12/6/2018   90002.0       2010  Gasoline  Type_J        Yes      82.0\n",
        "498  12/7/2018   90002.0       2010  Gasoline  Type_J        Yes      12.0"
       ]
      },
      "execution_count": 17,
      "metadata": {},
      "output_type": "execute_result"
     }
   ],
   "source": [
    "# Output the last five rows in the dataset.\n",
    "df_transport.tail()"
   ]
  },
  {
   "cell_type": "markdown",
   "metadata": {},
   "source": [
    "### What Are Our Data Quality Issues?\n",
    "\n",
    "1. **Data Quality Issue #1**:  \n",
    "> **Missing Values**:\n",
    "Each feature column has multiple missing values.  In fact, we have a total of 18 missing values.\n",
    "2. **Data Quality Issue #2**: \n",
    "> **Date DataType**:  Date is shown as an \"object\" datatype and should be a datetime.  In addition, Date is in one column.  Our business requirement is to see the Date parsed out to year, month, and day.  \n",
    "3. **Data Quality Issue #3**: \n",
    "> **Model Year**: We are only interested in years greater than 2006, not \"<2006\".\n",
    "4. **Data Quality Issue #4**:  \n",
    "> **Categorical Columns**:  The feature column \"Light_Duty\" is categorical and has a \"Yes/No\" choice.  We cannot feed values like this into a machine learning model.  In addition, we need to \"one-hot encode the remaining \"string\"/\"object\" columns.\n",
    "5. **Data Quality Issue #5**:  \n",
    "> **Temporal Features**:  How do we handle year, month, and day?\n"
   ]
  },
  {
   "cell_type": "markdown",
   "metadata": {},
   "source": [
    "#### Data Quality Issue #1:  \n",
    "##### Resolving Missing Values"
   ]
  },
  {
   "cell_type": "markdown",
   "metadata": {},
   "source": [
    "Most algorithms do not accept missing values.  Yet, when we see missing values in our dataset, there is always a tendency to just \"drop all the rows\" with missing values.  Although Pandas will fill in the blank space with “NaN\", we should \"handle\" them in some way.\n",
    "\n",
    "While all the methods to handle missing values is beyond the scope of this lab, there are a few methods you should consider.  For numeric columns, use the \"mean\" values to fill in the missing numeric values.  For categorical columns, use the \"mode\" (or most frequent values) to fill in missing categorical values. \n",
    "\n",
    "In this lab, we use the .apply and Lambda functions to fill every column with its own most frequent value.  You'll learn more about Lambda functions later in the lab."
   ]
  },
  {
   "cell_type": "markdown",
   "metadata": {},
   "source": [
    "Let's check again for missing values by showing how many rows contain NaN values for each feature column."
   ]
  },
  {
   "cell_type": "code",
   "execution_count": 17,
   "metadata": {},
   "outputs": [
     {
      "data": {
       "text/plain": [
        "Date          2\n",
        "Zip Code      2\n",
        "Model Year    2\n",
        "Fuel          2\n",
        "Make          3\n",
        "Light_Duty    3\n",
        "Vehicles      3\n",
        "dtype: int64"
       ]
      },
      "execution_count": 18,
      "metadata": {},
      "output_type": "execute_result"
     }
   ],
   "source": [
    "# The isnull() method is used to check and manage NULL values in a data frame.\n",
    "# TODO 1a\n",
    "df_transport.isnull().sum()"
   ]
  },
  {
   "cell_type": "markdown",
   "metadata": {},
   "source": [
    "Run the cell to apply the lambda function."
   ]
  },
  {
   "cell_type": "code",
   "execution_count": 18,
   "metadata": {},
   "outputs": [],
   "source": [
    "# Here we are using the apply function with lambda.\n",
    "# We can use the apply() function to apply the lambda function to both rows and columns of a dataframe.\n",
    "# TODO 1b\n",
    "df_transport = df_transport.apply(lambda x:x.fillna(x.value_counts().index[0]))"
   ]
  },
  {
   "cell_type": "markdown",
   "metadata": {},
   "source": [
    "Let's check again for missing values."
   ]
  },
  {
   "cell_type": "code",
   "execution_count": 19,
   "metadata": {},
   "outputs": [
     {
      "data": {
       "text/plain": [
        "Date          0\n",
        "Zip Code      0\n",
        "Model Year    0\n",
        "Fuel          0\n",
        "Make          0\n",
        "Light_Duty    0\n",
        "Vehicles      0\n",
        "dtype: int64"
       ]
      },
      "execution_count": 20,
      "metadata": {},
      "output_type": "execute_result"
     }
   ],
   "source": [
    "# The isnull() method is used to check and manage NULL values in a data frame.\n",
    "# TODO 1c\n",
    "df_transport.isnull().sum()"
   ]
  },
  {
   "cell_type": "markdown",
   "metadata": {},
   "source": [
    "#### Data Quality Issue #2:  \n",
    "##### Convert the Date Feature Column to a Datetime Format"
   ]
  },
  {
   "cell_type": "code",
   "execution_count": 20,
   "metadata": {},
   "outputs": [],
   "source": [
    "# The date column is indeed shown as a string object. We can convert it to the datetime datatype with the to_datetime() function in Pandas.\n",
    "# TODO 2a\n",
    "df_transport['Date'] =  pd.to_datetime(df_transport['Date'],\n",
    "                              format='%m/%d/%Y')"
   ]
  },
  {
   "cell_type": "code",
   "execution_count": 21,
   "metadata": {},
   "outputs": [
     {
      "name": "stdout",
      "output_type": "stream",
      "text": [
       "<class 'pandas.core.frame.DataFrame'>\n",
       "RangeIndex: 499 entries, 0 to 498\n",
       "Data columns (total 7 columns):\n",
       " #   Column      Non-Null Count  Dtype         \n",
       "---  ------      --------------  -----         \n",
       " 0   Date        499 non-null    datetime64[ns]\n",
       " 1   Zip Code    499 non-null    float64       \n",
       " 2   Model Year  499 non-null    object        \n",
       " 3   Fuel        499 non-null    object        \n",
       " 4   Make        499 non-null    object        \n",
       " 5   Light_Duty  499 non-null    object        \n",
       " 6   Vehicles    499 non-null    float64       \n",
       "dtypes: datetime64[ns](1), float64(2), object(4)\n",
       "memory usage: 27.4+ KB\n"
      ]
     }
   ],
   "source": [
    "# Date is now converted and will display the concise summary of an dataframe.\n",
    "# TODO 2b\n",
    "df_transport.info()"
   ]
  },
  {
   "cell_type": "code",
   "execution_count": 22,
   "metadata": {},
   "outputs": [
     {
      "name": "stdout",
      "output_type": "stream",
      "text": [
       "<class 'pandas.core.frame.DataFrame'>\n",
       "RangeIndex: 499 entries, 0 to 498\n",
       "Data columns (total 10 columns):\n",
       " #   Column      Non-Null Count  Dtype         \n",
       "---  ------      --------------  -----         \n",
       " 0   Date        499 non-null    datetime64[ns]\n",
       " 1   Zip Code    499 non-null    float64       \n",
       " 2   Model Year  499 non-null    object        \n",
       " 3   Fuel        499 non-null    object        \n",
       " 4   Make        499 non-null    object        \n",
       " 5   Light_Duty  499 non-null    object        \n",
       " 6   Vehicles    499 non-null    float64       \n",
       " 7   year        499 non-null    int64         \n",
       " 8   month       499 non-null    int64         \n",
       " 9   day         499 non-null    int64         \n",
       "dtypes: datetime64[ns](1), float64(2), int64(3), object(4)\n",
       "memory usage: 39.1+ KB\n"
      ]
     }
   ],
   "source": [
    "# Now we will parse Date into three columns that is year, month, and day.\n",
    "df_transport['year'] = df_transport['Date'].dt.year\n",
    "df_transport['month'] = df_transport['Date'].dt.month\n",
    "df_transport['day'] = df_transport['Date'].dt.day\n",
    "\n",
    "#df['hour'] = df['date'].dt.hour - you could use this if your date format included hour.\n",
    "#df['minute'] = df['date'].dt.minute - you could use this if your date format included minute.\n",
    "\n",
    "# The .info() function will display the concise summary of an dataframe.\n",
    "df_transport.info()"
   ]
  },
  {
   "cell_type": "markdown",
   "metadata": {},
   "source": [
    "Let's confirm the Date parsing. This will also give us a another visualization of the data."
   ]
  },
  {
   "cell_type": "code",
   "execution_count": 23,
   "metadata": {},
   "outputs": [
     {
      "data": {
       "text/html": [
        "<div>\n",
        "<style scoped>\n",
        "    .dataframe tbody tr th:only-of-type {\n",
        "        vertical-align: middle;\n",
        "    }\n",
        "\n",
        "    .dataframe tbody tr th {\n",
        "        vertical-align: top;\n",
        "    }\n",
        "\n",
        "    .dataframe thead th {\n",
        "        text-align: right;\n",
        "    }\n",
        "</style>\n",
        "<table border=\"1\" class=\"dataframe\">\n",
        "  <thead>\n",
        "    <tr style=\"text-align: right;\">\n",
        "      <th></th>\n",
        "      <th>Date</th>\n",
        "      <th>Zip Code</th>\n",
        "      <th>Model Year</th>\n",
        "      <th>Fuel</th>\n",
        "      <th>Make</th>\n",
        "      <th>Light_Duty</th>\n",
        "      <th>Vehicles</th>\n",
        "      <th>year</th>\n",
        "      <th>day</th>\n",
        "    </tr>\n",
        "    <tr>\n",
        "      <th>month</th>\n",
        "      <th></th>\n",
        "      <th></th>\n",
        "      <th></th>\n",
        "      <th></th>\n",
        "      <th></th>\n",
        "      <th></th>\n",
        "      <th></th>\n",
        "      <th></th>\n",
        "      <th></th>\n",
        "    </tr>\n",
        "  </thead>\n",
        "  <tbody>\n",
        "    <tr>\n",
        "      <th>1</th>\n",
        "      <td>2019-01-01</td>\n",
        "      <td>90001.0</td>\n",
        "      <td>2016</td>\n",
        "      <td>Gasoline</td>\n",
        "      <td>Type_G</td>\n",
        "      <td>Yes</td>\n",
        "      <td>18.0</td>\n",
        "      <td>2019</td>\n",
        "      <td>1</td>\n",
        "    </tr>\n",
        "    <tr>\n",
        "      <th>2</th>\n",
        "      <td>2019-02-01</td>\n",
        "      <td>90001.0</td>\n",
        "      <td>2017</td>\n",
        "      <td>Gasoline</td>\n",
        "      <td>Type_D</td>\n",
        "      <td>Yes</td>\n",
        "      <td>13.0</td>\n",
        "      <td>2019</td>\n",
        "      <td>1</td>\n",
        "    </tr>\n",
        "    <tr>\n",
        "      <th>3</th>\n",
        "      <td>2019-03-01</td>\n",
        "      <td>90001.0</td>\n",
        "      <td>2018</td>\n",
        "      <td>Gasoline</td>\n",
        "      <td>Type_C</td>\n",
        "      <td>Yes</td>\n",
        "      <td>32.0</td>\n",
        "      <td>2019</td>\n",
        "      <td>1</td>\n",
        "    </tr>\n",
        "    <tr>\n",
        "      <th>10</th>\n",
        "      <td>2018-10-01</td>\n",
        "      <td>90000.0</td>\n",
        "      <td>2006</td>\n",
        "      <td>Gasoline</td>\n",
        "      <td>OTHER/UNK</td>\n",
        "      <td>Yes</td>\n",
        "      <td>1.0</td>\n",
        "      <td>2018</td>\n",
        "      <td>1</td>\n",
        "    </tr>\n",
        "    <tr>\n",
        "      <th>11</th>\n",
        "      <td>2018-11-01</td>\n",
        "      <td>90001.0</td>\n",
        "      <td>2007</td>\n",
        "      <td>Gasoline</td>\n",
        "      <td>Type_M</td>\n",
        "      <td>Yes</td>\n",
        "      <td>15.0</td>\n",
        "      <td>2018</td>\n",
        "      <td>1</td>\n",
        "    </tr>\n",
        "    <tr>\n",
        "      <th>12</th>\n",
        "      <td>2018-12-02</td>\n",
        "      <td>90001.0</td>\n",
        "      <td>2015</td>\n",
        "      <td>Gasoline</td>\n",
        "      <td>Type_G</td>\n",
        "      <td>Yes</td>\n",
        "      <td>19.0</td>\n",
        "      <td>2018</td>\n",
        "      <td>2</td>\n",
        "    </tr>\n",
        "  </tbody>\n",
        "</table>\n",
        "</div>"
       ],
       "text/plain": [
        "            Date  Zip Code Model Year      Fuel       Make Light_Duty  \\\n",
        "month                                                                   \n",
        "1     2019-01-01   90001.0       2016  Gasoline     Type_G        Yes   \n",
        "2     2019-02-01   90001.0       2017  Gasoline     Type_D        Yes   \n",
        "3     2019-03-01   90001.0       2018  Gasoline     Type_C        Yes   \n",
        "10    2018-10-01   90000.0       2006  Gasoline  OTHER/UNK        Yes   \n",
        "11    2018-11-01   90001.0       2007  Gasoline     Type_M        Yes   \n",
        "12    2018-12-02   90001.0       2015  Gasoline     Type_G        Yes   \n",
        "\n",
        "       Vehicles  year  day  \n",
        "month                       \n",
        "1          18.0  2019    1  \n",
        "2          13.0  2019    1  \n",
        "3          32.0  2019    1  \n",
        "10          1.0  2018    1  \n",
        "11         15.0  2018    1  \n",
        "12         19.0  2018    2  "
       ]
      },
      "execution_count": 24,
      "metadata": {},
      "output_type": "execute_result"
     }
   ],
   "source": [
    "# Here, we are creating a new dataframe called \"grouped_data\" and grouping by on the column \"Make\"\n",
    "grouped_data = df_transport.groupby(['Make'])\n",
    "\n",
    "# Get the first entry for each month.\n",
    "df_transport.groupby('month').first()"
   ]
  },
  {
   "cell_type": "markdown",
   "metadata": {},
   "source": [
    "Now that we have Dates as a integers, let's do some additional plotting."
   ]
  },
  {
   "cell_type": "code",
   "execution_count": 24,
   "metadata": {},
   "outputs": [
    {
     "data": {
      "text/plain": [
       "Text(0.5,1,u'Vehicles by Month')"
      ]
     },
     "execution_count": 24,
     "metadata": {},
     "output_type": "execute_result"
    },
    {
     "data": {
      "text/plain": [
       "<matplotlib.figure.Figure at 0x7fa558eea350>"
      ]
     },
     "metadata": {},
     "output_type": "display_data"
    },
    {
     "data": {
      "image/png": "[encoded data removed]",
      "text/plain": [
       "<matplotlib.figure.Figure at 0x7fa558eea750>"
      ]
     },
     "metadata": {
      "needs_background": "light"
     },
     "output_type": "display_data"
    }
   ],
   "source": [
    "# Here we will visualize our data using the figure() function in the pyplot module of matplotlib's library -- which is used to create a new figure.\n",
    "plt.figure(figsize=(10,6))\n",
    "\n",
    "# Seaborn's .jointplot() displays a relationship between 2 variables (bivariate) as well as 1D profiles (univariate) in the margins. This plot is a convenience class that wraps JointGrid.\n",
    "sns.jointplot(x='month',y='Vehicles',data=df_transport)\n",
    "\n",
    "# The title() method in matplotlib module is used to specify title of the visualization depicted and displays the title using various attributes.\n",
    "plt.title('Vehicles by Month')"
   ]
  },
  {
   "cell_type": "markdown",
   "metadata": {},
   "source": [
    "#### Data Quality Issue #3:  \n",
    "##### Rename a Feature Column and Remove a Value.  \n",
    "\n",
    "Our feature columns have different \"capitalizations\" in their names, e.g. both upper and lower \"case\".  In addition, there are \"spaces\" in some of the column names.  In addition, we are only interested in years greater than 2006, not \"<2006\".  "
   ]
  },
  {
   "cell_type": "markdown",
   "metadata": {},
   "source": [
    "We can also resolve the \"case\" problem too by making all the feature column names lower case."
   ]
  },
  {
   "cell_type": "code",
   "execution_count": 25,
   "metadata": {},
   "outputs": [
     {
      "data": {
       "text/html": [
        "<div>\n",
        "<style scoped>\n",
        "    .dataframe tbody tr th:only-of-type {\n",
        "        vertical-align: middle;\n",
        "    }\n",
        "\n",
        "    .dataframe tbody tr th {\n",
        "        vertical-align: top;\n",
        "    }\n",
        "\n",
        "    .dataframe thead th {\n",
        "        text-align: right;\n",
        "    }\n",
        "</style>\n",
        "<table border=\"1\" class=\"dataframe\">\n",
        "  <thead>\n",
        "    <tr style=\"text-align: right;\">\n",
        "      <th></th>\n",
        "      <th>date</th>\n",
        "      <th>zipcode</th>\n",
        "      <th>modelyear</th>\n",
        "      <th>fuel</th>\n",
        "      <th>make</th>\n",
        "      <th>lightduty</th>\n",
        "      <th>vehicles</th>\n",
        "      <th>year</th>\n",
        "      <th>month</th>\n",
        "      <th>day</th>\n",
        "    </tr>\n",
        "  </thead>\n",
        "  <tbody>\n",
        "    <tr>\n",
        "      <th>0</th>\n",
        "      <td>2018-10-01</td>\n",
        "      <td>90000.0</td>\n",
        "      <td>2006</td>\n",
        "      <td>Gasoline</td>\n",
        "      <td>OTHER/UNK</td>\n",
        "      <td>Yes</td>\n",
        "      <td>1.0</td>\n",
        "      <td>2018</td>\n",
        "      <td>10</td>\n",
        "      <td>1</td>\n",
        "    </tr>\n",
        "    <tr>\n",
        "      <th>1</th>\n",
        "      <td>2018-10-01</td>\n",
        "      <td>90001.0</td>\n",
        "      <td>2014</td>\n",
        "      <td>Gasoline</td>\n",
        "      <td>OTHER/UNK</td>\n",
        "      <td>Yes</td>\n",
        "      <td>1.0</td>\n",
        "      <td>2018</td>\n",
        "      <td>10</td>\n",
        "      <td>1</td>\n",
        "    </tr>\n",
        "  </tbody>\n",
        "</table>\n",
        "</div>"
       ],
       "text/plain": [
        "        date  zipcode modelyear      fuel       make lightduty  vehicles  \\\n",
        "0 2018-10-01  90000.0      2006  Gasoline  OTHER/UNK       Yes       1.0   \n",
        "1 2018-10-01  90001.0      2014  Gasoline  OTHER/UNK       Yes       1.0   \n",
        "\n",
        "   year  month  day  \n",
        "0  2018     10    1  \n",
        "1  2018     10    1  "
       ]
      },
      "execution_count": 26,
      "metadata": {},
      "output_type": "execute_result"
     }
   ],
   "source": [
    "# Let's remove all the spaces for feature columns by renaming them.\n",
    "# TODO 3a\n",
    "df_transport.rename(columns = { 'Date': 'date', 'Zip Code':'zipcode', 'Model Year': 'modelyear', 'Fuel': 'fuel', 'Make': 'make', 'Light_Duty': 'lightduty', 'Vehicles': 'vehicles'}, inplace = True) \n",
    "\n",
    "# Output the first two rows.\n",
    "df_transport.head(2)"
   ]
  },
  {
   "cell_type": "markdown",
   "metadata": {},
   "source": [
    " **Note:** Next we create a copy of the dataframe to avoid the \"SettingWithCopyWarning: A value is trying to be set on a copy of a slice from a DataFrame\" warning.  Run the cell to remove the value '<2006' from the modelyear feature column. "
   ]
  },
  {
   "cell_type": "code",
   "execution_count": 26,
   "metadata": {},
   "outputs": [],
   "source": [
    "# Here, we create a copy of the dataframe to avoid copy warning issues.\n",
    "# TODO 3b\n",
    "df = df_transport.loc[df_transport.modelyear != '<2006'].copy()"
   ]
  },
  {
   "cell_type": "code",
   "execution_count": 27,
   "metadata": {},
   "outputs": [
     {
      "data": {
       "text/plain": [
        "2007    53\n",
        "2008    45\n",
        "2006    36\n",
        "2010    34\n",
        "2014    31\n",
        "2015    30\n",
        "2017    29\n",
        "2016    29\n",
        "2013    27\n",
        "2009    25\n",
        "2012    25\n",
        "2011    24\n",
        "2018    23\n",
        "2019     5\n",
        "Name: modelyear, dtype: int64"
       ]
      },
      "execution_count": 28,
      "metadata": {},
      "output_type": "execute_result"
     }
   ],
   "source": [
    "# Here we will confirm that the modelyear value '<2006' has been removed by doing a value count.\n",
    "df['modelyear'].value_counts(0)"
   ]
  },
  {
   "cell_type": "markdown",
   "metadata": {},
   "source": [
    "#### Data Quality Issue #4:  \n",
    "##### Handling Categorical Columns\n",
    "\n",
    "The feature column \"lightduty\" is categorical and has a \"Yes/No\" choice.  We cannot feed values like this into a machine learning model.  We need to convert the binary answers from strings of yes/no to integers of 1/0.  There are various methods to achieve this.  We will use the \"map\" method with a lambda expression.  Pandas. map() takes a function and applies it to all values of a Pandas series.\n",
    "\n",
    "##### What is a Lambda Function?\n",
    "\n",
    "Typically, Python requires that you define a function using the def keyword. However, lambda functions are anonymous -- which means there is no need to name them. The most common use case for lambda functions is in code that requires a simple one-line function (e.g. lambdas only have a single expression).  \n",
    "\n",
    "As you progress through the Course Specialization, you will see many examples where lambda functions are being used.  Now is a good time to become familiar with them."
   ]
  },
  {
   "cell_type": "code",
   "execution_count": 28,
   "metadata": {},
   "outputs": [
     {
      "data": {
       "text/plain": [
        "Yes    374\n",
        "No      42\n",
        "Name: lightduty, dtype: int64"
       ]
      },
      "execution_count": 29,
      "metadata": {},
      "output_type": "execute_result"
     }
   ],
   "source": [
    "# Lets count the number of \"Yes\" and\"No's\" in the 'lightduty' feature column.\n",
    "df['lightduty'].value_counts(0)"
   ]
  },
  {
   "cell_type": "code",
   "execution_count": 29,
   "metadata": {},
   "outputs": [
     {
      "data": {
       "text/plain": [
        "1    374\n",
        "0     42\n",
        "Name: lightduty, dtype: int64"
       ]
      },
      "execution_count": 30,
      "metadata": {},
      "output_type": "execute_result"
     }
   ],
   "source": [
    "# Let's convert the Yes to 1 and No to 0.\n",
    "# The .map takes a function and applies it to all values of a Pandas series (e.g. lightduty). \n",
    "df.loc[:,'lightduty'] = df['lightduty'].map(lambda x: 0 if x=='No' else 1)\n",
    "df['lightduty'].value_counts(0)"
   ]
  },
  {
   "cell_type": "code",
   "execution_count": 30,
   "metadata": {},
   "outputs": [
     {
      "data": {
       "text/html": [
        "<div>\n",
        "<style scoped>\n",
        "    .dataframe tbody tr th:only-of-type {\n",
        "        vertical-align: middle;\n",
        "    }\n",
        "\n",
        "    .dataframe tbody tr th {\n",
        "        vertical-align: top;\n",
        "    }\n",
        "\n",
        "    .dataframe thead th {\n",
        "        text-align: right;\n",
        "    }\n",
        "</style>\n",
        "<table border=\"1\" class=\"dataframe\">\n",
        "  <thead>\n",
        "    <tr style=\"text-align: right;\">\n",
        "      <th></th>\n",
        "      <th>date</th>\n",
        "      <th>zipcode</th>\n",
        "      <th>modelyear</th>\n",
        "      <th>fuel</th>\n",
        "      <th>make</th>\n",
        "      <th>lightduty</th>\n",
        "      <th>vehicles</th>\n",
        "      <th>year</th>\n",
        "      <th>month</th>\n",
        "      <th>day</th>\n",
        "    </tr>\n",
        "  </thead>\n",
        "  <tbody>\n",
        "    <tr>\n",
        "      <th>0</th>\n",
        "      <td>2018-10-01</td>\n",
        "      <td>90000.0</td>\n",
        "      <td>2006</td>\n",
        "      <td>Gasoline</td>\n",
        "      <td>OTHER/UNK</td>\n",
        "      <td>1</td>\n",
        "      <td>1.0</td>\n",
        "      <td>2018</td>\n",
        "      <td>10</td>\n",
        "      <td>1</td>\n",
        "    </tr>\n",
        "    <tr>\n",
        "      <th>1</th>\n",
        "      <td>2018-10-01</td>\n",
        "      <td>90001.0</td>\n",
        "      <td>2014</td>\n",
        "      <td>Gasoline</td>\n",
        "      <td>OTHER/UNK</td>\n",
        "      <td>1</td>\n",
        "      <td>1.0</td>\n",
        "      <td>2018</td>\n",
        "      <td>10</td>\n",
        "      <td>1</td>\n",
        "    </tr>\n",
        "    <tr>\n",
        "      <th>3</th>\n",
        "      <td>2018-10-01</td>\n",
        "      <td>90000.0</td>\n",
        "      <td>2017</td>\n",
        "      <td>Gasoline</td>\n",
        "      <td>OTHER/UNK</td>\n",
        "      <td>1</td>\n",
        "      <td>1.0</td>\n",
        "      <td>2018</td>\n",
        "      <td>10</td>\n",
        "      <td>1</td>\n",
        "    </tr>\n",
        "    <tr>\n",
        "      <th>16</th>\n",
        "      <td>2018-10-09</td>\n",
        "      <td>90001.0</td>\n",
        "      <td>2006</td>\n",
        "      <td>Diesel and Diesel Hybrid</td>\n",
        "      <td>Type_C</td>\n",
        "      <td>0</td>\n",
        "      <td>16.0</td>\n",
        "      <td>2018</td>\n",
        "      <td>10</td>\n",
        "      <td>9</td>\n",
        "    </tr>\n",
        "    <tr>\n",
        "      <th>17</th>\n",
        "      <td>2018-10-10</td>\n",
        "      <td>90001.0</td>\n",
        "      <td>2006</td>\n",
        "      <td>Diesel and Diesel Hybrid</td>\n",
        "      <td>OTHER/UNK</td>\n",
        "      <td>0</td>\n",
        "      <td>23.0</td>\n",
        "      <td>2018</td>\n",
        "      <td>10</td>\n",
        "      <td>10</td>\n",
        "    </tr>\n",
        "  </tbody>\n",
        "</table>\n",
        "</div>"
       ],
       "text/plain": [
        "         date  zipcode modelyear                      fuel       make  \\\n",
        "0  2018-10-01  90000.0      2006                  Gasoline  OTHER/UNK   \n",
        "1  2018-10-01  90001.0      2014                  Gasoline  OTHER/UNK   \n",
        "3  2018-10-01  90000.0      2017                  Gasoline  OTHER/UNK   \n",
        "16 2018-10-09  90001.0      2006  Diesel and Diesel Hybrid     Type_C   \n",
        "17 2018-10-10  90001.0      2006  Diesel and Diesel Hybrid  OTHER/UNK   \n",
        "\n",
        "    lightduty  vehicles  year  month  day  \n",
        "0           1       1.0  2018     10    1  \n",
        "1           1       1.0  2018     10    1  \n",
        "3           1       1.0  2018     10    1  \n",
        "16          0      16.0  2018     10    9  \n",
        "17          0      23.0  2018     10   10  "
       ]
      },
      "execution_count": 31,
      "metadata": {},
      "output_type": "execute_result"
     }
   ],
   "source": [
    "# Confirm that \"lightduty\" has been converted.\n",
    "df.head()"
   ]
  },
  {
   "cell_type": "markdown",
   "metadata": {},
   "source": [
    "#### One-Hot Encoding Categorical Feature Columns\n",
    "\n",
    "Machine learning algorithms expect input vectors and not categorical features. Specifically, they cannot handle text or string values.  Thus, it is often useful to transform categorical features into vectors.\n",
    "\n",
    "One transformation method is to create dummy variables for our categorical features.  Dummy variables are a set of binary (0 or 1) variables that each represent a single class from a categorical feature.  We simply  encode the categorical variable as a one-hot vector, i.e. a vector where only one element is non-zero, or hot.  With one-hot encoding, a categorical feature becomes an array whose size is the number of possible choices for that feature."
   ]
  },
  {
   "cell_type": "markdown",
   "metadata": {},
   "source": [
    "Panda provides a function called \"get_dummies\" to convert a categorical variable into dummy/indicator variables."
   ]
  },
  {
   "cell_type": "code",
   "execution_count": 31,
   "metadata": {},
   "outputs": [
     {
      "data": {
       "text/html": [
        "<div>\n",
        "<style scoped>\n",
        "    .dataframe tbody tr th:only-of-type {\n",
        "        vertical-align: middle;\n",
        "    }\n",
        "\n",
        "    .dataframe tbody tr th {\n",
        "        vertical-align: top;\n",
        "    }\n",
        "\n",
        "    .dataframe thead th {\n",
        "        text-align: right;\n",
        "    }\n",
        "</style>\n",
        "<table border=\"1\" class=\"dataframe\">\n",
        "  <thead>\n",
        "    <tr style=\"text-align: right;\">\n",
        "      <th></th>\n",
        "      <th>zipcode</th>\n",
        "      <th>modelyear_2007</th>\n",
        "      <th>modelyear_2008</th>\n",
        "      <th>modelyear_2009</th>\n",
        "      <th>modelyear_2010</th>\n",
        "      <th>modelyear_2011</th>\n",
        "      <th>modelyear_2012</th>\n",
        "      <th>modelyear_2013</th>\n",
        "      <th>modelyear_2014</th>\n",
        "      <th>modelyear_2015</th>\n",
        "      <th>...</th>\n",
        "      <th>make_Type_P</th>\n",
        "      <th>make_Type_Q</th>\n",
        "      <th>make_Type_R</th>\n",
        "      <th>make_Type_S</th>\n",
        "      <th>make_Type_T</th>\n",
        "      <th>make_Type_U</th>\n",
        "      <th>make_Type_V</th>\n",
        "      <th>make_Type_W</th>\n",
        "      <th>make_Type_X</th>\n",
        "      <th>make_Type_Y</th>\n",
        "    </tr>\n",
        "  </thead>\n",
        "  <tbody>\n",
        "    <tr>\n",
        "      <th>0</th>\n",
        "      <td>90000.0</td>\n",
        "      <td>0</td>\n",
        "      <td>0</td>\n",
        "      <td>0</td>\n",
        "      <td>0</td>\n",
        "      <td>0</td>\n",
        "      <td>0</td>\n",
        "      <td>0</td>\n",
        "      <td>0</td>\n",
        "      <td>0</td>\n",
        "      <td>...</td>\n",
        "      <td>0</td>\n",
        "      <td>0</td>\n",
        "      <td>0</td>\n",
        "      <td>0</td>\n",
        "      <td>0</td>\n",
        "      <td>0</td>\n",
        "      <td>0</td>\n",
        "      <td>0</td>\n",
        "      <td>0</td>\n",
        "      <td>0</td>\n",
        "    </tr>\n",
        "    <tr>\n",
        "      <th>1</th>\n",
        "      <td>90001.0</td>\n",
        "      <td>0</td>\n",
        "      <td>0</td>\n",
        "      <td>0</td>\n",
        "      <td>0</td>\n",
        "      <td>0</td>\n",
        "      <td>0</td>\n",
        "      <td>0</td>\n",
        "      <td>1</td>\n",
        "      <td>0</td>\n",
        "      <td>...</td>\n",
        "      <td>0</td>\n",
        "      <td>0</td>\n",
        "      <td>0</td>\n",
        "      <td>0</td>\n",
        "      <td>0</td>\n",
        "      <td>0</td>\n",
        "      <td>0</td>\n",
        "      <td>0</td>\n",
        "      <td>0</td>\n",
        "      <td>0</td>\n",
        "    </tr>\n",
        "    <tr>\n",
        "      <th>3</th>\n",
        "      <td>90000.0</td>\n",
        "      <td>0</td>\n",
        "      <td>0</td>\n",
        "      <td>0</td>\n",
        "      <td>0</td>\n",
        "      <td>0</td>\n",
        "      <td>0</td>\n",
        "      <td>0</td>\n",
        "      <td>0</td>\n",
        "      <td>0</td>\n",
        "      <td>...</td>\n",
        "      <td>0</td>\n",
        "      <td>0</td>\n",
        "      <td>0</td>\n",
        "      <td>0</td>\n",
        "      <td>0</td>\n",
        "      <td>0</td>\n",
        "      <td>0</td>\n",
        "      <td>0</td>\n",
        "      <td>0</td>\n",
        "      <td>0</td>\n",
        "    </tr>\n",
        "    <tr>\n",
        "      <th>16</th>\n",
        "      <td>90001.0</td>\n",
        "      <td>0</td>\n",
        "      <td>0</td>\n",
        "      <td>0</td>\n",
        "      <td>0</td>\n",
        "      <td>0</td>\n",
        "      <td>0</td>\n",
        "      <td>0</td>\n",
        "      <td>0</td>\n",
        "      <td>0</td>\n",
        "      <td>...</td>\n",
        "      <td>0</td>\n",
        "      <td>0</td>\n",
        "      <td>0</td>\n",
        "      <td>0</td>\n",
        "      <td>0</td>\n",
        "      <td>0</td>\n",
        "      <td>0</td>\n",
        "      <td>0</td>\n",
        "      <td>0</td>\n",
        "      <td>0</td>\n",
        "    </tr>\n",
        "    <tr>\n",
        "      <th>17</th>\n",
        "      <td>90001.0</td>\n",
        "      <td>0</td>\n",
        "      <td>0</td>\n",
        "      <td>0</td>\n",
        "      <td>0</td>\n",
        "      <td>0</td>\n",
        "      <td>0</td>\n",
        "      <td>0</td>\n",
        "      <td>0</td>\n",
        "      <td>0</td>\n",
        "      <td>...</td>\n",
        "      <td>0</td>\n",
        "      <td>0</td>\n",
        "      <td>0</td>\n",
        "      <td>0</td>\n",
        "      <td>0</td>\n",
        "      <td>0</td>\n",
        "      <td>0</td>\n",
        "      <td>0</td>\n",
        "      <td>0</td>\n",
        "      <td>0</td>\n",
        "    </tr>\n",
        "  </tbody>\n",
        "</table>\n",
        "<p>5 rows × 49 columns</p>\n",
        "</div>"
       ],
       "text/plain": [
        "    zipcode  modelyear_2007  modelyear_2008  modelyear_2009  modelyear_2010  \\\n",
        "0   90000.0               0               0               0               0   \n",
        "1   90001.0               0               0               0               0   \n",
        "3   90000.0               0               0               0               0   \n",
        "16  90001.0               0               0               0               0   \n",
        "17  90001.0               0               0               0               0   \n",
        "\n",
        "    modelyear_2011  modelyear_2012  modelyear_2013  modelyear_2014  \\\n",
        "0                0               0               0               0   \n",
        "1                0               0               0               1   \n",
        "3                0               0               0               0   \n",
        "16               0               0               0               0   \n",
        "17               0               0               0               0   \n",
        "\n",
        "    modelyear_2015  ...  make_Type_P  make_Type_Q  make_Type_R  make_Type_S  \\\n",
        "0                0  ...            0            0            0            0   \n",
        "1                0  ...            0            0            0            0   \n",
        "3                0  ...            0            0            0            0   \n",
        "16               0  ...            0            0            0            0   \n",
        "17               0  ...            0            0            0            0   \n",
        "\n",
        "    make_Type_T  make_Type_U  make_Type_V  make_Type_W  make_Type_X  \\\n",
        "0             0            0            0            0            0   \n",
        "1             0            0            0            0            0   \n",
        "3             0            0            0            0            0   \n",
        "16            0            0            0            0            0   \n",
        "17            0            0            0            0            0   \n",
        "\n",
        "    make_Type_Y  \n",
        "0             0  \n",
        "1             0  \n",
        "3             0  \n",
        "16            0  \n",
        "17            0  \n",
        "\n",
        "[5 rows x 49 columns]"
       ]
      },
      "execution_count": 32,
      "metadata": {},
      "output_type": "execute_result"
     }
   ],
   "source": [
    "# Making dummy variables for categorical data with more inputs.  \n",
    "data_dummy = pd.get_dummies(df[['zipcode','modelyear', 'fuel', 'make']], drop_first=True)\n",
    "\n",
    "# Output the first five rows.\n",
    "data_dummy.head()"
   ]
  },
  {
   "cell_type": "code",
   "execution_count": 32,
   "metadata": {},
   "outputs": [
     {
      "data": {
       "text/html": [
        "<div>\n",
        "<style scoped>\n",
        "    .dataframe tbody tr th:only-of-type {\n",
        "        vertical-align: middle;\n",
        "    }\n",
        "\n",
        "    .dataframe tbody tr th {\n",
        "        vertical-align: top;\n",
        "    }\n",
        "\n",
        "    .dataframe thead th {\n",
        "        text-align: right;\n",
        "    }\n",
        "</style>\n",
        "<table border=\"1\" class=\"dataframe\">\n",
        "  <thead>\n",
        "    <tr style=\"text-align: right;\">\n",
        "      <th></th>\n",
        "      <th>date</th>\n",
        "      <th>zipcode</th>\n",
        "      <th>modelyear</th>\n",
        "      <th>fuel</th>\n",
        "      <th>make</th>\n",
        "      <th>lightduty</th>\n",
        "      <th>vehicles</th>\n",
        "      <th>year</th>\n",
        "      <th>month</th>\n",
        "      <th>day</th>\n",
        "      <th>...</th>\n",
        "      <th>make_Type_P</th>\n",
        "      <th>make_Type_Q</th>\n",
        "      <th>make_Type_R</th>\n",
        "      <th>make_Type_S</th>\n",
        "      <th>make_Type_T</th>\n",
        "      <th>make_Type_U</th>\n",
        "      <th>make_Type_V</th>\n",
        "      <th>make_Type_W</th>\n",
        "      <th>make_Type_X</th>\n",
        "      <th>make_Type_Y</th>\n",
        "    </tr>\n",
        "  </thead>\n",
        "  <tbody>\n",
        "    <tr>\n",
        "      <th>0</th>\n",
        "      <td>2018-10-01</td>\n",
        "      <td>90000.0</td>\n",
        "      <td>2006</td>\n",
        "      <td>Gasoline</td>\n",
        "      <td>OTHER/UNK</td>\n",
        "      <td>1</td>\n",
        "      <td>1.0</td>\n",
        "      <td>2018</td>\n",
        "      <td>10</td>\n",
        "      <td>1</td>\n",
        "      <td>...</td>\n",
        "      <td>0</td>\n",
        "      <td>0</td>\n",
        "      <td>0</td>\n",
        "      <td>0</td>\n",
        "      <td>0</td>\n",
        "      <td>0</td>\n",
        "      <td>0</td>\n",
        "      <td>0</td>\n",
        "      <td>0</td>\n",
        "      <td>0</td>\n",
        "    </tr>\n",
        "    <tr>\n",
        "      <th>1</th>\n",
        "      <td>2018-10-01</td>\n",
        "      <td>90001.0</td>\n",
        "      <td>2014</td>\n",
        "      <td>Gasoline</td>\n",
        "      <td>OTHER/UNK</td>\n",
        "      <td>1</td>\n",
        "      <td>1.0</td>\n",
        "      <td>2018</td>\n",
        "      <td>10</td>\n",
        "      <td>1</td>\n",
        "      <td>...</td>\n",
        "      <td>0</td>\n",
        "      <td>0</td>\n",
        "      <td>0</td>\n",
        "      <td>0</td>\n",
        "      <td>0</td>\n",
        "      <td>0</td>\n",
        "      <td>0</td>\n",
        "      <td>0</td>\n",
        "      <td>0</td>\n",
        "      <td>0</td>\n",
        "    </tr>\n",
        "    <tr>\n",
        "      <th>3</th>\n",
        "      <td>2018-10-01</td>\n",
        "      <td>90000.0</td>\n",
        "      <td>2017</td>\n",
        "      <td>Gasoline</td>\n",
        "      <td>OTHER/UNK</td>\n",
        "      <td>1</td>\n",
        "      <td>1.0</td>\n",
        "      <td>2018</td>\n",
        "      <td>10</td>\n",
        "      <td>1</td>\n",
        "      <td>...</td>\n",
        "      <td>0</td>\n",
        "      <td>0</td>\n",
        "      <td>0</td>\n",
        "      <td>0</td>\n",
        "      <td>0</td>\n",
        "      <td>0</td>\n",
        "      <td>0</td>\n",
        "      <td>0</td>\n",
        "      <td>0</td>\n",
        "      <td>0</td>\n",
        "    </tr>\n",
        "    <tr>\n",
        "      <th>16</th>\n",
        "      <td>2018-10-09</td>\n",
        "      <td>90001.0</td>\n",
        "      <td>2006</td>\n",
        "      <td>Diesel and Diesel Hybrid</td>\n",
        "      <td>Type_C</td>\n",
        "      <td>0</td>\n",
        "      <td>16.0</td>\n",
        "      <td>2018</td>\n",
        "      <td>10</td>\n",
        "      <td>9</td>\n",
        "      <td>...</td>\n",
        "      <td>0</td>\n",
        "      <td>0</td>\n",
        "      <td>0</td>\n",
        "      <td>0</td>\n",
        "      <td>0</td>\n",
        "      <td>0</td>\n",
        "      <td>0</td>\n",
        "      <td>0</td>\n",
        "      <td>0</td>\n",
        "      <td>0</td>\n",
        "    </tr>\n",
        "    <tr>\n",
        "      <th>17</th>\n",
        "      <td>2018-10-10</td>\n",
        "      <td>90001.0</td>\n",
        "      <td>2006</td>\n",
        "      <td>Diesel and Diesel Hybrid</td>\n",
        "      <td>OTHER/UNK</td>\n",
        "      <td>0</td>\n",
        "      <td>23.0</td>\n",
        "      <td>2018</td>\n",
        "      <td>10</td>\n",
        "      <td>10</td>\n",
        "      <td>...</td>\n",
        "      <td>0</td>\n",
        "      <td>0</td>\n",
        "      <td>0</td>\n",
        "      <td>0</td>\n",
        "      <td>0</td>\n",
        "      <td>0</td>\n",
        "      <td>0</td>\n",
        "      <td>0</td>\n",
        "      <td>0</td>\n",
        "      <td>0</td>\n",
        "    </tr>\n",
        "  </tbody>\n",
        "</table>\n",
        "<p>5 rows × 59 columns</p>\n",
        "</div>"
       ],
       "text/plain": [
        "         date  zipcode modelyear                      fuel       make  \\\n",
        "0  2018-10-01  90000.0      2006                  Gasoline  OTHER/UNK   \n",
        "1  2018-10-01  90001.0      2014                  Gasoline  OTHER/UNK   \n",
        "3  2018-10-01  90000.0      2017                  Gasoline  OTHER/UNK   \n",
        "16 2018-10-09  90001.0      2006  Diesel and Diesel Hybrid     Type_C   \n",
        "17 2018-10-10  90001.0      2006  Diesel and Diesel Hybrid  OTHER/UNK   \n",
        "\n",
        "    lightduty  vehicles  year  month  day  ...  make_Type_P  make_Type_Q  \\\n",
        "0           1       1.0  2018     10    1  ...            0            0   \n",
        "1           1       1.0  2018     10    1  ...            0            0   \n",
        "3           1       1.0  2018     10    1  ...            0            0   \n",
        "16          0      16.0  2018     10    9  ...            0            0   \n",
        "17          0      23.0  2018     10   10  ...            0            0   \n",
        "\n",
        "    make_Type_R  make_Type_S  make_Type_T  make_Type_U  make_Type_V  \\\n",
        "0             0            0            0            0            0   \n",
        "1             0            0            0            0            0   \n",
        "3             0            0            0            0            0   \n",
        "16            0            0            0            0            0   \n",
        "17            0            0            0            0            0   \n",
        "\n",
        "    make_Type_W  make_Type_X  make_Type_Y  \n",
        "0             0            0            0  \n",
        "1             0            0            0  \n",
        "3             0            0            0  \n",
        "16            0            0            0  \n",
        "17            0            0            0  \n",
        "\n",
        "[5 rows x 59 columns]"
       ]
      },
      "execution_count": 33,
      "metadata": {},
      "output_type": "execute_result"
     }
   ],
   "source": [
    "# Merging (concatenate) original data frame with 'dummy' dataframe.\n",
    "# TODO 4a\n",
    "df = pd.concat([df,data_dummy], axis=1)\n",
    "df.head()"
   ]
  },
  {
   "cell_type": "code",
   "execution_count": 33,
   "metadata": {},
   "outputs": [],
   "source": [
    "# Dropping attributes for which we made dummy variables.  Let's also drop the Date column.\n",
    "# TODO 4b\n",
    "df = df.drop(['date','zipcode','modelyear', 'fuel', 'make'], axis=1)\n"
   ]
  },
  {
   "cell_type": "code",
   "execution_count": 34,
   "metadata": {},
   "outputs": [
     {
      "data": {
       "text/html": [
        "<div>\n",
        "<style scoped>\n",
        "    .dataframe tbody tr th:only-of-type {\n",
        "        vertical-align: middle;\n",
        "    }\n",
        "\n",
        "    .dataframe tbody tr th {\n",
        "        vertical-align: top;\n",
        "    }\n",
        "\n",
        "    .dataframe thead th {\n",
        "        text-align: right;\n",
        "    }\n",
        "</style>\n",
        "<table border=\"1\" class=\"dataframe\">\n",
        "  <thead>\n",
        "    <tr style=\"text-align: right;\">\n",
        "      <th></th>\n",
        "      <th>lightduty</th>\n",
        "      <th>vehicles</th>\n",
        "      <th>year</th>\n",
        "      <th>month</th>\n",
        "      <th>day</th>\n",
        "      <th>modelyear_2007</th>\n",
        "      <th>modelyear_2008</th>\n",
        "      <th>modelyear_2009</th>\n",
        "      <th>modelyear_2010</th>\n",
        "      <th>modelyear_2011</th>\n",
        "      <th>...</th>\n",
        "      <th>make_Type_P</th>\n",
        "      <th>make_Type_Q</th>\n",
        "      <th>make_Type_R</th>\n",
        "      <th>make_Type_S</th>\n",
        "      <th>make_Type_T</th>\n",
        "      <th>make_Type_U</th>\n",
        "      <th>make_Type_V</th>\n",
        "      <th>make_Type_W</th>\n",
        "      <th>make_Type_X</th>\n",
        "      <th>make_Type_Y</th>\n",
        "    </tr>\n",
        "  </thead>\n",
        "  <tbody>\n",
        "    <tr>\n",
        "      <th>0</th>\n",
        "      <td>1</td>\n",
        "      <td>1.0</td>\n",
        "      <td>2018</td>\n",
        "      <td>10</td>\n",
        "      <td>1</td>\n",
        "      <td>0</td>\n",
        "      <td>0</td>\n",
        "      <td>0</td>\n",
        "      <td>0</td>\n",
        "      <td>0</td>\n",
        "      <td>...</td>\n",
        "      <td>0</td>\n",
        "      <td>0</td>\n",
        "      <td>0</td>\n",
        "      <td>0</td>\n",
        "      <td>0</td>\n",
        "      <td>0</td>\n",
        "      <td>0</td>\n",
        "      <td>0</td>\n",
        "      <td>0</td>\n",
        "      <td>0</td>\n",
        "    </tr>\n",
        "    <tr>\n",
        "      <th>1</th>\n",
        "      <td>1</td>\n",
        "      <td>1.0</td>\n",
        "      <td>2018</td>\n",
        "      <td>10</td>\n",
        "      <td>1</td>\n",
        "      <td>0</td>\n",
        "      <td>0</td>\n",
        "      <td>0</td>\n",
        "      <td>0</td>\n",
        "      <td>0</td>\n",
        "      <td>...</td>\n",
        "      <td>0</td>\n",
        "      <td>0</td>\n",
        "      <td>0</td>\n",
        "      <td>0</td>\n",
        "      <td>0</td>\n",
        "      <td>0</td>\n",
        "      <td>0</td>\n",
        "      <td>0</td>\n",
        "      <td>0</td>\n",
        "      <td>0</td>\n",
        "    </tr>\n",
        "    <tr>\n",
        "      <th>3</th>\n",
        "      <td>1</td>\n",
        "      <td>1.0</td>\n",
        "      <td>2018</td>\n",
        "      <td>10</td>\n",
        "      <td>1</td>\n",
        "      <td>0</td>\n",
        "      <td>0</td>\n",
        "      <td>0</td>\n",
        "      <td>0</td>\n",
        "      <td>0</td>\n",
        "      <td>...</td>\n",
        "      <td>0</td>\n",
        "      <td>0</td>\n",
        "      <td>0</td>\n",
        "      <td>0</td>\n",
        "      <td>0</td>\n",
        "      <td>0</td>\n",
        "      <td>0</td>\n",
        "      <td>0</td>\n",
        "      <td>0</td>\n",
        "      <td>0</td>\n",
        "    </tr>\n",
        "    <tr>\n",
        "      <th>16</th>\n",
        "      <td>0</td>\n",
        "      <td>16.0</td>\n",
        "      <td>2018</td>\n",
        "      <td>10</td>\n",
        "      <td>9</td>\n",
        "      <td>0</td>\n",
        "      <td>0</td>\n",
        "      <td>0</td>\n",
        "      <td>0</td>\n",
        "      <td>0</td>\n",
        "      <td>...</td>\n",
        "      <td>0</td>\n",
        "      <td>0</td>\n",
        "      <td>0</td>\n",
        "      <td>0</td>\n",
        "      <td>0</td>\n",
        "      <td>0</td>\n",
        "      <td>0</td>\n",
        "      <td>0</td>\n",
        "      <td>0</td>\n",
        "      <td>0</td>\n",
        "    </tr>\n",
        "    <tr>\n",
        "      <th>17</th>\n",
        "      <td>0</td>\n",
        "      <td>23.0</td>\n",
        "      <td>2018</td>\n",
        "      <td>10</td>\n",
        "      <td>10</td>\n",
        "      <td>0</td>\n",
        "      <td>0</td>\n",
        "      <td>0</td>\n",
        "      <td>0</td>\n",
        "      <td>0</td>\n",
        "      <td>...</td>\n",
        "      <td>0</td>\n",
        "      <td>0</td>\n",
        "      <td>0</td>\n",
        "      <td>0</td>\n",
        "      <td>0</td>\n",
        "      <td>0</td>\n",
        "      <td>0</td>\n",
        "      <td>0</td>\n",
        "      <td>0</td>\n",
        "      <td>0</td>\n",
        "    </tr>\n",
        "  </tbody>\n",
        "</table>\n",
        "<p>5 rows × 53 columns</p>\n",
        "</div>"
       ],
       "text/plain": [
        "    lightduty  vehicles  year  month  day  modelyear_2007  modelyear_2008  \\\n",
        "0           1       1.0  2018     10    1               0               0   \n",
        "1           1       1.0  2018     10    1               0               0   \n",
        "3           1       1.0  2018     10    1               0               0   \n",
        "16          0      16.0  2018     10    9               0               0   \n",
        "17          0      23.0  2018     10   10               0               0   \n",
        "\n",
        "    modelyear_2009  modelyear_2010  modelyear_2011  ...  make_Type_P  \\\n",
        "0                0               0               0  ...            0   \n",
        "1                0               0               0  ...            0   \n",
        "3                0               0               0  ...            0   \n",
        "16               0               0               0  ...            0   \n",
        "17               0               0               0  ...            0   \n",
        "\n",
        "    make_Type_Q  make_Type_R  make_Type_S  make_Type_T  make_Type_U  \\\n",
        "0             0            0            0            0            0   \n",
        "1             0            0            0            0            0   \n",
        "3             0            0            0            0            0   \n",
        "16            0            0            0            0            0   \n",
        "17            0            0            0            0            0   \n",
        "\n",
        "    make_Type_V  make_Type_W  make_Type_X  make_Type_Y  \n",
        "0             0            0            0            0  \n",
        "1             0            0            0            0  \n",
        "3             0            0            0            0  \n",
        "16            0            0            0            0  \n",
        "17            0            0            0            0  \n",
        "\n",
        "[5 rows x 53 columns]"
       ]
      },
      "execution_count": 35,
      "metadata": {},
      "output_type": "execute_result"
     }
   ],
   "source": [
    "# Confirm that 'zipcode','modelyear', 'fuel', and 'make' have been dropped.\n",
    "df.head()"
   ]
  },
  {
   "cell_type": "markdown",
   "metadata": {},
   "source": [
    "#### Data Quality Issue #5:  \n",
    "##### Temporal Feature Columns\n",
    "\n",
    "Our dataset now contains year, month, and day feature columns.  Let's convert the month and day feature columns to meaningful representations as a way to get us thinking about changing temporal features -- as they are sometimes overlooked.  \n",
    "\n",
    "Note that the Feature Engineering course in this Specialization will provide more depth on methods to handle year, month, day, and hour feature columns.\n"
   ]
  },
  {
   "cell_type": "code",
   "execution_count": 35,
   "metadata": {},
   "outputs": [
     {
      "name": "stdout",
      "output_type": "stream",
      "text": [
       "Unique values of month: [10 11 12  1  2  3]\n",
       "Unique values of day: [ 1  9 10 11 12 13 14 15 16 17 18 19 20 21 22 23 24 25 26 27 28 29 30 31\n",
       "  2  3  4  5  6  7  8]\n",
       "Unique values of year: [2018 2019]\n"
      ]
     }
   ],
   "source": [
    "# Let's print the unique values for \"month\", \"day\" and \"year\" in our dataset. \n",
    "print ('Unique values of month:',df.month.unique())\n",
    "print ('Unique values of day:',df.day.unique())\n",
    "print ('Unique values of year:',df.year.unique())"
   ]
  },
  {
   "cell_type": "markdown",
   "metadata": {},
   "source": [
    "Don't worry, this is the last time we will use this code, as you can develop an input pipeline to address these temporal feature columns in TensorFlow and Keras - and it is much easier!  But, sometimes you need to appreciate what you're not going to encounter as you move through the course!\n",
    "\n",
    "Run the cell to view the output."
   ]
  },
  {
   "cell_type": "code",
   "execution_count": 36,
   "metadata": {},
   "outputs": [],
   "source": [
    "# Here we map each temporal variable onto a circle such that the lowest value for that variable appears right next to the largest value. We compute the x- and y- component of that point using the sin and cos trigonometric functions.\n",
    "df['day_sin'] = np.sin(df.day*(2.*np.pi/31))\n",
    "df['day_cos'] = np.cos(df.day*(2.*np.pi/31))\n",
    "df['month_sin'] = np.sin((df.month-1)*(2.*np.pi/12))\n",
    "df['month_cos'] = np.cos((df.month-1)*(2.*np.pi/12))\n",
    "\n",
    "# Let's drop month, and day\n",
    "# TODO 5\n",
    "df = df.drop(['month','day','year'], axis=1)"
   ]
  },
  {
   "cell_type": "code",
   "execution_count": 37,
   "metadata": {},
   "outputs": [
     {
      "data": {
       "text/html": [
        "<div>\n",
        "<style scoped>\n",
        "    .dataframe tbody tr th:only-of-type {\n",
        "        vertical-align: middle;\n",
        "    }\n",
        "\n",
        "    .dataframe tbody tr th {\n",
        "        vertical-align: top;\n",
        "    }\n",
        "\n",
        "    .dataframe thead th {\n",
        "        text-align: right;\n",
        "    }\n",
        "</style>\n",
        "<table border=\"1\" class=\"dataframe\">\n",
        "  <thead>\n",
        "    <tr style=\"text-align: right;\">\n",
        "      <th></th>\n",
        "      <th>lightduty</th>\n",
        "      <th>vehicles</th>\n",
        "      <th>modelyear_2007</th>\n",
        "      <th>modelyear_2008</th>\n",
        "      <th>modelyear_2009</th>\n",
        "      <th>modelyear_2010</th>\n",
        "      <th>modelyear_2011</th>\n",
        "      <th>modelyear_2012</th>\n",
        "      <th>modelyear_2013</th>\n",
        "      <th>modelyear_2014</th>\n",
        "      <th>...</th>\n",
        "      <th>make_Type_T</th>\n",
        "      <th>make_Type_U</th>\n",
        "      <th>make_Type_V</th>\n",
        "      <th>make_Type_W</th>\n",
        "      <th>make_Type_X</th>\n",
        "      <th>make_Type_Y</th>\n",
        "      <th>day_sin</th>\n",
        "      <th>day_cos</th>\n",
        "      <th>month_sin</th>\n",
        "      <th>month_cos</th>\n",
        "    </tr>\n",
        "  </thead>\n",
        "  <tbody>\n",
        "    <tr>\n",
        "      <th>495</th>\n",
        "      <td>1</td>\n",
        "      <td>58.0</td>\n",
        "      <td>0</td>\n",
        "      <td>0</td>\n",
        "      <td>0</td>\n",
        "      <td>1</td>\n",
        "      <td>0</td>\n",
        "      <td>0</td>\n",
        "      <td>0</td>\n",
        "      <td>0</td>\n",
        "      <td>...</td>\n",
        "      <td>0</td>\n",
        "      <td>0</td>\n",
        "      <td>0</td>\n",
        "      <td>0</td>\n",
        "      <td>0</td>\n",
        "      <td>0</td>\n",
        "      <td>0.724793</td>\n",
        "      <td>0.688967</td>\n",
        "      <td>-0.5</td>\n",
        "      <td>0.866025</td>\n",
        "    </tr>\n",
        "    <tr>\n",
        "      <th>496</th>\n",
        "      <td>1</td>\n",
        "      <td>45.0</td>\n",
        "      <td>0</td>\n",
        "      <td>0</td>\n",
        "      <td>0</td>\n",
        "      <td>1</td>\n",
        "      <td>0</td>\n",
        "      <td>0</td>\n",
        "      <td>0</td>\n",
        "      <td>0</td>\n",
        "      <td>...</td>\n",
        "      <td>0</td>\n",
        "      <td>0</td>\n",
        "      <td>0</td>\n",
        "      <td>0</td>\n",
        "      <td>0</td>\n",
        "      <td>0</td>\n",
        "      <td>0.848644</td>\n",
        "      <td>0.528964</td>\n",
        "      <td>-0.5</td>\n",
        "      <td>0.866025</td>\n",
        "    </tr>\n",
        "    <tr>\n",
        "      <th>497</th>\n",
        "      <td>1</td>\n",
        "      <td>82.0</td>\n",
        "      <td>0</td>\n",
        "      <td>0</td>\n",
        "      <td>0</td>\n",
        "      <td>1</td>\n",
        "      <td>0</td>\n",
        "      <td>0</td>\n",
        "      <td>0</td>\n",
        "      <td>0</td>\n",
        "      <td>...</td>\n",
        "      <td>0</td>\n",
        "      <td>0</td>\n",
        "      <td>0</td>\n",
        "      <td>0</td>\n",
        "      <td>0</td>\n",
        "      <td>0</td>\n",
        "      <td>0.937752</td>\n",
        "      <td>0.347305</td>\n",
        "      <td>-0.5</td>\n",
        "      <td>0.866025</td>\n",
        "    </tr>\n",
        "    <tr>\n",
        "      <th>498</th>\n",
        "      <td>1</td>\n",
        "      <td>12.0</td>\n",
        "      <td>0</td>\n",
        "      <td>0</td>\n",
        "      <td>0</td>\n",
        "      <td>1</td>\n",
        "      <td>0</td>\n",
        "      <td>0</td>\n",
        "      <td>0</td>\n",
        "      <td>0</td>\n",
        "      <td>...</td>\n",
        "      <td>0</td>\n",
        "      <td>0</td>\n",
        "      <td>0</td>\n",
        "      <td>0</td>\n",
        "      <td>0</td>\n",
        "      <td>0</td>\n",
        "      <td>0.988468</td>\n",
        "      <td>0.151428</td>\n",
        "      <td>-0.5</td>\n",
        "      <td>0.866025</td>\n",
        "    </tr>\n",
        "  </tbody>\n",
        "</table>\n",
        "<p>4 rows × 54 columns</p>\n",
        "</div>"
       ],
       "text/plain": [
        "     lightduty  vehicles  modelyear_2007  modelyear_2008  modelyear_2009  \\\n",
        "495          1      58.0               0               0               0   \n",
        "496          1      45.0               0               0               0   \n",
        "497          1      82.0               0               0               0   \n",
        "498          1      12.0               0               0               0   \n",
        "\n",
        "     modelyear_2010  modelyear_2011  modelyear_2012  modelyear_2013  \\\n",
        "495               1               0               0               0   \n",
        "496               1               0               0               0   \n",
        "497               1               0               0               0   \n",
        "498               1               0               0               0   \n",
        "\n",
        "     modelyear_2014  ...  make_Type_T  make_Type_U  make_Type_V  make_Type_W  \\\n",
        "495               0  ...            0            0            0            0   \n",
        "496               0  ...            0            0            0            0   \n",
        "497               0  ...            0            0            0            0   \n",
        "498               0  ...            0            0            0            0   \n",
        "\n",
        "     make_Type_X  make_Type_Y   day_sin   day_cos  month_sin  month_cos  \n",
        "495            0            0  0.724793  0.688967       -0.5   0.866025  \n",
        "496            0            0  0.848644  0.528964       -0.5   0.866025  \n",
        "497            0            0  0.937752  0.347305       -0.5   0.866025  \n",
        "498            0            0  0.988468  0.151428       -0.5   0.866025  \n",
        "\n",
        "[4 rows x 54 columns]"
       ]
      },
      "execution_count": 38,
      "metadata": {},
      "output_type": "execute_result"
     }
   ],
   "source": [
    "# scroll left to see the converted month and day coluumns.\n",
    "df.tail(4)"
   ]
  },
  {
   "cell_type": "markdown",
   "metadata": {},
   "source": [
    "### Conclusion\n",
    "\n",
    "This notebook introduced a few concepts to improve data quality.  We resolved missing values, converted the Date feature column to a datetime format, renamed feature columns, removed a value from a feature column, created one-hot encoding features, and converted temporal features to meaningful representations.  By the end of our lab, we gained an understanding as to why data should be \"cleaned\" and \"pre-processed\" before input into a machine learning model."
   ]
  },
  {
   "cell_type": "markdown",
   "metadata": {},
   "source": [
    "Copyright 2021 Google Inc.\n",
    "Licensed under the Apache License, Version 2.0 (the \"License\"); you may not use this file except in compliance with the License. You may obtain a copy of the License at\n",
    "http://www.apache.org/licenses/LICENSE-2.0\n",
    "Unless required by applicable law or agreed to in writing, software distributed under the License is distributed on an \"AS IS\" BASIS, WITHOUT WARRANTIES OR CONDITIONS OF ANY KIND, either express or implied. See the License for the specific language governing permissions and limitations under the License."
   ]
  }
 ],
 "metadata": {
  "colab": {
   "collapsed_sections": [],
   "name": "Basic Feature Engineering in Keras.ipynb",
   "provenance": [],
   "toc_visible": true
  },
  "kernelspec": {
   "display_name": "Python 3",
   "language": "python",
   "name": "python3"
  },
  "language_info": {
   "codemirror_mode": {
    "name": "ipython",
    "version": 3
   },
   "file_extension": ".py",
   "mimetype": "text/x-python",
   "name": "python",
   "nbconvert_exporter": "python",
   "pygments_lexer": "ipython3",
   "version": "3.7.12"
  }
 },
 "nbformat": 4,
 "nbformat_minor": 4
}

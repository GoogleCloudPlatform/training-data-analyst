{
 "cells": [
  {
   "cell_type": "markdown",
   "metadata": {
    "colab_type": "text",
    "id": "rNdWfPXCjTjY"
   },
   "source": [
    "# Reviewing Learning Curves\n",
    "\n",
    "### Learning objectives\n",
    "\n",
    "1. Build and train a Keras Sequential model.\n",
    "2. Specify various learning rates to a model.\n",
    "3. Visualize the loss curves.\n",
    "\n",
    "\n",
    "## Introduction \n",
    "\n",
    "\n",
    "In this notebook, you observe learning curve changes. You use the Keras Sequential Model to build an ML model to predict housing prices.\n",
    "\n",
    "A learning curve is a plot of model learning performance over experience or time.\n",
    "\n",
    "Learning curves are a widely used diagnostic tool in machine learning for algorithms that learn from a training dataset incrementally. The model can be evaluated on the training dataset and on a hold out validation dataset after each update during training and plots of the measured performance can created to show learning curves. Reviewing learning curves of models during training can be used to diagnose problems with learning, such as an underfit or overfit model, as well as whether the training and validation datasets are suitably representative.\n",
    "\n",
    "Adam is an optimization algorithm that can be used instead of the classical stochastic gradient descent procedure to update network weights iterative based in training data. [How to use Learning Curves to Diagnose Machine Learning Model Performance](https://machinelearningmastery.com/learning-curves-for-diagnosing-machine-learning-model-performance/#:~:text=A%20learning%20curve%20is%20a,from%20a%20training%20dataset%20incrementally.&text=Learning%20curves%20are%20plots%20that,time%20in%20terms%20of%20experience).\n",
    "\n",
    "Each learning objective will correspond to a __#TODO__ in the [student lab notebook](../labs/learning_rate.ipynb) -- try to complete that notebook first before reviewing this solution notebook.\n"
   ]
  },
  {
   "cell_type": "markdown",
   "metadata": {
    "colab_type": "text",
    "id": "VxyBFc_kKazA"
   },
   "source": [
    "Start by importing the necessary libraries for this lab."
   ]
  },
  {
   "cell_type": "code",
   "execution_count": 23,
   "metadata": {},
   "outputs": [],
   "source": [
    "# Use the chown command to change the ownership of repository to user\n",
    "!sudo chown -R jupyter:jupyter /home/jupyter/training-data-analyst"
   ]
  },
  {
   "cell_type": "code",
   "execution_count": 24,
   "metadata": {},
   "outputs": [
    {
     "name": "stdout",
     "output_type": "stream",
     "text": [
      "Requirement already satisfied: sklearn in /home/jupyter/.local/lib/python3.5/site-packages (0.0)\n",
      "Requirement already satisfied: scikit-learn in /usr/local/lib/python3.5/site-packages (from sklearn) (0.19.2)\n",
      "Requirement already satisfied: pydaal in /usr/local/lib/python3.5/dist-packages (from scikit-learn->sklearn) (2019.0.0.20180713)\n",
      "Requirement already satisfied: intel-scipy in /usr/local/lib/python3.5/dist-packages (from scikit-learn->sklearn) (1.1.0)\n",
      "Requirement already satisfied: daal==2019.* in /usr/local/lib/python3.5/dist-packages (from pydaal->scikit-learn->sklearn) (2019.0)\n",
      "Requirement already satisfied: intel-numpy in /usr/local/lib/python3.5/dist-packages (from pydaal->scikit-learn->sklearn) (1.15.1)\n",
      "Requirement already satisfied: tbb4py==2019.* in /usr/local/lib/python3.5/dist-packages (from pydaal->scikit-learn->sklearn) (2019.0)\n",
      "Requirement already satisfied: tbb==2019.* in /usr/local/lib/python3.5/dist-packages (from daal==2019.*->pydaal->scikit-learn->sklearn) (2019.0)\n",
      "Requirement already satisfied: mkl in /usr/local/lib/python3.5/dist-packages (from intel-numpy->pydaal->scikit-learn->sklearn) (2019.0)\n",
      "Requirement already satisfied: mkl-fft in /usr/local/lib/python3.5/dist-packages (from intel-numpy->pydaal->scikit-learn->sklearn) (1.0.6)\n",
      "Requirement already satisfied: icc-rt in /usr/local/lib/python3.5/dist-packages (from intel-numpy->pydaal->scikit-learn->sklearn) (2020.0.133)\n",
      "Requirement already satisfied: mkl-random in /usr/local/lib/python3.5/dist-packages (from intel-numpy->pydaal->scikit-learn->sklearn) (1.0.1.1)\n",
      "Requirement already satisfied: intel-openmp in /usr/local/lib/python3.5/dist-packages (from mkl->intel-numpy->pydaal->scikit-learn->sklearn) (2020.0.133)\n",
      "\u001b[33mWARNING: You are using pip version 20.1; however, version 20.2.3 is available.\n",
      "You should consider upgrading via the '/usr/bin/python3 -m pip install --upgrade pip' command.\u001b[0m\n"
     ]
    }
   ],
   "source": [
    "# Install Sklearn\n",
    "!python3 -m pip install --user sklearn"
   ]
  },
  {
   "cell_type": "code",
   "execution_count": 26,
   "metadata": {
    "colab": {},
    "colab_type": "code",
    "id": "9dEreb4QKizj"
   },
   "outputs": [
    {
     "name": "stdout",
     "output_type": "stream",
     "text": [
      "TensorFlow version:  2.5.0\n"
     ]
    }
   ],
   "source": [
    "# The OS module in python provides functions for interacting with the operating system\n",
    "import os\n",
    "import tensorflow.keras\n",
    "\n",
    "# The matplotlib module provides all the fuctionalities for visualizing model\n",
    "import matplotlib.pyplot as plt\n",
    "# Here we'll import data processing libraries like Pandas and Tensorflow\n",
    "import pandas as pd\n",
    "import tensorflow as tf\n",
    "\n",
    "from tensorflow import feature_column as fc\n",
    "from tensorflow.keras import layers\n",
    "from tensorflow import keras\n",
    "from tensorflow.keras import layers\n",
    "#from keras.optimizers import Adam\n",
    "#from keras.optimizers import SGD\n",
    "\n",
    "from sklearn.model_selection import train_test_split\n",
    "from tensorflow.keras.utils import plot_model\n",
    "\n",
    "# Here we'll show the currently installed version of TensorFlow\n",
    "print(\"TensorFlow version: \",tf.version.VERSION)"
   ]
  },
  {
   "cell_type": "markdown",
   "metadata": {},
   "source": [
    "Many of the Google Machine Learning Courses Programming Exercises use the  [California Housing Dataset](https://developers.google.com/machine-learning/crash-course/california-housing-data-description\n",
    "), which contains data drawn from the 1990 U.S. Census.  Our lab dataset has been pre-processed so that there are no missing values.\n",
    "\n",
    "First, let's download the raw .csv data by copying the data from a cloud storage bucket.\n"
   ]
  },
  {
   "cell_type": "code",
   "execution_count": 27,
   "metadata": {},
   "outputs": [],
   "source": [
    "# Create a directory for storing the dataset\n",
    "if not os.path.isdir(\"../data\"):\n",
    "    os.makedirs(\"../data\")"
   ]
  },
  {
   "cell_type": "code",
   "execution_count": 18,
   "metadata": {},
   "outputs": [
    {
     "name": "stdout",
     "output_type": "stream",
     "text": [
      "Copying gs://cloud-training-demos/feat_eng/housing/housing_pre-proc.csv...\n",
      "/ [1 files][  1.4 MiB/  1.4 MiB] \n",
      "Operation completed over 1 objects/1.4 MiB.\n"
     ]
    }
   ],
   "source": [
    "# The `gcloud storage cp` command will Copy the file from Google Cloud Storage in the required directory\n",    "!gcloud storage cp gs://cloud-training-demos/feat_eng/housing/housing_pre-proc.csv ../data"   ]
  },
  {
   "cell_type": "markdown",
   "metadata": {
    "colab_type": "text",
    "id": "lM6-n6xntv3t"
   },
   "source": [
    "Now, let's read in the dataset just copied from the cloud storage bucket and create a Pandas dataframe."
   ]
  },
  {
   "cell_type": "code",
   "execution_count": 19,
   "metadata": {
    "colab": {
     "base_uri": "https://localhost:8080/",
     "height": 222
    },
    "colab_type": "code",
    "id": "REZ57BXCLdfG",
    "outputId": "a6ef2eda-c7eb-4e2d-92e4-e7fcaa20b0af"
   },
   "outputs": [
    {
     "data": {
      "text/html": [
       "<div>\n",
       "<style scoped>\n",
       "    .dataframe tbody tr th:only-of-type {\n",
       "        vertical-align: middle;\n",
       "    }\n",
       "\n",
       "    .dataframe tbody tr th {\n",
       "        vertical-align: top;\n",
       "    }\n",
       "\n",
       "    .dataframe thead th {\n",
       "        text-align: right;\n",
       "    }\n",
       "</style>\n",
       "<table border=\"1\" class=\"dataframe\">\n",
       "  <thead>\n",
       "    <tr style=\"text-align: right;\">\n",
       "      <th></th>\n",
       "      <th>longitude</th>\n",
       "      <th>latitude</th>\n",
       "      <th>housing_median_age</th>\n",
       "      <th>total_rooms</th>\n",
       "      <th>total_bedrooms</th>\n",
       "      <th>population</th>\n",
       "      <th>households</th>\n",
       "      <th>median_income</th>\n",
       "      <th>median_house_value</th>\n",
       "      <th>ocean_proximity</th>\n",
       "    </tr>\n",
       "  </thead>\n",
       "  <tbody>\n",
       "    <tr>\n",
       "      <th>0</th>\n",
       "      <td>-122.23</td>\n",
       "      <td>37.88</td>\n",
       "      <td>41.0</td>\n",
       "      <td>880.0</td>\n",
       "      <td>129.0</td>\n",
       "      <td>322.0</td>\n",
       "      <td>126.0</td>\n",
       "      <td>8.3252</td>\n",
       "      <td>452600.0</td>\n",
       "      <td>NEAR BAY</td>\n",
       "    </tr>\n",
       "    <tr>\n",
       "      <th>1</th>\n",
       "      <td>-122.22</td>\n",
       "      <td>37.86</td>\n",
       "      <td>21.0</td>\n",
       "      <td>7099.0</td>\n",
       "      <td>1106.0</td>\n",
       "      <td>2401.0</td>\n",
       "      <td>1138.0</td>\n",
       "      <td>8.3014</td>\n",
       "      <td>358500.0</td>\n",
       "      <td>NEAR BAY</td>\n",
       "    </tr>\n",
       "    <tr>\n",
       "      <th>2</th>\n",
       "      <td>-122.24</td>\n",
       "      <td>37.85</td>\n",
       "      <td>52.0</td>\n",
       "      <td>1467.0</td>\n",
       "      <td>190.0</td>\n",
       "      <td>496.0</td>\n",
       "      <td>177.0</td>\n",
       "      <td>7.2574</td>\n",
       "      <td>352100.0</td>\n",
       "      <td>NEAR BAY</td>\n",
       "    </tr>\n",
       "    <tr>\n",
       "      <th>3</th>\n",
       "      <td>-122.25</td>\n",
       "      <td>37.85</td>\n",
       "      <td>52.0</td>\n",
       "      <td>1274.0</td>\n",
       "      <td>235.0</td>\n",
       "      <td>558.0</td>\n",
       "      <td>219.0</td>\n",
       "      <td>5.6431</td>\n",
       "      <td>341300.0</td>\n",
       "      <td>NEAR BAY</td>\n",
       "    </tr>\n",
       "    <tr>\n",
       "      <th>4</th>\n",
       "      <td>-122.25</td>\n",
       "      <td>37.85</td>\n",
       "      <td>52.0</td>\n",
       "      <td>1627.0</td>\n",
       "      <td>280.0</td>\n",
       "      <td>565.0</td>\n",
       "      <td>259.0</td>\n",
       "      <td>3.8462</td>\n",
       "      <td>342200.0</td>\n",
       "      <td>NEAR BAY</td>\n",
       "    </tr>\n",
       "  </tbody>\n",
       "</table>\n",
       "</div>"
      ],
      "text/plain": [
       "   longitude  latitude  housing_median_age  total_rooms  total_bedrooms  \\\n",
       "0    -122.23     37.88                41.0        880.0           129.0   \n",
       "1    -122.22     37.86                21.0       7099.0          1106.0   \n",
       "2    -122.24     37.85                52.0       1467.0           190.0   \n",
       "3    -122.25     37.85                52.0       1274.0           235.0   \n",
       "4    -122.25     37.85                52.0       1627.0           280.0   \n",
       "\n",
       "   population  households  median_income  median_house_value ocean_proximity  \n",
       "0       322.0       126.0         8.3252            452600.0        NEAR BAY  \n",
       "1      2401.0      1138.0         8.3014            358500.0        NEAR BAY  \n",
       "2       496.0       177.0         7.2574            352100.0        NEAR BAY  \n",
       "3       558.0       219.0         5.6431            341300.0        NEAR BAY  \n",
       "4       565.0       259.0         3.8462            342200.0        NEAR BAY  "
      ]
     },
     "execution_count": 19,
     "metadata": {},
     "output_type": "execute_result"
    }
   ],
   "source": [
    "# Reading `housing_pre-proc.csv` file using the read_csv() function included in the pandas library\n",
    "housing_df = pd.read_csv('../data/housing_pre-proc.csv', error_bad_lines=False)\n",
    "# Output the first five rows\n",
    "housing_df.head()"
   ]
  },
  {
   "cell_type": "markdown",
   "metadata": {},
   "source": [
    "We can use .describe() to see some summary statistics for the numeric fields in our dataframe. Note, for example, the count row and corresponding columns. The count shows 20433.000000 for all feature columns. Thus, there are no missing values."
   ]
  },
  {
   "cell_type": "markdown",
   "metadata": {
    "colab_type": "text",
    "id": "u0zhLtQqMPem"
   },
   "source": [
    "####  Split the dataset for ML\n",
    "\n",
    "The dataset we loaded was a single CSV file. We will split this into train, validation, and test sets.\n"
   ]
  },
  {
   "cell_type": "code",
   "execution_count": 20,
   "metadata": {
    "colab": {
     "base_uri": "https://localhost:8080/",
     "height": 69
    },
    "colab_type": "code",
    "id": "YEOpw7LhMYsI",
    "outputId": "6161a660-7133-465a-d754-d7acae2b68c8"
   },
   "outputs": [
    {
     "name": "stdout",
     "output_type": "stream",
     "text": [
      "13076 train examples\n",
      "3270 validation examples\n",
      "4087 test examples\n"
     ]
    }
   ],
   "source": [
    "train, test = train_test_split(housing_df, test_size=0.2)\n",
    "train, val = train_test_split(train, test_size=0.2)\n",
    "\n",
    "# Let's output the count of `train`, `val` and `test`\n",
    "print(len(train), 'train examples')\n",
    "print(len(val), 'validation examples')\n",
    "print(len(test), 'test examples')\n",
    "\n",
    "# The `to_csv()` method will write object to a csv file.\n",
    "train.to_csv('../data/housing-train.csv', encoding='utf-8', index=False)\n",
    "val.to_csv('../data/housing-val.csv', encoding='utf-8', index=False)\n",
    "test.to_csv('../data/housing-test.csv', encoding='utf-8', index=False)"
   ]
  },
  {
   "cell_type": "code",
   "execution_count": 21,
   "metadata": {},
   "outputs": [],
   "source": [
    "# A utility method to create a tf.data dataset from a Pandas Dataframe\n",
    "\n",
    "def df_to_dataset(dataframe, shuffle=True, batch_size=32):\n",
    "    dataframe = dataframe.copy()\n",
    "    labels = dataframe.pop('median_house_value')\n",
    "    ds = tf.data.Dataset.from_tensor_slices((dict(dataframe), labels))\n",
    "    if shuffle:\n",
    "        ds = ds.shuffle(buffer_size=len(dataframe))\n",
    "    ds = ds.batch(batch_size)\n",
    "    return ds\n",
    "\n",
    "# Next we initialize the training and validation datasets.\n",
    "batch_size = 32\n",
    "train_ds = df_to_dataset(train)\n",
    "val_ds = df_to_dataset(val, shuffle=False, batch_size=batch_size)\n",
    "\n",
    "# Input Pipeline\n",
    "numeric_cols = ['longitude', 'latitude', 'housing_median_age', 'total_rooms',\n",
    "                'total_bedrooms', 'population', 'households', 'median_income']\n",
    "\n",
    "# Next, we scale the numerical feature columns that we assigned to the variable \"numeric cols\".\n",
    "# Scalar def get_scal(feature):\n",
    "def get_scal(feature):\n",
    "    def minmax(x):\n",
    "        mini = train[feature].min()\n",
    "        maxi = train[feature].max()\n",
    "        return (x - mini)/(maxi-mini)\n",
    "        return(minmax)\n",
    "    \n",
    "feature_columns = []\n",
    "for header in numeric_cols:\n",
    "    scal_input_fn = get_scal(header)\n",
    "    feature_columns.append(fc.numeric_column(header,\n",
    "                                             normalizer_fn=scal_input_fn))\n"
   ]
  },
  {
   "cell_type": "markdown",
   "metadata": {
    "colab_type": "text",
    "id": "9Ug3hB8Sl0jO"
   },
   "source": [
    "### Using the Keras Sequential Model\n",
    "\n",
    "Next, we will run this cell to compile and fit the Keras Sequential model."
   ]
  },
  {
   "cell_type": "markdown",
   "metadata": {},
   "source": [
    "## Model 1 - hard cording the learning rate to .5"
   ]
  },
  {
   "cell_type": "code",
   "execution_count": 22,
   "metadata": {},
   "outputs": [
    {
     "name": "stdout",
     "output_type": "stream",
     "text": [
      "Train for 409 steps, validate for 103 steps\n",
      "Epoch 1/32\n",
      "409/409 [==============================] - 1s 4ms/step - loss: 15454871419.5945 - mse: 15458014208.0000 - val_loss: 11945164790.0583 - val_mse: 11930501120.0000\n",
      "Epoch 2/32\n",
      "409/409 [==============================] - 1s 2ms/step - loss: 11113984319.6744 - mse: 11120439296.0000 - val_loss: 9338645354.8738 - val_mse: 9336409088.0000\n",
      "Epoch 3/32\n",
      "409/409 [==============================] - 1s 2ms/step - loss: 10088049715.4827 - mse: 10088943616.0000 - val_loss: 8167923383.9223 - val_mse: 8164933632.0000\n",
      "Epoch 4/32\n",
      "409/409 [==============================] - 1s 2ms/step - loss: 9220867917.7061 - mse: 9222909952.0000 - val_loss: 7299059137.8641 - val_mse: 7298258432.0000\n",
      "Epoch 5/32\n",
      "409/409 [==============================] - 1s 2ms/step - loss: 8481574510.4603 - mse: 8482394112.0000 - val_loss: 7316962351.2233 - val_mse: 7317813248.0000\n",
      "Epoch 6/32\n",
      "409/409 [==============================] - 1s 2ms/step - loss: 7813599009.2503 - mse: 7812545024.0000 - val_loss: 6251988000.3107 - val_mse: 6261003776.0000\n",
      "Epoch 7/32\n",
      "409/409 [==============================] - 1s 2ms/step - loss: 7786804589.5218 - mse: 7786314240.0000 - val_loss: 6630910588.2718 - val_mse: 6637354496.0000\n",
      "Epoch 8/32\n",
      "409/409 [==============================] - 1s 2ms/step - loss: 6687057205.5333 - mse: 6691651584.0000 - val_loss: 6802481882.7184 - val_mse: 6809204736.0000\n",
      "Epoch 9/32\n",
      "409/409 [==============================] - 1s 2ms/step - loss: 7043149961.0916 - mse: 7045480448.0000 - val_loss: 5816155650.4854 - val_mse: 5824936960.0000\n",
      "Epoch 10/32\n",
      "409/409 [==============================] - 1s 2ms/step - loss: 6748963230.1939 - mse: 6747068928.0000 - val_loss: 9615167117.6699 - val_mse: 9659991040.0000\n",
      "Epoch 11/32\n",
      "409/409 [==============================] - 1s 2ms/step - loss: 7116866853.5368 - mse: 7119164416.0000 - val_loss: 6365471010.7961 - val_mse: 6377013248.0000\n",
      "Epoch 12/32\n",
      "409/409 [==============================] - 1s 2ms/step - loss: 6772013894.5479 - mse: 6774901248.0000 - val_loss: 7572345706.8738 - val_mse: 7573325312.0000\n",
      "Epoch 13/32\n",
      "409/409 [==============================] - 1s 2ms/step - loss: 6736139069.3472 - mse: 6735809536.0000 - val_loss: 6479731523.1068 - val_mse: 6486564864.0000\n",
      "Epoch 14/32\n",
      "409/409 [==============================] - 1s 2ms/step - loss: 7248291930.4841 - mse: 7240312832.0000 - val_loss: 8070623681.8641 - val_mse: 8064794112.0000\n",
      "Epoch 15/32\n",
      "409/409 [==============================] - 1s 2ms/step - loss: 6907382681.9088 - mse: 6903963648.0000 - val_loss: 11647304052.8155 - val_mse: 11638076416.0000\n",
      "Epoch 16/32\n",
      "409/409 [==============================] - 1s 2ms/step - loss: 6952174379.5904 - mse: 6950060544.0000 - val_loss: 6278675145.3204 - val_mse: 6288151040.0000\n",
      "Epoch 17/32\n",
      "409/409 [==============================] - 1s 2ms/step - loss: 6621652910.0187 - mse: 6625410560.0000 - val_loss: 5606967899.9612 - val_mse: 5631843328.0000\n",
      "Epoch 18/32\n",
      "409/409 [==============================] - 1s 2ms/step - loss: 6722990264.2765 - mse: 6723870208.0000 - val_loss: 7301321370.0971 - val_mse: 7331119616.0000\n",
      "Epoch 19/32\n",
      "409/409 [==============================] - 1s 2ms/step - loss: 6562044763.8334 - mse: 6558479872.0000 - val_loss: 8053275665.3981 - val_mse: 8088592384.0000\n",
      "Epoch 20/32\n",
      "409/409 [==============================] - 1s 2ms/step - loss: 6817334858.8049 - mse: 6819204608.0000 - val_loss: 8218839298.4854 - val_mse: 8261219328.0000\n",
      "Epoch 21/32\n",
      "409/409 [==============================] - 1s 2ms/step - loss: 6659810888.4751 - mse: 6655946240.0000 - val_loss: 9530183578.0971 - val_mse: 9526626304.0000\n",
      "Epoch 22/32\n",
      "409/409 [==============================] - 1s 2ms/step - loss: 6508708612.6818 - mse: 6509333504.0000 - val_loss: 6229213425.0874 - val_mse: 6237005312.0000\n",
      "Epoch 23/32\n",
      "409/409 [==============================] - 1s 2ms/step - loss: 6501651869.9413 - mse: 6497069056.0000 - val_loss: 5608135279.8447 - val_mse: 5626136064.0000\n",
      "Epoch 24/32\n",
      "409/409 [==============================] - 1s 2ms/step - loss: 6514784923.9536 - mse: 6517147136.0000 - val_loss: 6406016512.0000 - val_mse: 6412633600.0000\n",
      "Epoch 25/32\n",
      "409/409 [==============================] - 1s 2ms/step - loss: 6433762730.5892 - mse: 6435895808.0000 - val_loss: 6800715676.5825 - val_mse: 6805081088.0000\n",
      "Epoch 26/32\n",
      "409/409 [==============================] - 1s 2ms/step - loss: 6680276207.3735 - mse: 6682078720.0000 - val_loss: 5864623141.2816 - val_mse: 5876686336.0000\n",
      "Epoch 27/32\n",
      "409/409 [==============================] - 1s 2ms/step - loss: 6371366577.7255 - mse: 6373690368.0000 - val_loss: 5398134122.8738 - val_mse: 5416931328.0000\n",
      "Epoch 28/32\n",
      "409/409 [==============================] - 1s 2ms/step - loss: 7034769106.2276 - mse: 7038445056.0000 - val_loss: 5678697265.7087 - val_mse: 5691802112.0000\n",
      "Epoch 29/32\n",
      "409/409 [==============================] - 1s 2ms/step - loss: 6462157683.4572 - mse: 6464271360.0000 - val_loss: 5695027938.1748 - val_mse: 5711038976.0000\n",
      "Epoch 30/32\n",
      "409/409 [==============================] - 1s 2ms/step - loss: 6475801607.5104 - mse: 6479335424.0000 - val_loss: 6616112630.0583 - val_mse: 6620794880.0000\n",
      "Epoch 31/32\n",
      "409/409 [==============================] - 1s 2ms/step - loss: 14547111755.4731 - mse: 14547247104.0000 - val_loss: 12976254538.5631 - val_mse: 12903587840.0000\n",
      "Epoch 32/32\n",
      "409/409 [==============================] - 1s 2ms/step - loss: 13549707042.1720 - mse: 13553657856.0000 - val_loss: 12998286529.8641 - val_mse: 12924929024.0000\n"
     ]
    }
   ],
   "source": [
    " #TODO 1\n",
    "# Model create\n",
    "\n",
    "feature_layer = tf.keras.layers.DenseFeatures(feature_columns, dtype='float64')\n",
    "\n",
    "model = tf.keras.Sequential([\n",
    "  feature_layer,\n",
    "  layers.Dense(12, input_dim=8, activation='relu'),\n",
    "  layers.Dense(8, activation='relu'),\n",
    "  layers.Dense(1, activation='linear',  name='median_house_value')\n",
    "])\n",
    "\n",
    "# Model compile\n",
    " #TODO 2a\n",
    "opt = keras.optimizers.Adam(learning_rate=.5)\n",
    "model.compile(optimizer=opt,\n",
    "              loss='mse',\n",
    "              metrics=['mse'])\n",
    "\n",
    "# Model Fit\n",
    "# Using the `fit()` method we can train our model\n",
    "history = model.fit(train_ds,\n",
    "                    validation_data=val_ds,\n",
    "                    epochs=32)"
   ]
  },
  {
   "cell_type": "code",
   "execution_count": 11,
   "metadata": {},
   "outputs": [
    {
     "data": {
      "image/png": "[encoded data removed]",
      "text/plain": [
       "<Figure size 720x360 with 2 Axes>"
      ]
     },
     "metadata": {
      "needs_background": "light"
     },
     "output_type": "display_data"
    }
   ],
   "source": [
    "def plot_curves(history, metrics):\n",
    "    nrows = 1\n",
    "    ncols = 2\n",
    "# Using the `figure()` method we can create a new figure or activate an existing figure.\n",
    "    fig = plt.figure(figsize=(10, 5))\n",
    "\n",
    "    for idx, key in enumerate(metrics):  \n",
    "# Using the `add_subplot()` method we can add a subplot to the current figure.\n",
    "        ax = fig.add_subplot(nrows, ncols, idx+1)\n",
    "# The `plot()` is a versatile function and will take an arbitrary number of arguments. \n",
    "        plt.plot(history.history[key])\n",
    "        plt.plot(history.history['val_{}'.format(key)])\n",
    "        plt.title('model {}'.format(key))\n",
    "        plt.ylabel(key)\n",
    "        plt.xlabel('epoch')\n",
    "# Using the `legend()` method we can place a legend on the axes.\n",
    "        plt.legend(['train', 'validation'], loc='upper left'); \n",
    "plot_curves(history, ['loss', 'mse'])"
   ]
  },
  {
   "cell_type": "markdown",
   "metadata": {},
   "source": [
    "## Model 2 - hard cording the learning rate to .1"
   ]
  },
  {
   "cell_type": "code",
   "execution_count": 28,
   "metadata": {},
   "outputs": [
    {
     "name": "stdout",
     "output_type": "stream",
     "text": [
      "Train for 409 steps, validate for 103 steps\n",
      "Epoch 1/32\n",
      "409/409 [==============================] - 1s 4ms/step - loss: 16142127785.6901 - mse: 16142856192.0000 - val_loss: 10077616416.3107 - val_mse: 10081102848.0000\n",
      "Epoch 2/32\n",
      "409/409 [==============================] - 1s 2ms/step - loss: 10184909227.3171 - mse: 10186439680.0000 - val_loss: 9261090403.4175 - val_mse: 9280239616.0000\n",
      "Epoch 3/32\n",
      "409/409 [==============================] - 1s 2ms/step - loss: 9265470852.1889 - mse: 9266704384.0000 - val_loss: 8840591911.7670 - val_mse: 8873100288.0000\n",
      "Epoch 4/32\n",
      "409/409 [==============================] - 1s 2ms/step - loss: 8252377869.0075 - mse: 8254630912.0000 - val_loss: 8209944329.9417 - val_mse: 8256002560.0000\n",
      "Epoch 5/32\n",
      "409/409 [==============================] - 1s 2ms/step - loss: 8080963327.1390 - mse: 8084236800.0000 - val_loss: 7023378501.5922 - val_mse: 7058453504.0000\n",
      "Epoch 6/32\n",
      "409/409 [==============================] - 1s 2ms/step - loss: 7398023354.3223 - mse: 7396553216.0000 - val_loss: 7103040397.6699 - val_mse: 7140764160.0000\n",
      "Epoch 7/32\n",
      "409/409 [==============================] - 1s 2ms/step - loss: 7102251723.1714 - mse: 7097890816.0000 - val_loss: 6572300826.0971 - val_mse: 6608555520.0000\n",
      "Epoch 8/32\n",
      "409/409 [==============================] - 1s 2ms/step - loss: 6975143326.8467 - mse: 6977131520.0000 - val_loss: 7052460884.5049 - val_mse: 7080503808.0000\n",
      "Epoch 9/32\n",
      "409/409 [==============================] - 1s 2ms/step - loss: 6878313639.5744 - mse: 6880425472.0000 - val_loss: 6564497475.1068 - val_mse: 6594228736.0000\n",
      "Epoch 10/32\n",
      "409/409 [==============================] - 1s 2ms/step - loss: 6670751938.5775 - mse: 6674390016.0000 - val_loss: 5949135690.5631 - val_mse: 5972818944.0000\n",
      "Epoch 11/32\n",
      "409/409 [==============================] - 1s 2ms/step - loss: 6360191996.4596 - mse: 6362693632.0000 - val_loss: 6575069852.5825 - val_mse: 6609015296.0000\n",
      "Epoch 12/32\n",
      "409/409 [==============================] - 1s 2ms/step - loss: 6394193631.8308 - mse: 6390744576.0000 - val_loss: 6508346343.1456 - val_mse: 6527740928.0000\n",
      "Epoch 13/32\n",
      "409/409 [==============================] - 1s 2ms/step - loss: 6301252573.6752 - mse: 6302002688.0000 - val_loss: 5858328185.7864 - val_mse: 5881458688.0000\n",
      "Epoch 14/32\n",
      "409/409 [==============================] - 1s 2ms/step - loss: 6064092761.8386 - mse: 6060854784.0000 - val_loss: 5576676650.2524 - val_mse: 5602422272.0000\n",
      "Epoch 15/32\n",
      "409/409 [==============================] - 1s 2ms/step - loss: 6014454765.6365 - mse: 6014266368.0000 - val_loss: 5450226024.3883 - val_mse: 5475313664.0000\n",
      "Epoch 16/32\n",
      "409/409 [==============================] - 1s 2ms/step - loss: 6153035148.2097 - mse: 6146137088.0000 - val_loss: 7116925370.4078 - val_mse: 7142889472.0000\n",
      "Epoch 17/32\n",
      "409/409 [==============================] - 1s 2ms/step - loss: 6106567366.3865 - mse: 6108347904.0000 - val_loss: 6218479245.6699 - val_mse: 6247894016.0000\n",
      "Epoch 18/32\n",
      "409/409 [==============================] - 1s 2ms/step - loss: 5815687350.5112 - mse: 5818600960.0000 - val_loss: 5794349901.0485 - val_mse: 5803808768.0000\n",
      "Epoch 19/32\n",
      "409/409 [==============================] - 1s 2ms/step - loss: 6294162059.8334 - mse: 6295368192.0000 - val_loss: 5457214399.3786 - val_mse: 5479284736.0000\n",
      "Epoch 20/32\n",
      "409/409 [==============================] - 1s 2ms/step - loss: 5904249998.1422 - mse: 5903711744.0000 - val_loss: 5853732612.9709 - val_mse: 5882193408.0000\n",
      "Epoch 21/32\n",
      "409/409 [==============================] - 1s 2ms/step - loss: 5874772064.5012 - mse: 5877137408.0000 - val_loss: 5206161672.6990 - val_mse: 5232880128.0000\n",
      "Epoch 22/32\n",
      "409/409 [==============================] - 1s 2ms/step - loss: 5787612633.2582 - mse: 5789365248.0000 - val_loss: 5168195337.9417 - val_mse: 5193491968.0000\n",
      "Epoch 23/32\n",
      "409/409 [==============================] - 1s 2ms/step - loss: 5784784265.1428 - mse: 5783699456.0000 - val_loss: 5621005507.1068 - val_mse: 5649027584.0000\n",
      "Epoch 24/32\n",
      "409/409 [==============================] - 1s 2ms/step - loss: 5917157422.1189 - mse: 5913398272.0000 - val_loss: 7874909656.2330 - val_mse: 7894675968.0000\n",
      "Epoch 25/32\n",
      "409/409 [==============================] - 1s 2ms/step - loss: 5663000405.2240 - mse: 5664764416.0000 - val_loss: 5218701760.6214 - val_mse: 5244957184.0000\n",
      "Epoch 26/32\n",
      "409/409 [==============================] - 1s 2ms/step - loss: 5715443525.3180 - mse: 5714052096.0000 - val_loss: 5230710622.4466 - val_mse: 5253030912.0000\n",
      "Epoch 27/32\n",
      "409/409 [==============================] - 1s 2ms/step - loss: 5714966640.5769 - mse: 5716998144.0000 - val_loss: 5148568513.8641 - val_mse: 5171209728.0000\n",
      "Epoch 28/32\n",
      "409/409 [==============================] - 1s 2ms/step - loss: 5711320639.2937 - mse: 5712954368.0000 - val_loss: 5789600487.1456 - val_mse: 5814830592.0000\n",
      "Epoch 29/32\n",
      "409/409 [==============================] - 1s 2ms/step - loss: 5906629059.4219 - mse: 5905991168.0000 - val_loss: 6386164964.6602 - val_mse: 6403270656.0000\n",
      "Epoch 30/32\n",
      "409/409 [==============================] - 1s 2ms/step - loss: 5691307688.2568 - mse: 5692233728.0000 - val_loss: 5812913107.2621 - val_mse: 5824826368.0000\n",
      "Epoch 31/32\n",
      "409/409 [==============================] - 1s 2ms/step - loss: 5729157983.5012 - mse: 5729346048.0000 - val_loss: 5123407594.8738 - val_mse: 5150206464.0000\n",
      "Epoch 32/32\n",
      "409/409 [==============================] - 1s 2ms/step - loss: 5718205839.6580 - mse: 5719468032.0000 - val_loss: 5256742764.1165 - val_mse: 5284253184.0000\n"
     ]
    }
   ],
   "source": [
    "# Model create\n",
    "feature_layer = tf.keras.layers.DenseFeatures(feature_columns, dtype='float64')\n",
    "\n",
    "model = tf.keras.Sequential([\n",
    "  feature_layer,\n",
    "  layers.Dense(12, input_dim=8, activation='relu'),\n",
    "  layers.Dense(8, activation='relu'),\n",
    "  layers.Dense(1, activation='linear',  name='median_house_value')\n",
    "])\n",
    "\n",
    "# Model compile\n",
    " #TODO 2b\n",
    "model.compile(optimizer=keras.optimizers.Adam(learning_rate=0.1),\n",
    "              loss='mse',\n",
    "              metrics=['mse'])\n",
    "\n",
    "# Model Fit\n",
    "# Using the `fit()` method we can train our model\n",
    "history = model.fit(train_ds,\n",
    "                    validation_data=val_ds,\n",
    "                    epochs=32)"
   ]
  },
  {
   "cell_type": "code",
   "execution_count": 29,
   "metadata": {},
   "outputs": [
    {
     "data": {
      "image/png": "[encoded data removed]",
      "text/plain": [
       "<Figure size 720x360 with 2 Axes>"
      ]
     },
     "metadata": {
      "needs_background": "light"
     },
     "output_type": "display_data"
    }
   ],
   "source": [
    "def plot_curves(history, metrics):\n",
    "    nrows = 1\n",
    "    ncols = 2\n",
    "# Using the `figure()` method we can create a new figure or activate an existing figure.\n",
    "    fig = plt.figure(figsize=(10, 5))\n",
    "\n",
    "    for idx, key in enumerate(metrics):  \n",
    "# Using the `add_subplot()` method we can add a subplot to the current figure.\n",
    "        ax = fig.add_subplot(nrows, ncols, idx+1)\n",
    "# The `plot()` is a versatile function and will take an arbitrary number of arguments. \n",
    "        plt.plot(history.history[key])\n",
    "        plt.plot(history.history['val_{}'.format(key)])\n",
    "        plt.title('model {}'.format(key))\n",
    "        plt.ylabel(key)\n",
    "        plt.xlabel('epoch')\n",
    "# Using the `legend()` method we can place a legend on the axes.\n",
    "        plt.legend(['train', 'validation'], loc='upper left');  \n",
    "plot_curves(history, ['loss', 'mse'])"
   ]
  },
  {
   "cell_type": "markdown",
   "metadata": {},
   "source": [
    "## Model 3 - hard cording the learning rate to .01 "
   ]
  },
  {
   "cell_type": "code",
   "execution_count": 30,
   "metadata": {},
   "outputs": [
    {
     "name": "stdout",
     "output_type": "stream",
     "text": [
      "Train for 409 steps, validate for 103 steps\n",
      "Epoch 1/32\n",
      "409/409 [==============================] - 1s 4ms/step - loss: 28820265910.6268 - mse: 28827783168.0000 - val_loss: 19004360261.5922 - val_mse: 19016386560.0000\n",
      "Epoch 2/32\n",
      "409/409 [==============================] - 1s 2ms/step - loss: 14019265145.9228 - mse: 14023570432.0000 - val_loss: 10961639846.5243 - val_mse: 10946984960.0000\n",
      "Epoch 3/32\n",
      "409/409 [==============================] - 1s 2ms/step - loss: 11191451477.5768 - mse: 11195220992.0000 - val_loss: 10689455834.7184 - val_mse: 10680760320.0000\n",
      "Epoch 4/32\n",
      "409/409 [==============================] - 1s 2ms/step - loss: 10847076697.6318 - mse: 10844694528.0000 - val_loss: 10218105045.7476 - val_mse: 10223378432.0000\n",
      "Epoch 5/32\n",
      "409/409 [==============================] - 1s 2ms/step - loss: 10378832533.4944 - mse: 10382370816.0000 - val_loss: 10207903530.2524 - val_mse: 10223196160.0000\n",
      "Epoch 6/32\n",
      "409/409 [==============================] - 1s 2ms/step - loss: 9790522326.2283 - mse: 9792843776.0000 - val_loss: 9122375759.5340 - val_mse: 9140432896.0000\n",
      "Epoch 7/32\n",
      "409/409 [==============================] - 1s 2ms/step - loss: 9187987228.1516 - mse: 9191543808.0000 - val_loss: 8653506445.6699 - val_mse: 8679206912.0000\n",
      "Epoch 8/32\n",
      "409/409 [==============================] - 1s 2ms/step - loss: 8553798209.9928 - mse: 8552019456.0000 - val_loss: 7948591031.9223 - val_mse: 7970355712.0000\n",
      "Epoch 9/32\n",
      "409/409 [==============================] - 1s 2ms/step - loss: 8143016367.2025 - mse: 8143045120.0000 - val_loss: 7737315253.4369 - val_mse: 7754465792.0000\n",
      "Epoch 10/32\n",
      "409/409 [==============================] - 1s 2ms/step - loss: 7751682446.5002 - mse: 7754837504.0000 - val_loss: 7385209597.5146 - val_mse: 7398214656.0000\n",
      "Epoch 11/32\n",
      "409/409 [==============================] - 1s 2ms/step - loss: 7542789712.2367 - mse: 7539196416.0000 - val_loss: 7126287777.5534 - val_mse: 7131967488.0000\n",
      "Epoch 12/32\n",
      "409/409 [==============================] - 1s 2ms/step - loss: 7316383110.4599 - mse: 7319803392.0000 - val_loss: 6877715746.7961 - val_mse: 6894089216.0000\n",
      "Epoch 13/32\n",
      "409/409 [==============================] - 1s 2ms/step - loss: 7108313843.2011 - mse: 7109844992.0000 - val_loss: 6903026332.5825 - val_mse: 6919081472.0000\n",
      "Epoch 14/32\n",
      "409/409 [==============================] - 1s 2ms/step - loss: 6896629351.9496 - mse: 6893651456.0000 - val_loss: 6671044287.3786 - val_mse: 6678432256.0000\n",
      "Epoch 15/32\n",
      "409/409 [==============================] - 1s 2ms/step - loss: 6721002226.7818 - mse: 6723388928.0000 - val_loss: 6273372679.4563 - val_mse: 6288086016.0000\n",
      "Epoch 16/32\n",
      "409/409 [==============================] - 1s 2ms/step - loss: 6488401337.1551 - mse: 6488479232.0000 - val_loss: 6198506697.3204 - val_mse: 6220411392.0000\n",
      "Epoch 17/32\n",
      "409/409 [==============================] - 1s 2ms/step - loss: 6376134623.4519 - mse: 6372488704.0000 - val_loss: 5970747817.0097 - val_mse: 5988396544.0000\n",
      "Epoch 18/32\n",
      "409/409 [==============================] - 1s 2ms/step - loss: 6215809780.7121 - mse: 6216158208.0000 - val_loss: 5821481191.1456 - val_mse: 5840646144.0000\n",
      "Epoch 19/32\n",
      "409/409 [==============================] - 1s 2ms/step - loss: 6144724959.4561 - mse: 6145218560.0000 - val_loss: 5681893545.0097 - val_mse: 5696522752.0000\n",
      "Epoch 20/32\n",
      "409/409 [==============================] - 1s 2ms/step - loss: 6031094457.4389 - mse: 6030999040.0000 - val_loss: 5657197833.9417 - val_mse: 5674882560.0000\n",
      "Epoch 21/32\n",
      "409/409 [==============================] - 1s 2ms/step - loss: 5924171939.6916 - mse: 5927268352.0000 - val_loss: 5776844782.6019 - val_mse: 5793309696.0000\n",
      "Epoch 22/32\n",
      "409/409 [==============================] - 1s 2ms/step - loss: 5786767348.0485 - mse: 5788613632.0000 - val_loss: 5335009724.8932 - val_mse: 5346563072.0000\n",
      "Epoch 23/32\n",
      "409/409 [==============================] - 1s 2ms/step - loss: 5636253671.2479 - mse: 5637727744.0000 - val_loss: 5673004250.7184 - val_mse: 5680822272.0000\n",
      "Epoch 24/32\n",
      "409/409 [==============================] - 1s 2ms/step - loss: 5642316724.1229 - mse: 5644330496.0000 - val_loss: 5353021845.1262 - val_mse: 5368786944.0000\n",
      "Epoch 25/32\n",
      "409/409 [==============================] - 1s 2ms/step - loss: 5432630617.7940 - mse: 5432131584.0000 - val_loss: 5309223513.4757 - val_mse: 5328088576.0000\n",
      "Epoch 26/32\n",
      "409/409 [==============================] - 1s 2ms/step - loss: 5315659247.0182 - mse: 5316406784.0000 - val_loss: 4899379935.6893 - val_mse: 4914889728.0000\n",
      "Epoch 27/32\n",
      "409/409 [==============================] - 1s 2ms/step - loss: 5311305914.8223 - mse: 5312090624.0000 - val_loss: 4835629852.5825 - val_mse: 4853591552.0000\n",
      "Epoch 28/32\n",
      "409/409 [==============================] - 1s 2ms/step - loss: 5220910676.4186 - mse: 5221594112.0000 - val_loss: 4942810116.9709 - val_mse: 4968830464.0000\n",
      "Epoch 29/32\n",
      "409/409 [==============================] - 1s 2ms/step - loss: 5238931864.4424 - mse: 5240843776.0000 - val_loss: 4737610755.7282 - val_mse: 4753325568.0000\n",
      "Epoch 30/32\n",
      "409/409 [==============================] - 1s 2ms/step - loss: 5202944042.8844 - mse: 5203273216.0000 - val_loss: 4862759954.6408 - val_mse: 4881971200.0000\n",
      "Epoch 31/32\n",
      "409/409 [==============================] - 1s 2ms/step - loss: 5154660554.9627 - mse: 5152465920.0000 - val_loss: 4824625184.3107 - val_mse: 4843690496.0000\n",
      "Epoch 32/32\n",
      "409/409 [==============================] - 1s 2ms/step - loss: 5073505084.2055 - mse: 5073333760.0000 - val_loss: 4637512433.0874 - val_mse: 4659401728.0000\n"
     ]
    }
   ],
   "source": [
    "# Model create\n",
    "\n",
    "feature_layer = tf.keras.layers.DenseFeatures(feature_columns, dtype='float64')\n",
    "\n",
    "model = tf.keras.Sequential([\n",
    "  feature_layer,\n",
    "  layers.Dense(12, input_dim=8, activation='relu'),\n",
    "  layers.Dense(8, activation='relu'),\n",
    "  layers.Dense(1, activation='linear',  name='median_house_value')\n",
    "])\n",
    "\n",
    "# Model compile\n",
    " #TODO 2c\n",
    "opt = keras.optimizers.Adam(learning_rate=0.01)\n",
    "model.compile(optimizer=opt,\n",
    "              loss='mse',\n",
    "              metrics=['mse'])\n",
    "\n",
    "# Model Fit\n",
    "# Using the `fit()` method we can train our model\n",
    "history = model.fit(train_ds,\n",
    "                    validation_data=val_ds,\n",
    "                    epochs=32)  # Increase Epochs to 32"
   ]
  },
  {
   "cell_type": "code",
   "execution_count": 31,
   "metadata": {},
   "outputs": [
    {
     "data": {
      "image/png": "[encoded data removed]",
      "text/plain": [
       "<Figure size 720x360 with 2 Axes>"
      ]
     },
     "metadata": {
      "needs_background": "light"
     },
     "output_type": "display_data"
    }
   ],
   "source": [
    "def plot_curves(history, metrics):\n",
    "    nrows = 1\n",
    "    ncols = 2\n",
    "# Using the `figure()` method we can create a new figure or activate an existing figure.\n",
    "    fig = plt.figure(figsize=(10, 5))\n",
    "\n",
    "    for idx, key in enumerate(metrics):  \n",
    "# Using the `add_subplot()` method we can add a subplot to the current figure.\n",
    "        ax = fig.add_subplot(nrows, ncols, idx+1)\n",
    "# The `plot()` is a versatile function and will take an arbitrary number of arguments. \n",
    "        plt.plot(history.history[key])\n",
    "        plt.plot(history.history['val_{}'.format(key)])\n",
    "        plt.title('model {}'.format(key))\n",
    "        plt.ylabel(key)\n",
    "        plt.xlabel('epoch')\n",
    "# Using the `legend()` method we can place a legend on the axes.\n",
    "        plt.legend(['train', 'validation'], loc='upper left');  \n",
    "plot_curves(history, ['loss', 'mse'])"
   ]
  },
  {
   "cell_type": "markdown",
   "metadata": {},
   "source": [
    "## Model 4 - hard cording the learning rate to .001 "
   ]
  },
  {
   "cell_type": "code",
   "execution_count": 32,
   "metadata": {},
   "outputs": [
    {
     "name": "stdout",
     "output_type": "stream",
     "text": [
      "Train for 409 steps, validate for 103 steps\n",
      "Epoch 1/32\n",
      "409/409 [==============================] - 1s 4ms/step - loss: 53598458040.5582 - mse: 53615620096.0000 - val_loss: 46821547932.5825 - val_mse: 46834003968.0000\n",
      "Epoch 2/32\n",
      "409/409 [==============================] - 1s 2ms/step - loss: 36739199403.4076 - mse: 36758806528.0000 - val_loss: 27244869781.1262 - val_mse: 27283460096.0000\n",
      "Epoch 3/32\n",
      "409/409 [==============================] - 1s 2ms/step - loss: 27422816419.3018 - mse: 27429183488.0000 - val_loss: 25765405531.9612 - val_mse: 25814075392.0000\n",
      "Epoch 4/32\n",
      "409/409 [==============================] - 1s 2ms/step - loss: 26973375411.3350 - mse: 26978705408.0000 - val_loss: 25500520676.6602 - val_mse: 25549273088.0000\n",
      "Epoch 5/32\n",
      "409/409 [==============================] - 1s 2ms/step - loss: 26708565225.8306 - mse: 26708910080.0000 - val_loss: 25258713257.0097 - val_mse: 25306284032.0000\n",
      "Epoch 6/32\n",
      "409/409 [==============================] - 1s 2ms/step - loss: 26431448747.0726 - mse: 26427885568.0000 - val_loss: 25015992752.4660 - val_mse: 25062426624.0000\n",
      "Epoch 7/32\n",
      "409/409 [==============================] - 1s 2ms/step - loss: 26195567067.5298 - mse: 26147897344.0000 - val_loss: 24728146715.3398 - val_mse: 24775133184.0000\n",
      "Epoch 8/32\n",
      "409/409 [==============================] - 1s 2ms/step - loss: 25861331448.7105 - mse: 25868269568.0000 - val_loss: 24461344966.8350 - val_mse: 24507320320.0000\n",
      "Epoch 9/32\n",
      "409/409 [==============================] - 1s 2ms/step - loss: 25600870956.6723 - mse: 25574486016.0000 - val_loss: 24190899557.9029 - val_mse: 24235472896.0000\n",
      "Epoch 10/32\n",
      "409/409 [==============================] - 1s 2ms/step - loss: 25254511420.4239 - mse: 25256204288.0000 - val_loss: 23879615776.3107 - val_mse: 23924580352.0000\n",
      "Epoch 11/32\n",
      "409/409 [==============================] - 1s 2ms/step - loss: 24939981334.2943 - mse: 24941438976.0000 - val_loss: 23578587106.1748 - val_mse: 23621562368.0000\n",
      "Epoch 12/32\n",
      "409/409 [==============================] - 1s 2ms/step - loss: 24583283718.7080 - mse: 24589076480.0000 - val_loss: 23261951652.0388 - val_mse: 23303301120.0000\n",
      "Epoch 13/32\n",
      "409/409 [==============================] - 1s 2ms/step - loss: 24217670771.0750 - mse: 24219877376.0000 - val_loss: 22884749550.6019 - val_mse: 22926671872.0000\n",
      "Epoch 14/32\n",
      "409/409 [==============================] - 1s 2ms/step - loss: 23820845798.3815 - mse: 23834732544.0000 - val_loss: 22503808685.9806 - val_mse: 22543908864.0000\n",
      "Epoch 15/32\n",
      "409/409 [==============================] - 1s 2ms/step - loss: 23380588243.0099 - mse: 23394732032.0000 - val_loss: 22098632037.9029 - val_mse: 22136567808.0000\n",
      "Epoch 16/32\n",
      "409/409 [==============================] - 1s 2ms/step - loss: 22939632988.0472 - mse: 22930409472.0000 - val_loss: 21633353265.7087 - val_mse: 21670201344.0000\n",
      "Epoch 17/32\n",
      "409/409 [==============================] - 1s 2ms/step - loss: 22425386995.8820 - mse: 22408931328.0000 - val_loss: 21126189920.9320 - val_mse: 21161084928.0000\n",
      "Epoch 18/32\n",
      "409/409 [==============================] - 1s 2ms/step - loss: 21825249632.2906 - mse: 21829629952.0000 - val_loss: 20558259667.2621 - val_mse: 20591157248.0000\n",
      "Epoch 19/32\n",
      "409/409 [==============================] - 1s 2ms/step - loss: 21182989676.4602 - mse: 21185062912.0000 - val_loss: 19914999460.0388 - val_mse: 19946936320.0000\n",
      "Epoch 20/32\n",
      "409/409 [==============================] - 1s 2ms/step - loss: 20463244498.5435 - mse: 20469348352.0000 - val_loss: 19200291258.4078 - val_mse: 19229341696.0000\n",
      "Epoch 21/32\n",
      "409/409 [==============================] - 1s 2ms/step - loss: 19638405852.7297 - mse: 19648167936.0000 - val_loss: 18388937792.6214 - val_mse: 18414884864.0000\n",
      "Epoch 22/32\n",
      "409/409 [==============================] - 1s 2ms/step - loss: 18727225622.6354 - mse: 18719770624.0000 - val_loss: 17482676074.8738 - val_mse: 17504354304.0000\n",
      "Epoch 23/32\n",
      "409/409 [==============================] - 1s 2ms/step - loss: 17696683981.7730 - mse: 17701554176.0000 - val_loss: 16473887187.2621 - val_mse: 16491425792.0000\n",
      "Epoch 24/32\n",
      "409/409 [==============================] - 1s 2ms/step - loss: 16582034454.0254 - mse: 16589959168.0000 - val_loss: 15416491102.4466 - val_mse: 15430251520.0000\n",
      "Epoch 25/32\n",
      "409/409 [==============================] - 1s 2ms/step - loss: 15441100801.0647 - mse: 15441384448.0000 - val_loss: 14323832856.8544 - val_mse: 14332474368.0000\n",
      "Epoch 26/32\n",
      "409/409 [==============================] - 1s 2ms/step - loss: 14300109191.2975 - mse: 14305319936.0000 - val_loss: 13292001707.4951 - val_mse: 13295180800.0000\n",
      "Epoch 27/32\n",
      "409/409 [==============================] - 1s 2ms/step - loss: 13303333501.6680 - mse: 13308677120.0000 - val_loss: 12424821864.3883 - val_mse: 12422747136.0000\n",
      "Epoch 28/32\n",
      "409/409 [==============================] - 1s 2ms/step - loss: 12501031403.7036 - mse: 12506546176.0000 - val_loss: 11797120442.4078 - val_mse: 11791951872.0000\n",
      "Epoch 29/32\n",
      "409/409 [==============================] - 1s 2ms/step - loss: 11956319701.2183 - mse: 11960665088.0000 - val_loss: 11360529885.2039 - val_mse: 11351460864.0000\n",
      "Epoch 30/32\n",
      "409/409 [==============================] - 1s 2ms/step - loss: 11621636862.4036 - mse: 11621429248.0000 - val_loss: 11121221462.9903 - val_mse: 11109432320.0000\n",
      "Epoch 31/32\n",
      "409/409 [==============================] - 1s 2ms/step - loss: 11450743583.8708 - mse: 11449251840.0000 - val_loss: 11025491838.7573 - val_mse: 11014677504.0000\n",
      "Epoch 32/32\n",
      "409/409 [==============================] - 1s 2ms/step - loss: 11348831851.9082 - mse: 11351303168.0000 - val_loss: 10960628601.7864 - val_mse: 10947500032.0000\n"
     ]
    }
   ],
   "source": [
    "# Model create\n",
    "\n",
    "feature_layer = tf.keras.layers.DenseFeatures(feature_columns, dtype='float64')\n",
    "\n",
    "model = tf.keras.Sequential([\n",
    "  feature_layer,\n",
    "  layers.Dense(12, input_dim=8, activation='relu'),\n",
    "  layers.Dense(8, activation='relu'),\n",
    "  layers.Dense(1, activation='linear',  name='median_house_value')\n",
    "])\n",
    "\n",
    "# Model compile\n",
    " #TODO 2d\n",
    "opt = keras.optimizers.Adam(learning_rate=0.001)\n",
    "model.compile(optimizer=opt,\n",
    "              loss='mse',\n",
    "              metrics=['mse'])\n",
    "\n",
    "# Model Fit\n",
    "# Using the `fit()` method we can train our model\n",
    "history = model.fit(train_ds,\n",
    "                    validation_data=val_ds,\n",
    "                    epochs=32)  # Increase Epochs to 32"
   ]
  },
  {
   "cell_type": "code",
   "execution_count": 33,
   "metadata": {},
   "outputs": [
    {
     "data": {
      "image/png": "[encoded data removed]",
      "text/plain": [
       "<Figure size 720x360 with 2 Axes>"
      ]
     },
     "metadata": {
      "needs_background": "light"
     },
     "output_type": "display_data"
    }
   ],
   "source": [
    " #TODO 3\n",
    "def plot_curves(history, metrics):\n",
    "    nrows = 1\n",
    "    ncols = 2\n",
    "# Using the `figure()` method we can create a new figure or activate an existing figure.\n",
    "    fig = plt.figure(figsize=(10, 5))\n",
    "\n",
    "    for idx, key in enumerate(metrics):  \n",
    "# Using the `add_subplot()` method we can add a subplot to the current figure.\n",
    "        ax = fig.add_subplot(nrows, ncols, idx+1)\n",
    "# The `plot()` is a versatile function and will take an arbitrary number of arguments. \n",
    "        plt.plot(history.history[key])\n",
    "        plt.plot(history.history['val_{}'.format(key)])\n",
    "        plt.title('model {}'.format(key))\n",
    "        plt.ylabel(key)\n",
    "        plt.xlabel('epoch')\n",
    "# Using the `legend()` method we can place a legend on the axes.\n",
    "        plt.legend(['train', 'validation'], loc='upper left');  \n",
    "        \n",
    "plot_curves(history, ['loss', 'mse'])"
   ]
  },
  {
   "cell_type": "markdown",
   "metadata": {},
   "source": [
    "Copyright 2020 Google Inc.\n",
    "Licensed under the Apache License, Version 2.0 (the \"License\"); you may not use this file except in compliance with the License. You may obtain a copy of the License at\n",
    "http://www.apache.org/licenses/LICENSE-2.0\n",
    "Unless required by applicable law or agreed to in writing, software distributed under the License is distributed on an \"AS IS\" BASIS, WITHOUT WARRANTIES OR CONDITIONS OF ANY KIND, either express or implied. See the License for the specific language governing permissions and limitations under the License."
   ]
  }
 ],
 "metadata": {
  "colab": {
   "collapsed_sections": [],
   "name": "learning_rate.ipynb",
   "provenance": [],
   "toc_visible": true
  },
  "kernelspec": {
   "display_name": "Python 3",
   "language": "python",
   "name": "python3"
  },
  "language_info": {
   "codemirror_mode": {
    "name": "ipython",
    "version": 3
   },
   "file_extension": ".py",
   "mimetype": "text/x-python",
   "name": "python",
   "nbconvert_exporter": "python",
   "pygments_lexer": "ipython3",
   "version": "3.5.3"
  }
 },
 "nbformat": 4,
 "nbformat_minor": 4
}

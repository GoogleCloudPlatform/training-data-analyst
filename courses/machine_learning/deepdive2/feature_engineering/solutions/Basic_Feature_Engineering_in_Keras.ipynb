{
  "nbformat": 4,
  "nbformat_minor": 0,
  "metadata": {
    "colab": {
      "name": "Basic Feature Engineering in Keras.ipynb",
      "provenance": [],
      "collapsed_sections": [],
      "toc_visible": true
    },
    "kernelspec": {
      "name": "python3",
      "display_name": "Python 3"
    }
  },
  "cells": [
    {
      "cell_type": "markdown",
      "metadata": {
        "colab_type": "text",
        "id": "rNdWfPXCjTjY"
      },
      "source": [
        "# LAB 01:  Basic Feature Engineering in Keras \n",
        "\n",
        "**Learning Objectives**\n",
        "\n",
        "* Setup up the environment\n",
        "* Create the project datasets\n",
        "* Create an input pipeline using tf.data\n",
        "* Build, train, and evaluate a Keras Sequential Model \n",
        "* Feature engineer categorical and numeric features \n",
        "* Load and preprocess test data\n",
        "* Create and test a prediction model\n",
        "\n",
        "\n",
        "## Introduction \n",
        "In this lab, we utilize feature engineering to improve the prediction of housing prices using a Keras Sequential Model.  We will use Keras to build a housing price prediction model, using feature engineering to improve model prediciton.  \n",
        "\n",
        "Each learning objective will correspond to a __#TODO__ in this student lab notebook -- try to complete this notebook first and then review the [solution notebook](../solution/feateng-solution_bqml.ipynb). **NOTE TO SELF**:  UPDATE HYPERLINK. "
      ]
    },
    {
      "cell_type": "markdown",
      "metadata": {
        "id": "4JpbVY_UrqQO",
        "colab_type": "text"
      },
      "source": [
        "### Set up environment variables and load necessary libraries"
      ]
    },
    {
      "cell_type": "code",
      "metadata": {
        "id": "NV1ZN7ggr6gd",
        "colab_type": "code",
        "colab": {
          "base_uri": "https://localhost:8080/",
          "height": 34
        },
        "outputId": "2397602e-2d39-4731-cd30-864b43210e0a"
      },
      "source": [
        "%%bash\n",
        "export PROJECT=$(gcloud config list project --format \"value(core.project)\")\n",
        "echo \"Your current GCP Project Name is: \"$PROJECT"
      ],
      "execution_count": 110,
      "outputs": [
        {
          "output_type": "stream",
          "text": [
            "Your current GCP Project Name is: \n"
          ],
          "name": "stdout"
        }
      ]
    },
    {
      "cell_type": "code",
      "metadata": {
        "id": "bWya0VU1r6sp",
        "colab_type": "code",
        "colab": {}
      },
      "source": [
        "import os\n",
        "\n",
        "PROJECT = \"cloud-training-demos\" # REPLACE WITH YOUR PROJECT NAME\n",
        "REGION = \"us-west1-b\" # REPLACE WITH YOUR BUCKET REGION e.g. us-central1\n",
        "\n",
        "# Do not change these\n",
        "os.environ[\"PROJECT\"] = PROJECT\n",
        "os.environ[\"REGION\"] = REGION\n",
        "os.environ[\"BUCKET\"] = PROJECT # DEFAULT BUCKET WILL BE PROJECT ID\n",
        "\n",
        "if PROJECT == \"your-gcp-project-here\":\n",
        "  print(\"Don't forget to update your PROJECT name! Currently:\", PROJECT)"
      ],
      "execution_count": 0,
      "outputs": []
    },
    {
      "cell_type": "markdown",
      "metadata": {
        "colab_type": "text",
        "id": "VxyBFc_kKazA"
      },
      "source": [
        "## Import TensorFlow and other libraries"
      ]
    },
    {
      "cell_type": "code",
      "metadata": {
        "colab_type": "code",
        "id": "LuOWVJBz8a6G",
        "colab": {
          "base_uri": "https://localhost:8080/",
          "height": 123
        },
        "outputId": "4fe29603-7668-46f0-b475-e18e227f7294"
      },
      "source": [
        "!pip install sklearn"
      ],
      "execution_count": 112,
      "outputs": [
        {
          "output_type": "stream",
          "text": [
            "Requirement already satisfied: sklearn in /usr/local/lib/python3.6/dist-packages (0.0)\n",
            "Requirement already satisfied: scikit-learn in /usr/local/lib/python3.6/dist-packages (from sklearn) (0.21.3)\n",
            "Requirement already satisfied: numpy>=1.11.0 in /tensorflow-2.0.0/python3.6 (from scikit-learn->sklearn) (1.17.3)\n",
            "Requirement already satisfied: scipy>=0.17.0 in /usr/local/lib/python3.6/dist-packages (from scikit-learn->sklearn) (1.3.1)\n",
            "Requirement already satisfied: joblib>=0.11 in /usr/local/lib/python3.6/dist-packages (from scikit-learn->sklearn) (0.14.0)\n"
          ],
          "name": "stdout"
        }
      ]
    },
    {
      "cell_type": "code",
      "metadata": {
        "colab_type": "code",
        "id": "9dEreb4QKizj",
        "colab": {}
      },
      "source": [
        "from __future__ import absolute_import, division, print_function, unicode_literals\n",
        "\n",
        "import numpy as np\n",
        "import pandas as pd\n",
        "\n",
        "try:\n",
        "  # %tensorflow_version only exists in Colab.\n",
        "  %tensorflow_version 2.x\n",
        "except Exception:\n",
        "  pass\n",
        "import tensorflow as tf\n",
        "from tensorflow import feature_column\n",
        "from tensorflow.keras import layers\n",
        "from sklearn.model_selection import train_test_split\n",
        "\n",
        "from keras.utils import plot_model\n",
        "from keras.callbacks import TensorBoard, EarlyStopping, ModelCheckpoint"
      ],
      "execution_count": 0,
      "outputs": []
    },
    {
      "cell_type": "markdown",
      "metadata": {
        "id": "LSE5jbCf9eec",
        "colab_type": "text"
      },
      "source": [
        "# PART 1:  Set-Up!\n",
        "\n"
      ]
    },
    {
      "cell_type": "markdown",
      "metadata": {
        "id": "yv0A5SlBeW18",
        "colab_type": "text"
      },
      "source": [
        "#### **Exercise**:   **REVIEW and THEN RUN** all cells in Part 1. This helps us get the data, validate data pre-processing and ensure that the data is ready for the neural network."
      ]
    },
    {
      "cell_type": "markdown",
      "metadata": {
        "id": "ndTs2oTUssGH",
        "colab_type": "text"
      },
      "source": [
        "## The Source Dataset\n",
        "\n",
        "The California housing dataset data contains 20,640 observations on 10 variables.  The data has been pre-processed so that there are no missing values.\n",
        "\n"
      ]
    },
    {
      "cell_type": "markdown",
      "metadata": {
        "id": "lM6-n6xntv3t",
        "colab_type": "text"
      },
      "source": [
        "#### **Exercise**:   **RUN** the query to create a Pandas dataframe"
      ]
    },
    {
      "cell_type": "code",
      "metadata": {
        "colab_type": "code",
        "id": "REZ57BXCLdfG",
        "colab": {
          "base_uri": "https://localhost:8080/",
          "height": 222
        },
        "outputId": "a6ef2eda-c7eb-4e2d-92e4-e7fcaa20b0af"
      },
      "source": [
        "#NOTE TO Lab Reviewers: Lab requires students to clone the training-data-analyst repo in the Qwiklab portion,\n",
        "\n",
        "dataframe = pd.read_csv('housing_pre-proc.csv', error_bad_lines=False)\n",
        "dataframe.head()"
      ],
      "execution_count": 115,
      "outputs": [
        {
          "output_type": "execute_result",
          "data": {
            "text/html": [
              "<div>\n",
              "<style scoped>\n",
              "    .dataframe tbody tr th:only-of-type {\n",
              "        vertical-align: middle;\n",
              "    }\n",
              "\n",
              "    .dataframe tbody tr th {\n",
              "        vertical-align: top;\n",
              "    }\n",
              "\n",
              "    .dataframe thead th {\n",
              "        text-align: right;\n",
              "    }\n",
              "</style>\n",
              "<table border=\"1\" class=\"dataframe\">\n",
              "  <thead>\n",
              "    <tr style=\"text-align: right;\">\n",
              "      <th></th>\n",
              "      <th>longitude</th>\n",
              "      <th>latitude</th>\n",
              "      <th>housing_median_age</th>\n",
              "      <th>total_rooms</th>\n",
              "      <th>total_bedrooms</th>\n",
              "      <th>population</th>\n",
              "      <th>households</th>\n",
              "      <th>median_income</th>\n",
              "      <th>median_house_value</th>\n",
              "      <th>ocean_proximity</th>\n",
              "    </tr>\n",
              "  </thead>\n",
              "  <tbody>\n",
              "    <tr>\n",
              "      <th>0</th>\n",
              "      <td>-122.23</td>\n",
              "      <td>37.88</td>\n",
              "      <td>41.0</td>\n",
              "      <td>880.0</td>\n",
              "      <td>129.0</td>\n",
              "      <td>322.0</td>\n",
              "      <td>126.0</td>\n",
              "      <td>8.3252</td>\n",
              "      <td>452600.0</td>\n",
              "      <td>NEAR BAY</td>\n",
              "    </tr>\n",
              "    <tr>\n",
              "      <th>1</th>\n",
              "      <td>-122.22</td>\n",
              "      <td>37.86</td>\n",
              "      <td>21.0</td>\n",
              "      <td>7099.0</td>\n",
              "      <td>1106.0</td>\n",
              "      <td>2401.0</td>\n",
              "      <td>1138.0</td>\n",
              "      <td>8.3014</td>\n",
              "      <td>358500.0</td>\n",
              "      <td>NEAR BAY</td>\n",
              "    </tr>\n",
              "    <tr>\n",
              "      <th>2</th>\n",
              "      <td>-122.24</td>\n",
              "      <td>37.85</td>\n",
              "      <td>52.0</td>\n",
              "      <td>1467.0</td>\n",
              "      <td>190.0</td>\n",
              "      <td>496.0</td>\n",
              "      <td>177.0</td>\n",
              "      <td>7.2574</td>\n",
              "      <td>352100.0</td>\n",
              "      <td>NEAR BAY</td>\n",
              "    </tr>\n",
              "    <tr>\n",
              "      <th>3</th>\n",
              "      <td>-122.25</td>\n",
              "      <td>37.85</td>\n",
              "      <td>52.0</td>\n",
              "      <td>1274.0</td>\n",
              "      <td>235.0</td>\n",
              "      <td>558.0</td>\n",
              "      <td>219.0</td>\n",
              "      <td>5.6431</td>\n",
              "      <td>341300.0</td>\n",
              "      <td>NEAR BAY</td>\n",
              "    </tr>\n",
              "    <tr>\n",
              "      <th>4</th>\n",
              "      <td>-122.25</td>\n",
              "      <td>37.85</td>\n",
              "      <td>52.0</td>\n",
              "      <td>1627.0</td>\n",
              "      <td>280.0</td>\n",
              "      <td>565.0</td>\n",
              "      <td>259.0</td>\n",
              "      <td>3.8462</td>\n",
              "      <td>342200.0</td>\n",
              "      <td>NEAR BAY</td>\n",
              "    </tr>\n",
              "  </tbody>\n",
              "</table>\n",
              "</div>"
            ],
            "text/plain": [
              "   longitude  latitude  ...  median_house_value  ocean_proximity\n",
              "0    -122.23     37.88  ...            452600.0         NEAR BAY\n",
              "1    -122.22     37.86  ...            358500.0         NEAR BAY\n",
              "2    -122.24     37.85  ...            352100.0         NEAR BAY\n",
              "3    -122.25     37.85  ...            341300.0         NEAR BAY\n",
              "4    -122.25     37.85  ...            342200.0         NEAR BAY\n",
              "\n",
              "[5 rows x 10 columns]"
            ]
          },
          "metadata": {
            "tags": []
          },
          "execution_count": 115
        }
      ]
    },
    {
      "cell_type": "code",
      "metadata": {
        "id": "ieimDrzpxfe6",
        "colab_type": "code",
        "colab": {
          "base_uri": "https://localhost:8080/",
          "height": 277
        },
        "outputId": "afcb9a7e-0704-44e7-e998-8145f94c9593"
      },
      "source": [
        "#See datatype for each feature\n",
        "\n",
        "dataframe.info()"
      ],
      "execution_count": 116,
      "outputs": [
        {
          "output_type": "stream",
          "text": [
            "<class 'pandas.core.frame.DataFrame'>\n",
            "RangeIndex: 20433 entries, 0 to 20432\n",
            "Data columns (total 10 columns):\n",
            "longitude             20433 non-null float64\n",
            "latitude              20433 non-null float64\n",
            "housing_median_age    20433 non-null float64\n",
            "total_rooms           20433 non-null float64\n",
            "total_bedrooms        20433 non-null float64\n",
            "population            20433 non-null float64\n",
            "households            20433 non-null float64\n",
            "median_income         20433 non-null float64\n",
            "median_house_value    20433 non-null float64\n",
            "ocean_proximity       20433 non-null object\n",
            "dtypes: float64(9), object(1)\n",
            "memory usage: 1.6+ MB\n"
          ],
          "name": "stdout"
        }
      ]
    },
    {
      "cell_type": "code",
      "metadata": {
        "id": "8ySDIORqmd77",
        "colab_type": "code",
        "colab": {
          "base_uri": "https://localhost:8080/",
          "height": 207
        },
        "outputId": "2c72219a-5ad2-4c40-c9f6-bfb41a27e5b6"
      },
      "source": [
        "#Check for null values\n",
        "\n",
        "dataframe.isnull().sum()"
      ],
      "execution_count": 117,
      "outputs": [
        {
          "output_type": "execute_result",
          "data": {
            "text/plain": [
              "longitude             0\n",
              "latitude              0\n",
              "housing_median_age    0\n",
              "total_rooms           0\n",
              "total_bedrooms        0\n",
              "population            0\n",
              "households            0\n",
              "median_income         0\n",
              "median_house_value    0\n",
              "ocean_proximity       0\n",
              "dtype: int64"
            ]
          },
          "metadata": {
            "tags": []
          },
          "execution_count": 117
        }
      ]
    },
    {
      "cell_type": "markdown",
      "metadata": {
        "colab_type": "text",
        "id": "u0zhLtQqMPem"
      },
      "source": [
        "####  Split the dataset for ML\n",
        "\n",
        "The dataset we loaded was a single CSV file. We will split this into train, validation, and test sets.\n"
      ]
    },
    {
      "cell_type": "code",
      "metadata": {
        "colab_type": "code",
        "id": "YEOpw7LhMYsI",
        "colab": {
          "base_uri": "https://localhost:8080/",
          "height": 69
        },
        "outputId": "6161a660-7133-465a-d754-d7acae2b68c8"
      },
      "source": [
        "train, test = train_test_split(dataframe, test_size=0.2)\n",
        "train, val = train_test_split(train, test_size=0.2)\n",
        "print(len(train), 'train examples')\n",
        "print(len(val), 'validation examples')\n",
        "print(len(test), 'test examples')"
      ],
      "execution_count": 118,
      "outputs": [
        {
          "output_type": "stream",
          "text": [
            "13076 train examples\n",
            "3270 validation examples\n",
            "4087 test examples\n"
          ],
          "name": "stdout"
        }
      ]
    },
    {
      "cell_type": "code",
      "metadata": {
        "id": "EFz_dsZ2-Cxl",
        "colab_type": "code",
        "colab": {
          "base_uri": "https://localhost:8080/",
          "height": 641
        },
        "outputId": "9a4ae158-c394-4b7b-cf7a-cd801acb4c9f"
      },
      "source": [
        "#Print out the output.  \n",
        "\n",
        "print(\"\\nTrain:\\n\")\n",
        "print(train.head())\n",
        "print(train.shape)\n",
        "\n",
        "print(\"\\nValidati:\\n\")\n",
        "print(val.head())\n",
        "print(val.shape)\n",
        "\n",
        "print(\"\\nTest:\\n\")\n",
        "print(test.head())\n",
        "print(test.shape)"
      ],
      "execution_count": 120,
      "outputs": [
        {
          "output_type": "stream",
          "text": [
            "\n",
            "Train:\n",
            "\n",
            "       longitude  latitude  ...  median_house_value  ocean_proximity\n",
            "17748    -121.99     37.36  ...            282200.0        <1H OCEAN\n",
            "1917     -121.08     38.67  ...            239600.0           INLAND\n",
            "6655     -118.12     34.12  ...            500001.0        <1H OCEAN\n",
            "11998    -117.23     33.96  ...            163300.0           INLAND\n",
            "15570    -122.46     37.78  ...            400000.0         NEAR BAY\n",
            "\n",
            "[5 rows x 10 columns]\n",
            "(13076, 10)\n",
            "\n",
            "Validati:\n",
            "\n",
            "       longitude  latitude  ...  median_house_value  ocean_proximity\n",
            "12816    -121.26     38.66  ...            221600.0           INLAND\n",
            "13584    -117.17     34.12  ...            164400.0           INLAND\n",
            "6048     -117.90     34.13  ...            139800.0        <1H OCEAN\n",
            "12427    -121.50     38.54  ...            179800.0           INLAND\n",
            "633      -122.15     37.73  ...            141700.0         NEAR BAY\n",
            "\n",
            "[5 rows x 10 columns]\n",
            "(3270, 10)\n",
            "\n",
            "Test:\n",
            "\n",
            "       longitude  latitude  ...  median_house_value  ocean_proximity\n",
            "20094    -119.20     34.18  ...            165600.0       NEAR OCEAN\n",
            "1576     -121.96     37.85  ...            500001.0           INLAND\n",
            "11302    -117.97     33.69  ...            292000.0        <1H OCEAN\n",
            "20277    -118.72     34.28  ...            217700.0        <1H OCEAN\n",
            "2707     -115.57     32.80  ...             68600.0           INLAND\n",
            "\n",
            "[5 rows x 10 columns]\n",
            "(4087, 10)\n"
          ],
          "name": "stdout"
        }
      ]
    },
    {
      "cell_type": "markdown",
      "metadata": {
        "id": "dz9kfjOMBX9U",
        "colab_type": "text"
      },
      "source": [
        "Now, we need to output the split files.  We will specifically need the test.csv later for testing.  You should see the files appear in the home directory.\n"
      ]
    },
    {
      "cell_type": "code",
      "metadata": {
        "id": "ADX23QUu_Wiu",
        "colab_type": "code",
        "colab": {
          "base_uri": "https://localhost:8080/",
          "height": 222
        },
        "outputId": "e97fa59e-4ed4-48a3-8fba-c95f293944ee"
      },
      "source": [
        "train.to_csv('train.csv', encoding='utf-8', index=False)\n",
        "train.head()"
      ],
      "execution_count": 121,
      "outputs": [
        {
          "output_type": "execute_result",
          "data": {
            "text/html": [
              "<div>\n",
              "<style scoped>\n",
              "    .dataframe tbody tr th:only-of-type {\n",
              "        vertical-align: middle;\n",
              "    }\n",
              "\n",
              "    .dataframe tbody tr th {\n",
              "        vertical-align: top;\n",
              "    }\n",
              "\n",
              "    .dataframe thead th {\n",
              "        text-align: right;\n",
              "    }\n",
              "</style>\n",
              "<table border=\"1\" class=\"dataframe\">\n",
              "  <thead>\n",
              "    <tr style=\"text-align: right;\">\n",
              "      <th></th>\n",
              "      <th>longitude</th>\n",
              "      <th>latitude</th>\n",
              "      <th>housing_median_age</th>\n",
              "      <th>total_rooms</th>\n",
              "      <th>total_bedrooms</th>\n",
              "      <th>population</th>\n",
              "      <th>households</th>\n",
              "      <th>median_income</th>\n",
              "      <th>median_house_value</th>\n",
              "      <th>ocean_proximity</th>\n",
              "    </tr>\n",
              "  </thead>\n",
              "  <tbody>\n",
              "    <tr>\n",
              "      <th>17748</th>\n",
              "      <td>-121.99</td>\n",
              "      <td>37.36</td>\n",
              "      <td>33.0</td>\n",
              "      <td>2545.0</td>\n",
              "      <td>467.0</td>\n",
              "      <td>1287.0</td>\n",
              "      <td>458.0</td>\n",
              "      <td>5.5000</td>\n",
              "      <td>282200.0</td>\n",
              "      <td>&lt;1H OCEAN</td>\n",
              "    </tr>\n",
              "    <tr>\n",
              "      <th>1917</th>\n",
              "      <td>-121.08</td>\n",
              "      <td>38.67</td>\n",
              "      <td>10.0</td>\n",
              "      <td>2499.0</td>\n",
              "      <td>331.0</td>\n",
              "      <td>1040.0</td>\n",
              "      <td>333.0</td>\n",
              "      <td>6.8440</td>\n",
              "      <td>239600.0</td>\n",
              "      <td>INLAND</td>\n",
              "    </tr>\n",
              "    <tr>\n",
              "      <th>6655</th>\n",
              "      <td>-118.12</td>\n",
              "      <td>34.12</td>\n",
              "      <td>52.0</td>\n",
              "      <td>2907.0</td>\n",
              "      <td>317.0</td>\n",
              "      <td>956.0</td>\n",
              "      <td>279.0</td>\n",
              "      <td>15.0001</td>\n",
              "      <td>500001.0</td>\n",
              "      <td>&lt;1H OCEAN</td>\n",
              "    </tr>\n",
              "    <tr>\n",
              "      <th>11998</th>\n",
              "      <td>-117.23</td>\n",
              "      <td>33.96</td>\n",
              "      <td>5.0</td>\n",
              "      <td>9179.0</td>\n",
              "      <td>1361.0</td>\n",
              "      <td>4573.0</td>\n",
              "      <td>1294.0</td>\n",
              "      <td>5.2530</td>\n",
              "      <td>163300.0</td>\n",
              "      <td>INLAND</td>\n",
              "    </tr>\n",
              "    <tr>\n",
              "      <th>15570</th>\n",
              "      <td>-122.46</td>\n",
              "      <td>37.78</td>\n",
              "      <td>47.0</td>\n",
              "      <td>1682.0</td>\n",
              "      <td>379.0</td>\n",
              "      <td>837.0</td>\n",
              "      <td>375.0</td>\n",
              "      <td>5.2806</td>\n",
              "      <td>400000.0</td>\n",
              "      <td>NEAR BAY</td>\n",
              "    </tr>\n",
              "  </tbody>\n",
              "</table>\n",
              "</div>"
            ],
            "text/plain": [
              "       longitude  latitude  ...  median_house_value  ocean_proximity\n",
              "17748    -121.99     37.36  ...            282200.0        <1H OCEAN\n",
              "1917     -121.08     38.67  ...            239600.0           INLAND\n",
              "6655     -118.12     34.12  ...            500001.0        <1H OCEAN\n",
              "11998    -117.23     33.96  ...            163300.0           INLAND\n",
              "15570    -122.46     37.78  ...            400000.0         NEAR BAY\n",
              "\n",
              "[5 rows x 10 columns]"
            ]
          },
          "metadata": {
            "tags": []
          },
          "execution_count": 121
        }
      ]
    },
    {
      "cell_type": "code",
      "metadata": {
        "id": "CU1FgmKEAmWh",
        "colab_type": "code",
        "colab": {
          "base_uri": "https://localhost:8080/",
          "height": 222
        },
        "outputId": "2cce91e1-2c4a-4fe8-a6c3-3da52cb9458f"
      },
      "source": [
        "val.to_csv('val.csv', encoding='utf-8', index=False)\n",
        "val.head()"
      ],
      "execution_count": 122,
      "outputs": [
        {
          "output_type": "execute_result",
          "data": {
            "text/html": [
              "<div>\n",
              "<style scoped>\n",
              "    .dataframe tbody tr th:only-of-type {\n",
              "        vertical-align: middle;\n",
              "    }\n",
              "\n",
              "    .dataframe tbody tr th {\n",
              "        vertical-align: top;\n",
              "    }\n",
              "\n",
              "    .dataframe thead th {\n",
              "        text-align: right;\n",
              "    }\n",
              "</style>\n",
              "<table border=\"1\" class=\"dataframe\">\n",
              "  <thead>\n",
              "    <tr style=\"text-align: right;\">\n",
              "      <th></th>\n",
              "      <th>longitude</th>\n",
              "      <th>latitude</th>\n",
              "      <th>housing_median_age</th>\n",
              "      <th>total_rooms</th>\n",
              "      <th>total_bedrooms</th>\n",
              "      <th>population</th>\n",
              "      <th>households</th>\n",
              "      <th>median_income</th>\n",
              "      <th>median_house_value</th>\n",
              "      <th>ocean_proximity</th>\n",
              "    </tr>\n",
              "  </thead>\n",
              "  <tbody>\n",
              "    <tr>\n",
              "      <th>12816</th>\n",
              "      <td>-121.26</td>\n",
              "      <td>38.66</td>\n",
              "      <td>19.0</td>\n",
              "      <td>3170.0</td>\n",
              "      <td>444.0</td>\n",
              "      <td>1344.0</td>\n",
              "      <td>452.0</td>\n",
              "      <td>6.1183</td>\n",
              "      <td>221600.0</td>\n",
              "      <td>INLAND</td>\n",
              "    </tr>\n",
              "    <tr>\n",
              "      <th>13584</th>\n",
              "      <td>-117.17</td>\n",
              "      <td>34.12</td>\n",
              "      <td>2.0</td>\n",
              "      <td>3867.0</td>\n",
              "      <td>573.0</td>\n",
              "      <td>1275.0</td>\n",
              "      <td>433.0</td>\n",
              "      <td>5.4138</td>\n",
              "      <td>164400.0</td>\n",
              "      <td>INLAND</td>\n",
              "    </tr>\n",
              "    <tr>\n",
              "      <th>6048</th>\n",
              "      <td>-117.90</td>\n",
              "      <td>34.13</td>\n",
              "      <td>5.0</td>\n",
              "      <td>1126.0</td>\n",
              "      <td>316.0</td>\n",
              "      <td>819.0</td>\n",
              "      <td>311.0</td>\n",
              "      <td>1.5000</td>\n",
              "      <td>139800.0</td>\n",
              "      <td>&lt;1H OCEAN</td>\n",
              "    </tr>\n",
              "    <tr>\n",
              "      <th>12427</th>\n",
              "      <td>-121.50</td>\n",
              "      <td>38.54</td>\n",
              "      <td>44.0</td>\n",
              "      <td>1167.0</td>\n",
              "      <td>201.0</td>\n",
              "      <td>452.0</td>\n",
              "      <td>209.0</td>\n",
              "      <td>3.7344</td>\n",
              "      <td>179800.0</td>\n",
              "      <td>INLAND</td>\n",
              "    </tr>\n",
              "    <tr>\n",
              "      <th>633</th>\n",
              "      <td>-122.15</td>\n",
              "      <td>37.73</td>\n",
              "      <td>28.0</td>\n",
              "      <td>2215.0</td>\n",
              "      <td>587.0</td>\n",
              "      <td>830.0</td>\n",
              "      <td>573.0</td>\n",
              "      <td>2.1898</td>\n",
              "      <td>141700.0</td>\n",
              "      <td>NEAR BAY</td>\n",
              "    </tr>\n",
              "  </tbody>\n",
              "</table>\n",
              "</div>"
            ],
            "text/plain": [
              "       longitude  latitude  ...  median_house_value  ocean_proximity\n",
              "12816    -121.26     38.66  ...            221600.0           INLAND\n",
              "13584    -117.17     34.12  ...            164400.0           INLAND\n",
              "6048     -117.90     34.13  ...            139800.0        <1H OCEAN\n",
              "12427    -121.50     38.54  ...            179800.0           INLAND\n",
              "633      -122.15     37.73  ...            141700.0         NEAR BAY\n",
              "\n",
              "[5 rows x 10 columns]"
            ]
          },
          "metadata": {
            "tags": []
          },
          "execution_count": 122
        }
      ]
    },
    {
      "cell_type": "code",
      "metadata": {
        "id": "LvUNWv9iBMFx",
        "colab_type": "code",
        "colab": {
          "base_uri": "https://localhost:8080/",
          "height": 222
        },
        "outputId": "f71fac39-3f45-44ab-9b3a-7612731dc0e6"
      },
      "source": [
        "test.to_csv('test.csv', encoding='utf-8', index=False)\n",
        "test.head()"
      ],
      "execution_count": 123,
      "outputs": [
        {
          "output_type": "execute_result",
          "data": {
            "text/html": [
              "<div>\n",
              "<style scoped>\n",
              "    .dataframe tbody tr th:only-of-type {\n",
              "        vertical-align: middle;\n",
              "    }\n",
              "\n",
              "    .dataframe tbody tr th {\n",
              "        vertical-align: top;\n",
              "    }\n",
              "\n",
              "    .dataframe thead th {\n",
              "        text-align: right;\n",
              "    }\n",
              "</style>\n",
              "<table border=\"1\" class=\"dataframe\">\n",
              "  <thead>\n",
              "    <tr style=\"text-align: right;\">\n",
              "      <th></th>\n",
              "      <th>longitude</th>\n",
              "      <th>latitude</th>\n",
              "      <th>housing_median_age</th>\n",
              "      <th>total_rooms</th>\n",
              "      <th>total_bedrooms</th>\n",
              "      <th>population</th>\n",
              "      <th>households</th>\n",
              "      <th>median_income</th>\n",
              "      <th>median_house_value</th>\n",
              "      <th>ocean_proximity</th>\n",
              "    </tr>\n",
              "  </thead>\n",
              "  <tbody>\n",
              "    <tr>\n",
              "      <th>20094</th>\n",
              "      <td>-119.20</td>\n",
              "      <td>34.18</td>\n",
              "      <td>22.0</td>\n",
              "      <td>6465.0</td>\n",
              "      <td>1397.0</td>\n",
              "      <td>2694.0</td>\n",
              "      <td>1370.0</td>\n",
              "      <td>2.9832</td>\n",
              "      <td>165600.0</td>\n",
              "      <td>NEAR OCEAN</td>\n",
              "    </tr>\n",
              "    <tr>\n",
              "      <th>1576</th>\n",
              "      <td>-121.96</td>\n",
              "      <td>37.85</td>\n",
              "      <td>10.0</td>\n",
              "      <td>3209.0</td>\n",
              "      <td>379.0</td>\n",
              "      <td>1199.0</td>\n",
              "      <td>392.0</td>\n",
              "      <td>12.2478</td>\n",
              "      <td>500001.0</td>\n",
              "      <td>INLAND</td>\n",
              "    </tr>\n",
              "    <tr>\n",
              "      <th>11302</th>\n",
              "      <td>-117.97</td>\n",
              "      <td>33.69</td>\n",
              "      <td>21.0</td>\n",
              "      <td>4112.0</td>\n",
              "      <td>580.0</td>\n",
              "      <td>1886.0</td>\n",
              "      <td>581.0</td>\n",
              "      <td>6.7990</td>\n",
              "      <td>292000.0</td>\n",
              "      <td>&lt;1H OCEAN</td>\n",
              "    </tr>\n",
              "    <tr>\n",
              "      <th>20277</th>\n",
              "      <td>-118.72</td>\n",
              "      <td>34.28</td>\n",
              "      <td>18.0</td>\n",
              "      <td>2229.0</td>\n",
              "      <td>371.0</td>\n",
              "      <td>1283.0</td>\n",
              "      <td>379.0</td>\n",
              "      <td>5.5955</td>\n",
              "      <td>217700.0</td>\n",
              "      <td>&lt;1H OCEAN</td>\n",
              "    </tr>\n",
              "    <tr>\n",
              "      <th>2707</th>\n",
              "      <td>-115.57</td>\n",
              "      <td>32.80</td>\n",
              "      <td>33.0</td>\n",
              "      <td>1192.0</td>\n",
              "      <td>213.0</td>\n",
              "      <td>1066.0</td>\n",
              "      <td>211.0</td>\n",
              "      <td>4.5714</td>\n",
              "      <td>68600.0</td>\n",
              "      <td>INLAND</td>\n",
              "    </tr>\n",
              "  </tbody>\n",
              "</table>\n",
              "</div>"
            ],
            "text/plain": [
              "       longitude  latitude  ...  median_house_value  ocean_proximity\n",
              "20094    -119.20     34.18  ...            165600.0       NEAR OCEAN\n",
              "1576     -121.96     37.85  ...            500001.0           INLAND\n",
              "11302    -117.97     33.69  ...            292000.0        <1H OCEAN\n",
              "20277    -118.72     34.28  ...            217700.0        <1H OCEAN\n",
              "2707     -115.57     32.80  ...             68600.0           INLAND\n",
              "\n",
              "[5 rows x 10 columns]"
            ]
          },
          "metadata": {
            "tags": []
          },
          "execution_count": 123
        }
      ]
    },
    {
      "cell_type": "markdown",
      "metadata": {
        "id": "n5FAZwwn_rbX",
        "colab_type": "text"
      },
      "source": [
        "# Part 2:  Your feature engineering lab starts here!"
      ]
    },
    {
      "cell_type": "markdown",
      "metadata": {
        "id": "Aj35eYy_lutI",
        "colab_type": "text"
      },
      "source": [
        "## Objective:   Build an input pipeline"
      ]
    },
    {
      "cell_type": "markdown",
      "metadata": {
        "colab_type": "text",
        "id": "84ef46LXMfvu"
      },
      "source": [
        "#### **Exercise**:   Create an input pipeline using tf.data\n",
        "\n",
        "Next, we will wrap the dataframes with [tf.data](https://www.tensorflow.org/guide/datasets). This will enable us  to use feature columns as a bridge to map from the columns in the Pandas dataframe to features used to train the model.  "
      ]
    },
    {
      "cell_type": "code",
      "metadata": {
        "id": "V08sqkMr_64P",
        "colab_type": "code",
        "colab": {}
      },
      "source": [
        "#TODO: This function is missing two lines.  Correct and run the cell.\n",
        "\n",
        "def df_to_dataset(dataframe, shuffle=True, batch_size=32):\n",
        "  dataframe = dataframe.copy()\n",
        "  ds = tf.data.Dataset.from_tensor_slices((dict(dataframe), labels))\n",
        "  if shuffle:\n",
        "    ds = ds.shuffle(buffer_size=len(dataframe))\n",
        "  ds = ds.batch(batch_size)\n"
      ],
      "execution_count": 0,
      "outputs": []
    },
    {
      "cell_type": "code",
      "metadata": {
        "colab_type": "code",
        "id": "NkcaMYP-MsRe",
        "colab": {}
      },
      "source": [
        "# SOLUTION\n",
        "#A utility method to create a tf.data dataset from a Pandas Dataframe\n",
        "\n",
        "def df_to_dataset(dataframe, shuffle=True, batch_size=32):\n",
        "  dataframe = dataframe.copy()\n",
        "  labels = dataframe.pop('median_house_value')\n",
        "  ds = tf.data.Dataset.from_tensor_slices((dict(dataframe), labels))\n",
        "  if shuffle:\n",
        "    ds = ds.shuffle(buffer_size=len(dataframe))\n",
        "  ds = ds.batch(batch_size)\n",
        "  return ds"
      ],
      "execution_count": 0,
      "outputs": []
    },
    {
      "cell_type": "markdown",
      "metadata": {
        "id": "RtTJZeyzAszs",
        "colab_type": "text"
      },
      "source": [
        "#### **Exercise**:   **RUN** the cell to initialize the training datasets."
      ]
    },
    {
      "cell_type": "code",
      "metadata": {
        "colab_type": "code",
        "id": "CXbbXkJvMy34",
        "colab": {}
      },
      "source": [
        "batch_size = 32 \n",
        "train_ds = df_to_dataset(train, batch_size=batch_size)\n",
        "val_ds = df_to_dataset(val, shuffle=False, batch_size=batch_size)\n",
        "test_ds = df_to_dataset(test, shuffle=False, batch_size=batch_size)"
      ],
      "execution_count": 0,
      "outputs": []
    },
    {
      "cell_type": "markdown",
      "metadata": {
        "colab_type": "text",
        "id": "qRLGSMDzM-dl"
      },
      "source": [
        "## Understand the input pipeline\n",
        "\n",
        "Now that we have created the input pipeline, let's call it to see the format of the data it returns. We have used a small batch size to keep the output readable."
      ]
    },
    {
      "cell_type": "markdown",
      "metadata": {
        "id": "gSyRhEJuA9e2",
        "colab_type": "text"
      },
      "source": [
        "#### **Exercise**:   **RUN** the cell to see a sample of the features from the batch."
      ]
    },
    {
      "cell_type": "code",
      "metadata": {
        "colab_type": "code",
        "id": "CSBo3dUVNFc9",
        "colab": {
          "base_uri": "https://localhost:8080/",
          "height": 331
        },
        "outputId": "d1be2646-b1e5-4110-dbba-5bc49d9b30f6"
      },
      "source": [
        "for feature_batch, label_batch in train_ds.take(1):\n",
        "  print('Every feature:', list(feature_batch.keys()))\n",
        "  print('A batch of households:', feature_batch['households'])\n",
        "  print('A batch of ocean_proximity:', feature_batch['ocean_proximity'])\n",
        "  print('A batch of targets:', label_batch )"
      ],
      "execution_count": 127,
      "outputs": [
        {
          "output_type": "stream",
          "text": [
            "Every feature: ['longitude', 'latitude', 'housing_median_age', 'total_rooms', 'total_bedrooms', 'population', 'households', 'median_income', 'ocean_proximity']\n",
            "A batch of households: tf.Tensor(\n",
            "[ 352.  267.  707.  905.  422.  430.  300.  515.  278.  484.    5.  464.\n",
            "  404. 1058.  590. 1027.  579.  358.  351.  291.  280.  108.  425.  949.\n",
            "  251.  487.  364.  466.  375.  184.  186.  436.], shape=(32,), dtype=float64)\n",
            "A batch of ocean_proximity: tf.Tensor(\n",
            "[b'NEAR OCEAN' b'<1H OCEAN' b'NEAR BAY' b'<1H OCEAN' b'<1H OCEAN'\n",
            " b'<1H OCEAN' b'<1H OCEAN' b'INLAND' b'<1H OCEAN' b'<1H OCEAN' b'INLAND'\n",
            " b'<1H OCEAN' b'<1H OCEAN' b'NEAR OCEAN' b'INLAND' b'<1H OCEAN'\n",
            " b'NEAR OCEAN' b'<1H OCEAN' b'INLAND' b'<1H OCEAN' b'INLAND' b'<1H OCEAN'\n",
            " b'<1H OCEAN' b'INLAND' b'<1H OCEAN' b'NEAR BAY' b'<1H OCEAN' b'INLAND'\n",
            " b'<1H OCEAN' b'<1H OCEAN' b'INLAND' b'<1H OCEAN'], shape=(32,), dtype=string)\n",
            "A batch of targets: tf.Tensor(\n",
            "[458500. 251900. 400400. 262900. 247200. 162500. 170600.  65600. 138600.\n",
            " 178600.  67500.  99300. 150700. 181800.  72300. 282600. 218800. 106900.\n",
            "  63900. 161900.  79200. 500001. 240300. 228500. 500001. 197000. 326100.\n",
            " 119000. 342000. 148800.  54400. 205300.], shape=(32,), dtype=float64)\n"
          ],
          "name": "stdout"
        }
      ]
    },
    {
      "cell_type": "markdown",
      "metadata": {
        "colab_type": "text",
        "id": "OT5N6Se-NQsC"
      },
      "source": [
        "We can see that the dataset returns a dictionary of column names (from the dataframe) that map to column values from rows in the dataframe."
      ]
    },
    {
      "cell_type": "markdown",
      "metadata": {
        "id": "YEGEAqaziwfC",
        "colab_type": "text"
      },
      "source": [
        "### Numeric columns\n",
        "The output of a feature column becomes the input to the model. A numeric is the simplest type of column. It is used to represent real valued features. When using this column, your model will receive the column value from the dataframe unchanged.\n",
        "\n",
        "In the California housing prices dataset, most columns from the dataframe are numeric."
      ]
    },
    {
      "cell_type": "markdown",
      "metadata": {
        "id": "jioIeb9lBGNN",
        "colab_type": "text"
      },
      "source": [
        "#### **Exercise**:   Create a variable called **num_c** to hold only the numerical feature columns."
      ]
    },
    {
      "cell_type": "code",
      "metadata": {
        "id": "EVZG1vvGBVdu",
        "colab_type": "code",
        "colab": {}
      },
      "source": [
        "#TODO YOUR CODE HERE"
      ],
      "execution_count": 0,
      "outputs": []
    },
    {
      "cell_type": "code",
      "metadata": {
        "id": "YyXRsEgIEbSB",
        "colab_type": "code",
        "colab": {}
      },
      "source": [
        "#SOLUTION\n",
        "\n",
        "num_c = ['longitude',  'latitude',\n",
        "                'housing_median_age', 'total_rooms', 'total_bedrooms',\n",
        "                 'population', 'households', 'median_income']\n"
      ],
      "execution_count": 0,
      "outputs": []
    },
    {
      "cell_type": "markdown",
      "metadata": {
        "id": "EwMEcH_52JT8",
        "colab_type": "text"
      },
      "source": [
        "### Scaler function\n",
        "It is very important for numerical variables to get scaled before they are \"fed\" into the neural network. Here we use min-max scaling. Here we are creating a function named 'get_scal' which takes list of numerical features and  returns 'minmax' function, which will be used in tf.feature_column.numeric_column() as normalizer_fn in parameters. 'minmax' function itself takes a 'numerical' number from a particular feature and return scaled value of that number. "
      ]
    },
    {
      "cell_type": "markdown",
      "metadata": {
        "id": "ig1k5ovWBnN8",
        "colab_type": "text"
      },
      "source": [
        "#### **Exercise**:   **RUN** the next two cells to scale the numeric features."
      ]
    },
    {
      "cell_type": "code",
      "metadata": {
        "colab_type": "code",
        "id": "NGnpUKg4lc4m",
        "colab": {}
      },
      "source": [
        "#Scalardef get_scal(feature):\n",
        "def get_scal(feature):\n",
        "  def minmax(x):\n",
        "    mini = train[feature].min()\n",
        "    maxi = train[feature].max()\n",
        "    return (x - mini)/(maxi-mini)\n",
        "  return(minmax)"
      ],
      "execution_count": 0,
      "outputs": []
    },
    {
      "cell_type": "code",
      "metadata": {
        "id": "Y8IUfcuVaS_g",
        "colab_type": "code",
        "colab": {}
      },
      "source": [
        "feature_columns = []\n",
        "for header in num_c:\n",
        "  scal_input_fn = get_scal(header)\n",
        "  feature_columns.append(feature_column.numeric_column(header, normalizer_fn=scal_input_fn))\n"
      ],
      "execution_count": 0,
      "outputs": []
    },
    {
      "cell_type": "markdown",
      "metadata": {
        "id": "8v9XoD7WCKRM",
        "colab_type": "text"
      },
      "source": [
        "#### **Exercise**:   **RUN** the cell to see the total number of feature columns.  Compare this number to the number of numeric features you input earlier."
      ]
    },
    {
      "cell_type": "code",
      "metadata": {
        "id": "4jgPFThi50sS",
        "colab_type": "code",
        "colab": {
          "base_uri": "https://localhost:8080/",
          "height": 34
        },
        "outputId": "23ede6f5-a62a-4767-b3a6-fe8a3b89a212"
      },
      "source": [
        "print('Total number of feature coLumns: ',len(feature_columns))"
      ],
      "execution_count": 132,
      "outputs": [
        {
          "output_type": "stream",
          "text": [
            "Total number of feature coLumns:  8\n"
          ],
          "name": "stdout"
        }
      ]
    },
    {
      "cell_type": "markdown",
      "metadata": {
        "id": "9Ug3hB8Sl0jO",
        "colab_type": "text"
      },
      "source": [
        "## Objective:  Build, train, and evaluate a Keras Sequential Model"
      ]
    },
    {
      "cell_type": "markdown",
      "metadata": {
        "colab_type": "text",
        "id": "bBx4Xu0eTXWq"
      },
      "source": [
        "#### **Exercise**:   Correct the cell below that creates, compiles, and fits a Keras model."
      ]
    },
    {
      "cell_type": "code",
      "metadata": {
        "id": "8x-gHsiEkAhO",
        "colab_type": "code",
        "colab": {}
      },
      "source": [
        "#TODO - CODE IS INCORECT \n",
        "#Model create\n",
        "tf.keras.layers.DenseFeatures(feature_columns) = feature_layer \n",
        "\n",
        "tf.keras.Sequential  = model([\n",
        "  feature_layer,\n",
        "  layers.Dense(12,  input_dim=8, activation='relu'),\n",
        "  layers.Dense(8, activation='relu'),\n",
        "  layers.Dense(1, activation='linear')\n",
        "])\n",
        "\n",
        "### Model compile\n",
        "model.fit(optimizer='adam',\n",
        "              loss='mse',\n",
        "              metrics=['mse']) \n",
        "\n",
        "### Model Fit\n",
        "history = model.compile(train_ds,\n",
        "          validation_data=val_ds,\n",
        "          epochs=32) "
      ],
      "execution_count": 0,
      "outputs": []
    },
    {
      "cell_type": "code",
      "metadata": {
        "colab_type": "code",
        "id": "_YJPPb3xTPeZ",
        "colab": {
          "base_uri": "https://localhost:8080/",
          "height": 1000
        },
        "outputId": "2d445722-1d43-4a27-a6c0-c6ce813ab450"
      },
      "source": [
        "#SOLUTION\n",
        "#Model create\n",
        "feature_layer = tf.keras.layers.DenseFeatures(feature_columns)\n",
        "\n",
        "model = tf.keras.Sequential([\n",
        "  feature_layer,\n",
        "  layers.Dense(12,  input_dim=8, activation='relu'),\n",
        "  layers.Dense(8, activation='relu'),\n",
        "  layers.Dense(1, activation='linear',  name='median_house_value')\n",
        "])\n",
        "\n",
        "### Model compile\n",
        "model.compile(optimizer='adam',\n",
        "              loss='mse',\n",
        "              metrics=['mse']) \n",
        "\n",
        "### Model Fit\n",
        "history = model.fit(train_ds,\n",
        "          validation_data=val_ds,\n",
        "          epochs=32) "
      ],
      "execution_count": 134,
      "outputs": [
        {
          "output_type": "stream",
          "text": [
            "WARNING:tensorflow:Layer sequential_5 is casting an input tensor from dtype float64 to the layer's dtype of float32, which is new behavior in TensorFlow 2.  The layer has dtype float32 because it's dtype defaults to floatx.\n",
            "\n",
            "If you intended to run this layer in float32, you can safely ignore this warning. If in doubt, this warning is likely only an issue if you are porting a TensorFlow 1.X model to TensorFlow 2.\n",
            "\n",
            "To change all layers to have dtype float64 by default, call `tf.keras.backend.set_floatx('float64')`. To change just this layer, pass dtype='float64' to the layer constructor. If you are the author of this layer, you can disable autocasting by passing autocast=False to the base Layer constructor.\n",
            "\n",
            "Epoch 1/32\n",
            "409/409 [==============================] - 4s 9ms/step - loss: 55648800277.2812 - mse: 55655419904.0000 - val_loss: 0.0000e+00 - val_mse: 0.0000e+00\n",
            "Epoch 2/32\n",
            "409/409 [==============================] - 1s 3ms/step - loss: 55568140752.6344 - mse: 55592914944.0000 - val_loss: 56511871990.0583 - val_mse: 56486871040.0000\n",
            "Epoch 3/32\n",
            "409/409 [==============================] - 1s 3ms/step - loss: 55408023084.3863 - mse: 55386357760.0000 - val_loss: 56210631192.8544 - val_mse: 56185716736.0000\n",
            "Epoch 4/32\n",
            "409/409 [==============================] - 1s 3ms/step - loss: 54951714609.0986 - mse: 54979805184.0000 - val_loss: 55689069756.8932 - val_mse: 55664357376.0000\n",
            "Epoch 5/32\n",
            "409/409 [==============================] - 1s 3ms/step - loss: 54308844741.7223 - mse: 54338527232.0000 - val_loss: 54920055837.8252 - val_mse: 54895591424.0000\n",
            "Epoch 6/32\n",
            "409/409 [==============================] - 1s 3ms/step - loss: 53449648926.1897 - mse: 53444751360.0000 - val_loss: 53892228583.1456 - val_mse: 53868101632.0000\n",
            "Epoch 7/32\n",
            "409/409 [==============================] - 1s 3ms/step - loss: 52313418982.2279 - mse: 52292657152.0000 - val_loss: 52603951501.6699 - val_mse: 52580261888.0000\n",
            "Epoch 8/32\n",
            "409/409 [==============================] - 1s 3ms/step - loss: 50866895937.7961 - mse: 50884489216.0000 - val_loss: 51063144825.7864 - val_mse: 51039940608.0000\n",
            "Epoch 9/32\n",
            "409/409 [==============================] - 1s 3ms/step - loss: 49227109354.5193 - mse: 49227472896.0000 - val_loss: 49278797267.2621 - val_mse: 49256157184.0000\n",
            "Epoch 10/32\n",
            "409/409 [==============================] - 1s 3ms/step - loss: 47307570604.3201 - mse: 47335485440.0000 - val_loss: 47264076869.5922 - val_mse: 47242035200.0000\n",
            "Epoch 11/32\n",
            "409/409 [==============================] - 1s 3ms/step - loss: 45245919972.9722 - mse: 45227601920.0000 - val_loss: 45044123528.6990 - val_mse: 45022715904.0000\n",
            "Epoch 12/32\n",
            "409/409 [==============================] - 1s 3ms/step - loss: 42932179114.5619 - mse: 42929344512.0000 - val_loss: 42646475447.9223 - val_mse: 42625703936.0000\n",
            "Epoch 13/32\n",
            "409/409 [==============================] - 1s 3ms/step - loss: 40434403605.7968 - mse: 40465928192.0000 - val_loss: 40096175332.6602 - val_mse: 40076034048.0000\n",
            "Epoch 14/32\n",
            "409/409 [==============================] - 1s 3ms/step - loss: 37849858535.2249 - mse: 37871349760.0000 - val_loss: 37435986357.4369 - val_mse: 37416460288.0000\n",
            "Epoch 15/32\n",
            "409/409 [==============================] - 1s 3ms/step - loss: 35192846485.3423 - mse: 35188645888.0000 - val_loss: 34702988397.3592 - val_mse: 34684006400.0000\n",
            "Epoch 16/32\n",
            "409/409 [==============================] - 1s 3ms/step - loss: 32460704573.3351 - mse: 32459943936.0000 - val_loss: 31946268801.2427 - val_mse: 31927746560.0000\n",
            "Epoch 17/32\n",
            "409/409 [==============================] - 1s 3ms/step - loss: 29728002428.8753 - mse: 29732216832.0000 - val_loss: 29216966964.1942 - val_mse: 29198774272.0000\n",
            "Epoch 18/32\n",
            "409/409 [==============================] - 1s 3ms/step - loss: 27066478564.6596 - mse: 27054710784.0000 - val_loss: 26555014322.9515 - val_mse: 26537019392.0000\n",
            "Epoch 19/32\n",
            "409/409 [==============================] - 1s 3ms/step - loss: 24495404185.8664 - mse: 24481282048.0000 - val_loss: 24026698254.9126 - val_mse: 24008742912.0000\n",
            "Epoch 20/32\n",
            "409/409 [==============================] - 1s 3ms/step - loss: 22060805081.2341 - mse: 22062262272.0000 - val_loss: 21675644689.3981 - val_mse: 21657528320.0000\n",
            "Epoch 21/32\n",
            "409/409 [==============================] - 1s 3ms/step - loss: 19862485250.2308 - mse: 19848615936.0000 - val_loss: 19552624520.6990 - val_mse: 19534153728.0000\n",
            "Epoch 22/32\n",
            "409/409 [==============================] - 1s 3ms/step - loss: 17878847871.0657 - mse: 17886912512.0000 - val_loss: 17708262161.3981 - val_mse: 17689235456.0000\n",
            "Epoch 23/32\n",
            "409/409 [==============================] - 1s 3ms/step - loss: 16217608872.7624 - mse: 16209798144.0000 - val_loss: 16147992620.7379 - val_mse: 16128210944.0000\n",
            "Epoch 24/32\n",
            "409/409 [==============================] - 1s 3ms/step - loss: 14838279323.9848 - mse: 14843108352.0000 - val_loss: 14908443145.9417 - val_mse: 14887762944.0000\n",
            "Epoch 25/32\n",
            "409/409 [==============================] - 1s 3ms/step - loss: 13790241727.1440 - mse: 13791095808.0000 - val_loss: 13987693612.7379 - val_mse: 13966023680.0000\n",
            "Epoch 26/32\n",
            "409/409 [==============================] - 1s 3ms/step - loss: 13037665996.4429 - mse: 13036878848.0000 - val_loss: 13341681465.1650 - val_mse: 13318980608.0000\n",
            "Epoch 27/32\n",
            "409/409 [==============================] - 1s 3ms/step - loss: 12544958505.4608 - mse: 12539473920.0000 - val_loss: 12937922226.9515 - val_mse: 12914288640.0000\n",
            "Epoch 28/32\n",
            "409/409 [==============================] - 1s 3ms/step - loss: 12240837784.3718 - mse: 12240474112.0000 - val_loss: 12695488059.6505 - val_mse: 12671047680.0000\n",
            "Epoch 29/32\n",
            "409/409 [==============================] - 1s 3ms/step - loss: 12071070368.1156 - mse: 12075163648.0000 - val_loss: 12562813862.5243 - val_mse: 12537796608.0000\n",
            "Epoch 30/32\n",
            "409/409 [==============================] - 1s 3ms/step - loss: 11990583405.1094 - mse: 11985060864.0000 - val_loss: 12485214769.7087 - val_mse: 12459853824.0000\n",
            "Epoch 31/32\n",
            "409/409 [==============================] - 1s 3ms/step - loss: 11936528032.1286 - mse: 11928629248.0000 - val_loss: 12432162423.3010 - val_mse: 12406642688.0000\n",
            "Epoch 32/32\n",
            "409/409 [==============================] - 1s 3ms/step - loss: 11886906367.6155 - mse: 11885126656.0000 - val_loss: 12387827209.9417 - val_mse: 12362314752.0000\n"
          ],
          "name": "stdout"
        }
      ]
    },
    {
      "cell_type": "markdown",
      "metadata": {
        "id": "PSstMnHHh33R",
        "colab_type": "text"
      },
      "source": [
        "#### **Exercise**:   **RUN** the cell to show loss and accuracy."
      ]
    },
    {
      "cell_type": "code",
      "metadata": {
        "id": "vo7hhkPqm6Jx",
        "colab_type": "code",
        "colab": {
          "base_uri": "https://localhost:8080/",
          "height": 71
        },
        "outputId": "938907f6-b6c8-497c-a8f6-0f1cdbf336c9"
      },
      "source": [
        "loss, accuracy = model.evaluate(test_ds)\n",
        "print(\"Accuracy\", accuracy)\n"
      ],
      "execution_count": 135,
      "outputs": [
        {
          "output_type": "stream",
          "text": [
            "128/128 [==============================] - 0s 2ms/step - loss: 12323565972.0000 - mse: 12332552192.0000\n",
            "Accuracy 12332552000.0\n"
          ],
          "name": "stdout"
        }
      ]
    },
    {
      "cell_type": "markdown",
      "metadata": {
        "id": "252EPxGp7-FJ",
        "colab_type": "text"
      },
      "source": [
        "### Visualize the model loss curve\n",
        "\n",
        "Next, we will use matplotlib to draw the model's loss curves for training and validation.  A line plot is also created showing the mean squared error loss over the training epochs for both the train (blue) and test (orange) sets."
      ]
    },
    {
      "cell_type": "markdown",
      "metadata": {
        "id": "n92_zRprDSVs",
        "colab_type": "text"
      },
      "source": [
        "#### **Exercise**:   **RUN** the cell to show the the models loss curves."
      ]
    },
    {
      "cell_type": "code",
      "metadata": {
        "id": "q7pVC0E07YkE",
        "colab_type": "code",
        "colab": {
          "base_uri": "https://localhost:8080/",
          "height": 350
        },
        "outputId": "55b1f6f9-a1e2-40fc-d5dd-7e2454031c85"
      },
      "source": [
        "# plot\n",
        "import matplotlib.pyplot as plt\n",
        "nrows = 1\n",
        "ncols = 2\n",
        "fig = plt.figure(figsize=(10, 5))\n",
        "\n",
        "for idx, key in enumerate(['loss', 'mse']):  \n",
        "    ax = fig.add_subplot(nrows, ncols, idx+1)\n",
        "    plt.plot(history.history[key])\n",
        "    plt.plot(history.history['val_{}'.format(key)])\n",
        "    plt.title('model {}'.format(key))\n",
        "    plt.ylabel(key)\n",
        "    plt.xlabel('epoch')\n",
        "    plt.legend(['train', 'validation'], loc='upper left');"
      ],
      "execution_count": 136,
      "outputs": [
        {
          "output_type": "display_data",
          "data": {
            "image/png": "[encoded data removed]",
            "text/plain": [
              "<Figure size 720x360 with 2 Axes>"
            ]
          },
          "metadata": {
            "tags": []
          }
        }
      ]
    },
    {
      "cell_type": "markdown",
      "metadata": {
        "id": "wqkozY268xi7",
        "colab_type": "text"
      },
      "source": [
        "## Objective:  Load and preprocess test data"
      ]
    },
    {
      "cell_type": "markdown",
      "metadata": {
        "id": "uf4TyVJ_Dzxe",
        "colab_type": "text"
      },
      "source": [
        "#### **Exercise**:   In the next two cells, read in the test.csv file and validate that there are no null values."
      ]
    },
    {
      "cell_type": "code",
      "metadata": {
        "id": "zrHfGGgZDoMf",
        "colab_type": "code",
        "colab": {}
      },
      "source": [
        "#TODO  YOUR CODE HERE"
      ],
      "execution_count": 0,
      "outputs": []
    },
    {
      "cell_type": "code",
      "metadata": {
        "id": "b4C4BmhV8ch9",
        "colab_type": "code",
        "colab": {
          "base_uri": "https://localhost:8080/",
          "height": 222
        },
        "outputId": "82bcc9d3-4432-4068-ab82-6a6abbe4a024"
      },
      "source": [
        "#SOLUTION\n",
        "\n",
        "test_data = pd.read_csv('test.csv')\n",
        "test_data.head()"
      ],
      "execution_count": 137,
      "outputs": [
        {
          "output_type": "execute_result",
          "data": {
            "text/html": [
              "<div>\n",
              "<style scoped>\n",
              "    .dataframe tbody tr th:only-of-type {\n",
              "        vertical-align: middle;\n",
              "    }\n",
              "\n",
              "    .dataframe tbody tr th {\n",
              "        vertical-align: top;\n",
              "    }\n",
              "\n",
              "    .dataframe thead th {\n",
              "        text-align: right;\n",
              "    }\n",
              "</style>\n",
              "<table border=\"1\" class=\"dataframe\">\n",
              "  <thead>\n",
              "    <tr style=\"text-align: right;\">\n",
              "      <th></th>\n",
              "      <th>longitude</th>\n",
              "      <th>latitude</th>\n",
              "      <th>housing_median_age</th>\n",
              "      <th>total_rooms</th>\n",
              "      <th>total_bedrooms</th>\n",
              "      <th>population</th>\n",
              "      <th>households</th>\n",
              "      <th>median_income</th>\n",
              "      <th>median_house_value</th>\n",
              "      <th>ocean_proximity</th>\n",
              "    </tr>\n",
              "  </thead>\n",
              "  <tbody>\n",
              "    <tr>\n",
              "      <th>0</th>\n",
              "      <td>-119.20</td>\n",
              "      <td>34.18</td>\n",
              "      <td>22.0</td>\n",
              "      <td>6465.0</td>\n",
              "      <td>1397.0</td>\n",
              "      <td>2694.0</td>\n",
              "      <td>1370.0</td>\n",
              "      <td>2.9832</td>\n",
              "      <td>165600.0</td>\n",
              "      <td>NEAR OCEAN</td>\n",
              "    </tr>\n",
              "    <tr>\n",
              "      <th>1</th>\n",
              "      <td>-121.96</td>\n",
              "      <td>37.85</td>\n",
              "      <td>10.0</td>\n",
              "      <td>3209.0</td>\n",
              "      <td>379.0</td>\n",
              "      <td>1199.0</td>\n",
              "      <td>392.0</td>\n",
              "      <td>12.2478</td>\n",
              "      <td>500001.0</td>\n",
              "      <td>INLAND</td>\n",
              "    </tr>\n",
              "    <tr>\n",
              "      <th>2</th>\n",
              "      <td>-117.97</td>\n",
              "      <td>33.69</td>\n",
              "      <td>21.0</td>\n",
              "      <td>4112.0</td>\n",
              "      <td>580.0</td>\n",
              "      <td>1886.0</td>\n",
              "      <td>581.0</td>\n",
              "      <td>6.7990</td>\n",
              "      <td>292000.0</td>\n",
              "      <td>&lt;1H OCEAN</td>\n",
              "    </tr>\n",
              "    <tr>\n",
              "      <th>3</th>\n",
              "      <td>-118.72</td>\n",
              "      <td>34.28</td>\n",
              "      <td>18.0</td>\n",
              "      <td>2229.0</td>\n",
              "      <td>371.0</td>\n",
              "      <td>1283.0</td>\n",
              "      <td>379.0</td>\n",
              "      <td>5.5955</td>\n",
              "      <td>217700.0</td>\n",
              "      <td>&lt;1H OCEAN</td>\n",
              "    </tr>\n",
              "    <tr>\n",
              "      <th>4</th>\n",
              "      <td>-115.57</td>\n",
              "      <td>32.80</td>\n",
              "      <td>33.0</td>\n",
              "      <td>1192.0</td>\n",
              "      <td>213.0</td>\n",
              "      <td>1066.0</td>\n",
              "      <td>211.0</td>\n",
              "      <td>4.5714</td>\n",
              "      <td>68600.0</td>\n",
              "      <td>INLAND</td>\n",
              "    </tr>\n",
              "  </tbody>\n",
              "</table>\n",
              "</div>"
            ],
            "text/plain": [
              "   longitude  latitude  ...  median_house_value  ocean_proximity\n",
              "0    -119.20     34.18  ...            165600.0       NEAR OCEAN\n",
              "1    -121.96     37.85  ...            500001.0           INLAND\n",
              "2    -117.97     33.69  ...            292000.0        <1H OCEAN\n",
              "3    -118.72     34.28  ...            217700.0        <1H OCEAN\n",
              "4    -115.57     32.80  ...             68600.0           INLAND\n",
              "\n",
              "[5 rows x 10 columns]"
            ]
          },
          "metadata": {
            "tags": []
          },
          "execution_count": 137
        }
      ]
    },
    {
      "cell_type": "code",
      "metadata": {
        "id": "d4oAiylWECq8",
        "colab_type": "code",
        "colab": {}
      },
      "source": [
        "#TODO YOUR CODE HERE"
      ],
      "execution_count": 0,
      "outputs": []
    },
    {
      "cell_type": "code",
      "metadata": {
        "id": "bVH2Ma22Cd31",
        "colab_type": "code",
        "colab": {
          "base_uri": "https://localhost:8080/",
          "height": 207
        },
        "outputId": "87f67e05-bb0c-4b30-d1f1-f65f1abb21ab"
      },
      "source": [
        "#SOLUTION\n",
        "#No null values.\n",
        "test_data.isnull().sum()"
      ],
      "execution_count": 138,
      "outputs": [
        {
          "output_type": "execute_result",
          "data": {
            "text/plain": [
              "longitude             0\n",
              "latitude              0\n",
              "housing_median_age    0\n",
              "total_rooms           0\n",
              "total_bedrooms        0\n",
              "population            0\n",
              "households            0\n",
              "median_income         0\n",
              "median_house_value    0\n",
              "ocean_proximity       0\n",
              "dtype: int64"
            ]
          },
          "metadata": {
            "tags": []
          },
          "execution_count": 138
        }
      ]
    },
    {
      "cell_type": "markdown",
      "metadata": {
        "id": "nY2Yrt8fC7RW",
        "colab_type": "text"
      },
      "source": [
        "## Input function for test data"
      ]
    },
    {
      "cell_type": "markdown",
      "metadata": {
        "id": "rAyMaZOlERdF",
        "colab_type": "text"
      },
      "source": [
        "#### **Exercise**:   **RUN** the cells to create the input function for the test data and to initialize the test_predict variable."
      ]
    },
    {
      "cell_type": "code",
      "metadata": {
        "id": "8rMdDeGDCwpT",
        "colab_type": "code",
        "colab": {}
      },
      "source": [
        "def test_input_fn(features, batch_size=256):\n",
        "    \"\"\"An input function for prediction.\"\"\"\n",
        "    # Convert the inputs to a Dataset without labels.\n",
        "    return tf.data.Dataset.from_tensor_slices(dict(features)).batch(batch_size)"
      ],
      "execution_count": 0,
      "outputs": []
    },
    {
      "cell_type": "code",
      "metadata": {
        "id": "qflwLiz9IeZR",
        "colab_type": "code",
        "colab": {}
      },
      "source": [
        "test_predict = test_input_fn(dict(test_data))"
      ],
      "execution_count": 0,
      "outputs": []
    },
    {
      "cell_type": "markdown",
      "metadata": {
        "id": "H5SkINtbDIdr",
        "colab_type": "text"
      },
      "source": [
        "## Prediction:  Linear Regression\n",
        "\n",
        "To predict with Keras, you simply call [model.predict()](https://keras.io/models/model/#predict) and pass in the housing features you want to predict the median_house_value for. Note:  We are predicting the model locally."
      ]
    },
    {
      "cell_type": "markdown",
      "metadata": {
        "id": "aP5NOK8QEma7",
        "colab_type": "text"
      },
      "source": [
        "#### **Exercise**:   **RUN** the cell to create the median house value prediction on the test data.\n"
      ]
    },
    {
      "cell_type": "code",
      "metadata": {
        "id": "uNc6TSoJDL7-",
        "colab_type": "code",
        "colab": {}
      },
      "source": [
        "predicted_median_house_value=model.predict(test_predict)"
      ],
      "execution_count": 0,
      "outputs": []
    },
    {
      "cell_type": "markdown",
      "metadata": {
        "id": "HFXK1SKPDYgD",
        "colab_type": "text"
      },
      "source": [
        "#### **Exercise**:  Write a prediction DataFrame for a linear regression model"
      ]
    },
    {
      "cell_type": "code",
      "metadata": {
        "id": "9RtD5Wm2E4N-",
        "colab_type": "code",
        "colab": {}
      },
      "source": [
        "#TODO YOUR CODE HERE.  HINT:  Copy the first line from the test.csv you read in earlier."
      ],
      "execution_count": 0,
      "outputs": []
    },
    {
      "cell_type": "code",
      "metadata": {
        "id": "xepss0vhoHge",
        "colab_type": "code",
        "colab": {
          "base_uri": "https://localhost:8080/",
          "height": 34
        },
        "outputId": "46842a26-eacd-4801-857b-18c6a8f2005c"
      },
      "source": [
        "#SOLUTION\n",
        "#Prediction model:  Pass in the features from one row of the test data.\n",
        "\n",
        "#This example shows median house value of $117,800 for INLAND property.\n",
        "\n",
        "#Copy of first line from my test.csv:  Note, do not include the median house value ($117,800), \n",
        "#that is what we are trying to predict.\n",
        "\n",
        "#-121.86\t39.78\t12.0\t7653.0\t1578.0\t3628.0\t1494.0\t3.0905\t117800.0\tINLAND\n",
        "\n",
        "model.predict({\n",
        "    'longitude': tf.convert_to_tensor([-121.86]),\n",
        "    'latitude': tf.convert_to_tensor([39.78]),\n",
        "    'housing_median_age': tf.convert_to_tensor([12.0]), \t\t\n",
        "    'total_rooms': tf.convert_to_tensor([7653.0]),\n",
        "    'total_bedrooms': tf.convert_to_tensor([1578.0]),  \n",
        "    'population': tf.convert_to_tensor([3628.0]),\n",
        "    'households': tf.convert_to_tensor([1494.0]),\t\n",
        "    'median_income': tf.convert_to_tensor([3.0905]),\n",
        "    'ocean_proximity': tf.convert_to_tensor(['INLAND'])\n",
        "    \n",
        "}, steps=1)"
      ],
      "execution_count": 142,
      "outputs": [
        {
          "output_type": "execute_result",
          "data": {
            "text/plain": [
              "array([[228747.08]], dtype=float32)"
            ]
          },
          "metadata": {
            "tags": []
          },
          "execution_count": 142
        }
      ]
    },
    {
      "cell_type": "code",
      "metadata": {
        "id": "qPssm8p4EZHh",
        "colab_type": "code",
        "colab": {
          "base_uri": "https://localhost:8080/",
          "height": 34
        },
        "outputId": "2a55d427-7857-401c-f60d-edbb36be19ec"
      },
      "source": [
        "##SOLUTION - NEAR OCEAN:  Median_house_value is $249,000.\n",
        "\n",
        "\n",
        "model.predict({\n",
        "    'longitude': tf.convert_to_tensor([-122.43]),\n",
        "    'latitude': tf.convert_to_tensor([37.63]),\n",
        "    'housing_median_age': tf.convert_to_tensor([34.0]), \t\t\n",
        "    'total_rooms': tf.convert_to_tensor([4135.0]),\n",
        "    'total_bedrooms': tf.convert_to_tensor([687.0]),  \n",
        "    'population': tf.convert_to_tensor([2154.0]),\n",
        "    'households': tf.convert_to_tensor([742.0\t]),\t\n",
        "    'median_income': tf.convert_to_tensor([4.9732]),\n",
        "    'ocean_proximity': tf.convert_to_tensor(['NEAR OCEAN'])\n",
        "    \n",
        "}, steps=1)"
      ],
      "execution_count": 144,
      "outputs": [
        {
          "output_type": "execute_result",
          "data": {
            "text/plain": [
              "array([[222368.2]], dtype=float32)"
            ]
          },
          "metadata": {
            "tags": []
          },
          "execution_count": 144
        }
      ]
    },
    {
      "cell_type": "markdown",
      "metadata": {
        "id": "Txl-MRuLFE_8",
        "colab_type": "text"
      },
      "source": [
        "#### **Exercise**:  Analysis\n",
        "\n",
        "The array returns a predicted value.  What does this number mean?  Let's compare this value to the test set.   \n",
        "\n",
        "Go to the test.csv you read in a few cells up.  Locate the first line and find the median_house_value - which should be 249,000 dollars near the ocean. What value did your model predicted for the median_house_value? Was it a solid model performance? Let's see if we can improve this a bit with feature engineering!  \n"
      ]
    },
    {
      "cell_type": "markdown",
      "metadata": {
        "id": "C7fFruEWU08C",
        "colab_type": "text"
      },
      "source": [
        "## Feature Engineering\n",
        "\n"
      ]
    },
    {
      "cell_type": "markdown",
      "metadata": {
        "id": "78F1XH1Qwvbt",
        "colab_type": "text"
      },
      "source": [
        "#### **Exercise**:   Create a cell that indicates which features will be used in the model.\n",
        "\n",
        "Note:  Be sure to bucketize 'housing_median_age' and ensure that 'ocean_proximity' is one-hot encoded.  And, don't forget your numeric values!\n"
      ]
    },
    {
      "cell_type": "code",
      "metadata": {
        "id": "Fv5pbi6kxT-M",
        "colab_type": "code",
        "colab": {}
      },
      "source": [
        "#TODO - YOUR CODE HERE"
      ],
      "execution_count": 0,
      "outputs": []
    },
    {
      "cell_type": "code",
      "metadata": {
        "id": "ZxSatLUxUmvI",
        "colab_type": "code",
        "colab": {}
      },
      "source": [
        "#SOLUTION\n",
        "num_c = ['longitude',  'latitude',\n",
        "                'housing_median_age', 'total_rooms', 'total_bedrooms', \n",
        "                 'households','population', 'median_income']\n",
        "\n",
        "bucket_c = ['housing_median_age']\n",
        "\n",
        "#categorical features\n",
        "cat_i_c = ['ocean_proximity'] #indicator columns\n"
      ],
      "execution_count": 0,
      "outputs": []
    },
    {
      "cell_type": "markdown",
      "metadata": {
        "id": "5HbypkYHxxwt",
        "colab_type": "text"
      },
      "source": [
        "#### **Exercise**:   **RUN** the next two cells to scale the features.\n",
        "\n"
      ]
    },
    {
      "cell_type": "code",
      "metadata": {
        "id": "ExX5Akz0UnE-",
        "colab_type": "code",
        "colab": {}
      },
      "source": [
        "#Scalardef get_scal(feature):\n",
        "\n",
        "def get_scal(feature):\n",
        "  def minmax(x):\n",
        "    mini = train[feature].min()\n",
        "    maxi = train[feature].max()\n",
        "    return (x - mini)/(maxi-mini)\n",
        "  return(minmax)"
      ],
      "execution_count": 0,
      "outputs": []
    },
    {
      "cell_type": "code",
      "metadata": {
        "id": "wzqcddUQUnKn",
        "colab_type": "code",
        "colab": {}
      },
      "source": [
        "#All numeric features -scaling\n",
        "\n",
        "feature_columns = []\n",
        "for header in num_c:\n",
        "  scal_input_fn = get_scal(header)\n",
        "  feature_columns.append(feature_column.numeric_column(header, normalizer_fn=scal_input_fn))\n"
      ],
      "execution_count": 0,
      "outputs": []
    },
    {
      "cell_type": "markdown",
      "metadata": {
        "id": "yYUpUZvgwrPe",
        "colab_type": "text"
      },
      "source": [
        "### Categorical Feature\n",
        "In this dataset, 'ocean_proximity' is represented as a string.  We cannot feed strings directly to a model. Instead, we must first map them to numeric values. The categorical vocabulary columns provide a way to represent strings as a one-hot vector."
      ]
    },
    {
      "cell_type": "markdown",
      "metadata": {
        "id": "sZnlnFZkyEbe",
        "colab_type": "text"
      },
      "source": [
        "#### **Exercise**:   Create a categorical feature using 'ocean_proximity'.\n",
        "\n"
      ]
    },
    {
      "cell_type": "code",
      "metadata": {
        "id": "2FIy0sWOy1cq",
        "colab_type": "code",
        "colab": {}
      },
      "source": [
        "#TODO - YOUR CODE HERE"
      ],
      "execution_count": 0,
      "outputs": []
    },
    {
      "cell_type": "code",
      "metadata": {
        "id": "3Cf6SoFTUnc6",
        "colab_type": "code",
        "colab": {}
      },
      "source": [
        "#SOLUTION\n",
        "\n",
        "for feature_name in cat_i_c:\n",
        "  vocabulary = dataframe[feature_name].unique()\n",
        "  cat_c = tf.feature_column.categorical_column_with_vocabulary_list(feature_name, vocabulary)\n",
        "  one_hot = feature_column.indicator_column(cat_c)\n",
        "  feature_columns.append(one_hot)"
      ],
      "execution_count": 0,
      "outputs": []
    },
    {
      "cell_type": "markdown",
      "metadata": {
        "id": "qnGyWaijzShj",
        "colab_type": "text"
      },
      "source": [
        "### Bucketized Feature\n",
        "\n",
        "Often, you don't want to feed a number directly into the model, but instead split its value into different categories based on numerical ranges. Consider our raw data that represents a homes' age. Instead of representing the house age as a numeric column, we could split the hoome age into several buckets using a [bucketized column](https://www.tensorflow.org/api_docs/python/tf/feature_column/bucketized_column). Notice the one-hot values below describe which age range each row matches."
      ]
    },
    {
      "cell_type": "markdown",
      "metadata": {
        "id": "7ZRlFyP7fOw-",
        "colab_type": "text"
      },
      "source": [
        "#### **Exercise**:   Create a Bucketized column using 'housing_median_age'"
      ]
    },
    {
      "cell_type": "code",
      "metadata": {
        "id": "c5w_fqeU0DdK",
        "colab_type": "code",
        "colab": {}
      },
      "source": [
        "#TODO - YOUR CODE HERE"
      ],
      "execution_count": 0,
      "outputs": []
    },
    {
      "cell_type": "code",
      "metadata": {
        "id": "xB-yiVLmUnXp",
        "colab_type": "code",
        "colab": {}
      },
      "source": [
        "#SOLUTION\n",
        "\n",
        "Age = feature_column.numeric_column(\"housing_median_age\")\n",
        "\n",
        "# bucketized cols\n",
        "age_buckets = feature_column.bucketized_column(Age, boundaries=[18, 25, 30, 35, 40, 45, 50, 55, 60, 65])\n",
        "feature_columns.append(age_buckets)\n",
        "\n"
      ],
      "execution_count": 0,
      "outputs": []
    },
    {
      "cell_type": "markdown",
      "metadata": {
        "id": "Ri4_wssOg943",
        "colab_type": "text"
      },
      "source": [
        "### Feature Cross\n",
        "\n",
        "Combining features into a single feature, better known as [feature crosses](https://developers.google.com/machine-learning/glossary/#feature_cross), enables a model to learn separate weights for each combination of features."
      ]
    },
    {
      "cell_type": "markdown",
      "metadata": {
        "id": "a6HHJl3J0j0T",
        "colab_type": "text"
      },
      "source": [
        "#### **Exercise**:   Create a Feature Cross of  'housing_median_age' and 'ocean_proximity'."
      ]
    },
    {
      "cell_type": "code",
      "metadata": {
        "id": "4UpZGNHR02Bs",
        "colab_type": "code",
        "colab": {}
      },
      "source": [
        "#TODO - YOUR CODE HERE"
      ],
      "execution_count": 0,
      "outputs": []
    },
    {
      "cell_type": "code",
      "metadata": {
        "id": "JVLnG0WbUnkl",
        "colab_type": "code",
        "colab": {}
      },
      "source": [
        "#SOLUTION\n",
        "\n",
        "vocabulary = dataframe['ocean_proximity'].unique()\n",
        "ocean_proximity = tf.feature_column.categorical_column_with_vocabulary_list('ocean_proximity', vocabulary)\n",
        "\n",
        "crossed_feature = feature_column.crossed_column([age_buckets, ocean_proximity], hash_bucket_size=1000)\n",
        "crossed_feature = feature_column.indicator_column(crossed_feature)\n",
        "feature_columns.append(crossed_feature)"
      ],
      "execution_count": 0,
      "outputs": []
    },
    {
      "cell_type": "markdown",
      "metadata": {
        "id": "hiz6HCWg1CXO",
        "colab_type": "text"
      },
      "source": [
        "#### **Exercise**:   **RUN** the cell to determine the number of feature columns you now have.  Compare this number to the previous number of features."
      ]
    },
    {
      "cell_type": "code",
      "metadata": {
        "id": "6P3Ewc3_Unsv",
        "colab_type": "code",
        "colab": {
          "base_uri": "https://localhost:8080/",
          "height": 34
        },
        "outputId": "42c1c4a6-89f8-4685-b2d0-e76a90cdf9ee"
      },
      "source": [
        "print('Total number of feature coumns: ',len(feature_columns))"
      ],
      "execution_count": 161,
      "outputs": [
        {
          "output_type": "stream",
          "text": [
            "Total number of feature coumns:  11\n"
          ],
          "name": "stdout"
        }
      ]
    },
    {
      "cell_type": "markdown",
      "metadata": {
        "id": "lNr00mP41sJp",
        "colab_type": "text"
      },
      "source": [
        "#### **Exercise**:   **RUN** the cell to compile, create, and train the Keras model.\n"
      ]
    },
    {
      "cell_type": "code",
      "metadata": {
        "id": "R7n-jl721Tc3",
        "colab_type": "code",
        "colab": {}
      },
      "source": [
        "#TODO YOUR CODE HERE"
      ],
      "execution_count": 0,
      "outputs": []
    },
    {
      "cell_type": "code",
      "metadata": {
        "id": "4Dwal3oxUoCe",
        "colab_type": "code",
        "colab": {
          "base_uri": "https://localhost:8080/",
          "height": 1000
        },
        "outputId": "1ae08747-7dbe-47a5-b3e7-87581e460b1b"
      },
      "source": [
        "#SOLUTION\n",
        "\n",
        "#Model create\n",
        "feature_layer = tf.keras.layers.DenseFeatures(feature_columns)\n",
        "\n",
        "model = tf.keras.Sequential([\n",
        "  feature_layer,\n",
        "  layers.Dense(12,  input_dim=8, activation='relu'),\n",
        "  layers.Dense(8, activation='relu'),\n",
        "  layers.Dense(1, activation='linear',  name='median_house_value')\n",
        "])\n",
        "\n",
        "#Model compile\n",
        "model.compile(optimizer='adam',\n",
        "              loss='mse',\n",
        "              metrics=['mse'])  \n",
        "\n",
        "### Model Fit\n",
        "history = model.fit(train_ds,\n",
        "          validation_data=val_ds,\n",
        "          epochs=32)\n"
      ],
      "execution_count": 162,
      "outputs": [
        {
          "output_type": "stream",
          "text": [
            "WARNING:tensorflow:Layer sequential_6 is casting an input tensor from dtype float64 to the layer's dtype of float32, which is new behavior in TensorFlow 2.  The layer has dtype float32 because it's dtype defaults to floatx.\n",
            "\n",
            "If you intended to run this layer in float32, you can safely ignore this warning. If in doubt, this warning is likely only an issue if you are porting a TensorFlow 1.X model to TensorFlow 2.\n",
            "\n",
            "To change all layers to have dtype float64 by default, call `tf.keras.backend.set_floatx('float64')`. To change just this layer, pass dtype='float64' to the layer constructor. If you are the author of this layer, you can disable autocasting by passing autocast=False to the base Layer constructor.\n",
            "\n",
            "Epoch 1/32\n",
            "409/409 [==============================] - 5s 12ms/step - loss: 55657704150.0636 - mse: 55652655104.0000 - val_loss: 0.0000e+00 - val_mse: 0.0000e+00\n",
            "Epoch 2/32\n",
            "409/409 [==============================] - 2s 5ms/step - loss: 55554407337.2325 - mse: 55567028224.0000 - val_loss: 56462268992.6214 - val_mse: 56437276672.0000\n",
            "Epoch 3/32\n",
            "409/409 [==============================] - 2s 5ms/step - loss: 55302945026.9921 - mse: 55297474560.0000 - val_loss: 56072682804.1942 - val_mse: 56047882240.0000\n",
            "Epoch 4/32\n",
            "409/409 [==============================] - 2s 5ms/step - loss: 54796637728.5764 - mse: 54775136256.0000 - val_loss: 55404860684.4272 - val_mse: 55380357120.0000\n",
            "Epoch 5/32\n",
            "409/409 [==============================] - 2s 5ms/step - loss: 54008221880.1930 - mse: 53959536640.0000 - val_loss: 54430512913.3981 - val_mse: 54406475776.0000\n",
            "Epoch 6/32\n",
            "409/409 [==============================] - 2s 5ms/step - loss: 52813496033.4208 - mse: 52831891456.0000 - val_loss: 53139551977.6311 - val_mse: 53116125184.0000\n",
            "Epoch 7/32\n",
            "409/409 [==============================] - 2s 5ms/step - loss: 51394983271.6558 - mse: 51387695104.0000 - val_loss: 51531267857.3981 - val_mse: 51508572160.0000\n",
            "Epoch 8/32\n",
            "409/409 [==============================] - 2s 5ms/step - loss: 49637156050.5953 - mse: 49637040128.0000 - val_loss: 49625286516.8155 - val_mse: 49603489792.0000\n",
            "Epoch 9/32\n",
            "409/409 [==============================] - 2s 5ms/step - loss: 47604991646.2698 - mse: 47600578560.0000 - val_loss: 47441633379.4175 - val_mse: 47420841984.0000\n",
            "Epoch 10/32\n",
            "409/409 [==============================] - 2s 5ms/step - loss: 45280269003.2355 - mse: 45300797440.0000 - val_loss: 45007154046.7573 - val_mse: 44987478016.0000\n",
            "Epoch 11/32\n",
            "409/409 [==============================] - 2s 5ms/step - loss: 42789430920.4315 - mse: 42773762048.0000 - val_loss: 42366039129.4757 - val_mse: 42347556864.0000\n",
            "Epoch 12/32\n",
            "409/409 [==============================] - 2s 5ms/step - loss: 40010087322.9427 - mse: 40058216448.0000 - val_loss: 39554007020.1165 - val_mse: 39536775168.0000\n",
            "Epoch 13/32\n",
            "409/409 [==============================] - 2s 5ms/step - loss: 37208723873.2639 - mse: 37199839232.0000 - val_loss: 36622820421.5922 - val_mse: 36606853120.0000\n",
            "Epoch 14/32\n",
            "409/409 [==============================] - 2s 5ms/step - loss: 34250755095.4367 - mse: 34259804160.0000 - val_loss: 33645755819.4951 - val_mse: 33631057920.0000\n",
            "Epoch 15/32\n",
            "409/409 [==============================] - 2s 5ms/step - loss: 31296818921.9183 - mse: 31291942912.0000 - val_loss: 30658559025.7087 - val_mse: 30645129216.0000\n",
            "Epoch 16/32\n",
            "409/409 [==============================] - 2s 5ms/step - loss: 28362839206.8052 - mse: 28359811072.0000 - val_loss: 27746731425.5534 - val_mse: 27734513664.0000\n",
            "Epoch 17/32\n",
            "409/409 [==============================] - 2s 5ms/step - loss: 25526547722.8677 - mse: 25532559360.0000 - val_loss: 24967437312.0000 - val_mse: 24956370944.0000\n",
            "Epoch 18/32\n",
            "409/409 [==============================] - 2s 5ms/step - loss: 22883235230.5672 - mse: 22872434688.0000 - val_loss: 22383533622.6796 - val_mse: 22373603328.0000\n",
            "Epoch 19/32\n",
            "409/409 [==============================] - 2s 5ms/step - loss: 20452688851.7960 - mse: 20437805056.0000 - val_loss: 20048687760.1553 - val_mse: 20039858176.0000\n",
            "Epoch 20/32\n",
            "409/409 [==============================] - 2s 5ms/step - loss: 18278469230.3195 - mse: 18274529280.0000 - val_loss: 18003922108.8932 - val_mse: 17996259328.0000\n",
            "Epoch 21/32\n",
            "409/409 [==============================] - 2s 5ms/step - loss: 16414830739.4539 - mse: 16415716352.0000 - val_loss: 16269751042.4854 - val_mse: 16263317504.0000\n",
            "Epoch 22/32\n",
            "409/409 [==============================] - 2s 5ms/step - loss: 14870542269.1217 - mse: 14869215232.0000 - val_loss: 14854329070.6019 - val_mse: 14849172480.0000\n",
            "Epoch 23/32\n",
            "409/409 [==============================] - 2s 5ms/step - loss: 13621066371.7445 - mse: 13629849600.0000 - val_loss: 13737469057.2427 - val_mse: 13733634048.0000\n",
            "Epoch 24/32\n",
            "409/409 [==============================] - 2s 5ms/step - loss: 12691348527.5793 - mse: 12685577216.0000 - val_loss: 12907438646.6796 - val_mse: 12904867840.0000\n",
            "Epoch 25/32\n",
            "409/409 [==============================] - 2s 5ms/step - loss: 12008026489.3496 - mse: 12002555904.0000 - val_loss: 12315187602.6408 - val_mse: 12313790464.0000\n",
            "Epoch 26/32\n",
            "409/409 [==============================] - 2s 5ms/step - loss: 11534809253.9807 - mse: 11527429120.0000 - val_loss: 11908628584.3883 - val_mse: 11908366336.0000\n",
            "Epoch 27/32\n",
            "409/409 [==============================] - 2s 5ms/step - loss: 11194310447.1858 - mse: 11199140864.0000 - val_loss: 11625076313.4757 - val_mse: 11625916416.0000\n",
            "Epoch 28/32\n",
            "409/409 [==============================] - 2s 5ms/step - loss: 10954369078.7156 - mse: 10965146624.0000 - val_loss: 11415196925.5146 - val_mse: 11417099264.0000\n",
            "Epoch 29/32\n",
            "409/409 [==============================] - 2s 5ms/step - loss: 10770568985.1372 - mse: 10788281344.0000 - val_loss: 11251833289.3204 - val_mse: 11254804480.0000\n",
            "Epoch 30/32\n",
            "409/409 [==============================] - 2s 5ms/step - loss: 10630456306.3987 - mse: 10638861312.0000 - val_loss: 11108315846.8350 - val_mse: 11112359936.0000\n",
            "Epoch 31/32\n",
            "409/409 [==============================] - 2s 5ms/step - loss: 10500797246.4418 - mse: 10502918144.0000 - val_loss: 10975404434.6408 - val_mse: 10980511744.0000\n",
            "Epoch 32/32\n",
            "409/409 [==============================] - 2s 5ms/step - loss: 10380866831.7551 - mse: 10375768064.0000 - val_loss: 10851248157.8252 - val_mse: 10857413632.0000\n"
          ],
          "name": "stdout"
        }
      ]
    },
    {
      "cell_type": "markdown",
      "metadata": {
        "id": "3LdUQszM16Oj",
        "colab_type": "text"
      },
      "source": [
        "#### **Exercise**:   **RUN** the next two cells to show loss and accuracy and to plot the model.\n"
      ]
    },
    {
      "cell_type": "code",
      "metadata": {
        "id": "ZtFSpkd9UoAW",
        "colab_type": "code",
        "colab": {
          "base_uri": "https://localhost:8080/",
          "height": 71
        },
        "outputId": "bac4836e-c4f1-4b29-876d-91fe1b51a5a7"
      },
      "source": [
        "loss, accuracy = model.evaluate(test_ds)\n",
        "print(\"Accuracy\", accuracy)"
      ],
      "execution_count": 163,
      "outputs": [
        {
          "output_type": "stream",
          "text": [
            "128/128 [==============================] - 0s 3ms/step - loss: 10794214196.0000 - mse: 10804690944.0000\n",
            "Accuracy 10804691000.0\n"
          ],
          "name": "stdout"
        }
      ]
    },
    {
      "cell_type": "code",
      "metadata": {
        "id": "O8kWMa6xUn-M",
        "colab_type": "code",
        "colab": {
          "base_uri": "https://localhost:8080/",
          "height": 350
        },
        "outputId": "05ed9323-1102-4245-a40b-88543f11b0f3"
      },
      "source": [
        "# plot\n",
        "import matplotlib.pyplot as plt\n",
        "nrows = 1\n",
        "ncols = 2\n",
        "fig = plt.figure(figsize=(10, 5))\n",
        "\n",
        "for idx, key in enumerate(['loss', 'mse']):  \n",
        "    ax = fig.add_subplot(nrows, ncols, idx+1)\n",
        "    plt.plot(history.history[key])\n",
        "    plt.plot(history.history['val_{}'.format(key)])\n",
        "    plt.title('model {}'.format(key))\n",
        "    plt.ylabel(key)\n",
        "    plt.xlabel('epoch')\n",
        "    plt.legend(['train', 'validation'], loc='upper left');"
      ],
      "execution_count": 164,
      "outputs": [
        {
          "output_type": "display_data",
          "data": {
            "image/png": "[encoded data removed]",
            "text/plain": [
              "<Figure size 720x360 with 2 Axes>"
            ]
          },
          "metadata": {
            "tags": []
          }
        }
      ]
    },
    {
      "cell_type": "markdown",
      "metadata": {
        "id": "C4tWwOQt2e-P",
        "colab_type": "text"
      },
      "source": [
        "#### **Exercise**:  Create a prediction model.  Note:  You may use the same values from the previous prediciton.\n",
        "\n"
      ]
    },
    {
      "cell_type": "code",
      "metadata": {
        "id": "E5RBF38Y272e",
        "colab_type": "code",
        "colab": {}
      },
      "source": [
        "#TODO YOUR CODE HERE"
      ],
      "execution_count": 0,
      "outputs": []
    },
    {
      "cell_type": "code",
      "metadata": {
        "id": "FuhMkcjisM_U",
        "colab_type": "code",
        "colab": {
          "base_uri": "https://localhost:8080/",
          "height": 34
        },
        "outputId": "71540721-e2bd-4c0e-8482-c0563e694e22"
      },
      "source": [
        "#Prediction model:  Pass in the features from one row of the test data.\n",
        "\n",
        "#Copy of first line from my test.csv: \n",
        "#-121.86\t39.78\t12.0\t7653.0\t1578.0\t3628.0\t1494.0\t3.0905\t117800.0\tINLAND\n",
        "\n",
        "#This example shows median house value of $117,800 for INLAND property, prediciton is $183,504\n",
        "\n",
        "model.predict({\n",
        "    'longitude': tf.convert_to_tensor([-121.86]),\n",
        "    'latitude': tf.convert_to_tensor([39.78]),\n",
        "    'housing_median_age': tf.convert_to_tensor([12.0]), \t\t\n",
        "    'total_rooms': tf.convert_to_tensor([7653.0]),\n",
        "    'total_bedrooms': tf.convert_to_tensor([1578.0]),  \n",
        "    'population': tf.convert_to_tensor([3628.0]),\n",
        "    'households': tf.convert_to_tensor([1494.0]),\t\n",
        "    'median_income': tf.convert_to_tensor([3.0905]),\n",
        "    'ocean_proximity': tf.convert_to_tensor(['INLAND'])\n",
        "    \n",
        "}, steps=1)"
      ],
      "execution_count": 165,
      "outputs": [
        {
          "output_type": "execute_result",
          "data": {
            "text/plain": [
              "array([[195015.55]], dtype=float32)"
            ]
          },
          "metadata": {
            "tags": []
          },
          "execution_count": 165
        }
      ]
    },
    {
      "cell_type": "code",
      "metadata": {
        "id": "-PyZLT_ZUn3S",
        "colab_type": "code",
        "colab": {
          "base_uri": "https://localhost:8080/",
          "height": 34
        },
        "outputId": "566ba964-daed-4497-e7d5-a599d9e6c1ce"
      },
      "source": [
        "#SOLUTION - NEAR OCEAN:  Median_house_value is $249,000, prediction is $234,000\n",
        "\n",
        "model.predict({\n",
        "    'longitude': tf.convert_to_tensor([-122.43]),\n",
        "    'latitude': tf.convert_to_tensor([37.63]),\n",
        "    'housing_median_age': tf.convert_to_tensor([34.0]), \t\t\n",
        "    'total_rooms': tf.convert_to_tensor([4135.0]),\n",
        "    'total_bedrooms': tf.convert_to_tensor([687.0]),  \n",
        "    'population': tf.convert_to_tensor([2154.0]),\n",
        "    'households': tf.convert_to_tensor([742.0\t]),\t\n",
        "    'median_income': tf.convert_to_tensor([ 4.9732]),\n",
        "    'ocean_proximity': tf.convert_to_tensor(['NEAR OCEAN'])\n",
        "    \n",
        "}, steps=1)"
      ],
      "execution_count": 166,
      "outputs": [
        {
          "output_type": "execute_result",
          "data": {
            "text/plain": [
              "array([[227063.84]], dtype=float32)"
            ]
          },
          "metadata": {
            "tags": []
          },
          "execution_count": 166
        }
      ]
    },
    {
      "cell_type": "markdown",
      "metadata": {
        "id": "rcbdA3arXkej",
        "colab_type": "text"
      },
      "source": [
        "### Analysis \n",
        "\n",
        "The array returns a predicted value.  Compare this value to the test set you ran earlier. Your predicted value may be a bit better.\n",
        "\n",
        "Now that you have your \"feature engineering template\" setup, you can experiment by creating additional features.  For exmample, you can create derived features, such as households per population, and see how they impact the model.  You can also experiment with replacing the features you used to create the feature cross.\n",
        " "
      ]
    },
    {
      "cell_type": "code",
      "metadata": {
        "id": "R42I8BvbuN7Q",
        "colab_type": "code",
        "colab": {}
      },
      "source": [
        ""
      ],
      "execution_count": 0,
      "outputs": []
    }
  ]
}
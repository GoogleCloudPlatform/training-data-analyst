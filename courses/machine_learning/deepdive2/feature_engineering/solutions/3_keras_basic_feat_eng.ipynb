{
 "cells": [
  {
   "cell_type": "markdown",
   "metadata": {
    "colab_type": "text",
    "id": "rNdWfPXCjTjY"
   },
   "source": [
    "# Performing Basic Feature Engineering in Keras \n",
    "\n",
    "## Learning objectives\n",
    "\n",
    "\n",
    "1. Create an input pipeline using tf.data.\n",
    "2. Engineer features to create categorical, crossed, and numerical feature columns.\n",
    "\n",
    "\n",
    "## Introduction \n",
    "In this lab, we utilize feature engineering to improve the prediction of housing prices using a Keras Sequential Model.  \n",
    "\n",
    "Each learning objective will correspond to a __#TODO__ in the [student lab notebook](../labs/3_keras_basic_feat_eng-lab.ipynb) -- try to complete that notebook first before reviewing this solution notebook."
   ]
  },
  {
   "cell_type": "markdown",
   "metadata": {
    "colab_type": "text",
    "id": "VxyBFc_kKazA"
   },
   "source": [
    "Start by importing the necessary libraries for this lab."
   ]
  },
  {
   "cell_type": "code",
   "execution_count": 1,
   "metadata": {},
   "outputs": [],
   "source": [
    "# Run the chown command to change the ownership\n",
    "!sudo chown -R jupyter:jupyter /home/jupyter/training-data-analyst"
   ]
  },
  {
   "cell_type": "code",
   "execution_count": 2,
   "metadata": {},
   "outputs": [
    {
     "name": "stdout",
     "output_type": "stream",
     "text": [
      "Requirement already satisfied: scikit-learn in /opt/conda/envs/tensorflow/lib/python3.10/site-packages (1.6.1)\n",
      "Requirement already satisfied: numpy>=1.19.5 in /opt/conda/envs/tensorflow/lib/python3.10/site-packages (from scikit-learn) (1.24.4)\n",
      "Requirement already satisfied: scipy>=1.6.0 in /opt/conda/envs/tensorflow/lib/python3.10/site-packages (from scikit-learn) (1.15.1)\n",
      "Requirement already satisfied: joblib>=1.2.0 in /opt/conda/envs/tensorflow/lib/python3.10/site-packages (from scikit-learn) (1.4.2)\n",
      "Requirement already satisfied: threadpoolctl>=3.1.0 in /opt/conda/envs/tensorflow/lib/python3.10/site-packages (from scikit-learn) (3.5.0)\n"
     ]
    }
   ],
   "source": [
    "# Install Sklearn\n",
    "# scikit-learn simple and efficient tools for predictive data analysis\n",
    "# Built on NumPy, SciPy, and matplotlib\n",
    "!python3 -m pip install --user scikit-learn"
   ]
  },
  {
   "cell_type": "markdown",
   "metadata": {
    "id": "hhq5zEbGg0XX"
   },
   "source": [
    "### Restart the kernel\n",
    "\n",
    "After you install the packages, you need to restart the notebook kernel so that it can find the packages. (Click **Kernel > Restart Kernel > Restart**)."
   ]
  },
  {
   "cell_type": "code",
   "execution_count": 3,
   "metadata": {
    "colab": {},
    "colab_type": "code",
    "id": "9dEreb4QKizj"
   },
   "outputs": [
    {
     "name": "stderr",
     "output_type": "stream",
     "text": [
      "2025-02-13 12:34:56.076012: I tensorflow/core/platform/cpu_feature_guard.cc:193] This TensorFlow binary is optimized with oneAPI Deep Neural Network Library (oneDNN) to use the following CPU instructions in performance-critical operations:  AVX2 FMA\n",
      "To enable them in other operations, rebuild TensorFlow with the appropriate compiler flags.\n",
      "2025-02-13 12:34:57.360363: W tensorflow/compiler/xla/stream_executor/platform/default/dso_loader.cc:64] Could not load dynamic library 'libnvinfer.so.7'; dlerror: libnvinfer.so.7: cannot open shared object file: No such file or directory; LD_LIBRARY_PATH: /usr/local/cuda/lib64:/usr/local/nccl2/lib:/usr/local/cuda/extras/CUPTI/lib64:/usr/lib/x86_64-linux-gnu/:/opt/conda/lib\n",
      "2025-02-13 12:34:57.360474: W tensorflow/compiler/xla/stream_executor/platform/default/dso_loader.cc:64] Could not load dynamic library 'libnvinfer_plugin.so.7'; dlerror: libnvinfer_plugin.so.7: cannot open shared object file: No such file or directory; LD_LIBRARY_PATH: /usr/local/cuda/lib64:/usr/local/nccl2/lib:/usr/local/cuda/extras/CUPTI/lib64:/usr/lib/x86_64-linux-gnu/:/opt/conda/lib\n",
      "2025-02-13 12:34:57.360486: W tensorflow/compiler/tf2tensorrt/utils/py_utils.cc:38] TF-TRT Warning: Cannot dlopen some TensorRT libraries. If you would like to use Nvidia GPU with TensorRT, please make sure the missing libraries mentioned above are installed properly.\n"
     ]
    },
    {
     "name": "stdout",
     "output_type": "stream",
     "text": [
      "TensorFlow version:  2.11.0\n"
     ]
    }
   ],
   "source": [
    "# You can use any Python source file as a module by executing an import statement in some other Python source file\n",
    "# The import statement combines two operations; it searches for the named module, then it binds the\n",
    "# results of that search to a name in the local scope.\n",
    "import os\n",
    "import tensorflow.keras\n",
    "\n",
    "# Use matplotlib for visualizing the model\n",
    "import matplotlib.pyplot as plt\n",
    "# Import Pandas data processing libraries\n",
    "import pandas as pd\n",
    "import tensorflow as tf\n",
    "\n",
    "from tensorflow import feature_column as fc\n",
    "from tensorflow.keras import layers\n",
    "from sklearn.model_selection import train_test_split\n",
    "#from keras.utils import plot_model\n",
    "\n",
    "print(\"TensorFlow version: \",tf.version.VERSION)"
   ]
  },
  {
   "cell_type": "markdown",
   "metadata": {},
   "source": [
    "Many of the Google Machine Learning Courses Programming Exercises use the  [California Housing Dataset](https://developers.google.com/machine-learning/crash-course/california-housing-data-description\n",
    "), which contains data drawn from the 1990 U.S. Census.  Our lab dataset has been pre-processed so that there are no missing values.\n",
    "\n",
    "First, let's download the raw .csv data by copying the data from a cloud storage bucket.\n"
   ]
  },
  {
   "cell_type": "code",
   "execution_count": 4,
   "metadata": {},
   "outputs": [],
   "source": [
    "if not os.path.isdir(\"../data\"):\n",
    "    os.makedirs(\"../data\")"
   ]
  },
  {
   "cell_type": "code",
   "execution_count": 5,
   "metadata": {},
   "outputs": [
    {
     "name": "stdout",
     "output_type": "stream",
     "text": [
      "Copying gs://cloud-training/mlongcp/v3.0_MLonGC/toy_data/housing_pre-proc_toy.csv...\n",
      "/ [1 files][138.8 KiB/138.8 KiB]                                                \n",
      "Operation completed over 1 objects/138.8 KiB.                                    \n"
     ]
    }
   ],
   "source": [
    "# Download the raw .csv data by copying the data from a cloud storage bucket.\n",
    "!gsutil cp gs://cloud-training/mlongcp/v3.0_MLonGC/toy_data/housing_pre-proc_toy.csv ../data    "
   ]
  },
  {
   "cell_type": "code",
   "execution_count": 6,
   "metadata": {},
   "outputs": [
    {
     "name": "stdout",
     "output_type": "stream",
     "text": [
      "total 280\n",
      "-rw-r--r-- 1 jupyter jupyter  28051 Feb 13 12:28 housing-test.csv\n",
      "-rw-r--r-- 1 jupyter jupyter  89533 Feb 13 12:28 housing-train.csv\n",
      "-rw-r--r-- 1 jupyter jupyter  22525 Feb 13 12:28 housing-val.csv\n",
      "-rw-r--r-- 1 jupyter jupyter 142150 Feb 13 12:35 housing_pre-proc_toy.csv\n"
     ]
    }
   ],
   "source": [
    "# `ls` is a Linux shell command that lists directory contents\n",
    "# `l` flag list all the files with permissions and details\n",
    "!ls -l ../data/"
   ]
  },
  {
   "cell_type": "markdown",
   "metadata": {
    "colab_type": "text",
    "id": "lM6-n6xntv3t"
   },
   "source": [
    "Now, let's read in the dataset just copied from the cloud storage bucket and create a Pandas dataframe."
   ]
  },
  {
   "cell_type": "code",
   "execution_count": 7,
   "metadata": {
    "colab": {
     "base_uri": "https://localhost:8080/",
     "height": 222
    },
    "colab_type": "code",
    "id": "REZ57BXCLdfG",
    "outputId": "a6ef2eda-c7eb-4e2d-92e4-e7fcaa20b0af"
   },
   "outputs": [
    {
     "data": {
      "text/html": [
       "<div>\n",
       "<style scoped>\n",
       "    .dataframe tbody tr th:only-of-type {\n",
       "        vertical-align: middle;\n",
       "    }\n",
       "\n",
       "    .dataframe tbody tr th {\n",
       "        vertical-align: top;\n",
       "    }\n",
       "\n",
       "    .dataframe thead th {\n",
       "        text-align: right;\n",
       "    }\n",
       "</style>\n",
       "<table border=\"1\" class=\"dataframe\">\n",
       "  <thead>\n",
       "    <tr style=\"text-align: right;\">\n",
       "      <th></th>\n",
       "      <th>longitude</th>\n",
       "      <th>latitude</th>\n",
       "      <th>housing_median_age</th>\n",
       "      <th>total_rooms</th>\n",
       "      <th>total_bedrooms</th>\n",
       "      <th>population</th>\n",
       "      <th>households</th>\n",
       "      <th>median_income</th>\n",
       "      <th>median_house_value</th>\n",
       "      <th>ocean_proximity</th>\n",
       "    </tr>\n",
       "  </thead>\n",
       "  <tbody>\n",
       "    <tr>\n",
       "      <th>0</th>\n",
       "      <td>-122.23</td>\n",
       "      <td>37.88</td>\n",
       "      <td>41</td>\n",
       "      <td>880</td>\n",
       "      <td>129</td>\n",
       "      <td>322</td>\n",
       "      <td>126</td>\n",
       "      <td>8.3252</td>\n",
       "      <td>452600</td>\n",
       "      <td>NEAR BAY</td>\n",
       "    </tr>\n",
       "    <tr>\n",
       "      <th>1</th>\n",
       "      <td>-122.22</td>\n",
       "      <td>37.86</td>\n",
       "      <td>21</td>\n",
       "      <td>7099</td>\n",
       "      <td>1106</td>\n",
       "      <td>2401</td>\n",
       "      <td>1138</td>\n",
       "      <td>8.3014</td>\n",
       "      <td>358500</td>\n",
       "      <td>NEAR BAY</td>\n",
       "    </tr>\n",
       "    <tr>\n",
       "      <th>2</th>\n",
       "      <td>-122.24</td>\n",
       "      <td>37.85</td>\n",
       "      <td>52</td>\n",
       "      <td>1467</td>\n",
       "      <td>190</td>\n",
       "      <td>496</td>\n",
       "      <td>177</td>\n",
       "      <td>7.2574</td>\n",
       "      <td>352100</td>\n",
       "      <td>NEAR BAY</td>\n",
       "    </tr>\n",
       "    <tr>\n",
       "      <th>3</th>\n",
       "      <td>-122.25</td>\n",
       "      <td>37.85</td>\n",
       "      <td>52</td>\n",
       "      <td>1274</td>\n",
       "      <td>235</td>\n",
       "      <td>558</td>\n",
       "      <td>219</td>\n",
       "      <td>5.6431</td>\n",
       "      <td>341300</td>\n",
       "      <td>NEAR BAY</td>\n",
       "    </tr>\n",
       "    <tr>\n",
       "      <th>4</th>\n",
       "      <td>-122.25</td>\n",
       "      <td>37.85</td>\n",
       "      <td>52</td>\n",
       "      <td>1627</td>\n",
       "      <td>280</td>\n",
       "      <td>565</td>\n",
       "      <td>259</td>\n",
       "      <td>3.8462</td>\n",
       "      <td>342200</td>\n",
       "      <td>NEAR BAY</td>\n",
       "    </tr>\n",
       "  </tbody>\n",
       "</table>\n",
       "</div>"
      ],
      "text/plain": [
       "   longitude  latitude  housing_median_age  total_rooms  total_bedrooms  \\\n",
       "0    -122.23     37.88                  41          880             129   \n",
       "1    -122.22     37.86                  21         7099            1106   \n",
       "2    -122.24     37.85                  52         1467             190   \n",
       "3    -122.25     37.85                  52         1274             235   \n",
       "4    -122.25     37.85                  52         1627             280   \n",
       "\n",
       "   population  households  median_income  median_house_value ocean_proximity  \n",
       "0         322         126         8.3252              452600        NEAR BAY  \n",
       "1        2401        1138         8.3014              358500        NEAR BAY  \n",
       "2         496         177         7.2574              352100        NEAR BAY  \n",
       "3         558         219         5.6431              341300        NEAR BAY  \n",
       "4         565         259         3.8462              342200        NEAR BAY  "
      ]
     },
     "execution_count": 7,
     "metadata": {},
     "output_type": "execute_result"
    }
   ],
   "source": [
    "# `head()` function is used to get the first n rows of dataframe\n",
    "housing_df = pd.read_csv('../data/housing_pre-proc_toy.csv', on_bad_lines='skip')\n",
    "housing_df.head()"
   ]
  },
  {
   "cell_type": "markdown",
   "metadata": {},
   "source": [
    "We can use .describe() to see some summary statistics for the numeric fields in our dataframe. Note, for example, the count row and corresponding columns. The count shows 2500.000000 for all feature columns. Thus, there are no missing values."
   ]
  },
  {
   "cell_type": "code",
   "execution_count": 8,
   "metadata": {},
   "outputs": [
    {
     "data": {
      "text/html": [
       "<div>\n",
       "<style scoped>\n",
       "    .dataframe tbody tr th:only-of-type {\n",
       "        vertical-align: middle;\n",
       "    }\n",
       "\n",
       "    .dataframe tbody tr th {\n",
       "        vertical-align: top;\n",
       "    }\n",
       "\n",
       "    .dataframe thead th {\n",
       "        text-align: right;\n",
       "    }\n",
       "</style>\n",
       "<table border=\"1\" class=\"dataframe\">\n",
       "  <thead>\n",
       "    <tr style=\"text-align: right;\">\n",
       "      <th></th>\n",
       "      <th>longitude</th>\n",
       "      <th>latitude</th>\n",
       "      <th>housing_median_age</th>\n",
       "      <th>total_rooms</th>\n",
       "      <th>total_bedrooms</th>\n",
       "      <th>population</th>\n",
       "      <th>households</th>\n",
       "      <th>median_income</th>\n",
       "      <th>median_house_value</th>\n",
       "    </tr>\n",
       "  </thead>\n",
       "  <tbody>\n",
       "    <tr>\n",
       "      <th>count</th>\n",
       "      <td>2500.000000</td>\n",
       "      <td>2500.000000</td>\n",
       "      <td>2500.000000</td>\n",
       "      <td>2500.000000</td>\n",
       "      <td>2500.000000</td>\n",
       "      <td>2500.000000</td>\n",
       "      <td>2500.000000</td>\n",
       "      <td>2500.000000</td>\n",
       "      <td>2500.000000</td>\n",
       "    </tr>\n",
       "    <tr>\n",
       "      <th>mean</th>\n",
       "      <td>-121.501836</td>\n",
       "      <td>37.802288</td>\n",
       "      <td>30.088400</td>\n",
       "      <td>2522.734000</td>\n",
       "      <td>491.862400</td>\n",
       "      <td>1246.225200</td>\n",
       "      <td>458.122000</td>\n",
       "      <td>3.694312</td>\n",
       "      <td>170288.731200</td>\n",
       "    </tr>\n",
       "    <tr>\n",
       "      <th>std</th>\n",
       "      <td>1.015963</td>\n",
       "      <td>0.803090</td>\n",
       "      <td>13.878416</td>\n",
       "      <td>1988.411988</td>\n",
       "      <td>362.499497</td>\n",
       "      <td>925.075463</td>\n",
       "      <td>341.744308</td>\n",
       "      <td>1.859422</td>\n",
       "      <td>97550.278529</td>\n",
       "    </tr>\n",
       "    <tr>\n",
       "      <th>min</th>\n",
       "      <td>-124.300000</td>\n",
       "      <td>36.130000</td>\n",
       "      <td>2.000000</td>\n",
       "      <td>12.000000</td>\n",
       "      <td>4.000000</td>\n",
       "      <td>18.000000</td>\n",
       "      <td>2.000000</td>\n",
       "      <td>0.499900</td>\n",
       "      <td>22500.000000</td>\n",
       "    </tr>\n",
       "    <tr>\n",
       "      <th>25%</th>\n",
       "      <td>-122.200000</td>\n",
       "      <td>37.600000</td>\n",
       "      <td>18.000000</td>\n",
       "      <td>1420.750000</td>\n",
       "      <td>282.000000</td>\n",
       "      <td>718.000000</td>\n",
       "      <td>263.000000</td>\n",
       "      <td>2.357875</td>\n",
       "      <td>92950.000000</td>\n",
       "    </tr>\n",
       "    <tr>\n",
       "      <th>50%</th>\n",
       "      <td>-122.030000</td>\n",
       "      <td>37.800000</td>\n",
       "      <td>30.000000</td>\n",
       "      <td>2052.000000</td>\n",
       "      <td>402.000000</td>\n",
       "      <td>1030.500000</td>\n",
       "      <td>374.500000</td>\n",
       "      <td>3.262200</td>\n",
       "      <td>150800.000000</td>\n",
       "    </tr>\n",
       "    <tr>\n",
       "      <th>75%</th>\n",
       "      <td>-120.697500</td>\n",
       "      <td>37.960000</td>\n",
       "      <td>41.000000</td>\n",
       "      <td>3007.250000</td>\n",
       "      <td>581.250000</td>\n",
       "      <td>1488.250000</td>\n",
       "      <td>538.000000</td>\n",
       "      <td>4.662975</td>\n",
       "      <td>219650.000000</td>\n",
       "    </tr>\n",
       "    <tr>\n",
       "      <th>max</th>\n",
       "      <td>-118.910000</td>\n",
       "      <td>41.950000</td>\n",
       "      <td>52.000000</td>\n",
       "      <td>28258.000000</td>\n",
       "      <td>3864.000000</td>\n",
       "      <td>12203.000000</td>\n",
       "      <td>3701.000000</td>\n",
       "      <td>15.000100</td>\n",
       "      <td>500001.000000</td>\n",
       "    </tr>\n",
       "  </tbody>\n",
       "</table>\n",
       "</div>"
      ],
      "text/plain": [
       "         longitude     latitude  housing_median_age   total_rooms  \\\n",
       "count  2500.000000  2500.000000         2500.000000   2500.000000   \n",
       "mean   -121.501836    37.802288           30.088400   2522.734000   \n",
       "std       1.015963     0.803090           13.878416   1988.411988   \n",
       "min    -124.300000    36.130000            2.000000     12.000000   \n",
       "25%    -122.200000    37.600000           18.000000   1420.750000   \n",
       "50%    -122.030000    37.800000           30.000000   2052.000000   \n",
       "75%    -120.697500    37.960000           41.000000   3007.250000   \n",
       "max    -118.910000    41.950000           52.000000  28258.000000   \n",
       "\n",
       "       total_bedrooms    population   households  median_income  \\\n",
       "count     2500.000000   2500.000000  2500.000000    2500.000000   \n",
       "mean       491.862400   1246.225200   458.122000       3.694312   \n",
       "std        362.499497    925.075463   341.744308       1.859422   \n",
       "min          4.000000     18.000000     2.000000       0.499900   \n",
       "25%        282.000000    718.000000   263.000000       2.357875   \n",
       "50%        402.000000   1030.500000   374.500000       3.262200   \n",
       "75%        581.250000   1488.250000   538.000000       4.662975   \n",
       "max       3864.000000  12203.000000  3701.000000      15.000100   \n",
       "\n",
       "       median_house_value  \n",
       "count         2500.000000  \n",
       "mean        170288.731200  \n",
       "std          97550.278529  \n",
       "min          22500.000000  \n",
       "25%          92950.000000  \n",
       "50%         150800.000000  \n",
       "75%         219650.000000  \n",
       "max         500001.000000  "
      ]
     },
     "execution_count": 8,
     "metadata": {},
     "output_type": "execute_result"
    }
   ],
   "source": [
    "# `describe()` is use to get the statistical summary of the DataFrame\n",
    "housing_df.describe()"
   ]
  },
  {
   "cell_type": "markdown",
   "metadata": {
    "colab_type": "text",
    "id": "u0zhLtQqMPem"
   },
   "source": [
    "####  Split the dataset for ML\n",
    "\n",
    "The dataset we loaded was a single CSV file. We will split this into train, validation, and test sets.\n"
   ]
  },
  {
   "cell_type": "code",
   "execution_count": 9,
   "metadata": {
    "colab": {
     "base_uri": "https://localhost:8080/",
     "height": 69
    },
    "colab_type": "code",
    "id": "YEOpw7LhMYsI",
    "outputId": "6161a660-7133-465a-d754-d7acae2b68c8"
   },
   "outputs": [
    {
     "name": "stdout",
     "output_type": "stream",
     "text": [
      "1600 train examples\n",
      "400 validation examples\n",
      "500 test examples\n"
     ]
    }
   ],
   "source": [
    "# Let's split the dataset into train, validation, and test sets\n",
    "train, test = train_test_split(housing_df, test_size=0.2)\n",
    "train, val = train_test_split(train, test_size=0.2)\n",
    "\n",
    "print(len(train), 'train examples')\n",
    "print(len(val), 'validation examples')\n",
    "print(len(test), 'test examples')"
   ]
  },
  {
   "cell_type": "markdown",
   "metadata": {
    "colab_type": "text",
    "id": "dz9kfjOMBX9U"
   },
   "source": [
    "Now, we need to output the split files.  We will specifically need the test.csv later for testing.  You should see the files appear in the home directory.\n"
   ]
  },
  {
   "cell_type": "code",
   "execution_count": 10,
   "metadata": {
    "colab": {
     "base_uri": "https://localhost:8080/",
     "height": 222
    },
    "colab_type": "code",
    "id": "ADX23QUu_Wiu",
    "outputId": "e97fa59e-4ed4-48a3-8fba-c95f293944ee"
   },
   "outputs": [],
   "source": [
    "train.to_csv('../data/housing-train.csv', encoding='utf-8', index=False)"
   ]
  },
  {
   "cell_type": "code",
   "execution_count": 11,
   "metadata": {},
   "outputs": [],
   "source": [
    "val.to_csv('../data/housing-val.csv', encoding='utf-8', index=False)"
   ]
  },
  {
   "cell_type": "code",
   "execution_count": 12,
   "metadata": {
    "colab": {
     "base_uri": "https://localhost:8080/",
     "height": 222
    },
    "colab_type": "code",
    "id": "CU1FgmKEAmWh",
    "outputId": "2cce91e1-2c4a-4fe8-a6c3-3da52cb9458f"
   },
   "outputs": [],
   "source": [
    "test.to_csv('../data/housing-test.csv', encoding='utf-8', index=False)"
   ]
  },
  {
   "cell_type": "code",
   "execution_count": 13,
   "metadata": {},
   "outputs": [
    {
     "name": "stdout",
     "output_type": "stream",
     "text": [
      "==> ../data/housing-test.csv <==\n",
      "longitude,latitude,housing_median_age,total_rooms,total_bedrooms,population,households,median_income,median_house_value,ocean_proximity\n",
      "-120.8,38.51,23,1001,195,369,157,3.125,96400,INLAND\n",
      "-119.77,36.84,15,2058,412,891,378,3.2569,124400,INLAND\n",
      "-121.51,39.97,22,1468,285,611,235,2.3036,73000,INLAND\n",
      "-122.07,37.94,43,1454,234,683,258,4.475,265700,NEAR BAY\n",
      "-122.39,38.0,33,44,6,23,11,4.125,212500,NEAR BAY\n",
      "-121.94,37.8,8,11336,1657,4089,1555,7.8287,369200,<1H OCEAN\n",
      "-122.03,37.97,20,3968,931,2629,903,2.9915,166700,NEAR BAY\n",
      "-119.97,36.44,18,1128,237,772,220,2.1771,39200,INLAND\n",
      "-120.99,38.67,8,4913,744,2005,723,5.4413,187900,INLAND\n",
      "\n",
      "==> ../data/housing-train.csv <==\n",
      "longitude,latitude,housing_median_age,total_rooms,total_bedrooms,population,households,median_income,median_house_value,ocean_proximity\n",
      "-122.23,37.79,52,1783,395,1659,412,2.9357,107900,NEAR BAY\n",
      "-122.18,39.75,30,4157,834,1885,774,1.6948,67500,INLAND\n",
      "-121.86,39.78,12,7653,1578,3628,1494,3.0905,117800,INLAND\n",
      "-119.44,36.6,34,864,184,579,171,2.0417,72500,INLAND\n",
      "-122.0,37.54,29,4133,744,2023,749,5.1616,275100,<1H OCEAN\n",
      "-119.59,36.72,18,1284,193,621,190,4.5375,130600,INLAND\n",
      "-122.33,39.1,10,266,62,154,49,2.25,75000,INLAND\n",
      "-120.54,38.41,21,1435,294,668,267,2.5667,77400,INLAND\n",
      "-122.07,37.67,28,2932,739,1198,624,3.2417,210800,NEAR BAY\n",
      "\n",
      "==> ../data/housing-val.csv <==\n",
      "longitude,latitude,housing_median_age,total_rooms,total_bedrooms,population,households,median_income,median_house_value,ocean_proximity\n",
      "-122.27,37.78,45,1169,263,723,286,3.9444,212900,NEAR BAY\n",
      "-122.24,37.85,52,1467,190,496,177,7.2574,352100,NEAR BAY\n",
      "-121.61,39.52,24,1610,324,909,323,1.8661,59800,INLAND\n",
      "-122.27,37.74,28,6909,1554,2974,1484,3.6875,353900,NEAR BAY\n",
      "-122.22,37.85,28,5287,1048,2031,956,5.457,337300,NEAR BAY\n",
      "-122.1,37.68,37,1352,342,691,324,3.4032,196900,NEAR BAY\n",
      "-119.82,36.78,36,1582,313,761,318,2.6055,69200,INLAND\n",
      "-120.76,38.65,17,2319,430,1126,372,3.5511,155900,INLAND\n",
      "-122.24,37.77,52,1153,235,481,223,2.6411,241000,NEAR BAY\n",
      "\n",
      "==> ../data/housing_pre-proc_toy.csv <==\n",
      "longitude,latitude,housing_median_age,total_rooms,total_bedrooms,population,households,median_income,median_house_value,ocean_proximity\n",
      "-122.23,37.88,41,880,129,322,126,8.3252,452600,NEAR BAY\n",
      "-122.22,37.86,21,7099,1106,2401,1138,8.3014,358500,NEAR BAY\n",
      "-122.24,37.85,52,1467,190,496,177,7.2574,352100,NEAR BAY\n",
      "-122.25,37.85,52,1274,235,558,219,5.6431,341300,NEAR BAY\n",
      "-122.25,37.85,52,1627,280,565,259,3.8462,342200,NEAR BAY\n",
      "-122.25,37.85,52,919,213,413,193,4.0368,269700,NEAR BAY\n",
      "-122.25,37.84,52,2535,489,1094,514,3.6591,299200,NEAR BAY\n",
      "-122.25,37.84,52,3104,687,1157,647,3.12,241400,NEAR BAY\n",
      "-122.26,37.84,42,2555,665,1206,595,2.0804,226700,NEAR BAY\n"
     ]
    }
   ],
   "source": [
    "!head ../data/housing*.csv"
   ]
  },
  {
   "cell_type": "markdown",
   "metadata": {
    "colab_type": "text",
    "id": "Aj35eYy_lutI"
   },
   "source": [
    "## Lab Task 1: Create an input pipeline using tf.data"
   ]
  },
  {
   "cell_type": "markdown",
   "metadata": {
    "colab_type": "text",
    "id": "84ef46LXMfvu"
   },
   "source": [
    "Next, we will wrap the dataframes with [tf.data](https://www.tensorflow.org/guide/datasets). This will enable us  to use feature columns as a bridge to map from the columns in the Pandas dataframe to features used to train the model. \n",
    "\n",
    "Here, we create an input pipeline using tf.data.  This function is missing two lines.  Correct and run the cell."
   ]
  },
  {
   "cell_type": "code",
   "execution_count": 14,
   "metadata": {},
   "outputs": [],
   "source": [
    "# A utility method to create a tf.data dataset from a Pandas Dataframe\n",
    "# TODO 1a\n",
    "def df_to_dataset(dataframe, shuffle=True, batch_size=32):\n",
    "    dataframe = dataframe.copy()\n",
    "    labels = dataframe.pop('median_house_value')\n",
    "    ds = tf.data.Dataset.from_tensor_slices((dict(dataframe), labels))\n",
    "    if shuffle:\n",
    "        ds = ds.shuffle(buffer_size=len(dataframe))\n",
    "    ds = ds.batch(batch_size)\n",
    "    return ds"
   ]
  },
  {
   "cell_type": "markdown",
   "metadata": {},
   "source": [
    "Next we initialize the training and validation datasets."
   ]
  },
  {
   "cell_type": "code",
   "execution_count": 15,
   "metadata": {},
   "outputs": [
    {
     "name": "stderr",
     "output_type": "stream",
     "text": [
      "2025-02-13 12:35:01.530851: W tensorflow/compiler/xla/stream_executor/platform/default/dso_loader.cc:64] Could not load dynamic library 'libcuda.so.1'; dlerror: libcuda.so.1: cannot open shared object file: No such file or directory; LD_LIBRARY_PATH: /usr/local/cuda/lib64:/usr/local/nccl2/lib:/usr/local/cuda/extras/CUPTI/lib64:/usr/lib/x86_64-linux-gnu/:/opt/conda/lib\n",
      "2025-02-13 12:35:01.530908: W tensorflow/compiler/xla/stream_executor/cuda/cuda_driver.cc:265] failed call to cuInit: UNKNOWN ERROR (303)\n",
      "2025-02-13 12:35:01.530948: I tensorflow/compiler/xla/stream_executor/cuda/cuda_diagnostics.cc:156] kernel driver does not appear to be running on this host (lab-workbench): /proc/driver/nvidia/version does not exist\n",
      "2025-02-13 12:35:01.531618: I tensorflow/core/platform/cpu_feature_guard.cc:193] This TensorFlow binary is optimized with oneAPI Deep Neural Network Library (oneDNN) to use the following CPU instructions in performance-critical operations:  AVX2 FMA\n",
      "To enable them in other operations, rebuild TensorFlow with the appropriate compiler flags.\n"
     ]
    }
   ],
   "source": [
    "batch_size = 32\n",
    "train_ds = df_to_dataset(train)\n",
    "val_ds = df_to_dataset(val, shuffle=False, batch_size=batch_size)"
   ]
  },
  {
   "cell_type": "markdown",
   "metadata": {
    "colab_type": "text",
    "id": "qRLGSMDzM-dl"
   },
   "source": [
    "Now that we have created the input pipeline, let's call it to see the format of the data it returns. We have used a small batch size to keep the output readable."
   ]
  },
  {
   "cell_type": "code",
   "execution_count": 16,
   "metadata": {
    "colab": {
     "base_uri": "https://localhost:8080/",
     "height": 331
    },
    "colab_type": "code",
    "id": "CSBo3dUVNFc9",
    "outputId": "d1be2646-b1e5-4110-dbba-5bc49d9b30f6"
   },
   "outputs": [
    {
     "name": "stdout",
     "output_type": "stream",
     "text": [
      "Every feature: ['longitude', 'latitude', 'housing_median_age', 'total_rooms', 'total_bedrooms', 'population', 'households', 'median_income', 'ocean_proximity']\n",
      "A batch of households: tf.Tensor(\n",
      "[ 248  410  296  473  520  372  376  787  266  300  559 2359  438  328\n",
      "  366 1546  373 1185  259  269  365  322  971  422  416  392  624   80\n",
      "  470  297  876  627], shape=(32,), dtype=int64)\n",
      "A batch of ocean_proximity: tf.Tensor(\n",
      "[b'INLAND' b'NEAR BAY' b'NEAR BAY' b'NEAR BAY' b'NEAR BAY' b'INLAND'\n",
      " b'INLAND' b'INLAND' b'INLAND' b'NEAR BAY' b'INLAND' b'INLAND' b'NEAR BAY'\n",
      " b'NEAR BAY' b'NEAR BAY' b'NEAR BAY' b'NEAR BAY' b'NEAR BAY' b'NEAR BAY'\n",
      " b'NEAR BAY' b'NEAR BAY' b'NEAR BAY' b'INLAND' b'NEAR BAY' b'INLAND'\n",
      " b'NEAR BAY' b'NEAR BAY' b'INLAND' b'INLAND' b'INLAND' b'NEAR BAY'\n",
      " b'INLAND'], shape=(32,), dtype=string)\n",
      "A batch of targets: tf.Tensor(\n",
      "[132600 259300 315500 335700  81400 120900 158700 108200  87300 134100\n",
      " 117500 213700 112500 285800 232100 184900 135800 179300  96400 253500\n",
      " 238600 397500  53500 259400  66700 243500 210800  78600  44500 126600\n",
      " 271400  72200], shape=(32,), dtype=int64)\n"
     ]
    }
   ],
   "source": [
    "# TODO 1b\n",
    "for feature_batch, label_batch in train_ds.take(1):\n",
    "    print('Every feature:', list(feature_batch.keys()))\n",
    "    print('A batch of households:', feature_batch['households'])\n",
    "    print('A batch of ocean_proximity:', feature_batch['ocean_proximity'])\n",
    "    print('A batch of targets:', label_batch)"
   ]
  },
  {
   "cell_type": "markdown",
   "metadata": {
    "colab_type": "text",
    "id": "OT5N6Se-NQsC"
   },
   "source": [
    "We can see that the dataset returns a dictionary of column names (from the dataframe) that map to column values from rows in the dataframe."
   ]
  },
  {
   "cell_type": "markdown",
   "metadata": {
    "colab_type": "text",
    "id": "YEGEAqaziwfC"
   },
   "source": [
    "#### Numeric columns\n",
    "The output of a feature column becomes the input to the model. A numeric is the simplest type of column. It is used to represent real valued features. When using this column, your model will receive the column value from the dataframe unchanged.\n",
    "\n",
    "In the California housing prices dataset, most columns from the dataframe are numeric.  Let's create a variable called **numeric_cols** to hold only the numerical feature columns."
   ]
  },
  {
   "cell_type": "code",
   "execution_count": 17,
   "metadata": {},
   "outputs": [],
   "source": [
    "# Let's create a variable called `numeric_cols` to hold only the numerical feature columns.\n",
    "# TODO 1c\n",
    "numeric_cols = ['longitude', 'latitude', 'housing_median_age', 'total_rooms',\n",
    "                'total_bedrooms', 'population', 'households', 'median_income']"
   ]
  },
  {
   "cell_type": "markdown",
   "metadata": {
    "colab_type": "text",
    "id": "EwMEcH_52JT8"
   },
   "source": [
    "#### Scaler function\n",
    "It is very important for numerical variables to get scaled before they are \"fed\" into the neural network. Here we use min-max scaling. Here we are creating a function named 'get_scal' which takes a list of numerical features and returns a 'minmax' function, which will be used in tf.feature_column.numeric_column() as normalizer_fn in parameters. 'Minmax' function itself takes a 'numerical' number from a particular feature and return scaled value of that number. "
   ]
  },
  {
   "cell_type": "markdown",
   "metadata": {
    "colab_type": "text",
    "id": "ig1k5ovWBnN8"
   },
   "source": [
    "Next, we scale the numerical feature columns that we assigned to the variable \"numeric cols\"."
   ]
  },
  {
   "cell_type": "code",
   "execution_count": 18,
   "metadata": {},
   "outputs": [],
   "source": [
    "# 'get_scal' function takes a list of numerical features and returns a 'minmax' function\n",
    "# 'Minmax' function itself takes a 'numerical' number from a particular feature and return scaled value of that number.\n",
    "# Scalar def get_scal(feature):\n",
    "# TODO 1d\n",
    "def get_scal(feature):\n",
    "    def minmax(x):\n",
    "        mini = train[feature].min()\n",
    "        maxi = train[feature].max()\n",
    "        return (x - mini)/(maxi-mini)\n",
    "        return(minmax)"
   ]
  },
  {
   "cell_type": "code",
   "execution_count": 22,
   "metadata": {
    "colab": {},
    "colab_type": "code",
    "id": "Y8IUfcuVaS_g"
   },
   "outputs": [],
   "source": [
    "# TODO 1e\n",
    "feature_columns = []\n",
    "for header in numeric_cols:\n",
    "    scal_input_fn = get_scal(header)\n",
    "    feature_columns.append(fc.numeric_column(header,\n",
    "                                             normalizer_fn=None))"
   ]
  },
  {
   "cell_type": "markdown",
   "metadata": {
    "colab_type": "text",
    "id": "8v9XoD7WCKRM"
   },
   "source": [
    "Next, we should validate the total number of feature columns.  Compare this number to the number of numeric features you input earlier."
   ]
  },
  {
   "cell_type": "code",
   "execution_count": 23,
   "metadata": {
    "colab": {
     "base_uri": "https://localhost:8080/",
     "height": 34
    },
    "colab_type": "code",
    "id": "4jgPFThi50sS",
    "outputId": "23ede6f5-a62a-4767-b3a6-fe8a3b89a212"
   },
   "outputs": [
    {
     "name": "stdout",
     "output_type": "stream",
     "text": [
      "Total number of feature coLumns:  8\n"
     ]
    }
   ],
   "source": [
    "print('Total number of feature coLumns: ', len(feature_columns))"
   ]
  },
  {
   "cell_type": "markdown",
   "metadata": {
    "colab_type": "text",
    "id": "9Ug3hB8Sl0jO"
   },
   "source": [
    "### Using the Keras Sequential Model\n",
    "\n",
    "Next, we will run this cell to compile and fit the Keras Sequential model."
   ]
  },
  {
   "cell_type": "code",
   "execution_count": 24,
   "metadata": {
    "colab": {
     "base_uri": "https://localhost:8080/",
     "height": 1000
    },
    "colab_type": "code",
    "id": "_YJPPb3xTPeZ",
    "outputId": "2d445722-1d43-4a27-a6c0-c6ce813ab450"
   },
   "outputs": [
    {
     "name": "stdout",
     "output_type": "stream",
     "text": [
      "Epoch 1/32\n",
      "WARNING:tensorflow:Layers in a Sequential model should only have a single input tensor. Received: inputs={'longitude': <tf.Tensor 'IteratorGetNext:3' shape=(None,) dtype=float64>, 'latitude': <tf.Tensor 'IteratorGetNext:2' shape=(None,) dtype=float64>, 'housing_median_age': <tf.Tensor 'IteratorGetNext:1' shape=(None,) dtype=int64>, 'total_rooms': <tf.Tensor 'IteratorGetNext:8' shape=(None,) dtype=int64>, 'total_bedrooms': <tf.Tensor 'IteratorGetNext:7' shape=(None,) dtype=int64>, 'population': <tf.Tensor 'IteratorGetNext:6' shape=(None,) dtype=int64>, 'households': <tf.Tensor 'IteratorGetNext:0' shape=(None,) dtype=int64>, 'median_income': <tf.Tensor 'IteratorGetNext:4' shape=(None,) dtype=float64>, 'ocean_proximity': <tf.Tensor 'IteratorGetNext:5' shape=(None,) dtype=string>}. Consider rewriting this model with the Functional API.\n",
      "WARNING:tensorflow:Layers in a Sequential model should only have a single input tensor. Received: inputs={'longitude': <tf.Tensor 'IteratorGetNext:3' shape=(None,) dtype=float64>, 'latitude': <tf.Tensor 'IteratorGetNext:2' shape=(None,) dtype=float64>, 'housing_median_age': <tf.Tensor 'IteratorGetNext:1' shape=(None,) dtype=int64>, 'total_rooms': <tf.Tensor 'IteratorGetNext:8' shape=(None,) dtype=int64>, 'total_bedrooms': <tf.Tensor 'IteratorGetNext:7' shape=(None,) dtype=int64>, 'population': <tf.Tensor 'IteratorGetNext:6' shape=(None,) dtype=int64>, 'households': <tf.Tensor 'IteratorGetNext:0' shape=(None,) dtype=int64>, 'median_income': <tf.Tensor 'IteratorGetNext:4' shape=(None,) dtype=float64>, 'ocean_proximity': <tf.Tensor 'IteratorGetNext:5' shape=(None,) dtype=string>}. Consider rewriting this model with the Functional API.\n",
      "30/50 [=================>............] - ETA: 0s - loss: 37921857536.0000 - mse: 37921857536.0000 WARNING:tensorflow:Layers in a Sequential model should only have a single input tensor. Received: inputs={'longitude': <tf.Tensor 'IteratorGetNext:3' shape=(None,) dtype=float64>, 'latitude': <tf.Tensor 'IteratorGetNext:2' shape=(None,) dtype=float64>, 'housing_median_age': <tf.Tensor 'IteratorGetNext:1' shape=(None,) dtype=int64>, 'total_rooms': <tf.Tensor 'IteratorGetNext:8' shape=(None,) dtype=int64>, 'total_bedrooms': <tf.Tensor 'IteratorGetNext:7' shape=(None,) dtype=int64>, 'population': <tf.Tensor 'IteratorGetNext:6' shape=(None,) dtype=int64>, 'households': <tf.Tensor 'IteratorGetNext:0' shape=(None,) dtype=int64>, 'median_income': <tf.Tensor 'IteratorGetNext:4' shape=(None,) dtype=float64>, 'ocean_proximity': <tf.Tensor 'IteratorGetNext:5' shape=(None,) dtype=string>}. Consider rewriting this model with the Functional API.\n",
      "50/50 [==============================] - 1s 6ms/step - loss: 38370807808.0000 - mse: 38370807808.0000 - val_loss: 40337432576.0000 - val_mse: 40337432576.0000\n",
      "Epoch 2/32\n",
      "50/50 [==============================] - 0s 2ms/step - loss: 38103683072.0000 - mse: 38103683072.0000 - val_loss: 40025169920.0000 - val_mse: 40025169920.0000\n",
      "Epoch 3/32\n",
      "50/50 [==============================] - 0s 3ms/step - loss: 37777268736.0000 - mse: 37777268736.0000 - val_loss: 39623135232.0000 - val_mse: 39623135232.0000\n",
      "Epoch 4/32\n",
      "50/50 [==============================] - 0s 3ms/step - loss: 37338034176.0000 - mse: 37338034176.0000 - val_loss: 39069421568.0000 - val_mse: 39069421568.0000\n",
      "Epoch 5/32\n",
      "50/50 [==============================] - 0s 3ms/step - loss: 36719300608.0000 - mse: 36719300608.0000 - val_loss: 38239182848.0000 - val_mse: 38239182848.0000\n",
      "Epoch 6/32\n",
      "50/50 [==============================] - 0s 3ms/step - loss: 35743805440.0000 - mse: 35743805440.0000 - val_loss: 36913537024.0000 - val_mse: 36913537024.0000\n",
      "Epoch 7/32\n",
      "50/50 [==============================] - 0s 3ms/step - loss: 34287292416.0000 - mse: 34287292416.0000 - val_loss: 35111301120.0000 - val_mse: 35111301120.0000\n",
      "Epoch 8/32\n",
      "50/50 [==============================] - 0s 3ms/step - loss: 32359045120.0000 - mse: 32359045120.0000 - val_loss: 32857010176.0000 - val_mse: 32857010176.0000\n",
      "Epoch 9/32\n",
      "50/50 [==============================] - 0s 3ms/step - loss: 30027386880.0000 - mse: 30027386880.0000 - val_loss: 30227681280.0000 - val_mse: 30227681280.0000\n",
      "Epoch 10/32\n",
      "50/50 [==============================] - 0s 3ms/step - loss: 27413288960.0000 - mse: 27413288960.0000 - val_loss: 27369506816.0000 - val_mse: 27369506816.0000\n",
      "Epoch 11/32\n",
      "50/50 [==============================] - 0s 3ms/step - loss: 24667256832.0000 - mse: 24667256832.0000 - val_loss: 24562518016.0000 - val_mse: 24562518016.0000\n",
      "Epoch 12/32\n",
      "50/50 [==============================] - 0s 3ms/step - loss: 21979512832.0000 - mse: 21979512832.0000 - val_loss: 21924192256.0000 - val_mse: 21924192256.0000\n",
      "Epoch 13/32\n",
      "50/50 [==============================] - 0s 3ms/step - loss: 19433304064.0000 - mse: 19433304064.0000 - val_loss: 19787945984.0000 - val_mse: 19787945984.0000\n",
      "Epoch 14/32\n",
      "50/50 [==============================] - 0s 3ms/step - loss: 17505556480.0000 - mse: 17505556480.0000 - val_loss: 18483884032.0000 - val_mse: 18483884032.0000\n",
      "Epoch 15/32\n",
      "50/50 [==============================] - 0s 3ms/step - loss: 16363599872.0000 - mse: 16363599872.0000 - val_loss: 17859002368.0000 - val_mse: 17859002368.0000\n",
      "Epoch 16/32\n",
      "50/50 [==============================] - 0s 3ms/step - loss: 15757905920.0000 - mse: 15757905920.0000 - val_loss: 17709303808.0000 - val_mse: 17709303808.0000\n",
      "Epoch 17/32\n",
      "50/50 [==============================] - 0s 2ms/step - loss: 15502356480.0000 - mse: 15502356480.0000 - val_loss: 17689520128.0000 - val_mse: 17689520128.0000\n",
      "Epoch 18/32\n",
      "50/50 [==============================] - 0s 2ms/step - loss: 15384923136.0000 - mse: 15384923136.0000 - val_loss: 17709207552.0000 - val_mse: 17709207552.0000\n",
      "Epoch 19/32\n",
      "50/50 [==============================] - 0s 3ms/step - loss: 15334861824.0000 - mse: 15334861824.0000 - val_loss: 17755052032.0000 - val_mse: 17755052032.0000\n",
      "Epoch 20/32\n",
      "50/50 [==============================] - 0s 3ms/step - loss: 15292830720.0000 - mse: 15292830720.0000 - val_loss: 17716207616.0000 - val_mse: 17716207616.0000\n",
      "Epoch 21/32\n",
      "50/50 [==============================] - 0s 2ms/step - loss: 15282146304.0000 - mse: 15282146304.0000 - val_loss: 17783148544.0000 - val_mse: 17783148544.0000\n",
      "Epoch 22/32\n",
      "50/50 [==============================] - 0s 2ms/step - loss: 15272914944.0000 - mse: 15272914944.0000 - val_loss: 17689980928.0000 - val_mse: 17689980928.0000\n",
      "Epoch 23/32\n",
      "50/50 [==============================] - 0s 2ms/step - loss: 15204514816.0000 - mse: 15204514816.0000 - val_loss: 17675118592.0000 - val_mse: 17675118592.0000\n",
      "Epoch 24/32\n",
      "50/50 [==============================] - 0s 2ms/step - loss: 15178731520.0000 - mse: 15178731520.0000 - val_loss: 17663272960.0000 - val_mse: 17663272960.0000\n",
      "Epoch 25/32\n",
      "50/50 [==============================] - 0s 2ms/step - loss: 15151104000.0000 - mse: 15151104000.0000 - val_loss: 17633845248.0000 - val_mse: 17633845248.0000\n",
      "Epoch 26/32\n",
      "50/50 [==============================] - 0s 2ms/step - loss: 15133094912.0000 - mse: 15133094912.0000 - val_loss: 17591748608.0000 - val_mse: 17591748608.0000\n",
      "Epoch 27/32\n",
      "50/50 [==============================] - 0s 2ms/step - loss: 15097849856.0000 - mse: 15097849856.0000 - val_loss: 17545394176.0000 - val_mse: 17545394176.0000\n",
      "Epoch 28/32\n",
      "50/50 [==============================] - 0s 2ms/step - loss: 15090405376.0000 - mse: 15090405376.0000 - val_loss: 17578868736.0000 - val_mse: 17578868736.0000\n",
      "Epoch 29/32\n",
      "50/50 [==============================] - 0s 2ms/step - loss: 15048366080.0000 - mse: 15048366080.0000 - val_loss: 17474217984.0000 - val_mse: 17474217984.0000\n",
      "Epoch 30/32\n",
      "50/50 [==============================] - 0s 2ms/step - loss: 15025079296.0000 - mse: 15025079296.0000 - val_loss: 17452386304.0000 - val_mse: 17452386304.0000\n",
      "Epoch 31/32\n",
      "50/50 [==============================] - 0s 2ms/step - loss: 14992923648.0000 - mse: 14992923648.0000 - val_loss: 17468131328.0000 - val_mse: 17468131328.0000\n",
      "Epoch 32/32\n",
      "50/50 [==============================] - 0s 2ms/step - loss: 14964659200.0000 - mse: 14964659200.0000 - val_loss: 17422999552.0000 - val_mse: 17422999552.0000\n"
     ]
    }
   ],
   "source": [
    "# Model create\n",
    "# `tf.keras.layers.DenseFeatures()` is a layer that produces a dense Tensor based on given feature_columns.\n",
    "feature_layer = tf.keras.layers.DenseFeatures(feature_columns, dtype='float64')\n",
    "\n",
    "# `tf.keras.Sequential()` groups a linear stack of layers into a tf.keras.Model.\n",
    "model = tf.keras.Sequential([\n",
    "  feature_layer,\n",
    "  layers.Dense(12, input_dim=8, activation='relu'),\n",
    "  layers.Dense(8, activation='relu'),\n",
    "  layers.Dense(1, activation='linear',  name='median_house_value')\n",
    "])\n",
    "\n",
    "# Model compile\n",
    "model.compile(optimizer='adam',\n",
    "              loss='mse',\n",
    "              metrics=['mse'])\n",
    "\n",
    "# Model Fit\n",
    "history = model.fit(train_ds,\n",
    "                    validation_data=val_ds,\n",
    "                    epochs=32)"
   ]
  },
  {
   "cell_type": "markdown",
   "metadata": {},
   "source": [
    "Next we show loss as  Mean Square Error (MSE).  Remember that MSE is the most commonly used regression loss function. MSE is the sum of squared distances between our target variable (e.g. housing median age) and predicted values."
   ]
  },
  {
   "cell_type": "code",
   "execution_count": 25,
   "metadata": {
    "colab": {
     "base_uri": "https://localhost:8080/",
     "height": 71
    },
    "colab_type": "code",
    "id": "vo7hhkPqm6Jx",
    "outputId": "938907f6-b6c8-497c-a8f6-0f1cdbf336c9",
    "tags": []
   },
   "outputs": [
    {
     "name": "stdout",
     "output_type": "stream",
     "text": [
      "50/50 [==============================] - 0s 2ms/step - loss: 14945844224.0000 - mse: 14945844224.0000\n",
      "Mean Squared Error 14945844224.0\n"
     ]
    }
   ],
   "source": [
    "# Let's show loss as Mean Square Error (MSE)\n",
    "loss, mse = model.evaluate(train_ds)\n",
    "print(\"Mean Squared Error\", mse)"
   ]
  },
  {
   "cell_type": "markdown",
   "metadata": {
    "colab_type": "text",
    "id": "252EPxGp7-FJ"
   },
   "source": [
    "#### Visualize the model loss curve\n",
    "\n",
    "Next, we will use matplotlib to draw the model's loss curves for training and validation.  A line plot is also created showing the mean squared error loss over the training epochs for both the train (blue) and test (orange) sets."
   ]
  },
  {
   "cell_type": "code",
   "execution_count": 26,
   "metadata": {
    "tags": []
   },
   "outputs": [],
   "source": [
    "# Use matplotlib to draw the model's loss curves for training and validation\n",
    "def plot_curves(history, metrics):\n",
    "    nrows = 1\n",
    "    ncols = 2\n",
    "    fig = plt.figure(figsize=(10, 5))\n",
    "\n",
    "    for idx, key in enumerate(metrics):  \n",
    "        ax = fig.add_subplot(nrows, ncols, idx+1)\n",
    "        plt.plot(history.history[key])\n",
    "        plt.plot(history.history['val_{}'.format(key)])\n",
    "        plt.title('model {}'.format(key))\n",
    "        plt.ylabel(key)\n",
    "        plt.xlabel('epoch')\n",
    "        plt.legend(['train', 'validation'], loc='upper left');  "
   ]
  },
  {
   "cell_type": "code",
   "execution_count": 27,
   "metadata": {
    "tags": []
   },
   "outputs": [
    {
     "data": {
      "image/png": "[encoded data removed]",
      "text/plain": [
       "<Figure size 1000x500 with 2 Axes>"
      ]
     },
     "metadata": {},
     "output_type": "display_data"
    }
   ],
   "source": [
    "plot_curves(history, ['loss', 'mse'])"
   ]
  },
  {
   "cell_type": "markdown",
   "metadata": {
    "colab_type": "text",
    "id": "wqkozY268xi7"
   },
   "source": [
    "### Load test data"
   ]
  },
  {
   "cell_type": "markdown",
   "metadata": {
    "colab_type": "text",
    "id": "uf4TyVJ_Dzxe"
   },
   "source": [
    "Next, we read in the test.csv file and validate that there are no null values.  "
   ]
  },
  {
   "cell_type": "markdown",
   "metadata": {},
   "source": [
    "Again, we can use .describe() to see some summary statistics for the numeric fields in our dataframe.  The count shows 500.000000 for all feature columns. Thus, there are no missing values."
   ]
  },
  {
   "cell_type": "code",
   "execution_count": 23,
   "metadata": {
    "colab": {
     "base_uri": "https://localhost:8080/",
     "height": 222
    },
    "colab_type": "code",
    "id": "b4C4BmhV8ch9",
    "outputId": "82bcc9d3-4432-4068-ab82-6a6abbe4a024"
   },
   "outputs": [
    {
     "data": {
      "text/html": [
       "<div>\n",
       "<style scoped>\n",
       "    .dataframe tbody tr th:only-of-type {\n",
       "        vertical-align: middle;\n",
       "    }\n",
       "\n",
       "    .dataframe tbody tr th {\n",
       "        vertical-align: top;\n",
       "    }\n",
       "\n",
       "    .dataframe thead th {\n",
       "        text-align: right;\n",
       "    }\n",
       "</style>\n",
       "<table border=\"1\" class=\"dataframe\">\n",
       "  <thead>\n",
       "    <tr style=\"text-align: right;\">\n",
       "      <th></th>\n",
       "      <th>longitude</th>\n",
       "      <th>latitude</th>\n",
       "      <th>housing_median_age</th>\n",
       "      <th>total_rooms</th>\n",
       "      <th>total_bedrooms</th>\n",
       "      <th>population</th>\n",
       "      <th>households</th>\n",
       "      <th>median_income</th>\n",
       "      <th>median_house_value</th>\n",
       "    </tr>\n",
       "  </thead>\n",
       "  <tbody>\n",
       "    <tr>\n",
       "      <th>count</th>\n",
       "      <td>500.000000</td>\n",
       "      <td>500.000000</td>\n",
       "      <td>500.000000</td>\n",
       "      <td>500.000000</td>\n",
       "      <td>500.000000</td>\n",
       "      <td>500.000000</td>\n",
       "      <td>500.000000</td>\n",
       "      <td>500.000000</td>\n",
       "      <td>500.000000</td>\n",
       "    </tr>\n",
       "    <tr>\n",
       "      <th>mean</th>\n",
       "      <td>-121.484620</td>\n",
       "      <td>37.788780</td>\n",
       "      <td>29.434000</td>\n",
       "      <td>2454.474000</td>\n",
       "      <td>483.734000</td>\n",
       "      <td>1224.256000</td>\n",
       "      <td>451.594000</td>\n",
       "      <td>3.668661</td>\n",
       "      <td>170155.210000</td>\n",
       "    </tr>\n",
       "    <tr>\n",
       "      <th>std</th>\n",
       "      <td>1.021337</td>\n",
       "      <td>0.783415</td>\n",
       "      <td>14.118935</td>\n",
       "      <td>1762.173905</td>\n",
       "      <td>341.648965</td>\n",
       "      <td>825.955172</td>\n",
       "      <td>315.922007</td>\n",
       "      <td>1.884980</td>\n",
       "      <td>98074.219727</td>\n",
       "    </tr>\n",
       "    <tr>\n",
       "      <th>min</th>\n",
       "      <td>-124.230000</td>\n",
       "      <td>36.140000</td>\n",
       "      <td>2.000000</td>\n",
       "      <td>44.000000</td>\n",
       "      <td>6.000000</td>\n",
       "      <td>23.000000</td>\n",
       "      <td>11.000000</td>\n",
       "      <td>0.536000</td>\n",
       "      <td>39200.000000</td>\n",
       "    </tr>\n",
       "    <tr>\n",
       "      <th>25%</th>\n",
       "      <td>-122.182500</td>\n",
       "      <td>37.607500</td>\n",
       "      <td>17.000000</td>\n",
       "      <td>1431.750000</td>\n",
       "      <td>281.500000</td>\n",
       "      <td>736.750000</td>\n",
       "      <td>269.000000</td>\n",
       "      <td>2.269050</td>\n",
       "      <td>92550.000000</td>\n",
       "    </tr>\n",
       "    <tr>\n",
       "      <th>50%</th>\n",
       "      <td>-122.020000</td>\n",
       "      <td>37.800000</td>\n",
       "      <td>29.000000</td>\n",
       "      <td>1999.000000</td>\n",
       "      <td>405.000000</td>\n",
       "      <td>995.500000</td>\n",
       "      <td>371.000000</td>\n",
       "      <td>3.250000</td>\n",
       "      <td>151400.000000</td>\n",
       "    </tr>\n",
       "    <tr>\n",
       "      <th>75%</th>\n",
       "      <td>-120.620000</td>\n",
       "      <td>37.960000</td>\n",
       "      <td>40.000000</td>\n",
       "      <td>3024.250000</td>\n",
       "      <td>576.750000</td>\n",
       "      <td>1484.500000</td>\n",
       "      <td>522.500000</td>\n",
       "      <td>4.753050</td>\n",
       "      <td>218625.000000</td>\n",
       "    </tr>\n",
       "    <tr>\n",
       "      <th>max</th>\n",
       "      <td>-118.940000</td>\n",
       "      <td>41.750000</td>\n",
       "      <td>52.000000</td>\n",
       "      <td>14917.000000</td>\n",
       "      <td>2708.000000</td>\n",
       "      <td>8012.000000</td>\n",
       "      <td>2606.000000</td>\n",
       "      <td>12.591500</td>\n",
       "      <td>500001.000000</td>\n",
       "    </tr>\n",
       "  </tbody>\n",
       "</table>\n",
       "</div>"
      ],
      "text/plain": [
       "        longitude    latitude  housing_median_age   total_rooms  \\\n",
       "count  500.000000  500.000000          500.000000    500.000000   \n",
       "mean  -121.484620   37.788780           29.434000   2454.474000   \n",
       "std      1.021337    0.783415           14.118935   1762.173905   \n",
       "min   -124.230000   36.140000            2.000000     44.000000   \n",
       "25%   -122.182500   37.607500           17.000000   1431.750000   \n",
       "50%   -122.020000   37.800000           29.000000   1999.000000   \n",
       "75%   -120.620000   37.960000           40.000000   3024.250000   \n",
       "max   -118.940000   41.750000           52.000000  14917.000000   \n",
       "\n",
       "       total_bedrooms   population   households  median_income  \\\n",
       "count      500.000000   500.000000   500.000000     500.000000   \n",
       "mean       483.734000  1224.256000   451.594000       3.668661   \n",
       "std        341.648965   825.955172   315.922007       1.884980   \n",
       "min          6.000000    23.000000    11.000000       0.536000   \n",
       "25%        281.500000   736.750000   269.000000       2.269050   \n",
       "50%        405.000000   995.500000   371.000000       3.250000   \n",
       "75%        576.750000  1484.500000   522.500000       4.753050   \n",
       "max       2708.000000  8012.000000  2606.000000      12.591500   \n",
       "\n",
       "       median_house_value  \n",
       "count          500.000000  \n",
       "mean        170155.210000  \n",
       "std          98074.219727  \n",
       "min          39200.000000  \n",
       "25%          92550.000000  \n",
       "50%         151400.000000  \n",
       "75%         218625.000000  \n",
       "max         500001.000000  "
      ]
     },
     "execution_count": 23,
     "metadata": {},
     "output_type": "execute_result"
    }
   ],
   "source": [
    "test_data = pd.read_csv('../data/housing-test.csv')\n",
    "test_data.describe()"
   ]
  },
  {
   "cell_type": "markdown",
   "metadata": {
    "colab_type": "text",
    "id": "nY2Yrt8fC7RW"
   },
   "source": [
    "Now that we have created an input pipeline using tf.data and compiled a Keras Sequential Model, we now create the input function for the test data and to initialize the test_predict variable."
   ]
  },
  {
   "cell_type": "code",
   "execution_count": 24,
   "metadata": {
    "colab": {},
    "colab_type": "code",
    "id": "8rMdDeGDCwpT"
   },
   "outputs": [],
   "source": [
    "# TODO 1f\n",
    "def test_input_fn(features, batch_size=256):\n",
    "    \"\"\"An input function for prediction.\"\"\"\n",
    "    # Convert the inputs to a Dataset without labels.\n",
    "    return tf.data.Dataset.from_tensor_slices(dict(features)).batch(batch_size)"
   ]
  },
  {
   "cell_type": "code",
   "execution_count": 25,
   "metadata": {},
   "outputs": [],
   "source": [
    "test_predict = test_input_fn(dict(test_data))"
   ]
  },
  {
   "cell_type": "markdown",
   "metadata": {
    "colab_type": "text",
    "id": "H5SkINtbDIdr"
   },
   "source": [
    "#### Prediction:  Linear Regression\n",
    "\n",
    "Before we begin to feature engineer our feature columns, we should predict the median house value.  By predicting the median house value now, we can then compare it with the median house value after feature engineering.\n",
    "\n",
    "To predict with Keras, you simply call [model.predict()](https://keras.io/models/model/#predict) and pass in the housing features you want to predict the median_house_value for. Note:  We are predicting the model locally."
   ]
  },
  {
   "cell_type": "code",
   "execution_count": 26,
   "metadata": {
    "colab": {},
    "colab_type": "code",
    "id": "uNc6TSoJDL7-"
   },
   "outputs": [
    {
     "name": "stdout",
     "output_type": "stream",
     "text": [
      "WARNING:tensorflow:Layers in a Sequential model should only have a single input tensor, but we receive a <class 'dict'> input: {'longitude': <tf.Tensor 'ExpandDims_3:0' shape=(None, 1) dtype=float64>, 'latitude': <tf.Tensor 'ExpandDims_2:0' shape=(None, 1) dtype=float64>, 'housing_median_age': <tf.Tensor 'ExpandDims_1:0' shape=(None, 1) dtype=int64>, 'total_rooms': <tf.Tensor 'ExpandDims_9:0' shape=(None, 1) dtype=int64>, 'total_bedrooms': <tf.Tensor 'ExpandDims_8:0' shape=(None, 1) dtype=int64>, 'population': <tf.Tensor 'ExpandDims_7:0' shape=(None, 1) dtype=int64>, 'households': <tf.Tensor 'ExpandDims:0' shape=(None, 1) dtype=int64>, 'median_income': <tf.Tensor 'ExpandDims_5:0' shape=(None, 1) dtype=float64>, 'median_house_value': <tf.Tensor 'ExpandDims_4:0' shape=(None, 1) dtype=int64>, 'ocean_proximity': <tf.Tensor 'ExpandDims_6:0' shape=(None, 1) dtype=string>}\n",
      "Consider rewriting this model with the Functional API.\n"
     ]
    }
   ],
   "source": [
    "# Use the model to do prediction with `model.predict()`\n",
    "predicted_median_house_value = model.predict(test_predict)"
   ]
  },
  {
   "cell_type": "markdown",
   "metadata": {
    "colab_type": "text",
    "id": "HFXK1SKPDYgD"
   },
   "source": [
    "Next, we run two predictions in separate cells - one where ocean_proximity=INLAND and one where ocean_proximity= NEAR OCEAN. "
   ]
  },
  {
   "cell_type": "code",
   "execution_count": 27,
   "metadata": {
    "colab": {
     "base_uri": "https://localhost:8080/",
     "height": 34
    },
    "colab_type": "code",
    "id": "xepss0vhoHge",
    "outputId": "46842a26-eacd-4801-857b-18c6a8f2005c"
   },
   "outputs": [
    {
     "name": "stdout",
     "output_type": "stream",
     "text": [
      "WARNING:tensorflow:Layers in a Sequential model should only have a single input tensor, but we receive a <class 'dict'> input: {'longitude': <tf.Tensor 'ExpandDims_3:0' shape=(1, 1) dtype=float32>, 'latitude': <tf.Tensor 'ExpandDims_2:0' shape=(1, 1) dtype=float32>, 'housing_median_age': <tf.Tensor 'ExpandDims_1:0' shape=(1, 1) dtype=float32>, 'total_rooms': <tf.Tensor 'ExpandDims_8:0' shape=(1, 1) dtype=float32>, 'total_bedrooms': <tf.Tensor 'ExpandDims_7:0' shape=(1, 1) dtype=float32>, 'population': <tf.Tensor 'ExpandDims_6:0' shape=(1, 1) dtype=float32>, 'households': <tf.Tensor 'ExpandDims:0' shape=(1, 1) dtype=float32>, 'median_income': <tf.Tensor 'ExpandDims_4:0' shape=(1, 1) dtype=float32>, 'ocean_proximity': <tf.Tensor 'ExpandDims_5:0' shape=(1, 1) dtype=string>}\n",
      "Consider rewriting this model with the Functional API.\n"
     ]
    },
    {
     "data": {
      "text/plain": [
       "array([[343034.]], dtype=float32)"
      ]
     },
     "execution_count": 27,
     "metadata": {},
     "output_type": "execute_result"
    }
   ],
   "source": [
    "# Ocean_proximity is INLAND\n",
    "model.predict({\n",
    "    'longitude': tf.convert_to_tensor([-121.86]),\n",
    "    'latitude': tf.convert_to_tensor([39.78]),\n",
    "    'housing_median_age': tf.convert_to_tensor([12.0]),\n",
    "    'total_rooms': tf.convert_to_tensor([7653.0]),\n",
    "    'total_bedrooms': tf.convert_to_tensor([1578.0]),\n",
    "    'population': tf.convert_to_tensor([3628.0]),\n",
    "    'households': tf.convert_to_tensor([1494.0]),\n",
    "    'median_income': tf.convert_to_tensor([3.0905]),\n",
    "    'ocean_proximity': tf.convert_to_tensor(['INLAND'])\n",
    "}, steps=1)"
   ]
  },
  {
   "cell_type": "code",
   "execution_count": 28,
   "metadata": {
    "colab": {
     "base_uri": "https://localhost:8080/",
     "height": 34
    },
    "colab_type": "code",
    "id": "qPssm8p4EZHh",
    "outputId": "2a55d427-7857-401c-f60d-edbb36be19ec"
   },
   "outputs": [
    {
     "data": {
      "text/plain": [
       "array([[190023.45]], dtype=float32)"
      ]
     },
     "execution_count": 28,
     "metadata": {},
     "output_type": "execute_result"
    }
   ],
   "source": [
    "# Ocean_proximity is NEAR OCEAN\n",
    "model.predict({\n",
    "    'longitude': tf.convert_to_tensor([-122.43]),\n",
    "    'latitude': tf.convert_to_tensor([37.63]),\n",
    "    'housing_median_age': tf.convert_to_tensor([34.0]),\n",
    "    'total_rooms': tf.convert_to_tensor([4135.0]),\n",
    "    'total_bedrooms': tf.convert_to_tensor([687.0]),\n",
    "    'population': tf.convert_to_tensor([2154.0]),\n",
    "    'households': tf.convert_to_tensor([742.0]),\n",
    "    'median_income': tf.convert_to_tensor([4.9732]),\n",
    "    'ocean_proximity': tf.convert_to_tensor(['NEAR OCEAN'])\n",
    "}, steps=1)"
   ]
  },
  {
   "cell_type": "markdown",
   "metadata": {
    "colab_type": "text",
    "id": "Txl-MRuLFE_8"
   },
   "source": [
    "The arrays returns a predicted value.  What do these numbers mean?  Let's compare this value to the test set.  \n",
    "\n",
    "Go to the test.csv you read in a few cells up.  Locate the first line and find the median_house_value - which should be 249,000 dollars near the ocean. What value did your model predicted for the median_house_value? Was it a solid model performance? Let's see if we can improve this a bit with feature engineering!  \n"
   ]
  },
  {
   "cell_type": "markdown",
   "metadata": {},
   "source": [
    "## Lab Task 2: Engineer features to create categorical and numerical features"
   ]
  },
  {
   "cell_type": "markdown",
   "metadata": {
    "colab_type": "text",
    "id": "78F1XH1Qwvbt"
   },
   "source": [
    "Now we create a cell that indicates which features will be used in the model.  \n",
    "Note:  Be sure to bucketize 'housing_median_age' and ensure that 'ocean_proximity' is one-hot encoded.  And, don't forget your numeric values!"
   ]
  },
  {
   "cell_type": "code",
   "execution_count": 29,
   "metadata": {
    "colab": {},
    "colab_type": "code",
    "id": "ZxSatLUxUmvI"
   },
   "outputs": [],
   "source": [
    "# TODO 2a\n",
    "numeric_cols = ['longitude', 'latitude', 'housing_median_age', 'total_rooms',\n",
    "                'total_bedrooms', 'population', 'households', 'median_income']\n",
    "\n",
    "bucketized_cols = ['housing_median_age']\n",
    "\n",
    "# indicator columns,Categorical features\n",
    "categorical_cols = ['ocean_proximity']"
   ]
  },
  {
   "cell_type": "markdown",
   "metadata": {
    "colab_type": "text",
    "id": "5HbypkYHxxwt"
   },
   "source": [
    "Next, we scale the numerical, bucktized, and categorical feature columns that we assigned to the variables in the preceding cell."
   ]
  },
  {
   "cell_type": "code",
   "execution_count": 30,
   "metadata": {
    "colab": {},
    "colab_type": "code",
    "id": "ExX5Akz0UnE-"
   },
   "outputs": [],
   "source": [
    "# Scalar def get_scal(feature):\n",
    "def get_scal(feature):\n",
    "    def minmax(x):\n",
    "        mini = train[feature].min()\n",
    "        maxi = train[feature].max()\n",
    "        return (x - mini)/(maxi-mini)\n",
    "        return(minmax)"
   ]
  },
  {
   "cell_type": "code",
   "execution_count": 31,
   "metadata": {
    "colab": {},
    "colab_type": "code",
    "id": "wzqcddUQUnKn"
   },
   "outputs": [],
   "source": [
    "# All numerical features - scaling\n",
    "feature_columns = []\n",
    "for header in numeric_cols:\n",
    "    scal_input_fn = get_scal(header)\n",
    "    feature_columns.append(fc.numeric_column(header,\n",
    "                                             normalizer_fn=scal_input_fn))"
   ]
  },
  {
   "cell_type": "markdown",
   "metadata": {
    "colab_type": "text",
    "id": "yYUpUZvgwrPe"
   },
   "source": [
    "### Categorical Feature\n",
    "In this dataset, 'ocean_proximity' is represented as a string.  We cannot feed strings directly to a model. Instead, we must first map them to numeric values. The categorical vocabulary columns provide a way to represent strings as a one-hot vector."
   ]
  },
  {
   "cell_type": "markdown",
   "metadata": {
    "colab_type": "text",
    "id": "sZnlnFZkyEbe"
   },
   "source": [
    "Next, we create a categorical feature using 'ocean_proximity'."
   ]
  },
  {
   "cell_type": "code",
   "execution_count": 32,
   "metadata": {
    "colab": {},
    "colab_type": "code",
    "id": "3Cf6SoFTUnc6"
   },
   "outputs": [],
   "source": [
    "# TODO 2b\n",
    "for feature_name in categorical_cols:\n",
    "    vocabulary = housing_df[feature_name].unique()\n",
    "    categorical_c = fc.categorical_column_with_vocabulary_list(feature_name, vocabulary)\n",
    "    one_hot = fc.indicator_column(categorical_c)\n",
    "    feature_columns.append(one_hot)"
   ]
  },
  {
   "cell_type": "markdown",
   "metadata": {
    "colab_type": "text",
    "id": "qnGyWaijzShj"
   },
   "source": [
    "### Bucketized Feature\n",
    "\n",
    "Often, you don't want to feed a number directly into the model, but instead split its value into different categories based on numerical ranges. Consider our raw data that represents a homes' age. Instead of representing the house age as a numeric column, we could split the home age into several buckets using a [bucketized column](https://www.tensorflow.org/api_docs/python/tf/feature_column/bucketized_column). Notice the one-hot values below describe which age range each row matches."
   ]
  },
  {
   "cell_type": "markdown",
   "metadata": {
    "colab_type": "text",
    "id": "7ZRlFyP7fOw-"
   },
   "source": [
    "Next we create a bucketized column using 'housing_median_age'\n"
   ]
  },
  {
   "cell_type": "code",
   "execution_count": 33,
   "metadata": {
    "colab": {},
    "colab_type": "code",
    "id": "xB-yiVLmUnXp"
   },
   "outputs": [],
   "source": [
    "# TODO 2c\n",
    "age = fc.numeric_column(\"housing_median_age\")\n",
    "\n",
    "# Bucketized cols\n",
    "age_buckets = fc.bucketized_column(age, boundaries=[10, 20, 30, 40, 50, 60, 80, 100])\n",
    "feature_columns.append(age_buckets)"
   ]
  },
  {
   "cell_type": "markdown",
   "metadata": {
    "colab_type": "text",
    "id": "Ri4_wssOg943"
   },
   "source": [
    "### Feature Cross\n",
    "\n",
    "Combining features into a single feature, better known as [feature crosses](https://developers.google.com/machine-learning/glossary/#feature_cross), enables a model to learn separate weights for each combination of features."
   ]
  },
  {
   "cell_type": "markdown",
   "metadata": {
    "colab_type": "text",
    "id": "a6HHJl3J0j0T"
   },
   "source": [
    "Next, we create a feature cross of 'housing_median_age' and 'ocean_proximity'."
   ]
  },
  {
   "cell_type": "code",
   "execution_count": 34,
   "metadata": {
    "colab": {},
    "colab_type": "code",
    "id": "JVLnG0WbUnkl"
   },
   "outputs": [],
   "source": [
    "# TODO 2d\n",
    "vocabulary = housing_df['ocean_proximity'].unique()\n",
    "ocean_proximity = fc.categorical_column_with_vocabulary_list('ocean_proximity',\n",
    "                                                             vocabulary)\n",
    "\n",
    "crossed_feature = fc.crossed_column([age_buckets, ocean_proximity],\n",
    "                                    hash_bucket_size=1000)\n",
    "crossed_feature = fc.indicator_column(crossed_feature)\n",
    "feature_columns.append(crossed_feature)"
   ]
  },
  {
   "cell_type": "markdown",
   "metadata": {
    "colab_type": "text",
    "id": "hiz6HCWg1CXO"
   },
   "source": [
    "Next, we should validate the total number of feature columns.  Compare this number to the number of numeric features you input earlier."
   ]
  },
  {
   "cell_type": "code",
   "execution_count": 35,
   "metadata": {
    "colab": {
     "base_uri": "https://localhost:8080/",
     "height": 34
    },
    "colab_type": "code",
    "id": "6P3Ewc3_Unsv",
    "outputId": "42c1c4a6-89f8-4685-b2d0-e76a90cdf9ee"
   },
   "outputs": [
    {
     "name": "stdout",
     "output_type": "stream",
     "text": [
      "Total number of feature columns:  11\n"
     ]
    }
   ],
   "source": [
    "print('Total number of feature columns: ', len(feature_columns))"
   ]
  },
  {
   "cell_type": "markdown",
   "metadata": {
    "colab_type": "text",
    "id": "lNr00mP41sJp"
   },
   "source": [
    "Next, we will run this cell to compile and fit the Keras Sequential model.  This is the same model we ran earlier."
   ]
  },
  {
   "cell_type": "code",
   "execution_count": 36,
   "metadata": {
    "colab": {
     "base_uri": "https://localhost:8080/",
     "height": 1000
    },
    "colab_type": "code",
    "id": "4Dwal3oxUoCe",
    "outputId": "1ae08747-7dbe-47a5-b3e7-87581e460b1b"
   },
   "outputs": [
    {
     "name": "stdout",
     "output_type": "stream",
     "text": [
      "Epoch 1/32\n",
      "WARNING:tensorflow:Layers in a Sequential model should only have a single input tensor, but we receive a <class 'dict'> input: {'longitude': <tf.Tensor 'ExpandDims_3:0' shape=(None, 1) dtype=float64>, 'latitude': <tf.Tensor 'ExpandDims_2:0' shape=(None, 1) dtype=float64>, 'housing_median_age': <tf.Tensor 'ExpandDims_1:0' shape=(None, 1) dtype=int64>, 'total_rooms': <tf.Tensor 'ExpandDims_8:0' shape=(None, 1) dtype=int64>, 'total_bedrooms': <tf.Tensor 'ExpandDims_7:0' shape=(None, 1) dtype=int64>, 'population': <tf.Tensor 'ExpandDims_6:0' shape=(None, 1) dtype=int64>, 'households': <tf.Tensor 'ExpandDims:0' shape=(None, 1) dtype=int64>, 'median_income': <tf.Tensor 'ExpandDims_4:0' shape=(None, 1) dtype=float64>, 'ocean_proximity': <tf.Tensor 'ExpandDims_5:0' shape=(None, 1) dtype=string>}\n",
      "Consider rewriting this model with the Functional API.\n",
      "WARNING:tensorflow:Layers in a Sequential model should only have a single input tensor, but we receive a <class 'dict'> input: {'longitude': <tf.Tensor 'ExpandDims_3:0' shape=(None, 1) dtype=float64>, 'latitude': <tf.Tensor 'ExpandDims_2:0' shape=(None, 1) dtype=float64>, 'housing_median_age': <tf.Tensor 'ExpandDims_1:0' shape=(None, 1) dtype=int64>, 'total_rooms': <tf.Tensor 'ExpandDims_8:0' shape=(None, 1) dtype=int64>, 'total_bedrooms': <tf.Tensor 'ExpandDims_7:0' shape=(None, 1) dtype=int64>, 'population': <tf.Tensor 'ExpandDims_6:0' shape=(None, 1) dtype=int64>, 'households': <tf.Tensor 'ExpandDims:0' shape=(None, 1) dtype=int64>, 'median_income': <tf.Tensor 'ExpandDims_4:0' shape=(None, 1) dtype=float64>, 'ocean_proximity': <tf.Tensor 'ExpandDims_5:0' shape=(None, 1) dtype=string>}\n",
      "Consider rewriting this model with the Functional API.\n",
      "48/50 [===========================>..] - ETA: 0s - loss: 39152873472.0000 - mse: 39152873472.0000WARNING:tensorflow:Layers in a Sequential model should only have a single input tensor, but we receive a <class 'dict'> input: {'longitude': <tf.Tensor 'ExpandDims_3:0' shape=(None, 1) dtype=float64>, 'latitude': <tf.Tensor 'ExpandDims_2:0' shape=(None, 1) dtype=float64>, 'housing_median_age': <tf.Tensor 'ExpandDims_1:0' shape=(None, 1) dtype=int64>, 'total_rooms': <tf.Tensor 'ExpandDims_8:0' shape=(None, 1) dtype=int64>, 'total_bedrooms': <tf.Tensor 'ExpandDims_7:0' shape=(None, 1) dtype=int64>, 'population': <tf.Tensor 'ExpandDims_6:0' shape=(None, 1) dtype=int64>, 'households': <tf.Tensor 'ExpandDims:0' shape=(None, 1) dtype=int64>, 'median_income': <tf.Tensor 'ExpandDims_4:0' shape=(None, 1) dtype=float64>, 'ocean_proximity': <tf.Tensor 'ExpandDims_5:0' shape=(None, 1) dtype=string>}\n",
      "Consider rewriting this model with the Functional API.\n",
      "50/50 [==============================] - 1s 14ms/step - loss: 39040045056.0000 - mse: 39040045056.0000 - val_loss: 36382720000.0000 - val_mse: 36382720000.0000\n",
      "Epoch 2/32\n",
      "50/50 [==============================] - 0s 5ms/step - loss: 38990188544.0000 - mse: 38990188544.0000 - val_loss: 36328767488.0000 - val_mse: 36328767488.0000\n",
      "Epoch 3/32\n",
      "50/50 [==============================] - 0s 5ms/step - loss: 38887571456.0000 - mse: 38887571456.0000 - val_loss: 36164743168.0000 - val_mse: 36164743168.0000\n",
      "Epoch 4/32\n",
      "50/50 [==============================] - 1s 14ms/step - loss: 38515343360.0000 - mse: 38515343360.0000 - val_loss: 35509383168.0000 - val_mse: 35509383168.0000\n",
      "Epoch 5/32\n",
      "50/50 [==============================] - 0s 6ms/step - loss: 37387968512.0000 - mse: 37387968512.0000 - val_loss: 34007154688.0000 - val_mse: 34007154688.0000\n",
      "Epoch 6/32\n",
      "50/50 [==============================] - 1s 12ms/step - loss: 35297824768.0000 - mse: 35297824768.0000 - val_loss: 31501572096.0000 - val_mse: 31501572096.0000\n",
      "Epoch 7/32\n",
      "50/50 [==============================] - 0s 6ms/step - loss: 32232638464.0000 - mse: 32232638464.0000 - val_loss: 28151220224.0000 - val_mse: 28151220224.0000\n",
      "Epoch 8/32\n",
      "50/50 [==============================] - 0s 8ms/step - loss: 28477151232.0000 - mse: 28477151232.0000 - val_loss: 24276324352.0000 - val_mse: 24276324352.0000\n",
      "Epoch 9/32\n",
      "50/50 [==============================] - 1s 19ms/step - loss: 24563978240.0000 - mse: 24563978240.0000 - val_loss: 20516687872.0000 - val_mse: 20516687872.0000\n",
      "Epoch 10/32\n",
      "50/50 [==============================] - 1s 13ms/step - loss: 21183547392.0000 - mse: 21183547392.0000 - val_loss: 17380229120.0000 - val_mse: 17380229120.0000\n",
      "Epoch 11/32\n",
      "50/50 [==============================] - 1s 16ms/step - loss: 18815739904.0000 - mse: 18815739904.0000 - val_loss: 15276138496.0000 - val_mse: 15276138496.0000\n",
      "Epoch 12/32\n",
      "50/50 [==============================] - 0s 9ms/step - loss: 17489272832.0000 - mse: 17489272832.0000 - val_loss: 14149625856.0000 - val_mse: 14149625856.0000\n",
      "Epoch 13/32\n",
      "50/50 [==============================] - 0s 9ms/step - loss: 16900322304.0000 - mse: 16900322304.0000 - val_loss: 13555203072.0000 - val_mse: 13555203072.0000\n",
      "Epoch 14/32\n",
      "50/50 [==============================] - 1s 11ms/step - loss: 16682143744.0000 - mse: 16682143744.0000 - val_loss: 13272046592.0000 - val_mse: 13272046592.0000\n",
      "Epoch 15/32\n",
      "50/50 [==============================] - 0s 9ms/step - loss: 16586214400.0000 - mse: 16586214400.0000 - val_loss: 13190628352.0000 - val_mse: 13190628352.0000\n",
      "Epoch 16/32\n",
      "50/50 [==============================] - 0s 7ms/step - loss: 16563254272.0000 - mse: 16563254272.0000 - val_loss: 13110885376.0000 - val_mse: 13110885376.0000\n",
      "Epoch 17/32\n",
      "50/50 [==============================] - 1s 10ms/step - loss: 16508491776.0000 - mse: 16508491776.0000 - val_loss: 13069643776.0000 - val_mse: 13069643776.0000\n",
      "Epoch 18/32\n",
      "50/50 [==============================] - 0s 6ms/step - loss: 16496851968.0000 - mse: 16496851968.0000 - val_loss: 12955588608.0000 - val_mse: 12955588608.0000\n",
      "Epoch 19/32\n",
      "50/50 [==============================] - 0s 6ms/step - loss: 16426155008.0000 - mse: 16426155008.0000 - val_loss: 12983805952.0000 - val_mse: 12983805952.0000\n",
      "Epoch 20/32\n",
      "50/50 [==============================] - 1s 12ms/step - loss: 16407000064.0000 - mse: 16407000064.0000 - val_loss: 12907727872.0000 - val_mse: 12907727872.0000\n",
      "Epoch 21/32\n",
      "50/50 [==============================] - 0s 9ms/step - loss: 16369521664.0000 - mse: 16369521664.0000 - val_loss: 12923857920.0000 - val_mse: 12923857920.0000\n",
      "Epoch 22/32\n",
      "50/50 [==============================] - 0s 8ms/step - loss: 16326635520.0000 - mse: 16326635520.0000 - val_loss: 12859561984.0000 - val_mse: 12859561984.0000\n",
      "Epoch 23/32\n",
      "50/50 [==============================] - 0s 8ms/step - loss: 16284325888.0000 - mse: 16284325888.0000 - val_loss: 12824773632.0000 - val_mse: 12824773632.0000\n",
      "Epoch 24/32\n",
      "50/50 [==============================] - 0s 5ms/step - loss: 16250818560.0000 - mse: 16250818560.0000 - val_loss: 12776425472.0000 - val_mse: 12776425472.0000\n",
      "Epoch 25/32\n",
      "50/50 [==============================] - 0s 6ms/step - loss: 16206730240.0000 - mse: 16206730240.0000 - val_loss: 12781531136.0000 - val_mse: 12781531136.0000\n",
      "Epoch 26/32\n",
      "50/50 [==============================] - 0s 9ms/step - loss: 16148877312.0000 - mse: 16148877312.0000 - val_loss: 12709095424.0000 - val_mse: 12709095424.0000\n",
      "Epoch 27/32\n",
      "50/50 [==============================] - 0s 5ms/step - loss: 16105139200.0000 - mse: 16105139200.0000 - val_loss: 12657540096.0000 - val_mse: 12657540096.0000\n",
      "Epoch 28/32\n",
      "50/50 [==============================] - 0s 7ms/step - loss: 16056802304.0000 - mse: 16056802304.0000 - val_loss: 12586595328.0000 - val_mse: 12586595328.0000\n",
      "Epoch 29/32\n",
      "50/50 [==============================] - 0s 7ms/step - loss: 15999619072.0000 - mse: 15999619072.0000 - val_loss: 12592135168.0000 - val_mse: 12592135168.0000\n",
      "Epoch 30/32\n",
      "50/50 [==============================] - 1s 11ms/step - loss: 15941670912.0000 - mse: 15941670912.0000 - val_loss: 12526983168.0000 - val_mse: 12526983168.0000\n",
      "Epoch 31/32\n",
      "50/50 [==============================] - 0s 10ms/step - loss: 15914262528.0000 - mse: 15914262528.0000 - val_loss: 12476542976.0000 - val_mse: 12476542976.0000\n",
      "Epoch 32/32\n",
      "50/50 [==============================] - 0s 7ms/step - loss: 15842671616.0000 - mse: 15842671616.0000 - val_loss: 12427709440.0000 - val_mse: 12427709440.0000\n"
     ]
    }
   ],
   "source": [
    "# Model create\n",
    "# `tf.keras.layers.DenseFeatures()` is a layer that produces a dense Tensor based on given feature_columns.\n",
    "feature_layer = tf.keras.layers.DenseFeatures(feature_columns,\n",
    "                                              dtype='float64')\n",
    "\n",
    "# `tf.keras.Sequential()` groups a linear stack of layers into a tf.keras.Model.\n",
    "model = tf.keras.Sequential([\n",
    "  feature_layer,\n",
    "  layers.Dense(12, input_dim=8, activation='relu'),\n",
    "  layers.Dense(8, activation='relu'),\n",
    "  layers.Dense(1, activation='linear',  name='median_house_value')\n",
    "])\n",
    "\n",
    "# Model compile\n",
    "model.compile(optimizer='adam',\n",
    "              loss='mse',\n",
    "              metrics=['mse'])\n",
    "\n",
    "# Model Fit\n",
    "history = model.fit(train_ds,\n",
    "                    validation_data=val_ds,\n",
    "                    epochs=32)"
   ]
  },
  {
   "cell_type": "markdown",
   "metadata": {
    "colab_type": "text",
    "id": "3LdUQszM16Oj"
   },
   "source": [
    "Next, we show loss and mean squared error then plot the model."
   ]
  },
  {
   "cell_type": "code",
   "execution_count": 37,
   "metadata": {
    "colab": {
     "base_uri": "https://localhost:8080/",
     "height": 71
    },
    "colab_type": "code",
    "id": "ZtFSpkd9UoAW",
    "outputId": "bac4836e-c4f1-4b29-876d-91fe1b51a5a7"
   },
   "outputs": [
    {
     "name": "stdout",
     "output_type": "stream",
     "text": [
      "50/50 [==============================] - 0s 4ms/step - loss: 15794762752.0000 - mse: 15794762752.0000\n",
      "Mean Squared Error 15794762752.0\n"
     ]
    }
   ],
   "source": [
    "loss, mse = model.evaluate(train_ds)\n",
    "print(\"Mean Squared Error\", mse)"
   ]
  },
  {
   "cell_type": "code",
   "execution_count": 38,
   "metadata": {
    "colab": {
     "base_uri": "https://localhost:8080/",
     "height": 350
    },
    "colab_type": "code",
    "id": "O8kWMa6xUn-M",
    "outputId": "05ed9323-1102-4245-a40b-88543f11b0f3"
   },
   "outputs": [
    {
     "data": {
      "image/png": "[encoded data removed]",
      "text/plain": [
       "<Figure size 720x360 with 2 Axes>"
      ]
     },
     "metadata": {
      "needs_background": "light"
     },
     "output_type": "display_data"
    }
   ],
   "source": [
    "plot_curves(history, ['loss', 'mse'])"
   ]
  },
  {
   "cell_type": "markdown",
   "metadata": {
    "colab_type": "text",
    "id": "C4tWwOQt2e-P"
   },
   "source": [
    "Next we create a prediction model.  Note:  You may use the same values from the previous prediciton.  "
   ]
  },
  {
   "cell_type": "code",
   "execution_count": 39,
   "metadata": {},
   "outputs": [
    {
     "name": "stdout",
     "output_type": "stream",
     "text": [
      "WARNING:tensorflow:Layers in a Sequential model should only have a single input tensor, but we receive a <class 'dict'> input: {'longitude': <tf.Tensor 'ExpandDims_3:0' shape=(1, 1) dtype=float32>, 'latitude': <tf.Tensor 'ExpandDims_2:0' shape=(1, 1) dtype=float32>, 'housing_median_age': <tf.Tensor 'ExpandDims_1:0' shape=(1, 1) dtype=float32>, 'total_rooms': <tf.Tensor 'ExpandDims_8:0' shape=(1, 1) dtype=float32>, 'total_bedrooms': <tf.Tensor 'ExpandDims_7:0' shape=(1, 1) dtype=float32>, 'population': <tf.Tensor 'ExpandDims_6:0' shape=(1, 1) dtype=float32>, 'households': <tf.Tensor 'ExpandDims:0' shape=(1, 1) dtype=float32>, 'median_income': <tf.Tensor 'ExpandDims_4:0' shape=(1, 1) dtype=float32>, 'ocean_proximity': <tf.Tensor 'ExpandDims_5:0' shape=(1, 1) dtype=string>}\n",
      "Consider rewriting this model with the Functional API.\n"
     ]
    },
    {
     "data": {
      "text/plain": [
       "array([[192184.52]], dtype=float32)"
      ]
     },
     "execution_count": 39,
     "metadata": {},
     "output_type": "execute_result"
    }
   ],
   "source": [
    "# TODO 2e\n",
    "# Median_house_value is $249,000, prediction is $234,000 NEAR OCEAN\n",
    "model.predict({\n",
    "    'longitude': tf.convert_to_tensor([-122.43]),\n",
    "    'latitude': tf.convert_to_tensor([37.63]),\n",
    "    'housing_median_age': tf.convert_to_tensor([34.0]),\n",
    "    'total_rooms': tf.convert_to_tensor([4135.0]),\n",
    "    'total_bedrooms': tf.convert_to_tensor([687.0]),\n",
    "    'population': tf.convert_to_tensor([2154.0]),\n",
    "    'households': tf.convert_to_tensor([742.0]),\n",
    "    'median_income': tf.convert_to_tensor([4.9732]),\n",
    "    'ocean_proximity': tf.convert_to_tensor(['NEAR OCEAN'])\n",
    "}, steps=1)"
   ]
  },
  {
   "cell_type": "markdown",
   "metadata": {
    "colab_type": "text",
    "id": "rcbdA3arXkej"
   },
   "source": [
    "### Analysis \n",
    "\n",
    "The array returns a predicted value.  Compare this value to the test set you ran earlier. Your predicted value may be a bit better.\n",
    "\n",
    "Now that you have your \"feature engineering template\" setup, you can experiment by creating additional features.  For example, you can create derived features, such as households per population, and see how they impact the model.  You can also experiment with replacing the features you used to create the feature cross.\n",
    " "
   ]
  },
  {
   "cell_type": "markdown",
   "metadata": {},
   "source": [
    "Copyright 2022 Google Inc.\n",
    "Licensed under the Apache License, Version 2.0 (the \"License\"); you may not use this file except in compliance with the License. You may obtain a copy of the License at\n",
    "http://www.apache.org/licenses/LICENSE-2.0\n",
    "Unless required by applicable law or agreed to in writing, software distributed under the License is distributed on an \"AS IS\" BASIS, WITHOUT WARRANTIES OR CONDITIONS OF ANY KIND, either express or implied. See the License for the specific language governing permissions and limitations under the License."
   ]
  }
 ],
 "metadata": {
  "colab": {
   "collapsed_sections": [],
   "name": "Basic Feature Engineering in Keras.ipynb",
   "provenance": [],
   "toc_visible": true
  },
  "environment": {
   "kernel": "conda-env-tensorflow-tensorflow",
   "name": "workbench-notebooks.m128",
   "type": "gcloud",
   "uri": "us-docker.pkg.dev/deeplearning-platform-release/gcr.io/workbench-notebooks:m128"
  },
  "kernelspec": {
   "display_name": "TensorFlow 2-11 (Local)",
   "language": "python",
   "name": "conda-env-tensorflow-tensorflow"
  },
  "language_info": {
   "codemirror_mode": {
    "name": "ipython",
    "version": 3
   },
   "file_extension": ".py",
   "mimetype": "text/x-python",
   "name": "python",
   "nbconvert_exporter": "python",
   "pygments_lexer": "ipython3",
   "version": "3.10.16"
  }
 },
 "nbformat": 4,
 "nbformat_minor": 4
}

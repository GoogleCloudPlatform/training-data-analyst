{
 "cells": [
  {
   "cell_type": "markdown",
   "metadata": {},
   "source": [
    "# MNIST Image Classification with TensorFlow on Cloud ML Engine\n",
    "\n",
    "This notebook demonstrates how to implement different image models on MNIST using the [tf.keras API](https://www.tensorflow.org/versions/r2.0/api_docs/python/tf/keras).\n",
    "\n",
    "## Learning Objectives\n",
    "1. Understand how to build a Dense Neural Network (DNN) for image classification\n",
    "2. Understand how to use dropout (DNN) for image classification\n",
    "3. Understand how to use Convolutional Neural Networks (CNN)\n",
    "4. Know how to deploy and use an image classifcation model using Google Cloud's [AI Platforms](https://cloud.google.com/ai-platform/)\n",
    "\n",
    "First things first. Configure the parameters below to match your own Google Cloud project details."
   ]
  },
  {
   "cell_type": "code",
   "execution_count": 1,
   "metadata": {},
   "outputs": [],
   "source": [
    "from datetime import datetime\n",
    "import os\n",
    "\n",
    "PROJECT = \"your-project-id-here\"  # REPLACE WITH YOUR PROJECT ID\n",
    "BUCKET = \"your-bucket-id-here\"  # REPLACE WITH YOUR BUCKET NAME\n",
    "REGION = \"us-central1\"  # REPLACE WITH YOUR BUCKET REGION e.g. us-central1\n",
    "\n",
    "# Do not change these\n",
    "os.environ[\"PROJECT\"] = PROJECT\n",
    "os.environ[\"BUCKET\"] = BUCKET\n",
    "os.environ[\"REGION\"] = REGION\n",
    "os.environ[\"IMAGE_URI\"] = os.path.join(\"gcr.io\", PROJECT, \"mnist_trainer\")"
   ]
  },
  {
   "cell_type": "markdown",
   "metadata": {},
   "source": [
    "## Building a dynamic model\n",
    "\n",
    "In the previous notebook, <a href=\"mnist_linear.ipynb\">mnist_linear.ipynb</a>, we ran our code directly from the notebook. In order to run it on the AI Platform, it needs to be packaged as a python module.\n",
    "\n",
    "The boilerplate structure for this module has already been set up in the folder `mnist_models`. The module lives in the sub-folder, `trainer`, and is designated as a python package with the empty `__init__.py` (`mnist_models/trainer/__init__.py`) file. It still needs the model and a trainer to run it, so let's make them.\n",
    "\n",
    "Let's start with the trainer file first. This file parses command line arguments to feed into model."
   ]
  },
  {
   "cell_type": "code",
   "execution_count": 2,
   "metadata": {},
   "outputs": [
    {
     "name": "stdout",
     "output_type": "stream",
     "text": [
      "Overwriting mnist_trainer/trainer/task.py\n"
     ]
    }
   ],
   "source": [
    "%%writefile mnist_trainer/trainer/task.py\n",
    "import argparse\n",
    "import json\n",
    "import os\n",
    "import sys\n",
    "\n",
    "from . import model\n",
    "\n",
    "\n",
    "def _parse_arguments(argv):\n",
    "    \"\"\"Parses command-line arguments.\"\"\"\n",
    "    parser = argparse.ArgumentParser()\n",
    "    parser.add_argument(\n",
    "        '--model_type',\n",
    "        help='Which model type to use',\n",
    "        type=str, default='linear')\n",
    "    parser.add_argument(\n",
    "        '--epochs',\n",
    "        help='The number of epochs to train',\n",
    "        type=int, default=10)\n",
    "    parser.add_argument(\n",
    "        '--steps_per_epoch',\n",
    "        help='The number of steps per epoch to train',\n",
    "        type=int, default=100)\n",
    "    parser.add_argument(\n",
    "        '--job-dir',\n",
    "        help='Directory where to save the given model',\n",
    "        type=str, default='mnist_models/')\n",
    "    return parser.parse_known_args(argv)\n",
    "\n",
    "\n",
    "def main():\n",
    "    \"\"\"Parses command line arguments and kicks off model training.\"\"\"\n",
    "    args = _parse_arguments(sys.argv[1:])[0]\n",
    "\n",
    "    # Configure path for hyperparameter tuning.\n",
    "    trial_id = json.loads(\n",
    "        os.environ.get('TF_CONFIG', '{}')).get('task', {}).get('trial', '')\n",
    "    output_path = args.job_dir if not trial_id else args.job_dir + '/'\n",
    "\n",
    "    model_layers = model.get_layers(args.model_type)\n",
    "    image_model = model.build_model(model_layers, args.job_dir)\n",
    "    model_history = model.train_and_evaluate(\n",
    "        image_model, args.epochs, args.steps_per_epoch, args.job_dir)\n",
    "\n",
    "\n",
    "if __name__ == '__main__':\n",
    "    main()\n"
   ]
  },
  {
   "cell_type": "markdown",
   "metadata": {},
   "source": [
    "Next, let's group non-model functions into a util file to keep the model file simple. We'll copy over the `scale` and `load_dataset` functions from the previous lab."
   ]
  },
  {
   "cell_type": "code",
   "execution_count": 3,
   "metadata": {},
   "outputs": [
    {
     "name": "stdout",
     "output_type": "stream",
     "text": [
      "Overwriting mnist_trainer/trainer/util.py\n"
     ]
    }
   ],
   "source": [
    "%%writefile mnist_trainer/trainer/util.py\n",
    "import tensorflow as tf\n",
    "\n",
    "\n",
    "def scale(image, label):\n",
    "    \"\"\"Scales images from a 0-255 int range to a 0-1 float range\"\"\"\n",
    "    image = tf.cast(image, tf.float32)\n",
    "    image /= 255\n",
    "    image = tf.expand_dims(image, -1)\n",
    "    return image, label\n",
    "\n",
    "\n",
    "def load_dataset(\n",
    "        data, training=True, buffer_size=5000, batch_size=100, nclassses=10):\n",
    "    \"\"\"Loads MNIST dataset into a tf.data.Dataset\"\"\"\n",
    "    (x_train, y_train), (x_test, y_test) = data\n",
    "    x = x_train if training else x_test\n",
    "    y = y_train if training else y_test\n",
    "    # One-hot encode the classes\n",
    "    y = tf.keras.utils.to_categorical(y, nclassses)\n",
    "    dataset = tf.data.Dataset.from_tensor_slices((x, y))\n",
    "    dataset = dataset.map(scale).batch(batch_size)\n",
    "    if training:\n",
    "        dataset = dataset.shuffle(buffer_size).repeat()\n",
    "    return dataset\n"
   ]
  },
  {
   "cell_type": "markdown",
   "metadata": {},
   "source": [
    "Finally, let's code the models! The [tf.keras API](https://www.tensorflow.org/versions/r2.0/api_docs/python/tf/keras) accepts an array of [layers](https://www.tensorflow.org/api_docs/python/tf/keras/layers) into a [model object](https://www.tensorflow.org/api_docs/python/tf/keras/Model), so we can create a dictionary of layers based on the different model types we want to use. The below file has two functions: `get_layers` and `create_and_train_model`. We will build the structure of our model in `get_layers`. Last but not least, we'll copy over the training code from the previous lab into `train_and_evaluate`.\n",
    "\n",
    "**TODO 1**: Define the Keras layers for a DNN model   \n",
    "**TODO 2**: Define the Keras layers for a dropout model  \n",
    "**TODO 3**: Define the Keras layers for a CNN model  \n",
    "\n",
    "Hint: These models progressively build on each other. Look at the imported `tensorflow.keras.layers` modules and the default values for the variables defined in `get_layers` for guidance."
   ]
  },
  {
   "cell_type": "code",
   "execution_count": 4,
   "metadata": {},
   "outputs": [
    {
     "name": "stdout",
     "output_type": "stream",
     "text": [
      "Overwriting mnist_trainer/trainer/model.py\n"
     ]
    }
   ],
   "source": [
    "%%writefile mnist_trainer/trainer/model.py\n",
    "import os\n",
    "import shutil\n",
    "\n",
    "import matplotlib.pyplot as plt\n",
    "import numpy as np\n",
    "import tensorflow as tf\n",
    "from tensorflow.keras import Sequential\n",
    "from tensorflow.keras.callbacks import TensorBoard\n",
    "from tensorflow.keras.layers import (\n",
    "    Conv2D, Dense, Dropout, Flatten, MaxPooling2D, Softmax)\n",
    "\n",
    "from . import util\n",
    "\n",
    "\n",
    "# Image Variables\n",
    "WIDTH = 28\n",
    "HEIGHT = 28\n",
    "\n",
    "\n",
    "def get_layers(\n",
    "        model_type,\n",
    "        nclasses=10,\n",
    "        hidden_layer_1_neurons=400,\n",
    "        hidden_layer_2_neurons=100,\n",
    "        dropout_rate=0.25,\n",
    "        num_filters_1=64,\n",
    "        kernel_size_1=3,\n",
    "        pooling_size_1=2,\n",
    "        num_filters_2=32,\n",
    "        kernel_size_2=3,\n",
    "        pooling_size_2=2):\n",
    "    \"\"\"Constructs layers for a keras model based on a dict of model types.\"\"\"\n",
    "    model_layers = {\n",
    "        'linear': [\n",
    "            Flatten(),\n",
    "            Dense(nclasses),\n",
    "            Softmax()\n",
    "        ],\n",
    "        'dnn': [\n",
    "            Flatten(),\n",
    "            Dense(hidden_layer_1_neurons, activation='relu'),\n",
    "            Dense(hidden_layer_2_neurons, activation='relu'),\n",
    "            Dense(nclasses),\n",
    "            Softmax()\n",
    "        ],\n",
    "        'dnn_dropout': [\n",
    "            Flatten(),\n",
    "            Dense(hidden_layer_1_neurons, activation='relu'),\n",
    "            Dense(hidden_layer_2_neurons, activation='relu'),\n",
    "            Dropout(dropout_rate),\n",
    "            Dense(nclasses),\n",
    "            Softmax()\n",
    "        ],\n",
    "        'cnn': [\n",
    "            Conv2D(num_filters_1, kernel_size=kernel_size_1,\n",
    "                   activation='relu', input_shape=(WIDTH, HEIGHT, 1)),\n",
    "            MaxPooling2D(pooling_size_1),\n",
    "            Conv2D(num_filters_2, kernel_size=kernel_size_2,\n",
    "                   activation='relu'),\n",
    "            MaxPooling2D(pooling_size_2),\n",
    "            Flatten(),\n",
    "            Dense(hidden_layer_1_neurons, activation='relu'),\n",
    "            Dense(hidden_layer_2_neurons, activation='relu'),\n",
    "            Dropout(dropout_rate),\n",
    "            Dense(nclasses),\n",
    "            Softmax()\n",
    "        ]\n",
    "    }\n",
    "    return model_layers[model_type]\n",
    "\n",
    "\n",
    "def build_model(layers, output_dir):\n",
    "    \"\"\"Compiles keras model for image classification.\"\"\"\n",
    "    model = Sequential(layers)\n",
    "    model.compile(optimizer='adam',\n",
    "                  loss='categorical_crossentropy',\n",
    "                  metrics=['accuracy'])\n",
    "    return model\n",
    "\n",
    "\n",
    "def train_and_evaluate(model, num_epochs, steps_per_epoch, output_dir):\n",
    "    \"\"\"Compiles keras model and loads data into it for training.\"\"\"\n",
    "    mnist = tf.keras.datasets.mnist.load_data()\n",
    "    train_data = util.load_dataset(mnist)\n",
    "    validation_data = util.load_dataset(mnist, training=False)\n",
    "\n",
    "    callbacks = []\n",
    "    if output_dir:\n",
    "        tensorboard_callback = TensorBoard(log_dir=output_dir)\n",
    "        callbacks = [tensorboard_callback]\n",
    "\n",
    "    history = model.fit(\n",
    "        train_data,\n",
    "        validation_data=validation_data,\n",
    "        epochs=num_epochs,\n",
    "        steps_per_epoch=steps_per_epoch,\n",
    "        verbose=2,\n",
    "        callbacks=callbacks)\n",
    "\n",
    "    if output_dir:\n",
    "        export_path = os.path.join(output_dir, 'keras_export')\n",
    "        model.save(export_path, save_format='tf')\n",
    "\n",
    "    return history\n"
   ]
  },
  {
   "cell_type": "markdown",
   "metadata": {},
   "source": [
    "## Local Training\n",
    "\n",
    "With everything set up, let's run locally to test the code. Some of the previous tests have been copied over into a testing script `mnist_models/trainer/test.py` to make sure the model still passes our previous checks. On `line 34`, you can specify which model types you would like to check. `line 37` and `line 38` has the number of epochs and steps per epoch respectively."
   ]
  },
  {
   "cell_type": "code",
   "execution_count": 5,
   "metadata": {},
   "outputs": [
    {
     "name": "stdout",
     "output_type": "stream",
     "text": [
      "2019-10-17 23:05:11.809697: I tensorflow/core/platform/cpu_feature_guard.cc:142] Your CPU supports instructions that this TensorFlow binary was not compiled to use: AVX2 FMA\n",
      "2019-10-17 23:05:11.832086: I tensorflow/core/platform/profile_utils/cpu_utils.cc:94] CPU Frequency: 2200000000 Hz\n",
      "2019-10-17 23:05:11.832379: I tensorflow/compiler/xla/service/service.cc:168] XLA service 0x55a62f084ed0 executing computations on platform Host. Devices:\n",
      "2019-10-17 23:05:11.832419: I tensorflow/compiler/xla/service/service.cc:175]   StreamExecutor device (0): <undefined>, <undefined>\n",
      ".2019-10-17 23:05:22.252714: I tensorflow/core/kernels/data/shuffle_dataset_op.cc:111] Filling up shuffle buffer (this may take a while): 1189 of 5000\n",
      "2019-10-17 23:05:27.251643: I tensorflow/core/kernels/data/shuffle_dataset_op.cc:162] Shuffle buffer filled.\n",
      ".\n",
      "*** Building model for linear ***\n",
      "\n",
      "Epoch 1/10\n",
      "2019-10-17 23:05:37.671696: I tensorflow/core/kernels/data/shuffle_dataset_op.cc:111] Filling up shuffle buffer (this may take a while): 1202 of 5000\n",
      "2019-10-17 23:05:42.774170: I tensorflow/core/kernels/data/shuffle_dataset_op.cc:162] Shuffle buffer filled.\n",
      "WARNING: Logging before flag parsing goes to stderr.\n",
      "W1017 23:05:42.921756 139646224762624 deprecation.py:323] From /home/jupyter/.local/lib/python3.5/site-packages/tensorflow/python/ops/math_grad.py:1250: add_dispatch_support.<locals>.wrapper (from tensorflow.python.ops.array_ops) is deprecated and will be removed in a future version.\n",
      "Instructions for updating:\n",
      "Use tf.where in 2.0, which has the same broadcast rule as np.where\n",
      "2019-10-17 23:05:43.222444: W tensorflow/compiler/jit/mark_for_compilation_pass.cc:1483] (One-time warning): Not using XLA:CPU for cluster because envvar TF_XLA_FLAGS=--tf_xla_cpu_global_jit was not set.  If you want XLA:CPU, either set that envvar, or use experimental_jit_scope to enable XLA:CPU.  To confirm that XLA is active, pass --vmodule=xla_compilation_cache=1 (as a proper command-line flag, not via TF_XLA_FLAGS) or set the envvar XLA_FLAGS=--xla_hlo_profile.\n",
      "100/100 - 17s - loss: 1.3086 - accuracy: 0.4978 - val_loss: 0.7905 - val_accuracy: 0.8358\n",
      "Epoch 2/10\n",
      "100/100 - 1s - loss: 0.6713 - accuracy: 0.8393 - val_loss: 0.5598 - val_accuracy: 0.8725\n",
      "Epoch 3/10\n",
      "100/100 - 2s - loss: 0.5580 - accuracy: 0.8554 - val_loss: 0.4683 - val_accuracy: 0.8883\n",
      "Epoch 4/10\n",
      "100/100 - 2s - loss: 0.4684 - accuracy: 0.8866 - val_loss: 0.4175 - val_accuracy: 0.8983\n",
      "Epoch 5/10\n",
      "100/100 - 1s - loss: 0.4305 - accuracy: 0.8728 - val_loss: 0.3918 - val_accuracy: 0.8994\n",
      "Epoch 6/10\n",
      "100/100 - 1s - loss: 0.3973 - accuracy: 0.8965 - val_loss: 0.3696 - val_accuracy: 0.9040\n",
      "Epoch 7/10\n",
      "100/100 - 2s - loss: 0.3855 - accuracy: 0.9017 - val_loss: 0.3543 - val_accuracy: 0.9081\n",
      "Epoch 8/10\n",
      "100/100 - 2s - loss: 0.3748 - accuracy: 0.8945 - val_loss: 0.3420 - val_accuracy: 0.9089\n",
      "Epoch 9/10\n",
      "100/100 - 1s - loss: 0.3383 - accuracy: 0.9029 - val_loss: 0.3330 - val_accuracy: 0.9086\n",
      "Epoch 10/10\n",
      "100/100 - 2s - loss: 0.3397 - accuracy: 0.9092 - val_loss: 0.3257 - val_accuracy: 0.9132\n",
      "\n",
      "*** Building model for dnn ***\n",
      "\n",
      "Epoch 1/10\n",
      "2019-10-17 23:06:08.992132: I tensorflow/core/kernels/data/shuffle_dataset_op.cc:111] Filling up shuffle buffer (this may take a while): 1252 of 5000\n",
      "2019-10-17 23:06:13.357374: I tensorflow/core/kernels/data/shuffle_dataset_op.cc:162] Shuffle buffer filled.\n",
      "100/100 - 17s - loss: 0.6288 - accuracy: 0.7006 - val_loss: 0.2719 - val_accuracy: 0.9192\n",
      "Epoch 2/10\n",
      "100/100 - 2s - loss: 0.2656 - accuracy: 0.9173 - val_loss: 0.2103 - val_accuracy: 0.9368\n",
      "Epoch 3/10\n",
      "100/100 - 2s - loss: 0.1988 - accuracy: 0.9414 - val_loss: 0.1790 - val_accuracy: 0.9454\n",
      "Epoch 4/10\n",
      "100/100 - 2s - loss: 0.1720 - accuracy: 0.9440 - val_loss: 0.1505 - val_accuracy: 0.9526\n",
      "Epoch 5/10\n",
      "100/100 - 2s - loss: 0.1412 - accuracy: 0.9555 - val_loss: 0.1439 - val_accuracy: 0.9560\n",
      "Epoch 6/10\n",
      "100/100 - 2s - loss: 0.1473 - accuracy: 0.9516 - val_loss: 0.1178 - val_accuracy: 0.9650\n",
      "Epoch 7/10\n",
      "100/100 - 3s - loss: 0.1120 - accuracy: 0.9676 - val_loss: 0.1149 - val_accuracy: 0.9656\n",
      "Epoch 8/10\n",
      "100/100 - 2s - loss: 0.1078 - accuracy: 0.9651 - val_loss: 0.1059 - val_accuracy: 0.9687\n",
      "Epoch 9/10\n",
      "100/100 - 2s - loss: 0.0936 - accuracy: 0.9696 - val_loss: 0.0907 - val_accuracy: 0.9718\n",
      "Epoch 10/10\n",
      "100/100 - 2s - loss: 0.0886 - accuracy: 0.9704 - val_loss: 0.0979 - val_accuracy: 0.9703\n",
      "\n",
      "*** Building model for dnn_dropout ***\n",
      "\n",
      "Epoch 1/10\n",
      "2019-10-17 23:06:43.695441: I tensorflow/core/kernels/data/shuffle_dataset_op.cc:111] Filling up shuffle buffer (this may take a while): 1328 of 5000\n",
      "2019-10-17 23:06:47.494859: I tensorflow/core/kernels/data/shuffle_dataset_op.cc:162] Shuffle buffer filled.\n",
      "100/100 - 16s - loss: 0.6422 - accuracy: 0.6829 - val_loss: 0.2799 - val_accuracy: 0.9206\n",
      "Epoch 2/10\n",
      "100/100 - 2s - loss: 0.3159 - accuracy: 0.9016 - val_loss: 0.2158 - val_accuracy: 0.9336\n",
      "Epoch 3/10\n",
      "100/100 - 2s - loss: 0.2306 - accuracy: 0.9313 - val_loss: 0.1700 - val_accuracy: 0.9487\n",
      "Epoch 4/10\n",
      "100/100 - 2s - loss: 0.2099 - accuracy: 0.9336 - val_loss: 0.1457 - val_accuracy: 0.9550\n",
      "Epoch 5/10\n",
      "100/100 - 2s - loss: 0.1665 - accuracy: 0.9448 - val_loss: 0.1326 - val_accuracy: 0.9582\n",
      "Epoch 6/10\n",
      "100/100 - 2s - loss: 0.1520 - accuracy: 0.9561 - val_loss: 0.1237 - val_accuracy: 0.9617\n",
      "Epoch 7/10\n",
      "100/100 - 2s - loss: 0.1304 - accuracy: 0.9627 - val_loss: 0.1064 - val_accuracy: 0.9672\n",
      "Epoch 8/10\n",
      "100/100 - 2s - loss: 0.1236 - accuracy: 0.9676 - val_loss: 0.1052 - val_accuracy: 0.9682\n",
      "Epoch 9/10\n",
      "100/100 - 2s - loss: 0.1198 - accuracy: 0.9598 - val_loss: 0.1134 - val_accuracy: 0.9652\n",
      "Epoch 10/10\n",
      "100/100 - 2s - loss: 0.1084 - accuracy: 0.9648 - val_loss: 0.0851 - val_accuracy: 0.9737\n",
      "\n",
      "*** Building model for cnn ***\n",
      "\n",
      "Epoch 1/10\n",
      "2019-10-17 23:07:16.496107: I tensorflow/core/kernels/data/shuffle_dataset_op.cc:111] Filling up shuffle buffer (this may take a while): 1357 of 5000\n",
      "2019-10-17 23:07:20.017708: I tensorflow/core/kernels/data/shuffle_dataset_op.cc:162] Shuffle buffer filled.\n",
      "100/100 - 22s - loss: 0.6883 - accuracy: 0.7872 - val_loss: 0.1708 - val_accuracy: 0.9483\n",
      "Epoch 2/10\n",
      "100/100 - 8s - loss: 0.1821 - accuracy: 0.9441 - val_loss: 0.1162 - val_accuracy: 0.9647\n",
      "Epoch 3/10\n",
      "100/100 - 8s - loss: 0.1261 - accuracy: 0.9622 - val_loss: 0.0795 - val_accuracy: 0.9747\n",
      "Epoch 4/10\n",
      "100/100 - 8s - loss: 0.0988 - accuracy: 0.9715 - val_loss: 0.0726 - val_accuracy: 0.9776\n",
      "Epoch 5/10\n",
      "100/100 - 9s - loss: 0.0965 - accuracy: 0.9708 - val_loss: 0.0520 - val_accuracy: 0.9824\n",
      "Epoch 6/10\n",
      "100/100 - 9s - loss: 0.0806 - accuracy: 0.9768 - val_loss: 0.0510 - val_accuracy: 0.9823\n",
      "Epoch 7/10\n",
      "100/100 - 9s - loss: 0.0617 - accuracy: 0.9826 - val_loss: 0.0619 - val_accuracy: 0.9801\n",
      "Epoch 8/10\n",
      "100/100 - 9s - loss: 0.0635 - accuracy: 0.9804 - val_loss: 0.0444 - val_accuracy: 0.9853\n",
      "Epoch 9/10\n",
      "100/100 - 9s - loss: 0.0614 - accuracy: 0.9807 - val_loss: 0.0467 - val_accuracy: 0.9841\n",
      "Epoch 10/10\n",
      "100/100 - 9s - loss: 0.0572 - accuracy: 0.9838 - val_loss: 0.0385 - val_accuracy: 0.9878\n",
      "...\n",
      "----------------------------------------------------------------------\n",
      "Ran 5 tests in 217.406s\n",
      "\n",
      "OK\n"
     ]
    }
   ],
   "source": [
    "!python3 -m mnist_trainer.trainer.test"
   ]
  },
  {
   "cell_type": "markdown",
   "metadata": {},
   "source": [
    "Now that we know that our models are working as expected, let's run it on the [Google Cloud AI Platform](https://cloud.google.com/ml-engine/docs/). We can run it as a python module locally first using the command line.\n",
    "\n",
    "The below cell transfers some of our variables to the command line as well as create a job directory including a timestamp. This is where our model and tensorboard data will be stored."
   ]
  },
  {
   "cell_type": "code",
   "execution_count": 6,
   "metadata": {},
   "outputs": [],
   "source": [
    "current_time = datetime.now().strftime(\"%y%m%d_%H%M%S\")\n",
    "model_type = 'cnn'\n",
    "\n",
    "os.environ[\"MODEL_TYPE\"] = model_type\n",
    "os.environ[\"JOB_DIR\"] = \"mnist_trainer/models/{}_{}/\".format(\n",
    "    model_type, current_time)"
   ]
  },
  {
   "cell_type": "markdown",
   "metadata": {},
   "source": [
    "The cell below runs the local version of the code. The epochs and steps_per_epoch flag can be changed to run for longer or shorther, as defined in our `mnist_models/trainer/task.py` file."
   ]
  },
  {
   "cell_type": "code",
   "execution_count": 7,
   "metadata": {},
   "outputs": [
    {
     "name": "stdout",
     "output_type": "stream",
     "text": [
      "Epoch 1/5\n",
      "50/50 - 24s - loss: 1.0369 - accuracy: 0.6758 - val_loss: 0.3286 - val_accuracy: 0.9000\n",
      "Epoch 2/5\n",
      "50/50 - 5s - loss: 0.2849 - accuracy: 0.9164 - val_loss: 0.1770 - val_accuracy: 0.9457\n",
      "Epoch 3/5\n",
      "50/50 - 5s - loss: 0.1949 - accuracy: 0.9424 - val_loss: 0.1106 - val_accuracy: 0.9655\n",
      "Epoch 4/5\n",
      "50/50 - 5s - loss: 0.1453 - accuracy: 0.9574 - val_loss: 0.0896 - val_accuracy: 0.9723\n",
      "Epoch 5/5\n",
      "50/50 - 5s - loss: 0.1516 - accuracy: 0.9526 - val_loss: 0.0988 - val_accuracy: 0.9698\n"
     ]
    },
    {
     "name": "stderr",
     "output_type": "stream",
     "text": [
      "2019-10-17 23:09:58.662758: I tensorflow/core/platform/cpu_feature_guard.cc:142] Your CPU supports instructions that this TensorFlow binary was not compiled to use: AVX2 FMA\n",
      "2019-10-17 23:09:58.667843: I tensorflow/core/platform/profile_utils/cpu_utils.cc:94] CPU Frequency: 2200000000 Hz\n",
      "2019-10-17 23:09:58.668114: I tensorflow/compiler/xla/service/service.cc:168] XLA service 0x55b7a51cac40 executing computations on platform Host. Devices:\n",
      "2019-10-17 23:09:58.668141: I tensorflow/compiler/xla/service/service.cc:175]   StreamExecutor device (0): <undefined>, <undefined>\n",
      "2019-10-17 23:10:09.231986: I tensorflow/core/kernels/data/shuffle_dataset_op.cc:111] Filling up shuffle buffer (this may take a while): 1143 of 5000\n",
      "2019-10-17 23:10:17.342438: I tensorflow/core/kernels/data/shuffle_dataset_op.cc:162] Shuffle buffer filled.\n",
      "WARNING: Logging before flag parsing goes to stderr.\n",
      "W1017 23:10:17.412490 139681778824960 deprecation.py:323] From /home/jupyter/.local/lib/python3.5/site-packages/tensorflow/python/ops/math_grad.py:1250: add_dispatch_support.<locals>.wrapper (from tensorflow.python.ops.array_ops) is deprecated and will be removed in a future version.\n",
      "Instructions for updating:\n",
      "Use tf.where in 2.0, which has the same broadcast rule as np.where\n",
      "2019-10-17 23:10:18.208067: W tensorflow/compiler/jit/mark_for_compilation_pass.cc:1483] (One-time warning): Not using XLA:CPU for cluster because envvar TF_XLA_FLAGS=--tf_xla_cpu_global_jit was not set.  If you want XLA:CPU, either set that envvar, or use experimental_jit_scope to enable XLA:CPU.  To confirm that XLA is active, pass --vmodule=xla_compilation_cache=1 (as a proper command-line flag, not via TF_XLA_FLAGS) or set the envvar XLA_FLAGS=--xla_hlo_profile.\n",
      "2019-10-17 23:10:18.321930: I tensorflow/core/profiler/lib/profiler_session.cc:174] Profiler session started.\n",
      "2019-10-17 23:10:43.627828: W tensorflow/python/util/util.cc:280] Sets are not currently considered sequences, but this may change in the future, so consider avoiding using them.\n"
     ]
    }
   ],
   "source": [
    "%%bash\n",
    "mkdir $JOB_DIR\n",
    "python3 -m mnist_trainer.trainer.task \\\n",
    "    --job-dir=$JOB_DIR \\\n",
    "    --epochs=5 \\\n",
    "    --steps_per_epoch=50 \\\n",
    "    --model_type=$MODEL_TYPE"
   ]
  },
  {
   "cell_type": "markdown",
   "metadata": {},
   "source": [
    "Let's check out how the model did in tensorboard and confirm that it's good to go before kicking it off to train on the cloud. If running on a Deep Learning VM, open the folder corresponding to the `--job-dir` above. Then, go to File > New Launcher. Click on Tensorboard under \"Other\".\n",
    "\n",
    "If runnining locally, the following command can be run in a terminal:\n",
    "\n",
    "`tensorboard --logdir=<path-to-data-directory>`"
   ]
  },
  {
   "cell_type": "markdown",
   "metadata": {},
   "source": [
    "## Training on the cloud\n",
    "\n",
    "Since we're using an unreleased version of TensorFlow on AI Platform, we can instead use a [Deep Learning Container](https://cloud.google.com/ai-platform/deep-learning-containers/docs/overview) in order to take advantage of libraries and applications not normally packaged with AI Platform. Below is a simple [Dockerlife](https://docs.docker.com/engine/reference/builder/) which copies our code to be used in a TF2 environment."
   ]
  },
  {
   "cell_type": "code",
   "execution_count": 8,
   "metadata": {},
   "outputs": [
    {
     "name": "stdout",
     "output_type": "stream",
     "text": [
      "Overwriting mnist_trainer/Dockerfile\n"
     ]
    }
   ],
   "source": [
    "%%writefile mnist_trainer/Dockerfile\n",
    "FROM gcr.io/deeplearning-platform-release/tf2-cpu\n",
    "COPY trainer /trainer\n",
    "ENTRYPOINT [\"python3\", \"-m\", \"trainer.task\"]"
   ]
  },
  {
   "cell_type": "markdown",
   "metadata": {},
   "source": [
    "The below command builds the image and ships it off to Google Cloud so it can be used for AI Platform. When built, it will show up [here](https://pantheon.corp.google.com/gcr) with the name `mnist_trainer`. ([Click here](https://console.cloud.google.com/cloud-build) to enable Cloud Build)"
   ]
  },
  {
   "cell_type": "code",
   "execution_count": 10,
   "metadata": {},
   "outputs": [
    {
     "name": "stdout",
     "output_type": "stream",
     "text": [
      "Creating temporary tarball archive of 44 file(s) totalling 18.8 MiB before compression.\n",
      "Uploading tarball of [mnist_trainer/] to [gs://ddetering-experimental_cloudbuild/source/1571354526.6-aca8ef4db5a64540859e25e18a88a0fb.tgz]\n",
      "Created [https://cloudbuild.googleapis.com/v1/projects/ddetering-experimental/builds/cd0f5b7c-1cbd-4ad0-bdb8-ae26522ef8e8].\n",
      "Logs are available at [https://console.cloud.google.com/gcr/builds/cd0f5b7c-1cbd-4ad0-bdb8-ae26522ef8e8?project=894743430090].\n",
      "----------------------------- REMOTE BUILD OUTPUT ------------------------------\n",
      "starting build \"cd0f5b7c-1cbd-4ad0-bdb8-ae26522ef8e8\"\n",
      "\n",
      "FETCHSOURCE\n",
      "Fetching storage object: gs://ddetering-experimental_cloudbuild/source/1571354526.6-aca8ef4db5a64540859e25e18a88a0fb.tgz#1571354528569451\n",
      "Copying gs://ddetering-experimental_cloudbuild/source/1571354526.6-aca8ef4db5a64540859e25e18a88a0fb.tgz#1571354528569451...\n",
      "- [1 files][ 16.5 MiB/ 16.5 MiB]                                                \n",
      "Operation completed over 1 objects/16.5 MiB.                                     \n",
      "BUILD\n",
      "Already have image (with digest): gcr.io/cloud-builders/docker\n",
      "Sending build context to Docker daemon  19.74MB\n",
      "Step 1/3 : FROM gcr.io/deeplearning-platform-release/tf2-cpu\n",
      "latest: Pulling from deeplearning-platform-release/tf2-cpu\n",
      "35c102085707: Pulling fs layer\n",
      "251f5509d51d: Pulling fs layer\n",
      "8e829fe70a46: Pulling fs layer\n",
      "6001e1789921: Pulling fs layer\n",
      "64aa7508993b: Pulling fs layer\n",
      "75ff22edc694: Pulling fs layer\n",
      "2824001707aa: Pulling fs layer\n",
      "6e72a0346b55: Pulling fs layer\n",
      "06fde9d517f9: Pulling fs layer\n",
      "7eda0768b66e: Pulling fs layer\n",
      "e0112d80e90f: Pulling fs layer\n",
      "2c94144fd154: Pulling fs layer\n",
      "c4b041c3f63b: Pulling fs layer\n",
      "bd60eb9c51a2: Pulling fs layer\n",
      "06fab61e625d: Pulling fs layer\n",
      "42ec45994b02: Pulling fs layer\n",
      "e720cb581e90: Pulling fs layer\n",
      "bbf43f398ed6: Pulling fs layer\n",
      "23256ae355db: Pulling fs layer\n",
      "6001e1789921: Waiting\n",
      "64aa7508993b: Waiting\n",
      "75ff22edc694: Waiting\n",
      "2824001707aa: Waiting\n",
      "6e72a0346b55: Waiting\n",
      "06fde9d517f9: Waiting\n",
      "7eda0768b66e: Waiting\n",
      "e0112d80e90f: Waiting\n",
      "2c94144fd154: Waiting\n",
      "c4b041c3f63b: Waiting\n",
      "bd60eb9c51a2: Waiting\n",
      "06fab61e625d: Waiting\n",
      "42ec45994b02: Waiting\n",
      "e720cb581e90: Waiting\n",
      "bbf43f398ed6: Waiting\n",
      "23256ae355db: Waiting\n",
      "8e829fe70a46: Verifying Checksum\n",
      "8e829fe70a46: Download complete\n",
      "251f5509d51d: Verifying Checksum\n",
      "251f5509d51d: Download complete\n",
      "35c102085707: Verifying Checksum\n",
      "35c102085707: Download complete\n",
      "6001e1789921: Verifying Checksum\n",
      "6001e1789921: Download complete\n",
      "2824001707aa: Verifying Checksum\n",
      "2824001707aa: Download complete\n",
      "75ff22edc694: Verifying Checksum\n",
      "75ff22edc694: Download complete\n",
      "06fde9d517f9: Verifying Checksum\n",
      "06fde9d517f9: Download complete\n",
      "7eda0768b66e: Verifying Checksum\n",
      "7eda0768b66e: Download complete\n",
      "e0112d80e90f: Verifying Checksum\n",
      "e0112d80e90f: Download complete\n",
      "2c94144fd154: Verifying Checksum\n",
      "2c94144fd154: Download complete\n",
      "c4b041c3f63b: Verifying Checksum\n",
      "c4b041c3f63b: Download complete\n",
      "bd60eb9c51a2: Verifying Checksum\n",
      "bd60eb9c51a2: Download complete\n",
      "64aa7508993b: Verifying Checksum\n",
      "64aa7508993b: Download complete\n",
      "06fab61e625d: Verifying Checksum\n",
      "06fab61e625d: Download complete\n",
      "42ec45994b02: Verifying Checksum\n",
      "42ec45994b02: Download complete\n",
      "bbf43f398ed6: Verifying Checksum\n",
      "bbf43f398ed6: Download complete\n",
      "23256ae355db: Verifying Checksum\n",
      "23256ae355db: Download complete\n",
      "e720cb581e90: Verifying Checksum\n",
      "e720cb581e90: Download complete\n",
      "35c102085707: Pull complete\n",
      "6e72a0346b55: Verifying Checksum\n",
      "6e72a0346b55: Download complete\n",
      "251f5509d51d: Pull complete\n",
      "8e829fe70a46: Pull complete\n",
      "6001e1789921: Pull complete\n",
      "64aa7508993b: Pull complete\n",
      "75ff22edc694: Pull complete\n",
      "2824001707aa: Pull complete\n",
      "6e72a0346b55: Pull complete\n",
      "06fde9d517f9: Pull complete\n",
      "7eda0768b66e: Pull complete\n",
      "e0112d80e90f: Pull complete\n",
      "2c94144fd154: Pull complete\n",
      "c4b041c3f63b: Pull complete\n",
      "bd60eb9c51a2: Pull complete\n",
      "06fab61e625d: Pull complete\n",
      "42ec45994b02: Pull complete\n",
      "e720cb581e90: Pull complete\n",
      "bbf43f398ed6: Pull complete\n",
      "23256ae355db: Pull complete\n",
      "Digest: sha256:b80b858f464e72a5c6d4a3c79ccc44407eeedb1e553b2976f4e7cae1d7fd93cd\n",
      "Status: Downloaded newer image for gcr.io/deeplearning-platform-release/tf2-cpu:latest\n",
      " ---> bed936671274\n",
      "Step 2/3 : COPY trainer /trainer\n",
      " ---> da81af49b69d\n",
      "Step 3/3 : ENTRYPOINT [\"python3\", \"-m\", \"trainer.task\"]\n",
      " ---> Running in 044d36e9c2f8\n",
      "Removing intermediate container 044d36e9c2f8\n",
      " ---> 5a0c37482373\n",
      "Successfully built 5a0c37482373\n",
      "Successfully tagged gcr.io/ddetering-experimental/mnist_trainer:latest\n",
      "PUSH\n",
      "Pushing gcr.io/ddetering-experimental/mnist_trainer\n",
      "The push refers to repository [gcr.io/ddetering-experimental/mnist_trainer]\n",
      "5a3ef4aed4b1: Preparing\n",
      "bf90a9083c07: Preparing\n",
      "11d81998383e: Preparing\n",
      "95d20553f9d8: Preparing\n",
      "db39d1d921f4: Preparing\n",
      "30a800c3bce3: Preparing\n",
      "b4e8d60ebd43: Preparing\n",
      "e1331da2fed4: Preparing\n",
      "47b98e0067a4: Preparing\n",
      "1540993b0bb8: Preparing\n",
      "aeb8ac7a4b4c: Preparing\n",
      "3502212822b5: Preparing\n",
      "a792cec8f1b3: Preparing\n",
      "fd6e4fea6397: Preparing\n",
      "e661f78768b4: Preparing\n",
      "cb4cde3af37a: Preparing\n",
      "122be11ab4a2: Preparing\n",
      "7beb13bce073: Preparing\n",
      "f7eae43028b3: Preparing\n",
      "6cebf3abed5f: Preparing\n",
      "30a800c3bce3: Waiting\n",
      "b4e8d60ebd43: Waiting\n",
      "e1331da2fed4: Waiting\n",
      "47b98e0067a4: Waiting\n",
      "1540993b0bb8: Waiting\n",
      "aeb8ac7a4b4c: Waiting\n",
      "3502212822b5: Waiting\n",
      "a792cec8f1b3: Waiting\n",
      "fd6e4fea6397: Waiting\n",
      "e661f78768b4: Waiting\n",
      "cb4cde3af37a: Waiting\n",
      "122be11ab4a2: Waiting\n",
      "7beb13bce073: Waiting\n",
      "f7eae43028b3: Waiting\n",
      "6cebf3abed5f: Waiting\n",
      "bf90a9083c07: Layer already exists\n",
      "95d20553f9d8: Layer already exists\n",
      "db39d1d921f4: Layer already exists\n",
      "11d81998383e: Layer already exists\n",
      "30a800c3bce3: Layer already exists\n",
      "b4e8d60ebd43: Layer already exists\n",
      "e1331da2fed4: Layer already exists\n",
      "1540993b0bb8: Layer already exists\n",
      "3502212822b5: Layer already exists\n",
      "47b98e0067a4: Layer already exists\n",
      "aeb8ac7a4b4c: Layer already exists\n",
      "a792cec8f1b3: Layer already exists\n",
      "e661f78768b4: Layer already exists\n",
      "cb4cde3af37a: Layer already exists\n",
      "fd6e4fea6397: Layer already exists\n",
      "122be11ab4a2: Layer already exists\n",
      "7beb13bce073: Layer already exists\n",
      "f7eae43028b3: Layer already exists\n",
      "6cebf3abed5f: Layer already exists\n",
      "5a3ef4aed4b1: Pushed\n",
      "latest: digest: sha256:8c27ab970ad25c45e5a34ae3666618ed7a12e65322250e2cec07f1d3bae619e8 size: 4501\n",
      "DONE\n",
      "--------------------------------------------------------------------------------\n",
      "\n",
      "ID                                    CREATE_TIME                DURATION  SOURCE                                                                                           IMAGES                                                 STATUS\n",
      "cd0f5b7c-1cbd-4ad0-bdb8-ae26522ef8e8  2019-10-17T23:22:08+00:00  2M54S     gs://ddetering-experimental_cloudbuild/source/1571354526.6-aca8ef4db5a64540859e25e18a88a0fb.tgz  gcr.io/ddetering-experimental/mnist_trainer (+1 more)  SUCCESS\n"
     ]
    }
   ],
   "source": [
    "!gcloud builds submit --tag $IMAGE_URI mnist_trainer/"
   ]
  },
  {
   "cell_type": "markdown",
   "metadata": {},
   "source": [
    "Finally, we can kickoff the [AI Platform training job](https://cloud.google.com/sdk/gcloud/reference/ai-platform/jobs/submit/training). We can pass in our docker image using the `master-image-uri` flag."
   ]
  },
  {
   "cell_type": "code",
   "execution_count": 11,
   "metadata": {},
   "outputs": [],
   "source": [
    "current_time = datetime.now().strftime(\"%y%m%d_%H%M%S\")\n",
    "model_type = 'cnn'\n",
    "\n",
    "os.environ[\"MODEL_TYPE\"] = model_type\n",
    "os.environ[\"JOB_DIR\"] = \"gs://{}/mnist_{}_{}/\".format(\n",
    "    BUCKET, model_type, current_time)\n",
    "os.environ[\"JOB_NAME\"] = \"mnist_{}_{}\".format(\n",
    "    model_type, current_time)"
   ]
  },
  {
   "cell_type": "code",
   "execution_count": 12,
   "metadata": {},
   "outputs": [
    {
     "name": "stdout",
     "output_type": "stream",
     "text": [
      "gs://ddetering-experimental/mnist_cnn_191017_233152/ us-central1 mnist_cnn_191017_233152\n",
      "jobId: mnist_cnn_191017_233152\n",
      "state: QUEUED\n"
     ]
    },
    {
     "name": "stderr",
     "output_type": "stream",
     "text": [
      "Job [mnist_cnn_191017_233152] submitted successfully.\n",
      "Your job is still active. You may view the status of your job with the command\n",
      "\n",
      "  $ gcloud ai-platform jobs describe mnist_cnn_191017_233152\n",
      "\n",
      "or continue streaming the logs with the command\n",
      "\n",
      "  $ gcloud ai-platform jobs stream-logs mnist_cnn_191017_233152\n"
     ]
    }
   ],
   "source": [
    "%%bash\n",
    "echo $JOB_DIR $REGION $JOB_NAME\n",
    "gcloud ai-platform jobs submit training $JOB_NAME \\\n",
    "    --staging-bucket=gs://$BUCKET \\\n",
    "    --region=$REGION \\\n",
    "    --master-image-uri=$IMAGE_URI \\\n",
    "    --scale-tier=BASIC_GPU \\\n",
    "    --job-dir=$JOB_DIR \\\n",
    "    -- \\\n",
    "    --model_type=$MODEL_TYPE"
   ]
  },
  {
   "cell_type": "markdown",
   "metadata": {},
   "source": [
    "Can't wait to see the results? Run the code below and copy the output into the [Google Cloud Shell](https://console.cloud.google.com/home/dashboard?cloudshell=true) to follow along with TensorBoard. Look at the web preview on port 6006."
   ]
  },
  {
   "cell_type": "code",
   "execution_count": 13,
   "metadata": {},
   "outputs": [
    {
     "name": "stdout",
     "output_type": "stream",
     "text": [
      "tensorboard --logdir gs://ddetering-experimental/mnist_cnn_191017_233152/\n"
     ]
    }
   ],
   "source": [
    "!echo \"tensorboard --logdir $JOB_DIR\""
   ]
  },
  {
   "cell_type": "markdown",
   "metadata": {},
   "source": [
    "## Deploying and predicting with model\n",
    "\n",
    "Once you have a model you're proud of, let's deploy it! All we need to do is give AI Platform the location of the model. Below uses the keras export path of the previous job, but `${JOB_DIR}keras_export/` can always be changed to a different path.\n",
    "\n",
    "Even though we're using a 1.14 runtime, it's compatable with TF2 exported models. Phew!\n",
    "\n",
    "Uncomment the delete commands below if you are getting an \"already exists error\" and want to deploy a new model."
   ]
  },
  {
   "cell_type": "code",
   "execution_count": 17,
   "metadata": {},
   "outputs": [
    {
     "name": "stdout",
     "output_type": "stream",
     "text": [
      "Deleting and deploying mnist cnn from gs://ddetering-experimental/mnist_cnn_191017_233152/keras_export/ ... this will take a few minutes\n"
     ]
    },
    {
     "name": "stderr",
     "output_type": "stream",
     "text": [
      "Created ml engine model [projects/ddetering-experimental/models/mnist].\n",
      "Creating version (this might take a few minutes)......\n",
      "................................................................................................................................................................................................................................................................................................................................................................done.\n"
     ]
    }
   ],
   "source": [
    "%%bash\n",
    "MODEL_NAME=\"mnist\"\n",
    "MODEL_VERSION=${MODEL_TYPE}\n",
    "MODEL_LOCATION=${JOB_DIR}keras_export/\n",
    "echo \"Deleting and deploying $MODEL_NAME $MODEL_VERSION from $MODEL_LOCATION ... this will take a few minutes\"\n",
    "#yes | gcloud ai-platform versions delete ${MODEL_VERSION} --model ${MODEL_NAME}\n",
    "#yes | gcloud ai-platform models delete ${MODEL_NAME}\n",
    "gcloud ai-platform models create ${MODEL_NAME} --regions $REGION\n",
    "gcloud ai-platform versions create ${MODEL_VERSION} \\\n",
    "    --model ${MODEL_NAME} \\\n",
    "    --origin ${MODEL_LOCATION} \\\n",
    "    --framework tensorflow \\\n",
    "    --runtime-version=1.14"
   ]
  },
  {
   "cell_type": "markdown",
   "metadata": {},
   "source": [
    "To predict with the model, let's take one of the example images.\n",
    "\n",
    "**TODO 4**: Write a `.json` file with image data to send to an AI Platform deployed model"
   ]
  },
  {
   "cell_type": "code",
   "execution_count": 18,
   "metadata": {},
   "outputs": [
    {
     "data": {
      "image/png": "[encoded data removed]",
      "text/plain": [
       "<Figure size 432x288 with 1 Axes>"
      ]
     },
     "metadata": {
      "needs_background": "light"
     },
     "output_type": "display_data"
    }
   ],
   "source": [
    "import json, codecs\n",
    "import tensorflow as tf\n",
    "import matplotlib.pyplot as plt\n",
    "from mnist_trainer.trainer import util\n",
    "\n",
    "HEIGHT = 28\n",
    "WIDTH = 28\n",
    "IMGNO = 12\n",
    "\n",
    "mnist = tf.keras.datasets.mnist.load_data()\n",
    "(x_train, y_train), (x_test, y_test) = mnist\n",
    "test_image = x_test[IMGNO]\n",
    "\n",
    "jsondata = test_image.reshape(HEIGHT, WIDTH, 1).tolist()\n",
    "json.dump(jsondata, codecs.open(\"test.json\", \"w\", encoding = \"utf-8\"))\n",
    "plt.imshow(test_image.reshape(HEIGHT, WIDTH));"
   ]
  },
  {
   "cell_type": "markdown",
   "metadata": {},
   "source": [
    "Finally, we can send it to the prediction service. The output will have a 1 in the index of the correspoinding digit it is predicting. Congrats! You've completed the lab!"
   ]
  },
  {
   "cell_type": "code",
   "execution_count": 19,
   "metadata": {},
   "outputs": [
    {
     "name": "stdout",
     "output_type": "stream",
     "text": [
      "SOFTMAX_3\n",
      "[0.0, 0.0, 0.0, 0.0, 0.0, 0.0, 0.0, 0.0, 0.0, 1.0]\n"
     ]
    }
   ],
   "source": [
    "%%bash\n",
    "gcloud ai-platform predict \\\n",
    "    --model=mnist \\\n",
    "    --version=${MODEL_TYPE} \\\n",
    "    --json-instances=./test.json"
   ]
  },
  {
   "cell_type": "markdown",
   "metadata": {},
   "source": [
    "Copyright 2019 Google Inc.\n",
    "Licensed under the Apache License, Version 2.0 (the \"License\"); you may not use this file except in compliance with the License. You may obtain a copy of the License at\n",
    "http://www.apache.org/licenses/LICENSE-2.0\n",
    "Unless required by applicable law or agreed to in writing, software distributed under the License is distributed on an \"AS IS\" BASIS, WITHOUT WARRANTIES OR CONDITIONS OF ANY KIND, either express or implied. See the License for the specific language governing permissions and limitations under the License."
   ]
  }
 ],
 "metadata": {
  "kernelspec": {
   "display_name": "Python 3",
   "language": "python",
   "name": "python3"
  },
  "language_info": {
   "codemirror_mode": {
    "name": "ipython",
    "version": 3
   },
   "file_extension": ".py",
   "mimetype": "text/x-python",
   "name": "python",
   "nbconvert_exporter": "python",
   "pygments_lexer": "ipython3",
   "version": "3.5.3"
  }
 },
 "nbformat": 4,
 "nbformat_minor": 4
}

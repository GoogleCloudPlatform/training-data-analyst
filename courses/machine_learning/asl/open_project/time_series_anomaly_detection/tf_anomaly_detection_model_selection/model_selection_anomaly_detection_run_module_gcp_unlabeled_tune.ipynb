{
 "cells": [
  {
   "cell_type": "markdown",
   "metadata": {},
   "source": [
    "# Run model module on GCP with unlabeled threshold tuning"
   ]
  },
  {
   "cell_type": "code",
   "execution_count": null,
   "metadata": {},
   "outputs": [],
   "source": [
    "import os\n",
    "PROJECT = \"PROJECT\" # REPLACE WITH YOUR PROJECT ID\n",
    "BUCKET = \"BUCKET\" # REPLACE WITH A BUCKET NAME\n",
    "REGION = \"us-central1\" # REPLACE WITH YOUR REGION e.g. us-central1\n",
    "\n",
    "# Import os environment variables\n",
    "os.environ[\"PROJECT\"] = PROJECT\n",
    "os.environ[\"BUCKET\"] =  BUCKET\n",
    "os.environ[\"REGION\"] = REGION\n",
    "os.environ[\"TFVERSION\"] = \"1.13\""
   ]
  },
  {
   "cell_type": "markdown",
   "metadata": {},
   "source": [
    "Copy data over to bucket"
   ]
  },
  {
   "cell_type": "code",
   "execution_count": null,
   "metadata": {},
   "outputs": [],
   "source": [
    "%%bash\n",
    "gcloud storage cp --recursive data/* gs://${BUCKET}/anomaly_detection/data"   ]
  },
  {
   "cell_type": "code",
   "execution_count": null,
   "metadata": {},
   "outputs": [],
   "source": [
    "# Import os environment variables for global sequence shape hyperparameters\n",
    "os.environ[\"SEQ_LEN\"] = str(30)\n",
    "os.environ[\"NUM_FEAT\"] = str(5)\n",
    "\n",
    "# Import os environment variables for global feature hyperparameters\n",
    "os.environ[\"FEAT_NAMES\"] = (\",\").join([\"tag_{}\".format(i) for i in range(int(os.environ[\"NUM_FEAT\"]))])\n",
    "os.environ[\"FEAT_DEFAULTS\"] = (\",\").join([(\";\").join([\"0.0\"] * int(os.environ[\"SEQ_LEN\"]))] * int(os.environ[\"NUM_FEAT\"]))\n",
    "\n",
    "# Import os environment variables for global training hyperparameters\n",
    "os.environ[\"START_DELAY_SECS\"] = str(60)\n",
    "os.environ[\"THROTTLE_SECS\"] = str(120)\n",
    "\n",
    "# Import os environment variables for global threshold hyperparameters\n",
    "os.environ[\"LABELED_TUNE_THRESH\"] = \"False\"\n",
    "\n",
    "# Import global dense hyperparameters\n",
    "os.environ[\"ENC_DNN_HIDDEN_UNITS\"] = \"64,32,16\"\n",
    "os.environ[\"LATENT_VECTOR_SIZE\"] = str(8)\n",
    "os.environ[\"DEC_DNN_HIDDEN_UNITS\"] = \"16,32,64\"\n",
    "os.environ[\"TIME_LOSS_WEIGHT\"] = str(1.0)\n",
    "os.environ[\"FEAT_LOSS_WEIGHT\"] = str(1.0)\n",
    "\n",
    "# Import global lstm hyperparameters\n",
    "os.environ[\"REVERSE_LABELS_SEQUENCE\"] = \"True\"\n",
    "os.environ[\"ENC_LSTM_HIDDEN_UNITS\"] = \"64,32,16\"\n",
    "os.environ[\"DEC_LSTM_HIDDEN_UNITS\"] = \"16,32,64\"\n",
    "os.environ[\"LSTM_DROPOUT_OUTPUT_KEEP_PROBS\"] = \"0.9,0.95,1.0\"\n",
    "os.environ[\"DNN_HIDDEN_UNITS\"] = \"1024,256,64\""
   ]
  },
  {
   "cell_type": "markdown",
   "metadata": {},
   "source": [
    "## Train reconstruction variables"
   ]
  },
  {
   "cell_type": "code",
   "execution_count": null,
   "metadata": {},
   "outputs": [],
   "source": [
    "# Import os environment variables for reconstruction training hyperparameters\n",
    "os.environ[\"TRAIN_FILE_PATTERN\"] = \"gs://{}/anomaly_detection/data/train_norm_seq.csv\".format(BUCKET)\n",
    "os.environ[\"EVAL_FILE_PATTERN\"] = \"gs://{}/anomaly_detection/data/val_norm_1_seq.csv\".format(BUCKET)\n",
    "os.environ[\"PREVIOUS_TRAIN_STEPS\"] = str(0)\n",
    "os.environ[\"RECONSTRUCTION_EPOCHS\"] = str(1.0)\n",
    "os.environ[\"TRAIN_EXAMPLES\"] = str(64000)\n",
    "os.environ[\"LEARNING_RATE\"] = str(0.1)\n",
    "os.environ[\"TRAINING_MODE\"] = \"reconstruction\""
   ]
  },
  {
   "cell_type": "markdown",
   "metadata": {},
   "source": [
    "### Dense Autoencoder"
   ]
  },
  {
   "cell_type": "code",
   "execution_count": null,
   "metadata": {},
   "outputs": [],
   "source": [
    "%%bash\n",
    "OUTDIR=gs://${BUCKET}/anomaly_detection/trained_model/dense_unlabeled\n",
    "JOBNAME=job_anomaly_detection_reconstruction_dense_unlabeled_$(date -u +%y%m%d_%H%M%S)\n",
    "echo ${OUTDIR} ${REGION} ${JOBNAME}\n",
    "gcloud storage rm --recursive --continue-on-error ${OUTDIR}\n",    "gcloud ml-engine jobs submit training ${JOBNAME} \\\n",
    "  --region=${REGION} \\\n",
    "  --module-name=trainer.task \\\n",
    "  --package-path=$PWD/anomaly_detection_module/trainer \\\n",
    "  --job-dir=${OUTDIR} \\\n",
    "  --staging-bucket=gs://${BUCKET} \\\n",
    "  --scale-tier=STANDARD_1 \\\n",
    "  --runtime-version=${TFVERSION} \\\n",
    "  -- \\\n",
    "  --train_file_pattern=${TRAIN_FILE_PATTERN} \\\n",
    "  --eval_file_pattern=${EVAL_FILE_PATTERN} \\\n",
    "  --output_dir=${OUTDIR} \\\n",
    "  --job-dir=./tmp \\\n",
    "  --seq_len=${SEQ_LEN} \\\n",
    "  --num_feat=${NUM_FEAT} \\\n",
    "  --feat_names=${FEAT_NAMES} \\\n",
    "  --feat_defaults=${FEAT_DEFAULTS} \\\n",
    "  --train_batch_size=32 \\\n",
    "  --eval_batch_size=32 \\\n",
    "  --previous_train_steps=${PREVIOUS_TRAIN_STEPS} \\\n",
    "  --reconstruction_epochs=${RECONSTRUCTION_EPOCHS} \\\n",
    "  --train_examples=${TRAIN_EXAMPLES} \\\n",
    "  --learning_rate=${LEARNING_RATE} \\\n",
    "  --start_delay_secs=${START_DELAY_SECS} \\\n",
    "  --throttle_secs=${THROTTLE_SECS} \\\n",
    "  --model_type=\"dense_autoencoder\" \\\n",
    "  --enc_dnn_hidden_units=${ENC_DNN_HIDDEN_UNITS} \\\n",
    "  --latent_vector_size=${LATENT_VECTOR_SIZE} \\\n",
    "  --dec_dnn_hidden_units=${DEC_DNN_HIDDEN_UNITS} \\\n",
    "  --time_loss_weight=${TIME_LOSS_WEIGHT} \\\n",
    "  --feat_loss_weight=${FEAT_LOSS_WEIGHT} \\\n",
    "  --training_mode=${TRAINING_MODE} \\\n",
    "  --labeled_tune_thresh=${LABELED_TUNE_THRESH}"
   ]
  },
  {
   "cell_type": "markdown",
   "metadata": {},
   "source": [
    "### LSTM Autoencoder"
   ]
  },
  {
   "cell_type": "code",
   "execution_count": null,
   "metadata": {},
   "outputs": [],
   "source": [
    "%%bash\n",
    "OUTDIR=gs://${BUCKET}/anomaly_detection/trained_model/lstm_unlabeled\n",
    "JOBNAME=job_anomaly_detection_reconstruction_lstm_unlabeled_$(date -u +%y%m%d_%H%M%S)\n",
    "echo ${OUTDIR} ${REGION} ${JOBNAME}\n",
    "gcloud storage rm --recursive --continue-on-error ${OUTDIR}\n",    "gcloud ml-engine jobs submit training ${JOBNAME} \\\n",
    "  --region=${REGION} \\\n",
    "  --module-name=trainer.task \\\n",
    "  --package-path=$PWD/anomaly_detection_module/trainer \\\n",
    "  --job-dir=${OUTDIR} \\\n",
    "  --staging-bucket=gs://${BUCKET} \\\n",
    "  --scale-tier=STANDARD_1 \\\n",
    "  --runtime-version=${TFVERSION} \\\n",
    "  -- \\\n",
    "  --train_file_pattern=${TRAIN_FILE_PATTERN} \\\n",
    "  --eval_file_pattern=${EVAL_FILE_PATTERN} \\\n",
    "  --output_dir=${OUTDIR} \\\n",
    "  --job-dir=./tmp \\\n",
    "  --seq_len=${SEQ_LEN} \\\n",
    "  --num_feat=${NUM_FEAT} \\\n",
    "  --feat_names=${FEAT_NAMES} \\\n",
    "  --feat_defaults=${FEAT_DEFAULTS} \\\n",
    "  --train_batch_size=32 \\\n",
    "  --eval_batch_size=32 \\\n",
    "  --previous_train_steps=${PREVIOUS_TRAIN_STEPS} \\\n",
    "  --reconstruction_epochs=${RECONSTRUCTION_EPOCHS} \\\n",
    "  --train_examples=${TRAIN_EXAMPLES} \\\n",
    "  --learning_rate=${LEARNING_RATE} \\\n",
    "  --start_delay_secs=${START_DELAY_SECS} \\\n",
    "  --throttle_secs=${THROTTLE_SECS} \\\n",
    "  --model_type=\"lstm_enc_dec_autoencoder\" \\\n",
    "  --reverse_labels_sequence=${REVERSE_LABELS_SEQUENCE} \\\n",
    "  --enc_lstm_hidden_units=${ENC_LSTM_HIDDEN_UNITS} \\\n",
    "  --dec_lstm_hidden_units=${DEC_LSTM_HIDDEN_UNITS} \\\n",
    "  --lstm_dropout_output_keep_probs=${LSTM_DROPOUT_OUTPUT_KEEP_PROBS} \\\n",
    "  --dnn_hidden_units=${DNN_HIDDEN_UNITS} \\\n",
    "  --training_mode=${TRAINING_MODE} \\\n",
    "  --labeled_tune_thresh=${LABELED_TUNE_THRESH}"
   ]
  },
  {
   "cell_type": "markdown",
   "metadata": {},
   "source": [
    "### PCA Autoencoder"
   ]
  },
  {
   "cell_type": "markdown",
   "metadata": {},
   "source": [
    "Reconstruction"
   ]
  },
  {
   "cell_type": "code",
   "execution_count": null,
   "metadata": {},
   "outputs": [],
   "source": [
    "%%bash\n",
    "OUTDIR=gs://${BUCKET}/anomaly_detection/trained_model/pca_unlabeled\n",
    "JOBNAME=job_anomaly_detection_reconstruction_pca_unlabeled_$(date -u +%y%m%d_%H%M%S)\n",
    "echo ${OUTDIR} ${REGION} ${JOBNAME}\n",
    "gcloud storage rm --recursive --continue-on-error ${OUTDIR}\n",    "gcloud ml-engine jobs submit training ${JOBNAME} \\\n",
    "  --region=${REGION} \\\n",
    "  --module-name=trainer.task \\\n",
    "  --package-path=$PWD/anomaly_detection_module/trainer \\\n",
    "  --job-dir=${OUTDIR} \\\n",
    "  --staging-bucket=gs://${BUCKET} \\\n",
    "  --scale-tier=STANDARD_1 \\\n",
    "  --runtime-version=${TFVERSION} \\\n",
    "  -- \\\n",
    "  --train_file_pattern=${TRAIN_FILE_PATTERN} \\\n",
    "  --eval_file_pattern=${EVAL_FILE_PATTERN} \\\n",
    "  --output_dir=${OUTDIR} \\\n",
    "  --job-dir=./tmp \\\n",
    "  --seq_len=${SEQ_LEN} \\\n",
    "  --num_feat=${NUM_FEAT} \\\n",
    "  --feat_names=${FEAT_NAMES} \\\n",
    "  --feat_defaults=${FEAT_DEFAULTS} \\\n",
    "  --train_batch_size=32 \\\n",
    "  --eval_batch_size=32 \\\n",
    "  --previous_train_steps=${PREVIOUS_TRAIN_STEPS} \\\n",
    "  --reconstruction_epochs=1.0 \\\n",
    "  --train_examples=${TRAIN_EXAMPLES} \\\n",
    "  --eval_examples=6400 \\\n",
    "  --start_delay_secs=${START_DELAY_SECS} \\\n",
    "  --throttle_secs=${THROTTLE_SECS} \\\n",
    "  --model_type=\"pca\" \\\n",
    "  --training_mode=${TRAINING_MODE} \\\n",
    "  --autotune_principal_components=\"False\" \\\n",
    "  --labeled_tune_thresh=${LABELED_TUNE_THRESH}"
   ]
  },
  {
   "cell_type": "markdown",
   "metadata": {},
   "source": [
    "Autotune principal components"
   ]
  },
  {
   "cell_type": "code",
   "execution_count": null,
   "metadata": {},
   "outputs": [],
   "source": [
    "%%bash\n",
    "OUTDIR=gs://${BUCKET}/anomaly_detection/trained_model/pca_unlabeled\n",
    "JOBNAME=job_anomaly_detection_reconstruction_pca_unlabeled_$(date -u +%y%m%d_%H%M%S)\n",
    "echo ${OUTDIR} ${REGION} ${JOBNAME}\n",
    "gcloud ml-engine jobs submit training ${JOBNAME} \\\n",
    "  --region=${REGION} \\\n",
    "  --module-name=trainer.task \\\n",
    "  --package-path=$PWD/anomaly_detection_module/trainer \\\n",
    "  --job-dir=${OUTDIR} \\\n",
    "  --staging-bucket=gs://${BUCKET} \\\n",
    "  --scale-tier=STANDARD_1 \\\n",
    "  --runtime-version=${TFVERSION} \\\n",
    "  -- \\\n",
    "  --train_file_pattern=${EVAL_FILE_PATTERN} \\\n",
    "  --eval_file_pattern=${EVAL_FILE_PATTERN} \\\n",
    "  --output_dir=${OUTDIR} \\\n",
    "  --job-dir=./tmp \\\n",
    "  --seq_len=${SEQ_LEN} \\\n",
    "  --num_feat=${NUM_FEAT} \\\n",
    "  --feat_names=${FEAT_NAMES} \\\n",
    "  --feat_defaults=${FEAT_DEFAULTS} \\\n",
    "  --train_batch_size=32 \\\n",
    "  --eval_batch_size=32 \\\n",
    "  --previous_train_steps=2000 \\\n",
    "  --reconstruction_epochs=1.0 \\\n",
    "  --train_examples=6400 \\\n",
    "  --eval_examples=6400 \\\n",
    "  --start_delay_secs=${START_DELAY_SECS} \\\n",
    "  --throttle_secs=${THROTTLE_SECS} \\\n",
    "  --model_type=\"pca\" \\\n",
    "  --training_mode=${TRAINING_MODE} \\\n",
    "  --autotune_principal_components=\"True\" \\\n",
    "  --labeled_tune_thresh=${LABELED_TUNE_THRESH}"
   ]
  },
  {
   "cell_type": "markdown",
   "metadata": {},
   "source": [
    "## Hyperparameter tuning of reconstruction hyperparameters"
   ]
  },
  {
   "cell_type": "markdown",
   "metadata": {},
   "source": [
    "### Dense Autoencoder"
   ]
  },
  {
   "cell_type": "code",
   "execution_count": null,
   "metadata": {},
   "outputs": [],
   "source": [
    "%%writefile hyperparam_reconstruction_dense.yaml\n",
    "trainingInput:\n",
    "  scaleTier: STANDARD_1\n",
    "  hyperparameters:\n",
    "    hyperparameterMetricTag: rmse\n",
    "    goal: MINIMIZE\n",
    "    maxTrials: 30\n",
    "    maxParallelTrials: 1\n",
    "    params:\n",
    "    - parameterName: enc_dnn_hidden_units\n",
    "      type: CATEGORICAL\n",
    "      categoricalValues: [\"64 32 16\", \"256 128 16\", \"64 64 64\"]\n",
    "    - parameterName: latent_vector_size\n",
    "      type: INTEGER\n",
    "      minValue: 8\n",
    "      maxValue: 16\n",
    "      scaleType: UNIT_LINEAR_SCALE\n",
    "    - parameterName: dec_dnn_hidden_units\n",
    "      type: CATEGORICAL\n",
    "      categoricalValues: [\"16 32 64\", \"16 128 256\", \"64 64 64\"]\n",
    "    - parameterName: train_batch_size\n",
    "      type: INTEGER\n",
    "      minValue: 8\n",
    "      maxValue: 512\n",
    "      scaleType: UNIT_LOG_SCALE\n",
    "    - parameterName: learning_rate\n",
    "      type: DOUBLE\n",
    "      minValue: 0.001\n",
    "      maxValue: 0.1\n",
    "      scaleType: UNIT_LINEAR_SCALE"
   ]
  },
  {
   "cell_type": "code",
   "execution_count": null,
   "metadata": {},
   "outputs": [],
   "source": [
    "%%bash\n",
    "OUTDIR=gs://${BUCKET}/anomaly_detection/hyperparam_reconstruction_dense_unlabeled\n",
    "JOBNAME=job_anomaly_detection_hyperparam_reconstruction_dense_unlabeled_$(date -u +%y%m%d_%H%M%S)\n",
    "echo ${OUTDIR} ${REGION} ${JOBNAME}\n",
    "gcloud storage rm --recursive --continue-on-error ${OUTDIR}\n",    "gcloud ml-engine jobs submit training ${JOBNAME} \\\n",
    "  --region=${REGION} \\\n",
    "  --module-name=trainer.task \\\n",
    "  --package-path=$PWD/anomaly_detection_module/trainer \\\n",
    "  --job-dir=${OUTDIR} \\\n",
    "  --staging-bucket=gs://${BUCKET} \\\n",
    "  --scale-tier=STANDARD_1 \\\n",
    "  --config=hyperparam_reconstruction_dense.yaml \\\n",
    "  --runtime-version=${TFVERSION} \\\n",
    "  -- \\\n",
    "  --train_file_pattern=gs://${BUCKET}/anomaly_detection/data/train_norm_seq.csv \\\n",
    "  --eval_file_pattern=gs://${BUCKET}/anomaly_detection/data/val_norm_1_seq.csv \\\n",
    "  --output_dir=${OUTDIR} \\\n",
    "  --job-dir=${OUTDIR} \\\n",
    "  --seq_len=30 \\\n",
    "  --num_feat=5 \\\n",
    "  --feat_names=${FEAT_NAMES} \\\n",
    "  --feat_defaults=${FEAT_DEFAULTS} \\\n",
    "  --train_batch_size=32 \\\n",
    "  --eval_batch_size=32 \\\n",
    "  --previous_train_steps=0 \\\n",
    "  --reconstruction_epochs=1.0 \\\n",
    "  --train_examples=64000 \\\n",
    "  --start_delay_secs=60 \\\n",
    "  --throttle_secs=120 \\\n",
    "  --training_mode=\"reconstruction\" \\\n",
    "  --labeled_tune_thresh=True \\\n",
    "  --num_time_anom_thresh=300 \\\n",
    "  --num_feat_anom_thresh=300"
   ]
  },
  {
   "cell_type": "markdown",
   "metadata": {},
   "source": [
    "### LSTM Autoencoder"
   ]
  },
  {
   "cell_type": "code",
   "execution_count": null,
   "metadata": {},
   "outputs": [],
   "source": [
    "%%writefile hyperparam_reconstruction_lstm.yaml\n",
    "trainingInput:\n",
    "  scaleTier: STANDARD_1\n",
    "  hyperparameters:\n",
    "    hyperparameterMetricTag: rmse\n",
    "    goal: MINIMIZE\n",
    "    maxTrials: 30\n",
    "    maxParallelTrials: 1\n",
    "    params:\n",
    "    - parameterName: enc_lstm_hidden_units\n",
    "      type: CATEGORICAL\n",
    "      categoricalValues: [\"64 32 16\", \"256 128 16\", \"64 64 64\"]\n",
    "    - parameterName: dec_lstm_hidden_units\n",
    "      type: CATEGORICAL\n",
    "      categoricalValues: [\"16 32 64\", \"16 128 256\", \"64 64 64\"]\n",
    "    - parameterName: lstm_dropout_output_keep_probs\n",
    "      type: CATEGORICAL\n",
    "      categoricalValues: [\"0.9 1.0 1.0\", \"0.95 0.95 1.0\", \"0.95 0.95 0.95\"]\n",
    "    - parameterName: dnn_hidden_units\n",
    "      type: CATEGORICAL\n",
    "      categoricalValues: [\"256 128 64\", \"256 128 16\", \"64 64 64\"]\n",
    "    - parameterName: train_batch_size\n",
    "      type: INTEGER\n",
    "      minValue: 8\n",
    "      maxValue: 512\n",
    "      scaleType: UNIT_LOG_SCALE\n",
    "    - parameterName: learning_rate\n",
    "      type: DOUBLE\n",
    "      minValue: 0.001\n",
    "      maxValue: 0.1\n",
    "      scaleType: UNIT_LINEAR_SCALE"
   ]
  },
  {
   "cell_type": "code",
   "execution_count": null,
   "metadata": {},
   "outputs": [],
   "source": [
    "%%bash\n",
    "OUTDIR=gs://${BUCKET}/anomaly_detection/hyperparam_reconstruction_lstm_unlabeled\n",
    "JOBNAME=job_anomaly_detection_hyperparam_reconstruction_lstm_unlabeled_$(date -u +%y%m%d_%H%M%S)\n",
    "echo ${OUTDIR} ${REGION} ${JOBNAME}\n",
    "gcloud storage rm --recursive --continue-on-error ${OUTDIR}\n",    "gcloud ml-engine jobs submit training ${JOBNAME} \\\n",
    "  --region=${REGION} \\\n",
    "  --module-name=trainer.task \\\n",
    "  --package-path=$PWD/anomaly_detection_module/trainer \\\n",
    "  --job-dir=${OUTDIR} \\\n",
    "  --staging-bucket=gs://${BUCKET} \\\n",
    "  --scale-tier=STANDARD_1 \\\n",
    "  --config=hyperparam_reconstruction_lstm.yaml \\\n",
    "  --runtime-version=${TFVERSION} \\\n",
    "  -- \\\n",
    "  --train_file_pattern=gs://${BUCKET}/anomaly_detection/data/train_norm_seq.csv \\\n",
    "  --eval_file_pattern=gs://${BUCKET}/anomaly_detection/data/val_norm_1_seq.csv \\\n",
    "  --output_dir=${OUTDIR} \\\n",
    "  --job-dir=${OUTDIR} \\\n",
    "  --seq_len=30 \\\n",
    "  --num_feat=5 \\\n",
    "  --feat_names=${FEAT_NAMES} \\\n",
    "  --feat_defaults=${FEAT_DEFAULTS} \\\n",
    "  --train_batch_size=32 \\\n",
    "  --eval_batch_size=32 \\\n",
    "  --previous_train_steps=0 \\\n",
    "  --reconstruction_epochs=1.0 \\\n",
    "  --train_examples=64000 \\\n",
    "  --start_delay_secs=60 \\\n",
    "  --throttle_secs=120 \\\n",
    "  --training_mode=\"reconstruction\" \\\n",
    "  --labeled_tune_thresh=True \\\n",
    "  --num_time_anom_thresh=300 \\\n",
    "  --num_feat_anom_thresh=300"
   ]
  },
  {
   "cell_type": "markdown",
   "metadata": {},
   "source": [
    "### PCA Autoencoder"
   ]
  },
  {
   "cell_type": "code",
   "execution_count": null,
   "metadata": {},
   "outputs": [],
   "source": [
    "%%writefile hyperparam_reconstruction_pca.yaml\n",
    "trainingInput:\n",
    "  scaleTier: STANDARD_1\n",
    "  hyperparameters:\n",
    "    hyperparameterMetricTag: rmse\n",
    "    goal: MINIMIZE\n",
    "    maxTrials: 30\n",
    "    maxParallelTrials: 1\n",
    "    params:\n",
    "    - parameterName: k_principal_components_time\n",
    "      type: INTEGER\n",
    "      minValue: 2\n",
    "      maxValue: 10\n",
    "      scaleType: UNIT_LINEAR_SCALE\n",
    "    - parameterName: k_principal_components_feat\n",
    "      type: INTEGER\n",
    "      minValue: 2\n",
    "      maxValue: 10\n",
    "      scaleType: UNIT_LINEAR_SCALE"
   ]
  },
  {
   "cell_type": "code",
   "execution_count": null,
   "metadata": {},
   "outputs": [],
   "source": [
    "%%bash\n",
    "OUTDIR=gs://${BUCKET}/anomaly_detection/hyperparam_reconstruction_pca_unlabeled\n",
    "JOBNAME=job_anomaly_detection_hyperparam_reconstruction_pca_unlabeled_$(date -u +%y%m%d_%H%M%S)\n",
    "echo ${OUTDIR} ${REGION} ${JOBNAME}\n",
    "gcloud storage rm --recursive --continue-on-error ${OUTDIR}\n",    "gcloud ml-engine jobs submit training ${JOBNAME} \\\n",
    "  --region=${REGION} \\\n",
    "  --module-name=trainer.task \\\n",
    "  --package-path=$PWD/anomaly_detection_module/trainer \\\n",
    "  --job-dir=${OUTDIR} \\\n",
    "  --staging-bucket=gs://${BUCKET} \\\n",
    "  --scale-tier=STANDARD_1 \\\n",
    "  --config=hyperparam_reconstruction_pca.yaml \\\n",
    "  --runtime-version=${TFVERSION} \\\n",
    "  -- \\\n",
    "  --train_file_pattern=gs://${BUCKET}/anomaly_detection/data/train_norm_seq.csv \\\n",
    "  --eval_file_pattern=gs://${BUCKET}/anomaly_detection/data/val_norm_1_seq.csv \\\n",
    "  --output_dir=${OUTDIR} \\\n",
    "  --job-dir=${OUTDIR} \\\n",
    "  --seq_len=30 \\\n",
    "  --num_feat=5 \\\n",
    "  --feat_names=${FEAT_NAMES} \\\n",
    "  --feat_defaults=${FEAT_DEFAULTS} \\\n",
    "  --train_batch_size=32 \\\n",
    "  --eval_batch_size=32 \\\n",
    "  --previous_train_steps=0 \\\n",
    "  --reconstruction_epochs=1.0 \\\n",
    "  --train_examples=64000 \\\n",
    "  --eval_examples=6400 \\\n",
    "  --start_delay_secs=60 \\\n",
    "  --throttle_secs=120 \\\n",
    "  --training_mode=\"reconstruction\" \\\n",
    "  --labeled_tune_thresh=True \\\n",
    "  --num_time_anom_thresh=300 \\\n",
    "  --num_feat_anom_thresh=300"
   ]
  },
  {
   "cell_type": "markdown",
   "metadata": {},
   "source": [
    "## Train error distribution variables"
   ]
  },
  {
   "cell_type": "code",
   "execution_count": null,
   "metadata": {},
   "outputs": [],
   "source": [
    "# Import os environment variables for error dist training hyperparameters\n",
    "os.environ[\"TRAIN_FILE_PATTERN\"] = \"gs://{}/anomaly_detection/data/val_norm_1_seq.csv\".format(BUCKET)\n",
    "os.environ[\"EVAL_FILE_PATTERN\"] = \"gs://{}/anomaly_detection/data/val_norm_1_seq.csv\".format(BUCKET)\n",
    "os.environ[\"PREVIOUS_TRAIN_STEPS\"] = str(2000)\n",
    "os.environ[\"TRAIN_EXAMPLES\"] = str(6400)\n",
    "os.environ[\"TRAINING_MODE\"] = \"calculate_error_distribution_statistics\"\n",
    "os.environ[\"EPS\"] = \"1e-12\""
   ]
  },
  {
   "cell_type": "markdown",
   "metadata": {},
   "source": [
    "### Dense Autoencoder"
   ]
  },
  {
   "cell_type": "code",
   "execution_count": null,
   "metadata": {},
   "outputs": [],
   "source": [
    "%%bash\n",
    "OUTDIR=gs://${BUCKET}/anomaly_detection/trained_model/dense_unlabeled\n",
    "JOBNAME=job_anomaly_detection_calculate_error_distribution_statistics_dense_unlabeled_$(date -u +%y%m%d_%H%M%S)\n",
    "echo ${OUTDIR} ${REGION} ${JOBNAME}\n",
    "gcloud ml-engine jobs submit training ${JOBNAME} \\\n",
    "  --region=${REGION} \\\n",
    "  --module-name=trainer.task \\\n",
    "  --package-path=$PWD/anomaly_detection_module/trainer \\\n",
    "  --job-dir=${OUTDIR} \\\n",
    "  --staging-bucket=gs://${BUCKET} \\\n",
    "  --scale-tier=STANDARD_1 \\\n",
    "  --runtime-version=${TFVERSION} \\\n",
    "  -- \\\n",
    "  --train_file_pattern=${TRAIN_FILE_PATTERN} \\\n",
    "  --eval_file_pattern=${EVAL_FILE_PATTERN} \\\n",
    "  --output_dir=${OUTDIR} \\\n",
    "  --job-dir=./tmp \\\n",
    "  --seq_len=${SEQ_LEN} \\\n",
    "  --num_feat=${NUM_FEAT} \\\n",
    "  --feat_names=${FEAT_NAMES} \\\n",
    "  --feat_defaults=${FEAT_DEFAULTS} \\\n",
    "  --train_batch_size=32 \\\n",
    "  --eval_batch_size=32 \\\n",
    "  --previous_train_steps=${PREVIOUS_TRAIN_STEPS} \\\n",
    "  --train_examples=${TRAIN_EXAMPLES} \\\n",
    "  --start_delay_secs=${START_DELAY_SECS} \\\n",
    "  --throttle_secs=${THROTTLE_SECS} \\\n",
    "  --model_type=\"dense_autoencoder\" \\\n",
    "  --enc_dnn_hidden_units=${ENC_DNN_HIDDEN_UNITS} \\\n",
    "  --latent_vector_size=${LATENT_VECTOR_SIZE} \\\n",
    "  --dec_dnn_hidden_units=${DEC_DNN_HIDDEN_UNITS} \\\n",
    "  --time_loss_weight=${TIME_LOSS_WEIGHT} \\\n",
    "  --feat_loss_weight=${FEAT_LOSS_WEIGHT} \\\n",
    "  --training_mode=${TRAINING_MODE} \\\n",
    "  --labeled_tune_thresh=${LABELED_TUNE_THRESH} \\\n",
    "  --eps=${EPS}"
   ]
  },
  {
   "cell_type": "markdown",
   "metadata": {},
   "source": [
    "### LSTM Autoencoder"
   ]
  },
  {
   "cell_type": "code",
   "execution_count": null,
   "metadata": {},
   "outputs": [],
   "source": [
    "%%bash\n",
    "OUTDIR=gs://${BUCKET}/anomaly_detection/trained_model/lstm_unlabeled\n",
    "JOBNAME=job_anomaly_detection_calculate_error_distribution_statistics_lstm_unlabeled_$(date -u +%y%m%d_%H%M%S)\n",
    "echo ${OUTDIR} ${REGION} ${JOBNAME}\n",
    "gcloud ml-engine jobs submit training ${JOBNAME} \\\n",
    "  --region=${REGION} \\\n",
    "  --module-name=trainer.task \\\n",
    "  --package-path=$PWD/anomaly_detection_module/trainer \\\n",
    "  --job-dir=${OUTDIR} \\\n",
    "  --staging-bucket=gs://${BUCKET} \\\n",
    "  --scale-tier=STANDARD_1 \\\n",
    "  --runtime-version=${TFVERSION} \\\n",
    "  -- \\\n",
    "  --train_file_pattern=${TRAIN_FILE_PATTERN} \\\n",
    "  --eval_file_pattern=${EVAL_FILE_PATTERN} \\\n",
    "  --output_dir=${OUTDIR} \\\n",
    "  --job-dir=./tmp \\\n",
    "  --seq_len=${SEQ_LEN} \\\n",
    "  --num_feat=${NUM_FEAT} \\\n",
    "  --feat_names=${FEAT_NAMES} \\\n",
    "  --feat_defaults=${FEAT_DEFAULTS} \\\n",
    "  --train_batch_size=32 \\\n",
    "  --eval_batch_size=32 \\\n",
    "  --previous_train_steps=${PREVIOUS_TRAIN_STEPS} \\\n",
    "  --train_examples=${TRAIN_EXAMPLES} \\\n",
    "  --start_delay_secs=${START_DELAY_SECS} \\\n",
    "  --throttle_secs=${THROTTLE_SECS} \\\n",
    "  --model_type=\"lstm_enc_dec_autoencoder\" \\\n",
    "  --reverse_labels_sequence=${REVERSE_LABELS_SEQUENCE} \\\n",
    "  --enc_lstm_hidden_units=${ENC_LSTM_HIDDEN_UNITS} \\\n",
    "  --dec_lstm_hidden_units=${DEC_LSTM_HIDDEN_UNITS} \\\n",
    "  --lstm_dropout_output_keep_probs=${LSTM_DROPOUT_OUTPUT_KEEP_PROBS} \\\n",
    "  --dnn_hidden_units=${DNN_HIDDEN_UNITS} \\\n",
    "  --training_mode=${TRAINING_MODE} \\\n",
    "  --labeled_tune_thresh=${LABELED_TUNE_THRESH} \\\n",
    "  --eps=${EPS}"
   ]
  },
  {
   "cell_type": "markdown",
   "metadata": {},
   "source": [
    "### PCA Autoencoder"
   ]
  },
  {
   "cell_type": "code",
   "execution_count": null,
   "metadata": {},
   "outputs": [],
   "source": [
    "%%bash\n",
    "OUTDIR=gs://${BUCKET}/anomaly_detection/trained_model/pca_unlabeled\n",
    "JOBNAME=job_anomaly_detection_calculate_error_distribution_statistics_pca_unlabeled_$(date -u +%y%m%d_%H%M%S)\n",
    "echo ${OUTDIR} ${REGION} ${JOBNAME}\n",
    "gcloud ml-engine jobs submit training ${JOBNAME} \\\n",
    "  --region=${REGION} \\\n",
    "  --module-name=trainer.task \\\n",
    "  --package-path=$PWD/anomaly_detection_module/trainer \\\n",
    "  --job-dir=${OUTDIR} \\\n",
    "  --staging-bucket=gs://${BUCKET} \\\n",
    "  --scale-tier=STANDARD_1 \\\n",
    "  --runtime-version=${TFVERSION} \\\n",
    "  -- \\\n",
    "  --train_file_pattern=${TRAIN_FILE_PATTERN} \\\n",
    "  --eval_file_pattern=${EVAL_FILE_PATTERN} \\\n",
    "  --output_dir=${OUTDIR} \\\n",
    "  --job-dir=./tmp \\\n",
    "  --seq_len=${SEQ_LEN} \\\n",
    "  --num_feat=${NUM_FEAT} \\\n",
    "  --feat_names=${FEAT_NAMES} \\\n",
    "  --feat_defaults=${FEAT_DEFAULTS} \\\n",
    "  --train_batch_size=32 \\\n",
    "  --eval_batch_size=32 \\\n",
    "  --previous_train_steps=2200 \\\n",
    "  --train_examples=${TRAIN_EXAMPLES} \\\n",
    "  --start_delay_secs=${START_DELAY_SECS} \\\n",
    "  --throttle_secs=${THROTTLE_SECS} \\\n",
    "  --model_type=\"pca\" \\\n",
    "  --training_mode=${TRAINING_MODE} \\\n",
    "  --labeled_tune_thresh=${LABELED_TUNE_THRESH} \\\n",
    "  --eps=${EPS}"
   ]
  },
  {
   "cell_type": "markdown",
   "metadata": {},
   "source": [
    "## Tune anomaly thresholds"
   ]
  },
  {
   "cell_type": "code",
   "execution_count": null,
   "metadata": {},
   "outputs": [],
   "source": [
    "# Import os environment variables for tune threshold training hyperparameters\n",
    "os.environ[\"PREVIOUS_TRAIN_STEPS\"] = str(2200)\n",
    "os.environ[\"TRAIN_EXAMPLES\"] = str(12800)\n",
    "os.environ[\"TRAINING_MODE\"] = \"tune_anomaly_thresholds\""
   ]
  },
  {
   "cell_type": "markdown",
   "metadata": {},
   "source": [
    "## Unlabeled"
   ]
  },
  {
   "cell_type": "code",
   "execution_count": null,
   "metadata": {},
   "outputs": [],
   "source": [
    "# Import os environment variables for unlabeled tune threshold training hyperparameters\n",
    "os.environ[\"TRAIN_FILE_PATTERN\"] = \"gs://{}/anomaly_detection/data/unlabeled_val_mixed_seq.csv\".format(BUCKET)\n",
    "os.environ[\"EVAL_FILE_PATTERN\"] = \"gs://{}/anomaly_detection/data/unlabeled_val_mixed_seq.csv\".format(BUCKET)\n",
    "os.environ[\"TIME_THRESH_SCL\"] = str(2.0)\n",
    "os.environ[\"FEAT_THRESH_SCL\"] = str(2.0)"
   ]
  },
  {
   "cell_type": "markdown",
   "metadata": {},
   "source": [
    "### Dense Autoencoder"
   ]
  },
  {
   "cell_type": "code",
   "execution_count": null,
   "metadata": {},
   "outputs": [],
   "source": [
    "%%bash\n",
    "OUTDIR=gs://${BUCKET}/anomaly_detection/trained_model/dense_unlabeled\n",
    "JOBNAME=job_anomaly_detection_tune_anomaly_thresholds_dense_unlabeled_$(date -u +%y%m%d_%H%M%S)\n",
    "echo ${OUTDIR} ${REGION} ${JOBNAME}\n",
    "gcloud ml-engine jobs submit training ${JOBNAME} \\\n",
    "  --region=${REGION} \\\n",
    "  --module-name=trainer.task \\\n",
    "  --package-path=$PWD/anomaly_detection_module/trainer \\\n",
    "  --job-dir=${OUTDIR} \\\n",
    "  --staging-bucket=gs://${BUCKET} \\\n",
    "  --scale-tier=STANDARD_1 \\\n",
    "  --runtime-version=${TFVERSION} \\\n",
    "  -- \\\n",
    "  --train_file_pattern=${TRAIN_FILE_PATTERN} \\\n",
    "  --eval_file_pattern=${EVAL_FILE_PATTERN} \\\n",
    "  --output_dir=${OUTDIR} \\\n",
    "  --job-dir=./tmp \\\n",
    "  --seq_len=${SEQ_LEN} \\\n",
    "  --num_feat=${NUM_FEAT} \\\n",
    "  --feat_names=${FEAT_NAMES} \\\n",
    "  --feat_defaults=${FEAT_DEFAULTS} \\\n",
    "  --train_batch_size=32 \\\n",
    "  --eval_batch_size=32 \\\n",
    "  --previous_train_steps=${PREVIOUS_TRAIN_STEPS} \\\n",
    "  --train_examples=${TRAIN_EXAMPLES} \\\n",
    "  --start_delay_secs=${START_DELAY_SECS} \\\n",
    "  --throttle_secs=${THROTTLE_SECS} \\\n",
    "  --model_type=\"dense_autoencoder\" \\\n",
    "  --enc_dnn_hidden_units=${ENC_DNN_HIDDEN_UNITS} \\\n",
    "  --latent_vector_size=${LATENT_VECTOR_SIZE} \\\n",
    "  --dec_dnn_hidden_units=${DEC_DNN_HIDDEN_UNITS} \\\n",
    "  --time_loss_weight=${TIME_LOSS_WEIGHT} \\\n",
    "  --feat_loss_weight=${FEAT_LOSS_WEIGHT} \\\n",
    "  --training_mode=${TRAINING_MODE} \\\n",
    "  --labeled_tune_thresh=${LABELED_TUNE_THRESH} \\\n",
    "  --time_thresh_scl=${TIME_THRESH_SCL} \\\n",
    "  --feat_thresh_scl=${FEAT_THRESH_SCL}"
   ]
  },
  {
   "cell_type": "markdown",
   "metadata": {},
   "source": [
    "### LSTM Autoencoder"
   ]
  },
  {
   "cell_type": "code",
   "execution_count": null,
   "metadata": {},
   "outputs": [],
   "source": [
    "%%bash\n",
    "OUTDIR=gs://${BUCKET}/anomaly_detection/trained_model/lstm_unlabeled\n",
    "JOBNAME=job_anomaly_detection_tune_anomaly_thresholds_lstm_unlabeled_$(date -u +%y%m%d_%H%M%S)\n",
    "echo ${OUTDIR} ${REGION} ${JOBNAME}\n",
    "gcloud ml-engine jobs submit training ${JOBNAME} \\\n",
    "  --region=${REGION} \\\n",
    "  --module-name=trainer.task \\\n",
    "  --package-path=$PWD/anomaly_detection_module/trainer \\\n",
    "  --job-dir=${OUTDIR} \\\n",
    "  --staging-bucket=gs://${BUCKET} \\\n",
    "  --scale-tier=STANDARD_1 \\\n",
    "  --runtime-version=${TFVERSION} \\\n",
    "  -- \\\n",
    "  --train_file_pattern=${TRAIN_FILE_PATTERN} \\\n",
    "  --eval_file_pattern=${EVAL_FILE_PATTERN} \\\n",
    "  --output_dir=${OUTDIR} \\\n",
    "  --job-dir=./tmp \\\n",
    "  --seq_len=${SEQ_LEN} \\\n",
    "  --num_feat=${NUM_FEAT} \\\n",
    "  --feat_names=${FEAT_NAMES} \\\n",
    "  --feat_defaults=${FEAT_DEFAULTS} \\\n",
    "  --train_batch_size=32 \\\n",
    "  --eval_batch_size=32 \\\n",
    "  --previous_train_steps=${PREVIOUS_TRAIN_STEPS} \\\n",
    "  --train_examples=${TRAIN_EXAMPLES} \\\n",
    "  --start_delay_secs=${START_DELAY_SECS} \\\n",
    "  --throttle_secs=${THROTTLE_SECS} \\\n",
    "  --model_type=\"lstm_enc_dec_autoencoder\" \\\n",
    "  --reverse_labels_sequence=${REVERSE_LABELS_SEQUENCE} \\\n",
    "  --enc_lstm_hidden_units=${ENC_LSTM_HIDDEN_UNITS} \\\n",
    "  --dec_lstm_hidden_units=${DEC_LSTM_HIDDEN_UNITS} \\\n",
    "  --lstm_dropout_output_keep_probs=${LSTM_DROPOUT_OUTPUT_KEEP_PROBS} \\\n",
    "  --dnn_hidden_units=${DNN_HIDDEN_UNITS} \\\n",
    "  --training_mode=${TRAINING_MODE} \\\n",
    "  --labeled_tune_thresh=${LABELED_TUNE_THRESH} \\\n",
    "  --time_thresh_scl=${TIME_THRESH_SCL} \\\n",
    "  --feat_thresh_scl=${FEAT_THRESH_SCL}"
   ]
  },
  {
   "cell_type": "markdown",
   "metadata": {},
   "source": [
    "### PCA Autoencoder"
   ]
  },
  {
   "cell_type": "code",
   "execution_count": null,
   "metadata": {},
   "outputs": [],
   "source": [
    "%%bash\n",
    "OUTDIR=gs://${BUCKET}/anomaly_detection/trained_model/pca_unlabeled\n",
    "JOBNAME=job_anomaly_detection_tune_anomaly_thresholds_pca_unlabeled_$(date -u +%y%m%d_%H%M%S)\n",
    "echo ${OUTDIR} ${REGION} ${JOBNAME}\n",
    "gcloud ml-engine jobs submit training ${JOBNAME} \\\n",
    "  --region=${REGION} \\\n",
    "  --module-name=trainer.task \\\n",
    "  --package-path=$PWD/anomaly_detection_module/trainer \\\n",
    "  --job-dir=${OUTDIR} \\\n",
    "  --staging-bucket=gs://${BUCKET} \\\n",
    "  --scale-tier=STANDARD_1 \\\n",
    "  --runtime-version=${TFVERSION} \\\n",
    "  -- \\\n",
    "  --train_file_pattern=${TRAIN_FILE_PATTERN} \\\n",
    "  --eval_file_pattern=${EVAL_FILE_PATTERN} \\\n",
    "  --output_dir=${OUTDIR} \\\n",
    "  --job-dir=./tmp \\\n",
    "  --seq_len=${SEQ_LEN} \\\n",
    "  --num_feat=${NUM_FEAT} \\\n",
    "  --feat_names=${FEAT_NAMES} \\\n",
    "  --feat_defaults=${FEAT_DEFAULTS} \\\n",
    "  --train_batch_size=32 \\\n",
    "  --eval_batch_size=32 \\\n",
    "  --previous_train_steps=2400 \\\n",
    "  --train_examples=${TRAIN_EXAMPLES} \\\n",
    "  --start_delay_secs=${START_DELAY_SECS} \\\n",
    "  --throttle_secs=${THROTTLE_SECS} \\\n",
    "  --model_type=\"pca\" \\\n",
    "  --training_mode=${TRAINING_MODE} \\\n",
    "  --labeled_tune_thresh=${LABELED_TUNE_THRESH} \\\n",
    "  --time_thresh_scl=${TIME_THRESH_SCL} \\\n",
    "  --feat_thresh_scl=${FEAT_THRESH_SCL}"
   ]
  },
  {
   "cell_type": "markdown",
   "metadata": {},
   "source": [
    "## Deploy"
   ]
  },
  {
   "cell_type": "markdown",
   "metadata": {},
   "source": [
    "### Dense Autoencoder"
   ]
  },
  {
   "cell_type": "code",
   "execution_count": null,
   "metadata": {},
   "outputs": [],
   "source": [
    "%%bash\n",
    "MODEL_NAME=\"anomaly_detection_dense_unlabeled\"\n",
    "MODEL_VERSION=\"v1\"\n",
    "MODEL_LOCATION=$(gcloud storage ls gs://${BUCKET}/anomaly_detection/trained_model/dense_unlabeled/export/exporter/ | tail -1)\n",    "echo \"Deleting and deploying $MODEL_NAME $MODEL_VERSION from $MODEL_LOCATION ... this will take a few minutes\"\n",
    "#gcloud ml-engine versions delete ${MODEL_VERSION} --model ${MODEL_NAME}\n",
    "#gcloud ml-engine models delete ${MODEL_NAME}\n",
    "gcloud ml-engine models create ${MODEL_NAME} --regions ${REGION}\n",
    "gcloud ml-engine versions create ${MODEL_VERSION} --model ${MODEL_NAME} --origin ${MODEL_LOCATION} --runtime-version ${TFVERSION}"
   ]
  },
  {
   "cell_type": "markdown",
   "metadata": {},
   "source": [
    "### LSTM Autoencoder"
   ]
  },
  {
   "cell_type": "code",
   "execution_count": null,
   "metadata": {},
   "outputs": [],
   "source": [
    "%%bash\n",
    "MODEL_NAME=\"anomaly_detection_lstm_unlabeled\"\n",
    "MODEL_VERSION=\"v1\"\n",
    "MODEL_LOCATION=$(gcloud storage ls gs://${BUCKET}/anomaly_detection/trained_model/lstm_unlabeled/export/exporter/ | tail -1)\n",    "echo \"Deleting and deploying $MODEL_NAME $MODEL_VERSION from $MODEL_LOCATION ... this will take a few minutes\"\n",
    "#gcloud ml-engine versions delete ${MODEL_VERSION} --model ${MODEL_NAME}\n",
    "#gcloud ml-engine models delete ${MODEL_NAME}\n",
    "gcloud ml-engine models create ${MODEL_NAME} --regions ${REGION}\n",
    "gcloud ml-engine versions create ${MODEL_VERSION} --model ${MODEL_NAME} --origin ${MODEL_LOCATION} --runtime-version ${TFVERSION}"
   ]
  },
  {
   "cell_type": "markdown",
   "metadata": {},
   "source": [
    "### PCA Autoencoder"
   ]
  },
  {
   "cell_type": "code",
   "execution_count": null,
   "metadata": {},
   "outputs": [],
   "source": [
    "%%bash\n",
    "MODEL_NAME=\"anomaly_detection_pca_unlabeled\"\n",
    "MODEL_VERSION=\"v1\"\n",
    "MODEL_LOCATION=$(gcloud storage ls gs://${BUCKET}/anomaly_detection/trained_model/pca_unlabeled/export/exporter/ | tail -1)\n",    "echo \"Deleting and deploying $MODEL_NAME $MODEL_VERSION from $MODEL_LOCATION ... this will take a few minutes\"\n",
    "#gcloud ml-engine versions delete ${MODEL_VERSION} --model ${MODEL_NAME}\n",
    "#gcloud ml-engine models delete ${MODEL_NAME}\n",
    "gcloud ml-engine models create ${MODEL_NAME} --regions ${REGION}\n",
    "gcloud ml-engine versions create ${MODEL_VERSION} --model ${MODEL_NAME} --origin ${MODEL_LOCATION} --runtime-version ${TFVERSION}"
   ]
  },
  {
   "cell_type": "markdown",
   "metadata": {},
   "source": [
    "## Prediction"
   ]
  },
  {
   "cell_type": "code",
   "execution_count": 29,
   "metadata": {},
   "outputs": [],
   "source": [
    "UNLABELED_CSV_COLUMNS = [\"tag_{0}\".format(tag) for tag in range(0, 5)]"
   ]
  },
  {
   "cell_type": "code",
   "execution_count": 30,
   "metadata": {},
   "outputs": [
    {
     "name": "stdout",
     "output_type": "stream",
     "text": [
      "unlabeled_test_mixed_sequences_array.shape = (12800, 5)\n"
     ]
    }
   ],
   "source": [
    "import numpy as np\n",
    "unlabeled_test_mixed_sequences_array = np.loadtxt(\n",
    "    fname=\"data/unlabeled_test_mixed_seq.csv\", dtype=str, delimiter=\",\")\n",
    "print(\"unlabeled_test_mixed_sequences_array.shape = {}\".format(\n",
    "    unlabeled_test_mixed_sequences_array.shape))"
   ]
  },
  {
   "cell_type": "code",
   "execution_count": 31,
   "metadata": {},
   "outputs": [
    {
     "name": "stdout",
     "output_type": "stream",
     "text": [
      "labels = ['0.10912429;1.21779374;1.52916082;-0.177806;-0.54337799;0.44055714;1.27923318;1.18207574;-0.84995686;0.08906497;0.65940998;1.61871863;0.81842511;-0.96566587;-0.60382206;1.69003285;1.66798859;0.31696774;-0.408903;-0.25624363;1.39733346;1.38432466;-0.19920215;-0.79272972;0.38229627;1.13707338;1.69781059;0.19309917;-0.97771496;0.44386982'\n",
      " '0.14320316;1.29770315;1.07947085;-0.1310581;-0.3940327;1.23110166;1.25224647;0.83662982;-0.94877962;-0.00280088;0.60816257;1.16871775;0.67355164;-0.33326375;-0.16736942;0.78481252;1.17160361;0.34967432;-0.97550557;0.52889076;1.63690058;1.67796765;-0.1170558;-0.95527216;0.50201129;1.89823695;1.12541774;0.27771255;-0.11889077;0.54388248'\n",
      " '0.92380376;1.1275517;0.68680086;-0.65989216;-0.65966357;1.13504582;1.71752066;1.16837965;-0.71586137;-0.13441075;1.14169827;1.99655389;0.69922314;-0.6801096;0.29903466;1.68053185;1.2336307;0.32646373;-1.03204426;-0.33344275;1.11825307;26.42256512;-7.4768817;6.55099231;-1.56550118;23.40616989;-12.96872267;0.5533737;3.96783856;3.01739029'\n",
      " '0.57473342;1.14567792;0.76228677;-0.52907114;-0.68788196;0.32984607;2.00630745;0.64677117;-0.69549809;-0.65562508;0.65211815;1.63234544;0.27237479;-0.88844836;-0.55278754;0.9332511;1.30141274;0.36581009;-0.43250124;0.46858911;0.97705268;1.9008542;-0.14739552;-0.32990692;0.53638701;1.03819819;0.92842024;0.00824748;-0.73914075;0.39245204'\n",
      " '0.21639525;1.29097127;0.724104;-0.61433765;-0.00680535;0.92093701;1.87805548;0.80229314;-0.14227465;-0.10884144;0.92188529;2.05525766;0.65663376;-0.2425855;-0.24612095;0.9582669;1.15462945;0.26062798;-1.01275174;-0.06147401;1.67518222;1.49463349;-0.3449311;-0.70891745;0.2578082;1.50897842;1.26550938;-0.07863006;-0.69447811;1.00209485'\n",
      " '0.07684221;1.43927545;0.7009711;-0.67108844;-0.27681638;0.77290783;1.64031508;0.7206991;-0.570293;-0.05605199;0.57439664;1.31988135;0.31988395;-1.06125243;-0.5133299;1.17022203;1.3979644;0.15867121;-0.3304164;0.10197166;1.76667587;-22.26722639;-4.35478848;-11.86683088;-0.23064614;-10.9364861;10.47263779;3.58262026;-2.89953151;-9.82481352'\n",
      " '0.71816782;1.93279224;1.1308937;-0.76595683;-0.06663918;1.24122717;1.91919796;0.44800218;-0.12060529;-0.06574122;0.98898873;1.38518081;0.17085414;-0.23837417;-0.0814766;1.02935793;1.43180106;0.65021482;-0.41917392;-0.34275552;0.93253301;1.16802359;-0.39598329;-0.65709446;-0.12743336;1.40998721;1.29330737;-0.25137872;-0.2269882;0.09304095'\n",
      " '0.85844291;1.20242051;1.22971499;-0.68325236;-0.68442464;0.499797;1.27085339;1.03038335;-0.48198528;-0.79360583;1.11030659;1.34817054;0.13874612;-0.67617502;0.3399162;1.30852939;1.72673467;0.73408344;-0.36569274;0.39278922;1.89621852;21.87142178;1.25477499;1.88732616;8.75886641;-17.98581112;-16.83071132;0.22739148;13.99363541;12.16146561'\n",
      " '0.31762637;1.3804855;0.74013553;0.08044917;-0.42999489;1.02955808;2.10122827;1.19921475;-0.45532116;-0.05713612;0.79972361;1.44591912;0.10363462;-0.42901693;-0.50389135;1.38943358;1.09777739;0.24972303;-1.02435044;-0.35454585;1.73304027;1.38327166;0.33709665;-1.07568816;0.35512227;1.87887447;0.73001908;0.0153715;-0.08519375;0.34442849'\n",
      " '0.73287365;1.36180986;1.43065531;-0.10370082;-0.4443194;0.34385391;1.68280177;0.58334118;-0.19710264;-0.20602948;1.46444107;1.52896532;0.72828249;-0.2093811;-0.14278271;1.30636694;1.33975716;-0.06555973;-0.6946629;0.42337979;1.78894264;-26.2773364;-2.52555829;-17.74821318;2.91317954;24.31799318;-10.33218681;6.86935028;3.68243741;18.87684323']\n"
     ]
    }
   ],
   "source": [
    "number_of_prediction_instances = 10\n",
    "print(\"labels = {}\".format(\n",
    "  unlabeled_test_mixed_sequences_array[0:number_of_prediction_instances, -1]))"
   ]
  },
  {
   "cell_type": "markdown",
   "metadata": {},
   "source": [
    "### GCloud ML-Engine prediction from deployed model"
   ]
  },
  {
   "cell_type": "code",
   "execution_count": 32,
   "metadata": {},
   "outputs": [],
   "source": [
    "test_data_normal_string_list = unlabeled_test_mixed_sequences_array.tolist()[0:number_of_prediction_instances]"
   ]
  },
  {
   "cell_type": "code",
   "execution_count": 33,
   "metadata": {},
   "outputs": [],
   "source": [
    "# Format dataframe to instances list to get sent to ML-Engine\n",
    "instances = [{UNLABELED_CSV_COLUMNS[i]: example[i]\n",
    "              for i in range(len(UNLABELED_CSV_COLUMNS))} \n",
    "             for example in unlabeled_test_mixed_sequences_array.tolist()[0:number_of_prediction_instances]]"
   ]
  },
  {
   "cell_type": "code",
   "execution_count": 34,
   "metadata": {},
   "outputs": [
    {
     "data": {
      "text/plain": [
       "[{'tag_0': '0.08630851;2.37045866;1.20743555;-1.14710842;-0.48609804;1.50719389;2.19601683;0.10701992;-1.24018965;-0.19057113;1.8352755;1.752288;-0.68841143;-1.25716387;0.38385502;2.6536265;0.79187743;-1.04243811;-0.52800537;1.76135306;2.42560225;0.47596221;-0.93880634;0.34620397;1.77331762;1.74868177;-0.03435227;-0.88146609;0.34844452;2.28759207',\n",
       "  'tag_1': '0.01710703;1.43010645;-0.40862645;0.54163604;2.06510263;-0.00407659;-0.12560559;1.91115068;0.08341453;-0.99214653;1.59915954;0.90426161;-1.14516381;0.92210796;0.52287498;-0.74294574;0.70845168;1.03833225;-0.4001544;0.95978758;1.08263277;-0.31584913;0.00862613;1.30877146;-0.22048323;-0.24728125;1.4809888;-0.20183649;-0.16185678;1.24482918',\n",
       "  'tag_2': '0.94729535;2.04044194;1.47843099;0.16625841;-0.75320741;-0.41766578;1.258229;1.52247393;0.72566737;-0.61741024;-0.55178713;0.43867216;1.09453834;1.59920523;0.34086948;-0.8572519;-0.9924474;0.89896643;1.69688929;1.0605381;-0.45109315;-0.96045705;-0.59540668;1.24977148;2.10291277;0.88623454;-0.87614424;-0.54596172;0.32117828;1.82773091',\n",
       "  'tag_3': '0.39874107;2.00116413;0.31937228;-0.16407445;1.40468418;0.85744544;-0.96783301;0.09800176;1.56246727;0.24066002;-0.20638952;1.49479056;0.8453935;-0.65794037;0.81768388;1.53697035;-0.60762906;-0.41178175;1.97426229;1.27885467;-0.99065918;0.75421874;2.28180555;-0.0776754;-0.52754049;2.00615088;0.92636092;-1.06403935;0.65159031;2.25599744',\n",
       "  'tag_4': '0.10912429;1.21779374;1.52916082;-0.177806;-0.54337799;0.44055714;1.27923318;1.18207574;-0.84995686;0.08906497;0.65940998;1.61871863;0.81842511;-0.96566587;-0.60382206;1.69003285;1.66798859;0.31696774;-0.408903;-0.25624363;1.39733346;1.38432466;-0.19920215;-0.79272972;0.38229627;1.13707338;1.69781059;0.19309917;-0.97771496;0.44386982'},\n",
       " {'tag_0': '0.33326098;1.85213809;0.9367061;-0.70338119;-1.04182581;1.76439127;2.36971889;0.02464679;-1.33960764;0.03777979;2.43879841;2.07333333;-0.63452483;-0.80411878;0.68186144;2.09670113;0.71299439;-1.27104652;-0.93329058;1.77084673;1.75081246;-0.12435358;-1.22616821;-0.14038669;1.9363168;1.57056515;-0.93900226;-1.15834962;1.15378587;1.90757666',\n",
       "  'tag_1': '0.69319743;1.99742394;-0.34534823;-0.18763758;1.98480288;0.04597313;-0.60822359;2.07220695;0.58939806;-0.50059845;1.30255595;0.29817767;-0.66609921;1.75415711;1.18993307;-0.82581176;0.65695489;1.58478922;-1.12820328;0.37838228;1.41823725;-0.80229066;-0.10926555;1.55461754;-0.40455603;-0.35484316;1.67598159;0.20869392;-0.4338172;1.67318093',\n",
       "  'tag_2': '0.01836919;2.10079674;1.45575831;0.4292372;-1.18797205;-0.80021461;0.8894862;1.75786206;1.46853713;-0.02519642;-0.9383983;0.12175777;1.4568485;1.43912591;0.9491389;-1.20018373;-0.35509279;0.95545257;2.21985516;1.78304166;-0.13381787;-0.64774564;-0.23528506;1.2975945;2.208059;0.63649609;-0.68651097;-0.76814667;0.51465272;1.5418206',\n",
       "  'tag_3': '0.34392828;2.22022254;-0.62486174;-0.64590716;1.6803571;0.75811967;-1.26129641;0.88613567;1.55815841;-0.2753162;-0.69940586;1.89796118;1.53808388;-1.39588061;0.46195093;2.09925021;-0.23745644;-0.79142007;1.28753278;0.76307192;-0.45385005;0.92661575;1.42590031;-0.69073748;-0.85690587;1.28799933;0.49766533;-0.98356903;0.32941458;1.87212755',\n",
       "  'tag_4': '0.14320316;1.29770315;1.07947085;-0.1310581;-0.3940327;1.23110166;1.25224647;0.83662982;-0.94877962;-0.00280088;0.60816257;1.16871775;0.67355164;-0.33326375;-0.16736942;0.78481252;1.17160361;0.34967432;-0.97550557;0.52889076;1.63690058;1.67796765;-0.1170558;-0.95527216;0.50201129;1.89823695;1.12541774;0.27771255;-0.11889077;0.54388248'},\n",
       " {'tag_0': '0.73445717;2.72353904;0.88211537;-1.32664507;-0.5210361;1.29496037;1.90929892;0.4232938;-0.80236621;-0.70083891;1.52373953;1.83750916;-0.3666452;-1.5214794;0.98290438;2.48461036;0.96254537;-1.21225544;-0.93638252;1.11062498;2.34966482;-0.35560748;23.20449342;3.8036013;-25.57941473;-15.92919286;-15.76944922;-14.0063463;5.42956756;19.74947804',\n",
       "  'tag_1': '0.19593637;1.76879507;-0.83715153;0.59350303;1.63039714;0.18211453;0.17978823;2.12240027;0.19751445;-0.36542212;1.57107445;0.9932112;-0.53727715;0.91906189;0.53024939;-0.77351041;0.6343829;1.34788263;-0.53486089;0.99252583;1.70572377;5.34229905;-1.93771172;24.33740572;3.09886769;5.4089372;22.0932672;-5.37011838;11.2843526;15.25303853',\n",
       "  'tag_2': '0.75526572;1.66106826;2.08408904;0.52117267;-0.46353711;-0.66013605;1.15982625;1.64075277;1.28945757;-0.19133592;-0.65200834;0.4360381;1.88170736;2.01106892;1.0584947;-0.78742361;-0.76440265;0.74252922;1.94999506;1.95534266;-0.42487493;11.34676376;-8.75499856;13.73333075;30.43334572;16.02409734;-12.42682254;-17.83573912;3.73843064;17.66327856',\n",
       "  'tag_3': '0.10518585;1.97269593;0.05511016;-0.36149535;1.3647047;1.4665965;-0.98610863;0.72499472;2.19375337;-0.48821122;-0.56973544;1.2726906;0.59708671;-1.14598304;0.17213327;1.78199422;0.17972115;-0.81727977;2.15765594;1.30375861;-0.76766416;-4.5207422;-38.77923254;-0.25832894;12.26882665;19.72439461;16.23403127;7.62880641;4.28571629;-17.2711947',\n",
       "  'tag_4': '0.92380376;1.1275517;0.68680086;-0.65989216;-0.65966357;1.13504582;1.71752066;1.16837965;-0.71586137;-0.13441075;1.14169827;1.99655389;0.69922314;-0.6801096;0.29903466;1.68053185;1.2336307;0.32646373;-1.03204426;-0.33344275;1.11825307;26.42256512;-7.4768817;6.55099231;-1.56550118;23.40616989;-12.96872267;0.5533737;3.96783856;3.01739029'},\n",
       " {'tag_0': '0.82922283;1.93741843;1.49492381;-0.84450981;-0.99175216;1.20327578;2.50783232;0.74062725;-0.97837255;-0.1600501;2.07475931;2.11854126;-0.8516401;-1.63834829;0.38282412;2.66203786;1.09576432;-0.93283521;-0.70167395;1.6087528;2.27045246;0.22035135;-1.34514546;0.25842238;1.84306938;1.61957121;-0.64942144;-1.65355856;1.02095443;2.29193653',\n",
       "  'tag_1': '0.03141424;1.87318302;-0.75120973;0.37567858;1.79430594;0.24884296;-0.3549795;2.03170349;0.3524101;-0.12704528;1.41145559;0.78698945;-0.79337177;1.22171682;0.75325722;-0.63854466;0.86144481;1.80888452;-0.57026325;0.41910896;1.94140258;-0.54408244;0.39212857;2.05022252;0.14915739;0.12620143;2.06180843;0.01903747;-0.65691172;1.38681956',\n",
       "  'tag_2': '0.8769017;1.92795571;1.34776236;0.2965219;-0.83390422;-0.22458234;1.54375522;1.40369793;1.46911887;-0.32129543;-1.04940981;-0.05921177;1.49446773;1.87888029;1.08123109;-1.18643694;-1.03703208;1.10419775;1.64290886;1.55647337;0.31549323;-0.70443465;-0.64984686;1.40289051;1.41239503;0.66957773;-0.40790381;-1.20435453;0.51918987;1.77076249',\n",
       "  'tag_3': '0.74079055;1.98100402;-0.42935497;-0.60234479;1.35627275;1.13012176;-0.97505105;0.31526484;1.80576032;0.25040035;-0.87448263;1.46366832;0.96609291;-1.08672155;0.6199302;1.48714591;-0.48262486;-0.14518067;1.74607215;0.8593231;-0.68618833;0.95924103;1.53021779;-0.05102364;-0.30358979;1.73928984;1.28427223;-1.37103933;0.64565625;1.8640818',\n",
       "  'tag_4': '0.57473342;1.14567792;0.76228677;-0.52907114;-0.68788196;0.32984607;2.00630745;0.64677117;-0.69549809;-0.65562508;0.65211815;1.63234544;0.27237479;-0.88844836;-0.55278754;0.9332511;1.30141274;0.36581009;-0.43250124;0.46858911;0.97705268;1.9008542;-0.14739552;-0.32990692;0.53638701;1.03819819;0.92842024;0.00824748;-0.73914075;0.39245204'},\n",
       " {'tag_0': '0.00395872;2.60235251;1.5949603;-0.71084193;-1.33850556;1.31221383;2.1709366;0.02467309;-1.06122985;-0.59989862;2.18405289;1.52798934;-0.00668257;-1.51419615;0.38615404;1.88242164;1.67594433;-1.16729733;-0.51237519;1.17367911;2.48567458;0.40346433;-1.73140114;0.13266756;2.49172216;2.0067257;-0.86826965;-1.45925123;0.56729308;2.35972169',\n",
       "  'tag_1': '0.17322761;1.26088587;-0.44106297;0.08205769;1.87909407;-0.04154736;0.20789049;1.44724909;0.46116592;-0.5750887;1.11220246;1.0131389;-0.66804451;1.75556884;0.62338149;-0.39225775;0.6553524;0.87031166;-1.02781636;1.13821784;1.50961073;-0.41324001;0.09332299;1.43290083;-0.60220055;0.17632098;1.73060641;0.11357086;-0.29357654;1.72154401',\n",
       "  'tag_2': '0.26589048;1.40844799;1.67682136;-0.03902525;-0.81559788;-0.74917911;0.80962982;1.58878076;1.48562317;-0.19949458;-0.81230424;-0.30197958;1.93347315;2.21363113;0.28217837;-1.0483017;-0.93107819;0.36755138;1.44745005;1.21499395;0.08662917;-1.09115891;-0.4442448;0.93969392;1.7698406;0.4989453;-0.61616411;-1.05891473;0.59688692;1.47360871',\n",
       "  'tag_3': '0.19148424;2.06885428;-0.29010287;-0.1467994;1.65619133;0.59808712;-1.28491792;0.11253167;1.63342552;-0.40367216;-0.14003887;1.78758198;1.40968721;-0.98866213;1.05421333;1.74642712;-0.4191681;-0.62040339;1.7590535;1.44448295;-1.06671911;0.16977676;1.42139252;0.22087214;-0.19544175;2.20376187;1.27066737;-0.82935885;1.16824215;2.23016063',\n",
       "  'tag_4': '0.21639525;1.29097127;0.724104;-0.61433765;-0.00680535;0.92093701;1.87805548;0.80229314;-0.14227465;-0.10884144;0.92188529;2.05525766;0.65663376;-0.2425855;-0.24612095;0.9582669;1.15462945;0.26062798;-1.01275174;-0.06147401;1.67518222;1.49463349;-0.3449311;-0.70891745;0.2578082;1.50897842;1.26550938;-0.07863006;-0.69447811;1.00209485'},\n",
       " {'tag_0': '0.04198157;2.40464693;0.83422681;-1.28655387;-0.4486482;0.90924833;2.00919569;0.35177161;-1.19195108;0.07913664;1.69191395;2.27105765;-0.82989558;-1.32748633;0.96047968;2.07146584;1.30113328;-1.13774912;-0.92650173;0.96896607;2.2479503;-2.99136024;-10.37769835;-0.09257541;28.04971053;16.90729127;-13.01427036;-19.99435482;4.82956485;-30.00292139',\n",
       "  'tag_1': '0.5445968;1.93855543;-0.79309737;0.19743954;1.62495129;0.2170903;-0.72407506;1.68839448;0.1620954;-0.05562843;1.51895767;0.31144909;-0.80047731;1.48580891;0.69011396;-0.30338762;1.2909128;1.59033414;-0.58210036;0.97229196;1.27090013;-1.88694647;8.8323189;-33.82369936;9.37830517;-0.65613327;24.39548948;6.06445066;4.18754522;20.00937916',\n",
       "  'tag_2': '0.74713393;1.64342955;1.87344957;0.64392896;-0.60540843;-0.26079101;0.60141338;1.95012321;0.80444699;-0.45761676;-0.91015551;0.14063373;1.79404715;2.14000609;0.09987011;-0.9679956;-0.89017087;0.87491112;1.96371061;1.85660303;0.4351123;20.41215846;-7.96100284;-11.15526335;-25.47050852;-16.73292722;1.65518979;-18.29737582;15.43341168;-14.57786136',\n",
       "  'tag_3': '0.41999368;2.35518789;-0.25778947;-0.80550182;1.26143821;1.1320193;-0.54196054;0.73724908;1.76571016;-0.08080697;-0.646462;1.96670358;1.00162974;-0.45770954;0.105134;2.32310232;-0.19204034;-0.37593684;2.18621105;1.2904411;-0.89710548;-3.32734437;37.6425341;-3.56347617;7.42552103;21.61633275;15.20761755;-16.44548885;17.51024662;-18.23183368',\n",
       "  'tag_4': '0.07684221;1.43927545;0.7009711;-0.67108844;-0.27681638;0.77290783;1.64031508;0.7206991;-0.570293;-0.05605199;0.57439664;1.31988135;0.31988395;-1.06125243;-0.5133299;1.17022203;1.3979644;0.15867121;-0.3304164;0.10197166;1.76667587;-22.26722639;-4.35478848;-11.86683088;-0.23064614;-10.9364861;10.47263779;3.58262026;-2.89953151;-9.82481352'},\n",
       " {'tag_0': '0.26843148;2.26033987;1.46649872;-1.18559026;-1.01489562;1.34284786;1.81892725;0.62455093;-1.09421145;-0.22209055;2.135944;1.63843107;-0.54887201;-1.19015976;1.02346538;2.36435974;1.15563113;-1.33679828;-1.19139794;1.39472245;2.28870725;0.47593012;-1.64843334;0.17878788;1.69174971;2.24072223;-0.35276955;-0.91466379;0.42032311;2.22452248',\n",
       "  'tag_1': '0.0129413;1.25257419;-0.63354585;0.14772502;1.98985502;0.20805635;-0.15564056;2.02559049;0.63256353;-0.60072758;1.64876388;0.71485497;-0.61395614;1.57488881;1.39285713;-1.0018011;0.76538498;0.85770778;-0.29570332;0.59699765;1.29575314;-0.42318787;0.59362552;1.27317238;-0.1596227;-0.1570993;1.28972811;-0.1626878;0.04428588;1.45567135',\n",
       "  'tag_2': '0.84167842;1.41036038;1.8918916;0.45974852;-0.7343536;0.00460531;1.55599581;2.16319655;1.52948075;-0.27410036;-1.19466723;0.26222559;1.44656176;1.54485897;0.93423596;-0.67878524;-0.47525442;0.56632129;1.41027762;0.97055232;0.48786689;-1.20517916;-0.02615132;0.81730794;1.45372776;0.77646932;-0.16390073;-0.3935256;0.80687563;1.25003549',\n",
       "  'tag_3': '0.51668829;1.48923535;-0.4130304;-0.8569307;1.67864363;0.96157018;-0.44961473;0.95740493;1.51357334;-0.52634693;-0.48855733;1.82967798;0.64401769;-0.88344649;0.43085387;1.57572669;-0.28971486;-0.68328878;1.90457909;1.08835561;-0.46744631;0.624297;1.44398575;-0.3663162;-0.74575323;2.149788;1.37136336;-0.48076731;0.2749356;1.61791733',\n",
       "  'tag_4': '0.71816782;1.93279224;1.1308937;-0.76595683;-0.06663918;1.24122717;1.91919796;0.44800218;-0.12060529;-0.06574122;0.98898873;1.38518081;0.17085414;-0.23837417;-0.0814766;1.02935793;1.43180106;0.65021482;-0.41917392;-0.34275552;0.93253301;1.16802359;-0.39598329;-0.65709446;-0.12743336;1.40998721;1.29330737;-0.25137872;-0.2269882;0.09304095'},\n",
       " {'tag_0': '0.89180226;2.31624275;1.42900981;-1.18392361;-1.25722046;0.95304286;2.76033728;0.69800503;-1.45664554;-0.22755546;2.39072737;2.10810524;-0.8478035;-1.46539578;0.51741038;2.47064072;1.05393861;-1.17411598;-1.19996648;0.97610328;2.56799413;-3.543338;-15.18411178;-3.72931002;26.25904703;35.6764447;-8.55514354;22.60172941;-18.2564907;30.39933748',\n",
       "  'tag_1': '0.84318528;1.86597104;-0.21976836;0.09125206;1.8176748;0.08197284;-0.16188409;1.84861597;0.60879015;-0.4849663;1.82883446;1.10875741;-0.51875078;1.56315002;1.01035818;-0.50342552;0.93220307;1.80177097;-0.89111713;0.77078174;1.21356016;-17.63090091;1.72919318;-20.90292918;6.32788852;-1.52999812;21.00848186;-0.96300052;3.85340831;-30.4646747',\n",
       "  'tag_2': '0.8540975;1.90076489;1.55675081;0.05960444;-1.12935042;-0.61829833;0.74441137;2.06917428;1.56569194;-0.24322329;-0.3942758;0.21063404;1.45739488;1.6837368;0.14842067;-0.51201288;-0.90351649;1.08800035;2.26679095;1.80498611;0.45884521;-4.36797955;-10.5543302;-12.8227163;-23.6433477;-23.95030157;-7.97897494;11.24913645;9.45412606;26.01480599',\n",
       "  'tag_3': '0.83445521;1.56656846;-0.1175664;-0.24832165;1.76970234;1.25819298;-0.73492293;0.56792263;1.74924589;-0.5440741;-0.76928938;1.53635771;0.90918041;-0.50749604;0.72920564;1.90364445;-0.49282908;-0.28137251;1.76892769;1.44923507;-1.12993775;-20.63993453;37.50970576;-9.2109456;-10.80014883;14.86353444;-8.10343951;19.41943538;-4.3992938;-43.59556627',\n",
       "  'tag_4': '0.85844291;1.20242051;1.22971499;-0.68325236;-0.68442464;0.499797;1.27085339;1.03038335;-0.48198528;-0.79360583;1.11030659;1.34817054;0.13874612;-0.67617502;0.3399162;1.30852939;1.72673467;0.73408344;-0.36569274;0.39278922;1.89621852;21.87142178;1.25477499;1.88732616;8.75886641;-17.98581112;-16.83071132;0.22739148;13.99363541;12.16146561'},\n",
       " {'tag_0': '0.15337954;2.01708229;0.93291083;-0.79588847;-1.33391811;1.63407951;1.78791304;0.29064493;-0.9693213;0.10825243;2.04250757;2.29730801;-0.299841;-0.81875728;0.59409408;1.88104282;1.35365175;-0.90467911;-0.54092312;1.46684523;2.45530682;0.24984035;-1.17295784;0.23211731;1.64433242;1.951103;-0.37166115;-0.76779075;0.53672622;2.50630976',\n",
       "  'tag_1': '0.36430147;1.42140005;-0.15052786;0.36975754;1.37599528;-0.56632877;0.16482797;2.14542972;0.51511198;-0.85607982;1.36853124;0.53237315;-0.33560107;1.76377169;1.02266286;-0.51965387;0.93491768;0.82101721;-0.4511027;1.034781;1.52995214;-0.07021636;0.38759908;1.93082931;-0.0797287;0.11664255;1.73262589;-0.163324;-0.52521025;2.15850457',\n",
       "  'tag_2': '0.15909093;2.18877796;1.74357021;0.15424528;-1.14390818;-0.89461909;1.26173858;1.52397546;0.76956137;-0.70301387;-1.1953103;-0.29794095;1.82918778;1.45365066;0.66730892;-1.01679012;-0.3992378;1.13579279;1.44196465;1.51803771;0.21883592;-1.10407414;0.24003135;1.21265229;1.61535209;1.15981526;-0.57104637;-1.06882048;0.07114742;1.23608828',\n",
       "  'tag_3': '0.57958877;2.18701699;-0.01000531;-0.91034762;2.00516971;1.15890536;-0.49372638;0.52346325;2.2807258;-0.17254453;-0.8618773;1.62107646;0.69358897;-0.90358565;0.59307121;1.90669763;-0.02578955;-0.53776964;1.53817706;0.88018757;-0.66633308;0.77500638;1.45668506;-0.04197625;-0.05076989;1.91579399;0.50196923;-0.42649724;0.72888643;2.0544927',\n",
       "  'tag_4': '0.31762637;1.3804855;0.74013553;0.08044917;-0.42999489;1.02955808;2.10122827;1.19921475;-0.45532116;-0.05713612;0.79972361;1.44591912;0.10363462;-0.42901693;-0.50389135;1.38943358;1.09777739;0.24972303;-1.02435044;-0.35454585;1.73304027;1.38327166;0.33709665;-1.07568816;0.35512227;1.87887447;0.73001908;0.0153715;-0.08519375;0.34442849'},\n",
       " {'tag_0': '0.52494651;2.30750074;1.52592016;-1.28765914;-0.81591585;1.27480322;1.80023474;0.12813667;-0.9588904;0.22382779;2.22792607;1.68425286;-0.618425;-0.87683118;0.8990627;1.88112075;1.61991296;-1.22260502;-0.93997002;1.28694876;2.60548031;4.3624207;24.94644676;-1.24718333;17.35034885;-20.55806175;-4.59469517;-23.94462942;18.12253272;-21.64123494',\n",
       "  'tag_1': '7.97585911e-01;1.99396499e+00;-7.17155657e-01;1.15317128e-01;1.64951952e+00;1.55436616e-01;-2.49192541e-02;1.81433677e+00;6.71708341e-01;-4.60809782e-01;1.55187570e+00;3.89952555e-01;-4.72604195e-01;1.36736002e+00;5.37757951e-01;-4.24087084e-01;9.20343717e-01;1.20216374e+00;-7.02039245e-01;5.39241649e-01;1.68714278e+00;5.28573827e+00;-2.97477523e+00;-1.57829490e+01;1.65446039e-02;5.86526980e+00;2.35283996e+01;1.89037649e+00;7.06652452e+00;2.07759464e+01',\n",
       "  'tag_2': '0.0467342;1.77271942;1.34497244;0.57707641;-0.52586821;-0.5344086;0.86836256;2.23263538;1.09425382;-0.4751886;-1.35479425;0.22175995;1.13938778;2.17824549;0.19398628;-0.92989908;-1.06901658;0.49728079;2.28369749;1.39656274;0.33204352;8.71794941;1.44131819;19.65151682;-14.89923527;7.48395208;-16.43244515;-8.05880455;10.50790228;-22.7910419',\n",
       "  'tag_3': '2.13427876e-02;2.32508471e+00;-4.59384633e-01;-4.22458958e-01;1.38039024e+00;6.99418951e-01;-1.23382263e+00;1.40739611e-01;1.63249803e+00;-6.12622905e-01;-9.77151444e-01;1.62989237e+00;1.48192450e+00;-9.10834620e-01;1.04040242e+00;2.10175371e+00;1.55115784e-01;-8.88797603e-01;1.32809313e+00;7.07054013e-01;-1.25020256e+00;-6.85292085e+00;2.87422910e+01;2.71030144e+00;-1.12449623e+01;-2.55364303e+01;-1.50690019e+01;-9.52970903e+00;-1.07568957e+01;-2.81648214e+01',\n",
       "  'tag_4': '0.73287365;1.36180986;1.43065531;-0.10370082;-0.4443194;0.34385391;1.68280177;0.58334118;-0.19710264;-0.20602948;1.46444107;1.52896532;0.72828249;-0.2093811;-0.14278271;1.30636694;1.33975716;-0.06555973;-0.6946629;0.42337979;1.78894264;-26.2773364;-2.52555829;-17.74821318;2.91317954;24.31799318;-10.33218681;6.86935028;3.68243741;18.87684323'}]"
      ]
     },
     "execution_count": 34,
     "metadata": {},
     "output_type": "execute_result"
    }
   ],
   "source": [
    "instances"
   ]
  },
  {
   "cell_type": "markdown",
   "metadata": {},
   "source": [
    "### Dense Autoencoder"
   ]
  },
  {
   "cell_type": "code",
   "execution_count": 35,
   "metadata": {},
   "outputs": [
    {
     "name": "stdout",
     "output_type": "stream",
     "text": [
      "response = {'predictions': [{'feat_anom_flags': 0, 'X_time_abs_recon_err': [[0.08630851, 0.01710703, 0.94729535, 0.39874107, 0.10912429], [2.37045866, 1.43010645, 2.04044194, 2.00116413, 1.21779374], [1.20743555, 0.40862645, 1.47843099, 0.31937228, 1.52916082], [1.14710842, 0.54163604, 0.16625841, 0.16407445, 0.177806], [0.48609804, 2.06510263, 0.75320741, 1.40468418, 0.54337799], [1.50719389, 0.00407659, 0.41766578, 0.85744544, 0.44055714], [2.19601683, 0.12560559, 1.258229, 0.96783301, 1.27923318], [0.10701992, 1.91115068, 1.52247393, 0.09800176, 1.18207574], [1.24018965, 0.08341453, 0.72566737, 1.56246727, 0.84995686], [0.19057113, 0.99214653, 0.61741024, 0.24066002, 0.08906497], [1.8352755, 1.59915954, 0.55178713, 0.20638952, 0.65940998], [1.752288, 0.90426161, 0.43867216, 1.49479056, 1.61871863], [0.68841143, 1.14516381, 1.09453834, 0.8453935, 0.81842511], [1.25716387, 0.92210796, 1.59920523, 0.65794037, 0.96566587], [0.38385502, 0.52287498, 0.34086948, 0.81768388, 0.60382206], [2.6536265, 0.74294574, 0.8572519, 1.53697035, 1.69003285], [0.79187743, 0.70845168, 0.9924474, 0.60762906, 1.66798859], [1.04243811, 1.03833225, 0.89896643, 0.41178175, 0.31696774], [0.52800537, 0.4001544, 1.69688929, 1.97426229, 0.408903], [1.76135306, 0.95978758, 1.0605381, 1.27885467, 0.25624363], [2.42560225, 1.08263277, 0.45109315, 0.99065918, 1.39733346], [0.47596221, 0.31584913, 0.96045705, 0.75421874, 1.38432466], [0.93880634, 0.00862613, 0.59540668, 2.28180555, 0.19920215], [0.34620397, 1.30877146, 1.24977148, 0.0776754, 0.79272972], [1.77331762, 0.22048323, 2.10291277, 0.52754049, 0.38229627], [1.74868177, 0.24728125, 0.88623454, 2.00615088, 1.13707338], [0.03435227, 1.4809888, 0.87614424, 0.92636092, 1.69781059], [0.88146609, 0.20183649, 0.54596172, 1.06403935, 0.19309917], [0.34844452, 0.16185678, 0.32117828, 0.65159031, 0.97771496], [2.28759207, 1.24482918, 1.82773091, 2.25599744, 0.44386982]], 'X_feat_abs_recon_err': [[0.08630851, 0.01710703, 0.94729535, 0.39874107, 0.10912429], [1.1109002508832155, 2.051252460883216, 1.4409169708832157, 1.4801947808832159, 2.263565170883216], [1.20743555, 0.40862645, 1.47843099, 0.31937228, 1.52916082], [1.14710842, 0.54163604, 0.16625841, 0.16407445, 0.177806], [0.48609804, 2.06510263, 0.75320741, 1.40468418, 0.54337799], [1.50719389, 0.00407659, 0.41766578, 0.85744544, 0.44055714], [2.19601683, 0.12560559, 1.258229, 0.96783301, 1.27923318], [0.10701992, 1.91115068, 1.52247393, 0.09800176, 1.18207574], [1.24018965, 0.08341453, 0.72566737, 1.56246727, 0.84995686], [0.19057113, 0.99214653, 0.61741024, 0.24066002, 0.08906497], [1.8352755, 1.59915954, 0.55178713, 0.20638952, 0.65940998], [0.814675580031285, 1.662701970031285, 2.1282914200312852, 1.0721730200312851, 0.9482449500312851], [0.68841143, 1.14516381, 1.09453834, 0.8453935, 0.81842511], [1.25716387, 0.92210796, 1.59920523, 0.65794037, 0.96566587], [0.38385502, 0.52287498, 0.34086948, 0.81768388, 0.60382206], [2.6536265, 0.74294574, 0.8572519, 1.53697035, 1.69003285], [0.42344399431480917, 0.5068697443148091, 2.207768824314809, 1.8229504843148092, 0.45266716568519083], [1.04243811, 1.03833225, 0.89896643, 0.41178175, 0.31696774], [0.52800537, 0.4001544, 1.69688929, 1.97426229, 0.408903], [1.76135306, 0.95978758, 1.0605381, 1.27885467, 0.25624363], [2.42560225, 1.08263277, 0.45109315, 0.99065918, 1.39733346], [0.47596221, 0.31584913, 0.96045705, 0.75421874, 1.38432466], [0.93880634, 0.00862613, 0.59540668, 2.28180555, 0.19920215], [0.34620397, 1.30877146, 1.24977148, 0.0776754, 0.79272972], [0.48902810383661466, 1.5047727461633853, 0.8186232538366147, 1.8118300061633854, 0.9019932461633854], [0.5568564018199862, 2.552819421819986, 1.419303631819986, 0.29938729181998625, 1.1684647918199862], [0.03435227, 1.4809888, 0.87614424, 0.92636092, 1.69781059], [0.88146609, 0.20183649, 0.54596172, 1.06403935, 0.19309917], [0.34844452, 0.16185678, 0.32117828, 0.65159031, 0.97771496], [0.8687900150757604, 1.9115529050757605, 1.3286511750757604, 0.9003846450757607, 2.7125122650757603]], 'time_anom_flags': 0, 'mahalanobis_dist_time': [2.2574079195336663, 2.538726311671477, 2.3700336127875357, 2.306220876455079, 2.6009521599744096, 1.8263691645254996, 2.0946082775238337, 2.8222924255428086, 1.627473991997512, 1.9473008520030153, 2.5938208744221836, 1.8212179667939432, 0.9267293346413995, 1.2746050685351866, 1.5514247535122159, 2.241164965505862, 2.1085078949563325, 1.372501103477942, 2.7913771259776863, 1.5578782410890875, 2.148145811914014, 2.1605799033908917, 2.965057870436724, 1.882885170468366, 2.7940599193963283, 1.9699933178281097, 2.988501611883947, 1.6170205148079984, 2.0145184423749622, 2.7360182774149977], 'mahalanobis_dist_feat': [5.034508479590055, 6.05542447510002, 4.800043735850576, 5.250499820044748, 5.563584592398922]}, {'feat_anom_flags': 0, 'X_time_abs_recon_err': [[0.33326098, 0.69319743, 0.01836919, 0.34392828, 0.14320316], [1.85213809, 1.99742394, 2.10079674, 2.22022254, 1.29770315], [0.9367061, 0.34534823, 1.45575831, 0.62486174, 1.07947085], [0.70338119, 0.18763758, 0.4292372, 0.64590716, 0.1310581], [1.04182581, 1.98480288, 1.18797205, 1.6803571, 0.3940327], [1.76439127, 0.04597313, 0.80021461, 0.75811967, 1.23110166], [2.36971889, 0.60822359, 0.8894862, 1.26129641, 1.25224647], [0.02464679, 2.07220695, 1.75786206, 0.88613567, 0.83662982], [1.33960764, 0.58939806, 1.46853713, 1.55815841, 0.94877962], [0.03777979, 0.50059845, 0.02519642, 0.2753162, 0.00280088], [2.43879841, 1.30255595, 0.9383983, 0.69940586, 0.60816257], [2.07333333, 0.29817767, 0.12175777, 1.89796118, 1.16871775], [0.63452483, 0.66609921, 1.4568485, 1.53808388, 0.67355164], [0.80411878, 1.75415711, 1.43912591, 1.39588061, 0.33326375], [0.68186144, 1.18993307, 0.9491389, 0.46195093, 0.16736942], [2.09670113, 0.82581176, 1.20018373, 2.09925021, 0.78481252], [0.71299439, 0.65695489, 0.35509279, 0.23745644, 1.17160361], [1.27104652, 1.58478922, 0.95545257, 0.79142007, 0.34967432], [0.93329058, 1.12820328, 2.21985516, 1.28753278, 0.97550557], [1.77084673, 0.37838228, 1.78304166, 0.76307192, 0.52889076], [1.75081246, 1.41823725, 0.13381787, 0.45385005, 1.63690058], [0.12435358, 0.80229066, 0.64774564, 0.92661575, 1.67796765], [1.22616821, 0.10926555, 0.23528506, 1.42590031, 0.1170558], [0.14038669, 1.55461754, 1.2975945, 0.69073748, 0.95527216], [1.9363168, 0.40455603, 2.208059, 0.85690587, 0.50201129], [1.57056515, 0.35484316, 0.63649609, 1.28799933, 1.89823695], [0.93900226, 1.67598159, 0.68651097, 0.49766533, 1.12541774], [1.15834962, 0.20869392, 0.76814667, 0.98356903, 0.27771255], [1.15378587, 0.4338172, 0.51465272, 0.32941458, 0.11889077], [1.90757666, 1.67318093, 1.5418206, 1.87212755, 0.54388248]], 'X_feat_abs_recon_err': [[0.33326098, 0.69319743, 0.01836919, 0.34392828, 0.14320316], [1.6292208208832157, 1.4839349708832157, 1.3805621708832159, 1.2611363708832157, 2.183655760883216], [0.9367061, 0.34534823, 1.45575831, 0.62486174, 1.07947085], [0.70338119, 0.18763758, 0.4292372, 0.64590716, 0.1310581], [1.04182581, 1.98480288, 1.18797205, 1.6803571, 0.3940327], [1.76439127, 0.04597313, 0.80021461, 0.75811967, 1.23110166], [2.36971889, 0.60822359, 0.8894862, 1.26129641, 1.25224647], [0.02464679, 2.07220695, 1.75786206, 0.88613567, 0.83662982], [1.33960764, 0.58939806, 1.46853713, 1.55815841, 0.94877962], [0.03777979, 0.50059845, 0.02519642, 0.2753162, 0.00280088], [2.43879841, 1.30255595, 0.9383983, 0.69940586, 0.60816257], [0.493630250031285, 2.2687859100312853, 2.4452058100312852, 0.6690024000312851, 1.398245830031285], [0.63452483, 0.66609921, 1.4568485, 1.53808388, 0.67355164], [0.80411878, 1.75415711, 1.43912591, 1.39588061, 0.33326375], [0.68186144, 1.18993307, 0.9491389, 0.46195093, 0.16736942], [2.09670113, 0.82581176, 1.20018373, 2.09925021, 0.78481252], [0.5023270343148092, 0.5583665343148092, 1.5704142143148092, 1.4527778643148093, 0.043717814314809145], [1.27104652, 1.58478922, 0.95545257, 0.79142007, 0.34967432], [0.93329058, 1.12820328, 2.21985516, 1.28753278, 0.97550557], [1.77084673, 0.37838228, 1.78304166, 0.76307192, 0.52889076], [1.75081246, 1.41823725, 0.13381787, 0.45385005, 1.63690058], [0.12435358, 0.80229066, 0.64774564, 0.92661575, 1.67796765], [1.22616821, 0.10926555, 0.23528506, 1.42590031, 0.1170558], [0.14038669, 1.55461754, 1.2975945, 0.69073748, 0.95527216], [0.6520272838366146, 1.6888455461633853, 0.9237694838366146, 2.1411953861633855, 0.7822782261633854], [0.7349730218199861, 2.6603813318199863, 1.669042081819986, 1.017538841819986, 0.40730122181998607], [0.93900226, 1.67598159, 0.68651097, 0.49766533, 1.12541774], [1.15834962, 0.20869392, 0.76814667, 0.98356903, 0.27771255], [1.15378587, 0.4338172, 0.51465272, 0.32941458, 0.11889077], [1.2488054250757605, 1.4832011550757604, 1.6145614850757604, 1.2842545350757604, 2.6124996050757607]], 'time_anom_flags': 0, 'mahalanobis_dist_time': [2.2069136837945, 3.0653379913999244, 1.7209936837622375, 1.7995690962268902, 2.4232172358803337, 1.842505897506388, 1.6806519125038477, 2.868579224377989, 1.3833683843337559, 2.476762140553051, 2.4814856377889987, 2.3096825160715877, 1.8058541458804072, 2.0580244308000992, 1.5397707909484317, 1.8977076972528713, 1.7992050011835345, 1.6577739074130293, 2.2778578843381223, 2.0439816928240058, 2.5487785781868655, 2.788717676843978, 2.1836515511886714, 2.0638005455640123, 2.6222021206964583, 2.311969974286836, 1.7447664765909117, 1.403058012478474, 1.9635217719195477, 2.237103465397887], 'mahalanobis_dist_feat': [6.021209694906913, 4.571940647315156, 4.981656457781357, 5.601252417477342, 6.075964168898259]}, {'feat_anom_flags': 0, 'X_time_abs_recon_err': [[0.73445717, 0.19593637, 0.75526572, 0.10518585, 0.92380376], [2.72353904, 1.76879507, 1.66106826, 1.97269593, 1.1275517], [0.88211537, 0.83715153, 2.08408904, 0.05511016, 0.68680086], [1.32664507, 0.59350303, 0.52117267, 0.36149535, 0.65989216], [0.5210361, 1.63039714, 0.46353711, 1.3647047, 0.65966357], [1.29496037, 0.18211453, 0.66013605, 1.4665965, 1.13504582], [1.90929892, 0.17978823, 1.15982625, 0.98610863, 1.71752066], [0.4232938, 2.12240027, 1.64075277, 0.72499472, 1.16837965], [0.80236621, 0.19751445, 1.28945757, 2.19375337, 0.71586137], [0.70083891, 0.36542212, 0.19133592, 0.48821122, 0.13441075], [1.52373953, 1.57107445, 0.65200834, 0.56973544, 1.14169827], [1.83750916, 0.9932112, 0.4360381, 1.2726906, 1.99655389], [0.3666452, 0.53727715, 1.88170736, 0.59708671, 0.69922314], [1.5214794, 0.91906189, 2.01106892, 1.14598304, 0.6801096], [0.98290438, 0.53024939, 1.0584947, 0.17213327, 0.29903466], [2.48461036, 0.77351041, 0.78742361, 1.78199422, 1.68053185], [0.96254537, 0.6343829, 0.76440265, 0.17972115, 1.2336307], [1.21225544, 1.34788263, 0.74252922, 0.81727977, 0.32646373], [0.93638252, 0.53486089, 1.94999506, 2.15765594, 1.03204426], [1.11062498, 0.99252583, 1.95534266, 1.30375861, 0.33344275], [2.34966482, 1.70572377, 0.42487493, 0.76766416, 1.11825307], [0.35560748, 5.34229905, 11.34676376, 4.5207422, 26.42256512], [23.20449342, 1.93771172, 8.75499856, 38.77923254, 7.4768817], [3.8036013, 24.33740572, 13.73333075, 0.25832894, 6.55099231], [25.57941473, 3.09886769, 30.43334572, 12.26882665, 1.56550118], [15.92919286, 5.4089372, 16.02409734, 19.72439461, 23.40616989], [15.76944922, 22.0932672, 12.42682254, 16.23403127, 12.96872267], [14.0063463, 5.37011838, 17.83573912, 7.62880641, 0.5533737], [5.42956756, 11.2843526, 3.73843064, 4.28571629, 3.96783856], [19.74947804, 15.25303853, 17.66327856, 17.2711947, 3.01739029]], 'X_feat_abs_recon_err': [[0.73445717, 0.19593637, 0.75526572, 0.10518585, 0.92380376], [0.7578198708832158, 1.7125638408832158, 1.8202906508832157, 1.5086629808832157, 2.3538072108832155], [0.88211537, 0.83715153, 2.08408904, 0.05511016, 0.68680086], [1.32664507, 0.59350303, 0.52117267, 0.36149535, 0.65989216], [0.5210361, 1.63039714, 0.46353711, 1.3647047, 0.65966357], [1.29496037, 0.18211453, 0.66013605, 1.4665965, 1.13504582], [1.90929892, 0.17978823, 1.15982625, 0.98610863, 1.71752066], [0.4232938, 2.12240027, 1.64075277, 0.72499472, 1.16837965], [0.80236621, 0.19751445, 1.28945757, 2.19375337, 0.71586137], [0.70083891, 0.36542212, 0.19133592, 0.48821122, 0.13441075], [1.52373953, 1.57107445, 0.65200834, 0.56973544, 1.14169827], [0.7294544200312851, 1.5737523800312851, 2.1309254800312853, 1.294272980031285, 0.5704096900312852], [0.3666452, 0.53727715, 1.88170736, 0.59708671, 0.69922314], [1.5214794, 0.91906189, 2.01106892, 1.14598304, 0.6801096], [0.98290438, 0.53024939, 1.0584947, 0.17213327, 0.29903466], [2.48461036, 0.77351041, 0.78742361, 1.78199422, 1.68053185], [0.2527760543148092, 0.5809385243148092, 1.979724074314809, 1.0356002743148092, 0.018309275685190807], [1.21225544, 1.34788263, 0.74252922, 0.81727977, 0.32646373], [0.93638252, 0.53486089, 1.94999506, 2.15765594, 1.03204426], [1.11062498, 0.99252583, 1.95534266, 1.30375861, 0.33344275], [2.34966482, 1.70572377, 0.42487493, 0.76766416, 1.11825307], [0.35560748, 5.34229905, 11.34676376, 4.5207422, 26.42256512], [23.20449342, 1.93771172, 8.75499856, 38.77923254, 7.4768817], [3.8036013, 24.33740572, 13.73333075, 0.25832894, 6.55099231], [26.863704246163387, 1.8145781738366147, 29.14905620383661, 10.984537133836614, 2.849790696163385], [18.234731031819987, 3.1033990281800135, 13.718559168180015, 17.418856438180015, 21.100631718180015], [15.76944922, 22.0932672, 12.42682254, 16.23403127, 12.96872267], [14.0063463, 5.37011838, 17.83573912, 7.62880641, 0.5533737], [5.42956756, 11.2843526, 3.73843064, 4.28571629, 3.96783856], [16.593095954924237, 12.096656444924239, 14.506896474924238, 20.427576785075757, 0.13899179507576065]], 'time_anom_flags': 1, 'mahalanobis_dist_time': [1.9158791074747854, 2.726061496728503, 2.4907365333674334, 1.4663559223546907, 2.1595789938563055, 1.575776977303892, 2.269802500055525, 2.6271367222682636, 2.737521076313007, 1.9541232136657372, 1.709374584277417, 2.323293663659498, 2.2310637941012557, 1.724100115127913, 1.705577585159717, 2.179144612971686, 1.707970413608959, 1.4668192370632713, 2.9608098339871685, 1.8530268408554504, 2.6459726368135272, 54.84496908952421, 61.673257737499185, 41.13406379708824, 56.38828598186966, 54.494847349779626, 46.922163050288844, 31.761830594947007, 18.287920433095945, 43.93527660577692], 'mahalanobis_dist_feat': [151.0573093936967, 120.979290409224, 148.35051609893105, 174.44027363470752, 121.77091796476716]}, {'feat_anom_flags': 0, 'X_time_abs_recon_err': [[0.82922283, 0.03141424, 0.8769017, 0.74079055, 0.57473342], [1.93741843, 1.87318302, 1.92795571, 1.98100402, 1.14567792], [1.49492381, 0.75120973, 1.34776236, 0.42935497, 0.76228677], [0.84450981, 0.37567858, 0.2965219, 0.60234479, 0.52907114], [0.99175216, 1.79430594, 0.83390422, 1.35627275, 0.68788196], [1.20327578, 0.24884296, 0.22458234, 1.13012176, 0.32984607], [2.50783232, 0.3549795, 1.54375522, 0.97505105, 2.00630745], [0.74062725, 2.03170349, 1.40369793, 0.31526484, 0.64677117], [0.97837255, 0.3524101, 1.46911887, 1.80576032, 0.69549809], [0.1600501, 0.12704528, 0.32129543, 0.25040035, 0.65562508], [2.07475931, 1.41145559, 1.04940981, 0.87448263, 0.65211815], [2.11854126, 0.78698945, 0.05921177, 1.46366832, 1.63234544], [0.8516401, 0.79337177, 1.49446773, 0.96609291, 0.27237479], [1.63834829, 1.22171682, 1.87888029, 1.08672155, 0.88844836], [0.38282412, 0.75325722, 1.08123109, 0.6199302, 0.55278754], [2.66203786, 0.63854466, 1.18643694, 1.48714591, 0.9332511], [1.09576432, 0.86144481, 1.03703208, 0.48262486, 1.30141274], [0.93283521, 1.80888452, 1.10419775, 0.14518067, 0.36581009], [0.70167395, 0.57026325, 1.64290886, 1.74607215, 0.43250124], [1.6087528, 0.41910896, 1.55647337, 0.8593231, 0.46858911], [2.27045246, 1.94140258, 0.31549323, 0.68618833, 0.97705268], [0.22035135, 0.54408244, 0.70443465, 0.95924103, 1.9008542], [1.34514546, 0.39212857, 0.64984686, 1.53021779, 0.14739552], [0.25842238, 2.05022252, 1.40289051, 0.05102364, 0.32990692], [1.84306938, 0.14915739, 1.41239503, 0.30358979, 0.53638701], [1.61957121, 0.12620143, 0.66957773, 1.73928984, 1.03819819], [0.64942144, 2.06180843, 0.40790381, 1.28427223, 0.92842024], [1.65355856, 0.01903747, 1.20435453, 1.37103933, 0.00824748], [1.02095443, 0.65691172, 0.51918987, 0.64565625, 0.73914075], [2.29193653, 1.38681956, 1.77076249, 1.8640818, 0.39245204]], 'X_feat_abs_recon_err': [[0.82922283, 0.03141424, 0.8769017, 0.74079055, 0.57473342], [1.5439404808832158, 1.6081758908832158, 1.5534032008832157, 1.5003548908832156, 2.3356809908832155], [1.49492381, 0.75120973, 1.34776236, 0.42935497, 0.76228677], [0.84450981, 0.37567858, 0.2965219, 0.60234479, 0.52907114], [0.99175216, 1.79430594, 0.83390422, 1.35627275, 0.68788196], [1.20327578, 0.24884296, 0.22458234, 1.13012176, 0.32984607], [2.50783232, 0.3549795, 1.54375522, 0.97505105, 2.00630745], [0.74062725, 2.03170349, 1.40369793, 0.31526484, 0.64677117], [0.97837255, 0.3524101, 1.46911887, 1.80576032, 0.69549809], [0.1600501, 0.12704528, 0.32129543, 0.25040035, 0.65562508], [2.07475931, 1.41145559, 1.04940981, 0.87448263, 0.65211815], [0.4484223200312849, 1.779974130031285, 2.626175350031285, 1.103295260031285, 0.9346181400312852], [0.8516401, 0.79337177, 1.49446773, 0.96609291, 0.27237479], [1.63834829, 1.22171682, 1.87888029, 1.08672155, 0.88844836], [0.38282412, 0.75325722, 1.08123109, 0.6199302, 0.55278754], [2.66203786, 0.63854466, 1.18643694, 1.48714591, 0.9332511], [0.11955710431480915, 0.3538766143148092, 2.252353504314809, 1.6979462843148092, 0.0860913156851908], [0.93283521, 1.80888452, 1.10419775, 0.14518067, 0.36581009], [0.70167395, 0.57026325, 1.64290886, 1.74607215, 0.43250124], [1.6087528, 0.41910896, 1.55647337, 0.8593231, 0.46858911], [2.27045246, 1.94140258, 0.31549323, 0.68618833, 0.97705268], [0.22035135, 0.54408244, 0.70443465, 0.95924103, 1.9008542], [1.34514546, 0.39212857, 0.64984686, 1.53021779, 0.14739552], [0.25842238, 2.05022252, 1.40289051, 0.05102364, 0.32990692], [0.5587798638366146, 1.1351321261633853, 0.12810551383661473, 1.5878793061633854, 0.7479025061633854], [0.6859669618199862, 2.179336741819986, 1.6359604418199862, 0.566248331819986, 1.2673399818199862], [0.64942144, 2.06180843, 0.40790381, 1.28427223, 0.92842024], [1.65355856, 0.01903747, 1.20435453, 1.37103933, 0.00824748], [1.02095443, 0.65691172, 0.51918987, 0.64565625, 0.73914075], [0.8644455550757604, 1.7695625250757605, 1.3856195950757604, 1.2923002850757606, 2.7639300450757602]], 'time_anom_flags': 0, 'mahalanobis_dist_time': [1.5016896738974685, 2.565274583799218, 1.4107029605290158, 1.4474714476443988, 1.8192981721800816, 1.7332533661006426, 2.9972308754493233, 2.2538281518516916, 2.0317241161339132, 2.1614088642307454, 1.838379315378941, 2.294896022377179, 1.322617113391134, 1.5585944684538582, 1.247555767552202, 2.0511756414625713, 1.3528447428415078, 2.252085852456639, 2.2054800932598217, 1.6200809388424346, 2.9983356511954855, 3.1352795557389155, 1.787747967045579, 2.703693655582458, 2.4244354980476066, 1.7666098837814677, 2.5836878223884243, 2.256117072063082, 0.9332224482048528, 2.5140716451933156], 'mahalanobis_dist_feat': [4.971277462440562, 5.218883786994823, 5.296465702022299, 4.364653889198196, 6.146703373619639]}, {'feat_anom_flags': 0, 'X_time_abs_recon_err': [[0.00395872, 0.17322761, 0.26589048, 0.19148424, 0.21639525], [2.60235251, 1.26088587, 1.40844799, 2.06885428, 1.29097127], [1.5949603, 0.44106297, 1.67682136, 0.29010287, 0.724104], [0.71084193, 0.08205769, 0.03902525, 0.1467994, 0.61433765], [1.33850556, 1.87909407, 0.81559788, 1.65619133, 0.00680535], [1.31221383, 0.04154736, 0.74917911, 0.59808712, 0.92093701], [2.1709366, 0.20789049, 0.80962982, 1.28491792, 1.87805548], [0.02467309, 1.44724909, 1.58878076, 0.11253167, 0.80229314], [1.06122985, 0.46116592, 1.48562317, 1.63342552, 0.14227465], [0.59989862, 0.5750887, 0.19949458, 0.40367216, 0.10884144], [2.18405289, 1.11220246, 0.81230424, 0.14003887, 0.92188529], [1.52798934, 1.0131389, 0.30197958, 1.78758198, 2.05525766], [0.00668257, 0.66804451, 1.93347315, 1.40968721, 0.65663376], [1.51419615, 1.75556884, 2.21363113, 0.98866213, 0.2425855], [0.38615404, 0.62338149, 0.28217837, 1.05421333, 0.24612095], [1.88242164, 0.39225775, 1.0483017, 1.74642712, 0.9582669], [1.67594433, 0.6553524, 0.93107819, 0.4191681, 1.15462945], [1.16729733, 0.87031166, 0.36755138, 0.62040339, 0.26062798], [0.51237519, 1.02781636, 1.44745005, 1.7590535, 1.01275174], [1.17367911, 1.13821784, 1.21499395, 1.44448295, 0.06147401], [2.48567458, 1.50961073, 0.08662917, 1.06671911, 1.67518222], [0.40346433, 0.41324001, 1.09115891, 0.16977676, 1.49463349], [1.73140114, 0.09332299, 0.4442448, 1.42139252, 0.3449311], [0.13266756, 1.43290083, 0.93969392, 0.22087214, 0.70891745], [2.49172216, 0.60220055, 1.7698406, 0.19544175, 0.2578082], [2.0067257, 0.17632098, 0.4989453, 2.20376187, 1.50897842], [0.86826965, 1.73060641, 0.61616411, 1.27066737, 1.26550938], [1.45925123, 0.11357086, 1.05891473, 0.82935885, 0.07863006], [0.56729308, 0.29357654, 0.59688692, 1.16824215, 0.69447811], [2.35972169, 1.72154401, 1.47360871, 2.23016063, 1.00209485]], 'X_feat_abs_recon_err': [[0.00395872, 0.17322761, 0.26589048, 0.19148424, 0.21639525], [0.8790064008832159, 2.2204730408832156, 2.0729109208832157, 1.4125046308832157, 2.1903876408832157], [1.5949603, 0.44106297, 1.67682136, 0.29010287, 0.724104], [0.71084193, 0.08205769, 0.03902525, 0.1467994, 0.61433765], [1.33850556, 1.87909407, 0.81559788, 1.65619133, 0.00680535], [1.31221383, 0.04154736, 0.74917911, 0.59808712, 0.92093701], [2.1709366, 0.20789049, 0.80962982, 1.28491792, 1.87805548], [0.02467309, 1.44724909, 1.58878076, 0.11253167, 0.80229314], [1.06122985, 0.46116592, 1.48562317, 1.63342552, 0.14227465], [0.59989862, 0.5750887, 0.19949458, 0.40367216, 0.10884144], [2.18405289, 1.11220246, 0.81230424, 0.14003887, 0.92188529], [1.0389742400312851, 1.5538246800312852, 2.868943160031285, 0.7793816000312852, 0.511705920031285], [0.00668257, 0.66804451, 1.93347315, 1.40968721, 0.65663376], [1.51419615, 1.75556884, 2.21363113, 0.98866213, 0.2425855], [0.38615404, 0.62338149, 0.28217837, 1.05421333, 0.24612095], [1.88242164, 0.39225775, 1.0483017, 1.74642712, 0.9582669], [0.46062290568519093, 0.5599690243148092, 2.1463996143148094, 1.6344895243148092, 0.060691974314809105], [1.16729733, 0.87031166, 0.36755138, 0.62040339, 0.26062798], [0.51237519, 1.02781636, 1.44745005, 1.7590535, 1.01275174], [1.17367911, 1.13821784, 1.21499395, 1.44448295, 0.06147401], [2.48567458, 1.50961073, 0.08662917, 1.06671911, 1.67518222], [0.40346433, 0.41324001, 1.09115891, 0.16977676, 1.49463349], [1.73140114, 0.09332299, 0.4442448, 1.42139252, 0.3449311], [0.13266756, 1.43290083, 0.93969392, 0.22087214, 0.70891745], [1.2074326438366147, 1.8864900661633852, 0.4855510838366146, 1.4797312661633855, 1.0264813161633854], [0.29881247181998605, 2.1292171918199863, 1.8065928718199862, 0.10177630181998598, 0.7965597518199861], [0.86826965, 1.73060641, 0.61616411, 1.27066737, 1.26550938], [1.45925123, 0.11357086, 1.05891473, 0.82935885, 0.07863006], [0.56729308, 0.29357654, 0.59688692, 1.16824215, 0.69447811], [0.7966603950757603, 1.4348380750757606, 1.6827733750757605, 0.9262214550757606, 2.1542872350757607]], 'time_anom_flags': 0, 'mahalanobis_dist_time': [2.3418166007951307, 2.29345402910069, 2.151126038902839, 2.2379385216997174, 2.7911106879734136, 1.588329073858674, 2.4301523189755745, 2.395493430925861, 1.964654260786482, 1.9709513895652016, 2.5360626571145346, 2.810220484052962, 2.898370440666009, 2.6189106043942285, 1.8284750349190528, 1.4996519501586356, 1.5412432447536024, 1.6391201526487722, 2.3175491615439547, 1.739030844765697, 2.873411737168313, 2.5689991543904007, 1.9751137811832835, 1.9167039168157463, 3.4676762445097036, 2.606069979253049, 2.010608600813278, 1.9508755562208535, 1.5344479245075404, 2.5918856285268657], 'mahalanobis_dist_feat': [6.011485925044854, 5.1390301712968744, 5.710547507871696, 6.513177937375173, 5.106446545882875]}, {'feat_anom_flags': 0, 'X_time_abs_recon_err': [[0.04198157, 0.5445968, 0.74713393, 0.41999368, 0.07684221], [2.40464693, 1.93855543, 1.64342955, 2.35518789, 1.43927545], [0.83422681, 0.79309737, 1.87344957, 0.25778947, 0.7009711], [1.28655387, 0.19743954, 0.64392896, 0.80550182, 0.67108844], [0.4486482, 1.62495129, 0.60540843, 1.26143821, 0.27681638], [0.90924833, 0.2170903, 0.26079101, 1.1320193, 0.77290783], [2.00919569, 0.72407506, 0.60141338, 0.54196054, 1.64031508], [0.35177161, 1.68839448, 1.95012321, 0.73724908, 0.7206991], [1.19195108, 0.1620954, 0.80444699, 1.76571016, 0.570293], [0.07913664, 0.05562843, 0.45761676, 0.08080697, 0.05605199], [1.69191395, 1.51895767, 0.91015551, 0.646462, 0.57439664], [2.27105765, 0.31144909, 0.14063373, 1.96670358, 1.31988135], [0.82989558, 0.80047731, 1.79404715, 1.00162974, 0.31988395], [1.32748633, 1.48580891, 2.14000609, 0.45770954, 1.06125243], [0.96047968, 0.69011396, 0.09987011, 0.105134, 0.5133299], [2.07146584, 0.30338762, 0.9679956, 2.32310232, 1.17022203], [1.30113328, 1.2909128, 0.89017087, 0.19204034, 1.3979644], [1.13774912, 1.59033414, 0.87491112, 0.37593684, 0.15867121], [0.92650173, 0.58210036, 1.96371061, 2.18621105, 0.3304164], [0.96896607, 0.97229196, 1.85660303, 1.2904411, 0.10197166], [2.2479503, 1.27090013, 0.4351123, 0.89710548, 1.76667587], [2.99136024, 1.88694647, 20.41215846, 3.32734437, 22.26722639], [10.37769835, 8.8323189, 7.96100284, 37.6425341, 4.35478848], [0.09257541, 33.82369936, 11.15526335, 3.56347617, 11.86683088], [28.04971053, 9.37830517, 25.47050852, 7.42552103, 0.23064614], [16.90729127, 0.65613327, 16.73292722, 21.61633275, 10.9364861], [13.01427036, 24.39548948, 1.65518979, 15.20761755, 10.47263779], [19.99435482, 6.06445066, 18.29737582, 16.44548885, 3.58262026], [4.82956485, 4.18754522, 15.43341168, 17.51024662, 2.89953151], [30.00292139, 20.00937916, 14.57786136, 18.23183368, 9.82481352]], 'X_feat_abs_recon_err': [[0.04198157, 0.5445968, 0.74713393, 0.41999368, 0.07684221], [1.0767119808832155, 1.5428034808832156, 1.8379293608832157, 1.1261710208832159, 2.042083460883216], [0.83422681, 0.79309737, 1.87344957, 0.25778947, 0.7009711], [1.28655387, 0.19743954, 0.64392896, 0.80550182, 0.67108844], [0.4486482, 1.62495129, 0.60540843, 1.26143821, 0.27681638], [0.90924833, 0.2170903, 0.26079101, 1.1320193, 0.77290783], [2.00919569, 0.72407506, 0.60141338, 0.54196054, 1.64031508], [0.35177161, 1.68839448, 1.95012321, 0.73724908, 0.7206991], [1.19195108, 0.1620954, 0.80444699, 1.76571016, 0.570293], [0.07913664, 0.05562843, 0.45761676, 0.08080697, 0.05605199], [1.69191395, 1.51895767, 0.91015551, 0.646462, 0.57439664], [0.2959059300312852, 2.255514490031285, 2.4263298500312853, 0.6002600000312852, 1.2470822300312852], [0.82989558, 0.80047731, 1.79404715, 1.00162974, 0.31988395], [1.32748633, 1.48580891, 2.14000609, 0.45770954, 1.06125243], [0.96047968, 0.69011396, 0.09987011, 0.105134, 0.5133299], [2.07146584, 0.30338762, 0.9679956, 2.32310232, 1.17022203], [0.08581185568519079, 0.07559137568519092, 2.105492294314809, 1.407361764314809, 0.18264297568519083], [1.13774912, 1.59033414, 0.87491112, 0.37593684, 0.15867121], [0.92650173, 0.58210036, 1.96371061, 2.18621105, 0.3304164], [0.96896607, 0.97229196, 1.85660303, 1.2904411, 0.10197166], [2.2479503, 1.27090013, 0.4351123, 0.89710548, 1.76667587], [2.99136024, 1.88694647, 20.41215846, 3.32734437, 22.26722639], [10.37769835, 8.8323189, 7.96100284, 37.6425341, 4.35478848], [0.09257541, 33.82369936, 11.15526335, 3.56347617, 11.86683088], [26.76542101383661, 8.094015653836616, 26.754798036163386, 6.1412315138366145, 1.5149356561633853], [14.601753098180016, 2.961671441819986, 19.038465391819987, 19.310794578180015, 13.242024271819986], [13.01427036, 24.39548948, 1.65518979, 15.20761755, 10.47263779], [19.99435482, 6.06445066, 18.29737582, 16.44548885, 3.58262026], [4.82956485, 4.18754522, 15.43341168, 17.51024662, 2.89953151], [33.15930347507576, 16.85299707492424, 17.734243445075762, 21.388215765075763, 12.98119560507576]], 'time_anom_flags': 1, 'mahalanobis_dist_time': [1.9316619164681559, 3.0004299991393366, 2.024049207583056, 1.2245064563030228, 2.202141338526372, 1.5521923549199905, 2.1439871367517243, 2.3405947710522184, 1.796902463810281, 2.447373484659384, 1.7762074823905138, 2.4808565754261624, 1.6613209038217132, 2.3206231198350538, 2.0555007148509743, 2.3695175408176974, 1.8980797807537277, 2.143689629676827, 2.9116515744695133, 1.975701309358131, 2.3628879826018827, 54.604241736936714, 61.74482406462177, 56.4972931468015, 54.00125226960337, 43.94339419276496, 46.70506449230737, 39.5451850655198, 35.22445445134409, 53.47048015704736], 'mahalanobis_dist_feat': [168.63619256661678, 155.05600498996083, 167.55974384682168, 191.75954086313237, 102.71434185801458]}, {'feat_anom_flags': 0, 'X_time_abs_recon_err': [[0.26843148, 0.0129413, 0.84167842, 0.51668829, 0.71816782], [2.26033987, 1.25257419, 1.41036038, 1.48923535, 1.93279224], [1.46649872, 0.63354585, 1.8918916, 0.4130304, 1.1308937], [1.18559026, 0.14772502, 0.45974852, 0.8569307, 0.76595683], [1.01489562, 1.98985502, 0.7343536, 1.67864363, 0.06663918], [1.34284786, 0.20805635, 0.00460531, 0.96157018, 1.24122717], [1.81892725, 0.15564056, 1.55599581, 0.44961473, 1.91919796], [0.62455093, 2.02559049, 2.16319655, 0.95740493, 0.44800218], [1.09421145, 0.63256353, 1.52948075, 1.51357334, 0.12060529], [0.22209055, 0.60072758, 0.27410036, 0.52634693, 0.06574122], [2.135944, 1.64876388, 1.19466723, 0.48855733, 0.98898873], [1.63843107, 0.71485497, 0.26222559, 1.82967798, 1.38518081], [0.54887201, 0.61395614, 1.44656176, 0.64401769, 0.17085414], [1.19015976, 1.57488881, 1.54485897, 0.88344649, 0.23837417], [1.02346538, 1.39285713, 0.93423596, 0.43085387, 0.0814766], [2.36435974, 1.0018011, 0.67878524, 1.57572669, 1.02935793], [1.15563113, 0.76538498, 0.47525442, 0.28971486, 1.43180106], [1.33679828, 0.85770778, 0.56632129, 0.68328878, 0.65021482], [1.19139794, 0.29570332, 1.41027762, 1.90457909, 0.41917392], [1.39472245, 0.59699765, 0.97055232, 1.08835561, 0.34275552], [2.28870725, 1.29575314, 0.48786689, 0.46744631, 0.93253301], [0.47593012, 0.42318787, 1.20517916, 0.624297, 1.16802359], [1.64843334, 0.59362552, 0.02615132, 1.44398575, 0.39598329], [0.17878788, 1.27317238, 0.81730794, 0.3663162, 0.65709446], [1.69174971, 0.1596227, 1.45372776, 0.74575323, 0.12743336], [2.24072223, 0.1570993, 0.77646932, 2.149788, 1.40998721], [0.35276955, 1.28972811, 0.16390073, 1.37136336, 1.29330737], [0.91466379, 0.1626878, 0.3935256, 0.48076731, 0.25137872], [0.42032311, 0.04428588, 0.80687563, 0.2749356, 0.2269882], [2.22452248, 1.45567135, 1.25003549, 1.61791733, 0.09304095]], 'X_feat_abs_recon_err': [[0.26843148, 0.0129413, 0.84167842, 0.51668829, 0.71816782], [1.2210190408832156, 2.2287847208832154, 2.070998530883216, 1.9921235608832157, 1.5485666708832158], [1.46649872, 0.63354585, 1.8918916, 0.4130304, 1.1308937], [1.18559026, 0.14772502, 0.45974852, 0.8569307, 0.76595683], [1.01489562, 1.98985502, 0.7343536, 1.67864363, 0.06663918], [1.34284786, 0.20805635, 0.00460531, 0.96157018, 1.24122717], [1.81892725, 0.15564056, 1.55599581, 0.44961473, 1.91919796], [0.62455093, 2.02559049, 2.16319655, 0.95740493, 0.44800218], [1.09421145, 0.63256353, 1.52948075, 1.51357334, 0.12060529], [0.22209055, 0.60072758, 0.27410036, 0.52634693, 0.06574122], [2.135944, 1.64876388, 1.19466723, 0.48855733, 0.98898873], [0.9285325100312851, 1.8521086100312851, 2.304737990031285, 0.7372856000312851, 1.181782770031285], [0.54887201, 0.61395614, 1.44656176, 0.64401769, 0.17085414], [1.19015976, 1.57488881, 1.54485897, 0.88344649, 0.23837417], [1.02346538, 1.39285713, 0.93423596, 0.43085387, 0.0814766], [2.36435974, 1.0018011, 0.67878524, 1.57572669, 1.02935793], [0.05969029431480921, 0.44993644431480917, 1.6905758443148091, 1.505036284314809, 0.2164796356851908], [1.33679828, 0.85770778, 0.56632129, 0.68328878, 0.65021482], [1.19139794, 0.29570332, 1.41027762, 1.90457909, 0.41917392], [1.39472245, 0.59699765, 0.97055232, 1.08835561, 0.34275552], [2.28870725, 1.29575314, 0.48786689, 0.46744631, 0.93253301], [0.47593012, 0.42318787, 1.20517916, 0.624297, 1.16802359], [1.64843334, 0.59362552, 0.02615132, 1.44398575, 0.39598329], [0.17878788, 1.27317238, 0.81730794, 0.3663162, 0.65709446], [0.4074601938366147, 1.4439122161633855, 0.16943824383661465, 2.030042746163385, 1.4117228761633853], [0.06481594181998629, 2.462637471819986, 1.5290688518199862, 0.15575017181998607, 0.8955509618199862], [0.35276955, 1.28972811, 0.16390073, 1.37136336, 1.29330737], [0.91466379, 0.1626878, 0.3935256, 0.48076731, 0.25137872], [0.42032311, 0.04428588, 0.80687563, 0.2749356, 0.2269882], [0.9318596050757604, 1.7007107350757604, 1.9063465950757605, 1.5384647550757604, 3.0633411350757607]], 'time_anom_flags': 0, 'mahalanobis_dist_time': [2.0173684388541813, 2.3324728010766136, 2.174452695482688, 1.3456060451803158, 2.8902222550162717, 1.9454994714602434, 3.101770940760138, 2.7045473375668476, 1.819510163324335, 2.015458493847375, 2.2876058874886085, 2.019368189337094, 1.6257201232903005, 1.8024224571626177, 1.9320445397381119, 1.7638600188717268, 1.8502837384920998, 1.0182971143175341, 2.0878071510136547, 1.0619135121633747, 2.5054753214796364, 1.895167136534318, 2.115840395273606, 1.6804249405576945, 2.238875327761675, 2.443896234531865, 2.5732743552949717, 1.8105472419798183, 2.015352222355828, 2.6451349702812927], 'mahalanobis_dist_feat': [5.0663572298143675, 5.469468139310642, 5.770865401506731, 5.279483638276539, 6.1407203747421235]}, {'feat_anom_flags': 0, 'X_time_abs_recon_err': [[0.89180226, 0.84318528, 0.8540975, 0.83445521, 0.85844291], [2.31624275, 1.86597104, 1.90076489, 1.56656846, 1.20242051], [1.42900981, 0.21976836, 1.55675081, 0.1175664, 1.22971499], [1.18392361, 0.09125206, 0.05960444, 0.24832165, 0.68325236], [1.25722046, 1.8176748, 1.12935042, 1.76970234, 0.68442464], [0.95304286, 0.08197284, 0.61829833, 1.25819298, 0.499797], [2.76033728, 0.16188409, 0.74441137, 0.73492293, 1.27085339], [0.69800503, 1.84861597, 2.06917428, 0.56792263, 1.03038335], [1.45664554, 0.60879015, 1.56569194, 1.74924589, 0.48198528], [0.22755546, 0.4849663, 0.24322329, 0.5440741, 0.79360583], [2.39072737, 1.82883446, 0.3942758, 0.76928938, 1.11030659], [2.10810524, 1.10875741, 0.21063404, 1.53635771, 1.34817054], [0.8478035, 0.51875078, 1.45739488, 0.90918041, 0.13874612], [1.46539578, 1.56315002, 1.6837368, 0.50749604, 0.67617502], [0.51741038, 1.01035818, 0.14842067, 0.72920564, 0.3399162], [2.47064072, 0.50342552, 0.51201288, 1.90364445, 1.30852939], [1.05393861, 0.93220307, 0.90351649, 0.49282908, 1.72673467], [1.17411598, 1.80177097, 1.08800035, 0.28137251, 0.73408344], [1.19996648, 0.89111713, 2.26679095, 1.76892769, 0.36569274], [0.97610328, 0.77078174, 1.80498611, 1.44923507, 0.39278922], [2.56799413, 1.21356016, 0.45884521, 1.12993775, 1.89621852], [3.543338, 17.63090091, 4.36797955, 20.63993453, 21.87142178], [15.18411178, 1.72919318, 10.5543302, 37.50970576, 1.25477499], [3.72931002, 20.90292918, 12.8227163, 9.2109456, 1.88732616], [26.25904703, 6.32788852, 23.6433477, 10.80014883, 8.75886641], [35.6764447, 1.52999812, 23.95030157, 14.86353444, 17.98581112], [8.55514354, 21.00848186, 7.97897494, 8.10343951, 16.83071132], [22.60172941, 0.96300052, 11.24913645, 19.41943538, 0.22739148], [18.2564907, 3.85340831, 9.45412606, 4.3992938, 13.99363541], [30.39933748, 30.4646747, 26.01480599, 43.59556627, 12.16146561]], 'X_feat_abs_recon_err': [[0.89180226, 0.84318528, 0.8540975, 0.83445521, 0.85844291], [1.165116160883216, 1.6153878708832157, 1.5805940208832157, 1.9147904508832156, 2.2789384008832156], [1.42900981, 0.21976836, 1.55675081, 0.1175664, 1.22971499], [1.18392361, 0.09125206, 0.05960444, 0.24832165, 0.68325236], [1.25722046, 1.8176748, 1.12935042, 1.76970234, 0.68442464], [0.95304286, 0.08197284, 0.61829833, 1.25819298, 0.499797], [2.76033728, 0.16188409, 0.74441137, 0.73492293, 1.27085339], [0.69800503, 1.84861597, 2.06917428, 0.56792263, 1.03038335], [1.45664554, 0.60879015, 1.56569194, 1.74924589, 0.48198528], [0.22755546, 0.4849663, 0.24322329, 0.5440741, 0.79360583], [2.39072737, 1.82883446, 0.3942758, 0.76928938, 1.11030659], [0.4588583400312851, 1.4582061700312852, 2.356329540031285, 1.030605870031285, 1.2187930400312852], [0.8478035, 0.51875078, 1.45739488, 0.90918041, 0.13874612], [1.46539578, 1.56315002, 1.6837368, 0.50749604, 0.67617502], [0.51741038, 1.01035818, 0.14842067, 0.72920564, 0.3399162], [2.47064072, 0.50342552, 0.51201288, 1.90364445, 1.30852939], [0.16138281431480905, 0.28311835431480914, 2.1188379143148093, 1.708150504314809, 0.5114132456851908], [1.17411598, 1.80177097, 1.08800035, 0.28137251, 0.73408344], [1.19996648, 0.89111713, 2.26679095, 1.76892769, 0.36569274], [0.97610328, 0.77078174, 1.80498611, 1.44923507, 0.39278922], [2.56799413, 1.21356016, 0.45884521, 1.12993775, 1.89621852], [3.543338, 17.63090091, 4.36797955, 20.63993453, 21.87142178], [15.18411178, 1.72919318, 10.5543302, 37.50970576, 1.25477499], [3.72931002, 20.90292918, 12.8227163, 9.2109456, 1.88732616], [24.974757513836614, 5.043599003836615, 24.927637216163387, 12.084438346163385, 7.474576893836614], [33.370906528180015, 3.8355362918199862, 26.255839741819987, 12.557996268180014, 20.291349291819987], [8.55514354, 21.00848186, 7.97897494, 8.10343951, 16.83071132], [22.60172941, 0.96300052, 11.24913645, 19.41943538, 0.22739148], [18.2564907, 3.85340831, 9.45412606, 4.3992938, 13.99363541], [27.242955394924238, 33.62105678507576, 22.858423904924237, 46.75194835507576, 9.00508352492424]], 'time_anom_flags': 1, 'mahalanobis_dist_time': [0.5632175922620727, 2.4688182341392237, 2.522921313648579, 2.1936763880179644, 2.078583168922167, 1.5378074730607838, 2.788901986877903, 2.4971320044350094, 1.709690361020886, 1.8556779045418794, 2.844006641228271, 2.031076323907877, 1.5644637676955404, 1.866987813055949, 1.8079635132075802, 2.1949248499780523, 2.034296825709684, 1.9664161961360238, 2.5570920798937316, 1.797660561434713, 2.6208796222510116, 56.98907578819629, 60.031414750517605, 37.357942102670606, 48.392909401297054, 61.1992096711917, 42.95788106936939, 39.012268460035415, 32.085131005723376, 89.09191762178786], 'mahalanobis_dist_feat': [199.75002052295895, 141.417113621694, 151.444325282948, 238.61414546002376, 116.55694672172382]}, {'feat_anom_flags': 0, 'X_time_abs_recon_err': [[0.15337954, 0.36430147, 0.15909093, 0.57958877, 0.31762637], [2.01708229, 1.42140005, 2.18877796, 2.18701699, 1.3804855], [0.93291083, 0.15052786, 1.74357021, 0.01000531, 0.74013553], [0.79588847, 0.36975754, 0.15424528, 0.91034762, 0.08044917], [1.33391811, 1.37599528, 1.14390818, 2.00516971, 0.42999489], [1.63407951, 0.56632877, 0.89461909, 1.15890536, 1.02955808], [1.78791304, 0.16482797, 1.26173858, 0.49372638, 2.10122827], [0.29064493, 2.14542972, 1.52397546, 0.52346325, 1.19921475], [0.9693213, 0.51511198, 0.76956137, 2.2807258, 0.45532116], [0.10825243, 0.85607982, 0.70301387, 0.17254453, 0.05713612], [2.04250757, 1.36853124, 1.1953103, 0.8618773, 0.79972361], [2.29730801, 0.53237315, 0.29794095, 1.62107646, 1.44591912], [0.299841, 0.33560107, 1.82918778, 0.69358897, 0.10363462], [0.81875728, 1.76377169, 1.45365066, 0.90358565, 0.42901693], [0.59409408, 1.02266286, 0.66730892, 0.59307121, 0.50389135], [1.88104282, 0.51965387, 1.01679012, 1.90669763, 1.38943358], [1.35365175, 0.93491768, 0.3992378, 0.02578955, 1.09777739], [0.90467911, 0.82101721, 1.13579279, 0.53776964, 0.24972303], [0.54092312, 0.4511027, 1.44196465, 1.53817706, 1.02435044], [1.46684523, 1.034781, 1.51803771, 0.88018757, 0.35454585], [2.45530682, 1.52995214, 0.21883592, 0.66633308, 1.73304027], [0.24984035, 0.07021636, 1.10407414, 0.77500638, 1.38327166], [1.17295784, 0.38759908, 0.24003135, 1.45668506, 0.33709665], [0.23211731, 1.93082931, 1.21265229, 0.04197625, 1.07568816], [1.64433242, 0.0797287, 1.61535209, 0.05076989, 0.35512227], [1.951103, 0.11664255, 1.15981526, 1.91579399, 1.87887447], [0.37166115, 1.73262589, 0.57104637, 0.50196923, 0.73001908], [0.76779075, 0.163324, 1.06882048, 0.42649724, 0.0153715], [0.53672622, 0.52521025, 0.07114742, 0.72888643, 0.08519375], [2.50630976, 2.15850457, 1.23608828, 2.0544927, 0.34442849]], 'X_feat_abs_recon_err': [[0.15337954, 0.36430147, 0.15909093, 0.57958877, 0.31762637], [1.4642766208832159, 2.059958860883216, 1.2925809508832158, 1.2943419208832156, 2.1008734108832154], [0.93291083, 0.15052786, 1.74357021, 0.01000531, 0.74013553], [0.79588847, 0.36975754, 0.15424528, 0.91034762, 0.08044917], [1.33391811, 1.37599528, 1.14390818, 2.00516971, 0.42999489], [1.63407951, 0.56632877, 0.89461909, 1.15890536, 1.02955808], [1.78791304, 0.16482797, 1.26173858, 0.49372638, 2.10122827], [0.29064493, 2.14542972, 1.52397546, 0.52346325, 1.19921475], [0.9693213, 0.51511198, 0.76956137, 2.2807258, 0.45532116], [0.10825243, 0.85607982, 0.70301387, 0.17254453, 0.05713612], [2.04250757, 1.36853124, 1.1953103, 0.8618773, 0.79972361], [0.26965557003128504, 2.034590430031285, 2.864904530031285, 0.9458871200312851, 1.1210444600312852], [0.299841, 0.33560107, 1.82918778, 0.69358897, 0.10363462], [0.81875728, 1.76377169, 1.45365066, 0.90358565, 0.42901693], [0.59409408, 1.02266286, 0.66730892, 0.59307121, 0.50389135], [1.88104282, 0.51965387, 1.01679012, 1.90669763, 1.38943358], [0.13833032568519088, 0.2804037443148092, 1.6145592243148092, 1.2411109743148092, 0.11754403431480909], [0.90467911, 0.82101721, 1.13579279, 0.53776964, 0.24972303], [0.54092312, 0.4511027, 1.44196465, 1.53817706, 1.02435044], [1.46684523, 1.034781, 1.51803771, 0.88018757, 0.35454585], [2.45530682, 1.52995214, 0.21883592, 0.66633308, 1.73304027], [0.24984035, 0.07021636, 1.10407414, 0.77500638, 1.38327166], [1.17295784, 0.38759908, 0.24003135, 1.45668506, 0.33709665], [0.23211731, 1.93082931, 1.21265229, 0.04197625, 1.07568816], [0.36004290383661464, 1.3640182161633854, 0.33106257383661464, 1.3350594061633854, 0.9291672461633853], [0.3544351718199861, 2.188895621819986, 1.145722911819986, 0.38974418181998605, 0.42666370181998614], [0.37166115, 1.73262589, 0.57104637, 0.50196923, 0.73001908], [0.76779075, 0.163324, 1.06882048, 0.42649724, 0.0153715], [0.53672622, 0.52521025, 0.07114742, 0.72888643, 0.08519375], [0.6500723250757603, 0.9978775150757606, 1.9202938050757605, 1.1018893850757605, 2.8119535950757606]], 'time_anom_flags': 0, 'mahalanobis_dist_time': [2.043138666444305, 2.8288261118349265, 2.5832358612193786, 1.9652392516792012, 2.0733274058373565, 0.7987147439586787, 3.139309156088129, 2.739833967194569, 2.5386344160487573, 2.0042069172616355, 1.6418482316040055, 2.1181779093210817, 2.3958531689257936, 1.7827683467395412, 1.1353286067838535, 1.8368040091485962, 2.0417541019471583, 1.2429603403525002, 2.2344199205902218, 1.3860907265712712, 2.9811807963387085, 2.700871843954771, 1.8138647929105354, 2.590644939553453, 2.850601869191602, 2.7943393978911693, 2.0256580449472454, 1.960322833931763, 2.051529398141897, 3.451622152660439], 'mahalanobis_dist_feat': [5.1774518499207955, 5.5334539951578705, 5.704027676039791, 5.732657561387726, 6.023179876827729]}, {'feat_anom_flags': 0, 'X_time_abs_recon_err': [[0.52494651, 0.797585911, 0.0467342, 0.0213427876, 0.73287365], [2.30750074, 1.99396499, 1.77271942, 2.32508471, 1.36180986], [1.52592016, 0.717155657, 1.34497244, 0.459384633, 1.43065531], [1.28765914, 0.115317128, 0.57707641, 0.422458958, 0.10370082], [0.81591585, 1.64951952, 0.52586821, 1.38039024, 0.4443194], [1.27480322, 0.155436616, 0.5344086, 0.699418951, 0.34385391], [1.80023474, 0.0249192541, 0.86836256, 1.23382263, 1.68280177], [0.12813667, 1.81433677, 2.23263538, 0.140739611, 0.58334118], [0.9588904, 0.671708341, 1.09425382, 1.63249803, 0.19710264], [0.22382779, 0.460809782, 0.4751886, 0.612622905, 0.20602948], [2.22792607, 1.5518757, 1.35479425, 0.977151444, 1.46444107], [1.68425286, 0.389952555, 0.22175995, 1.62989237, 1.52896532], [0.618425, 0.472604195, 1.13938778, 1.4819245, 0.72828249], [0.87683118, 1.36736002, 2.17824549, 0.91083462, 0.2093811], [0.8990627, 0.537757951, 0.19398628, 1.04040242, 0.14278271], [1.88112075, 0.424087084, 0.92989908, 2.10175371, 1.30636694], [1.61991296, 0.920343717, 1.06901658, 0.155115784, 1.33975716], [1.22260502, 1.20216374, 0.49728079, 0.888797603, 0.06555973], [0.93997002, 0.702039245, 2.28369749, 1.32809313, 0.6946629], [1.28694876, 0.539241649, 1.39656274, 0.707054013, 0.42337979], [2.60548031, 1.68714278, 0.33204352, 1.25020256, 1.78894264], [4.3624207, 5.28573827, 8.71794941, 6.85292085, 26.2773364], [24.94644676, 2.97477523, 1.44131819, 28.742291, 2.52555829], [1.24718333, 15.782949, 19.65151682, 2.71030144, 17.74821318], [17.35034885, 0.0165446039, 14.89923527, 11.2449623, 2.91317954], [20.55806175, 5.8652698, 7.48395208, 25.5364303, 24.31799318], [4.59469517, 23.5283996, 16.43244515, 15.0690019, 10.33218681], [23.94462942, 1.89037649, 8.05880455, 9.52970903, 6.86935028], [18.12253272, 7.06652452, 10.50790228, 10.7568957, 3.68243741], [21.64123494, 20.7759464, 22.7910419, 28.1648214, 18.87684323]], 'X_feat_abs_recon_err': [[0.52494651, 0.797585911, 0.0467342, 0.0213427876, 0.73287365], [1.1738581708832156, 1.4873939208832156, 1.7086394908832157, 1.1562742008832156, 2.119549050883216], [1.52592016, 0.717155657, 1.34497244, 0.459384633, 1.43065531], [1.28765914, 0.115317128, 0.57707641, 0.422458958, 0.10370082], [0.81591585, 1.64951952, 0.52586821, 1.38039024, 0.4443194], [1.27480322, 0.155436616, 0.5344086, 0.699418951, 0.34385391], [1.80023474, 0.0249192541, 0.86836256, 1.23382263, 1.68280177], [0.12813667, 1.81433677, 2.23263538, 0.140739611, 0.58334118], [0.9588904, 0.671708341, 1.09425382, 1.63249803, 0.19710264], [0.22382779, 0.460809782, 0.4751886, 0.612622905, 0.20602948], [2.22792607, 1.5518757, 1.35479425, 0.977151444, 1.46444107], [0.8827107200312851, 2.1770110250312853, 2.345203630031285, 0.937071210031285, 1.0379982600312851], [0.618425, 0.472604195, 1.13938778, 1.4819245, 0.72828249], [0.87683118, 1.36736002, 2.17824549, 0.91083462, 0.2093811], [0.8990627, 0.537757951, 0.19398628, 1.04040242, 0.14278271], [1.88112075, 0.424087084, 0.92989908, 2.10175371, 1.30636694], [0.4045915356851908, 0.2949777073148092, 2.284338004314809, 1.0602056403148092, 0.12443573568519084], [1.22260502, 1.20216374, 0.49728079, 0.888797603, 0.06555973], [0.93997002, 0.702039245, 2.28369749, 1.32809313, 0.6946629], [1.28694876, 0.539241649, 1.39656274, 0.707054013, 0.42337979], [2.60548031, 1.68714278, 0.33204352, 1.25020256, 1.78894264], [4.3624207, 5.28573827, 8.71794941, 6.85292085, 26.2773364], [24.94644676, 2.97477523, 1.44131819, 28.742291, 2.52555829], [1.24718333, 15.782949, 19.65151682, 2.71030144, 17.74821318], [16.066059333836613, 1.2677449122633855, 16.183524786163385, 12.529251816163384, 1.6288900238366144], [22.863599921819986, 3.559731628180014, 5.178413908180014, 27.841968471819985, 22.012455008180012], [4.59469517, 23.5283996, 16.43244515, 15.0690019, 10.33218681], [23.94462942, 1.89037649, 8.05880455, 9.52970903, 6.86935028], [18.12253272, 7.06652452, 10.50790228, 10.7568957, 3.68243741], [24.79761702507576, 17.61956431492424, 25.94742398507576, 31.321203485075763, 15.720461144924238]], 'time_anom_flags': 1, 'mahalanobis_dist_time': [2.1229319107499225, 3.0178705760371285, 1.8098650568327748, 2.128554705686005, 2.056555995018735, 1.6244003143600714, 2.2515220158140643, 3.0474546471485886, 1.6846432984169841, 1.7708457280273988, 2.007605610083681, 2.116019789030891, 1.6809180423167442, 2.2948038175634684, 1.8217935787493715, 2.061651544250564, 1.980823495762995, 1.928539983103907, 2.4046402574947128, 1.300909946062468, 2.914120175370237, 51.420959799730966, 48.63765190442059, 48.68129183604343, 31.537309083590657, 56.12825548621489, 49.01285885747436, 32.415859732198, 28.743941702834093, 66.14305013503689], 'mahalanobis_dist_feat': [186.7099849791687, 103.25396113853192, 133.27121612338334, 186.44119319526615, 135.81665129571198]}]}\n"
     ]
    }
   ],
   "source": [
    "# Send instance dictionary to receive response from ML-Engine for online prediction\n",
    "from googleapiclient import discovery\n",
    "from oauth2client.client import GoogleCredentials\n",
    "import json\n",
    "\n",
    "credentials = GoogleCredentials.get_application_default()\n",
    "api = discovery.build(\"ml\", \"v1\", credentials = credentials)\n",
    "\n",
    "request_data = {\"instances\": instances}\n",
    "\n",
    "parent = \"projects/%s/models/%s/versions/%s\" % (PROJECT, \"anomaly_detection_dense_unlabeled\", \"v1\")\n",
    "response = api.projects().predict(body = request_data, name = parent).execute()\n",
    "print(\"response = {}\".format(response))"
   ]
  },
  {
   "cell_type": "markdown",
   "metadata": {},
   "source": [
    "### LSTM Autoencoder"
   ]
  },
  {
   "cell_type": "code",
   "execution_count": 36,
   "metadata": {},
   "outputs": [
    {
     "name": "stdout",
     "output_type": "stream",
     "text": [
      "response = {'predictions': [{'feat_anom_flags': 0, 'X_time_abs_recon_err': [[0.4291785439097315, 0.3837780556630957, 1.2928434014560843, 0.7440698048830452, 0.4432281861612492], [2.7133286939097316, 1.7967774756630956, 2.3859899914560843, 2.346492864883045, 1.5518976361612493], [1.5503055839097315, 0.0419554243369043, 1.8239790414560841, 0.6647010148830452, 1.8632647161612492], [0.8042383860902684, 0.9083070656630956, 0.5118064614560843, 0.1812542848830452, 0.1562978961612492], [0.14322800609026853, 2.431773655663096, 0.4076593585439157, 1.7500129148830452, 0.20927409383875079], [1.8500639239097314, 0.3625944356630957, 0.07211772854391568, 1.2027741748830452, 0.7746610361612492], [2.5388868639097315, 0.24106543566309568, 1.6037770514560843, 0.6225042751169547, 1.6133370761612493], [0.44988995390973147, 2.277821705663096, 1.8680219814560843, 0.4433304948830452, 1.5161796361612492], [0.8973196160902686, 0.45008555566309566, 1.0712154214560843, 1.9077960048830451, 0.5158529638387508], [0.15229890390973147, 0.6254755043369042, 0.2718621885439157, 0.5859887548830452, 0.42316886616124916], [2.1781455339097313, 1.9658305656630957, 0.2062390785439157, 0.13893921488304523, 0.9935138761612492], [2.0951580339097315, 1.2709326356630957, 0.7842202114560843, 1.8401192948830452, 1.9528225261612493], [0.34554139609026857, 0.7784927843369043, 1.4400863914560842, 1.1907222348830453, 1.1525290061612492], [0.9142938360902686, 1.2887789856630956, 1.9447532814560842, 0.31261163511695483, 0.6315619738387508], [0.7267250539097314, 0.8895460056630957, 0.6864175314560843, 1.1630126148830453, 0.26971816383875086], [2.9964965339097316, 0.37627471433690435, 0.5117038485439156, 1.8822990848830452, 2.024136746161249], [1.1347474639097315, 1.0751227056630956, 0.6468993485439156, 0.26230032511695484, 2.0020924861612492], [0.6995680760902685, 1.4050032756630957, 1.2445144814560842, 0.06645301511695478, 0.6510716361612492], [0.18513533609026855, 0.03348337433690435, 2.0424373414560844, 2.3195910248830454, 0.07479910383875082], [2.1042230939097317, 1.3264586056630956, 1.4060861514560843, 1.6241834048830452, 0.07786026616124919], [2.7684722839097313, 1.4493037956630956, 0.1055450985439157, 0.6453304451169548, 1.7314373561612493], [0.8188322439097315, 0.050821895663095695, 0.6149089985439158, 1.0995474748830452, 1.7184285561612493], [0.5959363060902685, 0.3752971556630957, 0.24985862854391566, 2.6271342848830455, 0.1349017461612492], [0.6890740039097315, 1.6754424856630956, 1.5953195314560842, 0.2676533348830452, 0.4586258238387508], [2.1161876539097317, 0.14618779566309567, 2.4484608214560843, 0.1822117551169548, 0.7164001661612491], [2.0915518039097316, 0.11938977566309567, 1.2317825914560843, 2.3514796148830452, 1.4711772761612492], [0.30851776390973146, 1.8476598256630956, 0.5305961885439157, 1.2716896548830452, 2.031914486161249], [0.5385960560902685, 0.16483453566309567, 0.20041366854391568, 0.7187106151169549, 0.5272030661612492], [0.6913145539097314, 0.20481424566309567, 0.6667263314560843, 0.9969190448830452, 0.6436110638387509], [2.6304621039097316, 1.6115002056630956, 2.1732789614560843, 2.601326174883045, 0.7779737161612492]], 'X_feat_abs_recon_err': [[0.4291785439097315, 0.3837780556630957, 1.2928434014560843, 0.7440698048830452, 0.4432281861612492], [2.7133286939097316, 1.7967774756630956, 2.3859899914560843, 2.346492864883045, 1.5518976361612493], [1.5503055839097315, 0.0419554243369043, 1.8239790414560841, 0.6647010148830452, 1.8632647161612492], [0.8042383860902684, 0.9083070656630956, 0.5118064614560843, 0.1812542848830452, 0.1562978961612492], [0.14322800609026853, 2.431773655663096, 0.4076593585439157, 1.7500129148830452, 0.20927409383875079], [1.8500639239097314, 0.3625944356630957, 0.07211772854391568, 1.2027741748830452, 0.7746610361612492], [2.5388868639097315, 0.24106543566309568, 1.6037770514560843, 0.6225042751169547, 1.6133370761612493], [0.44988995390973147, 2.277821705663096, 1.8680219814560843, 0.4433304948830452, 1.5161796361612492], [0.8973196160902686, 0.45008555566309566, 1.0712154214560843, 1.9077960048830451, 0.5158529638387508], [0.15229890390973147, 0.6254755043369042, 0.2718621885439157, 0.5859887548830452, 0.42316886616124916], [2.1781455339097313, 1.9658305656630957, 0.2062390785439157, 0.13893921488304523, 0.9935138761612492], [2.0951580339097315, 1.2709326356630957, 0.7842202114560843, 1.8401192948830452, 1.9528225261612493], [0.34554139609026857, 0.7784927843369043, 1.4400863914560842, 1.1907222348830453, 1.1525290061612492], [0.9142938360902686, 1.2887789856630956, 1.9447532814560842, 0.31261163511695483, 0.6315619738387508], [0.7267250539097314, 0.8895460056630957, 0.6864175314560843, 1.1630126148830453, 0.26971816383875086], [2.9964965339097316, 0.37627471433690435, 0.5117038485439156, 1.8822990848830452, 2.024136746161249], [1.1347474639097315, 1.0751227056630956, 0.6468993485439156, 0.26230032511695484, 2.0020924861612492], [0.6995680760902685, 1.4050032756630957, 1.2445144814560842, 0.06645301511695478, 0.6510716361612492], [0.18513533609026855, 0.03348337433690435, 2.0424373414560844, 2.3195910248830454, 0.07479910383875082], [2.1042230939097317, 1.3264586056630956, 1.4060861514560843, 1.6241834048830452, 0.07786026616124919], [2.7684722839097313, 1.4493037956630956, 0.1055450985439157, 0.6453304451169548, 1.7314373561612493], [0.8188322439097315, 0.050821895663095695, 0.6149089985439158, 1.0995474748830452, 1.7184285561612493], [0.5959363060902685, 0.3752971556630957, 0.24985862854391566, 2.6271342848830455, 0.1349017461612492], [0.6890740039097315, 1.6754424856630956, 1.5953195314560842, 0.2676533348830452, 0.4586258238387508], [2.1161876539097317, 0.14618779566309567, 2.4484608214560843, 0.1822117551169548, 0.7164001661612491], [2.0915518039097316, 0.11938977566309567, 1.2317825914560843, 2.3514796148830452, 1.4711772761612492], [0.30851776390973146, 1.8476598256630956, 0.5305961885439157, 1.2716896548830452, 2.031914486161249], [0.5385960560902685, 0.16483453566309567, 0.20041366854391568, 0.7187106151169549, 0.5272030661612492], [0.6913145539097314, 0.20481424566309567, 0.6667263314560843, 0.9969190448830452, 0.6436110638387509], [2.6304621039097316, 1.6115002056630956, 2.1732789614560843, 2.601326174883045, 0.7779737161612492]], 'time_anom_flags': 0, 'mahalanobis_dist_time': [1.4221405294422993, 2.6590970866189507, 2.453397150610873, 1.826948464388229, 2.814223508742387, 1.8960636046671329, 2.1081895377151034, 2.788284204146484, 1.4521407981312855, 1.7698622340968464, 2.5936051032472935, 1.6898214211649905, 1.7512560915626576, 1.617632430925944, 1.2098250023075392, 2.4157681043272867, 2.209604921004745, 1.5377165512351816, 2.881360832979564, 2.3380658059348987, 2.4143879192095246, 2.224340116766786, 2.8006363812106705, 1.6660858751361505, 2.793952054588767, 2.0703645313890315, 2.989934879762498, 1.7958018117298014, 1.346209940502231, 2.8086348835832733], 'mahalanobis_dist_feat': [5.3284137475914894, 6.352827703597963, 4.822031125870067, 5.314657807086615, 5.852506241159393]}, {'feat_anom_flags': 0, 'X_time_abs_recon_err': [[0.6761310139097314, 1.0598684556630957, 0.3639172414560843, 0.6892570148830452, 0.4773070561612492], [2.1950081239097314, 2.364094965663096, 2.446344791456084, 2.5655512748830454, 1.6318070461612493], [1.2795761339097314, 0.021322795663095695, 1.8013063614560842, 0.27953300511695484, 1.4135747461612493], [0.3605111560902685, 0.17903344566309567, 0.7747852514560842, 0.3005784251169548, 0.20304579616124918], [0.6989557760902685, 2.3514739056630956, 0.8424239985439157, 2.025685834883045, 0.05992880383875082], [2.1072613039097314, 0.41264415566309565, 0.45466655854391574, 1.1034484048830453, 1.5652055561612492], [2.7125889239097316, 0.24155256433690436, 1.2350342514560844, 0.9159676751169548, 1.5863503661612492], [0.36751682390973145, 2.438877975663096, 2.103410111456084, 1.2314644048830452, 1.1707337161612492], [0.9967376060902686, 0.9560690856630956, 1.8140851814560843, 1.9034871448830453, 0.6146757238387508], [0.38064982390973146, 0.13392742433690435, 0.3203516314560843, 0.07001253488304521, 0.3313030161612492], [2.7816684439097314, 1.6692269756630955, 0.5928502485439158, 0.3540771251169548, 0.9422664661612492], [2.4162033639097316, 0.6648486956630957, 0.4673058214560843, 2.243289914883045, 1.5028216461612494], [0.29165479609026856, 0.2994281843369044, 1.8023965514560842, 1.8834126148830452, 1.0076555361612491], [0.46124874609026856, 2.120828135663096, 1.7846739614560843, 1.050551875116955, 0.0008401461612491667], [1.0247314739097315, 1.5566040956630955, 1.2946869514560844, 0.8072796648830451, 0.1667344761612492], [2.4395711639097315, 0.45914073433690433, 0.8546356785439158, 2.4445789448830455, 1.1189164161612493], [1.0558644239097315, 1.0236259156630956, 0.009544738543915687, 0.10787229488304523, 1.5057075061612493], [0.9281764860902686, 1.9514602456630956, 1.3010006214560843, 0.4460913351169548, 0.6837782161612491], [0.5904205460902685, 0.7615322543369043, 2.565403211456084, 1.6328615148830452, 0.6414016738387509], [2.113716763909731, 0.7450533056630957, 2.1285897114560846, 1.1084006548830452, 0.8629946561612492], [2.093682493909731, 1.7849082756630956, 0.2117301814560843, 0.10852131511695479, 1.9710044761612493], [0.21851645390973146, 0.43561963433690437, 0.3021975885439157, 1.2719444848830452, 2.0120715461612493], [0.8832981760902685, 0.2574054756630957, 0.11026299145608431, 1.7712290448830452, 0.2170480961612492], [0.20248334390973147, 1.9212885656630956, 1.6431425514560842, 0.3454087451169548, 0.6211682638387508], [2.2791868339097316, 0.03788500433690434, 2.5536070514560842, 0.5115771351169547, 0.8361151861612492], [1.9134351839097314, 0.011827865663095682, 0.9820441414560843, 1.6333280648830453, 2.2323408461612493], [0.5961322260902685, 2.0426526156630955, 0.34096291854391575, 0.8429940648830452, 1.4595216361612493], [0.8154795860902686, 0.5753649456630957, 0.4225986185439157, 0.6382402951169548, 0.6118164461612492], [1.4966559039097316, 0.06714617433690434, 0.8602007714560842, 0.6747433148830453, 0.21521312616124919], [2.2504466939097316, 2.039851955663096, 1.8873686514560843, 2.2174562848830455, 0.8779863761612492]], 'X_feat_abs_recon_err': [[0.6761310139097314, 1.0598684556630957, 0.3639172414560843, 0.6892570148830452, 0.4773070561612492], [2.1950081239097314, 2.364094965663096, 2.446344791456084, 2.5655512748830454, 1.6318070461612493], [1.2795761339097314, 0.021322795663095695, 1.8013063614560842, 0.27953300511695484, 1.4135747461612493], [0.3605111560902685, 0.17903344566309567, 0.7747852514560842, 0.3005784251169548, 0.20304579616124918], [0.6989557760902685, 2.3514739056630956, 0.8424239985439157, 2.025685834883045, 0.05992880383875082], [2.1072613039097314, 0.41264415566309565, 0.45466655854391574, 1.1034484048830453, 1.5652055561612492], [2.7125889239097316, 0.24155256433690436, 1.2350342514560844, 0.9159676751169548, 1.5863503661612492], [0.36751682390973145, 2.438877975663096, 2.103410111456084, 1.2314644048830452, 1.1707337161612492], [0.9967376060902686, 0.9560690856630956, 1.8140851814560843, 1.9034871448830453, 0.6146757238387508], [0.38064982390973146, 0.13392742433690435, 0.3203516314560843, 0.07001253488304521, 0.3313030161612492], [2.7816684439097314, 1.6692269756630955, 0.5928502485439158, 0.3540771251169548, 0.9422664661612492], [2.4162033639097316, 0.6648486956630957, 0.4673058214560843, 2.243289914883045, 1.5028216461612494], [0.29165479609026856, 0.2994281843369044, 1.8023965514560842, 1.8834126148830452, 1.0076555361612491], [0.46124874609026856, 2.120828135663096, 1.7846739614560843, 1.050551875116955, 0.0008401461612491667], [1.0247314739097315, 1.5566040956630955, 1.2946869514560844, 0.8072796648830451, 0.1667344761612492], [2.4395711639097315, 0.45914073433690433, 0.8546356785439158, 2.4445789448830455, 1.1189164161612493], [1.0558644239097315, 1.0236259156630956, 0.009544738543915687, 0.10787229488304523, 1.5057075061612493], [0.9281764860902686, 1.9514602456630956, 1.3010006214560843, 0.4460913351169548, 0.6837782161612491], [0.5904205460902685, 0.7615322543369043, 2.565403211456084, 1.6328615148830452, 0.6414016738387509], [2.113716763909731, 0.7450533056630957, 2.1285897114560846, 1.1084006548830452, 0.8629946561612492], [2.093682493909731, 1.7849082756630956, 0.2117301814560843, 0.10852131511695479, 1.9710044761612493], [0.21851645390973146, 0.43561963433690437, 0.3021975885439157, 1.2719444848830452, 2.0120715461612493], [0.8832981760902685, 0.2574054756630957, 0.11026299145608431, 1.7712290448830452, 0.2170480961612492], [0.20248334390973147, 1.9212885656630956, 1.6431425514560842, 0.3454087451169548, 0.6211682638387508], [2.2791868339097316, 0.03788500433690434, 2.5536070514560842, 0.5115771351169547, 0.8361151861612492], [1.9134351839097314, 0.011827865663095682, 0.9820441414560843, 1.6333280648830453, 2.2323408461612493], [0.5961322260902685, 2.0426526156630955, 0.34096291854391575, 0.8429940648830452, 1.4595216361612493], [0.8154795860902686, 0.5753649456630957, 0.4225986185439157, 0.6382402951169548, 0.6118164461612492], [1.4966559039097316, 0.06714617433690434, 0.8602007714560842, 0.6747433148830453, 0.21521312616124919], [2.2504466939097316, 2.039851955663096, 1.8873686514560843, 2.2174562848830455, 0.8779863761612492]], 'time_anom_flags': 0, 'mahalanobis_dist_time': [1.3430280892401598, 3.059062550581929, 2.291921880135932, 1.8898184948982684, 2.6813505054695908, 1.533292248990803, 1.985792694431968, 2.748948175870959, 1.4735002464299385, 2.174128267436963, 2.6954471886747973, 2.0302800552060085, 2.411299080128507, 2.1827568594480677, 1.4598953321101875, 2.1784699570500528, 2.069225600620336, 1.5324531968348696, 2.3310381961506192, 1.6924548132169548, 2.477790170416896, 3.069826539930686, 2.171928853129562, 2.0622388492203934, 2.8032259959572006, 2.423565136136751, 2.1805602666011965, 1.288557207253571, 1.9751468663469756, 2.3333509494375426], 'mahalanobis_dist_feat': [6.250620369868966, 5.022871710596176, 4.841504401994232, 5.627382283339316, 5.585290172597735]}, {'feat_anom_flags': 0, 'X_time_abs_recon_err': [[1.0773272039097315, 0.5626073956630957, 1.1008137714560844, 0.4505145848830452, 1.2579076561612492], [3.0664090739097314, 2.1354660956630958, 2.006616311456084, 2.3180246648830454, 1.4616555961612492], [1.2249854039097314, 0.4704805043369043, 2.429637091456084, 0.40043889488304524, 1.0209047561612492], [0.9837750360902686, 0.9601740556630958, 0.8667207214560844, 0.016166615116954774, 0.32578826383875076], [0.17816606609026853, 1.9970681656630955, 0.11798905854391567, 1.7100334348830453, 0.3255596738387508], [1.6378304039097316, 0.5487855556630956, 0.31458799854391567, 1.8119252348830452, 1.4691497161612492], [2.2521689539097314, 0.5464592556630956, 1.5053743014560843, 0.6407798951169548, 2.051624556161249], [0.7661638339097314, 2.489071295663096, 1.9863008214560842, 1.0703234548830451, 1.5024835461612494], [0.4594961760902685, 0.5641854756630957, 1.6350056214560842, 2.5390821048830454, 0.38175747383875086], [0.3579688760902685, 0.0012489056630956563, 0.1542121314560843, 0.14288248511695478, 0.1996931461612492], [1.8666095639097315, 1.9377454756630956, 0.30646028854391566, 0.22440670511695476, 1.4758021661612493], [2.1803791939097312, 1.3598822256630956, 0.7815861514560842, 1.6180193348830452, 2.330657786161249], [0.02377516609026853, 0.1706061243369043, 2.2272554114560843, 0.9424154448830453, 1.0333270361612492], [1.1786093660902686, 1.2857329156630957, 2.3566169714560843, 0.8006543051169548, 0.3460057038387508], [1.3257744139097314, 0.8969204156630957, 1.4040427514560843, 0.5174620048830452, 0.6331385561612493], [2.8274803939097315, 0.4068393843369043, 0.44187555854391575, 2.1273229548830455, 2.014635746161249], [1.3054154039097314, 1.0010539256630957, 0.41885459854391566, 0.5250498848830452, 1.5677345961612492], [0.8693854060902686, 1.7145536556630956, 1.0880772714560842, 0.47195103511695474, 0.6605676261612492], [0.5935124860902685, 0.16818986433690436, 2.2955431114560843, 2.5029846748830455, 0.6979403638387507], [1.4534950139097316, 1.3591968556630958, 2.300890711456084, 1.6490873448830452, 0.000661146161249182], [2.6925348539097316, 2.072394795663096, 0.07932687854391568, 0.4223354251169548, 1.4523569661612492], [0.0127374460902685, 5.708970075663096, 11.692311811456085, 4.1754134651169545, 26.75666901616125], [23.547363453909732, 1.5710406943369044, 8.409450508543916, 38.433903805116955, 7.142777803838751], [4.146471333909732, 24.704076745663095, 14.078878801456085, 0.08699979488304521, 6.885096206161249], [25.23654469609027, 3.465538715663096, 30.778893771456083, 12.614155384883045, 1.2313972838387508], [15.586322826090269, 5.775608225663095, 16.369645391456086, 20.069723344883045, 23.74027378616125], [15.426579186090269, 22.459938225663095, 12.081274488543915, 16.579360004883043, 12.634618773838751], [13.663476266090269, 5.003447354336904, 17.490191068543915, 7.9741351448830455, 0.8874775961612491], [5.772437593909731, 11.651023625663095, 4.0839786914560845, 4.631045024883045, 4.30194245616125], [20.092348073909733, 15.619709555663094, 18.008826611456083, 16.925865965116955, 3.351494186161249]], 'X_feat_abs_recon_err': [[1.0773272039097315, 0.5626073956630957, 1.1008137714560844, 0.4505145848830452, 1.2579076561612492], [3.0664090739097314, 2.1354660956630958, 2.006616311456084, 2.3180246648830454, 1.4616555961612492], [1.2249854039097314, 0.4704805043369043, 2.429637091456084, 0.40043889488304524, 1.0209047561612492], [0.9837750360902686, 0.9601740556630958, 0.8667207214560844, 0.016166615116954774, 0.32578826383875076], [0.17816606609026853, 1.9970681656630955, 0.11798905854391567, 1.7100334348830453, 0.3255596738387508], [1.6378304039097316, 0.5487855556630956, 0.31458799854391567, 1.8119252348830452, 1.4691497161612492], [2.2521689539097314, 0.5464592556630956, 1.5053743014560843, 0.6407798951169548, 2.051624556161249], [0.7661638339097314, 2.489071295663096, 1.9863008214560842, 1.0703234548830451, 1.5024835461612494], [0.4594961760902685, 0.5641854756630957, 1.6350056214560842, 2.5390821048830454, 0.38175747383875086], [0.3579688760902685, 0.0012489056630956563, 0.1542121314560843, 0.14288248511695478, 0.1996931461612492], [1.8666095639097315, 1.9377454756630956, 0.30646028854391566, 0.22440670511695476, 1.4758021661612493], [2.1803791939097312, 1.3598822256630956, 0.7815861514560842, 1.6180193348830452, 2.330657786161249], [0.02377516609026853, 0.1706061243369043, 2.2272554114560843, 0.9424154448830453, 1.0333270361612492], [1.1786093660902686, 1.2857329156630957, 2.3566169714560843, 0.8006543051169548, 0.3460057038387508], [1.3257744139097314, 0.8969204156630957, 1.4040427514560843, 0.5174620048830452, 0.6331385561612493], [2.8274803939097315, 0.4068393843369043, 0.44187555854391575, 2.1273229548830455, 2.014635746161249], [1.3054154039097314, 1.0010539256630957, 0.41885459854391566, 0.5250498848830452, 1.5677345961612492], [0.8693854060902686, 1.7145536556630956, 1.0880772714560842, 0.47195103511695474, 0.6605676261612492], [0.5935124860902685, 0.16818986433690436, 2.2955431114560843, 2.5029846748830455, 0.6979403638387507], [1.4534950139097316, 1.3591968556630958, 2.300890711456084, 1.6490873448830452, 0.000661146161249182], [2.6925348539097316, 2.072394795663096, 0.07932687854391568, 0.4223354251169548, 1.4523569661612492], [0.0127374460902685, 5.708970075663096, 11.692311811456085, 4.1754134651169545, 26.75666901616125], [23.547363453909732, 1.5710406943369044, 8.409450508543916, 38.433903805116955, 7.142777803838751], [4.146471333909732, 24.704076745663095, 14.078878801456085, 0.08699979488304521, 6.885096206161249], [25.23654469609027, 3.465538715663096, 30.778893771456083, 12.614155384883045, 1.2313972838387508], [15.586322826090269, 5.775608225663095, 16.369645391456086, 20.069723344883045, 23.74027378616125], [15.426579186090269, 22.459938225663095, 12.081274488543915, 16.579360004883043, 12.634618773838751], [13.663476266090269, 5.003447354336904, 17.490191068543915, 7.9741351448830455, 0.8874775961612491], [5.772437593909731, 11.651023625663095, 4.0839786914560845, 4.631045024883045, 4.30194245616125], [20.092348073909733, 15.619709555663094, 18.008826611456083, 16.925865965116955, 3.351494186161249]], 'time_anom_flags': 1, 'mahalanobis_dist_time': [1.3102926405944753, 2.8411143701856876, 2.250353858262965, 1.6959157063189343, 2.5434920178622686, 1.5873608542259157, 2.076942744310963, 2.6541922227366275, 2.4202793325875893, 2.3694596536832373, 2.1374352128912735, 2.0785129793834787, 2.868824585789096, 1.860465549327401, 1.0428266612307129, 2.429994190854144, 1.4716956280490867, 1.2956523858661348, 2.8836786756163186, 2.26757972790518, 2.827128244972151, 49.91517316272286, 50.86880723198808, 34.76441039315394, 47.032064589739356, 45.50769504948514, 38.90060156172057, 25.88270301823749, 15.291557233216732, 38.12040063448963], 'mahalanobis_dist_feat': [153.76553673412582, 139.90110227025397, 162.91409225536628, 165.04059460203322, 128.55112443982662]}, {'feat_anom_flags': 0, 'X_time_abs_recon_err': [[1.1720928639097314, 0.39808526566309566, 1.2224497514560844, 1.0861192848830452, 0.9088373161612493], [2.2802884639097316, 2.2398540456630958, 2.2735037614560842, 2.3263327548830453, 1.4797818161612493], [1.8377938439097314, 0.38453870433690435, 1.6933104114560842, 0.08402623511695478, 1.0963906661612492], [0.5016397760902686, 0.7423496056630956, 0.6420699514560844, 0.25701605511695474, 0.1949672438387508], [0.6488821260902685, 2.160976965663096, 0.48835616854391567, 1.7016014848830452, 0.3537780638387508], [1.5461458139097315, 0.6155139856630957, 0.12096571145608431, 1.4754504948830451, 0.6639499661612491], [2.8507023539097314, 0.01169152566309567, 1.8893032714560842, 0.6297223151169549, 2.340411346161249], [1.0834972839097314, 2.398374515663096, 1.7492459814560843, 0.6605935748830452, 0.9808750661612491], [0.6355025160902685, 0.7190811256630957, 1.8146669214560842, 2.1510890548830455, 0.36139419383875077], [0.18281993390973147, 0.23962574566309566, 0.02425262145608431, 0.5957290848830452, 0.3215211838387508], [2.4176293439097316, 1.7781266156630957, 0.7038617585439157, 0.5291538951169548, 0.9862220461612492], [2.4614112939097317, 1.1536604756630957, 0.2863362814560843, 1.8089970548830452, 1.9664493361612492], [0.5087700660902685, 0.42670074433690436, 1.8400157814560842, 1.3114216448830451, 0.6064786861612492], [1.2954782560902685, 1.5883878456630955, 2.2244283414560844, 0.7413928151169549, 0.5543444638387509], [0.7256941539097315, 1.1199282456630957, 1.4267791414560842, 0.9652589348830451, 0.21868364383875077], [3.0049078939097313, 0.2718736343369043, 0.8408888885439159, 1.8324746448830451, 1.2673549961612491], [1.4386343539097315, 1.2281158356630957, 0.6914840285439157, 0.13729612511695477, 1.6355166361612492], [0.5899651760902686, 2.1755555456630957, 1.4497458014560842, 0.2001480648830452, 0.6999139861612491], [0.3588039160902685, 0.20359222433690433, 1.9884569114560842, 2.091400884883045, 0.09839734383875082], [1.9516228339097315, 0.7857799856630956, 1.9020214214560842, 1.2046518348830453, 0.8026930061612492], [2.6133224939097315, 2.308073605663096, 0.6610412814560843, 0.3408595951169548, 1.3111565761612491], [0.5632213839097315, 0.17741141433690427, 0.35888659854391575, 1.3045697648830452, 2.234958096161249], [1.0022754260902684, 0.7587995956630957, 0.3042988085439157, 1.8755465248830452, 0.1867083761612492], [0.6012924139097315, 2.416893545663096, 1.7484385614560842, 0.29430509488304524, 0.0041969761612492], [2.1859394139097317, 0.5158284156630957, 1.7579430814560844, 0.04173894488304519, 0.8704909061612491], [1.9624412439097314, 0.4928724556630957, 1.0151257814560843, 2.0846185748830455, 1.3723020861612492], [0.30655140609026854, 2.428479455663096, 0.062355758543915674, 1.6296009648830452, 1.2625241361612491], [1.3106885260902685, 0.3857084956630957, 0.8588064785439158, 1.0257105951169547, 0.34235137616124917], [1.3638244639097314, 0.2902406943369043, 0.8647379214560844, 0.9909849848830452, 0.4050368538387508], [2.6348065639097316, 1.7534905856630956, 2.1163105414560843, 2.209410534883045, 0.7265559361612492]], 'X_feat_abs_recon_err': [[1.1720928639097314, 0.39808526566309566, 1.2224497514560844, 1.0861192848830452, 0.9088373161612493], [2.2802884639097316, 2.2398540456630958, 2.2735037614560842, 2.3263327548830453, 1.4797818161612493], [1.8377938439097314, 0.38453870433690435, 1.6933104114560842, 0.08402623511695478, 1.0963906661612492], [0.5016397760902686, 0.7423496056630956, 0.6420699514560844, 0.25701605511695474, 0.1949672438387508], [0.6488821260902685, 2.160976965663096, 0.48835616854391567, 1.7016014848830452, 0.3537780638387508], [1.5461458139097315, 0.6155139856630957, 0.12096571145608431, 1.4754504948830451, 0.6639499661612491], [2.8507023539097314, 0.01169152566309567, 1.8893032714560842, 0.6297223151169549, 2.340411346161249], [1.0834972839097314, 2.398374515663096, 1.7492459814560843, 0.6605935748830452, 0.9808750661612491], [0.6355025160902685, 0.7190811256630957, 1.8146669214560842, 2.1510890548830455, 0.36139419383875077], [0.18281993390973147, 0.23962574566309566, 0.02425262145608431, 0.5957290848830452, 0.3215211838387508], [2.4176293439097316, 1.7781266156630957, 0.7038617585439157, 0.5291538951169548, 0.9862220461612492], [2.4614112939097317, 1.1536604756630957, 0.2863362814560843, 1.8089970548830452, 1.9664493361612492], [0.5087700660902685, 0.42670074433690436, 1.8400157814560842, 1.3114216448830451, 0.6064786861612492], [1.2954782560902685, 1.5883878456630955, 2.2244283414560844, 0.7413928151169549, 0.5543444638387509], [0.7256941539097315, 1.1199282456630957, 1.4267791414560842, 0.9652589348830451, 0.21868364383875077], [3.0049078939097313, 0.2718736343369043, 0.8408888885439159, 1.8324746448830451, 1.2673549961612491], [1.4386343539097315, 1.2281158356630957, 0.6914840285439157, 0.13729612511695477, 1.6355166361612492], [0.5899651760902686, 2.1755555456630957, 1.4497458014560842, 0.2001480648830452, 0.6999139861612491], [0.3588039160902685, 0.20359222433690433, 1.9884569114560842, 2.091400884883045, 0.09839734383875082], [1.9516228339097315, 0.7857799856630956, 1.9020214214560842, 1.2046518348830453, 0.8026930061612492], [2.6133224939097315, 2.308073605663096, 0.6610412814560843, 0.3408595951169548, 1.3111565761612491], [0.5632213839097315, 0.17741141433690427, 0.35888659854391575, 1.3045697648830452, 2.234958096161249], [1.0022754260902684, 0.7587995956630957, 0.3042988085439157, 1.8755465248830452, 0.1867083761612492], [0.6012924139097315, 2.416893545663096, 1.7484385614560842, 0.29430509488304524, 0.0041969761612492], [2.1859394139097317, 0.5158284156630957, 1.7579430814560844, 0.04173894488304519, 0.8704909061612491], [1.9624412439097314, 0.4928724556630957, 1.0151257814560843, 2.0846185748830455, 1.3723020861612492], [0.30655140609026854, 2.428479455663096, 0.062355758543915674, 1.6296009648830452, 1.2625241361612491], [1.3106885260902685, 0.3857084956630957, 0.8588064785439158, 1.0257105951169547, 0.34235137616124917], [1.3638244639097314, 0.2902406943369043, 0.8647379214560844, 0.9909849848830452, 0.4050368538387508], [2.6348065639097316, 1.7534905856630956, 2.1163105414560843, 2.209410534883045, 0.7265559361612492]], 'time_anom_flags': 0, 'mahalanobis_dist_time': [0.8682962236937316, 2.664020311612366, 1.9853114489169459, 1.6677221954831087, 2.2555261419565067, 1.6870621712600258, 3.040623536780669, 2.0162581584984154, 1.9834561344464485, 2.1236715494803473, 2.1517583008121, 2.0218433151275534, 1.6802763707064927, 1.7375010264875048, 1.1620865017464337, 2.3634060896350615, 1.7233497886265636, 2.041851820831619, 2.4848029855016986, 1.3687578155435476, 2.6801287487952346, 3.1559063733286545, 1.9857398520469556, 2.5792841107034423, 2.2551101257279416, 1.5133005875164582, 2.8904046589250947, 1.3619249452816318, 1.3874303493298128, 2.630958341040707], 'mahalanobis_dist_feat': [4.973676986831489, 5.2038333216622075, 5.526962968735289, 4.7127714979051785, 5.891723627288811]}, {'feat_anom_flags': 0, 'X_time_abs_recon_err': [[0.3468287539097315, 0.5398986356630957, 0.6114385314560843, 0.5368129748830452, 0.5504991461612492], [2.9452225439097313, 1.6275568956630957, 1.7539960414560842, 2.4141830148830454, 1.6250751661612493], [1.9378303339097316, 0.07439194433690433, 2.022369411456084, 0.055225864883045206, 1.058207896161249], [0.3679718960902685, 0.4487287156630957, 0.3065228014560843, 0.19852933488304522, 0.28023375383875077], [0.9956355260902685, 2.2457650956630957, 0.4700498285439157, 2.0015200648830453, 0.3272985461612492], [1.6550838639097314, 0.3251236656630957, 0.40363105854391573, 0.9434158548830451, 1.255040906161249], [2.5138066339097316, 0.5745615156630957, 1.1551778714560843, 0.9395891851169549, 2.212159376161249], [0.3675431239097315, 1.8139201156630955, 1.9343288114560842, 0.45786040488304525, 1.1363970361612492], [0.7183598160902684, 0.8278369456630956, 1.8311712214560842, 1.9787542548830452, 0.1918292461612492], [0.2570285860902686, 0.20841767433690433, 0.1460534714560843, 0.058343425116954784, 0.22526245616124918], [2.5269229239097313, 1.4788734856630956, 0.4667561885439157, 0.2052898648830452, 1.255989186161249], [1.8708593739097314, 1.3798099256630956, 0.04356847145608428, 2.132910714883045, 2.389361556161249], [0.3361874639097315, 0.3013734843369043, 2.2790212014560844, 1.7550159448830451, 0.9907376561612491], [1.1713261160902686, 2.122239865663096, 2.5591791814560843, 0.6433333951169549, 0.09151839616124918], [0.7290240739097315, 0.9900525156630957, 0.6277264214560843, 1.3995420648830452, 0.08798294616124919], [2.2252916739097315, 0.025586724336904343, 0.7027536485439156, 2.0917558548830453, 1.2923707961612492], [2.0188143639097316, 1.0220234256630956, 0.5855301385439158, 0.07383936511695477, 1.4887333461612493], [0.8244272960902685, 1.2369826856630957, 0.7130994314560843, 0.2750746551169548, 0.5947318761612492], [0.1695051560902685, 0.6611453343369045, 1.7929981014560843, 2.104382234883045, 0.6786478438387507], [1.5165491439097314, 1.5048888656630957, 1.5605420014560842, 1.7898116848830452, 0.27262988616124917], [2.8285446139097314, 1.8762817556630955, 0.4321772214560843, 0.7213903751169548, 2.009286116161249], [0.7463343639097315, 0.04656898433690432, 0.7456108585439158, 0.5151054948830452, 1.8287373861612493], [1.3885311060902685, 0.45999401566309567, 0.09869674854391569, 1.766721254883045, 0.010827203838750799], [0.4755375939097315, 1.7995718556630955, 1.2852419714560843, 0.5662008748830452, 0.37481355383875076], [2.8345921939097316, 0.23552952433690427, 2.1153886514560845, 0.14988698488304522, 0.5919120961612492], [2.3495957339097315, 0.5429920056630957, 0.8444933514560843, 2.5490906048830455, 1.8430823161612493], [0.5253996160902685, 2.097277435663096, 0.27061605854391574, 1.6159961048830451, 1.5996132761612492], [1.1163811960902685, 0.48024188566309567, 0.7133666785439157, 0.48403011511695476, 0.2554738361612492], [0.9101631139097315, 0.07309448566309568, 0.9424349714560842, 1.5135708848830451, 0.36037421383875085], [2.7025917239097317, 2.0882150356630955, 1.8191567614560842, 2.5754893648830453, 1.3361987461612492]], 'X_feat_abs_recon_err': [[0.3468287539097315, 0.5398986356630957, 0.6114385314560843, 0.5368129748830452, 0.5504991461612492], [2.9452225439097313, 1.6275568956630957, 1.7539960414560842, 2.4141830148830454, 1.6250751661612493], [1.9378303339097316, 0.07439194433690433, 2.022369411456084, 0.055225864883045206, 1.058207896161249], [0.3679718960902685, 0.4487287156630957, 0.3065228014560843, 0.19852933488304522, 0.28023375383875077], [0.9956355260902685, 2.2457650956630957, 0.4700498285439157, 2.0015200648830453, 0.3272985461612492], [1.6550838639097314, 0.3251236656630957, 0.40363105854391573, 0.9434158548830451, 1.255040906161249], [2.5138066339097316, 0.5745615156630957, 1.1551778714560843, 0.9395891851169549, 2.212159376161249], [0.3675431239097315, 1.8139201156630955, 1.9343288114560842, 0.45786040488304525, 1.1363970361612492], [0.7183598160902684, 0.8278369456630956, 1.8311712214560842, 1.9787542548830452, 0.1918292461612492], [0.2570285860902686, 0.20841767433690433, 0.1460534714560843, 0.058343425116954784, 0.22526245616124918], [2.5269229239097313, 1.4788734856630956, 0.4667561885439157, 0.2052898648830452, 1.255989186161249], [1.8708593739097314, 1.3798099256630956, 0.04356847145608428, 2.132910714883045, 2.389361556161249], [0.3361874639097315, 0.3013734843369043, 2.2790212014560844, 1.7550159448830451, 0.9907376561612491], [1.1713261160902686, 2.122239865663096, 2.5591791814560843, 0.6433333951169549, 0.09151839616124918], [0.7290240739097315, 0.9900525156630957, 0.6277264214560843, 1.3995420648830452, 0.08798294616124919], [2.2252916739097315, 0.025586724336904343, 0.7027536485439156, 2.0917558548830453, 1.2923707961612492], [2.0188143639097316, 1.0220234256630956, 0.5855301385439158, 0.07383936511695477, 1.4887333461612493], [0.8244272960902685, 1.2369826856630957, 0.7130994314560843, 0.2750746551169548, 0.5947318761612492], [0.1695051560902685, 0.6611453343369045, 1.7929981014560843, 2.104382234883045, 0.6786478438387507], [1.5165491439097314, 1.5048888656630957, 1.5605420014560842, 1.7898116848830452, 0.27262988616124917], [2.8285446139097314, 1.8762817556630955, 0.4321772214560843, 0.7213903751169548, 2.009286116161249], [0.7463343639097315, 0.04656898433690432, 0.7456108585439158, 0.5151054948830452, 1.8287373861612493], [1.3885311060902685, 0.45999401566309567, 0.09869674854391569, 1.766721254883045, 0.010827203838750799], [0.4755375939097315, 1.7995718556630955, 1.2852419714560843, 0.5662008748830452, 0.37481355383875076], [2.8345921939097316, 0.23552952433690427, 2.1153886514560845, 0.14988698488304522, 0.5919120961612492], [2.3495957339097315, 0.5429920056630957, 0.8444933514560843, 2.5490906048830455, 1.8430823161612493], [0.5253996160902685, 2.097277435663096, 0.27061605854391574, 1.6159961048830451, 1.5996132761612492], [1.1163811960902685, 0.48024188566309567, 0.7133666785439157, 0.48403011511695476, 0.2554738361612492], [0.9101631139097315, 0.07309448566309568, 0.9424349714560842, 1.5135708848830451, 0.36037421383875085], [2.7025917239097317, 2.0882150356630955, 1.8191567614560842, 2.5754893648830453, 1.3361987461612492]], 'time_anom_flags': 0, 'mahalanobis_dist_time': [1.4787103052542059, 2.4558173597484743, 2.4684901320234713, 1.9558237448860492, 2.527578457718469, 1.3553267434211993, 2.070034531739191, 2.2802042072088753, 1.865751022027692, 2.314141715229078, 2.3115206419172574, 2.750725062615468, 2.6624529868034434, 2.655843451520148, 1.5579748520649621, 2.024561307896896, 1.8477489465402892, 1.3132488278853356, 2.3332459221510105, 1.7287558631785203, 2.4575439097606826, 2.5303830954580313, 2.507332559192213, 1.586821395672511, 3.218712508998426, 2.269020163261402, 2.594944720362648, 1.5987347906501632, 1.5739741373901819, 2.701860591703366], 'mahalanobis_dist_feat': [5.911473894576852, 5.340486336581629, 5.742131549374772, 6.4599097554958345, 4.868083690344623]}, {'feat_anom_flags': 0, 'X_time_abs_recon_err': [[0.3848516039097315, 0.9112678256630957, 1.0926819814560842, 0.7653224148830452, 0.41094610616124916], [2.7475169639097317, 2.305226455663096, 1.9889776014560843, 2.7005166248830452, 1.7733793461612493], [1.1770968439097316, 0.42642634433690435, 2.2189976214560843, 0.0875392648830452, 1.035074996161249], [0.9436838360902686, 0.5641105656630957, 0.9894770114560842, 0.4601730851169548, 0.3369845438387508], [0.10577816609026852, 1.9916223156630957, 0.2598603785439157, 1.606766944883045, 0.05728751616124922], [1.2521183639097315, 0.5837613256630957, 0.08475704145608431, 1.4773480348830452, 1.107011726161249], [2.3520657239097313, 0.3574040343369043, 0.9469614314560844, 0.19663180511695483, 1.9744189761612492], [0.6946416439097315, 2.0550655056630958, 2.2956712614560844, 1.0825778148830452, 1.0548029961612493], [0.8490810460902685, 0.5287664256630957, 1.1499950414560842, 2.111038894883045, 0.23618910383875086], [0.42200667390973146, 0.31104259566309567, 0.11206870854391571, 0.26452176488304524, 0.2780519061612492], [2.0347839839097315, 1.8856286956630957, 0.5646074585439156, 0.30113326511695476, 0.9085005361612493], [2.6139276839097314, 0.6781201156630956, 0.4861817814560843, 2.3120323148830453, 1.6539852461612492], [0.4870255460902685, 0.4338062843369043, 2.139595201456084, 1.3469584748830452, 0.6539878461612492], [0.9846162960902685, 1.8524799356630957, 2.485554141456084, 0.11238080511695481, 0.7271485338387507], [1.3033497139097314, 1.0567849856630958, 0.4454181614560843, 0.4504627348830452, 0.1792260038387508], [2.4143358739097316, 0.06328340566309565, 0.6224475485439156, 2.668431054883045, 1.5043259261612492], [1.6440033139097314, 1.6575838256630957, 0.5446228185439157, 0.15328839488304521, 1.7320682961612492], [0.7948790860902686, 1.9570051656630956, 1.2204591714560844, 0.030608105116954776, 0.4927751061612492], [0.5836316960902685, 0.2154293343369043, 2.3092586614560844, 2.531539784883045, 0.003687496161249193], [1.3118361039097315, 1.3389629856630956, 2.2021510814560843, 1.6357698348830452, 0.4360755561612492], [2.5908203339097313, 1.6375711556630956, 0.7806603514560844, 0.5517767451169548, 2.1007797661612493], [2.6484902060902686, 1.5202754443369044, 20.757706511456085, 2.9820156351169547, 21.933122493838752], [10.034828316090268, 9.198989925663096, 7.615454788543915, 37.987862834883046, 4.020684583838751], [0.25029462390973145, 33.457028334336904, 10.809715298543916, 3.2181474351169546, 11.532726983838751], [28.392580563909732, 9.744976195663096, 25.124960468543915, 7.770849764883045, 0.10345775616124919], [17.250161303909735, 0.2894622443369043, 16.387379168543916, 21.961661484883045, 10.60238220383875], [12.671400326090268, 24.762160505663093, 2.0007378414560844, 15.552946284883046, 10.80674168616125], [19.651484786090272, 6.431121685663096, 17.951827768543914, 16.100160115116957, 3.916724156161249], [5.172434883909731, 4.5542162456630955, 15.778959731456085, 17.855575354883044, 2.565427613838751], [29.66005135609027, 20.376050185663097, 14.232313308543915, 17.886504945116958, 9.49070962383875]], 'X_feat_abs_recon_err': [[0.3848516039097315, 0.9112678256630957, 1.0926819814560842, 0.7653224148830452, 0.41094610616124916], [2.7475169639097317, 2.305226455663096, 1.9889776014560843, 2.7005166248830452, 1.7733793461612493], [1.1770968439097316, 0.42642634433690435, 2.2189976214560843, 0.0875392648830452, 1.035074996161249], [0.9436838360902686, 0.5641105656630957, 0.9894770114560842, 0.4601730851169548, 0.3369845438387508], [0.10577816609026852, 1.9916223156630957, 0.2598603785439157, 1.606766944883045, 0.05728751616124922], [1.2521183639097315, 0.5837613256630957, 0.08475704145608431, 1.4773480348830452, 1.107011726161249], [2.3520657239097313, 0.3574040343369043, 0.9469614314560844, 0.19663180511695483, 1.9744189761612492], [0.6946416439097315, 2.0550655056630958, 2.2956712614560844, 1.0825778148830452, 1.0548029961612493], [0.8490810460902685, 0.5287664256630957, 1.1499950414560842, 2.111038894883045, 0.23618910383875086], [0.42200667390973146, 0.31104259566309567, 0.11206870854391571, 0.26452176488304524, 0.2780519061612492], [2.0347839839097315, 1.8856286956630957, 0.5646074585439156, 0.30113326511695476, 0.9085005361612493], [2.6139276839097314, 0.6781201156630956, 0.4861817814560843, 2.3120323148830453, 1.6539852461612492], [0.4870255460902685, 0.4338062843369043, 2.139595201456084, 1.3469584748830452, 0.6539878461612492], [0.9846162960902685, 1.8524799356630957, 2.485554141456084, 0.11238080511695481, 0.7271485338387507], [1.3033497139097314, 1.0567849856630958, 0.4454181614560843, 0.4504627348830452, 0.1792260038387508], [2.4143358739097316, 0.06328340566309565, 0.6224475485439156, 2.668431054883045, 1.5043259261612492], [1.6440033139097314, 1.6575838256630957, 0.5446228185439157, 0.15328839488304521, 1.7320682961612492], [0.7948790860902686, 1.9570051656630956, 1.2204591714560844, 0.030608105116954776, 0.4927751061612492], [0.5836316960902685, 0.2154293343369043, 2.3092586614560844, 2.531539784883045, 0.003687496161249193], [1.3118361039097315, 1.3389629856630956, 2.2021510814560843, 1.6357698348830452, 0.4360755561612492], [2.5908203339097313, 1.6375711556630956, 0.7806603514560844, 0.5517767451169548, 2.1007797661612493], [2.6484902060902686, 1.5202754443369044, 20.757706511456085, 2.9820156351169547, 21.933122493838752], [10.034828316090268, 9.198989925663096, 7.615454788543915, 37.987862834883046, 4.020684583838751], [0.25029462390973145, 33.457028334336904, 10.809715298543916, 3.2181474351169546, 11.532726983838751], [28.392580563909732, 9.744976195663096, 25.124960468543915, 7.770849764883045, 0.10345775616124919], [17.250161303909735, 0.2894622443369043, 16.387379168543916, 21.961661484883045, 10.60238220383875], [12.671400326090268, 24.762160505663093, 2.0007378414560844, 15.552946284883046, 10.80674168616125], [19.651484786090272, 6.431121685663096, 17.951827768543914, 16.100160115116957, 3.916724156161249], [5.172434883909731, 4.5542162456630955, 15.778959731456085, 17.855575354883044, 2.565427613838751], [29.66005135609027, 20.376050185663097, 14.232313308543915, 17.886504945116958, 9.49070962383875]], 'time_anom_flags': 1, 'mahalanobis_dist_time': [1.1598639324694533, 3.0283660979901286, 2.2901414103370596, 1.3363370660547131, 2.561850776655992, 1.4901622485407482, 2.3078207795132455, 2.2816798662840014, 1.8050667961131097, 2.099513080394855, 2.1278438388277694, 2.203610085744579, 1.996731071674375, 2.4570621502909282, 1.904725435117223, 2.5766822263259788, 1.9695123150287475, 1.93183222212376, 2.9656737595640847, 1.7172413410013057, 2.1778081344759106, 47.15251884990719, 48.528414138519516, 46.448758417297874, 45.89536569018616, 35.42557832337783, 37.762296913413614, 33.20255802989901, 28.03227387873435, 45.3458446313147], 'mahalanobis_dist_feat': [158.08350258380136, 167.44786343574762, 155.5896374199122, 175.71976634564479, 106.02064445966687]}, {'feat_anom_flags': 0, 'X_time_abs_recon_err': [[0.6113015139097315, 0.37961232566309566, 1.1872264714560843, 0.8620170248830452, 1.0522717161612491], [2.6032099039097316, 1.6192452156630956, 1.7559084314560842, 1.8345640848830451, 2.266896136161249], [1.8093687539097314, 0.2668748243369043, 2.2374396514560844, 0.0677016651169548, 1.4649975961612491], [0.8427202260902684, 0.5143960456630957, 0.8052965714560842, 0.5116019651169548, 0.43185293383875084], [0.6720255860902686, 2.3565260456630956, 0.38880554854391575, 2.023972364883045, 0.26746471616124917], [1.6857178939097315, 0.5747273756630957, 0.3501533614560843, 1.3068989148830452, 1.5753310661612492], [2.1617972839097312, 0.21103046566309566, 1.9015438614560842, 0.1042859951169548, 2.253301856161249], [0.9674209639097314, 2.3922615156630958, 2.508744601456084, 1.3027336648830452, 0.7821060761612493], [0.7513414160902685, 0.9992345556630957, 1.8750288014560843, 1.8589020748830452, 0.2134986061612492], [0.12077948390973148, 0.23405655433690437, 0.07144769145608432, 0.18101819511695477, 0.2683626761612492], [2.4788140339097313, 2.0154349056630956, 0.8491191785439158, 0.1432285951169548, 1.3230926261612492], [1.9813011039097315, 1.0815259956630956, 0.6077736414560844, 2.1750067148830454, 1.7192847061612493], [0.2060019760902685, 0.2472851143369043, 1.7921098114560843, 0.9893464248830453, 0.5049580361612491], [0.8472897260902685, 1.9415598356630956, 1.8904070214560842, 0.5381177551169547, 0.0957297261612492], [1.3663354139097315, 1.7595281556630957, 1.2797840114560843, 0.7761826048830452, 0.2526272961612492], [2.7072297739097313, 0.6351300743369044, 0.33323718854391565, 1.9210554248830451, 1.3634618261612492], [1.4985011639097314, 1.1320560056630957, 0.1297063685439157, 0.0556138748830452, 1.7659049561612492], [0.9939282460902685, 1.2243788056630958, 0.9118693414560843, 0.3379600451169548, 0.9843187161612492], [0.8485279060902686, 0.07096770566309568, 1.7558256714560843, 2.2499078248830453, 0.08507002383875079], [1.7375924839097314, 0.9636686756630957, 1.3161003714560844, 1.4336843448830452, 0.008651623838750788], [2.6315772839097313, 1.6624241656630956, 0.8334149414560843, 0.12211757511695476, 1.2666369061612492], [0.8188001539097315, 0.05651684433690435, 0.8596311085439157, 0.9696257348830453, 1.5021274861612492], [1.3055633060902685, 0.9602965456630956, 0.3193967314560843, 1.7893144848830451, 0.061879393838750796], [0.5216579139097315, 1.6398434056630957, 1.1628559914560843, 0.020987465116954762, 0.32299056383875085], [2.0346197439097313, 0.20704832566309567, 1.7992758114560843, 0.4004244951169548, 0.2066705361612492], [2.5835922639097313, 0.20957172566309568, 1.1220173714560844, 2.4951167348830454, 1.7440911061612492], [0.009899516090268512, 1.6563991356630956, 0.1816473214560843, 1.716692094883045, 1.6274112661612492], [0.5717937560902685, 0.20398322566309568, 0.04797754854391567, 0.13543857511695478, 0.08272517616124919], [0.7631931439097315, 0.4109569056630957, 1.1524236814560842, 0.6202643348830452, 0.10711569616124919], [2.5673925139097316, 1.8223423756630956, 1.5955835414560842, 1.9632460648830452, 0.4271448461612492]], 'X_feat_abs_recon_err': [[0.6113015139097315, 0.37961232566309566, 1.1872264714560843, 0.8620170248830452, 1.0522717161612491], [2.6032099039097316, 1.6192452156630956, 1.7559084314560842, 1.8345640848830451, 2.266896136161249], [1.8093687539097314, 0.2668748243369043, 2.2374396514560844, 0.0677016651169548, 1.4649975961612491], [0.8427202260902684, 0.5143960456630957, 0.8052965714560842, 0.5116019651169548, 0.43185293383875084], [0.6720255860902686, 2.3565260456630956, 0.38880554854391575, 2.023972364883045, 0.26746471616124917], [1.6857178939097315, 0.5747273756630957, 0.3501533614560843, 1.3068989148830452, 1.5753310661612492], [2.1617972839097312, 0.21103046566309566, 1.9015438614560842, 0.1042859951169548, 2.253301856161249], [0.9674209639097314, 2.3922615156630958, 2.508744601456084, 1.3027336648830452, 0.7821060761612493], [0.7513414160902685, 0.9992345556630957, 1.8750288014560843, 1.8589020748830452, 0.2134986061612492], [0.12077948390973148, 0.23405655433690437, 0.07144769145608432, 0.18101819511695477, 0.2683626761612492], [2.4788140339097313, 2.0154349056630956, 0.8491191785439158, 0.1432285951169548, 1.3230926261612492], [1.9813011039097315, 1.0815259956630956, 0.6077736414560844, 2.1750067148830454, 1.7192847061612493], [0.2060019760902685, 0.2472851143369043, 1.7921098114560843, 0.9893464248830453, 0.5049580361612491], [0.8472897260902685, 1.9415598356630956, 1.8904070214560842, 0.5381177551169547, 0.0957297261612492], [1.3663354139097315, 1.7595281556630957, 1.2797840114560843, 0.7761826048830452, 0.2526272961612492], [2.7072297739097313, 0.6351300743369044, 0.33323718854391565, 1.9210554248830451, 1.3634618261612492], [1.4985011639097314, 1.1320560056630957, 0.1297063685439157, 0.0556138748830452, 1.7659049561612492], [0.9939282460902685, 1.2243788056630958, 0.9118693414560843, 0.3379600451169548, 0.9843187161612492], [0.8485279060902686, 0.07096770566309568, 1.7558256714560843, 2.2499078248830453, 0.08507002383875079], [1.7375924839097314, 0.9636686756630957, 1.3161003714560844, 1.4336843448830452, 0.008651623838750788], [2.6315772839097313, 1.6624241656630956, 0.8334149414560843, 0.12211757511695476, 1.2666369061612492], [0.8188001539097315, 0.05651684433690435, 0.8596311085439157, 0.9696257348830453, 1.5021274861612492], [1.3055633060902685, 0.9602965456630956, 0.3193967314560843, 1.7893144848830451, 0.061879393838750796], [0.5216579139097315, 1.6398434056630957, 1.1628559914560843, 0.020987465116954762, 0.32299056383875085], [2.0346197439097313, 0.20704832566309567, 1.7992758114560843, 0.4004244951169548, 0.2066705361612492], [2.5835922639097313, 0.20957172566309568, 1.1220173714560844, 2.4951167348830454, 1.7440911061612492], [0.009899516090268512, 1.6563991356630956, 0.1816473214560843, 1.716692094883045, 1.6274112661612492], [0.5717937560902685, 0.20398322566309568, 0.04797754854391567, 0.13543857511695478, 0.08272517616124919], [0.7631931439097315, 0.4109569056630957, 1.1524236814560842, 0.6202643348830452, 0.10711569616124919], [2.5673925139097316, 1.8223423756630956, 1.5955835414560842, 1.9632460648830452, 0.4271448461612492]], 'time_anom_flags': 0, 'mahalanobis_dist_time': [1.433903316864064, 2.335644709722198, 2.593476025781798, 1.2801210413923088, 2.7422852617913303, 1.3939832974392632, 3.0318931747080935, 2.5172487980192675, 1.7594126749054941, 2.3036743858767346, 2.4053811853211444, 1.7731239934706018, 1.966599217794833, 2.067131157415921, 1.6665088073730374, 2.177450568531921, 2.1569638496801544, 1.0948409473114598, 2.4054741615351913, 1.9897126134135004, 2.391244198242399, 1.9402146073934436, 2.186695156344525, 1.843034486751349, 2.5389927984659586, 2.3771914316659113, 2.978527255038054, 2.3994210157013285, 1.5398942612652522, 2.6649420037709017], 'mahalanobis_dist_feat': [5.100647329102616, 5.367986104957011, 6.2397725872183605, 5.665489567939202, 5.648668106482305]}, {'feat_anom_flags': 0, 'X_time_abs_recon_err': [[1.2346722939097314, 1.2098563056630958, 1.1996455514560842, 1.1797839448830452, 1.1925468061612492], [2.6591127839097313, 2.2326420656630956, 2.2463129414560843, 1.9118971948830452, 1.5365244061612493], [1.7718798439097314, 0.14690266566309568, 1.9022988614560843, 0.2277623348830452, 1.5638188861612492], [0.8410535760902684, 0.4579230856630957, 0.4051524914560843, 0.09700708488304521, 0.3491484638387508], [0.9143504260902686, 2.1843458256630957, 0.7838023685439157, 2.115031074883045, 0.35032074383875084], [1.2959128939097315, 0.44864386566309566, 0.2727502785439157, 1.6035217148830452, 0.8339008961612492], [3.1032073139097314, 0.20478693566309566, 1.0899594214560844, 0.38959419511695476, 1.6049572861612493], [1.0408750639097315, 2.215286995663096, 2.414722331456084, 0.9132513648830451, 1.3644872461612492], [1.1137755060902685, 0.9754611756630958, 1.9112399914560843, 2.0945746248830455, 0.14788138383875082], [0.11531457390973149, 0.11829527433690434, 0.1023247614560843, 0.1987453651169548, 0.45950193383875076], [2.7335974039097315, 2.195505485663096, 0.048727748543915705, 0.4239606451169548, 1.4444104861612492], [2.4509752739097315, 1.4754284356630956, 0.5561820914560843, 1.8816864448830453, 1.6822744361612492], [0.5049334660902686, 0.1520797543369043, 1.8029429314560843, 1.2545091448830452, 0.4728500161612492], [1.1225257460902685, 1.9298210456630955, 2.0292848514560844, 0.16216730511695482, 0.34207112383875077], [0.8602804139097314, 1.3770292056630957, 0.4939687214560843, 1.0745343748830452, 0.6740200961612492], [2.8135107539097315, 0.1367544943369043, 0.1664648285439157, 2.248973184883045, 1.6426332861612492], [1.3968086439097316, 1.2988740956630958, 0.5579684385439156, 0.14750034511695476, 2.060838566161249], [0.8312459460902686, 2.1684419956630956, 1.4335484014560842, 0.0639562248830452, 1.0681873361612493], [0.8570964460902686, 0.5244461043369044, 2.612339001456084, 2.1142564248830453, 0.031588843838750824], [1.3189733139097315, 1.1374527656630957, 2.1505341614560844, 1.7945638048830452, 0.7268931161612492], [2.9108641639097317, 1.5802311856630957, 0.8043932614560843, 0.7846090151169549, 2.230322416161249], [3.2004679660902684, 17.264229884336906, 4.022431498543916, 20.294605795116958, 22.205525676161248], [14.841241746090269, 2.0958642056630956, 10.208782148543916, 37.85503449488305, 1.5888788861612493], [3.3864399860902683, 20.536258154336906, 12.477168248543915, 8.865616865116955, 2.2214300561612492], [26.60191706390973, 6.694559545663096, 23.297799648543915, 10.454820095116954, 9.092970306161249], [36.01931473390973, 1.1633270943369043, 23.604753518543916, 15.208863174883046, 17.651707223838752], [8.212273506090268, 21.375152885663095, 7.633426888543915, 7.758110775116954, 16.49660742383875], [22.94459944390973, 0.5963294943369044, 11.594684501456085, 19.764764114883043, 0.5614953761612492], [17.913620666090267, 4.220079335663096, 9.799674111456085, 4.053965065116954, 14.327739306161249], [30.742207513909733, 30.098003674336905, 26.360354041456084, 43.25023753511695, 12.49556950616125]], 'X_feat_abs_recon_err': [[1.2346722939097314, 1.2098563056630958, 1.1996455514560842, 1.1797839448830452, 1.1925468061612492], [2.6591127839097313, 2.2326420656630956, 2.2463129414560843, 1.9118971948830452, 1.5365244061612493], [1.7718798439097314, 0.14690266566309568, 1.9022988614560843, 0.2277623348830452, 1.5638188861612492], [0.8410535760902684, 0.4579230856630957, 0.4051524914560843, 0.09700708488304521, 0.3491484638387508], [0.9143504260902686, 2.1843458256630957, 0.7838023685439157, 2.115031074883045, 0.35032074383875084], [1.2959128939097315, 0.44864386566309566, 0.2727502785439157, 1.6035217148830452, 0.8339008961612492], [3.1032073139097314, 0.20478693566309566, 1.0899594214560844, 0.38959419511695476, 1.6049572861612493], [1.0408750639097315, 2.215286995663096, 2.414722331456084, 0.9132513648830451, 1.3644872461612492], [1.1137755060902685, 0.9754611756630958, 1.9112399914560843, 2.0945746248830455, 0.14788138383875082], [0.11531457390973149, 0.11829527433690434, 0.1023247614560843, 0.1987453651169548, 0.45950193383875076], [2.7335974039097315, 2.195505485663096, 0.048727748543915705, 0.4239606451169548, 1.4444104861612492], [2.4509752739097315, 1.4754284356630956, 0.5561820914560843, 1.8816864448830453, 1.6822744361612492], [0.5049334660902686, 0.1520797543369043, 1.8029429314560843, 1.2545091448830452, 0.4728500161612492], [1.1225257460902685, 1.9298210456630955, 2.0292848514560844, 0.16216730511695482, 0.34207112383875077], [0.8602804139097314, 1.3770292056630957, 0.4939687214560843, 1.0745343748830452, 0.6740200961612492], [2.8135107539097315, 0.1367544943369043, 0.1664648285439157, 2.248973184883045, 1.6426332861612492], [1.3968086439097316, 1.2988740956630958, 0.5579684385439156, 0.14750034511695476, 2.060838566161249], [0.8312459460902686, 2.1684419956630956, 1.4335484014560842, 0.0639562248830452, 1.0681873361612493], [0.8570964460902686, 0.5244461043369044, 2.612339001456084, 2.1142564248830453, 0.031588843838750824], [1.3189733139097315, 1.1374527656630957, 2.1505341614560844, 1.7945638048830452, 0.7268931161612492], [2.9108641639097317, 1.5802311856630957, 0.8043932614560843, 0.7846090151169549, 2.230322416161249], [3.2004679660902684, 17.264229884336906, 4.022431498543916, 20.294605795116958, 22.205525676161248], [14.841241746090269, 2.0958642056630956, 10.208782148543916, 37.85503449488305, 1.5888788861612493], [3.3864399860902683, 20.536258154336906, 12.477168248543915, 8.865616865116955, 2.2214300561612492], [26.60191706390973, 6.694559545663096, 23.297799648543915, 10.454820095116954, 9.092970306161249], [36.01931473390973, 1.1633270943369043, 23.604753518543916, 15.208863174883046, 17.651707223838752], [8.212273506090268, 21.375152885663095, 7.633426888543915, 7.758110775116954, 16.49660742383875], [22.94459944390973, 0.5963294943369044, 11.594684501456085, 19.764764114883043, 0.5614953761612492], [17.913620666090267, 4.220079335663096, 9.799674111456085, 4.053965065116954, 14.327739306161249], [30.742207513909733, 30.098003674336905, 26.360354041456084, 43.25023753511695, 12.49556950616125]], 'time_anom_flags': 1, 'mahalanobis_dist_time': [0.5588954717103636, 2.5739708941131463, 2.346820810566342, 1.8945878633564464, 2.3791920904512573, 1.453349554519034, 2.664172815098754, 2.50645704307233, 1.9779298415293416, 2.2999851272190908, 2.9700025632316276, 1.8381785725252378, 1.8302614734606508, 2.2044258970558137, 1.1068432696149324, 2.687938836777808, 2.2635996361147037, 2.1122861375168718, 2.699111004379943, 1.5869310765872862, 2.3260037472941066, 47.31228502638312, 48.5159291917959, 29.74173689454202, 39.559207899716384, 48.875450671621856, 35.70247623304915, 36.08013814295898, 24.83518846608623, 74.23723217223046], 'mahalanobis_dist_feat': [192.90424252435483, 157.77576924132592, 149.07234017373227, 213.39543562656004, 133.16082081113734]}, {'feat_anom_flags': 0, 'X_time_abs_recon_err': [[0.49624957390973146, 0.7309724956630956, 0.5046389814560843, 0.9249175048830451, 0.6517302661612492], [2.3599523239097313, 1.7880710756630955, 2.534326011456084, 2.5323457248830454, 1.7145893961612493], [1.2757808639097314, 0.21614316566309566, 2.0891182614560844, 0.33532342488304523, 1.0742394261612491], [0.4530184360902685, 0.7364285656630957, 0.4997933314560843, 0.5650188851169549, 0.4145530661612492], [0.9910480760902685, 1.7426663056630955, 0.7983601285439157, 2.3504984448830455, 0.09589099383875083], [1.9769495439097315, 0.19965774433690436, 0.5490710385439157, 1.5042340948830453, 1.3636619761612492], [2.1307830739097318, 0.5314989956630957, 1.6072866314560843, 0.1483976451169548, 2.435332166161249], [0.6335149639097315, 2.512100745663096, 1.8695235114560842, 0.8687919848830452, 1.5333186461612494], [0.6264512660902686, 0.8817830056630958, 1.1151094214560844, 2.6260545348830453, 0.12121726383875081], [0.4511224639097315, 0.4894087943369044, 0.35746581854391574, 0.17278420488304522, 0.2769677761612492], [2.3853776039097316, 1.7352022656630957, 0.8497622485439158, 0.5165485651169548, 1.1338275061612493], [2.6401780439097315, 0.8990441756630956, 0.04760710145608432, 1.9664051948830452, 1.7800230161612491], [0.04302903390973145, 0.031069955663095672, 2.1747358314560845, 1.0389177048830451, 0.4377385161612492], [0.47588724609026856, 2.130442715663096, 1.7991987114560843, 0.5582569151169547, 0.09491303383875083], [0.9369641139097314, 1.3893338856630957, 1.0128569714560842, 0.9383999448830451, 0.16978745383875077], [2.2239128539097317, 0.1529828443369043, 0.6712420685439158, 2.2520263648830454, 1.7235374761612492], [1.6965217839097315, 1.3015887056630957, 0.05368974854391567, 0.3195391848830452, 1.4318812861612493], [0.5618090760902685, 1.1876882356630958, 1.4813408414560842, 0.19244090511695483, 0.5838269261612492], [0.1980530860902685, 0.08443167433690435, 1.7875127014560843, 1.8835057948830451, 0.6902465438387508], [1.8097152639097316, 1.4014520256630956, 1.8635857614560842, 1.2255163048830453, 0.020441953838750804], [2.7981768539097316, 1.8966231656630956, 0.5643839714560843, 0.3210043451169548, 2.067144166161249], [0.5927103839097314, 0.29645466566309564, 0.7585260885439158, 1.1203351148830452, 1.7173755561612492], [0.8300878060902686, 0.7542701056630956, 0.5855794014560843, 1.8020137948830453, 0.6712005461612491], [0.5749873439097315, 2.297500335663096, 1.5582003414560843, 0.3033524848830452, 0.7415842638387506], [1.9872024539097315, 0.2869423256630957, 1.9609001414560843, 0.29455884488304523, 0.6892261661612492], [2.2939730339097313, 0.4833135756630957, 1.5053633114560843, 2.2611227248830454, 2.212978366161249], [0.02879111609026852, 2.099296915663096, 0.22549831854391572, 0.8472979648830452, 1.0641229761612492], [0.4249207160902685, 0.20334702566309568, 0.7232724285439158, 0.08116850511695478, 0.3494753961612492], [0.8795962539097315, 0.15853922433690432, 0.4166954714560843, 1.0742151648830451, 0.24891014616124918], [2.8491797939097316, 2.5251755956630957, 1.5816363314560842, 2.3998214348830453, 0.6785323861612491]], 'X_feat_abs_recon_err': [[0.49624957390973146, 0.7309724956630956, 0.5046389814560843, 0.9249175048830451, 0.6517302661612492], [2.3599523239097313, 1.7880710756630955, 2.534326011456084, 2.5323457248830454, 1.7145893961612493], [1.2757808639097314, 0.21614316566309566, 2.0891182614560844, 0.33532342488304523, 1.0742394261612491], [0.4530184360902685, 0.7364285656630957, 0.4997933314560843, 0.5650188851169549, 0.4145530661612492], [0.9910480760902685, 1.7426663056630955, 0.7983601285439157, 2.3504984448830455, 0.09589099383875083], [1.9769495439097315, 0.19965774433690436, 0.5490710385439157, 1.5042340948830453, 1.3636619761612492], [2.1307830739097318, 0.5314989956630957, 1.6072866314560843, 0.1483976451169548, 2.435332166161249], [0.6335149639097315, 2.512100745663096, 1.8695235114560842, 0.8687919848830452, 1.5333186461612494], [0.6264512660902686, 0.8817830056630958, 1.1151094214560844, 2.6260545348830453, 0.12121726383875081], [0.4511224639097315, 0.4894087943369044, 0.35746581854391574, 0.17278420488304522, 0.2769677761612492], [2.3853776039097316, 1.7352022656630957, 0.8497622485439158, 0.5165485651169548, 1.1338275061612493], [2.6401780439097315, 0.8990441756630956, 0.04760710145608432, 1.9664051948830452, 1.7800230161612491], [0.04302903390973145, 0.031069955663095672, 2.1747358314560845, 1.0389177048830451, 0.4377385161612492], [0.47588724609026856, 2.130442715663096, 1.7991987114560843, 0.5582569151169547, 0.09491303383875083], [0.9369641139097314, 1.3893338856630957, 1.0128569714560842, 0.9383999448830451, 0.16978745383875077], [2.2239128539097317, 0.1529828443369043, 0.6712420685439158, 2.2520263648830454, 1.7235374761612492], [1.6965217839097315, 1.3015887056630957, 0.05368974854391567, 0.3195391848830452, 1.4318812861612493], [0.5618090760902685, 1.1876882356630958, 1.4813408414560842, 0.19244090511695483, 0.5838269261612492], [0.1980530860902685, 0.08443167433690435, 1.7875127014560843, 1.8835057948830451, 0.6902465438387508], [1.8097152639097316, 1.4014520256630956, 1.8635857614560842, 1.2255163048830453, 0.020441953838750804], [2.7981768539097316, 1.8966231656630956, 0.5643839714560843, 0.3210043451169548, 2.067144166161249], [0.5927103839097314, 0.29645466566309564, 0.7585260885439158, 1.1203351148830452, 1.7173755561612492], [0.8300878060902686, 0.7542701056630956, 0.5855794014560843, 1.8020137948830453, 0.6712005461612491], [0.5749873439097315, 2.297500335663096, 1.5582003414560843, 0.3033524848830452, 0.7415842638387506], [1.9872024539097315, 0.2869423256630957, 1.9609001414560843, 0.29455884488304523, 0.6892261661612492], [2.2939730339097313, 0.4833135756630957, 1.5053633114560843, 2.2611227248830454, 2.212978366161249], [0.02879111609026852, 2.099296915663096, 0.22549831854391572, 0.8472979648830452, 1.0641229761612492], [0.4249207160902685, 0.20334702566309568, 0.7232724285439158, 0.08116850511695478, 0.3494753961612492], [0.8795962539097315, 0.15853922433690432, 0.4166954714560843, 1.0742151648830451, 0.24891014616124918], [2.8491797939097316, 2.5251755956630957, 1.5816363314560842, 2.3998214348830453, 0.6785323861612491]], 'time_anom_flags': 0, 'mahalanobis_dist_time': [1.220976218597815, 2.8461008194814554, 2.117564118919169, 1.422930972261102, 2.4608369250461193, 1.532401455359586, 2.899497027977318, 2.738081420796409, 2.421596249923039, 1.9083805878239217, 1.938887110767711, 2.3017004563461505, 2.5519995068553687, 2.194978914667377, 1.3324560767443774, 2.163431516041984, 1.86969748501268, 1.512073658085171, 2.4352643034891517, 2.1794521774531384, 2.617058761475647, 2.256094968387126, 1.35660526957183, 2.138525911187484, 2.208177102559617, 2.4538974380621714, 2.469786955482979, 1.9520091947563107, 1.7334067340222066, 3.3565559387955615], 'mahalanobis_dist_feat': [5.315278737759182, 5.297504150973874, 5.641375094580291, 5.1984231502745155, 5.984224094005502]}, {'feat_anom_flags': 0, 'X_time_abs_recon_err': [[0.8678165439097315, 1.1642569366630957, 0.3922822514560843, 0.36667152248304524, 1.0669775461612492], [2.6503707739097315, 2.3606360156630957, 2.1182674714560843, 2.6704134448830454, 1.6959137561612492], [1.8687901939097316, 0.3504846313369043, 1.6905204914560843, 0.11405589811695477, 1.7647592061612491], [0.9447891060902684, 0.48198815366309566, 0.9226244614560843, 0.07713022311695478, 0.2304030761612492], [0.4730458160902685, 2.0161905456630955, 0.18032015854391564, 1.7257189748830453, 0.11021550383875078], [1.6176732539097314, 0.5221076416630956, 0.1888605485439157, 1.0447476858830451, 0.6779578061612492], [2.1431047739097315, 0.34175177156309566, 1.2139106114560843, 0.8884938951169548, 2.0169056661612492], [0.4710067039097315, 2.1810077956630955, 2.5781834314560843, 0.4860683458830452, 0.9174450761612492], [0.6160203660902686, 1.0383793666630956, 1.4398018714560843, 1.9778267648830452, 0.1370012561612492], [0.5666978239097314, 0.09413875633690433, 0.1296405485439157, 0.26729417011695483, 0.1280744161612492], [2.5707961039097316, 1.9185467256630957, 1.0092461985439158, 0.6318227091169548, 1.7985449661612491], [2.0271228939097314, 0.7566235806630957, 0.5673080014560843, 1.9752211048830453, 1.8630692161612492], [0.2755549660902685, 0.10593316933690433, 1.4849358314560843, 1.8272532348830453, 1.0623863861612493], [0.5339611460902686, 1.7340310456630956, 2.5237935414560844, 0.5655058851169548, 0.1247227961612492], [1.2419327339097315, 0.9044289766630957, 0.5395343314560843, 1.385731154883045, 0.19132118616124918], [2.2239907839097315, 0.05741605833690433, 0.5843510285439157, 2.4470824448830455, 1.6404708361612492], [1.9627829939097314, 1.2870147426630956, 0.7234685285439157, 0.5004445188830452, 1.6738610561612492], [0.8797349860902686, 1.5688347656630957, 0.8428288414560843, 0.5434688681169548, 0.2685441661612492], [0.5970999860902685, 0.33536821933690436, 2.6292455414560845, 1.6734218648830452, 0.3605590038387508], [1.6298187939097315, 0.9059126746630957, 1.7421107914560843, 1.0523827478830452, 0.7574836861612492], [2.9483503439097314, 2.0538138056630957, 0.6775915714560843, 0.9048738251169548, 2.123046536161249], [4.705290733909732, 5.652409295663096, 9.063497461456084, 6.507592115116955, 25.94323250383875], [25.289316793909734, 2.6081042043369043, 1.7868662414560843, 29.087619734883045, 2.191454393838751], [0.9043132960902684, 15.416277974336905, 19.997064871456086, 3.0556301748830452, 17.41410928383875], [17.69321888390973, 0.3832156295630957, 14.553687218543915, 10.899633565116954, 3.247283436161249], [20.215191716090267, 6.231940825663096, 7.829500131456085, 25.191101565116956, 24.652097076161247], [4.251825136090268, 23.895070625663095, 16.086897098543915, 14.723673165116955, 9.99808291383875], [23.601759386090265, 2.257047515663096, 7.713256498543915, 9.184380295116954, 7.203454176161249], [18.46540275390973, 7.433195545663096, 10.853450331456084, 10.411566965116954, 4.016541306161249], [21.29836490609027, 21.142617425663094, 22.445493848543915, 27.819492665116957, 19.210947126161248]], 'X_feat_abs_recon_err': [[0.8678165439097315, 1.1642569366630957, 0.3922822514560843, 0.36667152248304524, 1.0669775461612492], [2.6503707739097315, 2.3606360156630957, 2.1182674714560843, 2.6704134448830454, 1.6959137561612492], [1.8687901939097316, 0.3504846313369043, 1.6905204914560843, 0.11405589811695477, 1.7647592061612491], [0.9447891060902684, 0.48198815366309566, 0.9226244614560843, 0.07713022311695478, 0.2304030761612492], [0.4730458160902685, 2.0161905456630955, 0.18032015854391564, 1.7257189748830453, 0.11021550383875078], [1.6176732539097314, 0.5221076416630956, 0.1888605485439157, 1.0447476858830451, 0.6779578061612492], [2.1431047739097315, 0.34175177156309566, 1.2139106114560843, 0.8884938951169548, 2.0169056661612492], [0.4710067039097315, 2.1810077956630955, 2.5781834314560843, 0.4860683458830452, 0.9174450761612492], [0.6160203660902686, 1.0383793666630956, 1.4398018714560843, 1.9778267648830452, 0.1370012561612492], [0.5666978239097314, 0.09413875633690433, 0.1296405485439157, 0.26729417011695483, 0.1280744161612492], [2.5707961039097316, 1.9185467256630957, 1.0092461985439158, 0.6318227091169548, 1.7985449661612491], [2.0271228939097314, 0.7566235806630957, 0.5673080014560843, 1.9752211048830453, 1.8630692161612492], [0.2755549660902685, 0.10593316933690433, 1.4849358314560843, 1.8272532348830453, 1.0623863861612493], [0.5339611460902686, 1.7340310456630956, 2.5237935414560844, 0.5655058851169548, 0.1247227961612492], [1.2419327339097315, 0.9044289766630957, 0.5395343314560843, 1.385731154883045, 0.19132118616124918], [2.2239907839097315, 0.05741605833690433, 0.5843510285439157, 2.4470824448830455, 1.6404708361612492], [1.9627829939097314, 1.2870147426630956, 0.7234685285439157, 0.5004445188830452, 1.6738610561612492], [0.8797349860902686, 1.5688347656630957, 0.8428288414560843, 0.5434688681169548, 0.2685441661612492], [0.5970999860902685, 0.33536821933690436, 2.6292455414560845, 1.6734218648830452, 0.3605590038387508], [1.6298187939097315, 0.9059126746630957, 1.7421107914560843, 1.0523827478830452, 0.7574836861612492], [2.9483503439097314, 2.0538138056630957, 0.6775915714560843, 0.9048738251169548, 2.123046536161249], [4.705290733909732, 5.652409295663096, 9.063497461456084, 6.507592115116955, 25.94323250383875], [25.289316793909734, 2.6081042043369043, 1.7868662414560843, 29.087619734883045, 2.191454393838751], [0.9043132960902684, 15.416277974336905, 19.997064871456086, 3.0556301748830452, 17.41410928383875], [17.69321888390973, 0.3832156295630957, 14.553687218543915, 10.899633565116954, 3.247283436161249], [20.215191716090267, 6.231940825663096, 7.829500131456085, 25.191101565116956, 24.652097076161247], [4.251825136090268, 23.895070625663095, 16.086897098543915, 14.723673165116955, 9.99808291383875], [23.601759386090265, 2.257047515663096, 7.713256498543915, 9.184380295116954, 7.203454176161249], [18.46540275390973, 7.433195545663096, 10.853450331456084, 10.411566965116954, 4.016541306161249], [21.29836490609027, 21.142617425663094, 22.445493848543915, 27.819492665116957, 19.210947126161248]], 'time_anom_flags': 1, 'mahalanobis_dist_time': [1.3929650155528772, 3.0463698860719144, 2.325889277053378, 1.8174106324883144, 2.5578486047038824, 1.623316731066531, 1.925896559387933, 2.802116825857647, 1.7698745793688424, 2.289679384483796, 2.0617233270932007, 1.7808033377361763, 2.381960806197867, 2.4315831247217026, 1.614135246918324, 2.3728022562342423, 1.4871704001880506, 1.5023387485431257, 2.5547842553573523, 1.0050603487472003, 2.5269961249329356, 44.135229780973866, 44.418361904644335, 43.285825755697715, 26.37591672304012, 45.47595463684433, 40.62186500897562, 27.033044867178795, 25.45294044036559, 54.80859283087541], 'mahalanobis_dist_feat': [158.01782636801002, 124.73122180748803, 139.76823192885522, 163.742665756251, 160.7485657492902]}]}\n"
     ]
    }
   ],
   "source": [
    "# Send instance dictionary to receive response from ML-Engine for online prediction\n",
    "from googleapiclient import discovery\n",
    "from oauth2client.client import GoogleCredentials\n",
    "import json\n",
    "\n",
    "credentials = GoogleCredentials.get_application_default()\n",
    "api = discovery.build(\"ml\", \"v1\", credentials = credentials)\n",
    "\n",
    "request_data = {\"instances\": instances}\n",
    "\n",
    "parent = \"projects/%s/models/%s/versions/%s\" % (PROJECT, \"anomaly_detection_lstm_unlabeled\", \"v1\")\n",
    "response = api.projects().predict(body = request_data, name = parent).execute()\n",
    "print(\"response = {}\".format(response))"
   ]
  },
  {
   "cell_type": "markdown",
   "metadata": {},
   "source": [
    "### PCA Autoencoder"
   ]
  },
  {
   "cell_type": "code",
   "execution_count": 37,
   "metadata": {},
   "outputs": [
    {
     "name": "stdout",
     "output_type": "stream",
     "text": [
      "response = {'predictions': [{'feat_anom_flags': 0, 'X_time_abs_recon_err': [[0.05855919433258866, 0.49859375222010854, 0.4402078430191428, 0.09126535727640259, 0.12279726587824286], [0.10734155391594857, 0.859007319121039, 1.3976481472715585, 1.2460769911934573, 0.2470381787927628], [0.2762861227137875, 0.9572483704425702, 0.8906983825981, 0.3281615638088393, 0.5645673802834239], [0.015942816211133914, 0.052139600236564686, 0.2766377614746027, 0.5286932815852369, 0.17345959952139434], [0.14818932165640408, 1.5643712260493599, 1.2236252549046478, 0.9863061232237782, 0.4421505975500568], [0.24870158607659076, 0.5476058264051152, 0.9929231196016819, 0.23428005375223346, 0.4106967674591592], [0.14647718361356232, 0.6870212778722063, 0.6391562046570125, 1.6765849416309777, 0.02990980109603847], [0.39592098401335163, 1.3847052927148453, 0.9890659553427278, 0.44341752749164415, 0.7110290973489316], [0.06747709312620076, 0.40209102465052426, 0.2925474501399289, 1.2169447958148756, 0.4098726633177132], [0.10770309202873074, 1.5004755610351863, 1.1064395738226345, 0.21407262932760673, 0.021204413208336492], [0.2993452143753631, 1.049357125330515, 1.142411529138647, 0.8595720204421783, 0.3314557873393182], [0.27473656275459235, 0.3433550129609727, 0.17915354354780966, 0.7884746244512084, 0.3807252524243512], [0.4106171406638811, 1.6539559148646428, 0.6043746397035661, 0.38844504563171933, 0.7402586770052896], [0.24607622077609625, 0.4410245340935083, 1.176917955543239, 0.9823029890211249, 0.42716559257432407], [0.3860994572023078, 0.007852389559601766, 0.16455669790377953, 0.3309225956542395, 0.8206502115892914], [0.029885521652473823, 1.3186962413694179, 1.5114398990211766, 0.7596264358734302, 0.12168299216623657], [0.25227871042164496, 0.1697688202658184, 1.5558328374011992, 1.207604567715731, 0.9245925549293593], [0.20978246577383564, 0.5420861713495456, 0.43953603962411864, 0.8086975565322803, 0.5180176754953341], [0.025647596035753395, 0.9038688772013281, 1.2191639747327112, 1.5416102485476575, 0.374064985810312], [0.4612524217621853, 0.41531753333942795, 0.48297610929495194, 0.6511875132487999, 1.128435611274897], [0.20327169451629756, 0.5173100894060942, 1.0797366903839585, 1.7181060445248968, 0.0610585395604194], [0.30591452990285506, 0.8486015636820692, 1.509315049094529, 0.1826202795361937, 0.7729124098824757], [0.12921757757669017, 0.48814151624788704, 1.056114725813767, 1.882394046155695, 0.0097598907513895], [0.4757406705480163, 0.7966270878004722, 0.7513959149122229, 0.550664430159497, 0.9455020796422916], [0.34007101103604387, 0.7679638536710665, 1.5179759344856387, 1.1696132367259584, 0.5568971956954547], [0.12706310993930847, 0.8047672468304388, 0.27678809252340536, 1.3162024925659828, 0.024793298014134657], [0.5886876192587882, 0.9533813277153579, 1.4123989103227794, 0.3793810638997216, 1.2009013237664425], [0.014260364713341689, 0.6966564681755366, 1.0018986705308466, 1.4541312757171203, 0.42588748933978704], [0.5541583878195626, 0.6722787025657795, 0.17297789501854052, 0.18684318931149707, 1.0921535776723994], [0.17298777546059063, 0.6819423087877575, 1.2050542377985254, 1.5402059063590483, 0.8381952782798863]], 'X_feat_abs_recon_err': [[0.41449306619856485, 0.4836374318980093, 0.44655718242348846, 0.10199639846643052, 0.3916561180504693], [0.33076599024671505, 0.324076966133993, 0.3177232711426458, 0.2819402495843205, 0.7160812605446967], [0.00972848661379655, 0.8899157699107432, 1.0760949893151666, 0.0741943781238828, 0.5969780954337802], [0.38440735781208507, 0.6678301971584525, 0.22230587785607012, 0.11581817260989433, 0.3489879023618389], [0.31249649717386385, 1.451691792550822, 1.5222292887817024, 0.6183785879926821, 0.2681119115661994], [0.2826043015177865, 0.2690451314514276, 0.5768786118083724, 0.7099788913717274, 0.42837020204691456], [0.009278199543862886, 0.3550422841516244, 1.2444981367074277, 0.957605433777382, 0.18207492163209527], [0.39450131822540957, 0.5939005993882198, 0.11532588094556767, 1.3191312534427113, 0.37822270792441354], [0.0005702223990964317, 0.8078260391854817, 0.400531801184392, 0.41017125464525817, 0.39937564072781195], [0.0835871397885249, 0.6591008264495358, 0.27787480556480626, 0.5809162686303986, 0.3850485603599996], [0.05760697571532303, 1.459802312829556, 0.49789587891887355, 0.13103416681670021, 0.5835672742654651], [0.15147909360270084, 0.003742701912644586, 0.35128307908950485, 0.717115623977469, 0.0867832135958902], [0.5036401849269461, 1.8040514909880598, 0.34267463613462124, 0.08320295234186015, 0.6905128954964723], [0.05150759154557982, 0.3490901278891114, 0.8301673716833611, 1.448750166158621, 0.4192356806328795], [0.08908428162600113, 0.08789755635679693, 0.3047282558431521, 0.16821811039913517, 1.0157118525005284], [0.5692299791262154, 1.032210074785426, 0.9486824348387969, 1.4675132087927303, 0.2709622386901934], [0.7404331809783989, 0.49517818467408337, 1.0603554860917426, 0.6593914148851832, 0.6245498156034103], [0.46431525820667285, 0.593168738589699, 0.3410309281842103, 0.9822428330686349, 0.5158322086954271], [0.5354035444095073, 1.1806744770886919, 0.7131577268453514, 0.9679600337940152, 0.02890544824517771], [0.9043708833753773, 0.013147095202141319, 0.1040167585498257, 0.32123586212752275, 1.1464556689699184], [0.24411287897663758, 0.7280282451050607, 0.6043645508078264, 1.1215685173594934, 0.10706158262875409], [0.3976909650992907, 0.2503842484331457, 0.7914960052042992, 0.9346751002301401, 0.8587347529327182], [0.026302922218398805, 0.5260592173944472, 1.2895804789266485, 1.5699173740248127, 0.17693286607654035], [0.7784524973454627, 0.6012571307212191, 0.4166487867737518, 0.9247494100647984, 0.7829090033458204], [0.3814976029903898, 0.646166445364394, 1.7837033375798264, 0.8349238828622101, 0.6514465807155192], [0.007781899158859407, 1.2156865168086568, 0.0029625821133026364, 1.1323346759258528, 0.31751850803954457], [0.2538752962240122, 0.74120991542215, 1.673258285854697, 0.12287865967435255, 1.2854662747100816], [0.0805104226843118, 0.33227326545580443, 0.041259905169725344, 0.5626038741645366, 0.8951543215779197], [0.15427639050593808, 0.2960876088753187, 0.19355288332173162, 0.5246985784578778, 1.1496686590693754], [0.6376151040470923, 0.354556513187508, 0.23392066346365184, 0.6628064581392052, 1.18735661335732]], 'time_anom_flags': 0, 'mahalanobis_dist_time': [2.3917448516081197, 1.3441679031253542, 1.1722936092616187, 2.451709926548411, 1.8898401941788714, 1.6438676666252756, 1.9817703210154247, 1.758912293685408, 2.1064851803494946, 2.7802985860794647, 1.2954118050601569, 1.7024216365328435, 2.5792530643801643, 1.3012928614477604, 2.571491925863683, 2.080709454868523, 3.3761637271894034, 1.1430065205559707, 2.1283600511255365, 2.542557880749091, 2.2690800959537154, 2.1887646378727346, 2.338131325893249, 1.768016961423481, 1.736689897526467, 2.017449637105764, 2.8330656797220444, 2.251455239062999, 2.766958021457257, 2.8891417440745393], 'mahalanobis_dist_feat': [5.388501435405558, 6.381375218081141, 5.444984032931309, 5.96692461714187, 5.4576809092696426]}, {'feat_anom_flags': 0, 'X_time_abs_recon_err': [[0.1304990864088536, 0.17353942067965664, 0.49841211841417354, 0.1650134513208664, 0.17678792174679048], [0.28018915351526985, 1.4341363333959625, 1.4771384083645407, 1.502513490307324, 0.006719540080472153], [0.07480382648215111, 0.8832929228889522, 0.8941811192930293, 1.2213051245153388, 0.35250298607662], [0.10205146375482843, 0.6844992004413396, 0.031701049223404845, 1.0457683297038287, 0.05629272945405672], [0.031787491805898016, 1.4925676189311474, 1.6375773612898217, 1.3026330275913467, 0.10372056301615917], [0.013819178275400912, 0.5086825722561192, 1.402727840628965, 0.0817142223424123, 0.13222421533409623], [0.2436849976880937, 1.171368897003468, 0.2661764518643058, 1.9783245570975136, 0.03557021064404464], [0.3566896923896237, 1.5485111725912708, 1.2311896533265747, 0.35787324656872, 0.42677674345129263], [0.04454689378439314, 0.10562197852003591, 1.039653805380739, 1.2209114528604754, 0.47020536998603113], [0.2018705971142971, 1.0119615158011495, 0.5216580618044737, 0.7445666844984962, 0.13818498207699975], [0.5116447181919141, 0.7439075433249005, 1.5506922388974445, 1.394916370424538, 0.5795739611438997], [0.038009941569117967, 0.2646354658920408, 0.5007382768457515, 1.182522469351379, 0.11170634195767126], [0.4251797593057485, 1.1764390270703193, 0.9628934542948433, 1.0737296335339963, 0.5609403099391559], [0.14620055478391647, 1.260571536957272, 0.9862128137849707, 1.7800659157754968, 0.07300329625334101], [0.26793092590222023, 0.6655003056437517, 0.42066113696282975, 0.06983797082936616, 0.5936244086440345], [0.17982003290276638, 1.3842278919971205, 1.8119086784025138, 1.4048511322878028, 0.3977546538533697], [0.13054552752823012, 0.12280818397201945, 0.907366261323663, 0.8157264839039009, 0.5291613226049188], [0.2509749208987353, 1.0927808224605071, 0.5064029938121497, 1.1680586020046748, 0.645035387197216], [0.16204877036481147, 1.6185097908030799, 1.7749746020835049, 0.9190377641461438, 0.6422683955788738], [0.17460763269390034, 0.17278378331005795, 1.1890768058377486, 0.10336437033395143, 0.49232350293599747], [0.10022237894497654, 0.8613099744056618, 0.7418956488148911, 1.1411249602203808, 0.48746844595053695], [0.5691625487614642, 1.327421620217701, 1.1779337350123262, 0.39148598684852776, 1.2361740589649464], [0.16325391563048375, 0.6003052270236651, 0.681961614855752, 1.0538970988997587, 0.19986449399090267], [0.4830404849906874, 1.05364057527026, 0.8265751183697341, 1.1102905433896586, 0.8595098118448182], [0.35386527374249965, 0.955410341146601, 1.6148578279546477, 1.5151216877406228, 0.512264815350214], [0.39264447309367734, 0.9143068309841008, 0.02220504299454204, 0.5885877855492306, 0.6923564156607716], [0.5283042045563119, 1.1701945856327243, 1.1693132409999172, 0.05509626052940238, 1.1141309096378418], [0.08239475281263187, 0.28205089531275485, 1.214100918350856, 1.3541613298723205, 0.6011950984228267], [0.4078136103873016, 0.9657577938468433, 0.03221655973145053, 0.23829923252068055, 0.7122352298293966], [0.09046258850546707, 1.117020640309236, 0.9356216643404485, 1.1885226619729703, 0.5884801042953897]], 'X_feat_abs_recon_err': [[0.16754219646364224, 0.19245914379871867, 0.4823628418460913, 0.1568147943196877, 0.35757645755733464], [0.19555416100318515, 0.27411227658340465, 0.40875003588106384, 0.47297550314557824, 0.6322202464337445], [0.28107401487280725, 0.7491722098611275, 1.1303863288252216, 1.088745861555993, 0.15720373855100592], [0.07715393058833064, 0.1302681054950484, 0.4169053873271949, 0.5351767864190761, 0.38692619892279323], [0.20366880129008536, 1.2187136960229545, 2.108684210311577, 1.032641928456493, 0.13830954766164272], [0.5129144040039271, 0.11523280729482849, 0.8563363421551902, 0.5164648932076354, 0.37545599771068633], [0.12813931946374746, 0.6260197134699832, 1.0860262656238733, 1.4431809200359007, 0.18197150309920707], [0.45401883472134474, 0.6667531464357549, 0.2630811024754696, 0.4509323484486475, 0.02148665492124824], [0.03911201283611976, 0.5323730072048087, 0.11329934960201338, 0.6151213981438249, 0.5277064520526614], [0.31028811392860933, 0.16118532308158845, 0.32066523072761055, 0.059160159720782514, 0.29399774462732114], [0.49678454004205674, 1.3528051792597753, 0.6961276394619315, 0.7961616091236746, 0.6105449364623058], [0.1414565857568818, 0.4938612868956269, 0.5604195509312353, 1.0218159475048039, 0.34933216320611504], [0.4261154084381784, 1.4162106583897067, 0.6143513875730091, 0.8586997064479588, 0.5339627248704745], [0.45137352963095645, 0.9888135069723152, 0.4790069259096148, 2.0121109057674484, 0.18854861756885966], [0.39594464252645484, 0.5449916608591834, 0.2695934168171792, 0.1564987947352792, 0.5836328500907206], [0.037992554958255154, 0.9209707330802015, 1.0987650649809146, 1.8535981838939923, 0.6094124807513893], [0.856273848251544, 0.5863072015202307, 0.281298078766984, 0.4186842429288588, 0.14642103018427366], [0.6642525750613791, 1.0289790547126527, 0.2875864692575033, 1.2614440797542816, 0.5343759461666568], [0.18178271866167206, 2.108105055343135, 1.038032206494849, 0.4622148874727795, 0.6210290032596396], [0.9163766573155064, 0.5779528437067439, 0.8168884189460999, 0.18574679202927272, 0.3625621989564585], [0.4818637414870164, 1.2611714615834317, 0.09082891542081872, 0.7640708429065352, 0.15779062209856443], [1.0243195666888107, 0.6352801365657915, 0.3778961106661243, 1.014896280960889, 1.165375650098066], [0.2731165298969078, 0.8004335792254367, 1.084928855827356, 0.8560558564219722, 0.2390493326268815], [0.3237964435328382, 0.7238621016498568, 0.34202825825342, 1.4259420762739632, 0.9612263842020377], [0.5174269428878165, 0.7257721009427284, 1.9926406480330865, 1.2591170219996837, 0.5183596993529653], [0.1919789697463169, 1.2397195670995598, 0.16378756906575287, 0.3383616355101604, 0.4543368094757693], [1.1439484241542894, 0.8799481006929677, 1.5395155663013118, 0.25475304667912224, 0.7058727992923174], [0.349917292905105, 0.7139499661621238, 0.29211183634600324, 0.4559422323832129, 0.9760744083170912], [0.9579383788035724, 0.5615670847385045, 0.3934663257280965, 0.19663991356010158, 0.29001490407096675], [0.25618219534296144, 0.0792656068361356, 0.04655467826592856, 0.2739709597283821, 1.0866437424923345]], 'time_anom_flags': 0, 'mahalanobis_dist_time': [2.3648441594966276, 3.0477664723063445, 1.3235733376158878, 2.170171642303622, 2.3197172179127628, 2.863611041790882, 3.360477891011858, 2.346785572170236, 2.6022888733282006, 1.6935334676823697, 2.9836750491493964, 1.762493339322015, 1.7268407458663722, 2.2219912086765206, 1.8509887498570772, 2.182375674384193, 2.0853254823970317, 1.7179988193371267, 2.625806177687961, 2.6063534670461608, 1.5688463494661877, 2.7955421135470924, 0.9425867766227709, 1.9123438841903617, 2.1831403196408807, 2.2074670053382444, 2.6045593854225895, 2.716565270133128, 2.4391972810963036, 2.152608296091217], 'mahalanobis_dist_feat': [5.032450598494731, 4.797504876449073, 5.417899667040726, 6.1928928070860625, 4.84959929429451]}, {'feat_anom_flags': 0, 'X_time_abs_recon_err': [[0.09719079615203424, 0.33794144591265945, 0.20365093399291878, 0.47179755657953454, 0.2873457197474857], [0.01615221509866993, 1.1925047330396206, 1.0055578554426066, 1.1927689063399205, 0.4528123949090431], [0.007253128332931291, 1.3723344707036658, 1.529277161622616, 0.5281182595918554, 0.021296793671193998], [0.13771343376785872, 0.11154044859717499, 0.09673177671000127, 0.6900647219326389, 0.14095780734073937], [0.18543431560397372, 1.1312978743827742, 0.9299567954573708, 0.9541364137532471, 0.5221123463584696], [0.11641328021221986, 0.3648715219884962, 1.2438613604833382, 0.8268902753219404, 0.206859226664583], [0.08767045588894118, 0.3804387861690215, 0.5436652783073134, 1.6891727758307846, 0.4946516014221659], [0.3859477281650504, 1.5890290883228553, 1.0903790579960022, 0.15043555469997988, 0.5431969386028587], [0.02646310124321305, 0.2988181462525279, 0.8298152422159933, 1.7964235773458814, 0.5167369151508088], [0.12073548454311034, 0.8619187579077974, 0.6513800915985506, 0.8863259508292112, 0.061062898252466136], [0.07794443573892418, 1.0233100912587245, 1.2376402256999095, 1.2131658570558133, 0.19619017730118016], [0.38911137395245077, 0.4277915182690482, 0.19284305873072297, 0.5447795857116196, 0.6581201740371994], [0.3192480547932769, 1.051278787992958, 1.3787821531164979, 0.11521067598674456, 0.5051166558063098], [0.10054359916426803, 0.44066427644879647, 1.5953609322507838, 1.4574940656539566, 0.0818355934678825], [0.17833528341045113, 0.00301614285422064, 0.5083797901029192, 0.4019203664199894, 0.32379679848498233], [0.08529589242503821, 1.34669215983131, 1.4353190797547954, 1.0169417640477338, 0.16935049028499383], [0.11963486416748503, 0.09484027363636802, 1.3298942103943399, 0.42436833503458654, 0.4711002464349548], [0.21359697630428576, 0.8553900578901242, 0.2922935880146254, 1.1962350739433525, 0.6110493163437904], [0.11081574691349627, 1.0262559237099946, 1.5024480074275317, 1.7839523496368432, 0.7230325580829304], [0.31235484032756383, 0.4594027234977098, 1.4055766440985158, 0.730386482679548, 0.9531044583119505], [0.2666375099738405, 1.1435508891782884, 1.0458025792377208, 1.4800392546074879, 0.14792191290970869], [10.602919470667919, 4.595522702527189, 10.273623158538376, 6.116443593594276, 21.047972962678436], [11.761538668438341, 2.711522866866887, 9.89436482162153, 40.5042952599325, 13.45314313337759], [2.645823678824842, 23.676503779870895, 12.870551957933706, 1.4431218940471107, 3.0875662665853443], [7.064784499212191, 3.002430527084137, 30.953305226193542, 13.78499371371107, 7.533441334032117], [14.976206494784652, 4.915411931452101, 15.571331968386971, 19.3404978608112, 23.66777244217387], [0.7300964655122968, 21.951266756624925, 12.018476894278576, 17.532178354845783, 4.883807505275243], [2.801234749503582, 5.631831809081865, 17.720647786714228, 8.354127694099052, 5.974032903554404], [0.9953888142130669, 10.624003921964531, 2.8770071436345686, 3.1035706912079477, 0.5167255653524054], [3.5726984644926834, 14.372190391259048, 16.26170967038547, 19.508428678695978, 5.341018259519893]], 'X_feat_abs_recon_err': [[0.23375359348259936, 0.30478337613225176, 0.25444728603656747, 0.39565273839124016, 0.4229509462591279], [1.1737379657308507, 0.13816354481848278, 0.46289486073041647, 0.25201736335798275, 1.1682728372385276], [0.9136750534364027, 1.008416688535128, 0.6749252705162808, 1.6068622677447588, 1.1536083652594389], [1.656095590602265, 0.4442538145749444, 1.471744084048435, 0.8136858787827306, 0.6738226265621079], [2.1452336686421987, 0.4059520475898194, 0.7518226569981928, 3.078331277761591, 1.4056484865424248], [1.7169383789972366, 0.33241447268865, 2.167965839545059, 0.37986324608691135, 0.9504249053923435], [3.0810005371548588, 0.797358602448841, 1.6046264642550938, 4.441251770106932, 2.2251239308515305], [1.4778973228728323, 0.45214992861313386, 1.3800007417092548, 0.7520961347969515, 1.3986530878259524], [3.2198033475425003, 1.6163325942124933, 3.1594952553534417, 4.816128886119917, 2.437527419535955], [0.3256385250649366, 0.006893341199274955, 0.06544122978244032, 0.2522141992042752, 0.08691929026651049], [2.639646684889213, 2.1905415255245586, 3.062458500900425, 3.598967546697767, 2.324281017460745], [1.6551673723666709, 0.5268400781708957, 1.7638461105214436, 1.281218660839931, 0.8072324781088458], [1.6294677267338036, 1.5612516164860077, 2.315491613474013, 1.328580341933545, 1.640845287498676], [3.367764474847787, 0.4236632176641726, 3.74171578120644, 1.212320268120036, 2.121204667859641], [0.14592135593920158, 0.21727044680408025, 0.8569945428349155, 0.08214345897536368, 0.2877508125761419], [3.4803948125961686, 0.28594536609000354, 3.401668452662146, 1.4657147760827822, 2.014287287223647], [1.693507100980201, 0.9919123744884101, 2.686038129375933, 2.2073746092776103, 1.481995111560007], [2.3899404394486305, 0.4598999680472964, 1.62268362493137, 0.42397073403599717, 1.822582211907002], [3.03688267036999, 2.1133267807311413, 3.557655082608476, 4.415999475844576, 1.6855631440051537], [0.09980242488465726, 0.007086415311153754, 1.1248238850614045, 0.5048783543438449, 1.109991982273895], [3.302839284527952, 2.141689338474314, 3.1455846867549386, 4.133042911839611, 2.702144397302819], [0.38212684739338454, 5.814159907381477, 10.19592201341731, 6.002978831782954, 24.70642414951824], [21.633835244412825, 3.0986566587599214, 7.4153452395639565, 36.92889693495198, 5.266097556359794], [2.280185563483304, 23.136667950891503, 14.501989844488701, 0.9125283428265836, 8.00572814820072], [25.31348707959063, 3.09127260049794, 28.756362322300774, 10.250914023865349, 3.8240476519832125], [16.34460639624765, 4.774822916299248, 14.055189207310988, 17.48288948185978, 20.972261007909974], [16.881654249619885, 21.128351671814684, 12.492787685870919, 16.351653405014712, 12.721521403119343], [13.663258697737543, 4.951484100681262, 16.956021643570338, 8.602688160771162, 1.5937182518056165], [5.338242961694183, 11.176059168025684, 3.526571513491079, 4.05270655871166, 3.719900359851858], [18.18630820557938, 13.675545813438013, 15.998369155545003, 18.953956693819258, 1.3220276246079565]], 'time_anom_flags': 1, 'mahalanobis_dist_time': [1.9885983081552878, 2.327726938866352, 2.5197016540765125, 2.216035916070702, 1.0777252884299422, 1.7178800882741463, 2.521691140840773, 2.4990337245004346, 3.0787288630061536, 1.3950068248045469, 1.2572459468319868, 1.8610477796485516, 2.043586418727394, 2.3667073468187088, 2.1554823100450737, 1.734607683511617, 2.6983745340905267, 1.8929678802258976, 3.185636258149207, 2.5475514054361477, 2.0457360262407303, 78.65815392990257, 121.46137564692943, 53.86551726319064, 85.76833024607043, 115.05987432243072, 62.631238502724614, 42.803017397086045, 23.791019473418814, 58.847373486188694], 'mahalanobis_dist_feat': [160.1269523366585, 117.81189138106348, 146.46068107790668, 181.3411560933659, 127.62220725876972]}, {'feat_anom_flags': 0, 'X_time_abs_recon_err': [[0.00475415625522152, 0.5023012442059241, 0.32568456904064896, 0.16458389950376104, 0.058111869181250025], [0.171664070347896, 1.3104210026346972, 1.3055848853957848, 1.2658099111448995, 0.13360851058548684], [0.16445892617560298, 1.2963663456885752, 0.7685185189337906, 1.0603073547564312, 0.12518505426613463], [0.22210775450500653, 0.11527736200808208, 0.14994953379660733, 0.973947329635332, 0.2102872928355769], [0.11095874782620374, 1.3041661082282405, 1.2783764734669933, 0.9885752921472237, 0.3509352832205893], [0.19209217379988897, 0.2890943544280509, 0.7861414560973895, 0.5337136813685562, 0.3969575835971194], [0.08371189129944812, 0.9286505079078861, 0.8946612416623403, 1.7424446024325835, 0.4842374741555706], [0.06494006654462836, 1.4984153862934149, 0.8535277295281154, 0.258896797790959, 0.02343738900083421], [0.0036155384007128255, 0.1404594076517155, 1.0179598797632028, 1.425001382120784, 0.41930134099406813], [0.38040069135317955, 0.6298984321324129, 0.7969108046507629, 0.17813025701152868, 0.6016179636797921], [0.4349880649019442, 0.8593052168933696, 1.6457858736974023, 1.5389000951699985, 0.39100228483266986], [0.17613057383065156, 0.22003105344478244, 0.6918622337493932, 0.7283945660211257, 0.25966706696104813], [0.26257914405980154, 1.2951257927844957, 1.0215448320199867, 0.5428216292439119, 0.3508434290196585], [0.15377572430862418, 0.7471653777062702, 1.4725940562982756, 1.3798286730416889, 0.20457641570108875], [0.3460685394244136, 0.2373527962131575, 0.5736447334809471, 0.12894934924864243, 0.7892412128821713], [0.28887201875724755, 1.2072778924957093, 1.8234351216710718, 0.7433795784381351, 0.4789268912853524], [0.05397503384165114, 0.32037459754847486, 1.606265683960011, 1.0940238337992403, 0.5048853034272931], [0.2513931518284982, 1.3092193356614963, 0.6363917645976152, 0.5584568733767086, 0.4907665870310415], [0.028195669542624868, 1.0701085041218554, 1.1746617675598485, 1.3319343139672362, 0.31155226137549996], [0.16517548936799809, 0.12860525221133148, 0.9709643254945768, 0.2161326337398355, 0.47580295346818546], [0.26240616232329583, 1.3809251024321139, 0.3012812831968278, 1.3904509318755807, 0.2513904879447414], [0.5895256175448725, 1.0774679896612303, 1.254843558463841, 0.38461311399645054, 1.275351723900441], [0.17613583334786664, 0.09651217473492321, 1.0906468824581914, 1.1696934531515577, 0.22291388305863924], [0.25138270276835745, 1.5349900055091392, 0.8969500927034031, 0.5387894094614936, 0.551407007549595], [0.2981693324799075, 0.40084784086290653, 0.8212738031947351, 0.9577427645115959, 0.4589925053605076], [0.08960496213374336, 0.4275182649314603, 0.06935738499916494, 1.0673631808555133, 0.039848071818875064], [0.47499199306978024, 1.5506791322293803, 0.9037928031259895, 0.8161403238953722, 0.7982387303167353], [0.0248464611545951, 0.45920889564177675, 1.6196920140697328, 1.6818266354633924, 0.6098875636700813], [0.6025546659395815, 1.181445539019174, 0.00953544108318868, 0.11338380331411752, 1.167644746857428], [0.22768855585222947, 0.8250713006411794, 1.1508750125900091, 1.1537385161276545, 0.8642728380854906]], 'X_feat_abs_recon_err': [[0.3284172638982802, 0.4693278929752891, 0.376168417858919, 0.24005189304790717, 0.07395404020679383], [0.1222194069124739, 0.1306416791627455, 0.22965889363522807, 0.2558390066087588, 0.7830569149319339], [0.24716908101876012, 1.2032860236857421, 1.0067072047954202, 0.8378294919709697, 0.15699792831066411], [0.03734351084390375, 0.4759181972571709, 0.29812392502685997, 0.5408435052600241, 0.013736589179464298], [0.09451744612600499, 1.1233184297026595, 1.7237060263694757, 0.599349434001255, 0.43803691916714416], [0.08835122303139742, 0.02300443042820366, 0.3017112345549297, 0.9626865547545232, 0.5218047353157849], [0.18436006775851577, 0.5046042222731423, 1.697447788928696, 1.0055527703921112, 0.5802376321686886], [0.29609137358588333, 0.6811908216282907, 0.07322582408033323, 1.084893755054574, 0.17176783561872205], [0.4113250701316806, 0.6257660390801956, 0.16055292912789976, 0.697828884660941, 0.2833003389247525], [0.1099943987108152, 0.2084016484816965, 0.02327710989769641, 0.5894312160197327, 0.35858130977468994], [0.05937868840418847, 1.3436010294489482, 0.8455257498623754, 0.8356162050932672, 0.5592895138951977], [0.1446890377767811, 0.07262048309258917, 0.7633512994775937, 0.6651168946795571, 0.11847200147885234], [0.6079323472925278, 1.4866609305109129, 0.670439241332975, 0.22145797499612618, 0.12927376271486546], [0.3084370110255219, 0.5761708380618805, 0.9576984426183922, 1.840519097774025, 0.37404052851985214], [0.11012870354104953, 0.12959922834049642, 0.4086032344675671, 0.022959920375723114, 0.9703664706106656], [0.45223660680845046, 0.854609741825635, 1.124315697102741, 1.3803340459910536, 0.45350085047368827], [0.5286918709459868, 0.7019570649604672, 0.9921125450519689, 0.5618349238629199, 0.2817212492304256], [0.28322739823746157, 1.3219949463359415, 0.4587325155992439, 0.6943482913723684, 0.546251823496931], [0.49054855450822266, 1.4259723442176653, 0.5014515444702199, 0.7781400243488465, 0.08570086232736684], [0.7580339928495932, 0.5311874790672879, 0.5922828481320834, 0.09643001727061894, 0.4232370922473898], [0.03865982753032382, 1.6612920712095551, 0.31848966173176174, 0.8551131280295035, 0.4944520428037148], [0.7189069373153559, 0.4403235872583518, 0.45514345000868683, 1.1201553782509253, 1.3921717040936774], [0.33154401661526034, 0.20156810665678976, 1.4678100986874325, 0.8484440176234965, 0.20268503433270552], [0.7702927073713122, 1.2962326217894362, 0.4722749334148193, 0.8743804408816582, 0.34060592299783704], [0.38375676944681025, 0.23713012365203545, 1.1758268785832677, 0.6310774251534677, 0.47996199760154645], [0.17529375588336316, 0.8107041910617536, 0.14761668738024036, 0.8493988743996261, 0.40248609207106206], [0.8326003200050216, 1.3008153192639984, 1.2495194321435739, 0.49161592083570027, 0.5067094987920107], [0.8339615132882927, 0.542266176386053, 0.7224781452217423, 0.8640510847665306, 0.7054984714231757], [0.8225991876023913, 0.7886985140216634, 0.3966913821555391, 0.517517289274732, 0.910015367926972], [0.6384253479776982, 0.2105031968748448, 0.1812797130122784, 0.2698380694976396, 1.2378635734196888]], 'time_anom_flags': 0, 'mahalanobis_dist_time': [2.5677987614212716, 1.7336366659433515, 1.7204149325973488, 2.121428889126297, 1.4753344832254054, 1.458000774808428, 2.3428118739653336, 2.762030501616543, 2.7744895372800253, 1.7299592380032842, 2.9846123064247343, 1.520368253261676, 1.5122073250861985, 1.6429563332791497, 2.1974608837292124, 2.0469252314396056, 2.856171407782673, 1.5841256896516724, 1.7930857242748846, 2.3412077052522053, 2.619744144895006, 2.852747841804258, 2.052106328016394, 1.8645247958077784, 1.174108655480738, 2.1083930817953065, 2.263415069655444, 3.5334755740570802, 3.4378079297512234, 2.239936784192782], 'mahalanobis_dist_feat': [4.248479161534238, 5.557707206127556, 5.433976498216438, 5.165387171152973, 5.817817424470573]}, {'feat_anom_flags': 0, 'X_time_abs_recon_err': [[0.04322122119029237, 0.3409579612515528, 0.23748529806393662, 0.29127191337137226, 0.018195264355524543], [0.062445989088858234, 0.6855585019819568, 0.7552965174616721, 1.2935350560053553, 0.26796160147163917], [0.16900766840438475, 0.9883786688110768, 1.0922885318381765, 0.9313864524224469, 0.21141900305701733], [0.26525812718619024, 0.41094495252102353, 0.4905103733987898, 0.5281953872992803, 0.34110386584787533], [0.2605143642519352, 1.3883952983182857, 1.261439337802002, 1.2858193485807223, 0.31770191614872234], [0.05412723131216213, 0.5850674229630006, 1.3244139779254132, 0.02503437139129905, 0.06988726082570834], [0.055695796890984806, 0.35752945996505475, 0.18074800419095763, 2.0128302177866906, 0.539615794389849], [0.25855796693460453, 0.925771584288633, 1.0675423314164607, 0.4051163388478221, 0.4418085054653333], [0.2213470399462374, 0.03491674447296985, 1.0265930863408674, 1.2372916491659927, 0.062412127346137214], [0.12884181562212071, 1.073684415942202, 0.6646807475323564, 0.8118309645676496, 0.03991646448326969], [0.2834454162839468, 0.5541542925470685, 1.4231278059102996, 0.8326772399374565, 0.2524926993253387], [0.4899630053130801, 0.45243743578710827, 0.9193027809535321, 1.0822476035919886, 0.8218295879476976], [0.29539514669819444, 1.1896459589091433, 1.4119311045863367, 0.8914461338162145, 0.2933907245986893], [0.10865376128608872, 1.2722763614710186, 1.785932460913678, 1.3235950503956868, 0.24675150927009937], [0.2252835589472169, 0.10467069164546598, 0.23228260784293314, 0.549803996536913, 0.5450315077982483], [0.08138607400847953, 0.948054486976653, 1.653610060584664, 1.0645618291715946, 0.16600468664753953], [0.12069866920536687, 0.10511324342898574, 1.5227724517378343, 1.0744404073915743, 0.15404383307400837], [0.16986950067120077, 0.3777912618919875, 0.08275241580154949, 0.9994918411501509, 0.5445942886524522], [0.2576424181507615, 1.5254787536193768, 0.9845501907945557, 1.355360636230424, 0.8432224083603591], [0.23553958094088867, 0.6019321325878744, 0.657480684709935, 0.8559777994079045, 0.7515205498077508], [0.0811622344534837, 0.9401687185250873, 0.5521052685273171, 1.8138769440285134, 0.2472300951956734], [0.3077287965988501, 0.9443942093526999, 1.636101802419985, 0.39417416035696967, 0.9187905251544871], [0.17390410919855315, 0.3865336267480225, 0.8635268275812231, 1.1029001742363203, 0.22087226066574472], [0.38315504846290604, 0.9234912882989985, 0.4480177186674441, 0.23903074531918775, 0.8008251639610341], [0.5345464308585581, 1.1615277879976778, 1.1558837653725127, 0.8942004635633379, 0.9450359686915775], [0.22747026349237576, 0.38926999053445926, 0.13035545548544372, 1.4750312399828096, 0.16673260952521252], [0.6388822119409125, 1.2207197729252555, 1.1090090256116902, 0.8084815866486267, 1.1629837352770034], [0.0034886248774448347, 0.36858608413648464, 1.4838317429814918, 1.1588582462561199, 0.43597867945427193], [0.4343665035182216, 0.8116554959020279, 0.08397373183822279, 0.666856178260503, 0.9793267846143052], [0.024022587800696105, 1.1525715874053737, 0.8360245975079315, 1.485249775484893, 0.415406403779632]], 'X_feat_abs_recon_err': [[0.4968483302358198, 0.32751698719915506, 0.23484118432914464, 0.30925364623093937, 0.2843843303971782], [0.5352956201522872, 0.49397390439734273, 0.28176152994426296, 0.3475420323637383, 0.63876636615276], [0.3285892176249182, 0.9240494505269667, 1.3560593566948818, 0.6889097902616306, 0.19769699008990213], [0.11286421282909881, 0.2097597026813069, 0.05545283329377976, 0.09388737103866718, 0.09676748021672879], [0.40457941673668385, 1.2690282082071769, 1.7453959592298824, 0.8802138996976645, 0.24799911227203955], [0.004349245174208649, 0.30878919948508465, 0.7991259088423839, 0.44360139033505125, 0.0659157039200754], [0.20339679418909995, 0.026182962231120488, 1.0187646582865855, 1.2890070958712088, 0.4451109821141199], [0.3986658010773978, 0.13193143342073974, 0.08875078129293718, 1.2986346668683861, 0.013380761007791175], [0.38386851085569296, 0.4250240383984355, 0.11666647358782978, 0.49672409494322967, 0.27741137901552565], [0.3313843308454844, 0.2421824980661296, 0.1467459973649195, 0.06384664552204551, 0.18799549843362834], [0.12310633147809558, 0.9686912123317569, 0.5587500613423683, 0.07750973734406674, 0.2956813240437445], [0.47193262007292724, 0.11024334319859336, 0.9777012373534936, 1.0025687507411565, 0.5378604880359856], [0.2589479405599389, 1.3249336018745488, 1.0855472929416778, 0.6536676344704453, 0.5164959368502486], [0.13806543255359416, 1.1867646048819829, 1.2420668008414348, 1.7664617534181037, 0.2780696125994662], [0.12167003538548382, 0.013357547338817721, 0.3994005096316672, 0.4070589663805062, 0.6625899796712625], [0.3740267202310279, 0.6857746702006957, 0.9353317861092212, 1.663839422894748, 0.43479013769917574], [0.017212520801654918, 0.4389541665385332, 0.8487957884943791, 0.48057859707371386, 0.13030507250916046], [0.4910990816744526, 0.4275722668231794, 0.3068993252301092, 1.1833796098948721, 0.4446638275274468], [0.7277624227694368, 1.8039682542903406, 0.25376185178050936, 0.7662387255975339, 0.6594748848740072], [0.3252901038139716, 0.19178975160205558, 0.24826377904692576, 0.4875199508954289, 0.9529853031516125], [0.12909008199594574, 1.1506783991015637, 0.1413736942698669, 1.2109912591775678, 0.1972608843167286], [0.5601972524328421, 0.3499998558275654, 0.8152663792222643, 0.3433639090191654, 0.9826525064902588], [0.6801940151180128, 0.4379340339073949, 1.3032009114999379, 0.720089855845802, 0.010232451265685338], [0.674155004363919, 0.7280865463994755, 0.0232064247801107, 0.6178650355880241, 0.7156132356954689], [1.007304163252757, 1.0301724989204364, 1.560639108677886, 0.5098919836093215, 0.7619341938119516], [0.19178720484621437, 0.7939142909230845, 0.29636753992921716, 1.3242952276696927, 0.06558088600387696], [1.0379295084529492, 0.9920599875731769, 1.4725164290725785, 0.47099053898051035, 0.8456259463250784], [0.6327201034973783, 0.6483127611226773, 0.5845969863531764, 0.32597152059688406, 0.6195581809266273], [0.36738034690655996, 0.42794935757811015, 0.47608620800905055, 1.0409120050183285, 0.86556324719201], [0.7048958769247655, 0.12203846841894773, 0.11444102545243695, 0.6365995965406968, 0.6283984563996856]], 'time_anom_flags': 0, 'mahalanobis_dist_time': [2.4945242500729217, 1.3251065991885136, 0.9262280933815623, 1.5036246072394535, 1.7022447771340843, 2.7967191709362096, 3.577560611162376, 1.143108902518521, 2.657198552479411, 1.7132016197766489, 2.0840033134081524, 2.1173849453209797, 1.7486315435601612, 2.085240108448528, 1.9994934777889264, 1.82096602803067, 2.6441790730116805, 2.0751127318825784, 2.6948877270114333, 1.6036857380214735, 2.2171308835143946, 2.4679604412468152, 1.2321680442208858, 1.827061226402501, 2.1509460412345027, 2.2906111296177745, 2.8218551421023466, 2.7775535036523005, 2.467184655270938, 2.3993940894530374], 'mahalanobis_dist_feat': [4.769209442195822, 5.287874590746714, 5.324033225227426, 6.97229519226443, 4.472334340437556]}, {'feat_anom_flags': 0, 'X_time_abs_recon_err': [[0.059507378361086105, 0.029919738188433322, 0.24255417456139067, 0.0651142522693523, 0.13229607650335806], [0.20988932288756068, 1.3643645467143464, 0.9930620615618329, 1.5853067375146725, 0.09436454112811654], [0.012088735679489648, 1.3267601567866247, 1.3223615290083957, 0.8337439637128357, 0.06929861101814036], [0.19021116353731626, 0.2842425161034094, 0.22017525409669333, 1.132728880333619, 0.14591089495175402], [0.06398158004903465, 1.1214690741671673, 1.082564787375867, 0.8298975375742128, 0.2368093047271691], [0.04392336539837349, 0.3195353012455785, 0.8191368945071186, 0.54188775978804, 0.07529682952329725], [0.033285437099662474, 1.2853311469787132, 0.017268449818160808, 1.2499487824699789, 0.39454367692711934], [0.23031042333798404, 1.160159624635339, 1.4123316738754157, 0.18726720024234642, 0.20982719553626905], [0.055431697274894276, 0.3272799849264259, 0.36184735989711747, 1.4016705749646239, 0.2163332811295089], [0.22610938214923015, 0.5673785540993985, 0.9550265572151453, 0.5519095257530987, 0.20005021503402187], [0.3573359748102999, 0.9737080527865654, 1.4896271717831278, 1.277859396403529, 0.3151449669680048], [0.06304687749118165, 0.256400923179805, 0.4942008779226911, 1.2271634466979222, 0.07264027473892909], [0.2928085639418303, 1.3034065207958212, 1.3182454586275305, 0.5727351928151199, 0.37219835315139244], [0.21836992092785512, 1.0056890824009053, 1.7200792892832555, 0.7774613478482688, 0.5013069223889888], [0.5405757057460654, 0.16554612913200428, 0.4289385180373351, 0.4273011931450166, 0.9425908429016562], [0.01695659800663396, 0.8656824906061426, 1.5892220808986819, 1.6101435051257684, 0.0986678798531172], [0.08765769401325585, 0.7444373671870542, 1.4726453447919687, 0.8293032554882973, 0.4811418218072683], [0.17900769860466514, 1.0969389996094543, 0.4224645161721686, 0.759210926864445, 0.42316981156146766], [0.1676202302783829, 1.080014553293376, 1.5001939309914725, 1.7813133265484535, 0.16649096152627108], [0.11544853379089137, 0.43791964902688807, 1.3037769066588805, 0.7110915380088649, 0.5454915473595026], [0.030881777303711555, 0.7042998877816488, 0.19666081278213215, 1.6306654679776753, 0.4019683517633169], [7.785587594717393, 2.158341152163894, 20.50353416043839, 2.6483478143019905, 17.06202698876453], [3.330335388674041, 8.47659419705302, 8.076205750197877, 37.91801209506019, 1.026384309043486], [6.241151201883573, 34.19556016662152, 11.309993985285763, 3.36520931835695, 8.897541554865253], [6.499857365739633, 8.3759659209102, 27.169687496123085, 4.6069529365602655, 11.292883460184044], [6.97525095617457, 1.3957809777010959, 17.788605184952196, 20.054741847939777, 16.152427791002513], [8.554242781528313, 23.98126227502777, 1.3966765203963396, 15.203161481345672, 12.499047537846025], [3.400771120790953, 5.924576519663645, 17.883821486750087, 15.137167419960232, 11.714857070849542], [0.08978195808386857, 3.565300170011473, 14.66532854414966, 16.51042661536533, 5.502634428155756], [0.45924353970059073, 20.162320908288624, 13.447012060109884, 15.522390267389442, 4.824147205039168]], 'X_feat_abs_recon_err': [[0.4589023724284148, 0.04382117890747625, 0.24638897817508462, 0.0807008860857425, 0.42390971521883], [0.04678711764184362, 0.028610001853970987, 0.11320296669033532, 0.8504291535075761, 0.35221643592727375], [1.3966475679410335, 1.6652345092030005, 1.3860148132185528, 0.1132067248526446, 0.12606502545521897], [0.3940727122548555, 0.6708854759717041, 0.7755830782471463, 1.2353685570650228, 0.46171975053314285], [2.3862412423770953, 1.7818720454327988, 1.2067070745702786, 0.5855192945114913, 0.705715650138233], [1.6992392833153345, 0.571407700338682, 0.5339911881159776, 1.7053884628393163, 0.38254232718113423], [3.000226219480716, 2.021334543952943, 0.35518693490207087, 0.9385277585968008, 1.1551110534721036], [1.0266371728674293, 0.816172236964986, 0.6398704576232509, 1.2926325619618486, 0.48995690532390535], [3.1234299766482847, 0.43398588237257474, 0.06850526312771466, 0.9880743386617681, 1.1829377861563861], [0.26837159185714515, 0.24529073106993218, 0.12507619330573128, 0.30368357855913514, 0.2692986913546488], [2.729779388570871, 0.42294976561031467, 1.064554490134073, 0.7460837420584181, 0.2059002765747054], [1.0795234611234712, 1.1364004350195396, 0.7684910486787562, 1.9426356243809757, 0.28826457327973154], [0.5715412697107893, 0.9990996576955031, 1.1423963817178746, 0.39428959475062997, 0.2287599362256199], [2.44324873246964, 1.8831619315946062, 1.5822457379830694, 2.5846007215403173, 1.4018448381188435], [1.1214245237562872, 0.2517389036872463, 0.5081917605222079, 0.781701908134998, 1.0828094015944836], [2.6017441446142735, 1.5720016521704838, 1.2726585923768163, 3.602089328221497, 0.646381638254513], [2.1333999475843535, 0.35802733956928395, 1.114759075769902, 0.747014524740691, 1.012327817447647], [0.9160854007462664, 1.7034332445174163, 0.4385253668222261, 1.7150569223030536, 0.15277597562575926], [2.796091971115236, 0.35664922571049557, 1.1990077698718848, 0.205189908026848, 0.8699839748205953], [0.24128280358033447, 0.07456533104963092, 0.9107316348538574, 0.2654739252268522, 0.8329528672945751], [2.5681439892641524, 0.08037702718272877, 0.0648367429535337, 0.3442808840561622, 1.1733460595545293], [5.219343468328837, 2.3338254657990447, 20.469567579710116, 2.4414534691003045, 22.32447927398821], [7.378161014105965, 9.087159744725456, 8.48327419112289, 35.84356540781338, 4.700364726213645], [1.9833589982886766, 33.909406327472205, 11.853000784796828, 5.2667024833111356, 12.425408502083398], [25.264595924827287, 8.425537770163613, 25.90447926422175, 7.84386776878069, 0.7825777526524944], [14.052353977801113, 2.0459795663627696, 17.707958951417158, 21.32278903914136, 12.005835876433725], [12.483516954697768, 23.93954062275394, 0.9198736641453181, 14.013336231064669, 9.800842516216262], [18.80857273448484, 6.744140481956576, 17.76097705827589, 16.144499230706455, 4.151599682606278], [4.548959358386006, 4.020615084812898, 15.298666708502576, 17.428377813776827, 3.0415945507608466], [31.72585753361003, 18.382392965825943, 16.177681025511365, 19.787022164718056, 11.430810147676826]], 'time_anom_flags': 1, 'mahalanobis_dist_time': [2.885867564812898, 2.270894279621246, 2.0042522169168557, 1.9310741000691485, 1.3549191796768443, 1.9406409100973654, 3.287038934281447, 2.38158149907465, 1.9343377696900377, 1.5935593888537878, 2.223743864043788, 1.7639386199569709, 1.6961517467227127, 1.7663469267613034, 2.662512404917149, 2.176628554955807, 1.9408001329268367, 1.5203576225078914, 2.1482909457300567, 2.077896456990758, 2.818995959271823, 71.53087374581627, 82.73942817085438, 83.07266887305198, 69.5734356238321, 80.85235014768124, 84.19745372190333, 61.827700685137074, 49.768146712567, 58.08235784447793], 'mahalanobis_dist_feat': [173.0641148131502, 155.172524340512, 160.49741211880578, 192.22159262730202, 105.58537395896974]}, {'feat_anom_flags': 0, 'X_time_abs_recon_err': [[0.14987074760783015, 0.5115903136125797, 0.31295851137996633, 0.015573603830727204, 0.28971290526704724], [0.33995015880525026, 0.6787054295279369, 0.7607819780895946, 0.7208955529285771, 0.4063212090416657], [0.015032908240875775, 1.1821182511254915, 1.3042802973437497, 1.0603272942223727, 0.16740233066401344], [0.26253172053873874, 0.33460468707172336, 0.03440829916441704, 1.1872567656949715, 0.2551929923946086], [0.17571471761768165, 1.49375648462168, 1.1934225617424807, 1.2824338169947065, 0.1376943845853118], [0.13481212744875382, 0.34042850906396266, 0.5827915456861799, 0.3146921739308075, 0.2796840810272916], [0.2438833658284303, 0.7173563191044873, 0.936187946674331, 1.159802500382284, 0.6631963868745832], [0.09848275408238294, 1.494168562604484, 1.6175978189284914, 0.3921729328274866, 0.1337991696425669], [0.23167240932259903, 0.13699314784911615, 1.0717055761507708, 1.1198907365003155, 0.09548251641881211], [0.20589466341782048, 1.1061237026898965, 0.755945109667818, 0.9670456333735534, 0.0683288367144399], [0.2834994482946045, 1.0918047292478572, 1.8028230916346497, 1.1759847626279163, 0.16115279725933307], [0.22367565299882242, 0.15767734691550805, 0.3464654512831319, 1.1412051587872103, 0.23017710166335248], [0.13185314588112307, 1.1196002239230332, 0.9641095933464229, 0.20213249385720244, 0.16274805601466658], [0.018285464547006525, 1.0863128385810663, 1.1042176191690547, 1.2436608869836936, 0.1333767867232687], [0.30585260127661296, 0.8615577752438276, 0.3889374883770542, 0.13379161794908156, 0.6605500510514549], [0.1644886062275639, 1.5666159483380429, 1.3061847716563628, 0.8507097992736207, 0.29561499920638523], [0.1322988167187471, 0.22119012607631136, 1.052142286203303, 0.9160652214266646, 0.5657335929988356], [0.36338844530172865, 0.3646443085862126, 0.11468715741044974, 1.0649758331264356, 0.9220948350584817], [0.1454009666601508, 0.7871255162804874, 0.9626640287735436, 1.5307455269266896, 0.11076673095117773], [0.4446086596273491, 0.060441191354235146, 0.4123758103142398, 0.4985549166453807, 1.038827726814205], [0.2692562408306305, 0.7350177893470786, 0.12953932070066282, 1.1729428327869516, 0.30164921707833303], [0.19643461380230476, 0.9534641166360671, 1.747971379969982, 0.06454707726207487, 0.6117197816219704], [0.165190211802281, 0.11208994075015258, 0.44954620961679076, 1.1174595803879437, 0.13245415060570587], [0.4306329660673096, 0.7637935350757395, 0.3257069348719659, 0.826072201456814, 0.7483190060495702], [0.5708876987490745, 0.700039963937547, 0.8860936480783175, 1.3540278497188738, 0.9094291903277143], [0.1402403882549299, 0.7260088262092991, 0.13903928132143478, 1.4051781042495268, 0.006114261888355066], [0.5612685688851738, 0.7699403779593795, 0.6809998130224797, 0.861800906368358, 0.9704292620149375], [0.12645491700678257, 0.654220299253933, 0.8414093943497551, 0.8551286720310898, 0.05457363632702261], [0.2788040693666216, 0.4739873609780029, 0.2934865123804852, 0.2273800244715, 0.5161607595193298], [0.37470064352298027, 0.898771501727148, 0.6420248983850346, 0.9307736593214276, 1.0557807790517328]], 'X_feat_abs_recon_err': [[0.23237328732818585, 0.4877980404168994, 0.34094183543155016, 0.01594633575740565, 0.217391063083981], [0.20469503016979107, 0.4760074025119633, 0.3044449738773014, 0.2524125221655437, 0.017168932317292163], [0.2287634699782568, 1.0505934667937975, 1.5094121860616665, 0.8628647460026504, 0.2445092690058306], [0.38732584469672254, 0.21684313737972932, 0.4981542492342002, 0.758682958563883, 0.2798527770488703], [0.13740854396799973, 1.2498286277265964, 1.5425113146303673, 1.0032374097991437, 0.1183619137077292], [0.06464166204689614, 0.029137729798513923, 0.12801019261368224, 0.7387346751335941, 0.4336453303922495], [0.47717110517264727, 0.20956455775704685, 1.59651449041468, 0.5931142989234759, 0.5830139071570275], [0.1686066566730774, 0.635193407385875, 0.7334393589080044, 0.39566046882105205, 0.40799778637339595], [0.2656690225796581, 0.44985507834046046, 0.34419000536220645, 0.5287253485070296, 0.19368396413219247], [0.04877752044522569, 0.26240139718795147, 0.06706722752942094, 0.19071572000533404, 0.23400685554157913], [0.14508735131349892, 1.6666465445701026, 1.0921744101735258, 0.5509244331227269, 0.14189126697355148], [0.3213901986664851, 0.09570193941625654, 0.49992312865449456, 0.9732075977708092, 0.08262016062257171], [0.31696327111601874, 1.3484953340243722, 0.6713147901527879, 0.05191160497411995, 0.010990489665368336], [0.11487582600216717, 0.8423759692948031, 0.7265225047018274, 1.5345586298640974, 0.1943510758107273], [0.7463505121875805, 0.753748481262805, 0.27987976281101945, 0.1937930132737781, 0.5135673761376787], [0.17966435462346797, 1.1300946185198852, 0.7204610077366068, 1.3652792697720808, 0.2749556256563861], [0.450377633104568, 0.6703905077101472, 0.5066034242608725, 0.44507482870752385, 0.4726841070619712], [0.7015016662487235, 0.3207854318673669, 0.01997612024493156, 1.1733806117209218, 0.7836638663429225], [0.024963752296294883, 1.241569858590191, 0.37543881347020935, 1.0430996301431188, 0.15705284750289983], [0.5427497242518657, 0.3576825608767953, 0.011545964757244655, 0.1377785954750137, 1.238699127675868], [0.005144907936421861, 1.1049667156234613, 0.3852303286463676, 0.7418397908617617, 0.45507513103774777], [0.450194107341348, 0.27351158532713693, 1.010189056980625, 0.7309947156752747, 0.7024684948140668], [0.6550715926796817, 0.07083030258620682, 0.7604361149425684, 0.8457602610285636, 0.11236242020936327], [0.6747180243359747, 0.4634546816313183, 0.0474049814682338, 1.123872856179576, 0.7201351351602794], [0.24594903078050323, 0.4986717216319029, 1.1612962506359872, 1.129017328635134, 1.0994141769363752], [0.45666100746598537, 1.0562344105853458, 0.08539179727607582, 1.2152998127657642, 0.004778429763837688], [0.5432244818250722, 0.5032975020364578, 0.9754344432566556, 0.6087421678451977, 0.8477047626724218], [0.09879872371962242, 0.3474936873415734, 0.10378018221515535, 0.04162633251544791, 0.43361782642588387], [0.22280612227699662, 0.08457032728470715, 0.6809114850424295, 0.14333637292998844, 0.3951102992595539], [0.5717188435370084, 0.1391777867511241, 0.342372543923064, 0.020752892747741444, 1.5349513451978525]], 'time_anom_flags': 0, 'mahalanobis_dist_time': [2.2689024894726666, 1.274142772659358, 1.7199436522790656, 2.187372183659337, 1.9927774297818683, 1.7938081473968572, 1.2390416896651693, 2.5690974416460777, 2.449535863686825, 1.8092257126594797, 2.614714338424481, 1.8913579395611935, 2.0335380461506007, 1.5552042385541762, 1.8424628901330902, 1.8371286926745092, 2.087973005299102, 2.5481483202383717, 1.4750194317195178, 2.729469526340615, 1.9268587106908048, 2.6783792171775436, 1.9249837655107787, 1.7496641212878563, 2.639076358366072, 2.3191945193413854, 2.229073048237623, 1.3658372140721948, 1.7897905197276058, 2.324221538054335], 'mahalanobis_dist_feat': [4.617788111422314, 5.7795147849518, 5.990525419027356, 5.612153618628238, 5.3412215640748135]}, {'feat_anom_flags': 0, 'X_time_abs_recon_err': [[0.11600940412764793, 0.30532420889518835, 0.2927251529753416, 0.23841195513790978, 0.13333607924327912], [0.07732200147918755, 1.2967765656817851, 1.2626368296217292, 0.8205950895379313, 0.22002258550855147], [0.0801131489285083, 0.7689646314942615, 0.9676112464373626, 0.7678485095809473, 0.25233915909805105], [0.1966450565683837, 0.39260510188626047, 0.3694775028281386, 0.5859565763175333, 0.2064825838660691], [0.030615794284848175, 1.3317208561606249, 1.5635687341779778, 1.422034326676969, 0.25431950751251886], [0.08094697786208022, 0.4528195478319252, 1.1721534925023611, 0.6768333531725046, 0.1570151703699513], [0.27247143520824624, 0.7332108158767334, 0.10106005033167414, 1.491099109281769, 0.1990437381012401], [0.2734846902334557, 1.3115761780421875, 1.5098137753009586, 0.02419080987803697, 0.32355438484205595], [0.18629020392626394, 0.12244094335093056, 1.1305053722712148, 1.3996865468923858, 0.06067686485057466], [0.49158142266542204, 0.9837791628494108, 0.7089413903598195, 0.9532719510024804, 0.6496806087763218], [0.2750899089997638, 1.2659242277564173, 1.0170096984342267, 1.4851926960128037, 0.1722784165140704], [0.08932570767599768, 0.5439977369565847, 0.4166303317737998, 0.8116048326731677, 0.024425557008074805], [0.20717879372598813, 1.0193388896105313, 0.9873280553538182, 0.4914880156406888, 0.24316258001502722], [0.05920857088594067, 1.0825496635396368, 1.2626328741787, 0.8295471750942885, 0.12692385666242023], [0.04725014851657067, 0.484653999816862, 0.38317161041331854, 0.1913330233162481, 0.11463460948517752], [0.03210439572518409, 1.0736368510991288, 1.152631878469673, 1.1528054269411563, 0.1365442223586023], [0.23777417910674226, 0.38792268184447914, 1.48061388470347, 1.1195887221287646, 0.8587636076144436], [0.436110063169737, 1.3033847567905075, 0.6233273897815487, 0.6885288454544245, 0.8875039038640051], [0.1836468389601067, 1.383210363442692, 1.8175335559692005, 1.3918832187908576, 0.07221972662990761], [0.006105866191488563, 0.23349957001768573, 1.2450318651941101, 0.8559618529670553, 0.31943395609356223], [0.005318830269278152, 0.640541909971401, 0.18864974328664214, 1.894207860537883, 0.38867590775629735], [7.00174132308215, 18.22417255695868, 5.0650881350589225, 21.50111700343501, 19.913132465664358], [6.321867782147278, 1.414504935727295, 10.569008355909371, 37.981542923291755, 5.496460447884252], [0.33926156926387296, 21.326007635936133, 13.102911991943136, 9.257754842715373, 3.716748104015384], [4.083778792125489, 5.311407947426125, 25.37716789796521, 13.686383057573448, 2.618091198620929], [14.651368465530489, 2.520471584854274, 25.620413587539144, 12.101744041277957, 28.78397110390498], [5.690150334849552, 20.81551030093863, 7.695490431075161, 7.049188857822516, 9.880176840987422], [2.7229473912784528, 1.9275550104056096, 9.642516717663703, 16.781667093043296, 9.993932317132309], [9.362737611041826, 3.539432520973115, 9.441193166494877, 3.924047543331506, 18.251176818051533], [4.895072725170593, 31.556427549514, 24.09659543797906, 46.841977817165706, 0.8907038510743224]], 'X_feat_abs_recon_err': [[0.3908931847837181, 0.34244033189933293, 0.3533830044406722, 0.33381127867486776, 0.35763650813797543], [0.26082784462723685, 0.1093571404915907, 0.29638050681303585, 0.31492833948266197, 0.8613952175370266], [1.1171196791093179, 0.7071564013797706, 1.4513466279552922, 0.6621574671591326, 0.02852316442467795], [0.7767938227843236, 0.2228646735859215, 0.1481594712012521, 1.2424844468854679, 0.13322801986372818], [2.199013045112819, 1.216284082894045, 2.4836025330058122, 1.3290704442030643, 0.2334721152673085], [2.077719944872589, 0.19116476417350087, 0.3797794957584889, 2.6823154834259006, 0.8058722511361107], [3.110383006215731, 0.40798290544750515, 1.5419184036854023, 2.480814054523372, 1.0812602926170118], [1.7318269269779623, 0.5383100264496953, 0.32393319668882137, 2.1851445233888063, 0.5977841300675252], [3.7969088691981443, 0.2643011243313502, 0.44415196810867297, 2.8946664913529068, 0.9389101543654572], [0.06423355209815296, 0.15242189343695783, 0.12071906757637288, 0.10737681718200935, 0.5244230380615545], [2.8025936986221227, 1.6745498218641286, 0.3863945486449549, 2.177846549110262, 0.9307335736349683], [1.6839489099118439, 0.19969805005548757, 0.16350750521401014, 2.401720793753778, 0.6403623313973905], [0.9248801410496785, 1.170456560690693, 0.355862031967364, 1.2346858897353985, 0.3947992334018442], [3.088033610695227, 1.005273686104781, 0.1774964599913984, 4.211273166320726, 0.6797638072814574], [0.8174098226404047, 0.40227570397065926, 0.628149517911958, 0.4377820906664682, 0.07184487516819732], [2.992505865209421, 0.8079714573179491, 0.14058040306500907, 4.774108332175652, 0.9275402444612235], [2.961028584103442, 0.7077008745910163, 0.4247266569356778, 1.6156199283677228, 0.08297685317301773], [1.3300092532902936, 1.365318491459932, 0.10594598236482766, 2.527688505279162, 1.3986651219571695], [3.334036548278416, 1.6559402070768587, 0.518810882568087, 2.2572110159904106, 0.8535121951939691], [0.2878735868170811, 0.17509550148917094, 0.8113043202715262, 0.34478120053030004, 0.4566176065389843], [3.052009317716755, 0.8434037285058826, 1.0627580703963075, 1.7310758518285976, 0.43962678922409837], [6.184574208242741, 17.573430553284467, 3.80978466081221, 18.921467242425585, 20.918421267259173], [11.547748152180526, 1.2068274621405473, 11.848316602498773, 34.42772990551487, 2.2895533174868903], [1.1518301525948922, 21.600740935233684, 14.128233571554407, 11.924630219482983, 2.4158747718491025], [23.04879001653228, 5.893980774593082, 23.562124898321695, 9.525272199543291, 7.285416205535366], [32.48157602769634, 2.5049794794155567, 24.513399677149422, 15.254846867925759, 19.79198009064956], [7.795454824321961, 20.27313180985796, 8.991718092735514, 9.758954365677537, 17.006277234591703], [23.904935356627377, 0.4266191584785959, 11.643239326394083, 19.48385239426461, 1.0508933144523045], [18.56347122286046, 3.718667246829944, 9.351342722077515, 4.428025111078695, 13.794403098004324], [28.654138965775825, 32.06449106660978, 24.441964178104417, 45.1059029932411, 10.507214119908902]], 'time_anom_flags': 1, 'mahalanobis_dist_time': [2.2901614715654484, 1.5983827306867175, 1.0616966647388995, 1.6725357818012287, 2.1975790330213036, 1.695415775882934, 2.4598389498943294, 2.6451414452220194, 2.497890937593321, 1.9713087580123505, 2.1420559378333737, 1.6990769655813744, 1.3683601634286542, 1.4902264771940714, 2.3148074193457826, 1.4473306841441378, 2.773678914972447, 2.0214556843913067, 2.58085738467417, 2.416651832109039, 3.2528866443670443, 93.02626656673146, 93.10091833479657, 52.536867381364964, 64.93926584488398, 121.4383322724728, 58.975737575236, 53.675860411409765, 67.87452163208538, 125.11412277698345], 'mahalanobis_dist_feat': [217.87652074011925, 156.878505353127, 175.17301721273276, 228.6723534835176, 135.44522728804026]}, {'feat_anom_flags': 0, 'X_time_abs_recon_err': [[0.0028470297601788097, 0.15417557545089802, 0.3547974362199678, 0.07629794254870101, 0.02391806794097734], [0.26885607410982826, 0.8546391268119445, 1.556611235889791, 1.4526881447041975, 0.012201968444015332], [0.009475304047745547, 0.686909587827026, 1.1858217287842345, 0.5989699176069597, 0.04795202099645224], [0.02319171081262672, 0.12679549482672256, 0.3059370440269211, 1.3087322096924934, 0.2746676843457235], [0.09812621937519661, 0.888864555790132, 1.5810091882850474, 1.6518708108206788, 0.026079431912194417], [0.04704004123761263, 1.117286819578604, 1.4880743843727726, 0.5001931545865642, 0.012973238181178126], [0.31176090053888816, 0.3977213094678782, 0.6398888877146389, 1.2079025395013023, 0.8266763985605781], [0.4043810081733402, 1.6146410785799417, 0.9799280547283741, 0.03873847820168025, 0.6315074096687583], [0.10261144243837017, 0.019635904611522592, 0.31201721423627127, 1.887494453699961, 0.23713452234382038], [0.2655101559046657, 1.3675973892914794, 1.1998539905013177, 0.6425343126209504, 0.19595875334996793], [0.37566687492867423, 0.8157687968222153, 1.7931857180641746, 1.5292235161868746, 0.25701866649085703], [0.06279792964750608, 0.03606478373985881, 0.9342157545612382, 0.8787231309230454, 0.04031310974040225], [0.07837025648233298, 0.8456667122557165, 1.3359043652484013, 0.23054664810752667, 0.002874850017044017], [0.13829276394589685, 1.2703383057028788, 1.0011103721790628, 1.287042733690382, 0.1653694604646072], [0.38695470706606017, 0.5029058710514979, 0.15028514663827292, 0.08365586184948907, 0.8260852593080595], [0.10272411860369357, 1.079582364524268, 1.6322198196492868, 1.205061908155022, 0.17320822901058652], [0.013272430943682911, 0.38953688801364833, 0.9790307934048691, 0.6578146167760479, 0.20531644083502465], [0.1496678632641797, 0.3230155060249242, 0.6720617408908425, 0.9430861014524632, 0.41170088647994213], [0.2649993449224708, 0.9479532452714884, 0.9810535310106349, 1.13836888490658, 0.8367531286198373], [0.450598400954755, 0.4967292005281025, 0.9561981461916194, 0.2832316812331084, 1.0838974098140777], [0.01149684694176778, 0.9596215658948514, 0.4220751814987352, 1.4177426800100688, 0.2853128612488032], [0.35324175660882623, 0.598926050145339, 1.6430288527533026, 0.22275241913219504, 0.8618321350937327], [0.3643891787705926, 0.10919163185915558, 0.2207331983722282, 1.057163187366824, 0.5260255756953839], [0.5513284746800534, 1.4229736862926687, 0.7247826360534662, 0.49444364856924666, 1.133012864829969], [0.3016634002550005, 0.6251612646402042, 1.0354322719744027, 0.6830426885632449, 0.5384908983735915], [0.38921321928545605, 0.45134791637121685, 0.5246365916244373, 1.1755817891576892, 0.4832270084917749], [0.25777596576716, 1.220127619782073, 1.0702888595859452, 0.02728680029344943, 0.5693705914682632], [0.07659386307280425, 0.6593048737495932, 1.5276012125263385, 0.8221440429333735, 0.2223236668521038], [0.2507522279923856, 1.0467497764937237, 0.4502429374806374, 0.21094165214164254, 0.4470586795639385], [0.2854677444270073, 1.5932155469325664, 0.6075271886062295, 1.327206886504269, 0.9910973699678829]], 'X_feat_abs_recon_err': [[0.34742031794756073, 0.13644038086412338, 0.3416446492108488, 0.07884704807368795, 0.18315601514824437], [0.014020997462639767, 0.3197310424831941, 0.4789982983838465, 0.4465304460436715, 0.563272834571343], [0.24324321610040378, 0.5990654699802286, 1.373701578596704, 0.4569255783518092, 0.21684707678238657], [0.052336353314299255, 0.4668531862517239, 0.18144686160597884, 0.8146889134718603, 0.6292767202136224], [0.5778029454045666, 0.6980332908364091, 1.976920796508276, 1.3240200623889078, 0.10585011293239655], [0.4383595708290061, 0.7874273341067839, 1.010342810618664, 0.9399731786789647, 0.12741200606759645], [0.33994128328913287, 0.024871171967776773, 1.3367107748605984, 0.6292644908489411, 0.5721652056748431], [0.23541704301401012, 0.7908878293079911, 0.07985935731965033, 0.8329201810869934, 0.4235994038217132], [0.2072985608076907, 0.4735949915330375, 0.4532580290831705, 1.2872057524405993, 0.06906247457755998], [0.3841822944891675, 0.5203420221139501, 0.36080971319520677, 0.16332620861634495, 0.2368089929009912], [0.20237889656996133, 1.309338066301443, 1.0619509560254476, 0.9171118205150138, 0.5039545691420938], [0.4237230631703013, 0.32228132513666713, 1.0424299375668342, 0.7686868576541694, 0.12074524757952976], [0.1404507502782114, 1.033057411072607, 1.039090257738093, 0.0057719647454083645, 0.00492693342376016], [0.33338860706622664, 1.109440100572677, 0.6040049863337791, 1.5619326671698763, 0.17898475008561632], [0.2898166086112285, 0.3974440046912937, 0.007390283869027459, 0.03286103197059102, 0.9048422629969963], [0.14934817771440123, 0.726852051090685, 1.0268669751935064, 1.7035520314137507, 0.0917782431696249], [0.13897638519778177, 0.7819452051232126, 0.40736838124912234, 0.17578424598171766, 0.008678153666436095], [0.3573412420730121, 0.32907320152814834, 0.5314829255480736, 1.032023758247992, 0.4840101016557472], [0.46701224732125124, 1.315919722567799, 0.3746679824895073, 0.6691972941934146, 0.580522501266917], [0.6071657345506106, 0.08404170144593079, 0.5574531394811306, 0.07075413576056679, 1.2416542312190502], [0.3287782327181983, 1.2588653714724396, 0.14835719912546774, 0.9332955831267092, 0.16540484922720977], [0.5955599965044257, 0.038181185452630495, 0.892553159995514, 0.8855240219199206, 0.8251727630249414], [0.30399226694058634, 0.2132458608486945, 0.5197276643780749, 0.8525730327964294, 0.7633282909127946], [0.6300767249187319, 1.1712096513799302, 0.32787663047523224, 0.8041689687254798, 1.0264128306480387], [0.2815780750454818, 0.46124406417861, 1.3399270565581762, 0.4301041618169547, 0.7120648652879129], [0.23344318666096608, 0.8164474005360272, 0.31155202126568765, 0.9844479768415846, 0.3975415145216558], [0.6068357756019707, 0.9690630202854955, 1.3917379154740037, 0.26276813806383714, 0.3356842070039797], [0.02513701096727705, 0.35858664400027146, 0.5762118675513331, 0.09481098871176843, 0.7266639258417968], [0.3443612698493657, 0.6567009888904447, 0.053761675343397916, 0.5975310019561508, 0.2592222692552756], [0.8578548034980777, 0.5614317043572002, 0.35542921827563545, 0.45753404617317417, 1.2885492366735092]], 'time_anom_flags': 0, 'mahalanobis_dist_time': [2.9167933682815326, 2.8408101836290798, 1.8910068926043364, 2.3489024852345604, 2.210079108822646, 2.2865690421109726, 2.005741568336133, 2.6244583331422966, 2.7793536251928486, 2.0666720909439866, 3.1286280142700775, 2.2529545910461857, 2.4940937119789397, 1.4988880429952107, 2.3270794237639514, 1.7605301596608107, 1.8791355355299901, 1.2801265434604008, 1.8627566223855543, 2.4146855148628674, 2.2973576453969047, 2.656273618081456, 2.1784849689630965, 2.7148135820172823, 0.9306687090082746, 1.8185672700709459, 1.9655901458547844, 1.8329271391892963, 1.812007177719635, 3.434471435911686], 'mahalanobis_dist_feat': [4.119125126463184, 5.463539927069219, 6.093336446303257, 5.499903554476653, 5.8919493539066154]}, {'feat_anom_flags': 0, 'X_time_abs_recon_err': [[0.0384327846293744, 0.2697739451518774, 0.4900214069505138, 0.5266155687737171, 0.2314133052655838], [0.20378780313287104, 1.4221086511221, 1.1280707365110565, 1.5663743362055136, 0.11987399772911389], [0.09204498926071247, 1.2688129702681803, 0.7498041978522876, 1.121442810285657, 0.39850810088757405], [0.06339249361285915, 0.3720741946729908, 0.13933702800241243, 0.7770048190058131, 0.29441492467536456], [0.03863150630459833, 1.1537684370654822, 0.9840860366136576, 0.9858429845123176, 0.2322531551280984], [0.25360477712081564, 0.38272714491310367, 1.0965224295888756, 0.10192732751867387, 0.38798939233803037], [0.05948022444519663, 0.582042796889933, 0.25980399623802886, 1.9220366773809245, 0.5290016382537256], [0.1868620458693479, 1.2921409625394733, 1.7096373671547573, 0.38034546670222363, 0.20687047924353436], [0.16451882418406671, 0.1745966174066648, 0.6327029068500927, 1.2314401184601433, 0.015317946998707366], [0.36958211502330907, 0.9725874558522637, 0.9726658843284817, 1.0838572861282003, 0.3506408347865402], [0.16475035185343812, 0.9901516855300712, 1.9746223360400408, 1.6873787162482825, 0.2082557707193956], [0.24641711168317482, 0.16877535863499218, 0.3907287527212648, 0.9340014193275089, 0.33945933259704697], [0.42828077490078476, 0.9833781643320456, 0.6443692153937552, 1.015492837992976, 0.6060089437265191], [0.014915695853085165, 0.8724500591643589, 1.722088113899076, 1.3013571121174434, 0.02140462256910236], [0.2994148296997846, 0.009125912719174307, 0.3447782132545345, 0.48852002276170975, 0.6624940644684161], [0.09188939751102221, 0.9837723556329281, 1.5447329699186425, 1.4012818079918528, 0.09555460276444028], [0.01228399412954495, 0.3683646069525235, 1.6649731100072074, 0.5084821886277395, 0.3004482467293854], [0.040866388986846136, 0.7138108120700974, 0.05718581652847789, 1.2479447384460136, 0.3111551405521944], [0.03538141964482966, 1.1950588145879666, 1.832170901296936, 0.9466161468035859, 0.4218058338684121], [0.13282023768734286, 0.0019278073837441997, 0.8270860236413258, 0.0951801576780322, 0.37535635631679803], [0.06316280591422796, 1.1145848421477196, 0.314323831882541, 2.0122700799881903, 0.2916444423660909], [11.616486798855874, 4.934687352601698, 8.614195615029322, 6.555078823722699, 22.844915434743516], [3.980310319104465, 3.9639160012205927, 0.22552920129224951, 25.986877531009988, 13.294058693225512], [6.128044663786605, 16.13126031353769, 19.55447408182694, 3.0212524516218657, 14.254821336155956], [4.285630473993994, 0.7939364043046402, 16.12842967273942, 13.145490050397258, 3.879182971197901], [12.092595641547675, 5.541609970739882, 7.447296726116585, 25.107522108231606, 28.360012756670596], [4.868829411372995, 23.22730697181489, 16.413818873442267, 14.532109808656447, 5.787925979917812], [6.503312826276645, 1.769670523881353, 7.598294995328842, 8.129668020164559, 15.42818176746519], [2.8672331626650926, 6.206512059148587, 9.157373403777108, 12.89443110547345, 4.212265563266113], [8.883032449135808, 20.549350067250664, 22.589926148570015, 27.271465055144454, 25.07904616242017]], 'X_feat_abs_recon_err': [[0.02418195303515186, 0.2968073643492066, 0.4539727334120603, 0.4792928864975877, 0.23206080689784894], [0.45286389138433925, 0.06939495908621844, 0.20613753112851207, 1.1147217276120314, 0.734205047830386], [0.792566780831676, 1.6259897676015846, 1.3344246499353225, 0.4239144205354022, 0.09162095091609346], [0.9375167128714565, 0.6213667730528816, 0.28503660106822426, 1.5086439331726629, 0.78456357503383], [0.9325274251997547, 1.8787672401389202, 2.067075122091885, 1.9225214298920184, 0.6328205848871251], [0.6722020910443027, 0.6822159264156737, 0.16883234567302885, 2.2622774498726814, 1.0700395430313259], [0.8821419150492678, 1.4224373564764834, 1.9250236994906165, 2.264888798824411, 0.8900526316539077], [0.902107784162721, 0.9838984976590035, 0.3793887433262697, 2.730260504898634, 0.24273827799253256], [1.1000090039787787, 1.0528060002454604, 1.1978749302002074, 3.3196456104227425, 1.4642356722542484], [0.536154568414288, 0.162907004167611, 0.10344932567988112, 0.1674120461536932, 0.0565121012852794], [1.471609399565822, 0.36604720353455356, 0.3419505920844741, 2.2234981733006927, 0.7743582727547546], [0.4307516139026665, 1.1092862192457476, 0.019547778624209977, 2.640298787399193, 0.5727119374195299], [0.9804801479184211, 0.6280119130164084, 0.07384866906250853, 0.7839127186588721, 1.079481822033926], [0.8240412058573907, 1.8558218305061875, 0.43650203721527947, 4.87176129933254, 1.3471531463202775], [0.3994720776279541, 0.11556941302530455, 0.6244237292855018, 0.17227086971268335, 0.3752159644810549], [0.9602580079301989, 1.7846529349096278, 0.03962357332965394, 5.231746550576598, 1.1321542233610404], [0.9425501079953225, 0.08010660729345481, 0.41558129347221917, 2.4542629099606215, 0.4527591063767832], [1.3077359710206673, 1.3676785066712824, 0.6202605239871475, 3.2830539260423324, 0.7144262048241007], [1.0717230462825391, 0.38213677965639914, 0.2915743191988369, 2.9646292706271904, 0.7324967732374952], [0.37185360934570744, 0.3538924242792637, 0.3910098545291326, 0.41036209262841683, 0.4159155463050561], [1.6081055378504783, 0.24228734176904676, 1.1778427750939984, 1.8749306007716742, 0.7529352015851443], [4.097466755900977, 4.790754954089917, 9.400487046572156, 4.998681760799558, 27.33624882711844], [24.9209395813268, 2.645805226403654, 0.044281424244046574, 25.45108966577229, 1.3275688182937244], [1.5536840679095663, 15.810274045288358, 18.19509067819937, 0.16816294851399505, 17.091124322092696], [16.584740547298388, 0.9857110936509297, 14.690092337925972, 9.830407667139372, 1.330770299462562], [21.79826113053677, 4.435854114620958, 7.023135151157372, 25.03343544472511, 22.42470376503708], [5.151427494517745, 23.099099739833967, 17.51407212656505, 16.799732086374036, 10.449079277165904], [23.31663273285907, 2.583734924835768, 7.7000330715845, 9.503870924907227, 7.722946479232437], [17.96721358136059, 6.89652422438409, 10.4130548651245, 10.776961651881473, 3.476445485401738], [23.25842064120293, 19.146368775746776, 24.357185237934114, 29.667843954163896, 17.21688615421459]], 'time_anom_flags': 1, 'mahalanobis_dist_time': [1.9945322880641716, 2.2209595449237414, 1.8121790012923624, 2.026764966907026, 1.5175057737904614, 2.2139011823503782, 3.2898721256404864, 2.435950237236429, 2.1368492748722363, 1.7253771727859224, 2.658316705512997, 1.6710332661021545, 1.6211660594704589, 2.2422381293615032, 2.1729708720646044, 1.81374028924071, 2.917901709200089, 2.4271150842744915, 2.55708372292046, 2.657595406658002, 3.0852096714649275, 84.8071308178532, 76.02640605769994, 63.289805304220046, 52.11390853871828, 117.29029315864963, 67.40074708657377, 57.44169496647152, 36.3947218775612, 118.1846203992565], 'mahalanobis_dist_feat': [188.51567203471606, 117.52941074720432, 134.66709280270723, 192.07077121780767, 155.00835294498717]}]}\n"
     ]
    }
   ],
   "source": [
    "# Send instance dictionary to receive response from ML-Engine for online prediction\n",
    "from googleapiclient import discovery\n",
    "from oauth2client.client import GoogleCredentials\n",
    "import json\n",
    "\n",
    "credentials = GoogleCredentials.get_application_default()\n",
    "api = discovery.build(\"ml\", \"v1\", credentials = credentials)\n",
    "\n",
    "request_data = {\"instances\": instances}\n",
    "\n",
    "parent = \"projects/%s/models/%s/versions/%s\" % (PROJECT, \"anomaly_detection_pca_unlabeled\", \"v1\")\n",
    "response = api.projects().predict(body = request_data, name = parent).execute()\n",
    "print(\"response = {}\".format(response))"
   ]
  },
  {
   "cell_type": "code",
   "execution_count": null,
   "metadata": {},
   "outputs": [],
   "source": []
  }
 ],
 "metadata": {
  "kernelspec": {
   "display_name": "Python 3",
   "language": "python",
   "name": "python3"
  },
  "language_info": {
   "codemirror_mode": {
    "name": "ipython",
    "version": 3
   },
   "file_extension": ".py",
   "mimetype": "text/x-python",
   "name": "python",
   "nbconvert_exporter": "python",
   "pygments_lexer": "ipython3",
   "version": "3.5.3"
  }
 },
 "nbformat": 4,
 "nbformat_minor": 4
}

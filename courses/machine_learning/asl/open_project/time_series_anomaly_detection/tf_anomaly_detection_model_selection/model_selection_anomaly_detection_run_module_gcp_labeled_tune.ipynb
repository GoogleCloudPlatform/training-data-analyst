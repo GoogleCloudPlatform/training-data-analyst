{
 "cells": [
  {
   "cell_type": "markdown",
   "metadata": {},
   "source": [
    "# Run model module on GCP with labeled threshold tuning"
   ]
  },
  {
   "cell_type": "code",
   "execution_count": null,
   "metadata": {},
   "outputs": [],
   "source": [
    "import os\n",
    "PROJECT = \"PROJECT\" # REPLACE WITH YOUR PROJECT ID\n",
    "BUCKET = \"BUCKET\" # REPLACE WITH A BUCKET NAME\n",
    "REGION = \"us-central1\" # REPLACE WITH YOUR REGION e.g. us-central1\n",
    "\n",
    "# Import os environment variables\n",
    "os.environ[\"PROJECT\"] = PROJECT\n",
    "os.environ[\"BUCKET\"] =  BUCKET\n",
    "os.environ[\"REGION\"] = REGION\n",
    "os.environ[\"TFVERSION\"] = \"1.13\""
   ]
  },
  {
   "cell_type": "markdown",
   "metadata": {},
   "source": [
    "Copy data over to bucket"
   ]
  },
  {
   "cell_type": "code",
   "execution_count": null,
   "metadata": {},
   "outputs": [],
   "source": [
    "%%bash\n",
    "gcloud storage cp --recursive data/* gs://${BUCKET}/anomaly_detection/data"   ]
  },
  {
   "cell_type": "code",
   "execution_count": null,
   "metadata": {},
   "outputs": [],
   "source": [
    "# Import os environment variables for global sequence shape hyperparameters\n",
    "os.environ[\"SEQ_LEN\"] = str(30)\n",
    "os.environ[\"NUM_FEAT\"] = str(5)\n",
    "\n",
    "# Import os environment variables for global feature hyperparameters\n",
    "os.environ[\"FEAT_NAMES\"] = (\",\").join([\"tag_{}\".format(i) for i in range(int(os.environ[\"NUM_FEAT\"]))])\n",
    "os.environ[\"FEAT_DEFAULTS\"] = (\",\").join([(\";\").join([\"0.0\"] * int(os.environ[\"SEQ_LEN\"]))] * int(os.environ[\"NUM_FEAT\"]))\n",
    "\n",
    "# Import os environment variables for global training hyperparameters\n",
    "os.environ[\"START_DELAY_SECS\"] = str(60)\n",
    "os.environ[\"THROTTLE_SECS\"] = str(120)\n",
    "\n",
    "# Import os environment variables for global threshold hyperparameters\n",
    "os.environ[\"LABELED_TUNE_THRESH\"] = \"True\"\n",
    "os.environ[\"NUM_TIME_ANOM_THRESH\"] = str(300)\n",
    "os.environ[\"NUM_FEAT_ANOM_THRESH\"] = str(300)\n",
    "\n",
    "# Import global dense hyperparameters\n",
    "os.environ[\"ENC_DNN_HIDDEN_UNITS\"] = \"64,32,16\"\n",
    "os.environ[\"LATENT_VECTOR_SIZE\"] = str(8)\n",
    "os.environ[\"DEC_DNN_HIDDEN_UNITS\"] = \"16,32,64\"\n",
    "os.environ[\"TIME_LOSS_WEIGHT\"] = str(1.0)\n",
    "os.environ[\"FEAT_LOSS_WEIGHT\"] = str(1.0)\n",
    "\n",
    "# Import global lstm hyperparameters\n",
    "os.environ[\"REVERSE_LABELS_SEQUENCE\"] = \"True\"\n",
    "os.environ[\"ENC_LSTM_HIDDEN_UNITS\"] = \"64,32,16\"\n",
    "os.environ[\"DEC_LSTM_HIDDEN_UNITS\"] = \"16,32,64\"\n",
    "os.environ[\"LSTM_DROPOUT_OUTPUT_KEEP_PROBS\"] = \"0.9,0.95,1.0\"\n",
    "os.environ[\"DNN_HIDDEN_UNITS\"] = \"1024,256,64\""
   ]
  },
  {
   "cell_type": "markdown",
   "metadata": {},
   "source": [
    "## Train reconstruction variables"
   ]
  },
  {
   "cell_type": "code",
   "execution_count": null,
   "metadata": {},
   "outputs": [],
   "source": [
    "# Import os environment variables for reconstruction training hyperparameters\n",
    "os.environ[\"TRAIN_FILE_PATTERN\"] = \"gs://{}/anomaly_detection/data/train_norm_seq.csv\".format(BUCKET)\n",
    "os.environ[\"EVAL_FILE_PATTERN\"] = \"gs://{}/anomaly_detection/data/val_norm_1_seq.csv\".format(BUCKET)\n",
    "os.environ[\"PREVIOUS_TRAIN_STEPS\"] = str(0)\n",
    "os.environ[\"RECONSTRUCTION_EPOCHS\"] = str(1.0)\n",
    "os.environ[\"TRAIN_EXAMPLES\"] = str(64000)\n",
    "os.environ[\"LEARNING_RATE\"] = str(0.1)\n",
    "os.environ[\"TRAINING_MODE\"] = \"reconstruction\""
   ]
  },
  {
   "cell_type": "markdown",
   "metadata": {},
   "source": [
    "### Dense Autoencoder"
   ]
  },
  {
   "cell_type": "code",
   "execution_count": null,
   "metadata": {},
   "outputs": [],
   "source": [
    "%%bash\n",
    "OUTDIR=gs://${BUCKET}/anomaly_detection/trained_model/dense_labeled\n",
    "JOBNAME=job_anomaly_detection_reconstruction_dense_labeled_$(date -u +%y%m%d_%H%M%S)\n",
    "echo ${OUTDIR} ${REGION} ${JOBNAME}\n",
    "gcloud storage rm --recursive --continue-on-error ${OUTDIR}\n",    "gcloud ml-engine jobs submit training ${JOBNAME} \\\n",
    "  --region=${REGION} \\\n",
    "  --module-name=trainer.task \\\n",
    "  --package-path=$PWD/anomaly_detection_module/trainer \\\n",
    "  --job-dir=${OUTDIR} \\\n",
    "  --staging-bucket=gs://${BUCKET} \\\n",
    "  --scale-tier=STANDARD_1 \\\n",
    "  --runtime-version=${TFVERSION} \\\n",
    "  -- \\\n",
    "  --train_file_pattern=${TRAIN_FILE_PATTERN} \\\n",
    "  --eval_file_pattern=${EVAL_FILE_PATTERN} \\\n",
    "  --output_dir=${OUTDIR} \\\n",
    "  --job-dir=./tmp \\\n",
    "  --seq_len=${SEQ_LEN} \\\n",
    "  --num_feat=${NUM_FEAT} \\\n",
    "  --feat_names=${FEAT_NAMES} \\\n",
    "  --feat_defaults=${FEAT_DEFAULTS} \\\n",
    "  --train_batch_size=32 \\\n",
    "  --eval_batch_size=32 \\\n",
    "  --previous_train_steps=${PREVIOUS_TRAIN_STEPS} \\\n",
    "  --reconstruction_epochs=${RECONSTRUCTION_EPOCHS} \\\n",
    "  --train_examples=${TRAIN_EXAMPLES} \\\n",
    "  --learning_rate=${LEARNING_RATE} \\\n",
    "  --start_delay_secs=${START_DELAY_SECS} \\\n",
    "  --throttle_secs=${THROTTLE_SECS} \\\n",
    "  --model_type=\"dense_autoencoder\" \\\n",
    "  --enc_dnn_hidden_units=${ENC_DNN_HIDDEN_UNITS} \\\n",
    "  --latent_vector_size=${LATENT_VECTOR_SIZE} \\\n",
    "  --dec_dnn_hidden_units=${DEC_DNN_HIDDEN_UNITS} \\\n",
    "  --time_loss_weight=${TIME_LOSS_WEIGHT} \\\n",
    "  --feat_loss_weight=${FEAT_LOSS_WEIGHT} \\\n",
    "  --training_mode=${TRAINING_MODE} \\\n",
    "  --labeled_tune_thresh=${LABELED_TUNE_THRESH} \\\n",
    "  --num_time_anom_thresh=${NUM_TIME_ANOM_THRESH} \\\n",
    "  --num_feat_anom_thresh=${NUM_FEAT_ANOM_THRESH}"
   ]
  },
  {
   "cell_type": "markdown",
   "metadata": {},
   "source": [
    "### LSTM Autoencoder"
   ]
  },
  {
   "cell_type": "code",
   "execution_count": null,
   "metadata": {},
   "outputs": [],
   "source": [
    "%%bash\n",
    "OUTDIR=gs://${BUCKET}/anomaly_detection/trained_model/lstm_labeled\n",
    "JOBNAME=job_anomaly_detection_reconstruction_lstm_labeled_$(date -u +%y%m%d_%H%M%S)\n",
    "echo ${OUTDIR} ${REGION} ${JOBNAME}\n",
    "gcloud storage rm --recursive --continue-on-error ${OUTDIR}\n",    "gcloud ml-engine jobs submit training ${JOBNAME} \\\n",
    "  --region=${REGION} \\\n",
    "  --module-name=trainer.task \\\n",
    "  --package-path=$PWD/anomaly_detection_module/trainer \\\n",
    "  --job-dir=${OUTDIR} \\\n",
    "  --staging-bucket=gs://${BUCKET} \\\n",
    "  --scale-tier=STANDARD_1 \\\n",
    "  --runtime-version=${TFVERSION} \\\n",
    "  -- \\\n",
    "  --train_file_pattern=${TRAIN_FILE_PATTERN} \\\n",
    "  --eval_file_pattern=${EVAL_FILE_PATTERN} \\\n",
    "  --output_dir=${OUTDIR} \\\n",
    "  --job-dir=./tmp \\\n",
    "  --seq_len=${SEQ_LEN} \\\n",
    "  --num_feat=${NUM_FEAT} \\\n",
    "  --feat_names=${FEAT_NAMES} \\\n",
    "  --feat_defaults=${FEAT_DEFAULTS} \\\n",
    "  --train_batch_size=32 \\\n",
    "  --eval_batch_size=32 \\\n",
    "  --previous_train_steps=${PREVIOUS_TRAIN_STEPS} \\\n",
    "  --reconstruction_epochs=${RECONSTRUCTION_EPOCHS} \\\n",
    "  --train_examples=${TRAIN_EXAMPLES} \\\n",
    "  --learning_rate=${LEARNING_RATE} \\\n",
    "  --start_delay_secs=${START_DELAY_SECS} \\\n",
    "  --throttle_secs=${THROTTLE_SECS} \\\n",
    "  --model_type=\"lstm_enc_dec_autoencoder\" \\\n",
    "  --reverse_labels_sequence=${REVERSE_LABELS_SEQUENCE} \\\n",
    "  --enc_lstm_hidden_units=${ENC_LSTM_HIDDEN_UNITS} \\\n",
    "  --dec_lstm_hidden_units=${DEC_LSTM_HIDDEN_UNITS} \\\n",
    "  --lstm_dropout_output_keep_probs=${LSTM_DROPOUT_OUTPUT_KEEP_PROBS} \\\n",
    "  --dnn_hidden_units=${DNN_HIDDEN_UNITS} \\\n",
    "  --training_mode=${TRAINING_MODE} \\\n",
    "  --labeled_tune_thresh=${LABELED_TUNE_THRESH} \\\n",
    "  --num_time_anom_thresh=${NUM_TIME_ANOM_THRESH} \\\n",
    "  --num_feat_anom_thresh=${NUM_FEAT_ANOM_THRESH}"
   ]
  },
  {
   "cell_type": "markdown",
   "metadata": {},
   "source": [
    "### PCA Autoencoder"
   ]
  },
  {
   "cell_type": "markdown",
   "metadata": {},
   "source": [
    "Reconstruction"
   ]
  },
  {
   "cell_type": "code",
   "execution_count": null,
   "metadata": {},
   "outputs": [],
   "source": [
    "%%bash\n",
    "OUTDIR=gs://${BUCKET}/anomaly_detection/trained_model/pca_labeled\n",
    "JOBNAME=job_anomaly_detection_reconstruction_pca_labeled_$(date -u +%y%m%d_%H%M%S)\n",
    "echo ${OUTDIR} ${REGION} ${JOBNAME}\n",
    "gcloud storage rm --recursive --continue-on-error ${OUTDIR}\n",    "gcloud ml-engine jobs submit training ${JOBNAME} \\\n",
    "  --region=${REGION} \\\n",
    "  --module-name=trainer.task \\\n",
    "  --package-path=$PWD/anomaly_detection_module/trainer \\\n",
    "  --job-dir=${OUTDIR} \\\n",
    "  --staging-bucket=gs://${BUCKET} \\\n",
    "  --scale-tier=STANDARD_1 \\\n",
    "  --runtime-version=${TFVERSION} \\\n",
    "  -- \\\n",
    "  --train_file_pattern=${TRAIN_FILE_PATTERN} \\\n",
    "  --eval_file_pattern=${EVAL_FILE_PATTERN} \\\n",
    "  --output_dir=${OUTDIR} \\\n",
    "  --job-dir=./tmp \\\n",
    "  --seq_len=${SEQ_LEN} \\\n",
    "  --num_feat=${NUM_FEAT} \\\n",
    "  --feat_names=${FEAT_NAMES} \\\n",
    "  --feat_defaults=${FEAT_DEFAULTS} \\\n",
    "  --train_batch_size=32 \\\n",
    "  --eval_batch_size=32 \\\n",
    "  --previous_train_steps=${PREVIOUS_TRAIN_STEPS} \\\n",
    "  --reconstruction_epochs=1.0 \\\n",
    "  --train_examples=${TRAIN_EXAMPLES} \\\n",
    "  --eval_examples=6400 \\\n",
    "  --start_delay_secs=${START_DELAY_SECS} \\\n",
    "  --throttle_secs=${THROTTLE_SECS} \\\n",
    "  --model_type=\"pca\" \\\n",
    "  --training_mode=${TRAINING_MODE} \\\n",
    "  --autotune_principal_components=\"False\" \\\n",
    "  --labeled_tune_thresh=${LABELED_TUNE_THRESH} \\\n",
    "  --num_time_anom_thresh=${NUM_TIME_ANOM_THRESH} \\\n",
    "  --num_feat_anom_thresh=${NUM_FEAT_ANOM_THRESH}"
   ]
  },
  {
   "cell_type": "markdown",
   "metadata": {},
   "source": [
    "Autotune principal components"
   ]
  },
  {
   "cell_type": "code",
   "execution_count": null,
   "metadata": {},
   "outputs": [],
   "source": [
    "%%bash\n",
    "OUTDIR=gs://${BUCKET}/anomaly_detection/trained_model/pca_labeled\n",
    "JOBNAME=job_anomaly_detection_reconstruction_pca_labeled_$(date -u +%y%m%d_%H%M%S)\n",
    "echo ${OUTDIR} ${REGION} ${JOBNAME}\n",
    "gcloud ml-engine jobs submit training ${JOBNAME} \\\n",
    "  --region=${REGION} \\\n",
    "  --module-name=trainer.task \\\n",
    "  --package-path=$PWD/anomaly_detection_module/trainer \\\n",
    "  --job-dir=${OUTDIR} \\\n",
    "  --staging-bucket=gs://${BUCKET} \\\n",
    "  --scale-tier=STANDARD_1 \\\n",
    "  --runtime-version=${TFVERSION} \\\n",
    "  -- \\\n",
    "  --train_file_pattern=${EVAL_FILE_PATTERN} \\\n",
    "  --eval_file_pattern=${EVAL_FILE_PATTERN} \\\n",
    "  --output_dir=${OUTDIR} \\\n",
    "  --job-dir=./tmp \\\n",
    "  --seq_len=${SEQ_LEN} \\\n",
    "  --num_feat=${NUM_FEAT} \\\n",
    "  --feat_names=${FEAT_NAMES} \\\n",
    "  --feat_defaults=${FEAT_DEFAULTS} \\\n",
    "  --train_batch_size=32 \\\n",
    "  --eval_batch_size=32 \\\n",
    "  --previous_train_steps=2000 \\\n",
    "  --reconstruction_epochs=1.0 \\\n",
    "  --train_examples=6400 \\\n",
    "  --eval_examples=6400 \\\n",
    "  --start_delay_secs=${START_DELAY_SECS} \\\n",
    "  --throttle_secs=${THROTTLE_SECS} \\\n",
    "  --model_type=\"pca\" \\\n",
    "  --training_mode=${TRAINING_MODE} \\\n",
    "  --autotune_principal_components=\"True\" \\\n",
    "  --labeled_tune_thresh=${LABELED_TUNE_THRESH} \\\n",
    "  --num_time_anom_thresh=${NUM_TIME_ANOM_THRESH} \\\n",
    "  --num_feat_anom_thresh=${NUM_FEAT_ANOM_THRESH}"
   ]
  },
  {
   "cell_type": "markdown",
   "metadata": {},
   "source": [
    "## Hyperparameter tuning of reconstruction hyperparameters"
   ]
  },
  {
   "cell_type": "markdown",
   "metadata": {},
   "source": [
    "### Dense Autoencoder"
   ]
  },
  {
   "cell_type": "code",
   "execution_count": null,
   "metadata": {},
   "outputs": [],
   "source": [
    "%%writefile hyperparam_reconstruction_dense.yaml\n",
    "trainingInput:\n",
    "  scaleTier: STANDARD_1\n",
    "  hyperparameters:\n",
    "    hyperparameterMetricTag: rmse\n",
    "    goal: MINIMIZE\n",
    "    maxTrials: 30\n",
    "    maxParallelTrials: 1\n",
    "    params:\n",
    "    - parameterName: enc_dnn_hidden_units\n",
    "      type: CATEGORICAL\n",
    "      categoricalValues: [\"64 32 16\", \"256 128 16\", \"64 64 64\"]\n",
    "    - parameterName: latent_vector_size\n",
    "      type: INTEGER\n",
    "      minValue: 8\n",
    "      maxValue: 16\n",
    "      scaleType: UNIT_LINEAR_SCALE\n",
    "    - parameterName: dec_dnn_hidden_units\n",
    "      type: CATEGORICAL\n",
    "      categoricalValues: [\"16 32 64\", \"16 128 256\", \"64 64 64\"]\n",
    "    - parameterName: train_batch_size\n",
    "      type: INTEGER\n",
    "      minValue: 8\n",
    "      maxValue: 512\n",
    "      scaleType: UNIT_LOG_SCALE\n",
    "    - parameterName: learning_rate\n",
    "      type: DOUBLE\n",
    "      minValue: 0.001\n",
    "      maxValue: 0.1\n",
    "      scaleType: UNIT_LINEAR_SCALE"
   ]
  },
  {
   "cell_type": "code",
   "execution_count": null,
   "metadata": {},
   "outputs": [],
   "source": [
    "%%bash\n",
    "OUTDIR=gs://${BUCKET}/anomaly_detection/hyperparam_reconstruction_dense_labeled\n",
    "JOBNAME=job_anomaly_detection_hyperparam_reconstruction_dense_labeled_$(date -u +%y%m%d_%H%M%S)\n",
    "echo ${OUTDIR} ${REGION} ${JOBNAME}\n",
    "gcloud storage rm --recursive --continue-on-error ${OUTDIR}\n",    "gcloud ml-engine jobs submit training ${JOBNAME} \\\n",
    "  --region=${REGION} \\\n",
    "  --module-name=trainer.task \\\n",
    "  --package-path=$PWD/anomaly_detection_module/trainer \\\n",
    "  --job-dir=${OUTDIR} \\\n",
    "  --staging-bucket=gs://${BUCKET} \\\n",
    "  --scale-tier=STANDARD_1 \\\n",
    "  --config=hyperparam_reconstruction_dense.yaml \\\n",
    "  --runtime-version=${TFVERSION} \\\n",
    "  -- \\\n",
    "  --train_file_pattern=gs://${BUCKET}/anomaly_detection/data/train_norm_seq.csv \\\n",
    "  --eval_file_pattern=gs://${BUCKET}/anomaly_detection/data/val_norm_1_seq.csv \\\n",
    "  --output_dir=${OUTDIR} \\\n",
    "  --job-dir=${OUTDIR} \\\n",
    "  --seq_len=30 \\\n",
    "  --num_feat=5 \\\n",
    "  --feat_names=${FEAT_NAMES} \\\n",
    "  --feat_defaults=${FEAT_DEFAULTS} \\\n",
    "  --train_batch_size=32 \\\n",
    "  --eval_batch_size=32 \\\n",
    "  --previous_train_steps=0 \\\n",
    "  --reconstruction_epochs=1.0 \\\n",
    "  --train_examples=64000 \\\n",
    "  --start_delay_secs=60 \\\n",
    "  --throttle_secs=120 \\\n",
    "  --training_mode=\"reconstruction\" \\\n",
    "  --labeled_tune_thresh=True \\\n",
    "  --num_time_anom_thresh=300 \\\n",
    "  --num_feat_anom_thresh=300"
   ]
  },
  {
   "cell_type": "markdown",
   "metadata": {},
   "source": [
    "### LSTM Autoencoder"
   ]
  },
  {
   "cell_type": "code",
   "execution_count": null,
   "metadata": {},
   "outputs": [],
   "source": [
    "%%writefile hyperparam_reconstruction_lstm.yaml\n",
    "trainingInput:\n",
    "  scaleTier: STANDARD_1\n",
    "  hyperparameters:\n",
    "    hyperparameterMetricTag: rmse\n",
    "    goal: MINIMIZE\n",
    "    maxTrials: 30\n",
    "    maxParallelTrials: 1\n",
    "    params:\n",
    "    - parameterName: enc_lstm_hidden_units\n",
    "      type: CATEGORICAL\n",
    "      categoricalValues: [\"64 32 16\", \"256 128 16\", \"64 64 64\"]\n",
    "    - parameterName: dec_lstm_hidden_units\n",
    "      type: CATEGORICAL\n",
    "      categoricalValues: [\"16 32 64\", \"16 128 256\", \"64 64 64\"]\n",
    "    - parameterName: lstm_dropout_output_keep_probs\n",
    "      type: CATEGORICAL\n",
    "      categoricalValues: [\"0.9 1.0 1.0\", \"0.95 0.95 1.0\", \"0.95 0.95 0.95\"]\n",
    "    - parameterName: dnn_hidden_units\n",
    "      type: CATEGORICAL\n",
    "      categoricalValues: [\"256 128 64\", \"256 128 16\", \"64 64 64\"]\n",
    "    - parameterName: train_batch_size\n",
    "      type: INTEGER\n",
    "      minValue: 8\n",
    "      maxValue: 512\n",
    "      scaleType: UNIT_LOG_SCALE\n",
    "    - parameterName: learning_rate\n",
    "      type: DOUBLE\n",
    "      minValue: 0.001\n",
    "      maxValue: 0.1\n",
    "      scaleType: UNIT_LINEAR_SCALE"
   ]
  },
  {
   "cell_type": "code",
   "execution_count": null,
   "metadata": {},
   "outputs": [],
   "source": [
    "%%bash\n",
    "OUTDIR=gs://${BUCKET}/anomaly_detection/hyperparam_reconstruction_lstm_labeled\n",
    "JOBNAME=job_anomaly_detection_hyperparam_reconstruction_lstm_labeled_$(date -u +%y%m%d_%H%M%S)\n",
    "echo ${OUTDIR} ${REGION} ${JOBNAME}\n",
    "gcloud storage rm --recursive --continue-on-error ${OUTDIR}\n",    "gcloud ml-engine jobs submit training ${JOBNAME} \\\n",
    "  --region=${REGION} \\\n",
    "  --module-name=trainer.task \\\n",
    "  --package-path=$PWD/anomaly_detection_module/trainer \\\n",
    "  --job-dir=${OUTDIR} \\\n",
    "  --staging-bucket=gs://${BUCKET} \\\n",
    "  --scale-tier=STANDARD_1 \\\n",
    "  --config=hyperparam_reconstruction_lstm.yaml \\\n",
    "  --runtime-version=${TFVERSION} \\\n",
    "  -- \\\n",
    "  --train_file_pattern=gs://${BUCKET}/anomaly_detection/data/train_norm_seq.csv \\\n",
    "  --eval_file_pattern=gs://${BUCKET}/anomaly_detection/data/val_norm_1_seq.csv \\\n",
    "  --output_dir=${OUTDIR} \\\n",
    "  --job-dir=${OUTDIR} \\\n",
    "  --seq_len=30 \\\n",
    "  --num_feat=5 \\\n",
    "  --feat_names=${FEAT_NAMES} \\\n",
    "  --feat_defaults=${FEAT_DEFAULTS} \\\n",
    "  --train_batch_size=32 \\\n",
    "  --eval_batch_size=32 \\\n",
    "  --previous_train_steps=0 \\\n",
    "  --reconstruction_epochs=1.0 \\\n",
    "  --train_examples=64000 \\\n",
    "  --start_delay_secs=60 \\\n",
    "  --throttle_secs=120 \\\n",
    "  --training_mode=\"reconstruction\" \\\n",
    "  --labeled_tune_thresh=True \\\n",
    "  --num_time_anom_thresh=300 \\\n",
    "  --num_feat_anom_thresh=300"
   ]
  },
  {
   "cell_type": "markdown",
   "metadata": {},
   "source": [
    "### PCA Autoencoder"
   ]
  },
  {
   "cell_type": "code",
   "execution_count": null,
   "metadata": {},
   "outputs": [],
   "source": [
    "%%writefile hyperparam_reconstruction_pca.yaml\n",
    "trainingInput:\n",
    "  scaleTier: STANDARD_1\n",
    "  hyperparameters:\n",
    "    hyperparameterMetricTag: rmse\n",
    "    goal: MINIMIZE\n",
    "    maxTrials: 30\n",
    "    maxParallelTrials: 1\n",
    "    params:\n",
    "    - parameterName: k_principal_components_time\n",
    "      type: INTEGER\n",
    "      minValue: 2\n",
    "      maxValue: 10\n",
    "      scaleType: UNIT_LINEAR_SCALE\n",
    "    - parameterName: k_principal_components_feat\n",
    "      type: INTEGER\n",
    "      minValue: 2\n",
    "      maxValue: 10\n",
    "      scaleType: UNIT_LINEAR_SCALE"
   ]
  },
  {
   "cell_type": "code",
   "execution_count": null,
   "metadata": {},
   "outputs": [],
   "source": [
    "%%bash\n",
    "OUTDIR=gs://${BUCKET}/anomaly_detection/hyperparam_reconstruction_pca_labeled\n",
    "JOBNAME=job_anomaly_detection_hyperparam_reconstruction_pca_labeled_$(date -u +%y%m%d_%H%M%S)\n",
    "echo ${OUTDIR} ${REGION} ${JOBNAME}\n",
    "gcloud storage rm --recursive --continue-on-error ${OUTDIR}\n",    "gcloud ml-engine jobs submit training ${JOBNAME} \\\n",
    "  --region=${REGION} \\\n",
    "  --module-name=trainer.task \\\n",
    "  --package-path=$PWD/anomaly_detection_module/trainer \\\n",
    "  --job-dir=${OUTDIR} \\\n",
    "  --staging-bucket=gs://${BUCKET} \\\n",
    "  --scale-tier=STANDARD_1 \\\n",
    "  --config=hyperparam_reconstruction_pca.yaml \\\n",
    "  --runtime-version=${TFVERSION} \\\n",
    "  -- \\\n",
    "  --train_file_pattern=gs://${BUCKET}/anomaly_detection/data/train_norm_seq.csv \\\n",
    "  --eval_file_pattern=gs://${BUCKET}/anomaly_detection/data/val_norm_1_seq.csv \\\n",
    "  --output_dir=${OUTDIR} \\\n",
    "  --job-dir=${OUTDIR} \\\n",
    "  --seq_len=30 \\\n",
    "  --num_feat=5 \\\n",
    "  --feat_names=${FEAT_NAMES} \\\n",
    "  --feat_defaults=${FEAT_DEFAULTS} \\\n",
    "  --train_batch_size=32 \\\n",
    "  --eval_batch_size=32 \\\n",
    "  --previous_train_steps=0 \\\n",
    "  --reconstruction_epochs=1.0 \\\n",
    "  --train_examples=64000 \\\n",
    "  --eval_examples=6400 \\\n",
    "  --start_delay_secs=60 \\\n",
    "  --throttle_secs=120 \\\n",
    "  --training_mode=\"reconstruction\" \\\n",
    "  --labeled_tune_thresh=True \\\n",
    "  --num_time_anom_thresh=300 \\\n",
    "  --num_feat_anom_thresh=300"
   ]
  },
  {
   "cell_type": "markdown",
   "metadata": {},
   "source": [
    "## Train error distribution variables"
   ]
  },
  {
   "cell_type": "code",
   "execution_count": null,
   "metadata": {},
   "outputs": [],
   "source": [
    "# Import os environment variables for error dist training hyperparameters\n",
    "os.environ[\"TRAIN_FILE_PATTERN\"] = \"gs://{}/anomaly_detection/data/val_norm_1_seq.csv\".format(BUCKET)\n",
    "os.environ[\"EVAL_FILE_PATTERN\"] = \"gs://{}/anomaly_detection/data/val_norm_1_seq.csv\".format(BUCKET)\n",
    "os.environ[\"PREVIOUS_TRAIN_STEPS\"] = str(2000)\n",
    "os.environ[\"TRAIN_EXAMPLES\"] = str(6400)\n",
    "os.environ[\"TRAINING_MODE\"] = \"calculate_error_distribution_statistics\"\n",
    "os.environ[\"EPS\"] = \"1e-12\""
   ]
  },
  {
   "cell_type": "markdown",
   "metadata": {},
   "source": [
    "### Dense Autoencoder"
   ]
  },
  {
   "cell_type": "code",
   "execution_count": null,
   "metadata": {},
   "outputs": [],
   "source": [
    "%%bash\n",
    "OUTDIR=gs://${BUCKET}/anomaly_detection/trained_model/dense_labeled\n",
    "JOBNAME=job_anomaly_detection_calculate_error_distribution_statistics_dense_labeled_$(date -u +%y%m%d_%H%M%S)\n",
    "echo ${OUTDIR} ${REGION} ${JOBNAME}\n",
    "gcloud ml-engine jobs submit training ${JOBNAME} \\\n",
    "  --region=${REGION} \\\n",
    "  --module-name=trainer.task \\\n",
    "  --package-path=$PWD/anomaly_detection_module/trainer \\\n",
    "  --job-dir=${OUTDIR} \\\n",
    "  --staging-bucket=gs://${BUCKET} \\\n",
    "  --scale-tier=STANDARD_1 \\\n",
    "  --runtime-version=${TFVERSION} \\\n",
    "  -- \\\n",
    "  --train_file_pattern=${TRAIN_FILE_PATTERN} \\\n",
    "  --eval_file_pattern=${EVAL_FILE_PATTERN} \\\n",
    "  --output_dir=${OUTDIR} \\\n",
    "  --job-dir=./tmp \\\n",
    "  --seq_len=${SEQ_LEN} \\\n",
    "  --num_feat=${NUM_FEAT} \\\n",
    "  --feat_names=${FEAT_NAMES} \\\n",
    "  --feat_defaults=${FEAT_DEFAULTS} \\\n",
    "  --train_batch_size=32 \\\n",
    "  --eval_batch_size=32 \\\n",
    "  --previous_train_steps=${PREVIOUS_TRAIN_STEPS} \\\n",
    "  --train_examples=${TRAIN_EXAMPLES} \\\n",
    "  --start_delay_secs=${START_DELAY_SECS} \\\n",
    "  --throttle_secs=${THROTTLE_SECS} \\\n",
    "  --model_type=\"dense_autoencoder\" \\\n",
    "  --enc_dnn_hidden_units=${ENC_DNN_HIDDEN_UNITS} \\\n",
    "  --latent_vector_size=${LATENT_VECTOR_SIZE} \\\n",
    "  --dec_dnn_hidden_units=${DEC_DNN_HIDDEN_UNITS} \\\n",
    "  --time_loss_weight=${TIME_LOSS_WEIGHT} \\\n",
    "  --feat_loss_weight=${FEAT_LOSS_WEIGHT} \\\n",
    "  --training_mode=${TRAINING_MODE} \\\n",
    "  --labeled_tune_thresh=${LABELED_TUNE_THRESH} \\\n",
    "  --eps=${EPS} \\\n",
    "  --num_time_anom_thresh=${NUM_TIME_ANOM_THRESH} \\\n",
    "  --num_feat_anom_thresh=${NUM_FEAT_ANOM_THRESH}"
   ]
  },
  {
   "cell_type": "markdown",
   "metadata": {},
   "source": [
    "### LSTM Autoencoder"
   ]
  },
  {
   "cell_type": "code",
   "execution_count": null,
   "metadata": {},
   "outputs": [],
   "source": [
    "%%bash\n",
    "OUTDIR=gs://${BUCKET}/anomaly_detection/trained_model/lstm_labeled\n",
    "JOBNAME=job_anomaly_detection_calculate_error_distribution_statistics_lstm_labeled_$(date -u +%y%m%d_%H%M%S)\n",
    "echo ${OUTDIR} ${REGION} ${JOBNAME}\n",
    "gcloud ml-engine jobs submit training ${JOBNAME} \\\n",
    "  --region=${REGION} \\\n",
    "  --module-name=trainer.task \\\n",
    "  --package-path=$PWD/anomaly_detection_module/trainer \\\n",
    "  --job-dir=${OUTDIR} \\\n",
    "  --staging-bucket=gs://${BUCKET} \\\n",
    "  --scale-tier=STANDARD_1 \\\n",
    "  --runtime-version=${TFVERSION} \\\n",
    "  -- \\\n",
    "  --train_file_pattern=${TRAIN_FILE_PATTERN} \\\n",
    "  --eval_file_pattern=${EVAL_FILE_PATTERN} \\\n",
    "  --output_dir=${OUTDIR} \\\n",
    "  --job-dir=./tmp \\\n",
    "  --seq_len=${SEQ_LEN} \\\n",
    "  --num_feat=${NUM_FEAT} \\\n",
    "  --feat_names=${FEAT_NAMES} \\\n",
    "  --feat_defaults=${FEAT_DEFAULTS} \\\n",
    "  --train_batch_size=32 \\\n",
    "  --eval_batch_size=32 \\\n",
    "  --previous_train_steps=${PREVIOUS_TRAIN_STEPS} \\\n",
    "  --train_examples=${TRAIN_EXAMPLES} \\\n",
    "  --start_delay_secs=${START_DELAY_SECS} \\\n",
    "  --throttle_secs=${THROTTLE_SECS} \\\n",
    "  --model_type=\"lstm_enc_dec_autoencoder\" \\\n",
    "  --reverse_labels_sequence=${REVERSE_LABELS_SEQUENCE} \\\n",
    "  --enc_lstm_hidden_units=${ENC_LSTM_HIDDEN_UNITS} \\\n",
    "  --dec_lstm_hidden_units=${DEC_LSTM_HIDDEN_UNITS} \\\n",
    "  --lstm_dropout_output_keep_probs=${LSTM_DROPOUT_OUTPUT_KEEP_PROBS} \\\n",
    "  --dnn_hidden_units=${DNN_HIDDEN_UNITS} \\\n",
    "  --training_mode=${TRAINING_MODE} \\\n",
    "  --labeled_tune_thresh=${LABELED_TUNE_THRESH} \\\n",
    "  --eps=${EPS} \\\n",
    "  --num_time_anom_thresh=${NUM_TIME_ANOM_THRESH} \\\n",
    "  --num_feat_anom_thresh=${NUM_FEAT_ANOM_THRESH}"
   ]
  },
  {
   "cell_type": "markdown",
   "metadata": {},
   "source": [
    "### PCA Autoencoder"
   ]
  },
  {
   "cell_type": "code",
   "execution_count": null,
   "metadata": {},
   "outputs": [],
   "source": [
    "%%bash\n",
    "OUTDIR=gs://${BUCKET}/anomaly_detection/trained_model/pca_labeled\n",
    "JOBNAME=job_anomaly_detection_calculate_error_distribution_statistics_pca_labeled_$(date -u +%y%m%d_%H%M%S)\n",
    "echo ${OUTDIR} ${REGION} ${JOBNAME}\n",
    "gcloud ml-engine jobs submit training ${JOBNAME} \\\n",
    "  --region=${REGION} \\\n",
    "  --module-name=trainer.task \\\n",
    "  --package-path=$PWD/anomaly_detection_module/trainer \\\n",
    "  --job-dir=${OUTDIR} \\\n",
    "  --staging-bucket=gs://${BUCKET} \\\n",
    "  --scale-tier=STANDARD_1 \\\n",
    "  --runtime-version=${TFVERSION} \\\n",
    "  -- \\\n",
    "  --train_file_pattern=${TRAIN_FILE_PATTERN} \\\n",
    "  --eval_file_pattern=${EVAL_FILE_PATTERN} \\\n",
    "  --output_dir=${OUTDIR} \\\n",
    "  --job-dir=./tmp \\\n",
    "  --seq_len=${SEQ_LEN} \\\n",
    "  --num_feat=${NUM_FEAT} \\\n",
    "  --feat_names=${FEAT_NAMES} \\\n",
    "  --feat_defaults=${FEAT_DEFAULTS} \\\n",
    "  --train_batch_size=32 \\\n",
    "  --eval_batch_size=32 \\\n",
    "  --previous_train_steps=2200 \\\n",
    "  --train_examples=${TRAIN_EXAMPLES} \\\n",
    "  --start_delay_secs=${START_DELAY_SECS} \\\n",
    "  --throttle_secs=${THROTTLE_SECS} \\\n",
    "  --model_type=\"pca\" \\\n",
    "  --training_mode=${TRAINING_MODE} \\\n",
    "  --labeled_tune_thresh=${LABELED_TUNE_THRESH} \\\n",
    "  --eps=${EPS} \\\n",
    "  --num_time_anom_thresh=${NUM_TIME_ANOM_THRESH} \\\n",
    "  --num_feat_anom_thresh=${NUM_FEAT_ANOM_THRESH}"
   ]
  },
  {
   "cell_type": "markdown",
   "metadata": {},
   "source": [
    "## Tune anomaly thresholds"
   ]
  },
  {
   "cell_type": "code",
   "execution_count": null,
   "metadata": {},
   "outputs": [],
   "source": [
    "# Import os environment variables for tune threshold training hyperparameters\n",
    "os.environ[\"PREVIOUS_TRAIN_STEPS\"] = str(2200)\n",
    "os.environ[\"TRAIN_EXAMPLES\"] = str(12800)\n",
    "os.environ[\"TRAINING_MODE\"] = \"tune_anomaly_thresholds\""
   ]
  },
  {
   "cell_type": "markdown",
   "metadata": {},
   "source": [
    "## Labeled"
   ]
  },
  {
   "cell_type": "code",
   "execution_count": null,
   "metadata": {},
   "outputs": [],
   "source": [
    "# Import os environment variables for labeled tune threshold training hyperparameters\n",
    "os.environ[\"TRAIN_FILE_PATTERN\"] = \"gs://{}/anomaly_detection/data/labeled_val_mixed_seq.csv\".format(BUCKET)\n",
    "os.environ[\"EVAL_FILE_PATTERN\"] = \"gs://{}/anomaly_detection/data/labeled_val_mixed_seq.csv\".format(BUCKET)\n",
    "os.environ[\"MIN_TIME_ANOM_THRESH\"] = str(1.0)\n",
    "os.environ[\"MAX_TIME_ANOM_THRESH\"] = str(20.0)\n",
    "os.environ[\"MIN_FEAT_ANOM_THRESH\"] = str(20.0)\n",
    "os.environ[\"MAX_FEAT_ANOM_THRESH\"] = str(80.0)\n",
    "os.environ[\"F_SCORE_BETA\"] = str(0.05)"
   ]
  },
  {
   "cell_type": "markdown",
   "metadata": {},
   "source": [
    "### Dense Autoencoder"
   ]
  },
  {
   "cell_type": "code",
   "execution_count": null,
   "metadata": {},
   "outputs": [],
   "source": [
    "%%bash\n",
    "OUTDIR=gs://${BUCKET}/anomaly_detection/trained_model/dense_labeled\n",
    "JOBNAME=job_anomaly_detection_tune_anomaly_thresholds_dense_labeled_$(date -u +%y%m%d_%H%M%S)\n",
    "echo ${OUTDIR} ${REGION} ${JOBNAME}\n",
    "gcloud ml-engine jobs submit training ${JOBNAME} \\\n",
    "  --region=${REGION} \\\n",
    "  --module-name=trainer.task \\\n",
    "  --package-path=$PWD/anomaly_detection_module/trainer \\\n",
    "  --job-dir=${OUTDIR} \\\n",
    "  --staging-bucket=gs://${BUCKET} \\\n",
    "  --scale-tier=STANDARD_1 \\\n",
    "  --runtime-version=${TFVERSION} \\\n",
    "  -- \\\n",
    "  --train_file_pattern=${TRAIN_FILE_PATTERN} \\\n",
    "  --eval_file_pattern=${EVAL_FILE_PATTERN} \\\n",
    "  --output_dir=${OUTDIR} \\\n",
    "  --job-dir=./tmp \\\n",
    "  --seq_len=${SEQ_LEN} \\\n",
    "  --num_feat=${NUM_FEAT} \\\n",
    "  --feat_names=${FEAT_NAMES} \\\n",
    "  --feat_defaults=${FEAT_DEFAULTS} \\\n",
    "  --train_batch_size=32 \\\n",
    "  --eval_batch_size=32 \\\n",
    "  --previous_train_steps=${PREVIOUS_TRAIN_STEPS} \\\n",
    "  --train_examples=${TRAIN_EXAMPLES} \\\n",
    "  --start_delay_secs=${START_DELAY_SECS} \\\n",
    "  --throttle_secs=${THROTTLE_SECS} \\\n",
    "  --model_type=\"dense_autoencoder\" \\\n",
    "  --enc_dnn_hidden_units=${ENC_DNN_HIDDEN_UNITS} \\\n",
    "  --latent_vector_size=${LATENT_VECTOR_SIZE} \\\n",
    "  --dec_dnn_hidden_units=${DEC_DNN_HIDDEN_UNITS} \\\n",
    "  --time_loss_weight=${TIME_LOSS_WEIGHT} \\\n",
    "  --feat_loss_weight=${FEAT_LOSS_WEIGHT} \\\n",
    "  --training_mode=${TRAINING_MODE} \\\n",
    "  --labeled_tune_thresh=${LABELED_TUNE_THRESH} \\\n",
    "  --num_time_anom_thresh=${NUM_TIME_ANOM_THRESH} \\\n",
    "  --num_feat_anom_thresh=${NUM_FEAT_ANOM_THRESH} \\\n",
    "  --min_time_anom_thresh=${MIN_TIME_ANOM_THRESH} \\\n",
    "  --max_time_anom_thresh=${MAX_TIME_ANOM_THRESH} \\\n",
    "  --min_feat_anom_thresh=${MIN_FEAT_ANOM_THRESH} \\\n",
    "  --max_feat_anom_thresh=${MAX_FEAT_ANOM_THRESH} \\\n",
    "  --f_score_beta=${F_SCORE_BETA}"
   ]
  },
  {
   "cell_type": "markdown",
   "metadata": {},
   "source": [
    "### LSTM Autoencoder"
   ]
  },
  {
   "cell_type": "code",
   "execution_count": null,
   "metadata": {},
   "outputs": [],
   "source": [
    "%%bash\n",
    "OUTDIR=gs://${BUCKET}/anomaly_detection/trained_model/lstm_labeled\n",
    "JOBNAME=job_anomaly_detection_tune_anomaly_thresholds_lstm_labeled_$(date -u +%y%m%d_%H%M%S)\n",
    "echo ${OUTDIR} ${REGION} ${JOBNAME}\n",
    "gcloud ml-engine jobs submit training ${JOBNAME} \\\n",
    "  --region=${REGION} \\\n",
    "  --module-name=trainer.task \\\n",
    "  --package-path=$PWD/anomaly_detection_module/trainer \\\n",
    "  --job-dir=${OUTDIR} \\\n",
    "  --staging-bucket=gs://${BUCKET} \\\n",
    "  --scale-tier=STANDARD_1 \\\n",
    "  --runtime-version=${TFVERSION} \\\n",
    "  -- \\\n",
    "  --train_file_pattern=${TRAIN_FILE_PATTERN} \\\n",
    "  --eval_file_pattern=${EVAL_FILE_PATTERN} \\\n",
    "  --output_dir=${OUTDIR} \\\n",
    "  --job-dir=./tmp \\\n",
    "  --seq_len=${SEQ_LEN} \\\n",
    "  --num_feat=${NUM_FEAT} \\\n",
    "  --feat_names=${FEAT_NAMES} \\\n",
    "  --feat_defaults=${FEAT_DEFAULTS} \\\n",
    "  --train_batch_size=32 \\\n",
    "  --eval_batch_size=32 \\\n",
    "  --previous_train_steps=${PREVIOUS_TRAIN_STEPS} \\\n",
    "  --train_examples=${TRAIN_EXAMPLES} \\\n",
    "  --start_delay_secs=${START_DELAY_SECS} \\\n",
    "  --throttle_secs=${THROTTLE_SECS} \\\n",
    "  --model_type=\"lstm_enc_dec_autoencoder\" \\\n",
    "  --reverse_labels_sequence=${REVERSE_LABELS_SEQUENCE} \\\n",
    "  --enc_lstm_hidden_units=${ENC_LSTM_HIDDEN_UNITS} \\\n",
    "  --dec_lstm_hidden_units=${DEC_LSTM_HIDDEN_UNITS} \\\n",
    "  --lstm_dropout_output_keep_probs=${LSTM_DROPOUT_OUTPUT_KEEP_PROBS} \\\n",
    "  --dnn_hidden_units=${DNN_HIDDEN_UNITS} \\\n",
    "  --training_mode=${TRAINING_MODE} \\\n",
    "  --labeled_tune_thresh=${LABELED_TUNE_THRESH} \\\n",
    "  --num_time_anom_thresh=${NUM_TIME_ANOM_THRESH} \\\n",
    "  --num_feat_anom_thresh=${NUM_FEAT_ANOM_THRESH} \\\n",
    "  --min_time_anom_thresh=${MIN_TIME_ANOM_THRESH} \\\n",
    "  --max_time_anom_thresh=${MAX_TIME_ANOM_THRESH} \\\n",
    "  --min_feat_anom_thresh=${MIN_FEAT_ANOM_THRESH} \\\n",
    "  --max_feat_anom_thresh=${MAX_FEAT_ANOM_THRESH} \\\n",
    "  --f_score_beta=${F_SCORE_BETA}"
   ]
  },
  {
   "cell_type": "markdown",
   "metadata": {},
   "source": [
    "### PCA Autoencoder"
   ]
  },
  {
   "cell_type": "code",
   "execution_count": null,
   "metadata": {},
   "outputs": [],
   "source": [
    "%%bash\n",
    "OUTDIR=gs://${BUCKET}/anomaly_detection/trained_model/pca_labeled\n",
    "JOBNAME=job_anomaly_detection_tune_anomaly_thresholds_pca_labeled_$(date -u +%y%m%d_%H%M%S)\n",
    "echo ${OUTDIR} ${REGION} ${JOBNAME}\n",
    "gcloud ml-engine jobs submit training ${JOBNAME} \\\n",
    "  --region=${REGION} \\\n",
    "  --module-name=trainer.task \\\n",
    "  --package-path=$PWD/anomaly_detection_module/trainer \\\n",
    "  --job-dir=${OUTDIR} \\\n",
    "  --staging-bucket=gs://${BUCKET} \\\n",
    "  --scale-tier=STANDARD_1 \\\n",
    "  --runtime-version=${TFVERSION} \\\n",
    "  -- \\\n",
    "  --train_file_pattern=${TRAIN_FILE_PATTERN} \\\n",
    "  --eval_file_pattern=${EVAL_FILE_PATTERN} \\\n",
    "  --output_dir=${OUTDIR} \\\n",
    "  --job-dir=./tmp \\\n",
    "  --seq_len=${SEQ_LEN} \\\n",
    "  --num_feat=${NUM_FEAT} \\\n",
    "  --feat_names=${FEAT_NAMES} \\\n",
    "  --feat_defaults=${FEAT_DEFAULTS} \\\n",
    "  --train_batch_size=32 \\\n",
    "  --eval_batch_size=32 \\\n",
    "  --previous_train_steps=2400 \\\n",
    "  --train_examples=${TRAIN_EXAMPLES} \\\n",
    "  --start_delay_secs=${START_DELAY_SECS} \\\n",
    "  --throttle_secs=${THROTTLE_SECS} \\\n",
    "  --model_type=\"pca\" \\\n",
    "  --training_mode=${TRAINING_MODE} \\\n",
    "  --labeled_tune_thresh=${LABELED_TUNE_THRESH} \\\n",
    "  --num_time_anom_thresh=${NUM_TIME_ANOM_THRESH} \\\n",
    "  --num_feat_anom_thresh=${NUM_FEAT_ANOM_THRESH} \\\n",
    "  --min_time_anom_thresh=${MIN_TIME_ANOM_THRESH} \\\n",
    "  --max_time_anom_thresh=${MAX_TIME_ANOM_THRESH} \\\n",
    "  --min_feat_anom_thresh=${MIN_FEAT_ANOM_THRESH} \\\n",
    "  --max_feat_anom_thresh=${MAX_FEAT_ANOM_THRESH} \\\n",
    "  --f_score_beta=${F_SCORE_BETA}"
   ]
  },
  {
   "cell_type": "markdown",
   "metadata": {},
   "source": [
    "## Deploy"
   ]
  },
  {
   "cell_type": "markdown",
   "metadata": {},
   "source": [
    "### Dense Autoencoder"
   ]
  },
  {
   "cell_type": "code",
   "execution_count": null,
   "metadata": {},
   "outputs": [],
   "source": [
    "%%bash\n",
    "MODEL_NAME=\"anomaly_detection_dense_labeled\"\n",
    "MODEL_VERSION=\"v1\"\n",
    "MODEL_LOCATION=$(gcloud storage ls gs://${BUCKET}/anomaly_detection/trained_model/dense_labeled/export/exporter/ | tail -1)\n",    "echo \"Deleting and deploying $MODEL_NAME $MODEL_VERSION from $MODEL_LOCATION ... this will take a few minutes\"\n",
    "#gcloud ml-engine versions delete ${MODEL_VERSION} --model ${MODEL_NAME}\n",
    "#gcloud ml-engine models delete ${MODEL_NAME}\n",
    "gcloud ml-engine models create ${MODEL_NAME} --regions ${REGION}\n",
    "gcloud ml-engine versions create ${MODEL_VERSION} --model ${MODEL_NAME} --origin ${MODEL_LOCATION} --runtime-version ${TFVERSION}"
   ]
  },
  {
   "cell_type": "markdown",
   "metadata": {},
   "source": [
    "### LSTM Autoencoder"
   ]
  },
  {
   "cell_type": "code",
   "execution_count": null,
   "metadata": {},
   "outputs": [],
   "source": [
    "%%bash\n",
    "MODEL_NAME=\"anomaly_detection_lstm_labeled\"\n",
    "MODEL_VERSION=\"v1\"\n",
    "MODEL_LOCATION=$(gcloud storage ls gs://${BUCKET}/anomaly_detection/trained_model/lstm_labeled/export/exporter/ | tail -1)\n",    "echo \"Deleting and deploying $MODEL_NAME $MODEL_VERSION from $MODEL_LOCATION ... this will take a few minutes\"\n",
    "#gcloud ml-engine versions delete ${MODEL_VERSION} --model ${MODEL_NAME}\n",
    "#gcloud ml-engine models delete ${MODEL_NAME}\n",
    "gcloud ml-engine models create ${MODEL_NAME} --regions ${REGION}\n",
    "gcloud ml-engine versions create ${MODEL_VERSION} --model ${MODEL_NAME} --origin ${MODEL_LOCATION} --runtime-version ${TFVERSION}"
   ]
  },
  {
   "cell_type": "markdown",
   "metadata": {},
   "source": [
    "### PCA Autoencoder"
   ]
  },
  {
   "cell_type": "code",
   "execution_count": null,
   "metadata": {},
   "outputs": [],
   "source": [
    "%%bash\n",
    "MODEL_NAME=\"anomaly_detection_pca_labeled\"\n",
    "MODEL_VERSION=\"v1\"\n",
    "MODEL_LOCATION=$(gcloud storage ls gs://${BUCKET}/anomaly_detection/trained_model/pca_labeled/export/exporter/ | tail -1)\n",    "echo \"Deleting and deploying $MODEL_NAME $MODEL_VERSION from $MODEL_LOCATION ... this will take a few minutes\"\n",
    "#gcloud ml-engine versions delete ${MODEL_VERSION} --model ${MODEL_NAME}\n",
    "#gcloud ml-engine models delete ${MODEL_NAME}\n",
    "gcloud ml-engine models create ${MODEL_NAME} --regions ${REGION}\n",
    "gcloud ml-engine versions create ${MODEL_VERSION} --model ${MODEL_NAME} --origin ${MODEL_LOCATION} --runtime-version ${TFVERSION}"
   ]
  },
  {
   "cell_type": "markdown",
   "metadata": {},
   "source": [
    "## Prediction"
   ]
  },
  {
   "cell_type": "code",
   "execution_count": 29,
   "metadata": {},
   "outputs": [],
   "source": [
    "UNLABELED_CSV_COLUMNS = [\"tag_{0}\".format(tag) for tag in range(0, 5)]"
   ]
  },
  {
   "cell_type": "code",
   "execution_count": 30,
   "metadata": {},
   "outputs": [
    {
     "name": "stdout",
     "output_type": "stream",
     "text": [
      "labeled_test_mixed_sequences_array.shape = (12800, 6)\n"
     ]
    }
   ],
   "source": [
    "import numpy as np\n",
    "labeled_test_mixed_sequences_array = np.loadtxt(\n",
    "    fname=\"data/labeled_test_mixed_seq.csv\", dtype=str, delimiter=\",\")\n",
    "print(\"labeled_test_mixed_sequences_array.shape = {}\".format(\n",
    "    labeled_test_mixed_sequences_array.shape))"
   ]
  },
  {
   "cell_type": "code",
   "execution_count": 31,
   "metadata": {},
   "outputs": [
    {
     "name": "stdout",
     "output_type": "stream",
     "text": [
      "labels = ['0' '0' '0' '0' '0' '0' '1' '1' '1' '0']\n"
     ]
    }
   ],
   "source": [
    "number_of_prediction_instances = 10\n",
    "print(\"labels = {}\".format(\n",
    "  labeled_test_mixed_sequences_array[0:number_of_prediction_instances, -1]))"
   ]
  },
  {
   "cell_type": "markdown",
   "metadata": {},
   "source": [
    "### GCloud ML-Engine prediction from deployed model"
   ]
  },
  {
   "cell_type": "code",
   "execution_count": 32,
   "metadata": {},
   "outputs": [],
   "source": [
    "test_data_normal_string_list = labeled_test_mixed_sequences_array.tolist()[0:number_of_prediction_instances]"
   ]
  },
  {
   "cell_type": "code",
   "execution_count": 33,
   "metadata": {},
   "outputs": [],
   "source": [
    "# Format dataframe to instances list to get sent to ML-Engine\n",
    "instances = [{UNLABELED_CSV_COLUMNS[i]: example[i]\n",
    "              for i in range(len(UNLABELED_CSV_COLUMNS))} \n",
    "             for example in labeled_test_mixed_sequences_array.tolist()[0:number_of_prediction_instances]]"
   ]
  },
  {
   "cell_type": "code",
   "execution_count": 34,
   "metadata": {},
   "outputs": [
    {
     "data": {
      "text/plain": [
       "[{'tag_0': '0.66491856;1.9145195;1.75234653;-0.78400576;-0.75609776;0.84197907;2.33069302;0.67758695;-1.60418555;-0.16573821;1.65752209;1.38322258;-0.65379731;-0.98907577;0.85974301;2.28947191;1.30827902;-1.28121539;-0.84517686;1.16128253;2.54710653;-0.07715313;-0.99222116;-0.14657169;2.05595855;1.51383899;-0.53623582;-0.75514892;0.48173323;2.3100255',\n",
       "  'tag_1': '0.14611996;1.91715205;-0.37882894;0.21415584;2.12791802;-0.0619942;0.11572278;1.93012199;0.6541758;-0.68204207;1.56716207;0.75419849;-0.37778253;1.57716806;1.37025903;-1.14077495;1.15195495;1.68996712;-0.81952461;0.85177925;1.21750258;-0.15392611;-0.18813038;2.1498899;0.22421678;-0.30835851;1.58292183;-0.08034281;-0.51606627;2.0111497',\n",
       "  'tag_2': '0.93582327;1.42382616;2.07416534;0.66961254;-0.45530108;-0.33779627;1.29564858;1.57718875;1.62194094;-0.50371325;-0.68795334;-0.21823157;1.67758936;1.87901361;0.89202323;-1.15923235;-0.39328089;1.03425895;1.62499189;1.47040884;0.40736898;-1.1339056;-0.29514493;1.74666228;2.22234859;0.66564559;-0.7699364;-0.64337751;0.32518635;1.48844008',\n",
       "  'tag_3': '0.55496827;1.63017531;-0.17487062;-0.14967874;2.12154598;0.98646297;-0.89614069;0.16462197;1.48088977;-0.2009814;-0.7492661;1.41074009;1.49459742;-0.78390433;0.96362317;2.35191643;0.01970021;-0.30345158;1.84212884;0.63518639;-1.26010881;0.84082203;2.33136081;-0.67124369;-0.70904769;1.48210016;0.858758;-1.31116881;0.49555797;1.40730677',\n",
       "  'tag_4': '0.09135211;2.01834776;0.97056041;-0.1594919;-0.62361487;0.47084415;1.44724272;1.15545605;-0.64437793;-0.18398029;1.1087019;2.06215052;0.45822295;-0.61682919;-0.29801659;0.82097915;1.61374037;0.41494366;-1.0210058;-0.21951907;1.65998406;1.83563618;-0.25813724;-0.13240912;0.38837674;1.99312546;1.22683365;-0.4224495;-0.18025518;0.08359485'},\n",
       " {'tag_0': '0.17719106;2.36471116;1.33668375;-0.4400062;-1.25963378;1.73031706;2.58521375;0.11354567;-1.11310486;-0.32198926;1.51152682;2.13049867;-0.35512449;-1.27345835;0.54471967;2.6967149;0.86732941;-1.24531881;-0.42520021;1.44453372;1.94324334;0.40487656;-1.015864;0.25622177;1.77878128;1.57045202;-0.79358892;-1.3590808;0.73755601;2.62965859',\n",
       "  'tag_1': '0.71030153;1.8669475;-0.09171495;-0.17981998;2.22558183;-0.14653793;-0.40682499;1.55818913;0.34023437;-0.21518259;1.86580895;0.86045721;-0.6714036;1.13412677;0.8525273;-0.48981632;1.17631327;1.59408396;-0.78513187;1.1368699;1.7272055;-0.03057556;0.53859453;1.69313548;0.226495;-0.10393593;1.44571603;-0.07160673;-0.73000503;1.86491928',\n",
       "  'tag_2': '0.09367139;1.33746674;1.9004417;-0.21943487;-1.31156289;0.09949706;1.15835086;1.53605551;1.30479204;0.15526542;-0.41549426;0.04660619;1.80027446;2.14560549;1.0622532;-0.38149954;-0.43315075;0.65333784;1.4824436;0.97490262;-0.36708224;-1.01950586;0.18231947;1.00474388;2.17614239;0.85310003;-0.94154304;-0.97572663;0.2814986;2.11980224',\n",
       "  'tag_3': '0.43296269;2.23009529;-0.48612455;-0.36227708;1.45665627;0.75931715;-1.18570904;0.44684432;1.794074;0.12783238;-0.99541007;2.04215917;1.53342289;-0.48745935;0.91976961;2.02896366;0.07280475;-0.82926737;1.65608629;0.57029549;-0.96460788;0.66030174;1.88675877;-0.30225988;-0.12357446;2.07062348;0.66685794;-0.56192636;0.92809804;1.80654295',\n",
       "  'tag_4': '0.587145;1.35353767;0.9576224;0.12748192;-0.56293386;0.94937899;1.53220376;1.18329597;-0.02936159;0.10863562;0.63922954;1.49684617;0.98793307;-0.64285446;-0.54617024;1.54162035;1.61626536;0.67105137;-0.38921715;0.48454694;0.97877305;1.24861088;0.1069746;-0.6347279;-0.04215181;1.26183669;1.56819848;0.32655155;-0.10546471;0.3429311'},\n",
       " {'tag_0': '0.56407532;2.21735549;1.48425456;-0.4582741;-0.74001439;1.17780382;2.51229789;0.81291222;-0.89756718;-0.04710926;2.26889544;2.08856754;-0.34440918;-1.26350166;0.82788279;2.41310829;0.8713713;-0.77068466;-1.29778275;1.51732726;2.08484064;0.11026772;-0.93499246;0.31454002;2.03869059;2.17338;0.02256827;-0.76568536;0.223173;2.41177806',\n",
       "  'tag_1': '0.99841597;1.8766039;-0.67996731;-0.36469926;2.02594307;-0.40838761;-0.70422727;1.60641465;0.30621662;-0.59939678;1.82428969;0.74964436;-0.19356367;1.11676055;1.45679273;-0.30363095;0.88551093;1.61644233;-0.86644429;0.64232134;1.86929387;-0.56763947;0.28351136;1.2989801;0.07792312;0.20716147;1.3108805;-0.35569196;-0.83411026;2.03297332',\n",
       "  'tag_2': '0.79596068;1.78534899;1.18440192;0.6851619;-0.51180857;-0.64516618;0.859677;1.81742657;1.00894047;-0.02323468;-1.32522709;0.59765354;1.22555665;2.10937369;0.93312951;-0.93750619;-0.21586528;1.09578856;1.76662781;1.33824507;0.38463941;-0.40313816;-0.51195442;1.69684109;2.37203636;1.17955189;-0.94215326;-0.77441587;0.14614711;1.85351877',\n",
       "  'tag_3': '0.56405834;2.3395669;0.01928487;-0.88295555;1.38164722;0.93342287;-0.98667119;0.69532375;2.16844925;-0.19033075;-0.12080565;1.47695624;1.2454856;-0.64102547;0.60170497;2.33863214;0.07862161;-0.53523123;1.59156042;1.40543765;-1.21651573;0.86007653;2.3446296;0.14265097;-0.55523953;1.66811979;0.8424894;-0.59742515;1.12757917;2.20907267',\n",
       "  'tag_4': '0.94153508;1.9210392;1.23240201;0.19354849;-0.02721869;0.32052958;1.2136126;0.35832705;-0.82980208;-0.09731961;1.41645797;1.97141205;0.18904187;-0.98276332;-0.59979095;1.61790449;1.22859036;0.19796442;-1.08586748;0.10717925;1.10829904;1.60354724;0.37362338;-0.61213502;-0.10515549;1.70933596;0.97441548;0.11367894;-0.55315244;0.41229579'},\n",
       " {'tag_0': '0.42126312;1.91613205;1.15577886;-0.51229836;-0.56412723;1.78292241;1.9655619;0.61294146;-0.84437795;0.21312217;1.74664349;1.88352544;-0.5116456;-1.02126818;0.73948334;2.52338096;0.74412904;-1.35536017;-0.59437695;1.4454396;2.2661811;0.77992007;-1.22885127;-0.45589788;1.96042996;1.72453031;-0.42378919;-1.14939038;0.95947915;2.21788557',\n",
       "  'tag_1': '0.83495192;1.72642886;-0.69048477;-0.15195203;1.81144859;-0.42598887;-0.62738702;1.91878794;-0.08209937;-0.88814676;1.3766724;0.72756088;-1.15848756;1.37880414;0.86606965;-0.77535041;0.67921471;0.83980365;-0.41557283;1.15811811;1.14488711;-0.68099151;0.56917152;1.51629663;-0.74655844;-0.35079936;2.04346636;0.01299723;-0.70726465;1.65701281',\n",
       "  'tag_2': '0.76809582;1.89351557;1.68027055;-0.01449823;-0.76833814;0.06323329;0.81700795;2.06601228;1.52797847;0.15271752;-1.09156426;0.04857706;1.9033371;1.51497711;0.51402321;-0.62353928;-0.75683717;0.47646536;2.1032838;1.5209599;-0.29563802;-1.08365054;0.19123748;0.84269981;2.34527762;0.88959519;-0.15693771;-1.08716567;0.32190664;1.89654211',\n",
       "  'tag_3': '0.72446044;1.7897659;-0.5995043;-0.29050033;1.59976153;1.55619488;-1.07504783;0.76942606;1.73877153;0.04319877;-0.65155011;1.41514951;1.23854522;-0.7096767;0.72825959;1.60513711;0.2605117;-0.88187029;1.82338286;1.43733909;-0.97684025;0.22276613;2.16613619;-0.43187756;-0.96124318;1.82670802;1.21815652;-1.15328814;1.09508608;1.35338326',\n",
       "  'tag_4': '0.74212608;1.60065456;1.44689852;-0.20538241;-0.23862303;0.98306409;2.08869005;0.71335664;-0.36451671;0.05793743;0.59341791;1.49433147;0.56347407;-0.22791291;-0.30649144;1.4044681;1.19468166;0.0759247;-0.24974403;-0.36999676;1.50435203;1.43292034;0.23921067;-1.09305809;0.08724514;1.80554213;1.56683133;-0.04704193;-0.66817036;0.43310227'},\n",
       " {'tag_0': '0.72579761;2.47522531;1.327882;-0.75268684;-1.1781596;1.8190688;2.75720961;0.36062891;-0.83751352;-0.71114497;1.94022901;1.66131344;-0.31676063;-0.97258012;0.64972194;2.63356231;1.00750943;-1.47431186;-0.72892581;1.50185207;2.21181981;0.2661509;-1.25935447;0.30660896;1.88079632;1.61985348;-0.05001294;-0.84116216;0.34933468;2.13577794',\n",
       "  'tag_1': '0.28667536;1.38474681;-0.65711262;0.24981812;1.58942549;-0.16474207;-0.61395175;1.49868725;0.45787859;-0.41612629;1.41471588;0.41348958;-0.80739775;1.49833563;1.48766394;-0.45534772;0.70898202;0.98323878;-0.74497386;0.64891817;1.63324152;-0.03950937;0.05579431;1.54732627;-0.66710993;-0.35114065;1.53111315;-0.01973695;-0.37731297;1.75623545',\n",
       "  'tag_2': '0.90848602;2.21676242;1.85921972;-0.24197257;-0.9100976;0.00275013;1.00053774;1.40055928;0.74702449;-0.50267597;-0.84651481;0.2292874;1.98407809;2.26690591;0.9022541;-1.13558066;-0.21949626;1.04933645;1.6770574;1.55207594;-0.14044969;-0.86823706;-0.28564309;1.74831191;1.70918509;1.12008136;-0.04343257;-0.9626134;-0.09400303;2.07010619',\n",
       "  'tag_3': '0.95364124;1.73729486;-0.46975947;-0.60177623;1.60340907;1.05856077;-1.1101516;0.45645482;2.09716668;-0.21975787;-0.38319073;2.05270447;1.16664725;-1.21537023;0.25826675;2.25034501;-0.60087805;-0.49597547;1.33748965;1.42932051;-0.60206741;1.00846474;1.58231814;-0.5112769;-0.98310747;1.87652975;0.88289004;-1.03286975;0.93315793;2.15740461',\n",
       "  'tag_4': '0.40835687;1.56538177;1.37825225;0.08545293;-0.70862794;0.88269748;1.16281691;1.07729888;-0.90948711;-0.60861432;1.48940031;2.04036648;0.14156203;-0.44991055;-0.2542472;1.37231589;1.79903228;0.09845316;-0.64955625;0.32648146;1.18872066;1.24506551;-0.0067401;-0.50290517;0.33286966;1.43410147;1.71245797;-0.58743568;-0.95471011;0.93948165'},\n",
       " {'tag_0': '0.32586937;2.08483849;1.75075176;-1.3336731;-1.17097551;0.97406564;1.7887734;0.08011179;-1.08188674;-0.05479934;1.99891319;1.61133871;-0.71490799;-0.99111498;0.87641865;2.61951522;0.81368508;-0.72022372;-1.31567318;0.98415183;1.75673683;0.24764211;-1.37138841;-0.00938338;2.49622452;1.93360966;-0.8683438;-1.02346433;0.22796142;2.17651303',\n",
       "  'tag_1': '0.88830138;1.40762486;-0.89037037;-0.24249388;1.91719852;-0.01578304;-0.08442717;1.55637788;-0.12647233;-0.38200814;1.6873275;0.98669163;-1.14192299;1.31623504;0.53457028;-0.55379481;1.41801087;1.68637843;-0.93578977;0.94078648;1.1668302;-0.32543639;0.656733;1.68649731;0.12277812;0.29430548;1.32494733;0.39247261;-0.66217234;1.33253825',\n",
       "  'tag_2': '0.81516693;1.60512581;1.6907453;0.22479972;-0.95582798;-0.27743592;0.69123689;2.17858567;1.0722736;-0.30677606;-0.75284401;-0.34243141;1.70903897;1.86075445;1.07625646;-0.75971642;-1.11335946;0.37604343;1.86715537;1.09562839;-0.33711711;-1.36609983;-0.22295621;0.90491489;1.75689099;0.92176145;-0.77558837;-1.15932892;0.60134914;1.8090888',\n",
       "  'tag_3': '0.4737608;1.73244784;0.23163436;-0.9631771;1.49774874;1.58665541;-0.44556445;0.34738166;1.59298496;-0.15497374;-0.79636535;1.60591865;1.12169701;-0.64230298;0.38073256;2.18393302;-0.50269062;-0.95453435;1.19402396;1.26136721;-1.40427224;0.98199957;1.47015842;-0.17585038;-0.28801113;1.24829305;1.12020913;-1.40855673;0.51226752;2.27812881',\n",
       "  'tag_4': '0.69678881;1.17885307;1.44638281;-0.70780262;-0.62696339;0.36653819;1.92369006;0.70271121;-0.29447236;-0.28310942;0.85425089;1.94911456;0.38299738;-0.96769782;0.15079265;1.50539141;1.1608814;0.6075995;-0.87810787;-0.24271358;1.14046976;1.12508366;0.35562226;-0.1424098;-0.17615414;1.69186414;0.92168567;-0.31295013;-0.44942316;0.15731019'},\n",
       " {'tag_0': '0.51050055;2.69389578;1.25894302;-0.77298241;-0.89719575;1.24131578;2.43433832;0.69897498;-1.42118052;0.23639712;2.10150457;1.37300574;-0.73292098;-1.04882182;0.64958206;2.15595112;1.27492057;-0.58570506;-1.15496434;0.9569437;1.84614769;7.2838498;28.68679059;3.68852023;41.20186049;25.79408803;4.07374501;-18.21477023;7.88766113;-31.413113',\n",
       "  'tag_1': '0.32816545;2.03168341;-0.50770387;-0.09223325;2.18201483;-0.57779839;-0.68059114;1.82432731;0.11727799;-0.4752929;1.13392897;0.72933341;-0.58817182;1.24613585;1.31511175;-0.62279865;0.74081665;1.27299271;-1.08821874;0.70929033;1.07553303;-0.55135701;0.59198618;28.72731254;8.63084852;-4.51672999;-28.62139419;6.26020798;3.07549138;-21.37796897',\n",
       "  'tag_2': '1.75172880e-01;2.05535240e+00;1.44003648e+00;5.17610212e-01;-1.12973153e+00;-4.41912631e-01;9.45471325e-01;1.50171682e+00;1.12132048e+00;-3.79924419e-01;-8.97876304e-01;3.20491103e-01;2.01208300e+00;1.56316061e+00;4.18401802e-01;-2.36201103e-01;-4.05905271e-01;9.67094333e-01;1.47189522e+00;1.67081141e+00;-2.83967475e-02;-1.49912774e+01;2.50368069e+00;1.39946933e+01;-2.98725861e+01;-2.60266709e+01;6.78922731e+00;-9.22078879e+00;1.12866692e+01;3.34847886e+01',\n",
       "  'tag_3': '0.9398891;2.14676813;0.31705662;-0.75858031;1.87535511;1.10697737;-1.38074992;0.90715747;1.98787289;-0.53331953;-0.162247;1.85005092;1.25558865;-0.44769547;1.05049323;1.38079449;0.25674551;-0.09597546;1.25296602;0.91029229;-1.3604584;-6.87075078;30.16100196;13.73234042;9.54641123;-14.95928707;13.17329063;11.59449353;-8.69392126;19.89690794',\n",
       "  'tag_4': '0.88440641;1.84351933;1.2522011;-0.04731375;-0.24563516;0.93245825;1.34810386;1.16530004;-0.82167278;-0.30757919;0.98430533;1.56121188;0.45867778;-0.13653135;-0.38089532;0.94985839;1.74326557;0.52395315;-0.72746284;0.21332402;1.81347259;-22.50918043;-2.03767266;-9.76303956;4.53970771;18.65899107;23.85139048;-4.29725835;10.15250383;-4.12923311'},\n",
       " {'tag_0': '0.29132869;1.94811937;1.7276976;-0.60992108;-1.26241941;1.47374999;2.36994795;0.1789954;-1.17736161;-0.46428297;2.37934236;1.97664288;-0.52773977;-1.68253872;1.07443294;2.71698415;1.6045785;-0.9920012;-1.09397133;1.20741447;1.80885343;1.34405876;20.67932055;-1.14022578;-28.40089904;16.12079604;7.38124482;12.12622874;15.13166867;32.90880771',\n",
       "  'tag_1': '0.8557475;1.93360377;-0.31294082;0.44979634;1.25960367;-0.2857751;-0.70045919;1.39591933;-0.13365899;-0.8439945;1.13747472;0.96123988;-0.66921742;1.3574706;1.36003416;-0.89376979;0.90144892;0.8535824;-0.26671179;0.22671035;1.30298162;-4.18913156;0.9468949;-29.00931534;7.04472224;-1.42687889;14.47096118;7.51008681;6.87904454;13.9561642',\n",
       "  'tag_2': '0.5217148;2.09703312;1.31606867;-0.26721771;-0.99434981;0.03704256;1.42266911;1.5446208;0.77225229;-0.2169492;-0.49256149;0.26210229;1.05365803;1.85281788;1.02462949;-0.78701173;-1.09867346;1.10725097;1.63491138;1.24112625;-0.34997672;-11.91426406;1.07551952;20.95590433;-24.12025401;21.56245775;3.69156376;20.35730663;6.46974537;13.42841392',\n",
       "  'tag_3': '0.47092471;1.49090388;-0.13276539;-0.14971593;1.70488311;1.54542686;-1.15809336;0.08510231;1.88856105;-0.49502568;-0.94090189;1.80752917;0.55999976;-0.80192163;0.15138497;1.69377715;-0.17549086;-0.52699769;1.52603672;1.37259062;-1.31313875;10.29232846;-26.04833009;-0.37512849;9.19901589;-16.41114362;-25.87962079;7.07386449;-8.11152706;-26.57871917',\n",
       "  'tag_4': '1.16552148e-01;1.47797459e+00;1.21258438e+00;-2.30026774e-02;-7.20304694e-01;3.00584391e-01;2.11149651e+00;1.25044571e+00;-2.15272110e-01;-6.36431860e-01;5.75934353e-01;2.01473045e+00;1.52349682e-01;-6.89695707e-01;-2.69293988e-01;8.88487864e-01;1.85078337e+00;7.05725023e-01;-6.37721453e-01;-3.67707435e-01;1.81040324e+00;1.14022841e+01;1.41792767e+00;-1.80681124e+01;1.15542589e+01;2.43209890e+01;-1.42527562e+01;1.42548515e+00;-1.44897947e+01;7.35681180e+00'},\n",
       " {'tag_0': '0.0266561;2.11295685;0.84281539;-0.49503168;-1.18619684;1.53450346;2.59183152;0.05013556;-1.43063062;-0.04718107;1.59537505;2.30320994;-0.70494473;-0.79954149;0.61767168;2.03670536;1.56815847;-0.55904809;-0.98331514;1.79599943;2.36509411;-8.97326176;11.79496445;-6.21452245;23.37675169;-26.45932154;-1.82586441;-17.00978883;-11.42588866;26.41579881',\n",
       "  'tag_1': '2.27730874e-01;1.74734270e+00;1.07832767e-02;-9.72417712e-02;2.17616114e+00;-4.88667993e-01;-2.67610076e-01;1.69136828e+00;6.42575329e-02;-2.57197525e-01;1.72384798e+00;9.36201398e-01;-3.07668556e-01;1.81908032e+00;9.01756832e-01;-6.80441792e-01;1.27233123e+00;1.45780828e+00;-4.81722748e-01;1.60838820e-01;1.28510952e+00;9.30987584e+00;1.04554355e+01;-2.50792477e+01;3.04080828e-01;-4.48267885e+00;1.09099535e+01;3.69566599e+00;5.92624619e+00;-1.81082616e+01',\n",
       "  'tag_2': '0.06343853;1.9124796;1.7756218;-0.03078451;-0.55164198;-0.19553961;1.39801553;1.57590058;1.18183893;-0.03955416;-0.47674046;0.04204849;1.65532651;1.42349039;0.7118908;-1.12871284;-0.57391866;1.15819722;2.31395329;1.73066558;-0.2845753;-13.32688457;2.62680401;18.37623135;-13.44823607;-12.58663013;14.48300707;9.90008467;-0.09487463;17.40007667',\n",
       "  'tag_3': '0.12282237;2.07993394;-0.52944738;-0.68663188;1.17090808;0.65621051;-0.67362715;0.11684809;1.79278833;-0.14167161;-0.10092116;1.88432723;1.25762303;-1.2240933;1.03084159;1.55835716;-0.24365917;-0.69771459;1.79552698;0.71852079;-0.46969943;11.62093989;-25.39511668;4.3249073;-10.84026304;-12.99393421;15.0325705;-12.19589652;-8.03079308;-40.59071569',\n",
       "  'tag_4': '0.69583932;1.14584373;0.96670326;-0.44210325;-0.59606549;0.33030086;1.45365818;0.57344436;-0.71515938;-0.08404491;0.8561574;1.3807949;0.62253036;-0.81216214;-0.43765282;1.09031985;1.25787573;-0.0741466;-0.97568411;-0.05445147;0.94227557;-22.29941375;6.85443505;21.8427763;-6.74829032;-23.70348229;-9.44233507;4.29718812;8.36262444;-2.34221339'},\n",
       " {'tag_0': '0.04002373;2.77047149;1.18899767;-0.60047226;-1.33342528;0.9332609;1.79713745;0.12207074;-1.54002434;0.12563447;1.65582437;2.16662805;-0.27858593;-1.33363261;0.63004838;2.60991971;1.54024527;-0.56917252;-0.72655791;1.15147733;2.50307969;0.34091677;-1.78544364;0.0469913;2.3052051;1.82387952;-0.12610546;-1.5179853;1.08815115;2.71393575',\n",
       "  'tag_1': '0.77316403;1.78993695;-0.00996767;0.06333012;1.74399522;-0.40204323;-0.3841756;2.08135886;-0.05024028;-0.53364949;2.07842082;0.61253916;-0.539925;0.96458172;0.93248708;-0.46253491;1.1020334;1.59779402;-0.86248362;0.97942725;1.28409853;-0.41827883;-0.21428836;1.3041642;0.13853662;-0.37642735;1.32348276;-0.03971839;-0.28628336;1.53879333',\n",
       "  'tag_2': '0.5064642;1.73569998;1.15883707;0.32626716;-0.93921306;-0.61178983;1.45841529;1.66214296;0.94871562;-0.40083787;-1.33746892;-0.17665792;1.81168659;1.70129509;1.07749217;-0.68119423;-0.23273985;0.39928992;1.4249041;1.33871969;0.37569222;-0.40994081;0.21717019;1.18499547;2.23490559;0.54602336;-0.17562612;-0.69806029;0.52470708;2.11374314',\n",
       "  'tag_3': '0.00495428;1.73058158;0.32864859;-0.12331526;1.38895531;0.80194698;-0.70576781;0.93858581;2.34687482;0.0124869;-0.42339452;2.1535986;0.88734299;-0.80289269;0.40426268;2.2888359;-0.22907384;-0.26897599;1.54588075;1.350909;-0.59548962;0.19248556;2.09446286;-0.0599024;-0.86764715;1.94053306;1.24092046;-1.21382899;0.28861945;1.45708077',\n",
       "  'tag_4': '0.09601987;1.79091122;1.51241607;0.15140355;-0.22029392;0.35311483;2.01294182;0.74675243;-0.91219142;-0.11479409;1.471586;2.10590009;0.79785938;-0.51961445;-0.47316746;0.80397399;1.70220473;0.79817527;-0.8511636;-0.14538853;1.10266323;1.11418798;-0.05283848;-0.14234928;0.33590364;1.48447235;1.6688788;-0.64356563;-0.74619109;0.94730833'}]"
      ]
     },
     "execution_count": 34,
     "metadata": {},
     "output_type": "execute_result"
    }
   ],
   "source": [
    "instances"
   ]
  },
  {
   "cell_type": "markdown",
   "metadata": {},
   "source": [
    "### Dense Autoencoder"
   ]
  },
  {
   "cell_type": "code",
   "execution_count": 35,
   "metadata": {},
   "outputs": [
    {
     "name": "stdout",
     "output_type": "stream",
     "text": [
      "response = {'predictions': [{'time_anom_flags': 0, 'X_time_abs_recon_err': [[0.66491856, 0.14611996, 0.93582327, 0.55496827, 0.09135211], [1.9145195, 1.91715205, 1.42382616, 1.63017531, 2.01834776], [1.75234653, 0.37882894, 2.07416534, 0.17487062, 0.97056041], [0.78400576, 0.21415584, 0.66961254, 0.14967874, 0.1594919], [0.75609776, 2.12791802, 0.45530108, 2.12154598, 0.62361487], [0.84197907, 0.0619942, 0.33779627, 0.98646297, 0.47084415], [2.33069302, 0.11572278, 1.29564858, 0.89614069, 1.44724272], [0.67758695, 1.93012199, 1.57718875, 0.16462197, 1.15545605], [1.60418555, 0.6541758, 1.62194094, 1.48088977, 0.64437793], [0.16573821, 0.68204207, 0.50371325, 0.2009814, 0.18398029], [1.65752209, 1.56716207, 0.68795334, 0.7492661, 1.1087019], [1.38322258, 0.75419849, 0.21823157, 1.41074009, 2.06215052], [0.65379731, 0.37778253, 1.67758936, 1.49459742, 0.45822295], [0.98907577, 1.57716806, 1.87901361, 0.78390433, 0.61682919], [0.85974301, 1.37025903, 0.89202323, 0.96362317, 0.29801659], [2.28947191, 1.14077495, 1.15923235, 2.35191643, 0.82097915], [1.30827902, 1.15195495, 0.39328089, 0.01970021, 1.61374037], [1.28121539, 1.68996712, 1.03425895, 0.30345158, 0.41494366], [0.84517686, 0.81952461, 1.62499189, 1.84212884, 1.0210058], [1.16128253, 0.85177925, 1.47040884, 0.63518639, 0.21951907], [2.54710653, 1.21750258, 0.40736898, 1.26010881, 1.65998406], [0.07715313, 0.15392611, 1.1339056, 0.84082203, 1.83563618], [0.99222116, 0.18813038, 0.29514493, 2.33136081, 0.25813724], [0.14657169, 2.1498899, 1.74666228, 0.67124369, 0.13240912], [2.05595855, 0.22421678, 2.22234859, 0.70904769, 0.38837674], [1.51383899, 0.30835851, 0.66564559, 1.48210016, 1.99312546], [0.53623582, 1.58292183, 0.7699364, 0.858758, 1.22683365], [0.75514892, 0.08034281, 0.64337751, 1.31116881, 0.4224495], [0.48173323, 0.51606627, 0.32518635, 0.49555797, 0.18025518], [2.3100255, 2.0111497, 1.48844008, 1.40730677, 0.08359485]], 'mahalanobis_dist_time': [1.793566846620438, 2.7994798526888545, 2.8774830168347485, 2.008680772788462, 3.3879531623478227, 1.663625586678576, 2.3949866432177114, 2.4593933497764597, 1.4139920591441237, 1.9227839936915445, 1.6168853466082886, 2.7006448866367565, 2.1289310745947327, 1.8126899773492855, 1.3722570330367163, 2.362495403099553, 2.469458921190661, 2.0756610236199378, 2.2136885875330248, 1.4865407953940468, 2.4129094293683804, 3.507706757868135, 3.014598981355669, 2.904520888345697, 3.00484213563406, 2.5925885898919145, 1.8541457837809983, 1.7159654648030584, 1.7643617466760166, 3.215679588381463], 'mahalanobis_dist_feat': [5.297820034999684, 5.010979246751353, 5.936222704742021, 6.451951586925733, 5.869318526257837], 'feat_anom_flags': 0, 'X_feat_abs_recon_err': [[0.66491856, 0.14611996, 0.93582327, 0.55496827, 0.09135211], [1.9145195, 1.91715205, 1.42382616, 1.63017531, 2.01834776], [1.75234653, 0.37882894, 2.07416534, 0.17487062, 0.97056041], [0.78400576, 0.21415584, 0.66961254, 0.14967874, 0.1594919], [0.75609776, 2.12791802, 0.45530108, 2.12154598, 0.62361487], [0.84197907, 0.0619942, 0.33779627, 0.98646297, 0.47084415], [2.33069302, 0.11572278, 1.29564858, 0.89614069, 1.44724272], [0.67758695, 1.93012199, 1.57718875, 0.16462197, 1.15545605], [1.60418555, 0.6541758, 1.62194094, 1.48088977, 0.64437793], [0.16573821, 0.68204207, 0.50371325, 0.2009814, 0.18398029], [1.65752209, 1.56716207, 0.68795334, 0.7492661, 1.1087019], [1.38322258, 0.75419849, 0.21823157, 1.41074009, 2.06215052], [0.65379731, 0.37778253, 1.67758936, 1.49459742, 0.45822295], [0.98907577, 1.57716806, 1.87901361, 0.78390433, 0.61682919], [0.85974301, 1.37025903, 0.89202323, 0.96362317, 0.29801659], [2.28947191, 1.14077495, 1.15923235, 2.35191643, 0.82097915], [1.30827902, 1.15195495, 0.39328089, 0.01970021, 1.61374037], [1.28121539, 1.68996712, 1.03425895, 0.30345158, 0.41494366], [0.84517686, 0.81952461, 1.62499189, 1.84212884, 1.0210058], [1.16128253, 0.85177925, 1.47040884, 0.63518639, 0.21951907], [2.54710653, 1.21750258, 0.40736898, 1.26010881, 1.65998406], [0.07715313, 0.15392611, 1.1339056, 0.84082203, 1.83563618], [0.99222116, 0.18813038, 0.29514493, 2.33136081, 0.25813724], [0.14657169, 2.1498899, 1.74666228, 0.67124369, 0.13240912], [2.05595855, 0.22421678, 2.22234859, 0.70904769, 0.38837674], [1.51383899, 0.30835851, 0.66564559, 1.48210016, 1.99312546], [0.53623582, 1.58292183, 0.7699364, 0.858758, 1.22683365], [0.75514892, 0.08034281, 0.64337751, 1.31116881, 0.4224495], [0.48173323, 0.51606627, 0.32518635, 0.49555797, 0.18025518], [2.3100255, 2.0111497, 1.48844008, 1.40730677, 0.08359485]]}, {'time_anom_flags': 0, 'X_time_abs_recon_err': [[0.17719106, 0.71030153, 0.09367139, 0.43296269, 0.587145], [2.36471116, 1.8669475, 1.33746674, 2.23009529, 1.35353767], [1.33668375, 0.09171495, 1.9004417, 0.48612455, 0.9576224], [0.4400062, 0.17981998, 0.21943487, 0.36227708, 0.12748192], [1.25963378, 2.22558183, 1.31156289, 1.45665627, 0.56293386], [1.73031706, 0.14653793, 0.09949706, 0.75931715, 0.94937899], [2.58521375, 0.40682499, 1.15835086, 1.18570904, 1.53220376], [0.11354567, 1.55818913, 1.53605551, 0.44684432, 1.18329597], [1.11310486, 0.34023437, 1.30479204, 1.794074, 0.02936159], [0.32198926, 0.21518259, 0.15526542, 0.12783238, 0.10863562], [1.51152682, 1.86580895, 0.41549426, 0.99541007, 0.63922954], [2.13049867, 0.86045721, 0.04660619, 2.04215917, 1.49684617], [0.35512449, 0.6714036, 1.80027446, 1.53342289, 0.98793307], [1.27345835, 1.13412677, 2.14560549, 0.48745935, 0.64285446], [0.54471967, 0.8525273, 1.0622532, 0.91976961, 0.54617024], [2.6967149, 0.48981632, 0.38149954, 2.02896366, 1.54162035], [0.86732941, 1.17631327, 0.43315075, 0.07280475, 1.61626536], [1.24531881, 1.59408396, 0.65333784, 0.82926737, 0.67105137], [0.42520021, 0.78513187, 1.4824436, 1.65608629, 0.38921715], [1.44453372, 1.1368699, 0.97490262, 0.57029549, 0.48454694], [1.94324334, 1.7272055, 0.36708224, 0.96460788, 0.97877305], [0.40487656, 0.03057556, 1.01950586, 0.66030174, 1.24861088], [1.015864, 0.53859453, 0.18231947, 1.88675877, 0.1069746], [0.25622177, 1.69313548, 1.00474388, 0.30225988, 0.6347279], [1.77878128, 0.226495, 2.17614239, 0.12357446, 0.04215181], [1.57045202, 0.10393593, 0.85310003, 2.07062348, 1.26183669], [0.79358892, 1.44571603, 0.94154304, 0.66685794, 1.56819848], [1.3590808, 0.07160673, 0.97572663, 0.56192636, 0.32655155], [0.73755601, 0.73000503, 0.2814986, 0.92809804, 0.10546471], [2.62965859, 1.86491928, 2.11980224, 1.80654295, 0.3429311]], 'mahalanobis_dist_time': [1.969703933003586, 2.7139167862427565, 2.4780133558533164, 2.1318697986837214, 2.445298917711697, 1.9915821852214755, 2.25289348325917, 2.4510656912889495, 2.2137147495000713, 2.3528089454580647, 2.236930877596263, 2.581634299376571, 2.6240323386553284, 2.1605202565540718, 1.0219608815549486, 2.6402226248734575, 2.3990589732326213, 1.5042599042604685, 2.185328510869802, 1.3137578429679528, 2.2423986400325813, 2.3645800912630213, 2.5317863624429995, 1.9936853457779327, 3.4795056571374547, 2.302559921092164, 1.9532743918703241, 1.7972829577891245, 1.762125214312716, 3.3514388032699935], 'mahalanobis_dist_feat': [5.678519690389, 4.850014878932315, 6.228445990434715, 5.517694118172973, 5.004858833925327], 'feat_anom_flags': 0, 'X_feat_abs_recon_err': [[0.17719106, 0.71030153, 0.09367139, 0.43296269, 0.587145], [2.36471116, 1.8669475, 1.33746674, 2.23009529, 1.35353767], [1.33668375, 0.09171495, 1.9004417, 0.48612455, 0.9576224], [0.4400062, 0.17981998, 0.21943487, 0.36227708, 0.12748192], [1.25963378, 2.22558183, 1.31156289, 1.45665627, 0.56293386], [1.73031706, 0.14653793, 0.09949706, 0.75931715, 0.94937899], [2.58521375, 0.40682499, 1.15835086, 1.18570904, 1.53220376], [0.11354567, 1.55818913, 1.53605551, 0.44684432, 1.18329597], [1.11310486, 0.34023437, 1.30479204, 1.794074, 0.02936159], [0.32198926, 0.21518259, 0.15526542, 0.12783238, 0.10863562], [1.51152682, 1.86580895, 0.41549426, 0.99541007, 0.63922954], [2.13049867, 0.86045721, 0.04660619, 2.04215917, 1.49684617], [0.35512449, 0.6714036, 1.80027446, 1.53342289, 0.98793307], [1.27345835, 1.13412677, 2.14560549, 0.48745935, 0.64285446], [0.54471967, 0.8525273, 1.0622532, 0.91976961, 0.54617024], [2.6967149, 0.48981632, 0.38149954, 2.02896366, 1.54162035], [0.86732941, 1.17631327, 0.43315075, 0.07280475, 1.61626536], [1.24531881, 1.59408396, 0.65333784, 0.82926737, 0.67105137], [0.42520021, 0.78513187, 1.4824436, 1.65608629, 0.38921715], [1.44453372, 1.1368699, 0.97490262, 0.57029549, 0.48454694], [1.94324334, 1.7272055, 0.36708224, 0.96460788, 0.97877305], [0.40487656, 0.03057556, 1.01950586, 0.66030174, 1.24861088], [1.015864, 0.53859453, 0.18231947, 1.88675877, 0.1069746], [0.25622177, 1.69313548, 1.00474388, 0.30225988, 0.6347279], [1.77878128, 0.226495, 2.17614239, 0.12357446, 0.04215181], [1.57045202, 0.10393593, 0.85310003, 2.07062348, 1.26183669], [0.79358892, 1.44571603, 0.94154304, 0.66685794, 1.56819848], [1.3590808, 0.07160673, 0.97572663, 0.56192636, 0.32655155], [0.73755601, 0.73000503, 0.2814986, 0.92809804, 0.10546471], [2.62965859, 1.86491928, 2.11980224, 1.80654295, 0.3429311]]}, {'time_anom_flags': 0, 'X_time_abs_recon_err': [[0.56407532, 0.99841597, 0.79596068, 0.56405834, 0.94153508], [2.21735549, 1.8766039, 1.78534899, 2.3395669, 1.9210392], [1.48425456, 0.67996731, 1.18440192, 0.01928487, 1.23240201], [0.4582741, 0.36469926, 0.6851619, 0.88295555, 0.19354849], [0.74001439, 2.02594307, 0.51180857, 1.38164722, 0.02721869], [1.17780382, 0.40838761, 0.64516618, 0.93342287, 0.32052958], [2.51229789, 0.70422727, 0.859677, 0.98667119, 1.2136126], [0.81291222, 1.60641465, 1.81742657, 0.69532375, 0.35832705], [0.89756718, 0.30621662, 1.00894047, 2.16844925, 0.82980208], [0.04710926, 0.59939678, 0.02323468, 0.19033075, 0.09731961], [2.26889544, 1.82428969, 1.32522709, 0.12080565, 1.41645797], [2.08856754, 0.74964436, 0.59765354, 1.47695624, 1.97141205], [0.34440918, 0.19356367, 1.22555665, 1.2454856, 0.18904187], [1.26350166, 1.11676055, 2.10937369, 0.64102547, 0.98276332], [0.82788279, 1.45679273, 0.93312951, 0.60170497, 0.59979095], [2.41310829, 0.30363095, 0.93750619, 2.33863214, 1.61790449], [0.8713713, 0.88551093, 0.21586528, 0.07862161, 1.22859036], [0.77068466, 1.61644233, 1.09578856, 0.53523123, 0.19796442], [1.29778275, 0.86644429, 1.76662781, 1.59156042, 1.08586748], [1.51732726, 0.64232134, 1.33824507, 1.40543765, 0.10717925], [2.08484064, 1.86929387, 0.38463941, 1.21651573, 1.10829904], [0.11026772, 0.56763947, 0.40313816, 0.86007653, 1.60354724], [0.93499246, 0.28351136, 0.51195442, 2.3446296, 0.37362338], [0.31454002, 1.2989801, 1.69684109, 0.14265097, 0.61213502], [2.03869059, 0.07792312, 2.37203636, 0.55523953, 0.10515549], [2.17338, 0.20716147, 1.17955189, 1.66811979, 1.70933596], [0.02256827, 1.3108805, 0.94215326, 0.8424894, 0.97441548], [0.76568536, 0.35569196, 0.77441587, 0.59742515, 0.11367894], [0.223173, 0.83411026, 0.14614711, 1.12757917, 0.55315244], [2.41177806, 2.03297332, 1.85351877, 2.20907267, 0.41229579]], 'mahalanobis_dist_time': [1.168671300841945, 3.300851203310334, 2.1216952976737056, 1.5745429269148068, 2.9471696739184243, 1.2297665409975358, 1.9720674438439074, 1.9615080317619633, 2.4868563767679244, 2.4286249623997374, 3.0459720078361037, 2.307130727523477, 2.09574314194419, 2.031222278764173, 1.2523464877719217, 2.7244071468874758, 2.065328520969265, 1.8467828341862584, 1.737138965418294, 1.7038131878243814, 2.4449437687154463, 2.7857022205012325, 2.8579687704211465, 2.1261320691308714, 3.5623875467776567, 2.352373418702534, 2.0435646786651467, 1.5582733724647466, 2.044651987672934, 3.3369133609096586], 'mahalanobis_dist_feat': [5.6631304385480306, 5.560920531205095, 5.5834680727384045, 5.428227694032486, 6.268339370853838], 'feat_anom_flags': 0, 'X_feat_abs_recon_err': [[0.56407532, 0.99841597, 0.79596068, 0.56405834, 0.94153508], [2.21735549, 1.8766039, 1.78534899, 2.3395669, 1.9210392], [1.48425456, 0.67996731, 1.18440192, 0.01928487, 1.23240201], [0.4582741, 0.36469926, 0.6851619, 0.88295555, 0.19354849], [0.74001439, 2.02594307, 0.51180857, 1.38164722, 0.02721869], [1.17780382, 0.40838761, 0.64516618, 0.93342287, 0.32052958], [2.51229789, 0.70422727, 0.859677, 0.98667119, 1.2136126], [0.81291222, 1.60641465, 1.81742657, 0.69532375, 0.35832705], [0.89756718, 0.30621662, 1.00894047, 2.16844925, 0.82980208], [0.04710926, 0.59939678, 0.02323468, 0.19033075, 0.09731961], [2.26889544, 1.82428969, 1.32522709, 0.12080565, 1.41645797], [2.08856754, 0.74964436, 0.59765354, 1.47695624, 1.97141205], [0.34440918, 0.19356367, 1.22555665, 1.2454856, 0.18904187], [1.26350166, 1.11676055, 2.10937369, 0.64102547, 0.98276332], [0.82788279, 1.45679273, 0.93312951, 0.60170497, 0.59979095], [2.41310829, 0.30363095, 0.93750619, 2.33863214, 1.61790449], [0.8713713, 0.88551093, 0.21586528, 0.07862161, 1.22859036], [0.77068466, 1.61644233, 1.09578856, 0.53523123, 0.19796442], [1.29778275, 0.86644429, 1.76662781, 1.59156042, 1.08586748], [1.51732726, 0.64232134, 1.33824507, 1.40543765, 0.10717925], [2.08484064, 1.86929387, 0.38463941, 1.21651573, 1.10829904], [0.11026772, 0.56763947, 0.40313816, 0.86007653, 1.60354724], [0.93499246, 0.28351136, 0.51195442, 2.3446296, 0.37362338], [0.31454002, 1.2989801, 1.69684109, 0.14265097, 0.61213502], [2.03869059, 0.07792312, 2.37203636, 0.55523953, 0.10515549], [2.17338, 0.20716147, 1.17955189, 1.66811979, 1.70933596], [0.02256827, 1.3108805, 0.94215326, 0.8424894, 0.97441548], [0.76568536, 0.35569196, 0.77441587, 0.59742515, 0.11367894], [0.223173, 0.83411026, 0.14614711, 1.12757917, 0.55315244], [2.41177806, 2.03297332, 1.85351877, 2.20907267, 0.41229579]]}, {'time_anom_flags': 0, 'X_time_abs_recon_err': [[0.42126312, 0.83495192, 0.76809582, 0.72446044, 0.74212608], [1.91613205, 1.72642886, 1.89351557, 1.7897659, 1.60065456], [1.15577886, 0.69048477, 1.68027055, 0.5995043, 1.44689852], [0.51229836, 0.15195203, 0.01449823, 0.29050033, 0.20538241], [0.56412723, 1.81144859, 0.76833814, 1.59976153, 0.23862303], [1.78292241, 0.42598887, 0.06323329, 1.55619488, 0.98306409], [1.9655619, 0.62738702, 0.81700795, 1.07504783, 2.08869005], [0.61294146, 1.91878794, 2.06601228, 0.76942606, 0.71335664], [0.84437795, 0.08209937, 1.52797847, 1.73877153, 0.36451671], [0.21312217, 0.88814676, 0.15271752, 0.04319877, 0.05793743], [1.74664349, 1.3766724, 1.09156426, 0.65155011, 0.59341791], [1.88352544, 0.72756088, 0.04857706, 1.41514951, 1.49433147], [0.5116456, 1.15848756, 1.9033371, 1.23854522, 0.56347407], [1.02126818, 1.37880414, 1.51497711, 0.7096767, 0.22791291], [0.73948334, 0.86606965, 0.51402321, 0.72825959, 0.30649144], [2.52338096, 0.77535041, 0.62353928, 1.60513711, 1.4044681], [0.74412904, 0.67921471, 0.75683717, 0.2605117, 1.19468166], [1.35536017, 0.83980365, 0.47646536, 0.88187029, 0.0759247], [0.59437695, 0.41557283, 2.1032838, 1.82338286, 0.24974403], [1.4454396, 1.15811811, 1.5209599, 1.43733909, 0.36999676], [2.2661811, 1.14488711, 0.29563802, 0.97684025, 1.50435203], [0.77992007, 0.68099151, 1.08365054, 0.22276613, 1.43292034], [1.22885127, 0.56917152, 0.19123748, 2.16613619, 0.23921067], [0.45589788, 1.51629663, 0.84269981, 0.43187756, 1.09305809], [1.96042996, 0.74655844, 2.34527762, 0.96124318, 0.08724514], [1.72453031, 0.35079936, 0.88959519, 1.82670802, 1.80554213], [0.42378919, 2.04346636, 0.15693771, 1.21815652, 1.56683133], [1.14939038, 0.01299723, 1.08716567, 1.15328814, 0.04704193], [0.95947915, 0.70726465, 0.32190664, 1.09508608, 0.66817036], [2.21788557, 1.65701281, 1.89654211, 1.35338326, 0.43310227]], 'mahalanobis_dist_time': [1.1692113202623444, 2.532659834424112, 2.055669185890917, 2.292157227314618, 2.575173423199391, 1.9120676554249705, 2.4522984955555334, 2.4614318789192815, 2.374875277487176, 2.404529530485548, 1.6243650001414343, 2.0703509491847307, 2.04818535865479, 1.6284476497831013, 1.2796088864153614, 2.0067886440783695, 1.6159514707872749, 1.8173832086088326, 2.9753949664893256, 1.4663661002403223, 2.192564098498755, 2.018868776019698, 2.709011250895211, 1.7850068740490608, 2.93513623248506, 2.411833169291567, 3.2426877506990612, 1.9378672448443952, 1.1689446883966796, 2.522265899724443], 'mahalanobis_dist_feat': [5.074888947048468, 5.290125126987165, 4.864521229260557, 5.533558640116656, 5.29050811165704], 'feat_anom_flags': 0, 'X_feat_abs_recon_err': [[0.42126312, 0.83495192, 0.76809582, 0.72446044, 0.74212608], [1.91613205, 1.72642886, 1.89351557, 1.7897659, 1.60065456], [1.15577886, 0.69048477, 1.68027055, 0.5995043, 1.44689852], [0.51229836, 0.15195203, 0.01449823, 0.29050033, 0.20538241], [0.56412723, 1.81144859, 0.76833814, 1.59976153, 0.23862303], [1.78292241, 0.42598887, 0.06323329, 1.55619488, 0.98306409], [1.9655619, 0.62738702, 0.81700795, 1.07504783, 2.08869005], [0.61294146, 1.91878794, 2.06601228, 0.76942606, 0.71335664], [0.84437795, 0.08209937, 1.52797847, 1.73877153, 0.36451671], [0.21312217, 0.88814676, 0.15271752, 0.04319877, 0.05793743], [1.74664349, 1.3766724, 1.09156426, 0.65155011, 0.59341791], [1.88352544, 0.72756088, 0.04857706, 1.41514951, 1.49433147], [0.5116456, 1.15848756, 1.9033371, 1.23854522, 0.56347407], [1.02126818, 1.37880414, 1.51497711, 0.7096767, 0.22791291], [0.73948334, 0.86606965, 0.51402321, 0.72825959, 0.30649144], [2.52338096, 0.77535041, 0.62353928, 1.60513711, 1.4044681], [0.74412904, 0.67921471, 0.75683717, 0.2605117, 1.19468166], [1.35536017, 0.83980365, 0.47646536, 0.88187029, 0.0759247], [0.59437695, 0.41557283, 2.1032838, 1.82338286, 0.24974403], [1.4454396, 1.15811811, 1.5209599, 1.43733909, 0.36999676], [2.2661811, 1.14488711, 0.29563802, 0.97684025, 1.50435203], [0.77992007, 0.68099151, 1.08365054, 0.22276613, 1.43292034], [1.22885127, 0.56917152, 0.19123748, 2.16613619, 0.23921067], [0.45589788, 1.51629663, 0.84269981, 0.43187756, 1.09305809], [1.96042996, 0.74655844, 2.34527762, 0.96124318, 0.08724514], [1.72453031, 0.35079936, 0.88959519, 1.82670802, 1.80554213], [0.42378919, 2.04346636, 0.15693771, 1.21815652, 1.56683133], [1.14939038, 0.01299723, 1.08716567, 1.15328814, 0.04704193], [0.95947915, 0.70726465, 0.32190664, 1.09508608, 0.66817036], [2.21788557, 1.65701281, 1.89654211, 1.35338326, 0.43310227]]}, {'time_anom_flags': 0, 'X_time_abs_recon_err': [[0.72579761, 0.28667536, 0.90848602, 0.95364124, 0.40835687], [2.47522531, 1.38474681, 2.21676242, 1.73729486, 1.56538177], [1.327882, 0.65711262, 1.85921972, 0.46975947, 1.37825225], [0.75268684, 0.24981812, 0.24197257, 0.60177623, 0.08545293], [1.1781596, 1.58942549, 0.9100976, 1.60340907, 0.70862794], [1.8190688, 0.16474207, 0.00275013, 1.05856077, 0.88269748], [2.75720961, 0.61395175, 1.00053774, 1.1101516, 1.16281691], [0.36062891, 1.49868725, 1.40055928, 0.45645482, 1.07729888], [0.83751352, 0.45787859, 0.74702449, 2.09716668, 0.90948711], [0.71114497, 0.41612629, 0.50267597, 0.21975787, 0.60861432], [1.94022901, 1.41471588, 0.84651481, 0.38319073, 1.48940031], [1.66131344, 0.41348958, 0.2292874, 2.05270447, 2.04036648], [0.31676063, 0.80739775, 1.98407809, 1.16664725, 0.14156203], [0.97258012, 1.49833563, 2.26690591, 1.21537023, 0.44991055], [0.64972194, 1.48766394, 0.9022541, 0.25826675, 0.2542472], [2.63356231, 0.45534772, 1.13558066, 2.25034501, 1.37231589], [1.00750943, 0.70898202, 0.21949626, 0.60087805, 1.79903228], [1.47431186, 0.98323878, 1.04933645, 0.49597547, 0.09845316], [0.72892581, 0.74497386, 1.6770574, 1.33748965, 0.64955625], [1.50185207, 0.64891817, 1.55207594, 1.42932051, 0.32648146], [2.21181981, 1.63324152, 0.14044969, 0.60206741, 1.18872066], [0.2661509, 0.03950937, 0.86823706, 1.00846474, 1.24506551], [1.25935447, 0.05579431, 0.28564309, 1.58231814, 0.0067401], [0.30660896, 1.54732627, 1.74831191, 0.5112769, 0.50290517], [1.88079632, 0.66710993, 1.70918509, 0.98310747, 0.33286966], [1.61985348, 0.35114065, 1.12008136, 1.87652975, 1.43410147], [0.05001294, 1.53111315, 0.04343257, 0.88289004, 1.71245797], [0.84116216, 0.01973695, 0.9626134, 1.03286975, 0.58743568], [0.34933468, 0.37731297, 0.09400303, 0.93315793, 0.95471011], [2.13577794, 1.75623545, 2.07010619, 2.15740461, 0.93948165]], 'mahalanobis_dist_time': [1.269168585327167, 2.780577389094314, 2.267165249797397, 1.9694091730964058, 1.6678328575487766, 2.0431459395956453, 2.2550455359272483, 1.967740267407598, 2.374640486113908, 1.5814800857347728, 2.184004240504889, 3.1134710124010305, 2.4239855216531896, 2.3473042007075153, 1.872087405752823, 2.504366037712233, 2.3715534147571296, 1.9022367865505594, 1.6834969841274685, 1.5446221586383104, 2.7989521712099545, 2.5098388257515634, 2.4168418596606616, 2.0988888778452868, 1.9364836688478266, 2.0407499540124787, 3.2978374550040126, 1.5340030190856764, 2.0516501009634784, 2.773634504096308], 'mahalanobis_dist_feat': [5.6114373240574045, 4.6097128479453175, 6.1160274282306, 4.8823667741331445, 5.747308483140842], 'feat_anom_flags': 0, 'X_feat_abs_recon_err': [[0.72579761, 0.28667536, 0.90848602, 0.95364124, 0.40835687], [2.47522531, 1.38474681, 2.21676242, 1.73729486, 1.56538177], [1.327882, 0.65711262, 1.85921972, 0.46975947, 1.37825225], [0.75268684, 0.24981812, 0.24197257, 0.60177623, 0.08545293], [1.1781596, 1.58942549, 0.9100976, 1.60340907, 0.70862794], [1.8190688, 0.16474207, 0.00275013, 1.05856077, 0.88269748], [2.75720961, 0.61395175, 1.00053774, 1.1101516, 1.16281691], [0.36062891, 1.49868725, 1.40055928, 0.45645482, 1.07729888], [0.83751352, 0.45787859, 0.74702449, 2.09716668, 0.90948711], [0.71114497, 0.41612629, 0.50267597, 0.21975787, 0.60861432], [1.94022901, 1.41471588, 0.84651481, 0.38319073, 1.48940031], [1.66131344, 0.41348958, 0.2292874, 2.05270447, 2.04036648], [0.31676063, 0.80739775, 1.98407809, 1.16664725, 0.14156203], [0.97258012, 1.49833563, 2.26690591, 1.21537023, 0.44991055], [0.64972194, 1.48766394, 0.9022541, 0.25826675, 0.2542472], [2.63356231, 0.45534772, 1.13558066, 2.25034501, 1.37231589], [1.00750943, 0.70898202, 0.21949626, 0.60087805, 1.79903228], [1.47431186, 0.98323878, 1.04933645, 0.49597547, 0.09845316], [0.72892581, 0.74497386, 1.6770574, 1.33748965, 0.64955625], [1.50185207, 0.64891817, 1.55207594, 1.42932051, 0.32648146], [2.21181981, 1.63324152, 0.14044969, 0.60206741, 1.18872066], [0.2661509, 0.03950937, 0.86823706, 1.00846474, 1.24506551], [1.25935447, 0.05579431, 0.28564309, 1.58231814, 0.0067401], [0.30660896, 1.54732627, 1.74831191, 0.5112769, 0.50290517], [1.88079632, 0.66710993, 1.70918509, 0.98310747, 0.33286966], [1.61985348, 0.35114065, 1.12008136, 1.87652975, 1.43410147], [0.05001294, 1.53111315, 0.04343257, 0.88289004, 1.71245797], [0.84116216, 0.01973695, 0.9626134, 1.03286975, 0.58743568], [0.34933468, 0.37731297, 0.09400303, 0.93315793, 0.95471011], [2.13577794, 1.75623545, 2.07010619, 2.15740461, 0.93948165]]}, {'time_anom_flags': 0, 'X_time_abs_recon_err': [[0.32586937, 0.88830138, 0.81516693, 0.4737608, 0.69678881], [2.08483849, 1.40762486, 1.60512581, 1.73244784, 1.17885307], [1.75075176, 0.89037037, 1.6907453, 0.23163436, 1.44638281], [1.3336731, 0.24249388, 0.22479972, 0.9631771, 0.70780262], [1.17097551, 1.91719852, 0.95582798, 1.49774874, 0.62696339], [0.97406564, 0.01578304, 0.27743592, 1.58665541, 0.36653819], [1.7887734, 0.08442717, 0.69123689, 0.44556445, 1.92369006], [0.08011179, 1.55637788, 2.17858567, 0.34738166, 0.70271121], [1.08188674, 0.12647233, 1.0722736, 1.59298496, 0.29447236], [0.05479934, 0.38200814, 0.30677606, 0.15497374, 0.28310942], [1.99891319, 1.6873275, 0.75284401, 0.79636535, 0.85425089], [1.61133871, 0.98669163, 0.34243141, 1.60591865, 1.94911456], [0.71490799, 1.14192299, 1.70903897, 1.12169701, 0.38299738], [0.99111498, 1.31623504, 1.86075445, 0.64230298, 0.96769782], [0.87641865, 0.53457028, 1.07625646, 0.38073256, 0.15079265], [2.61951522, 0.55379481, 0.75971642, 2.18393302, 1.50539141], [0.81368508, 1.41801087, 1.11335946, 0.50269062, 1.1608814], [0.72022372, 1.68637843, 0.37604343, 0.95453435, 0.6075995], [1.31567318, 0.93578977, 1.86715537, 1.19402396, 0.87810787], [0.98415183, 0.94078648, 1.09562839, 1.26136721, 0.24271358], [1.75673683, 1.1668302, 0.33711711, 1.40427224, 1.14046976], [0.24764211, 0.32543639, 1.36609983, 0.98199957, 1.12508366], [1.37138841, 0.656733, 0.22295621, 1.47015842, 0.35562226], [0.00938338, 1.68649731, 0.90491489, 0.17585038, 0.1424098], [2.49622452, 0.12277812, 1.75689099, 0.28801113, 0.17615414], [1.93360966, 0.29430548, 0.92176145, 1.24829305, 1.69186414], [0.8683438, 1.32494733, 0.77558837, 1.12020913, 0.92168567], [1.02346433, 0.39247261, 1.15932892, 1.40855673, 0.31295013], [0.22796142, 0.66217234, 0.60134914, 0.51226752, 0.44942316], [2.17651303, 1.33253825, 1.8090888, 2.27812881, 0.15731019]], 'mahalanobis_dist_time': [1.3320689617837533, 1.828015287684247, 2.4107099326107475, 1.4968595949747294, 2.0385899046940654, 2.1478011107852084, 2.8389262599959397, 2.8230240764504164, 1.8403141124270435, 2.1633387435555433, 2.0665670964128258, 2.4600766455402003, 1.6165881127035138, 1.7332748670295857, 1.5884481648299256, 2.487964908670758, 1.464172299253733, 1.9628366130142527, 1.4894591538088988, 1.2110622426182633, 1.5712205809824544, 2.3538188486000955, 1.8042424544838898, 2.430955354181007, 3.632580514444086, 2.010763054160675, 1.1098382579756378, 1.439605014749474, 1.5222207547862274, 3.000540230014099], 'mahalanobis_dist_feat': [6.404123459285326, 5.693297799453186, 5.116249525029337, 5.808667570708144, 5.542388915730648], 'feat_anom_flags': 0, 'X_feat_abs_recon_err': [[0.32586937, 0.88830138, 0.81516693, 0.4737608, 0.69678881], [2.08483849, 1.40762486, 1.60512581, 1.73244784, 1.17885307], [1.75075176, 0.89037037, 1.6907453, 0.23163436, 1.44638281], [1.3336731, 0.24249388, 0.22479972, 0.9631771, 0.70780262], [1.17097551, 1.91719852, 0.95582798, 1.49774874, 0.62696339], [0.97406564, 0.01578304, 0.27743592, 1.58665541, 0.36653819], [1.7887734, 0.08442717, 0.69123689, 0.44556445, 1.92369006], [0.08011179, 1.55637788, 2.17858567, 0.34738166, 0.70271121], [1.08188674, 0.12647233, 1.0722736, 1.59298496, 0.29447236], [0.05479934, 0.38200814, 0.30677606, 0.15497374, 0.28310942], [1.99891319, 1.6873275, 0.75284401, 0.79636535, 0.85425089], [1.61133871, 0.98669163, 0.34243141, 1.60591865, 1.94911456], [0.71490799, 1.14192299, 1.70903897, 1.12169701, 0.38299738], [0.99111498, 1.31623504, 1.86075445, 0.64230298, 0.96769782], [0.87641865, 0.53457028, 1.07625646, 0.38073256, 0.15079265], [2.61951522, 0.55379481, 0.75971642, 2.18393302, 1.50539141], [0.81368508, 1.41801087, 1.11335946, 0.50269062, 1.1608814], [0.72022372, 1.68637843, 0.37604343, 0.95453435, 0.6075995], [1.31567318, 0.93578977, 1.86715537, 1.19402396, 0.87810787], [0.98415183, 0.94078648, 1.09562839, 1.26136721, 0.24271358], [1.75673683, 1.1668302, 0.33711711, 1.40427224, 1.14046976], [0.24764211, 0.32543639, 1.36609983, 0.98199957, 1.12508366], [1.37138841, 0.656733, 0.22295621, 1.47015842, 0.35562226], [0.00938338, 1.68649731, 0.90491489, 0.17585038, 0.1424098], [2.49622452, 0.12277812, 1.75689099, 0.28801113, 0.17615414], [1.93360966, 0.29430548, 0.92176145, 1.24829305, 1.69186414], [0.8683438, 1.32494733, 0.77558837, 1.12020913, 0.92168567], [1.02346433, 0.39247261, 1.15932892, 1.40855673, 0.31295013], [0.22796142, 0.66217234, 0.60134914, 0.51226752, 0.44942316], [2.17651303, 1.33253825, 1.8090888, 2.27812881, 0.15731019]]}, {'time_anom_flags': 1, 'X_time_abs_recon_err': [[0.51050055, 0.32816545, 0.17517288, 0.9398891, 0.88440641], [2.69389578, 2.03168341, 2.0553524, 2.14676813, 1.84351933], [1.25894302, 0.50770387, 1.44003648, 0.31705662, 1.2522011], [0.77298241, 0.09223325, 0.517610212, 0.75858031, 0.04731375], [0.89719575, 2.18201483, 1.12973153, 1.87535511, 0.24563516], [1.24131578, 0.57779839, 0.441912631, 1.10697737, 0.93245825], [2.43433832, 0.68059114, 0.945471325, 1.38074992, 1.34810386], [0.69897498, 1.82432731, 1.50171682, 0.90715747, 1.16530004], [1.42118052, 0.11727799, 1.12132048, 1.98787289, 0.82167278], [0.23639712, 0.4752929, 0.379924419, 0.53331953, 0.30757919], [2.10150457, 1.13392897, 0.897876304, 0.162247, 0.98430533], [1.37300574, 0.72933341, 0.320491103, 1.85005092, 1.56121188], [0.73292098, 0.58817182, 2.012083, 1.25558865, 0.45867778], [1.04882182, 1.24613585, 1.56316061, 0.44769547, 0.13653135], [0.64958206, 1.31511175, 0.418401802, 1.05049323, 0.38089532], [2.15595112, 0.62279865, 0.236201103, 1.38079449, 0.94985839], [1.27492057, 0.74081665, 0.405905271, 0.25674551, 1.74326557], [0.58570506, 1.27299271, 0.967094333, 0.09597546, 0.52395315], [1.15496434, 1.08821874, 1.47189522, 1.25296602, 0.72746284], [0.9569437, 0.70929033, 1.67081141, 0.91029229, 0.21332402], [1.84614769, 1.07553303, 0.0283967475, 1.3604584, 1.81347259], [7.2838498, 0.55135701, 14.9912774, 6.87075078, 22.50918043], [28.68679059, 0.59198618, 2.50368069, 30.16100196, 2.03767266], [3.68852023, 28.72731254, 13.9946933, 13.73234042, 9.76303956], [41.20186049, 8.63084852, 29.8725861, 9.54641123, 4.53970771], [25.79408803, 4.51672999, 26.0266709, 14.95928707, 18.65899107], [4.07374501, 28.62139419, 6.78922731, 13.17329063, 23.85139048], [18.21477023, 6.26020798, 9.22078879, 11.59449353, 4.29725835], [7.88766113, 3.07549138, 11.2866692, 8.69392126, 10.15250383], [31.413113, 21.37796897, 33.4847886, 19.89690794, 4.12923311]], 'mahalanobis_dist_time': [1.8052886875737353, 3.432685844463462, 1.9282795740992476, 1.892252497700454, 3.026174258992786, 0.9686057064542765, 1.7549014656929882, 2.014960534691302, 2.0671762987263715, 1.7642132935639516, 2.3748581622197538, 2.256506381198893, 2.157022276151231, 1.8777477291004019, 1.6954060221712242, 1.865167917044855, 2.3477865704231284, 1.666015955601129, 0.9651430467661681, 1.587535066914414, 2.442647867543424, 48.808862647168034, 52.509697981046834, 52.767147296856464, 70.571321050884, 57.41535171703654, 62.69149151721968, 28.009492559288233, 26.140476125976054, 70.34514774768094], 'mahalanobis_dist_feat': [191.22871509436692, 151.84173291636182, 178.14311400110392, 150.7790900683159, 136.76556926382972], 'feat_anom_flags': 1, 'X_feat_abs_recon_err': [[0.51050055, 0.32816545, 0.17517288, 0.9398891, 0.88440641], [2.69389578, 2.03168341, 2.0553524, 2.14676813, 1.84351933], [1.25894302, 0.50770387, 1.44003648, 0.31705662, 1.2522011], [0.77298241, 0.09223325, 0.517610212, 0.75858031, 0.04731375], [0.89719575, 2.18201483, 1.12973153, 1.87535511, 0.24563516], [1.24131578, 0.57779839, 0.441912631, 1.10697737, 0.93245825], [2.43433832, 0.68059114, 0.945471325, 1.38074992, 1.34810386], [0.69897498, 1.82432731, 1.50171682, 0.90715747, 1.16530004], [1.42118052, 0.11727799, 1.12132048, 1.98787289, 0.82167278], [0.23639712, 0.4752929, 0.379924419, 0.53331953, 0.30757919], [2.10150457, 1.13392897, 0.897876304, 0.162247, 0.98430533], [1.37300574, 0.72933341, 0.320491103, 1.85005092, 1.56121188], [0.73292098, 0.58817182, 2.012083, 1.25558865, 0.45867778], [1.04882182, 1.24613585, 1.56316061, 0.44769547, 0.13653135], [0.64958206, 1.31511175, 0.418401802, 1.05049323, 0.38089532], [2.15595112, 0.62279865, 0.236201103, 1.38079449, 0.94985839], [1.27492057, 0.74081665, 0.405905271, 0.25674551, 1.74326557], [0.58570506, 1.27299271, 0.967094333, 0.09597546, 0.52395315], [1.15496434, 1.08821874, 1.47189522, 1.25296602, 0.72746284], [0.9569437, 0.70929033, 1.67081141, 0.91029229, 0.21332402], [1.84614769, 1.07553303, 0.0283967475, 1.3604584, 1.81347259], [7.2838498, 0.55135701, 14.9912774, 6.87075078, 22.50918043], [28.68679059, 0.59198618, 2.50368069, 30.16100196, 2.03767266], [3.68852023, 28.72731254, 13.9946933, 13.73234042, 9.76303956], [41.20186049, 8.63084852, 29.8725861, 9.54641123, 4.53970771], [25.79408803, 4.51672999, 26.0266709, 14.95928707, 18.65899107], [4.07374501, 28.62139419, 6.78922731, 13.17329063, 23.85139048], [18.21477023, 6.26020798, 9.22078879, 11.59449353, 4.29725835], [7.88766113, 3.07549138, 11.2866692, 8.69392126, 10.15250383], [31.413113, 21.37796897, 33.4847886, 19.89690794, 4.12923311]]}, {'time_anom_flags': 1, 'X_time_abs_recon_err': [[0.29132869, 0.8557475, 0.5217148, 0.47092471, 0.116552148], [1.94811937, 1.93360377, 2.09703312, 1.49090388, 1.47797459], [1.7276976, 0.31294082, 1.31606867, 0.13276539, 1.21258438], [0.60992108, 0.44979634, 0.26721771, 0.14971593, 0.0230026774], [1.26241941, 1.25960367, 0.99434981, 1.70488311, 0.720304694], [1.47374999, 0.2857751, 0.03704256, 1.54542686, 0.300584391], [2.36994795, 0.70045919, 1.42266911, 1.15809336, 2.11149651], [0.1789954, 1.39591933, 1.5446208, 0.08510231, 1.25044571], [1.17736161, 0.13365899, 0.77225229, 1.88856105, 0.21527211], [0.46428297, 0.8439945, 0.2169492, 0.49502568, 0.63643186], [2.37934236, 1.13747472, 0.49256149, 0.94090189, 0.575934353], [1.97664288, 0.96123988, 0.26210229, 1.80752917, 2.01473045], [0.52773977, 0.66921742, 1.05365803, 0.55999976, 0.152349682], [1.68253872, 1.3574706, 1.85281788, 0.80192163, 0.689695707], [1.07443294, 1.36003416, 1.02462949, 0.15138497, 0.269293988], [2.71698415, 0.89376979, 0.78701173, 1.69377715, 0.888487864], [1.6045785, 0.90144892, 1.09867346, 0.17549086, 1.85078337], [0.9920012, 0.8535824, 1.10725097, 0.52699769, 0.705725023], [1.09397133, 0.26671179, 1.63491138, 1.52603672, 0.637721453], [1.20741447, 0.22671035, 1.24112625, 1.37259062, 0.367707435], [1.80885343, 1.30298162, 0.34997672, 1.31313875, 1.81040324], [1.34405876, 4.18913156, 11.91426406, 10.29232846, 11.4022841], [20.67932055, 0.9468949, 1.07551952, 26.04833009, 1.41792767], [1.14022578, 29.00931534, 20.95590433, 0.37512849, 18.0681124], [28.40089904, 7.04472224, 24.12025401, 9.19901589, 11.5542589], [16.12079604, 1.42687889, 21.56245775, 16.41114362, 24.320989], [7.38124482, 14.47096118, 3.69156376, 25.87962079, 14.2527562], [12.12622874, 7.51008681, 20.35730663, 7.07386449, 1.42548515], [15.13166867, 6.87904454, 6.46974537, 8.11152706, 14.4897947], [32.90880771, 13.9561642, 13.42841392, 26.57871917, 7.3568118]], 'mahalanobis_dist_time': [1.7637303208431254, 2.631881333134718, 2.3788046725250354, 2.220220179696815, 1.39667182273977, 2.234306846482336, 2.7329479350979353, 2.5644860540897807, 2.206883653051354, 1.6049238304784366, 2.395813769035374, 2.6974942720151915, 1.4327392207366028, 1.7814041080566418, 1.9583285385956524, 2.227483316043609, 2.547260401581957, 0.8257922859740312, 1.8839427002354519, 1.5211741720561487, 2.2091223343774846, 32.4129516259227, 42.92499634464417, 60.15939772309896, 51.652684009651914, 59.2204854560078, 51.187235806063995, 34.17447339991973, 29.714389871910416, 56.35583701795114], 'mahalanobis_dist_feat': [149.2862973572891, 124.32425658866664, 155.40788450906797, 158.85719667574412, 140.57657451695974], 'feat_anom_flags': 1, 'X_feat_abs_recon_err': [[0.29132869, 0.8557475, 0.5217148, 0.47092471, 0.116552148], [1.94811937, 1.93360377, 2.09703312, 1.49090388, 1.47797459], [1.7276976, 0.31294082, 1.31606867, 0.13276539, 1.21258438], [0.60992108, 0.44979634, 0.26721771, 0.14971593, 0.0230026774], [1.26241941, 1.25960367, 0.99434981, 1.70488311, 0.720304694], [1.47374999, 0.2857751, 0.03704256, 1.54542686, 0.300584391], [2.36994795, 0.70045919, 1.42266911, 1.15809336, 2.11149651], [0.1789954, 1.39591933, 1.5446208, 0.08510231, 1.25044571], [1.17736161, 0.13365899, 0.77225229, 1.88856105, 0.21527211], [0.46428297, 0.8439945, 0.2169492, 0.49502568, 0.63643186], [2.37934236, 1.13747472, 0.49256149, 0.94090189, 0.575934353], [1.97664288, 0.96123988, 0.26210229, 1.80752917, 2.01473045], [0.52773977, 0.66921742, 1.05365803, 0.55999976, 0.152349682], [1.68253872, 1.3574706, 1.85281788, 0.80192163, 0.689695707], [1.07443294, 1.36003416, 1.02462949, 0.15138497, 0.269293988], [2.71698415, 0.89376979, 0.78701173, 1.69377715, 0.888487864], [1.6045785, 0.90144892, 1.09867346, 0.17549086, 1.85078337], [0.9920012, 0.8535824, 1.10725097, 0.52699769, 0.705725023], [1.09397133, 0.26671179, 1.63491138, 1.52603672, 0.637721453], [1.20741447, 0.22671035, 1.24112625, 1.37259062, 0.367707435], [1.80885343, 1.30298162, 0.34997672, 1.31313875, 1.81040324], [1.34405876, 4.18913156, 11.91426406, 10.29232846, 11.4022841], [20.67932055, 0.9468949, 1.07551952, 26.04833009, 1.41792767], [1.14022578, 29.00931534, 20.95590433, 0.37512849, 18.0681124], [28.40089904, 7.04472224, 24.12025401, 9.19901589, 11.5542589], [16.12079604, 1.42687889, 21.56245775, 16.41114362, 24.320989], [7.38124482, 14.47096118, 3.69156376, 25.87962079, 14.2527562], [12.12622874, 7.51008681, 20.35730663, 7.07386449, 1.42548515], [15.13166867, 6.87904454, 6.46974537, 8.11152706, 14.4897947], [32.90880771, 13.9561642, 13.42841392, 26.57871917, 7.3568118]]}, {'time_anom_flags': 1, 'X_time_abs_recon_err': [[0.0266561, 0.227730874, 0.06343853, 0.12282237, 0.69583932], [2.11295685, 1.7473427, 1.9124796, 2.07993394, 1.14584373], [0.84281539, 0.0107832767, 1.7756218, 0.52944738, 0.96670326], [0.49503168, 0.0972417712, 0.03078451, 0.68663188, 0.44210325], [1.18619684, 2.17616114, 0.55164198, 1.17090808, 0.59606549], [1.53450346, 0.488667993, 0.19553961, 0.65621051, 0.33030086], [2.59183152, 0.267610076, 1.39801553, 0.67362715, 1.45365818], [0.05013556, 1.69136828, 1.57590058, 0.11684809, 0.57344436], [1.43063062, 0.0642575329, 1.18183893, 1.79278833, 0.71515938], [0.04718107, 0.257197525, 0.03955416, 0.14167161, 0.08404491], [1.59537505, 1.72384798, 0.47674046, 0.10092116, 0.8561574], [2.30320994, 0.936201398, 0.04204849, 1.88432723, 1.3807949], [0.70494473, 0.307668556, 1.65532651, 1.25762303, 0.62253036], [0.79954149, 1.81908032, 1.42349039, 1.2240933, 0.81216214], [0.61767168, 0.901756832, 0.7118908, 1.03084159, 0.43765282], [2.03670536, 0.680441792, 1.12871284, 1.55835716, 1.09031985], [1.56815847, 1.27233123, 0.57391866, 0.24365917, 1.25787573], [0.55904809, 1.45780828, 1.15819722, 0.69771459, 0.0741466], [0.98331514, 0.481722748, 2.31395329, 1.79552698, 0.97568411], [1.79599943, 0.16083882, 1.73066558, 0.71852079, 0.05445147], [2.36509411, 1.28510952, 0.2845753, 0.46969943, 0.94227557], [8.97326176, 9.30987584, 13.32688457, 11.62093989, 22.29941375], [11.79496445, 10.4554355, 2.62680401, 25.39511668, 6.85443505], [6.21452245, 25.0792477, 18.37623135, 4.3249073, 21.8427763], [23.37675169, 0.304080828, 13.44823607, 10.84026304, 6.74829032], [26.45932154, 4.48267885, 12.58663013, 12.99393421, 23.70348229], [1.82586441, 10.9099535, 14.48300707, 15.0325705, 9.44233507], [17.00978883, 3.69566599, 9.90008467, 12.19589652, 4.29718812], [11.42588866, 5.92624619, 0.09487463, 8.03079308, 8.36262444], [26.41579881, 18.1082616, 17.40007667, 40.59071569, 2.34221339]], 'mahalanobis_dist_time': [2.4328879511040564, 2.5712778302587767, 2.4722894045854393, 2.0526093794130675, 2.5262224188194895, 1.9761501186495702, 2.74437436611336, 2.448634857383705, 1.897996851975044, 2.531059928243936, 2.5713557717805906, 2.4957965787265723, 1.9377902356165295, 1.834606615470425, 1.1156979657440187, 1.2790036987290787, 1.952231156760035, 1.8106952958681517, 2.9681938997179715, 2.625757932175298, 2.753606048762104, 47.51026738817832, 42.744497501049054, 57.64789716369784, 35.533409035280606, 50.968782869617556, 38.42764562204263, 26.940265549529343, 19.934910306219297, 72.96769212241153], 'mahalanobis_dist_feat': [147.58659008263962, 121.32726539314356, 125.94585462999754, 167.4929210972621, 149.19659594749888], 'feat_anom_flags': 1, 'X_feat_abs_recon_err': [[0.0266561, 0.227730874, 0.06343853, 0.12282237, 0.69583932], [2.11295685, 1.7473427, 1.9124796, 2.07993394, 1.14584373], [0.84281539, 0.0107832767, 1.7756218, 0.52944738, 0.96670326], [0.49503168, 0.0972417712, 0.03078451, 0.68663188, 0.44210325], [1.18619684, 2.17616114, 0.55164198, 1.17090808, 0.59606549], [1.53450346, 0.488667993, 0.19553961, 0.65621051, 0.33030086], [2.59183152, 0.267610076, 1.39801553, 0.67362715, 1.45365818], [0.05013556, 1.69136828, 1.57590058, 0.11684809, 0.57344436], [1.43063062, 0.0642575329, 1.18183893, 1.79278833, 0.71515938], [0.04718107, 0.257197525, 0.03955416, 0.14167161, 0.08404491], [1.59537505, 1.72384798, 0.47674046, 0.10092116, 0.8561574], [2.30320994, 0.936201398, 0.04204849, 1.88432723, 1.3807949], [0.70494473, 0.307668556, 1.65532651, 1.25762303, 0.62253036], [0.79954149, 1.81908032, 1.42349039, 1.2240933, 0.81216214], [0.61767168, 0.901756832, 0.7118908, 1.03084159, 0.43765282], [2.03670536, 0.680441792, 1.12871284, 1.55835716, 1.09031985], [1.56815847, 1.27233123, 0.57391866, 0.24365917, 1.25787573], [0.55904809, 1.45780828, 1.15819722, 0.69771459, 0.0741466], [0.98331514, 0.481722748, 2.31395329, 1.79552698, 0.97568411], [1.79599943, 0.16083882, 1.73066558, 0.71852079, 0.05445147], [2.36509411, 1.28510952, 0.2845753, 0.46969943, 0.94227557], [8.97326176, 9.30987584, 13.32688457, 11.62093989, 22.29941375], [11.79496445, 10.4554355, 2.62680401, 25.39511668, 6.85443505], [6.21452245, 25.0792477, 18.37623135, 4.3249073, 21.8427763], [23.37675169, 0.304080828, 13.44823607, 10.84026304, 6.74829032], [26.45932154, 4.48267885, 12.58663013, 12.99393421, 23.70348229], [1.82586441, 10.9099535, 14.48300707, 15.0325705, 9.44233507], [17.00978883, 3.69566599, 9.90008467, 12.19589652, 4.29718812], [11.42588866, 5.92624619, 0.09487463, 8.03079308, 8.36262444], [26.41579881, 18.1082616, 17.40007667, 40.59071569, 2.34221339]]}, {'time_anom_flags': 0, 'X_time_abs_recon_err': [[0.04002373, 0.77316403, 0.5064642, 0.00495428, 0.09601987], [2.77047149, 1.78993695, 1.73569998, 1.73058158, 1.79091122], [1.18899767, 0.00996767, 1.15883707, 0.32864859, 1.51241607], [0.60047226, 0.06333012, 0.32626716, 0.12331526, 0.15140355], [1.33342528, 1.74399522, 0.93921306, 1.38895531, 0.22029392], [0.9332609, 0.40204323, 0.61178983, 0.80194698, 0.35311483], [1.79713745, 0.3841756, 1.45841529, 0.70576781, 2.01294182], [0.12207074, 2.08135886, 1.66214296, 0.93858581, 0.74675243], [1.54002434, 0.05024028, 0.94871562, 2.34687482, 0.91219142], [0.12563447, 0.53364949, 0.40083787, 0.0124869, 0.11479409], [1.65582437, 2.07842082, 1.33746892, 0.42339452, 1.471586], [2.16662805, 0.61253916, 0.17665792, 2.1535986, 2.10590009], [0.27858593, 0.539925, 1.81168659, 0.88734299, 0.79785938], [1.33363261, 0.96458172, 1.70129509, 0.80289269, 0.51961445], [0.63004838, 0.93248708, 1.07749217, 0.40426268, 0.47316746], [2.60991971, 0.46253491, 0.68119423, 2.2888359, 0.80397399], [1.54024527, 1.1020334, 0.23273985, 0.22907384, 1.70220473], [0.56917252, 1.59779402, 0.39928992, 0.26897599, 0.79817527], [0.72655791, 0.86248362, 1.4249041, 1.54588075, 0.8511636], [1.15147733, 0.97942725, 1.33871969, 1.350909, 0.14538853], [2.50307969, 1.28409853, 0.37569222, 0.59548962, 1.10266323], [0.34091677, 0.41827883, 0.40994081, 0.19248556, 1.11418798], [1.78544364, 0.21428836, 0.21717019, 2.09446286, 0.05283848], [0.0469913, 1.3041642, 1.18499547, 0.0599024, 0.14234928], [2.3052051, 0.13853662, 2.23490559, 0.86764715, 0.33590364], [1.82387952, 0.37642735, 0.54602336, 1.94053306, 1.48447235], [0.12610546, 1.32348276, 0.17562612, 1.24092046, 1.6688788], [1.5179853, 0.03971839, 0.69806029, 1.21382899, 0.64356563], [1.08815115, 0.28628336, 0.52470708, 0.28861945, 0.74619109], [2.71393575, 1.53879333, 2.11374314, 1.45708077, 0.94730833]], 'mahalanobis_dist_time': [2.2050724201987797, 2.9204900130095925, 2.513823468247955, 2.27561362283683, 2.124023883200109, 1.2007023403848198, 2.8095994441924215, 2.710059230293343, 2.5792491042063816, 2.221194893902009, 2.5437116931864043, 3.1686912162241563, 2.281518245321126, 1.3691721076761314, 1.176027170351581, 2.614674353294886, 2.4945845864763716, 2.0207512205964266, 1.6791820975964626, 1.5007801946504218, 2.6894439061828606, 2.0870922428940006, 2.923944388847387, 2.1997790802470316, 3.2293004012523654, 2.142699392910762, 3.153213891977101, 1.4702002371930953, 1.6016431453509776, 2.7760841331241615], 'mahalanobis_dist_feat': [6.0770774907370875, 5.261981717892125, 5.360154030511367, 6.31381127807184, 6.469930908034346], 'feat_anom_flags': 0, 'X_feat_abs_recon_err': [[0.04002373, 0.77316403, 0.5064642, 0.00495428, 0.09601987], [2.77047149, 1.78993695, 1.73569998, 1.73058158, 1.79091122], [1.18899767, 0.00996767, 1.15883707, 0.32864859, 1.51241607], [0.60047226, 0.06333012, 0.32626716, 0.12331526, 0.15140355], [1.33342528, 1.74399522, 0.93921306, 1.38895531, 0.22029392], [0.9332609, 0.40204323, 0.61178983, 0.80194698, 0.35311483], [1.79713745, 0.3841756, 1.45841529, 0.70576781, 2.01294182], [0.12207074, 2.08135886, 1.66214296, 0.93858581, 0.74675243], [1.54002434, 0.05024028, 0.94871562, 2.34687482, 0.91219142], [0.12563447, 0.53364949, 0.40083787, 0.0124869, 0.11479409], [1.65582437, 2.07842082, 1.33746892, 0.42339452, 1.471586], [2.16662805, 0.61253916, 0.17665792, 2.1535986, 2.10590009], [0.27858593, 0.539925, 1.81168659, 0.88734299, 0.79785938], [1.33363261, 0.96458172, 1.70129509, 0.80289269, 0.51961445], [0.63004838, 0.93248708, 1.07749217, 0.40426268, 0.47316746], [2.60991971, 0.46253491, 0.68119423, 2.2888359, 0.80397399], [1.54024527, 1.1020334, 0.23273985, 0.22907384, 1.70220473], [0.56917252, 1.59779402, 0.39928992, 0.26897599, 0.79817527], [0.72655791, 0.86248362, 1.4249041, 1.54588075, 0.8511636], [1.15147733, 0.97942725, 1.33871969, 1.350909, 0.14538853], [2.50307969, 1.28409853, 0.37569222, 0.59548962, 1.10266323], [0.34091677, 0.41827883, 0.40994081, 0.19248556, 1.11418798], [1.78544364, 0.21428836, 0.21717019, 2.09446286, 0.05283848], [0.0469913, 1.3041642, 1.18499547, 0.0599024, 0.14234928], [2.3052051, 0.13853662, 2.23490559, 0.86764715, 0.33590364], [1.82387952, 0.37642735, 0.54602336, 1.94053306, 1.48447235], [0.12610546, 1.32348276, 0.17562612, 1.24092046, 1.6688788], [1.5179853, 0.03971839, 0.69806029, 1.21382899, 0.64356563], [1.08815115, 0.28628336, 0.52470708, 0.28861945, 0.74619109], [2.71393575, 1.53879333, 2.11374314, 1.45708077, 0.94730833]]}]}\n"
     ]
    }
   ],
   "source": [
    "# Send instance dictionary to receive response from ML-Engine for online prediction\n",
    "from googleapiclient import discovery\n",
    "from oauth2client.client import GoogleCredentials\n",
    "import json\n",
    "\n",
    "credentials = GoogleCredentials.get_application_default()\n",
    "api = discovery.build(\"ml\", \"v1\", credentials = credentials)\n",
    "\n",
    "request_data = {\"instances\": instances}\n",
    "\n",
    "parent = \"projects/%s/models/%s/versions/%s\" % (PROJECT, \"anomaly_detection_dense_labeled\", \"v1\")\n",
    "response = api.projects().predict(body = request_data, name = parent).execute()\n",
    "print(\"response = {}\".format(response))"
   ]
  },
  {
   "cell_type": "markdown",
   "metadata": {},
   "source": [
    "### LSTM Autoencoder"
   ]
  },
  {
   "cell_type": "code",
   "execution_count": 36,
   "metadata": {},
   "outputs": [
    {
     "name": "stdout",
     "output_type": "stream",
     "text": [
      "response = {'predictions': [{'time_anom_flags': 0, 'X_time_abs_recon_err': [[0.41491645314022535, 0.17814782047161393, 0.6791140559628012, 0.1871596458471131, 0.3532771634912568], [1.6645173931402253, 1.5928842695283862, 1.167116945962801, 1.262366685847113, 1.5737184865087435], [1.5023444231402254, 0.7030967204716139, 1.817456125962801, 0.5426792441528869, 0.5259311365087432], [1.0340078668597747, 0.11011194047161393, 0.4129033259628012, 0.517487364152887, 0.6041211734912568], [1.0060998668597747, 1.8036502395283862, 0.7120102940371988, 1.7537373558471132, 1.0682441434912568], [0.5919769631402254, 0.3862619804716139, 0.5945054840371988, 0.6186543458471131, 0.026214876508743212], [2.0806909131402254, 0.20854500047161392, 1.038939365962801, 1.263949314152887, 1.002613446508743], [0.4275848431402253, 1.605854209528386, 1.320479535962801, 0.20318665415288695, 0.7108267765087432], [1.8541876568597746, 0.32990801952838605, 1.365231725962801, 1.1130811458471133, 1.0890072034912568], [0.4157403168597747, 1.006309850471614, 0.7604224640371988, 0.5687900241528869, 0.6286095634912567], [1.4075199831402254, 1.242894289528386, 0.9446625540371988, 1.117074724152887, 0.6640726265087432], [1.1332204731402253, 0.42993070952838613, 0.47494078403719886, 1.0429314658471132, 1.6175212465087432], [0.9037994168597747, 0.7020503104716139, 1.4208801459628013, 1.126788795847113, 0.013593676508743213], [1.2390778768597748, 1.2529002795283861, 1.622304395962801, 1.151712954152887, 1.061458463491257], [0.6097409031402252, 1.045991249528386, 0.6353140159628011, 0.595814545847113, 0.7426458634912568], [2.0394698031402254, 1.4650427304716138, 1.4159415640371988, 1.9841078058471133, 0.3763498765087432], [1.0582769131402254, 0.8276871695283861, 0.6499901040371988, 0.34810841415288696, 1.1691110965087432], [1.5312174968597747, 1.365699339528386, 0.7775497359628011, 0.671260204152887, 0.029685613491256813], [1.0951789668597747, 1.1437923904716139, 1.368282675962801, 1.4743202158471131, 1.4656350734912569], [0.9112804231402254, 0.527511469528386, 1.2136996259628012, 0.26737776584711304, 0.6641483434912568], [2.2971044231402256, 0.893234799528386, 0.15065976596280117, 1.627917434152887, 1.215354786508743], [0.3271552368597747, 0.4781938904716139, 1.3906148140371988, 0.47301340584711304, 1.3910069065087431], [1.2422232668597748, 0.5123981604716139, 0.5518541440371989, 1.9635521858471132, 0.7027665134912569], [0.3965737968597747, 1.825622119528386, 1.4899530659628013, 1.039052314152887, 0.5770383934912569], [1.8059564431402255, 0.10005100047161392, 1.9656393759628012, 1.076856314152887, 0.056252533491256806], [1.2638368831402254, 0.6326262904716139, 0.4089363759628012, 1.114291535847113, 1.5484961865087432], [0.7862379268597748, 1.2586540495283862, 1.0266456140371987, 0.49094937584711307, 0.7822043765087433], [1.0051510268597748, 0.4046105904716139, 0.9000867240371988, 1.6789774341528871, 0.8670787734912568], [0.23173112314022531, 0.8403340504716139, 0.0684771359628012, 0.12774934584711306, 0.6248844534912568], [2.0600233931402254, 1.686881919528386, 1.2317308659628012, 1.039498145847113, 0.3610344234912568]], 'mahalanobis_dist_time': [2.095338020778395, 2.5660016563890236, 2.422746620143158, 1.7886234385377942, 3.3195542778338187, 2.075990675210245, 2.076406254843157, 2.2078086722370416, 2.131460717471878, 1.2925067878829073, 1.0488282465847676, 2.3930506294427096, 2.304275538012494, 1.6843908752851307, 1.169306229170138, 2.8040736846129604, 1.9098972602829225, 2.52869520556233, 2.396344489653066, 1.7966839913247765, 2.6634885736317297, 2.801886536341416, 2.7857319871827455, 2.833412840812842, 3.3569246327578623, 2.170128265987882, 1.258251979971871, 2.3691586529576036, 2.270827056459233, 2.6407799206064], 'mahalanobis_dist_feat': [5.0777792025634705, 5.5329547357714, 6.071365340213373, 6.018229061474617, 5.621823291933841], 'feat_anom_flags': 0, 'X_feat_abs_recon_err': [[0.41491645314022535, 0.17814782047161393, 0.6791140559628012, 0.1871596458471131, 0.3532771634912568], [1.6645173931402253, 1.5928842695283862, 1.167116945962801, 1.262366685847113, 1.5737184865087435], [1.5023444231402254, 0.7030967204716139, 1.817456125962801, 0.5426792441528869, 0.5259311365087432], [1.0340078668597747, 0.11011194047161393, 0.4129033259628012, 0.517487364152887, 0.6041211734912568], [1.0060998668597747, 1.8036502395283862, 0.7120102940371988, 1.7537373558471132, 1.0682441434912568], [0.5919769631402254, 0.3862619804716139, 0.5945054840371988, 0.6186543458471131, 0.026214876508743212], [2.0806909131402254, 0.20854500047161392, 1.038939365962801, 1.263949314152887, 1.002613446508743], [0.4275848431402253, 1.605854209528386, 1.320479535962801, 0.20318665415288695, 0.7108267765087432], [1.8541876568597746, 0.32990801952838605, 1.365231725962801, 1.1130811458471133, 1.0890072034912568], [0.4157403168597747, 1.006309850471614, 0.7604224640371988, 0.5687900241528869, 0.6286095634912567], [1.4075199831402254, 1.242894289528386, 0.9446625540371988, 1.117074724152887, 0.6640726265087432], [1.1332204731402253, 0.42993070952838613, 0.47494078403719886, 1.0429314658471132, 1.6175212465087432], [0.9037994168597747, 0.7020503104716139, 1.4208801459628013, 1.126788795847113, 0.013593676508743213], [1.2390778768597748, 1.2529002795283861, 1.622304395962801, 1.151712954152887, 1.061458463491257], [0.6097409031402252, 1.045991249528386, 0.6353140159628011, 0.595814545847113, 0.7426458634912568], [2.0394698031402254, 1.4650427304716138, 1.4159415640371988, 1.9841078058471133, 0.3763498765087432], [1.0582769131402254, 0.8276871695283861, 0.6499901040371988, 0.34810841415288696, 1.1691110965087432], [1.5312174968597747, 1.365699339528386, 0.7775497359628011, 0.671260204152887, 0.029685613491256813], [1.0951789668597747, 1.1437923904716139, 1.368282675962801, 1.4743202158471131, 1.4656350734912569], [0.9112804231402254, 0.527511469528386, 1.2136996259628012, 0.26737776584711304, 0.6641483434912568], [2.2971044231402256, 0.893234799528386, 0.15065976596280117, 1.627917434152887, 1.215354786508743], [0.3271552368597747, 0.4781938904716139, 1.3906148140371988, 0.47301340584711304, 1.3910069065087431], [1.2422232668597748, 0.5123981604716139, 0.5518541440371989, 1.9635521858471132, 0.7027665134912569], [0.3965737968597747, 1.825622119528386, 1.4899530659628013, 1.039052314152887, 0.5770383934912569], [1.8059564431402255, 0.10005100047161392, 1.9656393759628012, 1.076856314152887, 0.056252533491256806], [1.2638368831402254, 0.6326262904716139, 0.4089363759628012, 1.114291535847113, 1.5484961865087432], [0.7862379268597748, 1.2586540495283862, 1.0266456140371987, 0.49094937584711307, 0.7822043765087433], [1.0051510268597748, 0.4046105904716139, 0.9000867240371988, 1.6789774341528871, 0.8670787734912568], [0.23173112314022531, 0.8403340504716139, 0.0684771359628012, 0.12774934584711306, 0.6248844534912568], [2.0600233931402254, 1.686881919528386, 1.2317308659628012, 1.039498145847113, 0.3610344234912568]]}, {'time_anom_flags': 0, 'X_time_abs_recon_err': [[0.07281104685977469, 0.38603374952838604, 0.16303782403719883, 0.06515406584711303, 0.14251572650874322], [2.1147090531402255, 1.5426797195283861, 1.080757525962801, 1.862286665847113, 0.9089083965087431], [1.0866816431402253, 0.41598273047161394, 1.643732485962801, 0.8539331741528869, 0.5129931265087432], [0.6900083068597747, 0.5040877604716139, 0.4761440840371988, 0.730085704152887, 0.3171473534912568], [1.5096358868597746, 1.901314049528386, 1.5682721040371987, 1.088847645847113, 1.007563133491257], [1.4803149531402253, 0.4708057104716139, 0.15721215403719882, 0.39150852584711304, 0.5047497165087432], [2.3352116431402252, 0.7310927704716139, 0.9016416459628013, 1.5535176641528872, 1.087574486508743], [0.1364564368597747, 1.233921349528386, 1.2793462959628012, 0.07903569584711306, 0.7386666965087433], [1.3631069668597746, 0.015966589528386088, 1.0480828259628012, 1.4262653758471129, 0.4739908634912568], [0.5719913668597747, 0.5394503704716139, 0.10144379403719883, 0.23997624415288696, 0.3359936534912568], [1.2615247131402254, 1.541541169528386, 0.6722034740371988, 1.363218694152887, 0.19460026650874318], [1.8804965631402255, 0.536189429528386, 0.21010302403719883, 1.6743505458471133, 1.0522168965087433], [0.6051265968597748, 0.995671380471614, 1.5435652459628013, 1.165614265847113, 0.5433037965087432], [1.5234604568597747, 0.8098589895283861, 1.888896275962801, 0.855267974152887, 1.0874837334912568], [0.2947175631402253, 0.5282595195283861, 0.8055439859628012, 0.5519609858471131, 0.9907995134912568], [2.4467127931402253, 0.814084100471614, 0.6382087540371988, 1.6611550358471132, 1.0969910765087434], [0.6173273031402253, 0.8520454895283862, 0.6898599640371987, 0.295003874152887, 1.1716360865087432], [1.4953209168597748, 1.2698161795283862, 0.39662862596280113, 1.197075994152887, 0.22642209650874323], [0.6752023168597747, 1.109399650471614, 1.2257343859628014, 1.288277665847113, 0.8338464234912568], [1.1945316131402253, 0.8126021195283861, 0.7181934059628012, 0.20248686584711306, 0.03991766650874318], [1.6932412331402253, 1.402937719528386, 0.6237914540371988, 1.3324165041528868, 0.5341437765087432], [0.1548744531402253, 0.3548433404716139, 1.2762150740371987, 0.292493115847113, 0.8039816065087432], [1.2658661068597747, 0.2143267495283861, 0.07438974403719881, 1.5189501458471129, 0.3376546734912568], [0.006219663140225318, 1.3688676995283862, 0.7480346659628011, 0.6700685041528869, 1.0793571734912568], [1.5287791731402254, 0.09777278047161392, 1.919433175962801, 0.49138308415288695, 0.4867810834912568], [1.3204499131402254, 0.42820371047161393, 0.5963908159628012, 1.7028148558471132, 0.8172074165087432], [1.0435910268597748, 1.1214482495283862, 1.198252254037199, 0.29904931584711303, 1.1235692065087433], [1.6090829068597747, 0.3958745104716139, 1.232435844037199, 0.9297349841528869, 0.11807772349125678], [0.48755390314022534, 1.054272810471614, 0.02478938596280117, 0.560289415847113, 0.5500939834912568], [2.3796564831402254, 1.5406514995283862, 1.863093025962801, 1.438734325847113, 0.10169817349125682]], 'mahalanobis_dist_time': [2.6112326576319305, 2.421988981954273, 1.9835449495982946, 1.5322932517806718, 2.4027359721401247, 2.4003265255152257, 1.9235150462392472, 2.1133635583402914, 2.20255784609053, 2.142274783167209, 2.682523120767393, 2.154139440168748, 2.1300301552094267, 2.3721504529250788, 1.7195901358414383, 2.208408764272089, 1.807857293994699, 2.361560798411698, 1.9298758365489987, 2.4072682282501914, 2.0237664739829415, 2.339869361563873, 2.62648318086128, 2.4618551948310694, 3.354328993796103, 2.051779400259698, 2.0390983591145844, 1.9956192743429757, 2.241836565553704, 3.1511856305852706], 'mahalanobis_dist_feat': [5.727566923797858, 5.28127818767614, 6.771509786296232, 5.641438086579203, 5.191187496924538], 'feat_anom_flags': 0, 'X_feat_abs_recon_err': [[0.07281104685977469, 0.38603374952838604, 0.16303782403719883, 0.06515406584711303, 0.14251572650874322], [2.1147090531402255, 1.5426797195283861, 1.080757525962801, 1.862286665847113, 0.9089083965087431], [1.0866816431402253, 0.41598273047161394, 1.643732485962801, 0.8539331741528869, 0.5129931265087432], [0.6900083068597747, 0.5040877604716139, 0.4761440840371988, 0.730085704152887, 0.3171473534912568], [1.5096358868597746, 1.901314049528386, 1.5682721040371987, 1.088847645847113, 1.007563133491257], [1.4803149531402253, 0.4708057104716139, 0.15721215403719882, 0.39150852584711304, 0.5047497165087432], [2.3352116431402252, 0.7310927704716139, 0.9016416459628013, 1.5535176641528872, 1.087574486508743], [0.1364564368597747, 1.233921349528386, 1.2793462959628012, 0.07903569584711306, 0.7386666965087433], [1.3631069668597746, 0.015966589528386088, 1.0480828259628012, 1.4262653758471129, 0.4739908634912568], [0.5719913668597747, 0.5394503704716139, 0.10144379403719883, 0.23997624415288696, 0.3359936534912568], [1.2615247131402254, 1.541541169528386, 0.6722034740371988, 1.363218694152887, 0.19460026650874318], [1.8804965631402255, 0.536189429528386, 0.21010302403719883, 1.6743505458471133, 1.0522168965087433], [0.6051265968597748, 0.995671380471614, 1.5435652459628013, 1.165614265847113, 0.5433037965087432], [1.5234604568597747, 0.8098589895283861, 1.888896275962801, 0.855267974152887, 1.0874837334912568], [0.2947175631402253, 0.5282595195283861, 0.8055439859628012, 0.5519609858471131, 0.9907995134912568], [2.4467127931402253, 0.814084100471614, 0.6382087540371988, 1.6611550358471132, 1.0969910765087434], [0.6173273031402253, 0.8520454895283862, 0.6898599640371987, 0.295003874152887, 1.1716360865087432], [1.4953209168597748, 1.2698161795283862, 0.39662862596280113, 1.197075994152887, 0.22642209650874323], [0.6752023168597747, 1.109399650471614, 1.2257343859628014, 1.288277665847113, 0.8338464234912568], [1.1945316131402253, 0.8126021195283861, 0.7181934059628012, 0.20248686584711306, 0.03991766650874318], [1.6932412331402253, 1.402937719528386, 0.6237914540371988, 1.3324165041528868, 0.5341437765087432], [0.1548744531402253, 0.3548433404716139, 1.2762150740371987, 0.292493115847113, 0.8039816065087432], [1.2658661068597747, 0.2143267495283861, 0.07438974403719881, 1.5189501458471129, 0.3376546734912568], [0.006219663140225318, 1.3688676995283862, 0.7480346659628011, 0.6700685041528869, 1.0793571734912568], [1.5287791731402254, 0.09777278047161392, 1.919433175962801, 0.49138308415288695, 0.4867810834912568], [1.3204499131402254, 0.42820371047161393, 0.5963908159628012, 1.7028148558471132, 0.8172074165087432], [1.0435910268597748, 1.1214482495283862, 1.198252254037199, 0.29904931584711303, 1.1235692065087433], [1.6090829068597747, 0.3958745104716139, 1.232435844037199, 0.9297349841528869, 0.11807772349125678], [0.48755390314022534, 1.054272810471614, 0.02478938596280117, 0.560289415847113, 0.5500939834912568], [2.3796564831402254, 1.5406514995283862, 1.863093025962801, 1.438734325847113, 0.10169817349125682]]}, {'time_anom_flags': 0, 'X_time_abs_recon_err': [[0.31407321314022535, 0.6741481895283861, 0.5392514659628012, 0.19624971584711304, 0.49690580650874316], [1.9673533831402255, 1.5523361195283862, 1.5286397759628012, 1.971758275847113, 1.4764099265087434], [1.2342524531402252, 1.004235090471614, 0.9276927059628012, 0.34852375415288694, 0.7877727365087431], [0.7082762068597748, 0.688967040471614, 0.42845268596280117, 1.250764174152887, 0.25108078349125684], [0.9900164968597747, 1.701675289528386, 0.7685177840371988, 1.0138385958471132, 0.4718479634912568], [0.9278017131402254, 0.732655390471614, 0.9018753940371989, 0.5656142458471131, 0.12409969349125682], [2.2622957831402255, 1.028495050471614, 0.6029677859628012, 1.3544798141528869, 0.7689833265087432], [0.5629101131402252, 1.2821468695283862, 1.5607173559628014, 0.32751512584711306, 0.08630222349125682], [1.1475692868597747, 0.018051160471613925, 0.7522312559628012, 1.8006406258471133, 1.2744313534912568], [0.2971113668597747, 0.9236645604716138, 0.2799438940371988, 0.558139374152887, 0.5419488834912568], [2.0188933331402255, 1.5000219095283862, 1.5819363040371988, 0.48861427415288694, 0.9718286965087432], [1.8385654331402255, 0.4253765795283861, 0.3409443259628012, 1.109147615847113, 1.5267827765087434], [0.5944112868597746, 0.5178314504716139, 0.9688474359628011, 0.8776769758471131, 0.2555874034912568], [1.5135037668597746, 0.7924927695283861, 1.852664475962801, 1.008834094152887, 1.4273925934912568], [0.5778806831402252, 1.1325249495283862, 0.6764202959628012, 0.23389634584711305, 1.0444202234912567], [2.163106183140225, 0.6278987304716139, 1.1942154040371988, 1.9708235158471132, 1.1732752165087432], [0.6213691931402252, 0.561243149528386, 0.4725744940371988, 0.28918701415288695, 0.7839610865087433], [1.0206867668597748, 1.292174549528386, 0.8390793459628011, 0.9030398541528869, 0.2466648534912568], [1.5477848568597747, 1.1907120704716139, 1.5099185959628012, 1.2237517958471131, 1.5304967534912568], [1.2673251531402254, 0.31805355952838604, 1.0815358559628012, 1.0376290258471133, 0.3374500234912568], [1.8348385331402253, 1.545026089528386, 0.1279301959628012, 1.584324354152887, 0.6636697665087431], [0.13973438685977468, 0.8919072504716139, 0.6598473740371988, 0.492267905847113, 1.158917966508743], [1.1849945668597748, 0.04075642047161393, 0.7686636340371988, 1.9768209758471134, 0.0710058934912568], [0.06453791314022528, 0.9747123195283862, 1.440131875962801, 0.22515765415288697, 1.056764293491257], [1.7886884831402252, 0.2463446604716139, 2.115327145962801, 0.923048154152887, 0.5497847634912568], [1.9233778931402252, 0.11710631047161393, 0.9228426759628011, 1.3003111658471131, 1.264706686508743], [0.2274338368597747, 0.986612719528386, 1.198862474037199, 0.4746807758471131, 0.5297862065087432], [1.0156874668597746, 0.6799597404716139, 1.0311250840371988, 0.9652337741528869, 0.3309503334912568], [0.026829106859774687, 1.158378040471614, 0.11056210403719882, 0.759770545847113, 0.9977817134912568], [2.1617759531402254, 1.708705539528386, 1.596809555962801, 1.841264045847113, 0.03233348349125681]], 'mahalanobis_dist_time': [1.6800869945170696, 2.9616362535077445, 1.659906177582167, 2.3315612978445857, 2.274288385012206, 1.5386377176588424, 2.017281594340165, 2.3278366839415896, 3.0558017848949226, 1.9051738034932568, 3.16602264109015, 2.53676859799669, 1.7460199011438575, 2.6999877892094015, 1.8407078466972546, 2.280656479563844, 1.5315722528196172, 1.7119191575988375, 2.3089004334003387, 1.5116231230725587, 3.0893608713721483, 2.004929501769783, 3.683702650091547, 2.396763463631518, 3.208223639913678, 2.2992667201245287, 1.6738212423030998, 1.1333697320741938, 2.786545468086193, 3.389875819633017], 'mahalanobis_dist_feat': [5.6138155437979, 6.353830155224078, 5.520359280535411, 5.495601909009037, 6.380977810423695], 'feat_anom_flags': 0, 'X_feat_abs_recon_err': [[0.31407321314022535, 0.6741481895283861, 0.5392514659628012, 0.19624971584711304, 0.49690580650874316], [1.9673533831402255, 1.5523361195283862, 1.5286397759628012, 1.971758275847113, 1.4764099265087434], [1.2342524531402252, 1.004235090471614, 0.9276927059628012, 0.34852375415288694, 0.7877727365087431], [0.7082762068597748, 0.688967040471614, 0.42845268596280117, 1.250764174152887, 0.25108078349125684], [0.9900164968597747, 1.701675289528386, 0.7685177840371988, 1.0138385958471132, 0.4718479634912568], [0.9278017131402254, 0.732655390471614, 0.9018753940371989, 0.5656142458471131, 0.12409969349125682], [2.2622957831402255, 1.028495050471614, 0.6029677859628012, 1.3544798141528869, 0.7689833265087432], [0.5629101131402252, 1.2821468695283862, 1.5607173559628014, 0.32751512584711306, 0.08630222349125682], [1.1475692868597747, 0.018051160471613925, 0.7522312559628012, 1.8006406258471133, 1.2744313534912568], [0.2971113668597747, 0.9236645604716138, 0.2799438940371988, 0.558139374152887, 0.5419488834912568], [2.0188933331402255, 1.5000219095283862, 1.5819363040371988, 0.48861427415288694, 0.9718286965087432], [1.8385654331402255, 0.4253765795283861, 0.3409443259628012, 1.109147615847113, 1.5267827765087434], [0.5944112868597746, 0.5178314504716139, 0.9688474359628011, 0.8776769758471131, 0.2555874034912568], [1.5135037668597746, 0.7924927695283861, 1.852664475962801, 1.008834094152887, 1.4273925934912568], [0.5778806831402252, 1.1325249495283862, 0.6764202959628012, 0.23389634584711305, 1.0444202234912567], [2.163106183140225, 0.6278987304716139, 1.1942154040371988, 1.9708235158471132, 1.1732752165087432], [0.6213691931402252, 0.561243149528386, 0.4725744940371988, 0.28918701415288695, 0.7839610865087433], [1.0206867668597748, 1.292174549528386, 0.8390793459628011, 0.9030398541528869, 0.2466648534912568], [1.5477848568597747, 1.1907120704716139, 1.5099185959628012, 1.2237517958471131, 1.5304967534912568], [1.2673251531402254, 0.31805355952838604, 1.0815358559628012, 1.0376290258471133, 0.3374500234912568], [1.8348385331402253, 1.545026089528386, 0.1279301959628012, 1.584324354152887, 0.6636697665087431], [0.13973438685977468, 0.8919072504716139, 0.6598473740371988, 0.492267905847113, 1.158917966508743], [1.1849945668597748, 0.04075642047161393, 0.7686636340371988, 1.9768209758471134, 0.0710058934912568], [0.06453791314022528, 0.9747123195283862, 1.440131875962801, 0.22515765415288697, 1.056764293491257], [1.7886884831402252, 0.2463446604716139, 2.115327145962801, 0.923048154152887, 0.5497847634912568], [1.9233778931402252, 0.11710631047161393, 0.9228426759628011, 1.3003111658471131, 1.264706686508743], [0.2274338368597747, 0.986612719528386, 1.198862474037199, 0.4746807758471131, 0.5297862065087432], [1.0156874668597746, 0.6799597404716139, 1.0311250840371988, 0.9652337741528869, 0.3309503334912568], [0.026829106859774687, 1.158378040471614, 0.11056210403719882, 0.759770545847113, 0.9977817134912568], [2.1617759531402254, 1.708705539528386, 1.596809555962801, 1.841264045847113, 0.03233348349125681]]}, {'time_anom_flags': 0, 'X_time_abs_recon_err': [[0.1712610131402253, 0.5106841395283861, 0.5113866059628012, 0.35665181584711303, 0.2974968065087432], [1.6661299431402254, 1.402161079528386, 1.636806355962801, 1.421957275847113, 1.156025286508743], [0.9057767531402254, 1.014752550471614, 1.423561335962801, 0.9673129241528869, 1.0022692465087433], [0.7623004668597746, 0.4762198104716139, 0.2712074440371988, 0.6583089541528869, 0.6500116834912568], [0.8141293368597746, 1.487180809528386, 1.025047354037199, 1.231952905847113, 0.6832523034912568], [1.5329203031402254, 0.7502566504716139, 0.19347592403719882, 1.1883862558471132, 0.5384348165087431], [1.7155597931402253, 0.9516548004716139, 0.5602987359628012, 1.4428564541528868, 1.6440607765087432], [0.36293935314022535, 1.5945201595283862, 1.8093030659628009, 0.40161743584711307, 0.2687273665087432], [1.0943800568597748, 0.4063671504716139, 1.2712692559628014, 1.370962905847113, 0.8091459834912569], [0.0368799368597747, 1.212414540471614, 0.10399169403719882, 0.32460985415288696, 0.3866918434912568], [1.4966413831402254, 1.052404619528386, 1.3482734740371987, 1.019358734152887, 0.1487886365087432], [1.6335233331402255, 0.40329309952838605, 0.2081321540371988, 1.0473408858471132, 1.0497021965087434], [0.7616477068597747, 1.4827553404716138, 1.646627885962801, 0.870736595847113, 0.11884479650874324], [1.2712702868597747, 1.054536359528386, 1.2582678959628013, 1.077485324152887, 0.6725421834912568], [0.48948123314022535, 0.5418018695283862, 0.25731399596280113, 0.360450965847113, 0.7511207134912568], [2.2733788531402253, 1.099618190471614, 0.8802484940371988, 1.237328485847113, 0.9598388265087433], [0.4941269331402253, 0.3549469295283861, 1.0135463840371988, 0.10729692415288694, 0.7500523865087433], [1.6053622768597746, 0.515535869528386, 0.21975614596280119, 1.249678914152887, 0.3687045734912568], [0.8443790568597747, 0.739840610471614, 1.8465745859628009, 1.4555742358471129, 0.6943733034912568], [1.1954374931402254, 0.8338503295283861, 1.2642506859628013, 1.0695304658471132, 0.8146260334912567], [2.016178993140225, 0.8206193295283861, 0.5523472340371989, 1.3446488741528868, 1.059722756508743], [0.5299179631402253, 1.005259290471614, 1.3403597540371988, 0.14504249415288695, 0.9882910665087431], [1.4788533768597747, 0.24490373952838612, 0.06547173403719883, 1.7983275658471132, 0.20541860349125682], [0.7058999868597746, 1.1920288495283862, 0.5859905959628012, 0.799686184152887, 1.5376873634912567], [1.7104278531402253, 1.070826220471614, 2.088568405962801, 1.329051804152887, 0.3573841334912568], [1.4745282031402254, 0.675067140471614, 0.6328859759628012, 1.458899395847113, 1.3609128565087434], [0.6737912968597747, 1.7191985795283862, 0.4136469240371988, 0.850347895847113, 1.1222020565087432], [1.3993924868597747, 0.3112705504716139, 1.343874884037199, 1.5210967641528867, 0.4916712034912568], [0.7094770431402253, 1.031532430471614, 0.0651974259628012, 0.727277455847113, 1.1127996334912567], [1.9678834631402253, 1.332745029528386, 1.639832895962801, 0.985574635847113, 0.011527003491256793]], 'mahalanobis_dist_time': [1.9713032450546255, 2.016453591307138, 1.3735049407885374, 1.4021901244752444, 1.989087568278766, 1.744181287677115, 2.427864592748298, 2.6693500046204517, 1.8249071273835855, 2.718749754708644, 1.7123651282295898, 1.817995358346922, 2.419921809408932, 0.7758897530507685, 1.681389548711586, 2.0048316173527443, 2.0627257607711664, 1.9157295814816857, 2.7173816241938082, 0.7887050939511331, 1.6857574308746621, 2.0509521668239143, 3.1421710667493374, 2.3171306444641937, 2.477728638849486, 1.823661753608992, 2.655763317568094, 2.1000656572227983, 2.1238578577037446, 2.7089065122833267], 'mahalanobis_dist_feat': [5.020395945362225, 4.949601796834471, 5.411697508377019, 5.428140805577839, 5.303474234906926], 'feat_anom_flags': 0, 'X_feat_abs_recon_err': [[0.1712610131402253, 0.5106841395283861, 0.5113866059628012, 0.35665181584711303, 0.2974968065087432], [1.6661299431402254, 1.402161079528386, 1.636806355962801, 1.421957275847113, 1.156025286508743], [0.9057767531402254, 1.014752550471614, 1.423561335962801, 0.9673129241528869, 1.0022692465087433], [0.7623004668597746, 0.4762198104716139, 0.2712074440371988, 0.6583089541528869, 0.6500116834912568], [0.8141293368597746, 1.487180809528386, 1.025047354037199, 1.231952905847113, 0.6832523034912568], [1.5329203031402254, 0.7502566504716139, 0.19347592403719882, 1.1883862558471132, 0.5384348165087431], [1.7155597931402253, 0.9516548004716139, 0.5602987359628012, 1.4428564541528868, 1.6440607765087432], [0.36293935314022535, 1.5945201595283862, 1.8093030659628009, 0.40161743584711307, 0.2687273665087432], [1.0943800568597748, 0.4063671504716139, 1.2712692559628014, 1.370962905847113, 0.8091459834912569], [0.0368799368597747, 1.212414540471614, 0.10399169403719882, 0.32460985415288696, 0.3866918434912568], [1.4966413831402254, 1.052404619528386, 1.3482734740371987, 1.019358734152887, 0.1487886365087432], [1.6335233331402255, 0.40329309952838605, 0.2081321540371988, 1.0473408858471132, 1.0497021965087434], [0.7616477068597747, 1.4827553404716138, 1.646627885962801, 0.870736595847113, 0.11884479650874324], [1.2712702868597747, 1.054536359528386, 1.2582678959628013, 1.077485324152887, 0.6725421834912568], [0.48948123314022535, 0.5418018695283862, 0.25731399596280113, 0.360450965847113, 0.7511207134912568], [2.2733788531402253, 1.099618190471614, 0.8802484940371988, 1.237328485847113, 0.9598388265087433], [0.4941269331402253, 0.3549469295283861, 1.0135463840371988, 0.10729692415288694, 0.7500523865087433], [1.6053622768597746, 0.515535869528386, 0.21975614596280119, 1.249678914152887, 0.3687045734912568], [0.8443790568597747, 0.739840610471614, 1.8465745859628009, 1.4555742358471129, 0.6943733034912568], [1.1954374931402254, 0.8338503295283861, 1.2642506859628013, 1.0695304658471132, 0.8146260334912567], [2.016178993140225, 0.8206193295283861, 0.5523472340371989, 1.3446488741528868, 1.059722756508743], [0.5299179631402253, 1.005259290471614, 1.3403597540371988, 0.14504249415288695, 0.9882910665087431], [1.4788533768597747, 0.24490373952838612, 0.06547173403719883, 1.7983275658471132, 0.20541860349125682], [0.7058999868597746, 1.1920288495283862, 0.5859905959628012, 0.799686184152887, 1.5376873634912567], [1.7104278531402253, 1.070826220471614, 2.088568405962801, 1.329051804152887, 0.3573841334912568], [1.4745282031402254, 0.675067140471614, 0.6328859759628012, 1.458899395847113, 1.3609128565087434], [0.6737912968597747, 1.7191985795283862, 0.4136469240371988, 0.850347895847113, 1.1222020565087432], [1.3993924868597747, 0.3112705504716139, 1.343874884037199, 1.5210967641528867, 0.4916712034912568], [0.7094770431402253, 1.031532430471614, 0.0651974259628012, 0.727277455847113, 1.1127996334912567], [1.9678834631402253, 1.332745029528386, 1.639832895962801, 0.985574635847113, 0.011527003491256793]]}, {'time_anom_flags': 0, 'X_time_abs_recon_err': [[0.4757955031402253, 0.03759242047161393, 0.6517768059628012, 0.585832615847113, 0.03627240349125682], [2.2252232031402253, 1.0604790295283861, 1.9600532059628009, 1.3694862358471132, 1.120752496508743], [1.0778798931402254, 0.981380400471614, 1.602510505962801, 0.8375680941528869, 0.9336229765087433], [1.0026889468597746, 0.07444966047161392, 0.4986817840371988, 0.969584854152887, 0.3591763434912568], [1.4281617068597747, 1.2651577095283861, 1.1668068140371988, 1.2356004458471133, 1.1532572134912566], [1.5690666931402253, 0.48900985047161394, 0.2539590840371988, 0.690752145847113, 0.43806820650874323], [2.5072075031402252, 0.9382195304716139, 0.7438285259628011, 1.4779602241528869, 0.7181876365087433], [0.11062680314022533, 1.174419469528386, 1.143850065962801, 0.08864619584711303, 0.6326696065087433], [1.0875156268597748, 0.13361080952838605, 0.4903152759628012, 1.729358055847113, 1.3541163834912568], [0.9611470768597747, 0.7403940704716139, 0.7593851840371988, 0.587566494152887, 1.0532435934912567], [1.6902269031402253, 1.090448099528386, 1.1032240240371989, 0.750999354152887, 1.044771036508743], [1.4113113331402254, 0.0892217995283861, 0.027421814037198816, 1.6848958458471133, 1.5957372065087432], [0.5667627368597747, 1.131665530471614, 1.7273688759628012, 0.7988386258471131, 0.3030672434912568], [1.2225822268597748, 1.174067849528386, 2.0101966959628013, 1.5831788541528868, 0.8945398234912568], [0.39971983314022536, 1.1633961595283862, 0.6455448859628011, 0.10954187415288696, 0.6988764734912568], [2.383560203140225, 0.7796155004716139, 1.392289874037199, 1.8825363858471134, 0.9276866165087433], [0.7575073231402254, 0.38471423952838607, 0.4762054740371988, 0.968686674152887, 1.3544030065087433], [1.7243139668597747, 0.6589709995283861, 0.7926272359628012, 0.8637840941528869, 0.3461761134912568], [0.9789279168597746, 1.0692416404716139, 1.4203481859628013, 0.969681025847113, 1.0941855234912568], [1.2518499631402253, 0.32465038952838604, 1.295366725962801, 1.0615118858471129, 0.1181478134912568], [1.9618177031402255, 1.308973739528386, 0.3971589040371988, 0.9698760341528869, 0.7440913865087432], [0.016148793140225326, 0.3637771504716139, 1.1249462740371987, 0.640656115847113, 0.8004362365087433], [1.5093565768597745, 0.2684734704716139, 0.5423523040371988, 1.214509515847113, 0.45136937349125683], [0.05660685314022529, 1.223058489528386, 1.491602695962801, 0.879085524152887, 0.9475344434912568], [1.6307942131402253, 0.9913777104716139, 1.4524758759628011, 1.350916094152887, 0.11175961349125679], [1.3698513731402253, 0.6754084304716139, 0.8633721459628011, 1.5087211258471132, 0.9894721965087433], [0.3000150468597747, 1.206845369528386, 0.3001417840371988, 0.5150814158471131, 1.2678286965087433], [1.0911642668597747, 0.3440047304716139, 1.2193226140371989, 1.400678374152887, 1.0320649534912567], [0.09933257314022531, 0.701580750471614, 0.3507122440371988, 0.5653493058471131, 1.3993393834912569], [1.8857758331402255, 1.431967669528386, 1.8133969759628012, 1.789595985847113, 0.49485237650874314]], 'mahalanobis_dist_time': [2.4723175318392645, 2.628914120532441, 1.4885388631110361, 1.8465968417327363, 1.411245594010764, 1.9618759743635263, 2.206416288181824, 1.994946966600149, 2.9447912675764716, 1.1683526601293557, 1.7239924913808289, 3.218334625038116, 2.1784713384585865, 2.6286078994234243, 1.8630330797083834, 2.1784004098613345, 2.0622468679050483, 1.5476796775406043, 1.4401066073915907, 2.0429505291724137, 2.389567459966535, 2.422041017494273, 1.5338598647062032, 2.62101415525179, 2.035248243966838, 1.3849416298808381, 2.403989063756315, 2.032569769984275, 2.5641448467535026, 2.5765159086851317], 'mahalanobis_dist_feat': [5.696652368005995, 5.024053390928441, 6.132051602279997, 4.498275877676948, 5.578708780894472], 'feat_anom_flags': 0, 'X_feat_abs_recon_err': [[0.4757955031402253, 0.03759242047161393, 0.6517768059628012, 0.585832615847113, 0.03627240349125682], [2.2252232031402253, 1.0604790295283861, 1.9600532059628009, 1.3694862358471132, 1.120752496508743], [1.0778798931402254, 0.981380400471614, 1.602510505962801, 0.8375680941528869, 0.9336229765087433], [1.0026889468597746, 0.07444966047161392, 0.4986817840371988, 0.969584854152887, 0.3591763434912568], [1.4281617068597747, 1.2651577095283861, 1.1668068140371988, 1.2356004458471133, 1.1532572134912566], [1.5690666931402253, 0.48900985047161394, 0.2539590840371988, 0.690752145847113, 0.43806820650874323], [2.5072075031402252, 0.9382195304716139, 0.7438285259628011, 1.4779602241528869, 0.7181876365087433], [0.11062680314022533, 1.174419469528386, 1.143850065962801, 0.08864619584711303, 0.6326696065087433], [1.0875156268597748, 0.13361080952838605, 0.4903152759628012, 1.729358055847113, 1.3541163834912568], [0.9611470768597747, 0.7403940704716139, 0.7593851840371988, 0.587566494152887, 1.0532435934912567], [1.6902269031402253, 1.090448099528386, 1.1032240240371989, 0.750999354152887, 1.044771036508743], [1.4113113331402254, 0.0892217995283861, 0.027421814037198816, 1.6848958458471133, 1.5957372065087432], [0.5667627368597747, 1.131665530471614, 1.7273688759628012, 0.7988386258471131, 0.3030672434912568], [1.2225822268597748, 1.174067849528386, 2.0101966959628013, 1.5831788541528868, 0.8945398234912568], [0.39971983314022536, 1.1633961595283862, 0.6455448859628011, 0.10954187415288696, 0.6988764734912568], [2.383560203140225, 0.7796155004716139, 1.392289874037199, 1.8825363858471134, 0.9276866165087433], [0.7575073231402254, 0.38471423952838607, 0.4762054740371988, 0.968686674152887, 1.3544030065087433], [1.7243139668597747, 0.6589709995283861, 0.7926272359628012, 0.8637840941528869, 0.3461761134912568], [0.9789279168597746, 1.0692416404716139, 1.4203481859628013, 0.969681025847113, 1.0941855234912568], [1.2518499631402253, 0.32465038952838604, 1.295366725962801, 1.0615118858471129, 0.1181478134912568], [1.9618177031402255, 1.308973739528386, 0.3971589040371988, 0.9698760341528869, 0.7440913865087432], [0.016148793140225326, 0.3637771504716139, 1.1249462740371987, 0.640656115847113, 0.8004362365087433], [1.5093565768597745, 0.2684734704716139, 0.5423523040371988, 1.214509515847113, 0.45136937349125683], [0.05660685314022529, 1.223058489528386, 1.491602695962801, 0.879085524152887, 0.9475344434912568], [1.6307942131402253, 0.9913777104716139, 1.4524758759628011, 1.350916094152887, 0.11175961349125679], [1.3698513731402253, 0.6754084304716139, 0.8633721459628011, 1.5087211258471132, 0.9894721965087433], [0.3000150468597747, 1.206845369528386, 0.3001417840371988, 0.5150814158471131, 1.2678286965087433], [1.0911642668597747, 0.3440047304716139, 1.2193226140371989, 1.400678374152887, 1.0320649534912567], [0.09933257314022531, 0.701580750471614, 0.3507122440371988, 0.5653493058471131, 1.3993393834912569], [1.8857758331402255, 1.431967669528386, 1.8133969759628012, 1.789595985847113, 0.49485237650874314]]}, {'time_anom_flags': 0, 'X_time_abs_recon_err': [[0.0758672631402253, 0.564033599528386, 0.5584577159628011, 0.10595217584711303, 0.25215953650874323], [1.8348363831402255, 1.0833570795283862, 1.3484165959628012, 1.364639215847113, 0.7342237965087431], [1.5007496531402253, 1.214638150471614, 1.4340360859628012, 0.13617426415288694, 1.001753536508743], [1.5836752068597746, 0.5667616604716139, 0.03190949403719881, 1.330985724152887, 1.152431893491257], [1.4209776168597748, 1.592930739528386, 1.212537194037199, 1.1299401158471132, 1.071592663491257], [0.7240635331402252, 0.34005082047161395, 0.5341451340371988, 1.2188467858471133, 0.07809108349125682], [1.5387712931402253, 0.4086949504716139, 0.4345276759628012, 0.813373074152887, 1.479060786508743], [0.16989031685977468, 1.2321100995283862, 1.921876455962801, 0.020426964152886973, 0.2580819365087432], [1.3318888468597747, 0.4507401104716139, 0.8155643859628011, 1.225176335847113, 0.7391016334912568], [0.3048014468597747, 0.7062759204716139, 0.5634852740371988, 0.5227823641528869, 0.7277386934912569], [1.7489110831402253, 1.3630597195283862, 1.009553224037199, 1.164173974152887, 0.4096216165087432], [1.3613366031402254, 0.6624238495283861, 0.5991406240371988, 1.2381100258471132, 1.5044852865087432], [0.9649100968597748, 1.466190770471614, 1.452329755962801, 0.7538883858471132, 0.061631893491256806], [1.2411170868597747, 0.9919672595283862, 1.604045235962801, 1.010111604152887, 1.4123270934912568], [0.6264165431402253, 0.21030249952838603, 0.8195472459628012, 0.012923935847113044, 0.29383662349125683], [2.369513113140225, 0.878062590471614, 1.0164256340371987, 1.8161243958471132, 1.0607621365087434], [0.5636829731402253, 1.0937430895283862, 1.3700686740371988, 0.8704992441528869, 0.7162521265087433], [0.9702258268597748, 1.3621106495283861, 0.1193342159628012, 1.322342974152887, 0.16297022650874315], [1.5656752868597748, 1.2600575504716138, 1.6104461559628014, 0.826215335847113, 1.3227371434912567], [0.7341497231402252, 0.616518699528386, 0.8389191759628011, 0.893558585847113, 0.6873428534912568], [1.5067347231402253, 0.8425624195283861, 0.5938263240371988, 1.772080864152887, 0.6958404865087432], [0.002359996859774699, 0.649704170471614, 1.622809044037199, 0.6141909458471131, 0.6804543865087432], [1.6213905168597746, 0.3324652195283861, 0.4796654240371988, 1.102349795847113, 0.08900701349125678], [0.2593854868597747, 1.3622295295283862, 0.6482056759628012, 0.5436590041528869, 0.5870390734912568], [2.2462224131402255, 0.20148966047161393, 1.5001817759628011, 0.655819754152887, 0.6207834134912568], [1.6836075531402253, 0.029962300471613912, 0.6650522359628012, 0.8804844258471131, 1.2472348665087432], [1.1183459068597748, 1.0006795495283862, 1.0322975840371988, 0.7524005058471132, 0.4770563965087432], [1.2734664368597746, 0.06820482952838608, 1.416038134037199, 1.7763653541528868, 0.7575794034912569], [0.0220406868597747, 0.986440120471614, 0.34463992596280113, 0.14445889584711302, 0.8940524334912567], [1.9265109231402255, 1.0082704695283862, 1.5523795859628011, 1.9103201858471133, 0.2873190834912568]], 'mahalanobis_dist_time': [2.148830605697322, 1.3015313612113797, 2.9516972363358738, 2.107267977336354, 1.775611967397989, 2.5421892752593163, 2.403465082370484, 2.9302941208592626, 0.9726098466532233, 1.4641013444073692, 1.7502559698807687, 1.9839710845048122, 2.2338009337543645, 2.1783063095184136, 2.357285674656759, 2.0351662849455976, 1.526519071061848, 3.2143665517074735, 2.3029523573274187, 0.9670828952484506, 2.0352945495652834, 2.669550383269576, 2.0983784241316528, 1.9941018233533163, 3.2889713055163474, 2.427282831336559, 0.7949094718527553, 2.9676993828587173, 2.2037749621160687, 2.5757733042147697], 'mahalanobis_dist_feat': [6.102067809065013, 5.9457340283462825, 5.396161514657008, 6.048451629665227, 5.194197151571253], 'feat_anom_flags': 0, 'X_feat_abs_recon_err': [[0.0758672631402253, 0.564033599528386, 0.5584577159628011, 0.10595217584711303, 0.25215953650874323], [1.8348363831402255, 1.0833570795283862, 1.3484165959628012, 1.364639215847113, 0.7342237965087431], [1.5007496531402253, 1.214638150471614, 1.4340360859628012, 0.13617426415288694, 1.001753536508743], [1.5836752068597746, 0.5667616604716139, 0.03190949403719881, 1.330985724152887, 1.152431893491257], [1.4209776168597748, 1.592930739528386, 1.212537194037199, 1.1299401158471132, 1.071592663491257], [0.7240635331402252, 0.34005082047161395, 0.5341451340371988, 1.2188467858471133, 0.07809108349125682], [1.5387712931402253, 0.4086949504716139, 0.4345276759628012, 0.813373074152887, 1.479060786508743], [0.16989031685977468, 1.2321100995283862, 1.921876455962801, 0.020426964152886973, 0.2580819365087432], [1.3318888468597747, 0.4507401104716139, 0.8155643859628011, 1.225176335847113, 0.7391016334912568], [0.3048014468597747, 0.7062759204716139, 0.5634852740371988, 0.5227823641528869, 0.7277386934912569], [1.7489110831402253, 1.3630597195283862, 1.009553224037199, 1.164173974152887, 0.4096216165087432], [1.3613366031402254, 0.6624238495283861, 0.5991406240371988, 1.2381100258471132, 1.5044852865087432], [0.9649100968597748, 1.466190770471614, 1.452329755962801, 0.7538883858471132, 0.061631893491256806], [1.2411170868597747, 0.9919672595283862, 1.604045235962801, 1.010111604152887, 1.4123270934912568], [0.6264165431402253, 0.21030249952838603, 0.8195472459628012, 0.012923935847113044, 0.29383662349125683], [2.369513113140225, 0.878062590471614, 1.0164256340371987, 1.8161243958471132, 1.0607621365087434], [0.5636829731402253, 1.0937430895283862, 1.3700686740371988, 0.8704992441528869, 0.7162521265087433], [0.9702258268597748, 1.3621106495283861, 0.1193342159628012, 1.322342974152887, 0.16297022650874315], [1.5656752868597748, 1.2600575504716138, 1.6104461559628014, 0.826215335847113, 1.3227371434912567], [0.7341497231402252, 0.616518699528386, 0.8389191759628011, 0.893558585847113, 0.6873428534912568], [1.5067347231402253, 0.8425624195283861, 0.5938263240371988, 1.772080864152887, 0.6958404865087432], [0.002359996859774699, 0.649704170471614, 1.622809044037199, 0.6141909458471131, 0.6804543865087432], [1.6213905168597746, 0.3324652195283861, 0.4796654240371988, 1.102349795847113, 0.08900701349125678], [0.2593854868597747, 1.3622295295283862, 0.6482056759628012, 0.5436590041528869, 0.5870390734912568], [2.2462224131402255, 0.20148966047161393, 1.5001817759628011, 0.655819754152887, 0.6207834134912568], [1.6836075531402253, 0.029962300471613912, 0.6650522359628012, 0.8804844258471131, 1.2472348665087432], [1.1183459068597748, 1.0006795495283862, 1.0322975840371988, 0.7524005058471132, 0.4770563965087432], [1.2734664368597746, 0.06820482952838608, 1.416038134037199, 1.7763653541528868, 0.7575794034912569], [0.0220406868597747, 0.986440120471614, 0.34463992596280113, 0.14445889584711302, 0.8940524334912567], [1.9265109231402255, 1.0082704695283862, 1.5523795859628011, 1.9103201858471133, 0.2873190834912568]]}, {'time_anom_flags': 1, 'X_time_abs_recon_err': [[0.26049844314022536, 0.003897669528386105, 0.08153633403719882, 0.5720804758471131, 0.43977713650874317], [2.4438936731402254, 1.707415629528386, 1.798643185962801, 1.778959505847113, 1.3988900565087432], [1.0089409131402254, 0.8319716504716139, 1.1833272659628014, 0.05075200415288694, 0.8075718265087432], [1.0229845168597747, 0.4165010304716139, 0.2609009979628012, 1.126388934152887, 0.4919430234912568], [1.1471978568597747, 1.857747049528386, 1.3864407440371989, 1.5075464858471133, 0.6902644334912568], [0.9913136731402254, 0.902066170471614, 0.6986218450371988, 0.7391687458471131, 0.48782897650874324], [2.1843362131402255, 1.0048589204716138, 0.6887621109628012, 1.7485585441528868, 0.9034745865087431], [0.4489728731402253, 1.500059529528386, 1.245007605962801, 0.5393488458471131, 0.7206707665087432], [1.6711826268597747, 0.20698979047161392, 0.8646112659628012, 1.620064265847113, 1.2663020534912568], [0.01360498685977471, 0.799560680471614, 0.6366336330371989, 0.9011281541528869, 0.7522084634912568], [1.8515024631402253, 0.8096611895283861, 1.1545855180371989, 0.530055624152887, 0.5396760565087432], [1.1230036331402253, 0.40506562952838604, 0.06378188896280118, 1.4822422958471129, 1.1165826065087434], [0.9829230868597747, 0.912439600471614, 1.7553737859628011, 0.887780025847113, 0.014048506508743175], [1.2988239268597745, 0.9218680695283861, 1.3064513959628012, 0.8155040941528869, 0.5811606234912567], [0.39957995314022526, 0.9908439695283862, 0.16169258796280117, 0.6826846058471131, 0.8255245934912567], [1.9059490131402255, 0.9470664304716139, 0.4929103170371988, 1.0129858658471131, 0.5052291165087432], [1.0249184631402253, 0.41654886952838605, 0.6626144850371989, 0.11106311415288694, 1.298636296508743], [0.8357071668597746, 0.9487249295283862, 0.7103851189628012, 0.46378408415288697, 0.07932387650874317], [1.4049664468597747, 1.412486520471614, 1.215186005962801, 0.885157395847113, 1.172092113491257], [0.7069415931402252, 0.38502254952838605, 1.4141021959628013, 0.542483665847113, 0.2313052534912568], [1.5961455831402254, 0.751265249528386, 0.2851059615371988, 1.728267024152887, 1.3688433165087432], [7.033847693140225, 0.8756247904716139, 15.247986614037199, 7.238559404152887, 22.953809703491256], [28.436788483140226, 0.2677183995283861, 2.246971475962801, 29.793193335847114, 2.482301933491257], [3.4385181231402253, 28.403044759528385, 13.7379840859628, 13.364531795847112, 10.207668833491256], [40.95185838314023, 8.306580739528387, 30.129295314037197, 9.178602605847113, 4.095078436508743], [25.544085923140226, 4.840997770471614, 26.283380114037197, 15.327095694152888, 18.214361796508744], [3.823742903140225, 28.945661970471615, 6.532518095962802, 12.805482005847113, 23.406761206508744], [18.464772336859774, 5.935940199528385, 9.4774980040372, 11.226684905847112, 4.741887623491257], [7.637659023140225, 2.751223599528386, 11.029959985962801, 9.061729884152887, 9.707874556508743], [31.663115106859774, 21.702236750471616, 33.2280793859628, 19.529099315847112, 4.5738623834912575]], 'mahalanobis_dist_time': [2.517847915017671, 3.182979248267645, 2.2330722755812706, 1.6967644046150687, 2.6745728123113417, 0.8547071244058541, 1.9539897821165477, 1.8103138059548691, 2.204442158373108, 2.3604641457321773, 2.228709077932726, 2.3706177860335536, 2.3519549809034026, 0.9191306175010333, 2.000060060214232, 1.8569748793221639, 2.7425851327309725, 1.82642184497313, 1.7041370910066045, 2.0792604345525194, 2.431523275410884, 62.864077827570455, 57.268728174213926, 65.81348279620441, 85.7295953215747, 72.23274209654994, 79.41854433745725, 31.642038052089877, 31.670168692848456, 78.87110714361167], 'mahalanobis_dist_feat': [187.61689975372815, 147.94284841446392, 181.21972516581565, 147.39675210860122, 137.7242228309902], 'feat_anom_flags': 1, 'X_feat_abs_recon_err': [[0.26049844314022536, 0.003897669528386105, 0.08153633403719882, 0.5720804758471131, 0.43977713650874317], [2.4438936731402254, 1.707415629528386, 1.798643185962801, 1.778959505847113, 1.3988900565087432], [1.0089409131402254, 0.8319716504716139, 1.1833272659628014, 0.05075200415288694, 0.8075718265087432], [1.0229845168597747, 0.4165010304716139, 0.2609009979628012, 1.126388934152887, 0.4919430234912568], [1.1471978568597747, 1.857747049528386, 1.3864407440371989, 1.5075464858471133, 0.6902644334912568], [0.9913136731402254, 0.902066170471614, 0.6986218450371988, 0.7391687458471131, 0.48782897650874324], [2.1843362131402255, 1.0048589204716138, 0.6887621109628012, 1.7485585441528868, 0.9034745865087431], [0.4489728731402253, 1.500059529528386, 1.245007605962801, 0.5393488458471131, 0.7206707665087432], [1.6711826268597747, 0.20698979047161392, 0.8646112659628012, 1.620064265847113, 1.2663020534912568], [0.01360498685977471, 0.799560680471614, 0.6366336330371989, 0.9011281541528869, 0.7522084634912568], [1.8515024631402253, 0.8096611895283861, 1.1545855180371989, 0.530055624152887, 0.5396760565087432], [1.1230036331402253, 0.40506562952838604, 0.06378188896280118, 1.4822422958471129, 1.1165826065087434], [0.9829230868597747, 0.912439600471614, 1.7553737859628011, 0.887780025847113, 0.014048506508743175], [1.2988239268597745, 0.9218680695283861, 1.3064513959628012, 0.8155040941528869, 0.5811606234912567], [0.39957995314022526, 0.9908439695283862, 0.16169258796280117, 0.6826846058471131, 0.8255245934912567], [1.9059490131402255, 0.9470664304716139, 0.4929103170371988, 1.0129858658471131, 0.5052291165087432], [1.0249184631402253, 0.41654886952838605, 0.6626144850371989, 0.11106311415288694, 1.298636296508743], [0.8357071668597746, 0.9487249295283862, 0.7103851189628012, 0.46378408415288697, 0.07932387650874317], [1.4049664468597747, 1.412486520471614, 1.215186005962801, 0.885157395847113, 1.172092113491257], [0.7069415931402252, 0.38502254952838605, 1.4141021959628013, 0.542483665847113, 0.2313052534912568], [1.5961455831402254, 0.751265249528386, 0.2851059615371988, 1.728267024152887, 1.3688433165087432], [7.033847693140225, 0.8756247904716139, 15.247986614037199, 7.238559404152887, 22.953809703491256], [28.436788483140226, 0.2677183995283861, 2.246971475962801, 29.793193335847114, 2.482301933491257], [3.4385181231402253, 28.403044759528385, 13.7379840859628, 13.364531795847112, 10.207668833491256], [40.95185838314023, 8.306580739528387, 30.129295314037197, 9.178602605847113, 4.095078436508743], [25.544085923140226, 4.840997770471614, 26.283380114037197, 15.327095694152888, 18.214361796508744], [3.823742903140225, 28.945661970471615, 6.532518095962802, 12.805482005847113, 23.406761206508744], [18.464772336859774, 5.935940199528385, 9.4774980040372, 11.226684905847112, 4.741887623491257], [7.637659023140225, 2.751223599528386, 11.029959985962801, 9.061729884152887, 9.707874556508743], [31.663115106859774, 21.702236750471616, 33.2280793859628, 19.529099315847112, 4.5738623834912575]]}, {'time_anom_flags': 1, 'X_time_abs_recon_err': [[0.041326583140225304, 0.531479719528386, 0.2650055859628012, 0.10311608584711307, 0.3280771254912568], [1.6981172631402253, 1.609335989528386, 1.840323905962801, 1.123095255847113, 1.0333453165087434], [1.4776954931402253, 0.637208600471614, 1.059359455962801, 0.5005740141528869, 0.7679551065087432], [0.8599231868597748, 0.1255285595283861, 0.5239269240371989, 0.517524554152887, 0.4676319508912568], [1.5124215168597746, 0.9353358895283861, 1.2510590240371988, 1.337074485847113, 1.1649339674912569], [1.2237478831402253, 0.6100428804716139, 0.21966665403719882, 1.1776182358471132, 0.1440448824912568], [2.119945843140225, 1.024726970471614, 1.1659598959628013, 1.525901984152887, 1.6668672365087431], [0.0710067068597747, 1.071651549528386, 1.2879115859628012, 0.28270631415288694, 0.8058164365087431], [1.4273637168597746, 0.4579267704716139, 0.5155430759628011, 1.520752425847113, 0.6599013834912568], [0.7142850768597747, 1.1682622804716138, 0.4736584140371988, 0.862834304152887, 1.0810611334912568], [2.1293402531402252, 0.8132069395283861, 0.7492707040371989, 1.308710514152887, 0.13130507950874315], [1.7266407731402253, 0.6369720995283861, 0.005393075962801197, 1.4397205458471132, 1.5701011765087434], [0.7777418768597748, 0.9934852004716139, 0.7969488159628012, 0.192191135847113, 0.2922795914912568], [1.9325408268597746, 1.0332028195283862, 1.596108665962801, 1.1697302541528871, 1.134324980491257], [0.8244308331402252, 1.0357663795283862, 0.7679202759628011, 0.21642365415288695, 0.7139232614912567], [2.4669820431402254, 1.218037570471614, 1.0437209440371988, 1.325968525847113, 0.4438585905087432], [1.3545763931402253, 0.5771811395283861, 1.355382674037199, 0.543299484152887, 1.4061540965087431], [1.2420033068597747, 0.529314619528386, 0.8505417559628011, 0.8948063141528869, 0.26109574950874315], [1.3439734368597747, 0.5909795704716139, 1.3782021659628012, 1.1582280958471132, 1.0823507264912569], [0.9574123631402254, 0.09755743047161392, 0.9844170359628012, 1.0047819958471131, 0.8123367084912568], [1.5588513231402255, 0.9787138395283861, 0.6066859340371988, 1.680947374152887, 1.3657739665087432], [1.0940566531402254, 4.513399340471614, 12.1709732740372, 9.924519835847113, 10.957654826508742], [20.429318443140225, 0.6226271195283861, 0.8188103059628012, 26.416138714152886, 0.9732983965087433], [1.3902278868597746, 29.333583120471616, 20.6991951159628, 0.7429371141528869, 18.512741673491256], [28.650901146859773, 6.720454459528385, 24.376963224037198, 8.831207265847112, 11.109629626508744], [15.870793933140224, 1.7511466704716139, 21.305748535962802, 16.778952244152887, 23.876359726508745], [7.131242713140225, 14.146693399528386, 3.4348545459628013, 26.247429414152887, 14.697385473491257], [11.876226633140226, 7.1858190295283855, 20.100597415962802, 6.706055865847113, 0.9808558765087433], [14.881666563140225, 6.5547767595283855, 6.213036155962802, 8.479335684152888, 14.934423973491256], [32.65880560314022, 13.631896419528386, 13.171704705962801, 26.946527794152885, 6.912182526508743]], 'mahalanobis_dist_time': [2.2968162157431538, 2.309889201581405, 1.6960047651348436, 1.7235886091510562, 1.3673441034982228, 2.204118361197829, 2.620127855181002, 2.0010356990512266, 1.6472704335529749, 1.6803661668377763, 2.240852636670912, 2.7683932442810204, 1.7891565286741602, 1.9754452342142332, 1.5876954287531753, 2.4290264690615775, 2.6063422844571518, 1.254903578285351, 1.5358711104756182, 1.7783302590446437, 2.157143903695459, 38.80383091486202, 51.048083935948604, 74.6032159329319, 66.52606741940131, 73.32912130434161, 68.4162155023523, 38.67013801017298, 40.774574695061816, 62.15135120554746], 'mahalanobis_dist_feat': [154.80472867858936, 120.67007392615096, 149.4103490018799, 161.76607006271323, 134.19617396614586], 'feat_anom_flags': 1, 'X_feat_abs_recon_err': [[0.041326583140225304, 0.531479719528386, 0.2650055859628012, 0.10311608584711307, 0.3280771254912568], [1.6981172631402253, 1.609335989528386, 1.840323905962801, 1.123095255847113, 1.0333453165087434], [1.4776954931402253, 0.637208600471614, 1.059359455962801, 0.5005740141528869, 0.7679551065087432], [0.8599231868597748, 0.1255285595283861, 0.5239269240371989, 0.517524554152887, 0.4676319508912568], [1.5124215168597746, 0.9353358895283861, 1.2510590240371988, 1.337074485847113, 1.1649339674912569], [1.2237478831402253, 0.6100428804716139, 0.21966665403719882, 1.1776182358471132, 0.1440448824912568], [2.119945843140225, 1.024726970471614, 1.1659598959628013, 1.525901984152887, 1.6668672365087431], [0.0710067068597747, 1.071651549528386, 1.2879115859628012, 0.28270631415288694, 0.8058164365087431], [1.4273637168597746, 0.4579267704716139, 0.5155430759628011, 1.520752425847113, 0.6599013834912568], [0.7142850768597747, 1.1682622804716138, 0.4736584140371988, 0.862834304152887, 1.0810611334912568], [2.1293402531402252, 0.8132069395283861, 0.7492707040371989, 1.308710514152887, 0.13130507950874315], [1.7266407731402253, 0.6369720995283861, 0.005393075962801197, 1.4397205458471132, 1.5701011765087434], [0.7777418768597748, 0.9934852004716139, 0.7969488159628012, 0.192191135847113, 0.2922795914912568], [1.9325408268597746, 1.0332028195283862, 1.596108665962801, 1.1697302541528871, 1.134324980491257], [0.8244308331402252, 1.0357663795283862, 0.7679202759628011, 0.21642365415288695, 0.7139232614912567], [2.4669820431402254, 1.218037570471614, 1.0437209440371988, 1.325968525847113, 0.4438585905087432], [1.3545763931402253, 0.5771811395283861, 1.355382674037199, 0.543299484152887, 1.4061540965087431], [1.2420033068597747, 0.529314619528386, 0.8505417559628011, 0.8948063141528869, 0.26109574950874315], [1.3439734368597747, 0.5909795704716139, 1.3782021659628012, 1.1582280958471132, 1.0823507264912569], [0.9574123631402254, 0.09755743047161392, 0.9844170359628012, 1.0047819958471131, 0.8123367084912568], [1.5588513231402255, 0.9787138395283861, 0.6066859340371988, 1.680947374152887, 1.3657739665087432], [1.0940566531402254, 4.513399340471614, 12.1709732740372, 9.924519835847113, 10.957654826508742], [20.429318443140225, 0.6226271195283861, 0.8188103059628012, 26.416138714152886, 0.9732983965087433], [1.3902278868597746, 29.333583120471616, 20.6991951159628, 0.7429371141528869, 18.512741673491256], [28.650901146859773, 6.720454459528385, 24.376963224037198, 8.831207265847112, 11.109629626508744], [15.870793933140224, 1.7511466704716139, 21.305748535962802, 16.778952244152887, 23.876359726508745], [7.131242713140225, 14.146693399528386, 3.4348545459628013, 26.247429414152887, 14.697385473491257], [11.876226633140226, 7.1858190295283855, 20.100597415962802, 6.706055865847113, 0.9808558765087433], [14.881666563140225, 6.5547767595283855, 6.213036155962802, 8.479335684152888, 14.934423973491256], [32.65880560314022, 13.631896419528386, 13.171704705962801, 26.946527794152885, 6.912182526508743]]}, {'time_anom_flags': 1, 'X_time_abs_recon_err': [[0.2233460068597747, 0.09653690647161392, 0.19327068403719883, 0.24498625415288694, 0.25121004650874323], [1.8629547431402256, 1.423074919528386, 1.6557703859628012, 1.7121253158471132, 0.7012144565087431], [0.5928132831402253, 0.3134845037716139, 1.5189125859628012, 0.897256004152887, 0.5220739865087431], [0.7450337868597747, 0.4215095516716139, 0.2874937240371988, 1.054440504152887, 0.8867325234912569], [1.4361989468597747, 1.8518933595283862, 0.8083511940371988, 0.8030994558471131, 1.0406947634912567], [1.2845013531402254, 0.8129357734716139, 0.4522488240371988, 0.288401885847113, 0.11432841349125683], [2.3418294131402253, 0.5918778564716138, 1.141306315962801, 1.041435774152887, 1.009028906508743], [0.1998665468597747, 1.3671004995283862, 1.3191913659628014, 0.25096053415288694, 0.12881508650874318], [1.6806327268597747, 0.26001024757161395, 0.9251297159628012, 1.4249797058471132, 1.159788653491257], [0.2971831768597747, 0.5814653054716139, 0.2962633740371988, 0.509480234152887, 0.5286741834912568], [1.3453729431402253, 1.399580199528386, 0.7334496740371987, 0.46872978415288696, 0.41152812650874315], [2.0532078331402253, 0.611933617528386, 0.21466072403719882, 1.516518605847113, 0.9361656265087431], [0.9549468368597747, 0.631936336471614, 1.3986172959628012, 0.889814405847113, 0.17790108650874314], [1.0495435968597746, 1.4948125395283862, 1.166781175962801, 1.5919019241528871, 1.2567914134912568], [0.36766957314022525, 0.5774890515283861, 0.4551815859628012, 0.6630329658471131, 0.8822820934912567], [1.7867032531402254, 1.004709572471614, 1.3854220540371989, 1.190548535847113, 0.6456905765087432], [1.3181563631402253, 0.9480634495283862, 0.8306278740371988, 0.611467794152887, 0.8132464565087433], [0.8090501968597748, 1.1335404995283862, 0.9014880059628011, 1.065523214152887, 0.5187758734912568], [1.2333172468597746, 0.8059905284716139, 2.0572440759628012, 1.4277183558471132, 1.4203133834912567], [1.5459973231402253, 0.16342896047161393, 1.4739563659628012, 0.35071216584711307, 0.4990807434912568], [2.115092003140225, 0.9608417395283861, 0.5412845140371988, 0.837508054152887, 0.49764629650874315], [9.223263866859774, 8.985608059528387, 13.5835937840372, 11.253131265847113, 22.744043023491255], [11.544962343140226, 10.131167719528387, 2.370094795962801, 25.762925304152887, 6.409805776508743], [6.464524556859774, 25.403515480471615, 18.119522135962804, 3.9570986758471127, 21.398147026508745], [23.126749583140224, 0.020186952471613895, 13.7049452840372, 11.208071664152888, 7.192919593491257], [26.709323646859776, 4.806946630471614, 12.843339344037199, 13.361742834152889, 24.148111563491256], [2.075866516859775, 10.585685719528387, 14.2262978559628, 14.664761875847113, 9.886964343491258], [17.259790936859776, 3.3713982095283863, 9.6433754559628, 12.563705144152888, 3.8525588465087437], [11.675890766859775, 5.601978409528385, 0.35158384403719883, 8.398601704152888, 7.917995166508742], [26.165796703140224, 18.432529380471614, 17.143367455962803, 40.95852431415289, 2.7868426634912566]], 'mahalanobis_dist_time': [2.4946224057031126, 2.204522079118653, 2.306138895374405, 1.7148502323996058, 2.534530224651809, 2.4201019879680494, 2.3929165744013976, 2.4086842267576003, 1.8317900406551237, 1.787939855147339, 2.1561332831734723, 2.066330635537943, 1.7656033827383426, 2.51580363121863, 1.6001847262610496, 1.2554160220900084, 1.1331751522939517, 1.3888273411821375, 3.095770054434416, 2.9089206010500237, 2.385105332353339, 60.1870688412658, 56.85182288825423, 72.16911279759287, 43.3653537099271, 70.46673351834019, 47.36289547761341, 30.02313755861328, 25.23795007926314, 89.91554945218928], 'mahalanobis_dist_feat': [151.8489352128129, 119.59015828602205, 119.66937759026852, 171.64901689627388, 147.06028185649018], 'feat_anom_flags': 1, 'X_feat_abs_recon_err': [[0.2233460068597747, 0.09653690647161392, 0.19327068403719883, 0.24498625415288694, 0.25121004650874323], [1.8629547431402256, 1.423074919528386, 1.6557703859628012, 1.7121253158471132, 0.7012144565087431], [0.5928132831402253, 0.3134845037716139, 1.5189125859628012, 0.897256004152887, 0.5220739865087431], [0.7450337868597747, 0.4215095516716139, 0.2874937240371988, 1.054440504152887, 0.8867325234912569], [1.4361989468597747, 1.8518933595283862, 0.8083511940371988, 0.8030994558471131, 1.0406947634912567], [1.2845013531402254, 0.8129357734716139, 0.4522488240371988, 0.288401885847113, 0.11432841349125683], [2.3418294131402253, 0.5918778564716138, 1.141306315962801, 1.041435774152887, 1.009028906508743], [0.1998665468597747, 1.3671004995283862, 1.3191913659628014, 0.25096053415288694, 0.12881508650874318], [1.6806327268597747, 0.26001024757161395, 0.9251297159628012, 1.4249797058471132, 1.159788653491257], [0.2971831768597747, 0.5814653054716139, 0.2962633740371988, 0.509480234152887, 0.5286741834912568], [1.3453729431402253, 1.399580199528386, 0.7334496740371987, 0.46872978415288696, 0.41152812650874315], [2.0532078331402253, 0.611933617528386, 0.21466072403719882, 1.516518605847113, 0.9361656265087431], [0.9549468368597747, 0.631936336471614, 1.3986172959628012, 0.889814405847113, 0.17790108650874314], [1.0495435968597746, 1.4948125395283862, 1.166781175962801, 1.5919019241528871, 1.2567914134912568], [0.36766957314022525, 0.5774890515283861, 0.4551815859628012, 0.6630329658471131, 0.8822820934912567], [1.7867032531402254, 1.004709572471614, 1.3854220540371989, 1.190548535847113, 0.6456905765087432], [1.3181563631402253, 0.9480634495283862, 0.8306278740371988, 0.611467794152887, 0.8132464565087433], [0.8090501968597748, 1.1335404995283862, 0.9014880059628011, 1.065523214152887, 0.5187758734912568], [1.2333172468597746, 0.8059905284716139, 2.0572440759628012, 1.4277183558471132, 1.4203133834912567], [1.5459973231402253, 0.16342896047161393, 1.4739563659628012, 0.35071216584711307, 0.4990807434912568], [2.115092003140225, 0.9608417395283861, 0.5412845140371988, 0.837508054152887, 0.49764629650874315], [9.223263866859774, 8.985608059528387, 13.5835937840372, 11.253131265847113, 22.744043023491255], [11.544962343140226, 10.131167719528387, 2.370094795962801, 25.762925304152887, 6.409805776508743], [6.464524556859774, 25.403515480471615, 18.119522135962804, 3.9570986758471127, 21.398147026508745], [23.126749583140224, 0.020186952471613895, 13.7049452840372, 11.208071664152888, 7.192919593491257], [26.709323646859776, 4.806946630471614, 12.843339344037199, 13.361742834152889, 24.148111563491256], [2.075866516859775, 10.585685719528387, 14.2262978559628, 14.664761875847113, 9.886964343491258], [17.259790936859776, 3.3713982095283863, 9.6433754559628, 12.563705144152888, 3.8525588465087437], [11.675890766859775, 5.601978409528385, 0.35158384403719883, 8.398601704152888, 7.917995166508742], [26.165796703140224, 18.432529380471614, 17.143367455962803, 40.95852431415289, 2.7868426634912566]]}, {'time_anom_flags': 0, 'X_time_abs_recon_err': [[0.2099783768597747, 0.4488962495283861, 0.2497549859628012, 0.362854344152887, 0.3486094034912568], [2.520469383140225, 1.465669169528386, 1.4789907659628012, 1.362772955847113, 1.3462819465087432], [0.9389955631402254, 0.3342354504716139, 0.9021278559628011, 0.039160034152886936, 1.0677867965087433], [0.8504743668597747, 0.26093766047161393, 0.06955794596280118, 0.49112388415288694, 0.2932257234912568], [1.5834273868597746, 1.419727439528386, 1.1959222740371989, 1.0211466858471132, 0.6649231934912568], [0.6832587931402252, 0.726311010471614, 0.8684990440371988, 0.434138355847113, 0.09151444349125681], [1.5471353431402253, 0.7084433804716139, 1.201706075962801, 1.073576434152887, 1.5683125465087433], [0.1279313668597747, 1.757091079528386, 1.4054337459628012, 0.570777185847113, 0.3021231565087432], [1.7900264468597746, 0.3745080604716139, 0.6920064059628012, 1.9790661958471132, 1.3568206934912568], [0.1243676368597747, 0.8579172704716138, 0.6575470840371989, 0.35532172415288693, 0.5594233634912568], [1.4058222631402253, 1.754153039528386, 1.594178134037199, 0.791203144152887, 1.0269567265087431], [1.9166259431402253, 0.28827137952838605, 0.43336713403719884, 1.7857899758471132, 1.6612708165087433], [0.5285880368597746, 0.8641927804716139, 1.5549773759628014, 0.5195343658471131, 0.3532301065087432], [1.5836347168597746, 0.6403139395283861, 1.444585875962801, 1.170701314152887, 0.9642437234912568], [0.38004627314022527, 0.6082192995283862, 0.8207829559628012, 0.03645405584711303, 0.9177967334912568], [2.359917603140225, 0.7868026904716139, 0.9379034440371988, 1.9210272758471132, 0.3593447165087432], [1.2902431631402254, 0.7777656195283862, 0.4894490640371988, 0.5968824641528869, 1.2575754565087434], [0.8191746268597746, 1.2735262395283862, 0.1425807059628012, 0.636784614152887, 0.3535459965087432], [0.9765600168597748, 1.186751400471614, 1.168194885962801, 1.178072125847113, 1.2957928734912567], [0.9014752231402254, 0.655159469528386, 1.082010475962801, 0.983100375847113, 0.5900178034912568], [2.253077583140225, 0.9598307495283862, 0.1189830059628012, 0.963298244152887, 0.6580339565087433], [0.09091466314022528, 0.7425466104716139, 0.6666500240371989, 0.17532306415288695, 0.6695587065087433], [2.0354457468597746, 0.5385561404716139, 0.039539024037198806, 1.7266542358471133, 0.4974677534912568], [0.20301080685977468, 0.9798964195283861, 0.9282862559628012, 0.427711024152887, 0.5869785534912568], [2.055202993140225, 0.18573116047161392, 1.978196375962801, 1.235455774152887, 0.1087256334912568], [1.5738774131402253, 0.7006951304716139, 0.28931414596280114, 1.572724435847113, 1.0398430765087432], [0.3761075668597747, 0.9992149795283862, 0.4323353340371988, 0.8731118358471129, 1.2242495265087432], [1.7679874068597747, 0.3639861704716139, 0.9547695040371988, 1.581637614152887, 1.0881949034912568], [0.8381490431402254, 0.610551140471614, 0.2679978659628012, 0.07918917415288695, 1.1908203634912566], [2.4639336431402254, 1.2145255495283862, 1.857033925962801, 1.0892721458471128, 0.5026790565087432]], 'mahalanobis_dist_time': [2.0956011272382886, 2.9421146350497427, 2.6244769773917005, 2.136799069616974, 1.4462641930012787, 1.7198708763922426, 2.2629941298001746, 2.8064502763076673, 2.620676100964794, 1.6982006721991978, 2.2985538009753226, 2.934736374156358, 1.864015642490951, 1.4646409182529039, 1.9933876295799948, 2.4141526596939045, 1.896932460229846, 2.3778243030173702, 1.7615355635054504, 0.9542177137669515, 2.8744830796339076, 1.7843621950604875, 2.6376113900549516, 1.560916108459343, 3.315424642377493, 1.896009553409614, 2.1390986190183146, 1.7633680762073336, 2.55579978129875, 2.910271756983787], 'mahalanobis_dist_feat': [5.9859997512345595, 5.2530774488670575, 5.984970733168748, 5.78916383205189, 6.116867005495299], 'feat_anom_flags': 0, 'X_feat_abs_recon_err': [[0.2099783768597747, 0.4488962495283861, 0.2497549859628012, 0.362854344152887, 0.3486094034912568], [2.520469383140225, 1.465669169528386, 1.4789907659628012, 1.362772955847113, 1.3462819465087432], [0.9389955631402254, 0.3342354504716139, 0.9021278559628011, 0.039160034152886936, 1.0677867965087433], [0.8504743668597747, 0.26093766047161393, 0.06955794596280118, 0.49112388415288694, 0.2932257234912568], [1.5834273868597746, 1.419727439528386, 1.1959222740371989, 1.0211466858471132, 0.6649231934912568], [0.6832587931402252, 0.726311010471614, 0.8684990440371988, 0.434138355847113, 0.09151444349125681], [1.5471353431402253, 0.7084433804716139, 1.201706075962801, 1.073576434152887, 1.5683125465087433], [0.1279313668597747, 1.757091079528386, 1.4054337459628012, 0.570777185847113, 0.3021231565087432], [1.7900264468597746, 0.3745080604716139, 0.6920064059628012, 1.9790661958471132, 1.3568206934912568], [0.1243676368597747, 0.8579172704716138, 0.6575470840371989, 0.35532172415288693, 0.5594233634912568], [1.4058222631402253, 1.754153039528386, 1.594178134037199, 0.791203144152887, 1.0269567265087431], [1.9166259431402253, 0.28827137952838605, 0.43336713403719884, 1.7857899758471132, 1.6612708165087433], [0.5285880368597746, 0.8641927804716139, 1.5549773759628014, 0.5195343658471131, 0.3532301065087432], [1.5836347168597746, 0.6403139395283861, 1.444585875962801, 1.170701314152887, 0.9642437234912568], [0.38004627314022527, 0.6082192995283862, 0.8207829559628012, 0.03645405584711303, 0.9177967334912568], [2.359917603140225, 0.7868026904716139, 0.9379034440371988, 1.9210272758471132, 0.3593447165087432], [1.2902431631402254, 0.7777656195283862, 0.4894490640371988, 0.5968824641528869, 1.2575754565087434], [0.8191746268597746, 1.2735262395283862, 0.1425807059628012, 0.636784614152887, 0.3535459965087432], [0.9765600168597748, 1.186751400471614, 1.168194885962801, 1.178072125847113, 1.2957928734912567], [0.9014752231402254, 0.655159469528386, 1.082010475962801, 0.983100375847113, 0.5900178034912568], [2.253077583140225, 0.9598307495283862, 0.1189830059628012, 0.963298244152887, 0.6580339565087433], [0.09091466314022528, 0.7425466104716139, 0.6666500240371989, 0.17532306415288695, 0.6695587065087433], [2.0354457468597746, 0.5385561404716139, 0.039539024037198806, 1.7266542358471133, 0.4974677534912568], [0.20301080685977468, 0.9798964195283861, 0.9282862559628012, 0.427711024152887, 0.5869785534912568], [2.055202993140225, 0.18573116047161392, 1.978196375962801, 1.235455774152887, 0.1087256334912568], [1.5738774131402253, 0.7006951304716139, 0.28931414596280114, 1.572724435847113, 1.0398430765087432], [0.3761075668597747, 0.9992149795283862, 0.4323353340371988, 0.8731118358471129, 1.2242495265087432], [1.7679874068597747, 0.3639861704716139, 0.9547695040371988, 1.581637614152887, 1.0881949034912568], [0.8381490431402254, 0.610551140471614, 0.2679978659628012, 0.07918917415288695, 1.1908203634912566], [2.4639336431402254, 1.2145255495283862, 1.857033925962801, 1.0892721458471128, 0.5026790565087432]]}]}\n"
     ]
    }
   ],
   "source": [
    "# Send instance dictionary to receive response from ML-Engine for online prediction\n",
    "from googleapiclient import discovery\n",
    "from oauth2client.client import GoogleCredentials\n",
    "import json\n",
    "\n",
    "credentials = GoogleCredentials.get_application_default()\n",
    "api = discovery.build(\"ml\", \"v1\", credentials = credentials)\n",
    "\n",
    "request_data = {\"instances\": instances}\n",
    "\n",
    "parent = \"projects/%s/models/%s/versions/%s\" % (PROJECT, \"anomaly_detection_lstm_labeled\", \"v1\")\n",
    "response = api.projects().predict(body = request_data, name = parent).execute()\n",
    "print(\"response = {}\".format(response))"
   ]
  },
  {
   "cell_type": "markdown",
   "metadata": {},
   "source": [
    "### PCA Autoencoder"
   ]
  },
  {
   "cell_type": "code",
   "execution_count": 37,
   "metadata": {},
   "outputs": [
    {
     "name": "stdout",
     "output_type": "stream",
     "text": [
      "response = {'predictions': [{'time_anom_flags': 0, 'X_time_abs_recon_err': [[0.1728792878886382, 0.38050960188316113, 0.4029056164752808, 0.014843864134493515, 0.37395442642699095], [0.4715622077460193, 1.347448091416575, 0.785070509241718, 0.8864118912527625, 0.5991388918543972], [0.07542798900316616, 0.9324050785330078, 1.4750373173605118, 0.842387971324521, 0.09149046337009026], [0.03565646553488011, 0.28264294850716104, 0.20999200847594207, 0.548774838816692, 0.03581776391927072], [0.04857788467463031, 1.6307784060092017, 0.9157590530057195, 1.7208385907098551, 0.43585294321592793], [0.08302349375710694, 0.594693984257074, 0.8856290524187558, 0.4176409110762759, 0.12889025356158673], [0.09530165447389516, 0.45055417216711735, 0.665313418520593, 1.623702553827909, 0.10392648557085626], [0.2739479466248842, 1.3930425583357011, 1.0185947463993117, 0.4249053603401392, 0.45873233970642757], [0.13365573982912693, 0.17217907084086995, 1.1986905131399577, 1.1517720570728396, 0.12126985198854712], [0.24845904679578013, 1.1880619607290213, 0.9859909297654784, 0.6436712876562145, 0.19287617704075366], [0.13594007029168353, 1.0171186014928242, 1.2784012475580664, 1.4000823599104437, 0.12488362959084803], [0.4897672949790024, 0.19616328853228673, 0.8283159455242809, 0.7221420214986466, 0.9013516465059854], [0.3550484368612675, 0.8864279529676279, 1.1888604912430674, 1.039495035958067, 0.391183443633895], [0.14978289051623084, 1.0876284509109018, 1.4372295908829087, 1.148681848772212, 0.26076165821228725], [0.314069020530729, 0.8424097050065118, 0.35610849945073814, 0.4177321980357273, 0.7903353416689556], [0.1905543191480743, 1.7039482095576493, 1.7819414357829668, 1.6390276190224518, 0.453604383708783], [0.20921289429137113, 0.6020044988508099, 0.983500244829965, 0.6306762999798095, 0.6319820117769717], [0.32718008361474604, 1.1962242500306124, 0.582147108614947, 0.6881004832167275, 0.6779280458430352], [0.17232633501321182, 1.3118240904438658, 1.1764265975700527, 1.464303721692587, 0.7260568890690253], [0.358453545471764, 0.31808169475452563, 0.9201244368691797, 0.0616472574844211, 0.8413495711338715], [0.10692662989975932, 0.6465683179374174, 0.23440964649789803, 2.009688625614823, 0.21352955529548678], [0.6043914790523565, 0.6813561708451241, 1.6687901576118795, 0.2969131760420143, 1.3526022257830763], [0.12983898065146438, 0.6839576294312851, 0.7523782951815929, 1.9368577704840364, 0.04131239627954275], [0.1220345094172488, 1.640558971015686, 1.2562490560470456, 1.1295868801647388, 0.21462947247926095], [0.39876846267956045, 0.3289106931684142, 1.6243229819560567, 1.374443925790487, 0.6637382324583403], [0.4606220653113897, 0.8687013735311647, 0.04989106353229171, 0.7825923618061821, 0.7812223484486842], [0.5086946644581247, 1.068108589143949, 1.2738201993565308, 0.374496569223813, 1.0232049789307096], [0.3076651744359653, 0.5716118279685477, 1.0894108555434727, 1.6841223020662928, 0.10468052347891632], [0.2856675501300898, 1.0359647873800646, 0.19119247015567598, 0.01274467251472218, 0.4964996392240315], [0.39453930759759603, 1.4521480454050721, 0.8759810348055608, 0.7141396865872618, 1.0986065726222518]], 'mahalanobis_dist_time': [2.197329332734209, 2.1913404431949277, 1.722871751276668, 2.2749541835570466, 3.1388140120230053, 1.6952887009587414, 1.7798195121067997, 1.6493076755438187, 2.1108743151313467, 1.726334707874184, 1.4766816570309669, 2.3643634231702344, 1.5461185693824189, 1.3031926913369787, 1.798474524849817, 2.740170534844588, 1.3013880830570912, 1.4850914514626716, 2.5062592165627597, 2.322049740753373, 2.7038674154279145, 3.592482715695399, 2.248984947778074, 2.078452541804401, 2.8314451209766704, 2.342306525197481, 2.2077739245279746, 2.6986901091465367, 2.4062494747797225, 2.6665036119002896], 'mahalanobis_dist_feat': [4.447837048992875, 5.997653132559117, 5.6064865423267936, 6.408600294418083, 5.963370203406086], 'feat_anom_flags': 0, 'X_feat_abs_recon_err': [[0.16359614507744555, 0.35457449645076095, 0.43520805241380695, 0.05431161082511013, 0.4097671173957057], [0.13061971319210366, 0.18215938814496363, 0.27203069641330085, 0.08614940598298357, 0.07356217456750895], [0.5429033646429756, 0.8117829765477936, 1.7391924911897239, 0.5610872127027562, 0.012364600629920064], [0.01187795488119886, 0.29675431698940713, 0.6652028412876079, 0.10858353338138962, 0.3895259939296554], [0.06427849106901506, 1.416865984107733, 1.3595962109004436, 1.3183161647815531, 0.29876044107508903], [0.39551634526641755, 0.26260849847880163, 0.40757184891906595, 0.8482592979831008, 0.4311492866808523], [0.11209772615776359, 0.023952376129092734, 1.4722513201918779, 0.8598959611726565, 0.08317921709225062], [0.18606196000760022, 0.5567232886977942, 0.0925109200367975, 1.2618573496026366, 0.37858458178869103], [0.3288934921509872, 0.38367022475471874, 0.2922118632803903, 0.3038142863508605, 0.1175442931698869], [0.10732445137249098, 0.34438627003959216, 0.1579067725816299, 0.1405623078209558, 0.10998267078814386], [0.26622542406721506, 1.5489334511634363, 0.46573428521967797, 0.6528001544734087, 0.19847988706978448], [0.5331264315254602, 0.07925308133334813, 0.9150378575150753, 0.642468901009581, 0.4961929158475366], [0.4561683111985303, 1.0949409438757913, 0.8449986059974358, 0.7223772882663988, 0.359855636428413], [0.23965515309226482, 0.8859742076276915, 0.9455542797385312, 1.590659847115225, 0.009325281726397572], [0.5679413702107827, 0.736802902292867, 0.21545547164661857, 0.30960261086553187, 0.7003668306203553], [0.1807898694836534, 1.3088562672024953, 1.0824391973098308, 2.3006412778375864, 0.659785792041753], [0.24630776206258587, 1.029144389517799, 0.33542293941120127, 0.01693070124822771, 0.5224311493228594], [0.6903390670332893, 1.1746909319239387, 0.3794030397750714, 0.8853078900002282, 0.647903969198416], [0.24621718525900493, 1.727603699016338, 0.4646095229635433, 0.8137000128280703, 0.576578105865571], [0.3051066045065948, 0.10015254339944686, 0.5063941038751877, 0.32250901853975744, 1.1066785698140431], [0.33789139305451465, 0.9890184678857907, 0.42882317506999823, 1.369371285119573, 0.09167091954908968], [0.9616807473662565, 0.025972024825687057, 0.8781916324309889, 1.0297181231959651, 1.278715661446038], [0.05509790209581977, 0.8237432790879984, 1.1292133527295818, 1.6010837809283593, 0.1700982737636786], [0.3000678138544052, 1.365348185472073, 0.8067641108592203, 1.5298910950292886, 0.08414097046669672], [0.647186914870381, 0.13402745635265256, 1.9966650276658253, 1.0040599202802603, 0.6804774107221829], [0.23718326916670474, 1.225909577376634, 0.146734014845239, 0.6147163281679029, 0.5117881525719954], [0.7462591300374071, 0.80747980292374, 1.616725720179318, 0.049283010251021137, 0.8338587023789538], [0.04837893363799295, 0.4352436325478222, 0.16412491993082998, 0.8129137698275407, 0.28790960789328723], [0.28604923684980643, 0.6454867020780257, 0.20412737744108583, 0.37012598972339483, 0.3544983777804082], [0.6602806213557916, 0.41650541373409816, 0.09925134461470697, 0.18402097164658598, 1.5483212173515197]]}, {'time_anom_flags': 0, 'X_time_abs_recon_err': [[0.08993853458548895, 0.18878687393373608, 0.4266784406608093, 0.0829804283414124, 0.23511040604990635], [0.15842789060487839, 1.294126577273684, 0.6910524040922088, 1.471596075748466, 0.1346978030793068], [0.02137064644368314, 0.6370674417085024, 1.321519980327872, 1.114763694084999, 0.07768796892654523], [0.0588666579751953, 0.6839141744682543, 0.6969809260833648, 0.7958630238823438, 0.16123146258904986], [0.01010035026588052, 1.73901859662259, 1.7460336634660436, 1.1059498992489893, 0.14095311876662509], [0.08280948429287371, 0.6994452030617851, 0.49798749488797195, 0.09496193476430853, 0.09785954979185829], [0.15545601942092047, 0.9775222306231545, 0.51715461831471, 1.9341683103337646, 0.09099820411561799], [0.41994472310455266, 1.0306168848929895, 1.000821591777898, 0.09773672590856138, 0.697113279890367], [0.28066189277593057, 0.15627375831534793, 0.8458856889388998, 1.3963520296465972, 0.1723848775879938], [0.03395562004629149, 0.7225272588531184, 0.3302673689294898, 0.321120543940988, 0.07040191192417067], [0.2948555675130523, 1.3226997756239238, 0.9889039300135916, 1.6134436812824235, 0.19102559668711655], [0.17412218253880973, 0.29260583778249877, 0.5875974752241377, 1.3071540598475426, 0.11866367922799104], [0.5054489587625138, 1.1902618687374145, 1.2864516322991724, 1.0300381389235465, 0.6947253955438653], [0.070938319863326, 0.6492615153947456, 1.715306816118788, 0.8301383367933899, 0.18327119768574307], [0.3513175435432047, 0.33268935726926246, 0.5460232176704809, 0.4117533408936026, 0.861073245746736], [0.02774979356997065, 1.0672157993879086, 1.0391638365434643, 1.2488188086550958, 0.04800936675938505], [0.306824948047442, 0.6341710167145472, 1.0041846005116593, 0.5406576340218492, 0.8074231357060997], [0.3581799663844085, 1.0988197277205758, 0.19748786291727555, 1.2211086831582336, 0.9003444875698797], [0.03196648857048001, 1.290174547786919, 1.0025670278201364, 1.2180162854796917, 0.3764722068616777], [0.16122052018513966, 0.5922451515153012, 0.3977690364646044, 0.05490316685640244, 0.37927128257703935], [0.24929833321392025, 1.173242144830231, 0.9671616917126681, 1.633955841146642, 0.09185291393391204], [0.2612072603823312, 0.5611632506846574, 1.5621490223474648, 0.10146483892291125, 0.6956497602885751], [0.27614888349271083, 0.039977580809369494, 0.28176845979608145, 1.4790671138405438, 0.26202025912149696], [0.41635524900798626, 1.1813376596186624, 0.5082692630884734, 0.7722655742845773, 0.771578697383514], [0.4633099799342266, 0.31886108942050545, 1.5972118303983036, 0.7522306126696119, 0.9221659140609239], [0.22014984827950945, 0.6600974597816147, 0.24761944869969488, 1.3908834032954125, 0.14253113799535355], [0.672441132518975, 0.9330315953005921, 1.4401961548344606, 0.19266067767571182, 1.4117132006473585], [0.16659938672162378, 0.5599268480781363, 1.4145142406672488, 0.9209385990535314, 0.7096252712640546], [0.279293037686742, 1.2558664497818026, 0.24953165340245437, 0.3916051115609105, 0.5537603862012315], [0.3003142492948334, 1.296505645122985, 1.4842170405383368, 1.0688796804365035, 1.0477029560412965]], 'mahalanobis_dist_time': [2.4817289024411155, 1.9995719365249243, 1.6946133323814607, 1.2415671808496145, 2.785152277427613, 2.3270695529509, 2.4761263199440693, 1.9058906584690356, 2.4166750156428494, 2.269759054063846, 2.4028265283636814, 1.7519803171379522, 2.196473271704978, 2.222035017315264, 1.9619503048098257, 1.5337878228769253, 1.5207640703444576, 2.6909546807038556, 2.100967627246898, 2.051026493566364, 2.3153197716513065, 2.5763985653872377, 2.498924784249109, 1.7936528101330844, 2.906163636810054, 2.0466798673554254, 3.4923689861285347, 2.263939257124048, 2.1889206502249876, 2.864479115615214], 'mahalanobis_dist_feat': [4.085555810662461, 5.423039684094286, 6.442519046653863, 5.931351873564678, 5.310441433414308], 'feat_anom_flags': 0, 'X_feat_abs_recon_err': [[0.3241349887521856, 0.20954971139451625, 0.40699930722433875, 0.0677078488839582, 0.08611520108662217], [0.3177772107244333, 0.10362386521658434, 0.3857913208132998, 0.5069154329616025, 0.5470794924696397], [0.12274724737424558, 0.595598978813182, 1.496866646067168, 0.8895038113928806, 0.11000754056938603], [0.3361117290149559, 0.03423503211694537, 0.16292519373171235, 0.30594126926764387, 0.57830293610266], [0.4303955583754635, 1.65442125236387, 2.080557533649947, 0.6872754751176234, 0.4561723681855495], [0.4868214878834164, 0.44186826102217763, 0.061886151817484414, 0.5981953888325648, 0.1950493062483129], [0.354311082895725, 0.6928745761523686, 1.1470502903473214, 1.196473328548682, 0.3046660590960852], [0.3728761500105894, 0.26534699182467025, 0.1292905303148707, 0.9601430250569645, 0.2808355796709685], [0.17557271629177706, 0.48631331171227904, 0.1794268974708496, 0.6681255973019071, 0.16805467699811594], [0.04930038204076352, 0.11657281721767344, 0.4953651443184093, 0.4679483915453624, 0.4117973839131497], [0.4232474280555445, 1.6735167989314643, 0.3616263041152755, 0.9410616355476042, 0.3965845205372268], [0.20788321732849435, 0.07191384933033476, 0.7458732364715404, 1.249952797242228, 0.08510557054288467], [0.1522018583299657, 1.3049988811823856, 1.0485044559598422, 0.7814222213640374, 0.7592895460690395], [0.03361732989970356, 0.6183123845400821, 1.3817700068467076, 1.2517789441786205, 0.3087698406851083], [0.2548950943918932, 0.2502803023197302, 0.415870347515333, 0.27330060898151154, 0.9971759948102095], [0.5768031162325631, 0.835165790983275, 0.47615693818349913, 1.934795586303544, 0.3372191888219228], [0.6955426824658036, 0.9227141735878721, 0.5017891048946841, 0.00452741896600406, 0.7288574803833556], [0.6480414749413497, 1.1798515420703717, 0.09620963599004145, 1.3866744915139841, 0.7464828859278446], [0.6777642575852534, 1.5105649840926565, 0.49871311514114514, 0.6718516359145591, 0.22953734268489817], [0.5889119083943469, 0.19368512277624222, 0.019347839653129598, 0.38528343528837317, 0.4162492926960169], [0.27743376364018024, 1.3177874493945365, 0.5206240764474881, 1.1176502730632558, 0.30746129478727313], [0.48551002125788156, 0.004891307175291182, 0.8532438562299405, 0.8268190420824761, 0.8358793581869965], [0.06963973381907929, 0.04664644128999551, 0.5127989475812867, 1.1912437853639717, 0.3112344626028648], [0.7099857940155583, 1.0210585393589526, 0.17361960524204018, 1.1336945983803415, 0.7617940643998876], [0.3639305205947001, 0.22771181651665048, 1.8576455564635843, 0.4418064019621955, 0.9613988208613315], [0.18539331656667568, 1.0976221330710039, 0.03291610051122973, 1.1848175101150589, 0.1008047687473356], [1.0003403014302363, 0.7219233354620771, 1.7383780602834313, 0.1301196511999296, 1.0947014277880063], [0.553886705553657, 0.4702823113914547, 0.471034642244505, 0.05730697697024137, 0.995904501356247], [0.5414885671433296, 0.8654784429890833, 0.15458529382563002, 0.8012014422513467, 0.2702712173518261], [0.9795948587974277, 0.26524171709672284, 0.5272427212929678, 0.21399732496453958, 1.2811380115843936]]}, {'time_anom_flags': 0, 'X_time_abs_recon_err': [[0.19583093306849136, 0.4656945654085824, 0.24807477430937627, 0.004865931464843692, 0.34132188418772896], [0.4440775835939472, 1.3006378884966683, 1.1312068639713762, 1.5661989279006512, 0.3631542890252766], [0.0571761529739081, 1.2304621783658156, 0.5928448789275996, 0.6336654330699589, 0.23858728205040697], [0.036367992892472056, 0.8688896707145698, 0.20737943120766072, 1.31699636691421, 0.2251672795491838], [0.11772567354025565, 1.524655604434673, 0.9824582192008607, 0.961330399936059, 0.06868715540705794], [0.23808125608309005, 0.9451984050722954, 1.2031001172722116, 0.3451655490995788, 0.37024504937480357], [0.26808085765666156, 1.2707049358715612, 0.22884866535688103, 1.7151819502437822, 0.13414853175432417], [0.02137626829182593, 1.0729739214055491, 1.267773215019887, 0.12299879411143415, 0.25781590679138044], [0.06463553555801527, 0.18734050638935892, 0.5572850187217202, 1.784678470266913, 0.5627043171241073], [0.2156529921868462, 1.1088606122902596, 0.5139744603485069, 0.6493022553613481, 0.1824831673328806], [0.11352795127780024, 1.2598326443725107, 1.9510905634683868, 0.8397637027555052, 0.11344440315645832], [0.3457617060369993, 0.17884315377045207, 0.043798155328400507, 0.7280054606706028, 0.5279041279316545], [0.1449367248317206, 0.7044668416485372, 0.7312802723526477, 0.7797094573465484, 0.07200348039612064], [0.22288466556716546, 0.6351244304141369, 1.6870093160609865, 0.968438360964202, 0.4516693770866411], [0.45440520695666886, 0.9328595032845663, 0.4068370151747394, 0.07432778926164033, 1.0053859036626926], [0.12321032199222093, 0.8767516028933138, 1.5846569921851086, 1.578715917966255, 0.12303135447877356], [0.1569415899855044, 0.3466854098206583, 0.778749593519841, 0.5191605484711456, 0.49319871623595574], [0.11463600887329628, 1.1159226343594966, 0.6270253964473288, 0.9519183321435887, 0.310872883612225], [0.11800761126915904, 1.3496859061230042, 1.3403185743548818, 1.2565573651553021, 0.5903279965257863], [0.24852662591333674, 0.09802663692587595, 0.7619224402544955, 0.781799319619747, 0.7493299651192904], [0.2135816878301422, 1.3112980332552389, 0.22534824255755148, 1.9049276973847167, 0.05162808359411619], [0.498958171398026, 1.0969340951532063, 0.9426041341190868, 0.30735274039022836, 1.0792216513698234], [0.3685026609590927, 0.21904508700899694, 0.9857220804746851, 1.9183135286789277, 0.4414270475298407], [0.35862966667046875, 0.7845432056598732, 1.1938820107687076, 0.3398312406622619, 0.8074293243323065], [0.574000588935685, 0.47082650770717827, 1.7847675455808043, 1.1999390132746388, 1.0603210606492826], [0.255869283713678, 0.36352420750209163, 0.5383840600318506, 0.9197151856102633, 0.26838647475127886], [0.27626495905652415, 0.7886448384787617, 1.4642746714418466, 0.323137647983344, 0.6064138885439916], [0.04285842822875674, 0.8527436044992974, 1.2346576933782991, 0.997716653711117, 0.30338899164457267], [0.3389254808572055, 1.34691739500087, 0.3528074914520688, 0.6528018283203616, 0.7123549739779708], [0.2012234751479991, 1.46726120699561, 1.224571473478009, 1.4841811462893328, 0.9185118213108485]], 'mahalanobis_dist_time': [2.2816404520553517, 2.8606930118461533, 1.970519473909743, 2.2176264247160216, 2.114900247794596, 1.4671027735470377, 3.1080259251719538, 2.4858156887211575, 3.1451680196969436, 1.7941533515552726, 2.514263185357857, 2.1448525918087595, 1.4042001631508556, 1.9343953339539364, 2.386141265810255, 2.0116173073390007, 1.5733279482746045, 1.3675007086540218, 2.2361192560849674, 2.180389283745409, 3.3477022078471332, 2.2127045907169944, 2.9326420554214048, 1.6474903149726772, 3.5630647699432227, 1.4775468872744413, 1.814481751573903, 1.4866137305232767, 2.1538867835623994, 3.2551842936230764], 'mahalanobis_dist_feat': [4.8052523213106175, 6.773887444279001, 6.404006743935779, 6.249772519770319, 5.424254578542681], 'feat_anom_flags': 0, 'X_feat_abs_recon_err': [[0.06275890076894058, 0.4976735871491146, 0.29532823417112913, 0.06338718708963095, 0.44041757681145377], [0.1751775284249832, 0.11794055228868895, 0.08098316318161375, 0.6160837774077326, 0.02289480538646256], [0.2822252436070335, 1.1721837505939388, 0.8281258421567897, 0.3848536531183682, 0.27633823351953735], [0.30727014057762164, 0.22947523536392345, 0.6996696602153227, 0.8259455080285631, 0.740673119553653], [0.0657399203391702, 1.4317711275209815, 1.3740884732118337, 0.6137638767115715, 0.2934308436408018], [0.049791546819717314, 0.6881376818090968, 0.7433889259060981, 0.7712872322480144, 0.5786168565599303], [0.3140093305629541, 0.9583190139753925, 0.9779296151701848, 0.9995151171113565, 0.3109696408909274], [0.3129671784467355, 0.30032140637684823, 0.3569432289911589, 0.7108012868405726, 0.42096580917126325], [0.355639241693702, 0.5550884609349295, 0.25732691932409146, 1.044762665461013, 0.3093197059079765], [0.22657013090010159, 0.26667079107696756, 0.3207996638826377, 0.14972210148807463, 0.19682070638889032], [0.36334165043355604, 1.6606300193985555, 1.1552865590850847, 0.06832045807176002, 0.11450823165528845], [0.18255793667393272, 0.16645499513376716, 0.12886238713742015, 0.6836909952651955, 0.40842779456925365], [0.15551448984520988, 0.8409046205591524, 0.4180633829366209, 0.49437942304928334, 0.08816279318733972], [0.05310200746844007, 0.5720972201557657, 1.2285881135622958, 1.403467735387088, 0.3805310151719724], [0.5328190636247149, 0.8494120044536418, 0.2659351524273955, 0.04442995657186363, 1.0030792830908108], [0.3229549321507945, 0.6198207981405006, 0.9139540424139597, 2.2425665202864797, 0.14246792206448256], [0.6695450103672441, 0.6534258184663496, 0.19728857062962157, 0.008944268529056942, 0.1412124165059191], [0.19036978257556103, 1.1855887753053005, 0.4712802997469859, 1.0915567404095574, 0.42788752822936604], [0.2254794959384745, 1.6219216485264973, 0.6611016316007075, 0.6092808781829355, 0.6469298079740825], [0.6602370660181662, 0.3023022726109541, 0.3768574269143112, 0.44995235611327117, 0.7802431699917699], [0.10546265373778607, 1.4896384433816248, 0.35175161223446694, 1.3714949090398298, 0.4545755391964832], [0.7645928123511457, 0.5169589711762173, 0.17520195363925412, 1.0256038135799963, 1.0494067272566314], [0.01288554668538855, 0.2320687889365789, 1.3028743203385975, 1.650652458360081, 0.797540578041036], [0.7494243153629871, 0.6084033311625423, 0.7907207736367181, 0.6875798824901771, 0.5672473670548405], [0.6399492968007064, 0.36049838717077576, 2.117531240542626, 0.8744986920685355, 1.1711251715357676], [0.43031564945373035, 0.7740009277817765, 0.3443057348937349, 0.7814988405464548, 0.23028714307046527], [0.1928536075305619, 0.5785917782582203, 1.7734301357912576, 0.046064682980524574, 0.5798880427736185], [0.03509325472000066, 0.18187045054599776, 0.2872635146914545, 0.09252421390721408, 0.8232474372640457], [0.028121685422348816, 0.9685879913808727, 0.023270175327150006, 1.0006177788320314, 0.7272136956432328], [0.7625592768986221, 0.4341237030378235, 0.26431564290842063, 0.6164731668491964, 1.2194689857611687]]}, {'time_anom_flags': 0, 'X_time_abs_recon_err': [[0.1563750697268503, 0.3063756637529149, 0.2303949484040614, 0.17513281948681222, 0.23370910128841293], [0.3362182223323513, 1.1597662276254956, 1.2622327546043581, 1.0603806899911377, 0.24879725994237867], [0.18112895455363054, 1.2363283695794904, 1.1001421303512542, 1.2304652113000434, 0.5560882791846031], [0.1600637002368719, 0.6521007253702218, 0.4823498096748297, 0.7054334870020071, 0.08425797472014207], [0.0001127623314407522, 1.308840977787479, 1.2422315183740378, 1.1732035694747205, 0.17195243944124483], [0.01966761534903494, 0.9815284714256788, 0.5407191526226339, 0.8793950389385777, 0.12246857243831111], [0.18710989738751826, 1.1917827600961313, 0.19129511020626302, 1.7937160540208896, 0.7870341223525859], [0.18473854291003533, 1.3852074831218337, 1.5160155989877602, 0.19644052307148369, 0.0941193360823947], [0.08826629300036104, 0.5803434283427849, 1.0648067694153764, 1.3328427568983452, 0.20121321150093396], [0.18680478947894363, 1.4041848540612505, 0.3541758632410242, 0.4468532908659693, 0.17281617880394412], [0.3722600959526384, 0.8299765291369757, 1.6737867933835597, 1.286540228814983, 0.3162662704848624], [0.17002843960696, 0.1654192839664612, 0.5715971278023733, 0.707138003355647, 0.24259459965939167], [0.3409579276887985, 1.6700453564512288, 1.4074522453137603, 0.7696742656059307, 0.43193871297406833], [0.0018900702522537394, 0.8866332670720724, 1.0667278187902391, 1.0868938119370148, 0.06988407353855197], [0.33757929267560516, 0.34148994737875155, 0.013857739229098255, 0.19782612233955033, 0.7264029000144295], [0.04165263530636065, 1.3472295681692041, 1.2676396084642543, 0.8510901926920958, 0.06291156369420436], [0.15833355639179986, 0.1432512827543277, 1.3126890418096582, 0.32373959502472516, 0.5226723809854976], [0.11951075702046565, 0.3524698088859269, 0.040101128105074574, 1.2362197947432307, 0.4808399783794552], [0.10738016846575227, 0.9199371107230475, 1.6250741156251804, 1.3885200532354727, 0.2219756717791307], [0.4027020126550632, 0.6189645427164057, 0.9572695427239583, 0.8380060522686397, 1.112653157808949], [0.11743630820810824, 0.5805806780385165, 0.9211314209894387, 1.6950862598571363, 0.20467387208142784], [0.20334168418188237, 1.2187924752597197, 1.6440174220743544, 0.3701723308582268, 0.7202179362873522], [0.3983783102104661, 0.0726185896885927, 0.26777895393859213, 1.7682024132151302, 0.4399649767736684], [0.46868041852135534, 1.0218838474571346, 0.38894192803098127, 0.8196935495982127, 0.8449092262963676], [0.5314091407952282, 1.2944968775984007, 1.760001978859263, 1.602107671593609, 0.8499562524945767], [0.379826655179069, 0.914096322048766, 0.26658215512161826, 1.1132343917037721, 0.5282191477149167], [0.6855262392404091, 1.522074341438075, 0.6769862083418621, 0.7027931841335373, 1.217512600004056], [0.07961814717559235, 0.4744921868410771, 1.5239121666420985, 1.5083731463382015, 0.3544280523308403], [0.5333280929712877, 1.23239577918654, 0.2073292181253964, 0.5620456817720911, 1.100293414991921], [0.2292331475097018, 1.0963472057698505, 1.2799945781317983, 0.6523496691684965, 0.7859480828103003]], 'mahalanobis_dist_time': [2.2687959660395522, 2.042093005765, 1.5299122935652458, 1.6285562486267344, 1.9482578207769152, 1.7376841907371308, 3.676118261072511, 2.8070448250750664, 1.2837872626749751, 2.5805463149676546, 2.6335148804609414, 1.6688124594070135, 2.262358647246394, 1.4783384451155457, 2.3465100224891016, 1.916512987586368, 2.6241904257782727, 2.3802314675551894, 1.808172482823309, 2.4192518377118803, 1.6698909332925866, 2.3743471966873426, 3.108779284597231, 2.009168257117943, 3.1724587640273088, 1.917180682004186, 3.384971474101791, 2.3045078861477113, 2.9103583484591655, 1.8593261411353048], 'mahalanobis_dist_feat': [5.052006064283414, 5.966293704380199, 4.684008545023723, 5.504710721661249, 5.143588347662961], 'feat_anom_flags': 0, 'X_feat_abs_recon_err': [[0.08004160095564145, 0.33427452228666454, 0.26748784484636773, 0.2238133942999271, 0.24104465475850032], [0.12026817317277527, 0.00013854951696422313, 0.20123572637164996, 0.07818924650012041, 0.32546067016742464], [0.03178519460268292, 1.1023451757471798, 1.3542531821684802, 0.9738335482033795, 0.5354461866796495], [0.24040059804447705, 0.08808488682341961, 0.026860476344098327, 0.25996119218104896, 0.3021268569068539], [0.21309801243333637, 1.0587947058857028, 1.690295690611642, 0.773086936293648, 0.005958277398348921], [0.5746431626766821, 0.5984358875083817, 0.005416370608934407, 1.4338649177143044, 0.14348933485729726], [0.19310591308776304, 0.6613813941209359, 1.018139996708368, 1.0062433405541023, 0.6862997679790825], [0.09656794105178801, 0.5214327945069235, 0.5711635372006943, 0.6705539465051817, 0.11660229740319689], [0.3657368858871508, 1.1827826952332299, 0.1715712810809804, 0.5262839996880752, 0.023069498176840897], [0.488004870289588, 0.5487362621731638, 0.49926896937292836, 0.38573134020447436, 0.35578880044455635], [0.12341227564933788, 1.4102079470329936, 0.8473682868215178, 0.525912397970489, 0.599054509563103], [0.0023108030261899115, 0.07647335894471374, 0.6357398479889815, 0.6634564989279217, 0.0064373392525807205], [0.33979253852470603, 1.9004965316339588, 1.060195829615577, 0.4523205224396186, 0.4100379319869842], [0.1533650806216882, 0.635454780388709, 0.5593747140221016, 1.5458245245823434, 0.2640144184741716], [0.4380549120130688, 0.22333234453759698, 0.16648495157904883, 0.06900861044243262, 0.7294087662120936], [0.46937916751294706, 0.8907145497556448, 0.5243645997131096, 1.5835707953188627, 0.04052439867724589], [0.7701146266664576, 0.5952989104186104, 0.6824661167257049, 0.24579998447579043, 0.1895632114005681], [0.7956518729622698, 0.2944783964426361, 0.1911481374270036, 1.4806607919673207, 0.24229629405881342], [0.4406780010823388, 1.3779683885267722, 0.9198409122721625, 0.7643439121161048, 0.07431839294588805], [0.5865655643057384, 0.203585071007199, 0.5558407828583513, 0.47817774594691287, 1.2629206188398432], [0.11277696137885873, 0.9702103306647889, 0.2513394625831501, 1.055779529109243, 0.055275913977416935], [0.0760788809822206, 0.5255329634837502, 0.8162593186330562, 0.4271624000186236, 0.9369496949955514], [0.33604295133902373, 0.10916537175128743, 0.6609697784401924, 1.4117819964051908, 0.5727698358801669], [0.04394933218893449, 0.6983093962681757, 0.11139793975761764, 1.3093732331390007, 1.1189051954768803], [0.5812590036893605, 1.076264688796133, 2.1317101038387274, 1.2401727883452354, 0.9183688435615425], [0.003007256543006709, 1.2457088565544794, 0.08682825728046573, 0.972083876384412, 0.3743785329899688], [0.6497442861676803, 1.2526645123899172, 1.0102481730744404, 0.40002548237287017, 1.1398190272153277], [0.35397584281456873, 0.5207616315270315, 0.6112339942029574, 0.6594412217474372, 0.6459835386269409], [0.7656622632108424, 0.8348850065316575, 0.20161190487693573, 0.9706685347605322, 0.8384245912063409], [0.5696932590847481, 0.06386535287104378, 0.3094861769699838, 0.2371009415384004, 1.1954968246797826]]}, {'time_anom_flags': 0, 'X_time_abs_recon_err': [[0.024855377072275642, 0.24470508224189422, 0.3638949896950205, 0.3910565175500551, 0.162160097659424], [0.20742128281946015, 0.8082983597057853, 1.5614348947707757, 0.9616461047283441, 0.0031869699494393444], [0.1368890733964414, 1.205864091457735, 1.2719463753057154, 1.114467669810961, 0.4230458486464006], [0.02288341424398843, 0.24798341006508398, 0.7040569354106224, 1.005612901330147, 0.25855642079815033], [0.06647912742131723, 1.102291535863043, 1.3459706900809552, 1.2500045532270265, 0.2992860725523778], [0.10731234042653615, 0.719110494015502, 0.5983246154058662, 0.3872978007229319, 0.1968989198784944], [0.3427767951963767, 1.1843004707119367, 0.36019784575599817, 1.856963203596053, 0.2706705121105202], [0.31930029872575527, 0.9677846868823106, 0.8571424453495183, 0.10387067561022778, 0.5173647653989879], [0.12384508040950193, 0.03569773329333727, 0.2953218700548138, 1.7133051447630405, 0.6428144713944282], [0.29822308979185674, 0.9086107800482665, 0.9516958490869584, 0.5984576418394396, 0.31776253187393055], [0.02342886958013346, 0.8556843435412433, 1.4590472778506696, 1.076499083255599, 0.30653713975581864], [0.49019696888413655, 0.1508797477475076, 0.3963605420750294, 1.3341611133020126, 0.7392954659641101], [0.1359552886251525, 1.3187254499746504, 1.4887586048166934, 0.6988641023530348, 0.015122265305997917], [0.10791486867066924, 1.0074687117088155, 1.8218605626132172, 1.5864227510103752, 0.12323689113387559], [0.30940976397928577, 0.9644849624354515, 0.3778148689615845, 0.26554463378426796, 0.643138959216751], [0.03990290159084964, 1.0297724198172382, 1.7859356327666995, 1.4842637607416762, 0.15143596459088837], [0.29361619353609525, 0.16395218058854777, 0.7976251914838166, 1.227991819377315, 0.9262431324840206], [0.2141551492387921, 0.4964577365253358, 0.6143304958643108, 0.8477115622700179, 0.5156103964240477], [0.0886526713533915, 1.2418200371093415, 1.2173204300547291, 0.9381695162830159, 0.4552960284776], [0.14664281212185837, 0.10265835818834608, 0.9709248462698783, 0.7963919089677752, 0.5735459921790996], [0.1838554834678039, 1.071681882712362, 0.7591939483580378, 1.307327641788949, 0.05012846617690647], [0.3251967553396532, 0.5683974075193756, 1.4067040086152822, 0.4576631387607195, 0.7297439915755597], [0.22754517629355608, 0.43617982051571647, 0.7334089658987066, 1.2060311497520577, 0.29541383477020977], [0.3622860333029206, 1.0331528974279764, 1.2460003294755984, 0.9925132821227967, 0.6923636635419264], [0.44548429482356966, 1.2151914424823884, 1.1235578999036024, 1.6246483640594676, 0.6075001916234644], [0.26893876511251835, 0.9095352296670236, 0.5091139571606978, 1.186232680993358, 0.2653440009468577], [0.6315390478712117, 1.0024484745468096, 0.5813506962160386, 0.333144407831853, 1.2020829072911057], [0.3443182995945997, 0.508216284075931, 1.4017922199150856, 1.3926347004345292, 0.2078878702559639], [0.5439070621163121, 0.8883275793262416, 0.5885532208990308, 0.46685495330071214, 1.0742163382446206], [0.06670802481554339, 1.1907068339087388, 1.4416097633049099, 1.433380588404718, 0.38726233775008656]], 'mahalanobis_dist_time': [2.281864556795561, 2.482255973785921, 1.343206250716177, 1.8681481819150279, 1.567143126545201, 1.5920742878753655, 3.0720064652196704, 1.692613593119777, 3.275967073451177, 1.3683163714097415, 1.8866068677988728, 2.7231097495339696, 2.291494315844996, 2.3472593330900895, 1.7425739272386376, 2.2735120706875693, 2.7238673481170386, 0.958048240809508, 1.7274951760980437, 2.21030782193731, 1.814859529513151, 1.9243047843320233, 1.19785221057445, 1.2300705158616418, 2.409772662119756, 1.527856047056116, 2.806636904779993, 2.7173240964941066, 2.2671248922381673, 2.0284490489375164], 'mahalanobis_dist_feat': [4.83922948976666, 5.234034239968314, 5.656418167101524, 5.486976255679197, 4.862254192463686], 'feat_anom_flags': 0, 'X_feat_abs_recon_err': [[0.22446449436152333, 0.21403433206459666, 0.4078531079716706, 0.45292914360875747, 0.09276148337652104], [0.42480104964448095, 0.35777066965890664, 0.5121663388562236, 0.006410108403765519, 0.3789721403327781], [0.10520708452373573, 1.1089059413819662, 1.5023671728078452, 0.9245258120297571, 0.4211371910708323], [0.03119087819702665, 0.3491460513142425, 0.22695289981953132, 0.4998082296188154, 0.6335111078206347], [0.3316870706100228, 0.9155291754575168, 1.7712405633181694, 0.935376286251218, 0.3859050177954694], [0.5639044292625227, 0.3905133191347531, 0.09624240154784153, 0.8288195116852837, 0.017852781647789973], [0.5023721918995183, 0.7573234685680266, 1.1172113899095621, 1.2616665031633052, 0.36464482217463023], [0.11586852564315564, 0.1466846886033354, 0.05926935362743896, 0.8921712243854234, 0.29919998262456543], [0.477195528975787, 0.5238457640421215, 0.5175256142327447, 1.1242988662822984, 0.3858729966762864], [0.4391830069341594, 0.0800376575517209, 0.15868958038119743, 0.11608344831649983, 0.31456145574712147], [0.015989467193057605, 1.3502553026050477, 0.6779889456865599, 0.4549471558622248, 0.1848707047957171], [0.27348866739218514, 0.4462353962852769, 0.4980324755240235, 1.1888332972907394, 0.4759160983475414], [0.10354321146709933, 1.5023614672718977, 1.1772639656118278, 0.47518606967977806, 0.041921476581374684], [0.28886724938127095, 0.8537232536113016, 1.3875456951601224, 1.8526316007044135, 0.15492112569414085], [0.3637422578448572, 0.8624970799386737, 0.23531338839989743, 0.3655919837665666, 0.6570729698000403], [0.49181149504828925, 0.6705121558444471, 1.1134692239371788, 2.02775040442687, 0.10574804180279118], [0.5714755110164316, 0.5514335101294888, 0.20198250833973697, 0.7639085429554549, 0.7097158660800303], [0.8645861635174836, 0.494800214567191, 0.42564940281258556, 0.9801788000213627, 0.32987387930633477], [0.39654022403679523, 1.6045414599338637, 0.5730156402914307, 0.48557763041150426, 0.20791150721837892], [0.6473078707852701, 0.30069038151093297, 0.5907593865416882, 0.4800785884415924, 0.5608113168846673], [0.031147941118184308, 1.3567006424112977, 0.17480799222200827, 0.8861921081678442, 0.3768356151594442], [0.6356298950235714, 0.06387974642478167, 0.6410525250358349, 1.1079772676929087, 0.6895542063414408], [0.29543102770080165, 0.5416606505782673, 1.07539538327902, 0.9908848697388085, 0.4193064130010865], [0.7742283869836812, 0.7926556416148474, 0.8431056286296895, 1.2612335832085648, 0.45635063060654507], [0.4541231901574432, 1.0508422049579216, 1.4539000538340043, 1.3708620030060459, 0.7345223222161541], [0.1453715311849635, 1.288913508771563, 0.28421643178092637, 0.9355656977260491, 0.046075776939590196], [0.25040124176875006, 0.7693893887250945, 0.8742896761543122, 0.1233311532327156, 1.3186960486724746], [0.03272764552263496, 0.5028355662194525, 0.4752472755714155, 0.5091947640501111, 0.12252265884778903], [0.15252152373652178, 0.5083410976076199, 0.21692915906655466, 0.8018760925489907, 1.128861079350945], [0.48509412062536583, 0.1602543056689526, 0.4808621559575876, 0.5612124965867487, 0.6923577260144516]]}, {'time_anom_flags': 0, 'X_time_abs_recon_err': [[0.14037809462623602, 0.3622583765414705, 0.2836905077792376, 0.06359058551607241, 0.24447187973832987], [0.10977850329169514, 0.8422752004065788, 0.9770690968882505, 1.0092698552006012, 0.14392784377476098], [0.12216536306365833, 1.4484039169404421, 1.0806649898107243, 0.4569558865392119, 0.28562057677358343], [0.23353440141811732, 0.7222919608361035, 0.19304841331779396, 1.2819004578467914, 0.1360044633657751], [0.04067908595088987, 1.4293144392887696, 1.3935442042946555, 1.1407979162135047, 0.23423342064261865], [0.09806784151781767, 0.5511446036430919, 0.831808954189525, 1.0052494922598778, 0.2921425426422102], [0.21660805665726435, 0.6454732266638241, 0.0737545493658637, 1.148396672129373, 0.6962144130151673], [0.2561103049516124, 1.0332919192397174, 1.654374990329142, 0.17598997647140532, 0.3158793507069945], [0.1331747110630519, 0.6203362621801596, 0.6198642969460597, 1.2077637216842938, 0.03416895251034713], [0.2933624350921895, 0.8895298125696378, 0.7927437643385127, 0.6047634687454575, 0.32526295681041684], [0.31396690416805906, 1.1335687941394974, 1.3524206183837484, 1.4647458087201797, 0.2118430208293246], [0.4118029099822642, 0.4252416709176612, 0.9609061783018031, 0.9011769341549227, 0.7126943081379573], [0.29422931515881645, 1.6477954800336538, 1.2271234681309893, 0.6797039755652381, 0.37736574917126825], [0.28210074102607097, 0.8297509851133835, 1.4264782258145388, 0.9926350256079598, 0.543963634661175], [0.1957159552448737, 0.0036501262288783105, 0.5327964033969915, 0.1796760973855584, 0.4095310177140192], [0.025055038230940685, 1.1293773266117897, 1.4129162616467312, 1.4123780627573004, 0.044000830171007754], [0.06305056387952135, 0.8826325262443032, 1.6677737245641213, 1.0841758675933222, 0.5018290640443015], [0.20056412073033458, 1.182756968520077, 0.10034107498702842, 1.3858853959737256, 0.6518179321010119], [0.06225348242659656, 1.4198924840339058, 1.4387303327350471, 0.8549499687753754, 0.4016377959190922], [0.2919796209173042, 0.40960548602761876, 0.551527423561587, 0.699725401481206, 0.8088136739729601], [0.19157905735022096, 0.615795729795397, 0.9300000054614516, 2.059773570924497, 0.13470530108144063], [0.2522019888452046, 0.8522434495973544, 1.899453612734247, 0.4410360239009432, 0.6558463550326634], [0.3991405668281176, 0.16340432034636565, 0.674050345349658, 1.0874676476801965, 0.6277790809376347], [0.15847039127481533, 1.1748750648462745, 0.4088716785608146, 0.6450260228206837, 0.2753724031929706], [0.7027679445147594, 0.43344833165893343, 1.1512508893100242, 0.968058132117928, 1.296897416845805], [0.2543722919725193, 0.2708932851907787, 0.29407549916451814, 0.52582843531272, 0.37242485219218335], [0.4752236955456257, 0.8184481017417955, 1.2590438288633652, 0.6752531207319308, 0.9021746328516308], [0.22985120645588797, 0.09446401576277917, 1.5947171550041528, 1.7610283548833727, 0.10076166507660944], [0.3277773764144667, 1.175341904143404, 0.10150401476760304, 0.03577675414082497, 0.6166518540784045], [0.2612439059789946, 0.7735415319837864, 1.1966418844613265, 1.5849850648135255, 1.0247819098155067]], 'mahalanobis_dist_time': [2.346414931679291, 0.9481387275800529, 1.9538381482499005, 2.136629024629263, 1.9950563876953293, 1.0122973677170517, 2.371534321725293, 2.4897346567395684, 1.519473857219518, 1.28495344846435, 2.2543521609700563, 1.6485659751868655, 2.1231753007953342, 1.2449351538371822, 2.367797315121151, 1.8686400397538259, 2.3724598706594278, 2.899585820677305, 2.125610430979107, 1.7642496602555537, 2.4556305671302434, 2.5204563273453524, 2.0297892534604087, 1.7898006055111129, 3.5868196147632054, 1.7377322957286085, 1.8753290431199539, 3.4145595203807413, 2.64634268814753, 3.2242811046015607], 'mahalanobis_dist_feat': [4.725509383315582, 6.353156229540802, 5.1350037067683, 6.825470905146441, 5.712039985608567], 'feat_anom_flags': 0, 'X_feat_abs_recon_err': [[0.17546431155624692, 0.3875412960824122, 0.31456246462258436, 0.026963862901978383, 0.19570001119939162], [0.034134724784406406, 0.3597809842924083, 0.08542056710395216, 0.01746368527359078, 0.7509039359079581], [0.5273770705479757, 1.4044747004466818, 1.369067873739801, 0.238670842339437, 0.5258128538658717], [0.5491739762205304, 0.08783321237128211, 0.20858356651829263, 0.847410451947262, 0.192196822054054], [0.3231228535468127, 1.3661949007063776, 1.886344966976543, 0.860362425522303, 0.3763164339536265], [0.2820331706343985, 0.32476100288007703, 0.3294575187660814, 1.336164407440679, 0.4852117400097301], [0.4679807180950879, 0.3984704409196955, 0.9042561549738206, 0.6396407151222233, 0.496326360556677], [0.39559089881388854, 0.27514313592439427, 0.6788079716772117, 0.9835966004018455, 0.11689266695123701], [0.2349069148929721, 0.9225740362993338, 0.297062146129206, 0.6664069502331926, 0.1202749760933498], [0.21710441156522914, 0.05110292029343225, 0.04013641238919348, 0.17957496040307117, 0.013983490535522149], [0.04097745433708311, 1.469954536908435, 0.4979977387535576, 0.9062544306952056, 0.36059634706748067], [0.32443930731667536, 0.04006726297187374, 1.0206958036088074, 0.7203768686131138, 0.4356302470277231], [0.500866162726534, 1.7634776605141746, 0.8607847833184905, 0.44854227247627176, 0.2403027788277815], [0.2720626304669993, 0.825691079573551, 0.894421238821088, 1.241143409851336, 0.45322651855307405], [0.5907468677374328, 0.0631797945535871, 0.39383872820273413, 0.2362890898139901, 0.2681129307311916], [0.4760155307458267, 0.9246868468822601, 0.6496953628097255, 1.9225037128996498, 0.11866095639591778], [0.7665901813851284, 1.1455664552011686, 1.0309859442129397, 0.6943733759124093, 0.13895087373230075], [0.1095011560640573, 1.2867054075545645, 0.29775255870573886, 1.4166016980577079, 0.786959661439876], [0.1884052156944025, 1.6349054280173716, 0.6725370565588782, 0.3821247784200781, 0.530567408291919], [0.12969392621672018, 0.001137939780404905, 0.12997407557560145, 0.31404152525678897, 1.1345130626530031], [0.4880159609503364, 0.7313413806258213, 0.281747879991181, 1.7280347148783848, 0.3318643228245832], [0.6550511361063801, 0.30329600482482716, 1.0930496608538434, 1.0612506269804836, 0.617224340798949], [0.4060476138801661, 0.1854855718890961, 1.0839537821422238, 0.9101982593301319, 0.7076486709876875], [0.4593455906258307, 1.0306254171188147, 0.05606415964095446, 0.9011690454198513, 0.1538002369310732], [1.0686046521965218, 0.3452559434044743, 1.5491950660614742, 0.6967884924255899, 1.1941035346087985], [0.16763352245933993, 0.7103510337513221, 0.12365294215667155, 0.29064982999419786, 0.2509138303742423], [1.0682225449843579, 0.6085967870942904, 1.6320590630174443, 0.37196522773741664, 0.5013125774792448], [0.21477032199136858, 0.9381515925058009, 0.6850066020854193, 0.8791195495797729, 0.38345637910952074], [0.031088546846923353, 0.7985179269273146, 0.4814247641938804, 0.37965963665739993, 0.6204554654043406], [0.5257795538315169, 0.26786455766640016, 0.222340834387163, 0.680834040572414, 1.4719359020419884]]}, {'time_anom_flags': 1, 'X_time_abs_recon_err': [[0.17700040803119838, 0.2029093101747148, 0.36866705962794444, 0.37874952360396785, 0.3206589123502438], [0.3106715093531598, 1.4479138250112125, 1.382036132201899, 1.3365078942066018, 0.11282069408068551], [0.15235157127019683, 1.055239176940033, 0.8557513702369153, 0.3219020264600474, 0.323927221399113], [0.05724700538145622, 0.5887917190090893, 0.058580168940564906, 1.1565402715956854, 0.15331789976537147], [0.0817537973812863, 1.6851200638598387, 1.589587887936826, 1.4758052662224928, 0.052450964918955845], [0.011970721362780101, 1.1217402699827104, 1.0173683399704367, 0.4850070501216074, 0.08376246455972591], [0.22737030482225662, 1.2462216870784977, 0.3167244439196699, 2.1052558317020043, 0.019102563643229487], [0.331022253404074, 1.285463484408263, 0.938738386342869, 0.30919421842098205, 0.4290601052556903], [0.03579702385358763, 0.3666551403922027, 0.6933121262959644, 1.649600624348867, 0.34144719815498725], [0.4017268324812233, 0.9869725474102561, 0.8761086733865807, 1.0027665483883648, 0.4418129925723], [0.2466566419090248, 0.5763063534894489, 1.5069469180116446, 0.8488945271161532, 0.16735665980396908], [0.35360279362798575, 0.1746272194605754, 0.2814135677249199, 1.1771911218225828, 0.47413548505649616], [0.3627015215527052, 1.0951918557608467, 1.5273478662660283, 0.8081704651969496, 0.4276332211031089], [0.06216250099937959, 0.7531349167659833, 1.112871779595045, 0.828836784579724, 0.14288356618296794], [0.31692169619539295, 0.7921067902867263, 0.1056098501917521, 0.5275045350093559, 0.76593337384168], [0.14346277602042568, 1.1840063318091036, 0.8540805723925032, 0.6771981669762919, 0.28119652018425567], [0.2798534286069929, 0.19001832804316052, 0.9982079271659967, 0.3976394037543863, 0.7427307226704407], [0.23023122427692322, 0.7656373286360847, 0.4815352223858218, 0.5449790285301473, 0.485482208444179], [0.05165511439050663, 1.576217330122917, 1.0338976349034361, 0.8954738402027916, 0.337268734245576], [0.11376993094107479, 0.17467525188335548, 1.1182725636142603, 0.3324154658138526, 0.42882544723117216], [0.07227831224587122, 0.5164645181198084, 0.6410200675703481, 2.053941558682922, 0.6297905820372445], [11.889107862121202, 0.9620636108432938, 15.239361022877258, 6.86283646298442, 20.407319662723875], [4.3695622822089675, 0.4764768829038326, 0.6394252354811698, 27.059299267573707, 14.502131352253002], [2.520989915001036, 28.185320930994035, 13.424029597187594, 13.119590223605154, 10.568545697419356], [7.439101087266565, 7.347574771879446, 32.26465237601242, 5.4291670733861555, 12.681832432102944], [0.712979474796466, 5.6025652512186594, 27.93361154149846, 18.143118766833112, 5.80981705381793], [9.347121900734326, 29.442051720896842, 5.533854236203098, 11.243116218647147, 16.87469929936466], [2.6831757521390287, 6.097988604362096, 8.858315045426012, 12.777158908688278, 3.3074663383918734], [2.0148937141825938, 2.33484745746732, 10.22789737217346, 10.24582241687722, 4.947750817620567], [7.635229723195735, 21.35265088166783, 34.30806019929432, 21.966177588666948, 7.628594996426585]], 'mahalanobis_dist_time': [1.9061026585852574, 2.748672499367672, 1.511496000067445, 2.107063934826605, 2.616994221220197, 1.99577886730507, 3.5196911678472076, 1.8742548339355476, 2.2963661483852866, 1.674365525223706, 2.2504291715307096, 2.112188077237578, 1.9207016817911722, 1.2641599406243413, 2.057526301166245, 1.2600903377000212, 2.174225025289733, 1.0873461938813567, 2.2886433529909556, 2.3793640752251535, 3.470694416713173, 87.9381129460345, 80.69906739623335, 77.01374518561069, 82.63991536040348, 69.00331712520402, 92.77087016600781, 35.13193111903077, 32.43194551293994, 99.66663841786584], 'mahalanobis_dist_feat': [239.18787570970647, 159.77000158313294, 194.25867175126237, 142.2464666132361, 138.6050454057618], 'feat_anom_flags': 1, 'X_feat_abs_recon_err': [[0.008936771611909396, 0.17233481316200394, 0.3242951772284452, 0.4403522124565379, 0.3833471633624759], [0.5295479729004048, 0.39260215233187534, 0.9260741387761524, 0.9834948105217665, 0.07164196317083367], [0.24895317290400132, 0.7005321906276872, 2.523561170124109, 1.3154706001904715, 0.36817326312768595], [0.2641743670996952, 0.22286856782095038, 0.7464380556058988, 1.9470495019179315, 0.43584231747558744], [0.511803563204591, 0.9973755922484959, 4.831654052594141, 1.6587080776983496, 0.06705828584759188], [0.3947174859973368, 0.45776193980124225, 1.3824958266125291, 2.817733640231733, 0.12950466758122914], [0.6017279517651706, 0.1146506624265673, 5.007377490875667, 2.448035691351506, 0.020830021309153235], [0.5464088617926077, 0.17821319205811814, 1.5939760811751313, 2.0918735529122747, 0.3041945719293089], [0.7431942542367946, 1.6358954199031404, 4.434070689916695, 3.313975999567134, 0.5157833332800336], [0.4846326240368968, 0.11766196700619617, 0.08388140280007139, 0.07659374020306825, 0.00744648137046686], [0.5546522750280864, 1.704973364706122, 2.8053623336594007, 3.332128358126112, 0.14086686057720788], [0.9595680550505494, 0.2307629251448975, 1.6019318982051831, 3.012795694230094, 0.09868947485056384], [0.18368232853786792, 1.588224062306706, 0.49164987999831733, 1.1478746920967176, 0.2729326459960826], [0.9178555090884124, 0.03878596856827232, 2.8776350987012753, 4.678048875523693, 0.2875869541984929], [0.48909947222440797, 0.5760005326531478, 0.8823035421823738, 0.21276348169050652, 0.8158793989105239], [0.6986243781891655, 0.19075805858618056, 3.385699441336965, 4.789986447531302, 0.34554604184812243], [0.8299867925396647, 1.0607763453893937, 2.2675347544223543, 2.7732490295994294, 0.7887154300172379], [0.43033441541892525, 0.41564391101913634, 1.7084912389608045, 2.6503160305605906, 0.6512570037845873], [0.7049514891228061, 2.6146257617810527, 3.341143204803118, 3.3409108330083135, 0.47401897671504223], [0.1375727053441619, 0.2722535281166317, 0.5318689666817276, 0.21815438512858398, 0.6829818004949857], [1.1243854734111935, 1.4595809389227892, 3.6114752460559196, 2.0623063380177813, 0.43435308887336954], [6.010162543113033, 0.11029758354241814, 12.88595247204014, 4.876403627904428, 22.969391655039864], [30.22841409159302, 0.5299881910513322, 1.203476724339438, 26.62623162217402, 1.7596603080427455], [4.608379188515254, 27.5620336579797, 10.80566186747951, 10.678258343066977, 9.83237024264195], [39.38930588991523, 8.597475082691055, 28.179156471356873, 11.124692906923881, 3.5711968665178366], [23.72271099530102, 5.1765338987856415, 25.316457605006473, 14.340430269528516, 17.257264495210535], [4.081047251178947, 29.571689372370003, 4.909525835832113, 11.355564509551154, 23.4044083888155], [17.300568597802098, 6.686749856544554, 9.267550239064981, 11.5792932413015, 3.614402564260693], [7.666507932344186, 2.966562651477787, 11.286661115102634, 8.701192471342203, 9.984589933935306], [33.08403646055193, 22.955573649783897, 31.997755448350837, 18.40383523111676, 5.755886129784593]]}, {'time_anom_flags': 1, 'X_time_abs_recon_err': [[0.09635950200580706, 0.3358739190865873, 0.005397251176964435, 0.03726004258839163, 0.1991400816977661], [0.26809832824427104, 1.3677628662207952, 1.4677693719728748, 0.7654034835421645, 0.14431484772944414], [0.002778157931470293, 0.8676085971445997, 0.7142583847357401, 0.8054435845705692, 0.12635866735734502], [0.05540354444794593, 0.05051240104566267, 0.735462537521629, 0.5654057207765801, 0.09457747276666473], [0.05428432193437982, 0.7741086213776187, 1.4261959492562053, 1.3592267017732005, 0.27466850993782543], [0.22460367168189055, 0.8296228237571039, 0.538181797933425, 0.9239016741758947, 0.5460262615067397], [0.1288066640642349, 1.2727255607938446, 0.7776173623207381, 1.9139708681622771, 0.6355418445922333], [0.39954692507467227, 0.8673225118669137, 1.0068694058430876, 0.4643225191217585, 0.7415733788632242], [0.19654446016953186, 0.6267927861032379, 0.3216370025564719, 1.5067916113927915, 0.06120049681922046], [0.37998047942436486, 1.3402338063872303, 0.6751950293437, 0.8914767647165414, 0.4287322071397225], [0.5156828279235413, 0.5796517096025459, 1.1021244913524415, 1.6284968015589456, 0.5801654516225782], [0.40369661996352746, 0.39166651095950433, 0.37633248950431014, 1.064383127876743, 0.598413547361546], [0.0950369483988448, 1.1748164563571273, 0.5724144305063401, 0.11929950830910781, 0.15277380864294288], [0.03839098619071146, 0.8811684763322456, 1.4435596546892073, 1.1041174605596822, 0.040477970523907114], [0.4113256083954498, 0.82951416075455, 0.48215265212610625, 0.40713191225113365, 0.8207560496480778], [0.28928853487525497, 1.4644201339024416, 1.428092741864857, 0.9455395891420468, 0.5516791424289137], [0.18842539085128207, 0.3452327633149998, 1.704288264934118, 0.8554891914808442, 0.7302680800882477], [0.35059989796081337, 0.35272959369981305, 0.6376693210411747, 0.945259609926653, 0.8112565978027633], [0.016083919757967857, 0.7576380099549429, 1.1897203226368598, 1.154703843762504, 0.3123610567601074], [0.38586430809150774, 0.3074129630880662, 0.6897957182912228, 0.7970386698146724, 0.9989665394320655], [0.07288603799621862, 0.7447474349015618, 0.960550017727991, 2.0026775358008293, 0.6451977824592476], [4.354263447228323, 4.834162638270463, 12.738105796595443, 9.192447684507556, 8.314921511417673], [6.1207475972137075, 0.10036360806083378, 0.24342791024523414, 28.100825591416186, 6.131749852390703], [6.717998003524318, 29.346042850776534, 20.889594552600162, 0.01746977656456361, 14.327950648402268], [10.288167457204796, 6.941203198369372, 23.613547814963553, 10.659193642367008, 20.45892949063729], [5.612152863310648, 2.436570156581534, 19.84261033582716, 19.23499609268577, 13.158058775835517], [9.151265355789434, 13.995775482146524, 3.2850487018904864, 26.176538593049344, 13.57881470024427], [0.5320979076704688, 6.730972991655473, 19.20401051307332, 5.340092611559324, 4.631201403579048], [9.395671317263842, 6.233156651906898, 5.643798368036151, 9.215458499457014, 17.596131736288257], [5.622436252781089, 12.820176752493099, 11.398244461379198, 29.999650919113954, 6.603005454531761]], 'mahalanobis_dist_time': [2.7647889962897607, 2.366161252962205, 1.6051476450927862, 2.266861936333071, 1.7506234174364503, 1.0021957902000396, 3.1364036905879296, 1.3118689395242267, 2.17936219294436, 2.0223054583427293, 2.966642640035074, 1.842017828490146, 2.433037701487281, 1.7294908408652978, 1.6485129037995714, 1.629107304968424, 2.90855945210862, 1.7411631532791452, 1.738106054618041, 2.2878919257915573, 3.3129119955290225, 43.154524347586396, 73.61363524208947, 79.75285587941232, 90.51357888837491, 73.8645327013874, 89.46373629511157, 42.00267208096754, 69.65997445624842, 78.68440342070774], 'mahalanobis_dist_feat': [187.05057562135076, 118.92364369257903, 157.11780091636996, 185.37295467262558, 125.5560657036028], 'feat_anom_flags': 1, 'X_feat_abs_recon_err': [[0.2092861947903935, 0.35462170074618454, 0.021784199072879103, 0.030536366851517463, 0.3854562136228038], [0.2524268802990838, 0.014427633779044963, 0.7393061007281152, 0.6227199878330216, 0.9059513631428312], [1.3931362629887578, 1.2792629253076717, 1.8276444658045135, 1.5136681108145158, 0.8450520650255186], [0.6146962048900133, 1.0060304577892492, 1.0233702168122774, 0.7746695020314562, 1.5023283865339956], [2.1675261437755866, 1.6004851609986979, 3.5682478916074727, 2.8634199399557794, 1.7729181341830662], [1.4045239214319774, 1.1986199478526203, 1.097701743753417, 0.07897373141786912, 2.0695419426453023], [2.547677832226749, 2.2531392731784003, 3.9179916636930496, 3.8463210500222527, 2.4303232975862863], [1.3061497918669267, 0.6282770531473332, 0.9014986874601791, 0.2116927489466096, 1.7222302213220233], [2.508316568162722, 0.4173826413870716, 3.0793200888119068, 3.6746260377459743, 3.5867625689833473], [0.11844226050074258, 0.5507075344579303, 0.19927839716652618, 0.23622607836264323, 0.43392712922852716], [2.602571272458396, 0.18964914981479808, 1.8071038266734383, 3.2854143711094856, 3.4292953882486015], [1.2804104898612678, 0.6160507161320892, 0.7458989578119144, 0.3479385964604199, 1.0845151369736206], [1.3608153290049236, 0.7580110860347578, 0.7762577548116747, 0.9596264910250805, 1.3492412679648897], [2.6170155425469983, 1.985067354811281, 1.1737933774807834, 0.8507552780383791, 2.6362536208307787], [0.3976841168412598, 0.9612594819654147, 0.024418877472803358, 0.06497462630781431, 0.18789138078970435], [2.794805752497421, 2.3948439613525827, 1.405474806033634, 0.843416411147856, 3.339997829864108], [1.6631952413907505, 0.20484446061098516, 0.5201441676795799, 2.046233664547084, 1.267795648497351], [1.6474433319670447, 1.0981190755934338, 0.7535611786548475, 0.3081324296714134, 2.5049004596886433], [2.2554133471411104, 0.19864125879239158, 1.7053486040743246, 3.0589421297230324, 2.6377851734239472], [0.24334898664897678, 0.6594470230726696, 0.172715976085646, 0.5375589165368427, 1.119285007943021], [1.8313573425189476, 0.2860607307944373, 1.8309219569119786, 3.9597267340312423, 2.562451646376586], [1.60030930709272, 4.756648139259743, 10.554716205796407, 9.184230857960976, 9.411778119228718], [19.84441863268388, 1.3915897806360369, 1.4731867677569253, 24.763924903315523, 4.073019911060615], [2.080776431679576, 28.948162344353367, 18.673740373706377, 0.34337288101946406, 16.27659941789433], [28.6260258599359, 5.964873863838883, 23.20062527809878, 7.558273253465073, 8.997949911557143], [15.308858145433565, 2.9169388354001935, 21.658750116927727, 18.34620786343776, 21.65952944371653], [6.5341558478811725, 14.08390358479618, 2.228340248033471, 25.96479181521599, 13.84514773877669], [12.60532873129644, 8.22345934980417, 20.522638004377892, 7.940973795729968, 2.5435440907627798], [15.010644814786861, 6.704107865276808, 6.420928655229056, 8.321842965308303, 14.757861299812705], [31.321145486752133, 12.323671481020801, 11.900794594355771, 28.240631022686866, 5.646878117125262]]}, {'time_anom_flags': 1, 'X_time_abs_recon_err': [[0.12871690065472585, 0.29124220867261863, 0.4506664067467439, 0.38110517675604855, 0.40008903812750973], [0.13978743571353758, 1.1806711069557836, 1.2811747673642147, 1.3505063674260245, 0.2062120082108384], [0.0795447113891602, 0.5256326604828716, 1.2186580671046319, 1.115837966204394, 0.2846729402446627], [0.2909847977793727, 0.5948057327882025, 0.49228514647359434, 1.0893454198685357, 0.2637386959856405], [0.030443044052051782, 1.6883904349308856, 0.9890796292752513, 0.8144932522021645, 0.20082476488840828], [0.31490815829500785, 1.0318436662325006, 0.7691126741948556, 0.03786251795969199, 0.5014269244560763], [0.13159352902739663, 0.8390005000508415, 0.7551160689704572, 1.425363522273054, 0.002898241796227441], [0.16749608249208525, 1.1709793085457643, 1.0583166663103032, 0.3937732288324217, 0.24633856966531884], [0.0652612899495657, 0.4201307605412577, 0.7527121962554515, 1.4523642302870972, 0.24501359327845829], [0.2008309478063185, 0.7669968077718197, 0.5311181749254043, 0.6022289949132065, 0.1766371725742532], [0.15596522159713921, 1.1756732750957026, 1.0625966329736463, 0.7429026316243172, 0.08627624068070716], [0.0792474363042015, 0.3665798641222525, 0.5965046352108625, 1.1409534832386072, 0.036588635118092294], [0.41129914708926285, 0.8164300382193223, 1.1663124723329779, 0.8019719629059211, 0.5529206681109448], [0.32049833102993297, 1.3291127320323823, 0.9806547850028796, 1.5908941366369382, 0.46557239737291], [0.32883755608226817, 0.3797485705693261, 0.19032813277745236, 0.5125648972649393, 0.8006185318328585], [0.08773770654008817, 1.2402048834606292, 1.7430428098981896, 0.8615902989099973, 0.10874394231958195], [0.015214877971310381, 0.7215745352303836, 1.1661190341037124, 0.8978472865856614, 0.2582627358824844], [0.052075721594497804, 0.9562669016752555, 0.6869236823645355, 1.1192318109435104, 0.01613623053473978], [0.09262080560060615, 0.9726933482499825, 1.8686531859199358, 1.4239842909696239, 0.6513065358113455], [0.421280708709847, 0.38586467688998566, 1.1484243087238106, 0.08349461829231, 0.9643045323603523], [0.3155218424768773, 0.7230584739642749, 0.9045269976190564, 1.1772828514340241, 0.30745602898062496], [6.544319029088367, 9.147337764433274, 12.965193902259797, 12.802098579242049, 14.701746818152893], [1.786348235182798, 9.712379525093342, 1.5621055340474088, 26.95842108340146, 1.5962660281108736], [10.553763855378183, 25.693370502666287, 17.628334263556074, 3.371148843473727, 19.43989169432223], [9.296125228046744, 0.5315809837415154, 14.74047612641724, 12.841371861913986, 14.057258202804622], [5.6969927509166425, 4.266818113605805, 11.295176645331985, 10.023852948503574, 7.7259995812586055], [1.412964160342569, 10.468171499321702, 14.158568156422897, 14.893572399615044, 8.028653328607186], [4.619421553719681, 3.462008686646815, 10.087028453039897, 11.350961909393895, 10.319887033429938], [5.002691359661554, 5.556883243581062, 0.24137285835532973, 7.8274220271771915, 11.380059455050098], [9.683542782167986, 19.004226888408095, 15.959665085121797, 42.876915921253314, 10.986629506781597]], 'mahalanobis_dist_time': [1.8602021136430544, 1.4100505627762476, 1.4673196633605408, 1.5775784196969393, 2.539879739146551, 1.874826029382635, 1.6990255130967145, 1.611883887463886, 1.639354952029333, 1.4893005736254998, 1.655805025599814, 1.6062862755806415, 1.5512500358242045, 2.004543823639688, 2.031808304492664, 2.158541501058324, 1.6192399489006248, 1.5393549522963228, 3.0506443543656667, 2.5719342346698806, 1.4510392569324726, 63.855974302596344, 59.49506427416153, 89.23295791151482, 75.56347240452929, 47.99432884253162, 52.397971289782355, 47.289856482775264, 44.065950263631315, 120.684824698912], 'mahalanobis_dist_feat': [186.04376500236881, 119.05236427832156, 111.92724835237938, 203.16485261352435, 136.48680647424118], 'feat_anom_flags': 1, 'X_feat_abs_recon_err': [[0.47445488018670817, 0.27319981443022406, 0.43616901331623864, 0.37812900057375204, 0.19589836598877353], [0.17224453301378162, 0.1043241322611871, 0.7143096348947175, 0.21805226746261988, 0.2169966422646002], [0.10518250276060276, 0.7142785538653116, 2.68666783802089, 1.280083289634682, 1.4654771626559655], [0.04493037228659755, 0.24475105334342553, 1.141670183708703, 0.3219290432954599, 1.1868875605890552], [0.8814552206230803, 2.0412177990051092, 3.9133940134942, 1.0864031374922567, 3.144715077369818], [0.6461277634401938, 1.0793470643723102, 1.3985502883700265, 0.03138121207277508, 1.3738650957723446], [1.0893419544840892, 1.1594716901931938, 4.987497966203651, 1.6355368638829384, 3.913915999394917], [0.7383178792066002, 0.6497220461248521, 1.323904982372031, 0.8957531679888507, 1.8581357699806813], [0.9341762742602506, 0.1034080379397086, 3.8597434513404245, 1.7013071821329577, 4.528595298850464], [0.2476302161753571, 0.05615895315210499, 0.40990382734185404, 0.16955745905866482, 0.33111774700490415], [0.313219141684172, 0.9887813523710762, 2.80323232832213, 0.8987470576389751, 3.1244066306212215], [0.7514744252264705, 0.3046258475901473, 1.08294929060566, 0.6078341859691694, 1.8467379536326212], [0.8153262822824217, 0.6806926823527553, 0.6452080327060403, 0.9147279096506509, 1.1923034226609293], [0.2172526581907417, 1.8501438309736238, 2.5908395445834516, 1.1297960537514589, 3.8071198032232063], [0.2108343656425228, 0.39682785950872085, 0.5129240991333035, 0.5371651882972099, 1.4810683665023996], [0.581427039231354, 1.5785585666535387, 2.0621292585593722, 0.5963256768221918, 3.250811909637091], [0.4956532917355334, 0.6109001298407581, 1.7814862202422406, 0.9522465753048057, 2.8530878163767515], [0.34061528755789466, 1.358656101725789, 1.2716827946688103, 0.7604350518075916, 1.9167217306117443], [0.5651472601111346, 0.6376191408514361, 2.054949578590926, 1.7054842895841098, 4.28297899454017], [0.9075823332415266, 0.7550705304566061, 0.6129930326978319, 0.19423479043417097, 1.1212830271702323], [0.8227946367951582, 0.3114933142880324, 2.915324252646372, 1.5085520568861719, 3.0905181465300067], [9.516884984891957, 9.056943978881963, 11.446458449833074, 11.334661409906408, 20.95655857324659], [12.202544642803408, 10.411470921983916, 0.7310073511783362, 25.38728236303882, 4.33165829491219], [6.182423855107431, 25.400630799172966, 15.46067763811036, 4.044073803724783, 19.580910696663874], [22.32169450102682, 0.4493617821950413, 11.988156198637334, 11.628305324245934, 5.845981520870267], [27.92971256447964, 5.713773819252386, 12.061552701553978, 14.252479992625098, 23.620931273393623], [2.2262652090745525, 10.347216593964799, 12.728899959707297, 14.488455957679058, 10.896236584103121], [16.303211362299432, 4.31957324127418, 9.9172825793174, 11.56250576645727, 4.467266753600275], [11.59926159412186, 5.771898039129285, 0.10960159411054282, 8.18732365620985, 8.312715244990745], [24.784606398943666, 19.72363420285337, 15.900804227997764, 42.20790305992991, 3.8707411532126095]]}, {'time_anom_flags': 0, 'X_time_abs_recon_err': [[0.09289800565729589, 0.25892691608016577, 0.003996000762161708, 0.4765834464512678, 0.09485020501401803], [0.21988934302082708, 1.2064904488683907, 1.06317756077557, 0.9218487591629064, 0.06736742473573698], [0.26797631837826774, 0.5585418198059814, 0.5719994219126432, 0.3152213019322235, 0.5611365382030228], [0.03326722221731515, 0.43921006101795096, 0.14746053334694326, 0.5495544320348632, 0.2195674353848796], [0.14356597473352561, 1.2556154698256812, 1.3781471925483262, 1.0296611535632214, 0.1614592210597714], [0.18289020967363775, 0.9345477764025053, 1.1591428939526909, 0.2340479298013463, 0.24229594145110916], [0.2566272569341579, 0.9463219906779228, 0.8382293212883647, 1.4138019838602458, 0.7610987700536869], [0.30146207910999456, 1.556287274895812, 1.1330534074971095, 0.40582691306014357, 0.31594800610560325], [0.04486508991124927, 0.5316768853490357, 0.5268414720156838, 2.020405154834782, 0.3766791425236524], [0.2574556178343372, 1.046091190666984, 0.8988945636232494, 0.46056281012292943, 0.2659039125324853], [0.016628239991689275, 1.5249462458670986, 1.9363473889946095, 1.090431714299327, 0.41178431699595086], [0.40338089072499117, 0.03865232016309152, 0.8256913182939027, 1.390060143766152, 0.5940593921211816], [0.36190092733734747, 1.0572593363795444, 1.3016082128552355, 0.39116279905272594, 0.538399888708663], [0.05860606823746406, 0.4808044904615939, 1.2736697999114026, 1.1404279169830005, 0.03593637202397082], [0.38199791184196535, 0.41140632226936413, 0.5582084699031402, 0.10962913558322965, 0.8155931756885015], [0.23733731773688782, 1.0319318665546675, 1.3191955468068064, 1.5465238675722017, 0.6084361769795255], [0.18027243492761036, 0.5474657273558123, 0.8343041687354331, 0.9012787793839496, 0.618195877573008], [0.30172963091968996, 1.0884366349606391, 0.09118830906261104, 0.7274442541146318, 0.7153690360103565], [0.16472972468838254, 1.3576535002896621, 0.9692859549659264, 1.1544854963929256, 0.6197810142092972], [0.26981687364656065, 0.44393690594157237, 0.7840302297595919, 0.7688942584883008, 0.8069211641864893], [0.2626961131411809, 0.7177080447423293, 0.25492190336499115, 1.3235882241716124, 0.24316724695144087], [0.20165939404004074, 0.946057704110796, 0.9456824358536962, 0.35307234756158573, 0.6234293955398694], [0.3814159635609635, 0.6977974836207775, 0.20979633767885913, 1.7581951336344437, 0.4367769268666243], [0.15508438866437124, 0.7911828747636899, 0.6856128661365468, 0.5355032454386237, 0.30540933687969174], [0.4868286537827531, 0.4182565604594262, 1.6278729813281683, 1.5503734257083877, 0.7973901068617641], [0.22539146264527, 0.9384715442017301, 0.07391150199411547, 1.2329820313751165, 0.23489248803544627], [0.6511586332102755, 0.7961023945203602, 0.7103885712480633, 0.6972465464230122, 1.1869453725145576], [0.22723178172425573, 0.5154681691009921, 1.105961350795274, 1.5134135500379207, 0.017884031018486235], [0.6434187712129362, 0.8118370664264035, 0.005567091651987176, 0.2464187292436445, 1.1876723123794253], [0.11400407701480031, 0.9642259860648293, 1.4630376767118851, 0.6903251547703708, 0.5796024442073039]], 'mahalanobis_dist_time': [2.4303383059740242, 1.954737138101446, 1.3606850537545805, 2.2023967783116247, 1.5407687763650149, 1.8157295613205389, 1.9431965252764938, 2.3297506351530832, 2.87772353549106, 1.5559277803112364, 2.9811536648937116, 2.564400642981108, 1.6644032026806674, 1.795753213043899, 2.039622745178961, 1.7971169154969295, 1.3940981563272985, 2.2654553920020843, 1.9892024204355088, 1.7539835857904402, 1.927177019323105, 1.4858673804948477, 2.7499651627400477, 1.0593641460584635, 3.2091149147595734, 2.2138117767830603, 2.797452198475358, 2.3739878817295854, 3.295659080567736, 2.017240010475735], 'mahalanobis_dist_feat': [5.2744788818185935, 5.7136495261435565, 6.244396458746482, 6.960543621836697, 6.211624209944349], 'feat_anom_flags': 0, 'X_feat_abs_recon_err': [[0.4613387723062182, 0.2723936561877313, 0.005804160659622332, 0.4957227771244985, 0.4050780329008464], [0.7055332544936952, 0.01744896175659416, 0.017705811790356615, 0.004182386150068815, 0.14334227002061764], [0.07001472487691152, 0.5367957580121958, 0.7684408032061434, 0.08279066762806181, 0.5805886260224906], [0.2156734666306639, 0.2292895987516559, 0.3710739547927497, 0.059822100139919815, 0.67700609837177], [0.4152862690504395, 1.2180859922816305, 1.7341995258966012, 0.6354708178080253, 0.05255558168911084], [0.37042655344949127, 0.7280118028767643, 0.7555748102137496, 0.6300623406574963, 0.5136677336090804], [0.5572293146949829, 0.7330695897260171, 1.4832117775589149, 0.738608647942679, 0.5547435544880329], [0.31315751796923985, 0.8145747333120624, 0.2404105770459633, 0.45924764155176834, 0.060066100426564295], [0.11706701772724593, 0.8084382899220999, 0.21590873850869796, 1.2449369070119585, 0.4639083615393502], [0.3945736581733434, 0.2038027106569807, 0.059641853161186816, 0.35193243151605985, 0.18136235350019556], [0.38956696362334853, 1.8298235170434296, 1.2512599731370107, 0.38882546757859127, 0.22911267648455058], [0.1811494270378693, 0.3518298527496318, 0.9507581131659582, 1.3501516973143708, 0.576716001826381], [0.022559066323794896, 1.1464897204542954, 1.0443905622953826, 0.1448378607458663, 0.6684273060099518], [0.01766176997139124, 0.5054981580269037, 0.9048741153054483, 1.5472833683858052, 0.0226917933902131], [0.36005715467733646, 0.34033544683361416, 0.42531066354286756, 0.23865993023955495, 0.8871197566455912], [0.37735430899421596, 0.8652261469209936, 0.7429152187665189, 2.1745242931315008, 0.610891164066745], [0.10574271977488459, 0.806127518896555, 0.27707770492015016, 0.3122130802705836, 0.6595164071181991], [0.09231796312625318, 1.216246707057512, 0.1766122087764665, 0.8149011927803462, 0.9935723571146572], [0.49247777122592873, 1.5288353789808302, 0.4072380069670496, 0.582400727675237, 0.474634909523295], [0.3014142326428877, 0.03907191136124645, 0.3815397147165606, 0.39632402543956907, 1.0357997504367145], [0.1674193690278054, 0.8161529247837658, 0.2557678954883803, 0.7690921007846756, 0.39838735973465444], [0.6082452846505029, 0.412729239524556, 0.22649468819811164, 0.34849325105523415, 0.5916497682876329], [0.7479206254891522, 0.6597645147811997, 0.5046411383636376, 1.4152729558241834, 0.32198935538797047], [0.5722265009869034, 0.6684667703027798, 0.332975248853908, 0.8785573953722354, 0.1358901333571308], [0.8293702803197327, 0.34671166501046935, 1.9342385965199087, 1.1967836192310857, 0.6972762310985419], [0.019650431180170957, 1.3947413445694243, 0.3258468681211808, 1.046075617198417, 0.031438430364436165], [0.30003377640533957, 0.6163973187057438, 0.9820575823194906, 0.4498119435385961, 1.2567031105043796], [0.6960759476841095, 0.5106788771177204, 0.19825532309832292, 0.7062207606319822, 0.057015434572936535], [0.8882370478299566, 0.4237147592783553, 0.3989184172160401, 0.16103503315259077, 0.9181840801139554], [1.0606733798559806, 0.06251237064084901, 0.5221188037073035, 0.13603680195737886, 0.6827366067725169]]}]}\n"
     ]
    }
   ],
   "source": [
    "# Send instance dictionary to receive response from ML-Engine for online prediction\n",
    "from googleapiclient import discovery\n",
    "from oauth2client.client import GoogleCredentials\n",
    "import json\n",
    "\n",
    "credentials = GoogleCredentials.get_application_default()\n",
    "api = discovery.build(\"ml\", \"v1\", credentials = credentials)\n",
    "\n",
    "request_data = {\"instances\": instances}\n",
    "\n",
    "parent = \"projects/%s/models/%s/versions/%s\" % (PROJECT, \"anomaly_detection_pca_labeled\", \"v1\")\n",
    "response = api.projects().predict(body = request_data, name = parent).execute()\n",
    "print(\"response = {}\".format(response))"
   ]
  },
  {
   "cell_type": "code",
   "execution_count": null,
   "metadata": {},
   "outputs": [],
   "source": []
  }
 ],
 "metadata": {
  "kernelspec": {
   "display_name": "Python 3",
   "language": "python",
   "name": "python3"
  },
  "language_info": {
   "codemirror_mode": {
    "name": "ipython",
    "version": 3
   },
   "file_extension": ".py",
   "mimetype": "text/x-python",
   "name": "python",
   "nbconvert_exporter": "python",
   "pygments_lexer": "ipython3",
   "version": "3.5.3"
  }
 },
 "nbformat": 4,
 "nbformat_minor": 4
}

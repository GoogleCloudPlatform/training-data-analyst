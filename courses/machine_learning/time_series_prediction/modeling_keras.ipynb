{
 "cells": [
  {
   "cell_type": "markdown",
   "metadata": {},
   "source": [
    "# Time Series Prediction\n",
    "\n",
    "Objectives\n",
    " - Learn how to build a Keras model for time series prediction and deploy on AI Platform\n",
    " \n",
    "In this lab we will build a custom Keras model"
   ]
  },
  {
   "cell_type": "code",
   "execution_count": null,
   "metadata": {},
   "outputs": [],
   "source": [
    "PROJECT = \"munn-sandbox\"  # Replace with your PROJECT\n",
    "BUCKET = \"munn-sandbox\"  # Replace with your BUCKET\n",
    "REGION = \"us-east1\"            # Choose an available region for Cloud MLE"
   ]
  },
  {
   "cell_type": "code",
   "execution_count": null,
   "metadata": {},
   "outputs": [],
   "source": [
    "import os\n",
    "os.environ[\"PROJECT\"] = PROJECT\n",
    "os.environ[\"BUCKET\"] = BUCKET\n",
    "os.environ[\"REGION\"] = REGION"
   ]
  },
  {
   "cell_type": "markdown",
   "metadata": {},
   "source": [
    "## Create data and make train/valid/test split"
   ]
  },
  {
   "cell_type": "code",
   "execution_count": null,
   "metadata": {},
   "outputs": [],
   "source": [
    "def create_query(phase, sample_size):\n",
    "    basequery = \"\"\"\n",
    "    SELECT\n",
    "      symbol,\n",
    "      Date,\n",
    "      Open,\n",
    "      Close,\n",
    "      tomorrow_close,\n",
    "      tomo_close_m_close,\n",
    "      close_MIN_prior_5_days,\n",
    "      close_MIN_prior_20_days,\n",
    "      close_MIN_prior_260_days,\n",
    "      close_MAX_prior_5_days,\n",
    "      close_MAX_prior_20_days,\n",
    "      close_MAX_prior_260_days,\n",
    "      close_AVG_prior_5_days,\n",
    "      close_AVG_prior_20_days,\n",
    "      close_AVG_prior_260_days,\n",
    "      close_STDDEV_prior_5_days,\n",
    "      close_STDDEV_prior_20_days,\n",
    "      close_STDDEV_prior_260_days,\n",
    "      direction\n",
    "    FROM\n",
    "      `munn-sandbox.stock_market.percent_change_sp500`\n",
    "    WHERE\n",
    "      tomorrow_close IS NOT NULL\n",
    "      AND tomo_close_m_close IS NOT NULL\n",
    "      AND MOD(ABS(FARM_FINGERPRINT(symbol)), EVERY_N) = 1\n",
    "    \"\"\"\n",
    "\n",
    "    if phase == \"TRAIN\":\n",
    "        subsample = \"\"\"\n",
    "        AND MOD(ABS(FARM_FINGERPRINT(symbol)), EVERY_N * 100) >= (EVERY_N * 0)\n",
    "        AND MOD(ABS(FARM_FINGERPRINT(symbol)), EVERY_N * 100) <  (EVERY_N * 70)\n",
    "        \"\"\"\n",
    "    elif phase == \"VALID\":\n",
    "        subsample = \"\"\"\n",
    "        AND MOD(ABS(FARM_FINGERPRINT(symbol)), EVERY_N * 100) >= (EVERY_N * 70)\n",
    "        AND MOD(ABS(FARM_FINGERPRINT(symbol)), EVERY_N * 100) <  (EVERY_N * 85)\n",
    "        \"\"\"\n",
    "    elif phase == \"TEST\":\n",
    "        subsample = \"\"\"\n",
    "        AND MOD(ABS(FARM_FINGERPRINT(symbol)), EVERY_N * 100) >= (EVERY_N * 85)\n",
    "        AND MOD(ABS(FARM_FINGERPRINT(symbol)), EVERY_N * 100) <  (EVERY_N * 100)\n",
    "        \"\"\"\n",
    "\n",
    "    query = basequery + subsample\n",
    "    return query.replace(\"EVERY_N\", sample_size)"
   ]
  },
  {
   "cell_type": "code",
   "execution_count": null,
   "metadata": {},
   "outputs": [],
   "source": [
    "from google.cloud import bigquery\n",
    "bq = bigquery.Client(project=PROJECT)\n",
    "\n",
    "for phase in [\"TRAIN\", \"VALID\", \"TEST\"]:\n",
    "    # 1. Create query string\n",
    "    query_string = create_query(phase, \"50\")\n",
    "    # 2. Load results into DataFrame\n",
    "    df = bq.query(query_string).to_dataframe()\n",
    "\n",
    "    # 3. Write DataFrame to CSV\n",
    "    df.to_csv(\"stock_market-{}.csv\".format(phase.lower()), index_label = False, index = False)\n",
    "    print(\"Wrote {} lines to {}\".format(len(df), \"stock_market-{}.csv\".format(phase.lower())))"
   ]
  },
  {
   "cell_type": "code",
   "execution_count": null,
   "metadata": {},
   "outputs": [],
   "source": [
    "!head *.csv"
   ]
  },
  {
   "cell_type": "code",
   "execution_count": null,
   "metadata": {},
   "outputs": [],
   "source": []
  },
  {
   "cell_type": "code",
   "execution_count": null,
   "metadata": {},
   "outputs": [],
   "source": []
  },
  {
   "cell_type": "code",
   "execution_count": null,
   "metadata": {},
   "outputs": [],
   "source": []
  },
  {
   "cell_type": "code",
   "execution_count": null,
   "metadata": {},
   "outputs": [],
   "source": []
  },
  {
   "cell_type": "code",
   "execution_count": null,
   "metadata": {},
   "outputs": [],
   "source": []
  },
  {
   "cell_type": "code",
   "execution_count": null,
   "metadata": {},
   "outputs": [],
   "source": []
  },
  {
   "cell_type": "code",
   "execution_count": null,
   "metadata": {},
   "outputs": [],
   "source": []
  }
 ],
 "metadata": {
  "kernelspec": {
   "display_name": "Python 3",
   "language": "python",
   "name": "python3"
  },
  "language_info": {
   "codemirror_mode": {
    "name": "ipython",
    "version": 3
   },
   "file_extension": ".py",
   "mimetype": "text/x-python",
   "name": "python",
   "nbconvert_exporter": "python",
   "pygments_lexer": "ipython3",
   "version": "3.6.8"
  }
 },
 "nbformat": 4,
 "nbformat_minor": 2
}
